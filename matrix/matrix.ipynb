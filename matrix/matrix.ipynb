{
 "cells": [
  {
   "cell_type": "markdown",
   "metadata": {
    "toc": true
   },
   "source": [
    "<h1>Содержание<span class=\"tocSkip\"></span></h1>\n",
    "<div class=\"toc\"><ul class=\"toc-item\"><li><span><a href=\"#Подготовка-данных\" data-toc-modified-id=\"Подготовка-данных-1\"><span class=\"toc-item-num\">1&nbsp;&nbsp;</span>Подготовка данных</a></span><ul class=\"toc-item\"><li><span><a href=\"#Импорт-всех-необходимых-библиотек\" data-toc-modified-id=\"Импорт-всех-необходимых-библиотек-1.1\"><span class=\"toc-item-num\">1.1&nbsp;&nbsp;</span>Импорт всех необходимых библиотек</a></span></li><li><span><a href=\"#Открытие-и-анализ-исходных-данных\" data-toc-modified-id=\"Открытие-и-анализ-исходных-данных-1.2\"><span class=\"toc-item-num\">1.2&nbsp;&nbsp;</span>Открытие и анализ исходных данных</a></span></li><li><span><a href=\"#Вывод\" data-toc-modified-id=\"Вывод-1.3\"><span class=\"toc-item-num\">1.3&nbsp;&nbsp;</span>Вывод</a></span></li></ul></li><li><span><a href=\"#Умножение-матриц\" data-toc-modified-id=\"Умножение-матриц-2\"><span class=\"toc-item-num\">2&nbsp;&nbsp;</span>Умножение матриц</a></span><ul class=\"toc-item\"><li><span><a href=\"#Обоснование\" data-toc-modified-id=\"Обоснование-2.1\"><span class=\"toc-item-num\">2.1&nbsp;&nbsp;</span>Обоснование</a></span></li><li><span><a href=\"#Вывод\" data-toc-modified-id=\"Вывод-2.2\"><span class=\"toc-item-num\">2.2&nbsp;&nbsp;</span>Вывод</a></span></li></ul></li><li><span><a href=\"#Алгоритм-преобразования\" data-toc-modified-id=\"Алгоритм-преобразования-3\"><span class=\"toc-item-num\">3&nbsp;&nbsp;</span>Алгоритм преобразования</a></span><ul class=\"toc-item\"><li><span><a href=\"#Алгоритм\" data-toc-modified-id=\"Алгоритм-3.1\"><span class=\"toc-item-num\">3.1&nbsp;&nbsp;</span>Алгоритм</a></span></li><li><span><a href=\"#Вывод\" data-toc-modified-id=\"Вывод-3.2\"><span class=\"toc-item-num\">3.2&nbsp;&nbsp;</span>Вывод</a></span></li></ul></li><li><span><a href=\"#Проверка-алгоритма\" data-toc-modified-id=\"Проверка-алгоритма-4\"><span class=\"toc-item-num\">4&nbsp;&nbsp;</span>Проверка алгоритма</a></span><ul class=\"toc-item\"><li><span><a href=\"#Создание-обратимой-матрицы\" data-toc-modified-id=\"Создание-обратимой-матрицы-4.1\"><span class=\"toc-item-num\">4.1&nbsp;&nbsp;</span>Создание обратимой матрицы</a></span></li><li><span><a href=\"#Выделение-признаков-из-исходных-данных\" data-toc-modified-id=\"Выделение-признаков-из-исходных-данных-4.2\"><span class=\"toc-item-num\">4.2&nbsp;&nbsp;</span>Выделение признаков из исходных данных</a></span></li><li><span><a href=\"#Умножение-матриц\" data-toc-modified-id=\"Умножение-матриц-4.3\"><span class=\"toc-item-num\">4.3&nbsp;&nbsp;</span>Умножение матриц</a></span></li><li><span><a href=\"#Обучение-и-проверка-моделей\" data-toc-modified-id=\"Обучение-и-проверка-моделей-4.4\"><span class=\"toc-item-num\">4.4&nbsp;&nbsp;</span>Обучение и проверка моделей</a></span></li><li><span><a href=\"#Вывод\" data-toc-modified-id=\"Вывод-4.5\"><span class=\"toc-item-num\">4.5&nbsp;&nbsp;</span>Вывод</a></span></li></ul></li><li><span><a href=\"#Чек-лист-проверки\" data-toc-modified-id=\"Чек-лист-проверки-5\"><span class=\"toc-item-num\">5&nbsp;&nbsp;</span>Чек-лист проверки</a></span></li></ul></div>"
   ]
  },
  {
   "cell_type": "markdown",
   "metadata": {},
   "source": [
    "# Защита персональных данных клиентов"
   ]
  },
  {
   "cell_type": "markdown",
   "metadata": {},
   "source": [
    "Вам нужно защитить данные клиентов страховой компании «Хоть потоп». Разработайте такой метод преобразования данных, чтобы по ним было сложно восстановить персональную информацию. Обоснуйте корректность его работы.\n",
    "\n",
    "Нужно защитить данные, чтобы при преобразовании качество моделей машинного обучения не ухудшилось. Подбирать наилучшую модель не требуется."
   ]
  },
  {
   "cell_type": "markdown",
   "metadata": {},
   "source": [
    "## Подготовка данных"
   ]
  },
  {
   "cell_type": "markdown",
   "metadata": {},
   "source": [
    "### Импорт всех необходимых библиотек"
   ]
  },
  {
   "cell_type": "code",
   "execution_count": 1,
   "metadata": {},
   "outputs": [],
   "source": [
    "import pandas as pd\n",
    "import numpy as np\n",
    "import seaborn as sb\n",
    "from matplotlib import pyplot as plt\n",
    "from sklearn.linear_model import LinearRegression\n",
    "from sklearn.metrics import r2_score"
   ]
  },
  {
   "cell_type": "markdown",
   "metadata": {},
   "source": [
    "###  Открытие и анализ исходных данных"
   ]
  },
  {
   "cell_type": "code",
   "execution_count": 2,
   "metadata": {},
   "outputs": [
    {
     "data": {
      "text/html": [
       "<div>\n",
       "<style scoped>\n",
       "    .dataframe tbody tr th:only-of-type {\n",
       "        vertical-align: middle;\n",
       "    }\n",
       "\n",
       "    .dataframe tbody tr th {\n",
       "        vertical-align: top;\n",
       "    }\n",
       "\n",
       "    .dataframe thead th {\n",
       "        text-align: right;\n",
       "    }\n",
       "</style>\n",
       "<table border=\"1\" class=\"dataframe\">\n",
       "  <thead>\n",
       "    <tr style=\"text-align: right;\">\n",
       "      <th></th>\n",
       "      <th>Пол</th>\n",
       "      <th>Возраст</th>\n",
       "      <th>Зарплата</th>\n",
       "      <th>Члены семьи</th>\n",
       "      <th>Страховые выплаты</th>\n",
       "    </tr>\n",
       "  </thead>\n",
       "  <tbody>\n",
       "    <tr>\n",
       "      <th>4990</th>\n",
       "      <td>0</td>\n",
       "      <td>22.0</td>\n",
       "      <td>56800.0</td>\n",
       "      <td>1</td>\n",
       "      <td>0</td>\n",
       "    </tr>\n",
       "    <tr>\n",
       "      <th>4991</th>\n",
       "      <td>0</td>\n",
       "      <td>21.0</td>\n",
       "      <td>38300.0</td>\n",
       "      <td>3</td>\n",
       "      <td>0</td>\n",
       "    </tr>\n",
       "    <tr>\n",
       "      <th>4992</th>\n",
       "      <td>0</td>\n",
       "      <td>45.0</td>\n",
       "      <td>54600.0</td>\n",
       "      <td>0</td>\n",
       "      <td>1</td>\n",
       "    </tr>\n",
       "    <tr>\n",
       "      <th>4993</th>\n",
       "      <td>1</td>\n",
       "      <td>32.0</td>\n",
       "      <td>36000.0</td>\n",
       "      <td>1</td>\n",
       "      <td>0</td>\n",
       "    </tr>\n",
       "    <tr>\n",
       "      <th>4994</th>\n",
       "      <td>1</td>\n",
       "      <td>26.0</td>\n",
       "      <td>51400.0</td>\n",
       "      <td>0</td>\n",
       "      <td>0</td>\n",
       "    </tr>\n",
       "    <tr>\n",
       "      <th>4995</th>\n",
       "      <td>0</td>\n",
       "      <td>28.0</td>\n",
       "      <td>35700.0</td>\n",
       "      <td>2</td>\n",
       "      <td>0</td>\n",
       "    </tr>\n",
       "    <tr>\n",
       "      <th>4996</th>\n",
       "      <td>0</td>\n",
       "      <td>34.0</td>\n",
       "      <td>52400.0</td>\n",
       "      <td>1</td>\n",
       "      <td>0</td>\n",
       "    </tr>\n",
       "    <tr>\n",
       "      <th>4997</th>\n",
       "      <td>0</td>\n",
       "      <td>20.0</td>\n",
       "      <td>33900.0</td>\n",
       "      <td>2</td>\n",
       "      <td>0</td>\n",
       "    </tr>\n",
       "    <tr>\n",
       "      <th>4998</th>\n",
       "      <td>1</td>\n",
       "      <td>22.0</td>\n",
       "      <td>32700.0</td>\n",
       "      <td>3</td>\n",
       "      <td>0</td>\n",
       "    </tr>\n",
       "    <tr>\n",
       "      <th>4999</th>\n",
       "      <td>1</td>\n",
       "      <td>28.0</td>\n",
       "      <td>40600.0</td>\n",
       "      <td>1</td>\n",
       "      <td>0</td>\n",
       "    </tr>\n",
       "  </tbody>\n",
       "</table>\n",
       "</div>"
      ],
      "text/plain": [
       "      Пол  Возраст  Зарплата  Члены семьи  Страховые выплаты\n",
       "4990    0     22.0   56800.0            1                  0\n",
       "4991    0     21.0   38300.0            3                  0\n",
       "4992    0     45.0   54600.0            0                  1\n",
       "4993    1     32.0   36000.0            1                  0\n",
       "4994    1     26.0   51400.0            0                  0\n",
       "4995    0     28.0   35700.0            2                  0\n",
       "4996    0     34.0   52400.0            1                  0\n",
       "4997    0     20.0   33900.0            2                  0\n",
       "4998    1     22.0   32700.0            3                  0\n",
       "4999    1     28.0   40600.0            1                  0"
      ]
     },
     "execution_count": 2,
     "metadata": {},
     "output_type": "execute_result"
    }
   ],
   "source": [
    "try:\n",
    "    data=pd.read_csv(r'.......csv', sep=',')\n",
    "    pd.set_option('display.max_columns', None) \n",
    "except:\n",
    "    data=pd.read_csv('........csv', sep=',')\n",
    "    pd.set_option('display.max_columns', None)\n",
    "\n",
    "data.tail(10)"
   ]
  },
  {
   "cell_type": "code",
   "execution_count": 3,
   "metadata": {},
   "outputs": [
    {
     "name": "stdout",
     "output_type": "stream",
     "text": [
      "<class 'pandas.core.frame.DataFrame'>\n",
      "RangeIndex: 5000 entries, 0 to 4999\n",
      "Data columns (total 5 columns):\n",
      " #   Column             Non-Null Count  Dtype  \n",
      "---  ------             --------------  -----  \n",
      " 0   Пол                5000 non-null   int64  \n",
      " 1   Возраст            5000 non-null   float64\n",
      " 2   Зарплата           5000 non-null   float64\n",
      " 3   Члены семьи        5000 non-null   int64  \n",
      " 4   Страховые выплаты  5000 non-null   int64  \n",
      "dtypes: float64(2), int64(3)\n",
      "memory usage: 195.4 KB\n"
     ]
    }
   ],
   "source": [
    "# Проверка наличия пропусков, типа данных и д.р.\n",
    "data.info()"
   ]
  },
  {
   "cell_type": "code",
   "execution_count": 4,
   "metadata": {},
   "outputs": [
    {
     "data": {
      "text/plain": [
       "153"
      ]
     },
     "execution_count": 4,
     "metadata": {},
     "output_type": "execute_result"
    }
   ],
   "source": [
    "#Проверка аличия явных дубликатов\n",
    "data.duplicated().sum()"
   ]
  },
  {
   "cell_type": "markdown",
   "metadata": {},
   "source": [
    "*Количество дубликатов позволяет удалить их без существенного ущерба для данных*"
   ]
  },
  {
   "cell_type": "code",
   "execution_count": 5,
   "metadata": {},
   "outputs": [
    {
     "data": {
      "text/plain": [
       "0"
      ]
     },
     "execution_count": 5,
     "metadata": {},
     "output_type": "execute_result"
    }
   ],
   "source": [
    "data=data.drop_duplicates()\n",
    "data.duplicated().sum()"
   ]
  },
  {
   "cell_type": "code",
   "execution_count": 6,
   "metadata": {},
   "outputs": [
    {
     "data": {
      "text/html": [
       "<div>\n",
       "<style scoped>\n",
       "    .dataframe tbody tr th:only-of-type {\n",
       "        vertical-align: middle;\n",
       "    }\n",
       "\n",
       "    .dataframe tbody tr th {\n",
       "        vertical-align: top;\n",
       "    }\n",
       "\n",
       "    .dataframe thead th {\n",
       "        text-align: right;\n",
       "    }\n",
       "</style>\n",
       "<table border=\"1\" class=\"dataframe\">\n",
       "  <thead>\n",
       "    <tr style=\"text-align: right;\">\n",
       "      <th></th>\n",
       "      <th>Пол</th>\n",
       "      <th>Возраст</th>\n",
       "      <th>Зарплата</th>\n",
       "      <th>Члены семьи</th>\n",
       "      <th>Страховые выплаты</th>\n",
       "    </tr>\n",
       "  </thead>\n",
       "  <tbody>\n",
       "    <tr>\n",
       "      <th>Пол</th>\n",
       "      <td>1.000000</td>\n",
       "      <td>0.001953</td>\n",
       "      <td>0.015456</td>\n",
       "      <td>-0.007315</td>\n",
       "      <td>0.011565</td>\n",
       "    </tr>\n",
       "    <tr>\n",
       "      <th>Возраст</th>\n",
       "      <td>0.001953</td>\n",
       "      <td>1.000000</td>\n",
       "      <td>-0.017386</td>\n",
       "      <td>-0.009064</td>\n",
       "      <td>0.654964</td>\n",
       "    </tr>\n",
       "    <tr>\n",
       "      <th>Зарплата</th>\n",
       "      <td>0.015456</td>\n",
       "      <td>-0.017386</td>\n",
       "      <td>1.000000</td>\n",
       "      <td>-0.031687</td>\n",
       "      <td>-0.013123</td>\n",
       "    </tr>\n",
       "    <tr>\n",
       "      <th>Члены семьи</th>\n",
       "      <td>-0.007315</td>\n",
       "      <td>-0.009064</td>\n",
       "      <td>-0.031687</td>\n",
       "      <td>1.000000</td>\n",
       "      <td>-0.039303</td>\n",
       "    </tr>\n",
       "    <tr>\n",
       "      <th>Страховые выплаты</th>\n",
       "      <td>0.011565</td>\n",
       "      <td>0.654964</td>\n",
       "      <td>-0.013123</td>\n",
       "      <td>-0.039303</td>\n",
       "      <td>1.000000</td>\n",
       "    </tr>\n",
       "  </tbody>\n",
       "</table>\n",
       "</div>"
      ],
      "text/plain": [
       "                        Пол   Возраст  Зарплата  Члены семьи  \\\n",
       "Пол                1.000000  0.001953  0.015456    -0.007315   \n",
       "Возраст            0.001953  1.000000 -0.017386    -0.009064   \n",
       "Зарплата           0.015456 -0.017386  1.000000    -0.031687   \n",
       "Члены семьи       -0.007315 -0.009064 -0.031687     1.000000   \n",
       "Страховые выплаты  0.011565  0.654964 -0.013123    -0.039303   \n",
       "\n",
       "                   Страховые выплаты  \n",
       "Пол                         0.011565  \n",
       "Возраст                     0.654964  \n",
       "Зарплата                   -0.013123  \n",
       "Члены семьи                -0.039303  \n",
       "Страховые выплаты           1.000000  "
      ]
     },
     "execution_count": 6,
     "metadata": {},
     "output_type": "execute_result"
    }
   ],
   "source": [
    "# Прверка зависимости признаков \n",
    "data.corr()"
   ]
  },
  {
   "cell_type": "code",
   "execution_count": 7,
   "metadata": {
    "scrolled": false
   },
   "outputs": [
    {
     "data": {
      "text/plain": [
       "<AxesSubplot:>"
      ]
     },
     "execution_count": 7,
     "metadata": {},
     "output_type": "execute_result"
    },
    {
     "data": {
      "image/png": "[encoded data removed]",
      "text/plain": [
       "<Figure size 1440x720 with 2 Axes>"
      ]
     },
     "metadata": {},
     "output_type": "display_data"
    }
   ],
   "source": [
    "sb.set(rc = {'figure.figsize':(20,10)})\n",
    "sb.heatmap(data.corr(),annot = True, fmt='.1g', vmin=-1, vmax=1, center= 0)"
   ]
  },
  {
   "cell_type": "markdown",
   "metadata": {},
   "source": [
    "*Существенной зависимости не обнаружено. Есть взаимосвязь признаков \"возраст\" и Страховые выплаты\", однако её значение не близко 1. С данными по этим характеристикам делать ничего не буду.*"
   ]
  },
  {
   "cell_type": "code",
   "execution_count": 8,
   "metadata": {
    "scrolled": false
   },
   "outputs": [
    {
     "data": {
      "text/plain": [
       "<Figure size 720x432 with 0 Axes>"
      ]
     },
     "metadata": {},
     "output_type": "display_data"
    },
    {
     "data": {
      "image/png": "[encoded data removed]",
      "text/plain": [
       "<Figure size 1440x720 with 1 Axes>"
      ]
     },
     "metadata": {},
     "output_type": "display_data"
    },
    {
     "data": {
      "text/plain": [
       "<Figure size 720x432 with 0 Axes>"
      ]
     },
     "metadata": {},
     "output_type": "display_data"
    },
    {
     "data": {
      "image/png": "[encoded data removed]",
      "text/plain": [
       "<Figure size 1440x720 with 1 Axes>"
      ]
     },
     "metadata": {},
     "output_type": "display_data"
    },
    {
     "data": {
      "text/plain": [
       "<Figure size 720x432 with 0 Axes>"
      ]
     },
     "metadata": {},
     "output_type": "display_data"
    },
    {
     "data": {
      "image/png": "[encoded data removed]",
      "text/plain": [
       "<Figure size 1440x720 with 1 Axes>"
      ]
     },
     "metadata": {},
     "output_type": "display_data"
    },
    {
     "data": {
      "text/plain": [
       "<Figure size 720x432 with 0 Axes>"
      ]
     },
     "metadata": {},
     "output_type": "display_data"
    },
    {
     "data": {
      "image/png": "[encoded data removed]",
      "text/plain": [
       "<Figure size 1440x720 with 1 Axes>"
      ]
     },
     "metadata": {},
     "output_type": "display_data"
    }
   ],
   "source": [
    "#Визуализирую признаки кроме пола\n",
    "columns = ['Возраст', 'Зарплата', 'Страховые выплаты', 'Члены семьи']\n",
    "for column in columns:\n",
    "    plt.figure(figsize=(10,6))\n",
    "    sb.displot(data[column], kind=\"hist\", bins=50, fill=True,  multiple=\"stack\", height=10, aspect=2,legend=False)\n",
    "    plt.title(f'Визуализация признаков: {column}', fontsize=22)\n",
    "\n",
    "    plt.show()"
   ]
  },
  {
   "cell_type": "markdown",
   "metadata": {},
   "source": [
    "### Вывод"
   ]
  },
  {
   "cell_type": "markdown",
   "metadata": {},
   "source": [
    "Исходные данные были проверены на наличие пропусков, дубликатов, мультиколлинеарности. Пропусков в таблице нет, дубликаты удалены. Других действий с исхдными данными не проводила."
   ]
  },
  {
   "cell_type": "markdown",
   "metadata": {},
   "source": [
    "## Умножение матриц"
   ]
  },
  {
   "cell_type": "markdown",
   "metadata": {},
   "source": [
    "В этом задании вы можете записывать формулы в *Jupyter Notebook.*\n",
    "\n",
    "Чтобы записать формулу внутри текста, окружите её символами доллара \\\\$; если снаружи —  двойными символами \\\\$\\\\$. Эти формулы записываются на языке вёрстки *LaTeX.* \n",
    "\n",
    "Для примера мы записали формулы линейной регрессии. Можете их скопировать и отредактировать, чтобы решить задачу.\n",
    "\n",
    "Работать в *LaTeX* необязательно."
   ]
  },
  {
   "cell_type": "markdown",
   "metadata": {},
   "source": [
    "Обозначения:\n",
    "\n",
    "- $X$ — матрица признаков (нулевой столбец состоит из единиц)\n",
    "\n",
    "- $y$ — вектор целевого признака\n",
    "\n",
    "- $P$ — матрица, на которую умножаются признаки\n",
    "\n",
    "- $w$ — вектор весов линейной регрессии (нулевой элемент равен сдвигу)"
   ]
  },
  {
   "cell_type": "markdown",
   "metadata": {},
   "source": [
    "Предсказания:\n",
    "\n",
    "$$\n",
    "a = Xw\n",
    "$$\n",
    "\n",
    "Задача обучения:\n",
    "\n",
    "$$\n",
    "w = \\arg\\min_w MSE(Xw, y)\n",
    "$$\n",
    "\n",
    "Формула обучения:\n",
    "\n",
    "$$\n",
    "w = (X^T X)^{-1} X^T y\n",
    "$$"
   ]
  },
  {
   "cell_type": "markdown",
   "metadata": {},
   "source": [
    "### Обоснование"
   ]
  },
  {
   "cell_type": "markdown",
   "metadata": {},
   "source": [
    "1. Для решение ответа на вопрос и обоснования получу предсказания для домноженных признаков. Предположу. что размерность признаков (Х) 4847х4 (как в исходных данных после удаления дубликатов), а матрицы, на которую умножаются признаки (Р) 4х4. В Этом случае формула предсказания будет вглядеть так:\n",
    "$$\n",
    "a = XРw\n",
    "$$"
   ]
  },
  {
   "cell_type": "markdown",
   "metadata": {},
   "source": [
    "2. Если формулу обучения для РХ подставить в формулу предсказания, получим:\n",
    "$$\n",
    "а_1 = ХР((XP)^T XP)^{-1} XP^T y\n",
    "$$"
   ]
  },
  {
   "cell_type": "markdown",
   "metadata": {},
   "source": [
    "3. В дальнейшем применю известные свойства матрицы:\n",
    "$$\n",
    "(A*B)^{-1} = B^{-1}*A^{-1}\n",
    "$$\n",
    "\n",
    "$$\n",
    "(A*B)^Т = B^Т*A^Т\n",
    "$$\n",
    "\n",
    "$$\n",
    "A*А^{-1} = Е\n",
    "$$\n",
    "\n",
    "$$\n",
    "АЕ=ЕА=А\n",
    "$$"
   ]
  },
  {
   "cell_type": "markdown",
   "metadata": {},
   "source": [
    "4. У учётом указанных свойст, аскроем скобки с транспонированием матриц\n",
    "\n",
    "$$\n",
    "а_1 = ХР(P^TХ^TXP)^{-1} P^TХ^T y\n",
    "$$"
   ]
  },
  {
   "cell_type": "markdown",
   "metadata": {},
   "source": [
    "5. Одно из свойств матриц позволяет группировать их внутри произведения различным образом. У нас в скобках матрицы Х (5000х4), Р (4х4), $Х^T$(4х5000) и $Р^T$ (4х4). Теперь группирую множитили ($Р^TХ^TХ$иР) таким образом, чтобы они стали кваратными матрицами, поскольку обратная матрица берётся только от квадратной:\n",
    "$$\n",
    "а_1 = ХРР^{-1}(P^TХ^TX)^{-1} P^TХ^Ty\n",
    "$$\n",
    "\n",
    "Далее, выделяю множители Р^TХ^T и Х:\n",
    "\n",
    "$$\n",
    "а_1 = ХРР^{-1}(Х^TX)^{-1}(P^T)^{-1} P^TХ^Ty\n",
    "$$"
   ]
  },
  {
   "cell_type": "markdown",
   "metadata": {},
   "source": [
    "6. $РР^{-1}$ и $(P^T)^{-1}P^T$ допустимо исключить, поскольку их произведения дают единичные матрицы:\n",
    "\n",
    "$$\n",
    "а_1 = Х(Х^TX)^{-1}Х^Ty\n",
    "$$\n"
   ]
  },
  {
   "cell_type": "markdown",
   "metadata": {},
   "source": [
    "7. Так как  $w = (X^T X)^{-1} X^T y$, получаем $а_1 = Хw$\n",
    "Т.е. преобразовав формулы получили исходную формулу предсказания"
   ]
  },
  {
   "cell_type": "markdown",
   "metadata": {},
   "source": [
    "### Вывод"
   ]
  },
  {
   "cell_type": "markdown",
   "metadata": {},
   "source": [
    "Исходя их приведённого обоснования предположу, что умножение признаков на обратимую матрицу, качество линейной регрессии не изменится"
   ]
  },
  {
   "cell_type": "markdown",
   "metadata": {},
   "source": [
    "## Алгоритм преобразования"
   ]
  },
  {
   "cell_type": "markdown",
   "metadata": {},
   "source": [
    "### Алгоритм"
   ]
  },
  {
   "cell_type": "markdown",
   "metadata": {},
   "source": [
    "1. В первую очередь создам случайную матрицу шифрования размером 4х4, на которую умножу предсказания. Размерность матрицы обусловлена тем, что количество строк новой матрицы должно быть равно количеству столбцов матрицы признаков.<br>\n",
    "Отмечу, что количество признаков в матрице признаков будет рано 4, поскольку я выделю целевой признак.<br>\n",
    "2. Матрицу шфрования создам с помощью `np.random.normal`. Обязательным условием является обратимость матрицы и исключение возможности случайного создания необратимой матрицы. Для этого проверю не равен ли её определитель нулю.<br> \n",
    "3. Обучу модель линейнй регрессии сначала на матрице исходных признаков, затем на новой матрице (признаки умноженные на обратимую).\n",
    "4. Качество моделей проверю метрикой R2."
   ]
  },
  {
   "cell_type": "markdown",
   "metadata": {},
   "source": [
    "### Вывод"
   ]
  },
  {
   "cell_type": "markdown",
   "metadata": {},
   "source": [
    "Так как в предыдущем шаге обосновано, что умножение на обратимую матрицу не не изменяет качество модели, метрики R2 в двух случая должны быть равны.\n"
   ]
  },
  {
   "cell_type": "markdown",
   "metadata": {},
   "source": [
    "## Проверка алгоритма"
   ]
  },
  {
   "cell_type": "markdown",
   "metadata": {},
   "source": [
    "### Создание обратимой матрицы"
   ]
  },
  {
   "cell_type": "code",
   "execution_count": 9,
   "metadata": {},
   "outputs": [],
   "source": [
    "state = np.random.RandomState(12345)"
   ]
  },
  {
   "cell_type": "code",
   "execution_count": 10,
   "metadata": {},
   "outputs": [
    {
     "data": {
      "text/plain": [
       "array([[ 1.42781248,  0.02415042, -0.58945814,  0.52069832],\n",
       "       [ 1.49923314,  2.90305742,  1.46052341, -0.5418685 ],\n",
       "       [ 1.10522725, -0.72452878,  0.06421204,  1.58162883],\n",
       "       [-0.7239919 ,  1.98334771,  0.81789884,  0.52805823]])"
      ]
     },
     "execution_count": 10,
     "metadata": {},
     "output_type": "execute_result"
    }
   ],
   "source": [
    "det = 0 # определитель\n",
    "matrix = 0\n",
    "while det == 0:\n",
    "    matrix = np.random.normal(size=(4, 4))\n",
    "    det = np.linalg.det(matrix)\n",
    "matrix"
   ]
  },
  {
   "cell_type": "code",
   "execution_count": 11,
   "metadata": {},
   "outputs": [
    {
     "data": {
      "text/plain": [
       "(4, 4)"
      ]
     },
     "execution_count": 11,
     "metadata": {},
     "output_type": "execute_result"
    }
   ],
   "source": [
    "matrix.shape"
   ]
  },
  {
   "cell_type": "markdown",
   "metadata": {},
   "source": [
    "### Выделение признаков из исходных данных"
   ]
  },
  {
   "cell_type": "code",
   "execution_count": 12,
   "metadata": {},
   "outputs": [
    {
     "data": {
      "text/html": [
       "<div>\n",
       "<style scoped>\n",
       "    .dataframe tbody tr th:only-of-type {\n",
       "        vertical-align: middle;\n",
       "    }\n",
       "\n",
       "    .dataframe tbody tr th {\n",
       "        vertical-align: top;\n",
       "    }\n",
       "\n",
       "    .dataframe thead th {\n",
       "        text-align: right;\n",
       "    }\n",
       "</style>\n",
       "<table border=\"1\" class=\"dataframe\">\n",
       "  <thead>\n",
       "    <tr style=\"text-align: right;\">\n",
       "      <th></th>\n",
       "      <th>Пол</th>\n",
       "      <th>Возраст</th>\n",
       "      <th>Зарплата</th>\n",
       "      <th>Члены семьи</th>\n",
       "    </tr>\n",
       "  </thead>\n",
       "  <tbody>\n",
       "    <tr>\n",
       "      <th>0</th>\n",
       "      <td>1</td>\n",
       "      <td>41.0</td>\n",
       "      <td>49600.0</td>\n",
       "      <td>1</td>\n",
       "    </tr>\n",
       "    <tr>\n",
       "      <th>1</th>\n",
       "      <td>0</td>\n",
       "      <td>46.0</td>\n",
       "      <td>38000.0</td>\n",
       "      <td>1</td>\n",
       "    </tr>\n",
       "    <tr>\n",
       "      <th>2</th>\n",
       "      <td>0</td>\n",
       "      <td>29.0</td>\n",
       "      <td>21000.0</td>\n",
       "      <td>0</td>\n",
       "    </tr>\n",
       "    <tr>\n",
       "      <th>3</th>\n",
       "      <td>0</td>\n",
       "      <td>21.0</td>\n",
       "      <td>41700.0</td>\n",
       "      <td>2</td>\n",
       "    </tr>\n",
       "    <tr>\n",
       "      <th>4</th>\n",
       "      <td>1</td>\n",
       "      <td>28.0</td>\n",
       "      <td>26100.0</td>\n",
       "      <td>0</td>\n",
       "    </tr>\n",
       "  </tbody>\n",
       "</table>\n",
       "</div>"
      ],
      "text/plain": [
       "   Пол  Возраст  Зарплата  Члены семьи\n",
       "0    1     41.0   49600.0            1\n",
       "1    0     46.0   38000.0            1\n",
       "2    0     29.0   21000.0            0\n",
       "3    0     21.0   41700.0            2\n",
       "4    1     28.0   26100.0            0"
      ]
     },
     "execution_count": 12,
     "metadata": {},
     "output_type": "execute_result"
    }
   ],
   "source": [
    "features=data.drop('Страховые выплаты', axis=1)\n",
    "features.head()"
   ]
  },
  {
   "cell_type": "code",
   "execution_count": 13,
   "metadata": {},
   "outputs": [
    {
     "data": {
      "text/plain": [
       "(4847, 4)"
      ]
     },
     "execution_count": 13,
     "metadata": {},
     "output_type": "execute_result"
    }
   ],
   "source": [
    "features.shape"
   ]
  },
  {
   "cell_type": "code",
   "execution_count": 14,
   "metadata": {},
   "outputs": [],
   "source": [
    "target = data['Страховые выплаты']"
   ]
  },
  {
   "cell_type": "code",
   "execution_count": 15,
   "metadata": {},
   "outputs": [
    {
     "data": {
      "text/plain": [
       "(4847,)"
      ]
     },
     "execution_count": 15,
     "metadata": {},
     "output_type": "execute_result"
    }
   ],
   "source": [
    "target.shape"
   ]
  },
  {
   "cell_type": "markdown",
   "metadata": {},
   "source": [
    "### Умножение матриц"
   ]
  },
  {
   "cell_type": "code",
   "execution_count": 16,
   "metadata": {},
   "outputs": [
    {
     "data": {
      "text/html": [
       "<div>\n",
       "<style scoped>\n",
       "    .dataframe tbody tr th:only-of-type {\n",
       "        vertical-align: middle;\n",
       "    }\n",
       "\n",
       "    .dataframe tbody tr th {\n",
       "        vertical-align: top;\n",
       "    }\n",
       "\n",
       "    .dataframe thead th {\n",
       "        text-align: right;\n",
       "    }\n",
       "</style>\n",
       "<table border=\"1\" class=\"dataframe\">\n",
       "  <thead>\n",
       "    <tr style=\"text-align: right;\">\n",
       "      <th></th>\n",
       "      <th>0</th>\n",
       "      <th>1</th>\n",
       "      <th>2</th>\n",
       "      <th>3</th>\n",
       "    </tr>\n",
       "  </thead>\n",
       "  <tbody>\n",
       "    <tr>\n",
       "      <th>0</th>\n",
       "      <td>54881.443744</td>\n",
       "      <td>-35815.594573</td>\n",
       "      <td>3245.027301</td>\n",
       "      <td>78427.622114</td>\n",
       "    </tr>\n",
       "    <tr>\n",
       "      <th>1</th>\n",
       "      <td>42066.876053</td>\n",
       "      <td>-27396.569603</td>\n",
       "      <td>2508.059661</td>\n",
       "      <td>60077.497646</td>\n",
       "    </tr>\n",
       "    <tr>\n",
       "      <th>2</th>\n",
       "      <td>23253.249912</td>\n",
       "      <td>-15130.915688</td>\n",
       "      <td>1390.808110</td>\n",
       "      <td>33198.491243</td>\n",
       "    </tr>\n",
       "    <tr>\n",
       "      <th>3</th>\n",
       "      <td>46118.012040</td>\n",
       "      <td>-30147.919172</td>\n",
       "      <td>2709.949039</td>\n",
       "      <td>65943.599087</td>\n",
       "    </tr>\n",
       "    <tr>\n",
       "      <th>4</th>\n",
       "      <td>28889.837442</td>\n",
       "      <td>-18828.891367</td>\n",
       "      <td>1716.239555</td>\n",
       "      <td>41265.860842</td>\n",
       "    </tr>\n",
       "  </tbody>\n",
       "</table>\n",
       "</div>"
      ],
      "text/plain": [
       "              0             1            2             3\n",
       "0  54881.443744 -35815.594573  3245.027301  78427.622114\n",
       "1  42066.876053 -27396.569603  2508.059661  60077.497646\n",
       "2  23253.249912 -15130.915688  1390.808110  33198.491243\n",
       "3  46118.012040 -30147.919172  2709.949039  65943.599087\n",
       "4  28889.837442 -18828.891367  1716.239555  41265.860842"
      ]
     },
     "execution_count": 16,
     "metadata": {},
     "output_type": "execute_result"
    }
   ],
   "source": [
    "new_matrix=features@matrix\n",
    "new_matrix.head()"
   ]
  },
  {
   "cell_type": "code",
   "execution_count": 17,
   "metadata": {
    "scrolled": true
   },
   "outputs": [
    {
     "data": {
      "text/plain": [
       "(4847, 4)"
      ]
     },
     "execution_count": 17,
     "metadata": {},
     "output_type": "execute_result"
    }
   ],
   "source": [
    "new_matrix.shape"
   ]
  },
  {
   "cell_type": "markdown",
   "metadata": {},
   "source": [
    "### Обучение и проверка моделей"
   ]
  },
  {
   "cell_type": "code",
   "execution_count": 18,
   "metadata": {},
   "outputs": [
    {
     "data": {
      "text/plain": [
       "('Метрика R2 для модели, обученной на исходных признаках:', 0.4302010044852067)"
      ]
     },
     "execution_count": 18,
     "metadata": {},
     "output_type": "execute_result"
    }
   ],
   "source": [
    "# Признаки из исходной таблицы с данными\n",
    "model_1=LinearRegression()\n",
    "model_1.fit(features, target)\n",
    "predictions = model_1.predict(features)\n",
    "'Метрика R2 для модели, обученной на исходных признаках:',r2_score(target, predictions)"
   ]
  },
  {
   "cell_type": "code",
   "execution_count": 19,
   "metadata": {},
   "outputs": [
    {
     "data": {
      "text/plain": [
       "('Метрика R2 для модели, обученной на шифрованных данных:', 0.4302010044852087)"
      ]
     },
     "execution_count": 19,
     "metadata": {},
     "output_type": "execute_result"
    }
   ],
   "source": [
    "# Признаки из зашифрованной матрицы\n",
    "model_2=LinearRegression()\n",
    "model_2.fit(new_matrix, target)\n",
    "predictions_new = model_2.predict(new_matrix)\n",
    "'Метрика R2 для модели, обученной на шифрованных данных:',r2_score(target, predictions_new)"
   ]
  },
  {
   "cell_type": "code",
   "execution_count": 20,
   "metadata": {},
   "outputs": [
    {
     "data": {
      "text/plain": [
       "('Округлённая метрика R2 для модели, обученной на исходных признаках:', 0.43)"
      ]
     },
     "execution_count": 20,
     "metadata": {},
     "output_type": "execute_result"
    }
   ],
   "source": [
    "'Округлённая метрика R2 для модели, обученной на исходных признаках:',r2_score(target, predictions).round(3)"
   ]
  },
  {
   "cell_type": "code",
   "execution_count": 21,
   "metadata": {},
   "outputs": [
    {
     "data": {
      "text/plain": [
       "('Округлённая метрика R2 для модели, обученной на шифрованных данных:', 0.43)"
      ]
     },
     "execution_count": 21,
     "metadata": {},
     "output_type": "execute_result"
    }
   ],
   "source": [
    "'Округлённая метрика R2 для модели, обученной на шифрованных данных:',r2_score(target, predictions_new).round(3)"
   ]
  },
  {
   "cell_type": "markdown",
   "metadata": {},
   "source": [
    "### Вывод"
   ]
  },
  {
   "cell_type": "markdown",
   "metadata": {},
   "source": [
    "Созданная шифрованная матрица (посредством произведения признаков на обратимую матрицу) по размеру соотвествует признакам исходного датасента.<br>\n",
    "Модель линейной регрессии была обучена сначала на данных из представленного датасента, затем на данных новой матрицы. Качество моделей проверялось метрикой R2. Исходя из значения метрики, качество одинаковое. Это указывает на то, что качество модели не страдает при умножении признаков на обратимую матрицу.<br>\n",
    "В результате шифрования данные клиентов страховой компании, качество предсказываний не изменилось. А значит выбранный метод преобразования данны подходт для выполнени задания."
   ]
  }
 ],
 "metadata": {
  "ExecuteTimeLog": [
   {
    "duration": 458,
    "start_time": "2022-04-09T16:31:40.076Z"
   },
   {
    "duration": 21,
    "start_time": "2022-04-09T16:31:42.698Z"
   },
   {
    "duration": 38,
    "start_time": "2022-04-09T16:31:48.380Z"
   },
   {
    "duration": 29,
    "start_time": "2022-04-09T16:31:59.905Z"
   },
   {
    "duration": 34,
    "start_time": "2022-04-09T16:32:05.440Z"
   },
   {
    "duration": 17,
    "start_time": "2022-04-09T16:32:31.964Z"
   },
   {
    "duration": 372,
    "start_time": "2022-04-10T09:38:47.997Z"
   },
   {
    "duration": 26,
    "start_time": "2022-04-10T09:38:50.729Z"
   },
   {
    "duration": 11,
    "start_time": "2022-04-10T09:38:53.591Z"
   },
   {
    "duration": 10,
    "start_time": "2022-04-10T09:38:54.334Z"
   },
   {
    "duration": 83,
    "start_time": "2022-04-10T11:48:36.783Z"
   },
   {
    "duration": 90,
    "start_time": "2022-04-10T11:48:41.268Z"
   },
   {
    "duration": 9,
    "start_time": "2022-04-10T11:50:49.954Z"
   },
   {
    "duration": 895,
    "start_time": "2022-04-10T11:51:21.411Z"
   },
   {
    "duration": 420,
    "start_time": "2022-04-10T11:51:46.241Z"
   },
   {
    "duration": 408,
    "start_time": "2022-04-10T11:52:16.036Z"
   },
   {
    "duration": 409,
    "start_time": "2022-04-10T11:52:23.235Z"
   },
   {
    "duration": 411,
    "start_time": "2022-04-10T11:54:37.205Z"
   },
   {
    "duration": 414,
    "start_time": "2022-04-10T11:54:44.523Z"
   },
   {
    "duration": 455,
    "start_time": "2022-04-10T11:55:16.430Z"
   },
   {
    "duration": 106,
    "start_time": "2022-04-10T12:00:19.999Z"
   },
   {
    "duration": 13,
    "start_time": "2022-04-10T12:00:23.400Z"
   },
   {
    "duration": 22,
    "start_time": "2022-04-10T12:00:40.206Z"
   },
   {
    "duration": 8,
    "start_time": "2022-04-10T12:01:51.335Z"
   },
   {
    "duration": 7,
    "start_time": "2022-04-10T12:01:55.600Z"
   },
   {
    "duration": 6,
    "start_time": "2022-04-10T12:04:50.846Z"
   },
   {
    "duration": 11,
    "start_time": "2022-04-10T12:05:39.498Z"
   },
   {
    "duration": 7,
    "start_time": "2022-04-10T12:05:44.914Z"
   },
   {
    "duration": 6,
    "start_time": "2022-04-10T12:06:53.203Z"
   },
   {
    "duration": 10,
    "start_time": "2022-04-10T12:07:10.408Z"
   },
   {
    "duration": 9,
    "start_time": "2022-04-10T12:07:54.109Z"
   },
   {
    "duration": 10,
    "start_time": "2022-04-10T12:08:09.328Z"
   },
   {
    "duration": 9,
    "start_time": "2022-04-10T12:08:14.799Z"
   },
   {
    "duration": 5,
    "start_time": "2022-04-10T12:08:35.441Z"
   },
   {
    "duration": 11,
    "start_time": "2022-04-10T12:08:57.692Z"
   },
   {
    "duration": 5,
    "start_time": "2022-04-10T12:10:32.095Z"
   },
   {
    "duration": 8,
    "start_time": "2022-04-10T12:10:40.907Z"
   },
   {
    "duration": 8,
    "start_time": "2022-04-10T12:11:26.928Z"
   },
   {
    "duration": 12,
    "start_time": "2022-04-10T12:11:27.354Z"
   },
   {
    "duration": 399,
    "start_time": "2022-04-10T12:11:28.472Z"
   },
   {
    "duration": 12,
    "start_time": "2022-04-10T12:16:00.216Z"
   },
   {
    "duration": 11,
    "start_time": "2022-04-10T12:16:21.082Z"
   },
   {
    "duration": 13,
    "start_time": "2022-04-10T12:16:29.546Z"
   },
   {
    "duration": 12,
    "start_time": "2022-04-10T12:16:55.809Z"
   },
   {
    "duration": 2065,
    "start_time": "2022-04-10T12:17:01.471Z"
   },
   {
    "duration": 1977,
    "start_time": "2022-04-10T12:17:33.376Z"
   },
   {
    "duration": 2121,
    "start_time": "2022-04-10T12:17:42.606Z"
   },
   {
    "duration": 1354,
    "start_time": "2022-04-11T11:20:53.965Z"
   },
   {
    "duration": 79,
    "start_time": "2022-04-11T11:20:55.321Z"
   },
   {
    "duration": 11,
    "start_time": "2022-04-11T11:20:55.402Z"
   },
   {
    "duration": 12,
    "start_time": "2022-04-11T11:20:55.415Z"
   },
   {
    "duration": 9,
    "start_time": "2022-04-11T11:20:55.429Z"
   },
   {
    "duration": 13,
    "start_time": "2022-04-11T11:20:55.439Z"
   },
   {
    "duration": 458,
    "start_time": "2022-04-11T11:20:55.454Z"
   },
   {
    "duration": 1986,
    "start_time": "2022-04-11T11:20:55.914Z"
   },
   {
    "duration": 5,
    "start_time": "2022-04-11T11:25:54.435Z"
   },
   {
    "duration": 4,
    "start_time": "2022-04-11T11:28:27.175Z"
   },
   {
    "duration": 10,
    "start_time": "2022-04-11T11:28:37.227Z"
   },
   {
    "duration": 4,
    "start_time": "2022-04-11T11:28:55.618Z"
   },
   {
    "duration": 3,
    "start_time": "2022-04-11T11:30:38.987Z"
   },
   {
    "duration": 4,
    "start_time": "2022-04-11T11:30:56.782Z"
   },
   {
    "duration": 96,
    "start_time": "2022-04-11T11:33:06.599Z"
   },
   {
    "duration": 5,
    "start_time": "2022-04-11T11:33:24.442Z"
   },
   {
    "duration": 6,
    "start_time": "2022-04-11T11:33:39.194Z"
   },
   {
    "duration": 4,
    "start_time": "2022-04-11T11:33:59.408Z"
   },
   {
    "duration": 10,
    "start_time": "2022-04-11T11:35:26.312Z"
   },
   {
    "duration": 4,
    "start_time": "2022-04-11T11:35:31.983Z"
   },
   {
    "duration": 394,
    "start_time": "2022-04-11T11:40:37.321Z"
   },
   {
    "duration": 128,
    "start_time": "2022-04-11T11:44:22.619Z"
   },
   {
    "duration": 30,
    "start_time": "2022-04-11T11:44:36.159Z"
   },
   {
    "duration": 18,
    "start_time": "2022-04-11T11:44:41.751Z"
   },
   {
    "duration": 17,
    "start_time": "2022-04-11T11:44:46.932Z"
   },
   {
    "duration": 3,
    "start_time": "2022-04-11T11:45:01.082Z"
   },
   {
    "duration": 11,
    "start_time": "2022-04-11T11:45:05.831Z"
   },
   {
    "duration": 19,
    "start_time": "2022-04-11T11:46:05.181Z"
   },
   {
    "duration": 12,
    "start_time": "2022-04-11T11:47:09.300Z"
   },
   {
    "duration": 11,
    "start_time": "2022-04-11T11:48:40.458Z"
   },
   {
    "duration": 10,
    "start_time": "2022-04-11T11:48:57.954Z"
   },
   {
    "duration": 12,
    "start_time": "2022-04-11T11:49:04.771Z"
   },
   {
    "duration": 13,
    "start_time": "2022-04-11T11:49:14.758Z"
   },
   {
    "duration": 11,
    "start_time": "2022-04-11T11:49:33.936Z"
   },
   {
    "duration": 12,
    "start_time": "2022-04-11T11:49:38.812Z"
   },
   {
    "duration": 5,
    "start_time": "2022-04-11T11:50:27.336Z"
   },
   {
    "duration": 6,
    "start_time": "2022-04-11T11:51:13.003Z"
   },
   {
    "duration": 1439,
    "start_time": "2022-04-11T11:58:29.543Z"
   },
   {
    "duration": 82,
    "start_time": "2022-04-11T11:58:30.984Z"
   },
   {
    "duration": 11,
    "start_time": "2022-04-11T11:58:31.069Z"
   },
   {
    "duration": 9,
    "start_time": "2022-04-11T11:58:31.082Z"
   },
   {
    "duration": 11,
    "start_time": "2022-04-11T11:58:31.093Z"
   },
   {
    "duration": 15,
    "start_time": "2022-04-11T11:58:31.105Z"
   },
   {
    "duration": 483,
    "start_time": "2022-04-11T11:58:31.122Z"
   },
   {
    "duration": 2079,
    "start_time": "2022-04-11T11:58:31.607Z"
   },
   {
    "duration": 5,
    "start_time": "2022-04-11T11:58:33.688Z"
   },
   {
    "duration": 6,
    "start_time": "2022-04-11T11:58:33.696Z"
   },
   {
    "duration": 11,
    "start_time": "2022-04-11T11:58:33.704Z"
   },
   {
    "duration": 31,
    "start_time": "2022-04-11T11:58:33.717Z"
   },
   {
    "duration": 7,
    "start_time": "2022-04-11T11:58:33.750Z"
   },
   {
    "duration": 11,
    "start_time": "2022-04-11T11:58:33.758Z"
   },
   {
    "duration": 11,
    "start_time": "2022-04-11T11:58:33.771Z"
   },
   {
    "duration": 6,
    "start_time": "2022-04-11T11:58:33.783Z"
   },
   {
    "duration": 60,
    "start_time": "2022-04-11T11:58:33.790Z"
   },
   {
    "duration": 98,
    "start_time": "2022-04-11T11:58:33.851Z"
   },
   {
    "duration": 100,
    "start_time": "2022-04-11T11:58:33.951Z"
   },
   {
    "duration": 8,
    "start_time": "2022-04-11T11:58:34.053Z"
   },
   {
    "duration": 43,
    "start_time": "2022-04-11T19:16:14.634Z"
   },
   {
    "duration": 1601,
    "start_time": "2022-04-11T19:16:29.275Z"
   },
   {
    "duration": 107,
    "start_time": "2022-04-11T19:16:30.878Z"
   },
   {
    "duration": 11,
    "start_time": "2022-04-11T19:16:30.987Z"
   },
   {
    "duration": 16,
    "start_time": "2022-04-11T19:16:31.000Z"
   },
   {
    "duration": 37,
    "start_time": "2022-04-11T19:16:31.018Z"
   },
   {
    "duration": 41,
    "start_time": "2022-04-11T19:16:31.057Z"
   },
   {
    "duration": 514,
    "start_time": "2022-04-11T19:16:31.100Z"
   },
   {
    "duration": 1971,
    "start_time": "2022-04-11T19:16:31.616Z"
   },
   {
    "duration": 5,
    "start_time": "2022-04-11T19:16:33.588Z"
   },
   {
    "duration": 5,
    "start_time": "2022-04-11T19:16:33.595Z"
   },
   {
    "duration": 22,
    "start_time": "2022-04-11T19:16:33.602Z"
   },
   {
    "duration": 4,
    "start_time": "2022-04-11T19:16:33.625Z"
   },
   {
    "duration": 5,
    "start_time": "2022-04-11T19:16:33.630Z"
   },
   {
    "duration": 7,
    "start_time": "2022-04-11T19:16:33.636Z"
   },
   {
    "duration": 14,
    "start_time": "2022-04-11T19:16:33.644Z"
   },
   {
    "duration": 3,
    "start_time": "2022-04-11T19:16:33.660Z"
   },
   {
    "duration": 164,
    "start_time": "2022-04-11T19:16:33.665Z"
   },
   {
    "duration": 10,
    "start_time": "2022-04-11T19:16:33.830Z"
   },
   {
    "duration": 95,
    "start_time": "2022-04-11T19:16:33.842Z"
   },
   {
    "duration": 5,
    "start_time": "2022-04-11T19:16:34.024Z"
   },
   {
    "duration": 386,
    "start_time": "2022-04-11T19:16:53.209Z"
   },
   {
    "duration": 479,
    "start_time": "2022-04-11T19:17:00.275Z"
   },
   {
    "duration": 3,
    "start_time": "2022-04-11T19:21:25.183Z"
   },
   {
    "duration": 94,
    "start_time": "2022-04-11T19:22:09.270Z"
   },
   {
    "duration": 5,
    "start_time": "2022-04-11T19:22:14.836Z"
   },
   {
    "duration": 1406,
    "start_time": "2022-04-11T19:24:02.051Z"
   },
   {
    "duration": 91,
    "start_time": "2022-04-11T19:24:03.459Z"
   },
   {
    "duration": 10,
    "start_time": "2022-04-11T19:24:03.552Z"
   },
   {
    "duration": 7,
    "start_time": "2022-04-11T19:24:03.564Z"
   },
   {
    "duration": 9,
    "start_time": "2022-04-11T19:24:03.572Z"
   },
   {
    "duration": 9,
    "start_time": "2022-04-11T19:24:03.583Z"
   },
   {
    "duration": 439,
    "start_time": "2022-04-11T19:24:03.593Z"
   },
   {
    "duration": 1934,
    "start_time": "2022-04-11T19:24:04.034Z"
   },
   {
    "duration": 2,
    "start_time": "2022-04-11T19:24:05.970Z"
   },
   {
    "duration": 10,
    "start_time": "2022-04-11T19:24:05.975Z"
   },
   {
    "duration": 5,
    "start_time": "2022-04-11T19:24:05.987Z"
   },
   {
    "duration": 11,
    "start_time": "2022-04-11T19:24:05.993Z"
   },
   {
    "duration": 21,
    "start_time": "2022-04-11T19:24:06.005Z"
   },
   {
    "duration": 3,
    "start_time": "2022-04-11T19:24:06.028Z"
   },
   {
    "duration": 5,
    "start_time": "2022-04-11T19:24:06.032Z"
   },
   {
    "duration": 8,
    "start_time": "2022-04-11T19:24:06.039Z"
   },
   {
    "duration": 3,
    "start_time": "2022-04-11T19:24:06.048Z"
   },
   {
    "duration": 11,
    "start_time": "2022-04-11T19:24:06.052Z"
   },
   {
    "duration": 163,
    "start_time": "2022-04-11T19:24:06.064Z"
   },
   {
    "duration": 99,
    "start_time": "2022-04-11T19:24:06.228Z"
   },
   {
    "duration": 7,
    "start_time": "2022-04-11T19:24:06.328Z"
   }
  ],
  "kernelspec": {
   "display_name": "Python 3 (ipykernel)",
   "language": "python",
   "name": "python3"
  },
  "language_info": {
   "codemirror_mode": {
    "name": "ipython",
    "version": 3
   },
   "file_extension": ".py",
   "mimetype": "text/x-python",
   "name": "python",
   "nbconvert_exporter": "python",
   "pygments_lexer": "ipython3",
   "version": "3.9.7"
  },
  "toc": {
   "base_numbering": 1,
   "nav_menu": {},
   "number_sections": true,
   "sideBar": true,
   "skip_h1_title": true,
   "title_cell": "Содержание",
   "title_sidebar": "Contents",
   "toc_cell": true,
   "toc_position": {
    "height": "calc(100% - 180px)",
    "left": "10px",
    "top": "150px",
    "width": "255.594px"
   },
   "toc_section_display": true,
   "toc_window_display": true
  }
 },
 "nbformat": 4,
 "nbformat_minor": 2
}
