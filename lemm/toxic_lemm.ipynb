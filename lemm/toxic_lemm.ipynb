{
 "cells": [
  {
   "cell_type": "markdown",
   "id": "0b3bd24c",
   "metadata": {
    "toc": true
   },
   "source": [
    "<h1>Table of Contents<span class=\"tocSkip\"></span></h1>\n",
    "<div class=\"toc\"><ul class=\"toc-item\"><li><span><a href=\"#Подготовка-данных\" data-toc-modified-id=\"Подготовка-данных-1\"><span class=\"toc-item-num\">1&nbsp;&nbsp;</span>Подготовка данных</a></span><ul class=\"toc-item\"><li><span><a href=\"#Импорт-необходимых-библиотек\" data-toc-modified-id=\"Импорт-необходимых-библиотек-1.1\"><span class=\"toc-item-num\">1.1&nbsp;&nbsp;</span>Импорт необходимых библиотек</a></span></li><li><span><a href=\"#Открытие-и-анализ-данных\" data-toc-modified-id=\"Открытие-и-анализ-данных-1.2\"><span class=\"toc-item-num\">1.2&nbsp;&nbsp;</span>Открытие и анализ данных</a></span></li><li><span><a href=\"#Подготовка-текста\" data-toc-modified-id=\"Подготовка-текста-1.3\"><span class=\"toc-item-num\">1.3&nbsp;&nbsp;</span>Подготовка текста</a></span><ul class=\"toc-item\"><li><span><a href=\"#Лемматизация-с-Post-тегами\" data-toc-modified-id=\"Лемматизация-с-Post-тегами-1.3.1\"><span class=\"toc-item-num\">1.3.1&nbsp;&nbsp;</span>Лемматизация с Post-тегами</a></span></li><li><span><a href=\"#Очистка-текста-и-лемматизация\" data-toc-modified-id=\"Очистка-текста-и-лемматизация-1.3.2\"><span class=\"toc-item-num\">1.3.2&nbsp;&nbsp;</span>Очистка текста и лемматизация</a></span></li></ul></li><li><span><a href=\"#Выборки-для-моделей\" data-toc-modified-id=\"Выборки-для-моделей-1.4\"><span class=\"toc-item-num\">1.4&nbsp;&nbsp;</span>Выборки для моделей</a></span></li><li><span><a href=\"#Векторизация\" data-toc-modified-id=\"Векторизация-1.5\"><span class=\"toc-item-num\">1.5&nbsp;&nbsp;</span>Векторизация</a></span></li><li><span><a href=\"#Промежуточный-вывод\" data-toc-modified-id=\"Промежуточный-вывод-1.6\"><span class=\"toc-item-num\">1.6&nbsp;&nbsp;</span>Промежуточный вывод</a></span></li></ul></li><li><span><a href=\"#Обучение-моделей\" data-toc-modified-id=\"Обучение-моделей-2\"><span class=\"toc-item-num\">2&nbsp;&nbsp;</span>Обучение моделей</a></span><ul class=\"toc-item\"><li><span><a href=\"#LogisticRegression\" data-toc-modified-id=\"LogisticRegression-2.1\"><span class=\"toc-item-num\">2.1&nbsp;&nbsp;</span>LogisticRegression</a></span></li><li><span><a href=\"#LogisticRegression+GridSearch\" data-toc-modified-id=\"LogisticRegression+GridSearch-2.2\"><span class=\"toc-item-num\">2.2&nbsp;&nbsp;</span>LogisticRegression+GridSearch</a></span></li><li><span><a href=\"#RandomForest+Optuna\" data-toc-modified-id=\"RandomForest+Optuna-2.3\"><span class=\"toc-item-num\">2.3&nbsp;&nbsp;</span>RandomForest+Optuna</a></span></li><li><span><a href=\"#CatBoost\" data-toc-modified-id=\"CatBoost-2.4\"><span class=\"toc-item-num\">2.4&nbsp;&nbsp;</span>CatBoost</a></span></li><li><span><a href=\"#LGBM\" data-toc-modified-id=\"LGBM-2.5\"><span class=\"toc-item-num\">2.5&nbsp;&nbsp;</span>LGBM</a></span></li><li><span><a href=\"#Проверка-моделей-на-адекватность\" data-toc-modified-id=\"Проверка-моделей-на-адекватность-2.6\"><span class=\"toc-item-num\">2.6&nbsp;&nbsp;</span>Проверка моделей на адекватность</a></span></li><li><span><a href=\"#Промежуточный-вывод\" data-toc-modified-id=\"Промежуточный-вывод-2.7\"><span class=\"toc-item-num\">2.7&nbsp;&nbsp;</span>Промежуточный вывод</a></span></li></ul></li><li><span><a href=\"#Сравнение-моделей\" data-toc-modified-id=\"Сравнение-моделей-3\"><span class=\"toc-item-num\">3&nbsp;&nbsp;</span>Сравнение моделей</a></span></li><li><span><a href=\"#Вывод\" data-toc-modified-id=\"Вывод-4\"><span class=\"toc-item-num\">4&nbsp;&nbsp;</span>Вывод</a></span></li></ul></div>"
   ]
  },
  {
   "cell_type": "markdown",
   "id": "4aa6e88f",
   "metadata": {},
   "source": [
    "## Подготовка данных"
   ]
  },
  {
   "cell_type": "markdown",
   "id": "c79617d4",
   "metadata": {},
   "source": [
    "### Импорт необходимых библиотек"
   ]
  },
  {
   "cell_type": "code",
   "execution_count": 1,
   "id": "c73712ae",
   "metadata": {
    "scrolled": true
   },
   "outputs": [],
   "source": [
    "import pandas as pd\n",
    "import numpy as np\n",
    "from sklearn.feature_extraction.text import TfidfVectorizer \n",
    "from sklearn.feature_extraction.text import CountVectorizer\n",
    "import re\n",
    "import matplotlib.pyplot as plt\n",
    "import seaborn as sb\n",
    "from tqdm import tqdm\n",
    "\n",
    "from sklearn.metrics import f1_score\n",
    "from sklearn.metrics import make_scorer\n",
    "from sklearn.model_selection import train_test_split\n",
    "from sklearn.model_selection import GridSearchCV\n",
    "from sklearn.model_selection import RandomizedSearchCV\n",
    "from sklearn.linear_model import LogisticRegression\n",
    "from sklearn.ensemble import RandomForestClassifier\n",
    "from catboost import CatBoostClassifier\n",
    "from lightgbm import LGBMClassifier\n",
    "from sklearn.svm import SVC\n",
    "from sklearn.feature_extraction.text import TfidfVectorizer\n",
    "from sklearn.feature_extraction.text import CountVectorizer \n",
    "from sklearn.dummy import DummyClassifier\n",
    "import optuna\n",
    "\n",
    "\n",
    "import nltk\n",
    "from nltk.corpus import wordnet\n",
    "from nltk.stem import WordNetLemmatizer\n",
    "from nltk.tokenize import word_tokenize \n",
    "from nltk.corpus import stopwords as nltk_stopwords\n",
    "from nltk.corpus import stopwords\n",
    "\n",
    "\n",
    "pd.set_option('display.max_colwidth', 1000)\n",
    "import warnings\n",
    "warnings.filterwarnings(\"ignore\")"
   ]
  },
  {
   "cell_type": "markdown",
   "id": "8b6db12d",
   "metadata": {},
   "source": [
    "### Открытие и анализ данных"
   ]
  },
  {
   "cell_type": "code",
   "execution_count": 2,
   "id": "61c50b81",
   "metadata": {},
   "outputs": [],
   "source": [
    "try:\n",
    "    data=pd.read_csv(r'C:\\data\\toxic_comments.csv')\n",
    "    pd.set_option('display.max_columns', None) \n",
    "except:\n",
    "    data=pd.read_csv('/datasets/toxic_comments.csv')\n",
    "    pd.set_option('display.max_columns', None)\n",
    "    "
   ]
  },
  {
   "cell_type": "code",
   "execution_count": 3,
   "id": "1723ae7d",
   "metadata": {},
   "outputs": [],
   "source": [
    "\n",
    "class Preprocessing ():\n",
    "    def __init__(self, data):\n",
    "        self.data = data\n",
    "                \n",
    "    def evaluation(self): #Общая информация о таблице: статистика, пропуски, дубликаты и т.д.\n",
    "        information=(display('ИНФОРМАЦИЯ О ДАННЫХ',data.head(10)), display(data.info()), display('СТАТИСТИКА',data.describe()), display(data.describe(include=['object', 'bool'])), display('ЗАВИСИМОСТЬ ПРИЗНАКОВ',data.corr()), display('ПРОЦЕНТ ПРОПУЩЕННЫХ ЗНАЧЕНИЙ',data.isna().mean()*100), display('ДУБЛИКАТЫ',data.duplicated().sum()))\n",
    "        \n",
    "    def processing(self):#удаление пропущенных значений, дубликатов\n",
    "        data1=data.copy()\n",
    "        miss=data1.isna().sum().count()\n",
    "        if miss>0:\n",
    "            for col in data1.columns:\n",
    "                try:\n",
    "                    data1[col] = data1[col].fillna(\"Unknown\")\n",
    "                except:\n",
    "                    data1[col] = data1[col].fillna(np.mean(data1[col]))\n",
    "            display('Пропуски удалены:', data1.isna().sum())\n",
    "                                  \n",
    "        drop = data1.duplicated().sum()\n",
    "        if drop>0:\n",
    "            data1=data1.drop_duplicates() \n",
    "            drop1=data1.duplicated().sum()\n",
    "            display('дубликаты удалены, осталось:', drop1)\n",
    "                            \n",
    "       \n",
    "                \n",
    "        \n",
    "    def visual_box(self):# Визуализация выбросов с учёном удалённых пропусков и дубликатов    \n",
    "        data1=data.copy()\n",
    "        miss=data1.isna().sum().count()\n",
    "        if miss>0:\n",
    "            for col in data1.columns:\n",
    "                try:\n",
    "                    data1[col] = data1[col].fillna(\"Unknown\")\n",
    "                except:\n",
    "                    data1[col] = data1[col].fillna(np.mean(data1[col]))\n",
    "                                        \n",
    "        drop = data1.duplicated().sum()\n",
    "        if drop>0:\n",
    "            data1=data1.drop_duplicates() \n",
    "            drop1=data1.duplicated().sum()\n",
    "        sb.set(rc = {'figure.figsize':(15,15)})\n",
    "        return sb.boxplot(data=data1)"
   ]
  },
  {
   "cell_type": "code",
   "execution_count": 4,
   "id": "372a51a5",
   "metadata": {},
   "outputs": [],
   "source": [
    "if __name__ == \"__main__\":\n",
    "    proect = Preprocessing(data)"
   ]
  },
  {
   "cell_type": "code",
   "execution_count": 5,
   "id": "3c11c617",
   "metadata": {},
   "outputs": [
    {
     "data": {
      "text/plain": [
       "'ИНФОРМАЦИЯ О ДАННЫХ'"
      ]
     },
     "metadata": {},
     "output_type": "display_data"
    },
    {
     "data": {
      "text/html": [
       "<div>\n",
       "<style scoped>\n",
       "    .dataframe tbody tr th:only-of-type {\n",
       "        vertical-align: middle;\n",
       "    }\n",
       "\n",
       "    .dataframe tbody tr th {\n",
       "        vertical-align: top;\n",
       "    }\n",
       "\n",
       "    .dataframe thead th {\n",
       "        text-align: right;\n",
       "    }\n",
       "</style>\n",
       "<table border=\"1\" class=\"dataframe\">\n",
       "  <thead>\n",
       "    <tr style=\"text-align: right;\">\n",
       "      <th></th>\n",
       "      <th>text</th>\n",
       "      <th>toxic</th>\n",
       "    </tr>\n",
       "  </thead>\n",
       "  <tbody>\n",
       "    <tr>\n",
       "      <th>0</th>\n",
       "      <td>Explanation\\nWhy the edits made under my username Hardcore Metallica Fan were reverted? They weren't vandalisms, just closure on some GAs after I voted at New York Dolls FAC. And please don't remove the template from the talk page since I'm retired now.89.205.38.27</td>\n",
       "      <td>0</td>\n",
       "    </tr>\n",
       "    <tr>\n",
       "      <th>1</th>\n",
       "      <td>D'aww! He matches this background colour I'm seemingly stuck with. Thanks.  (talk) 21:51, January 11, 2016 (UTC)</td>\n",
       "      <td>0</td>\n",
       "    </tr>\n",
       "    <tr>\n",
       "      <th>2</th>\n",
       "      <td>Hey man, I'm really not trying to edit war. It's just that this guy is constantly removing relevant information and talking to me through edits instead of my talk page. He seems to care more about the formatting than the actual info.</td>\n",
       "      <td>0</td>\n",
       "    </tr>\n",
       "    <tr>\n",
       "      <th>3</th>\n",
       "      <td>\"\\nMore\\nI can't make any real suggestions on improvement - I wondered if the section statistics should be later on, or a subsection of \"\"types of accidents\"\"  -I think the references may need tidying so that they are all in the exact same format ie date format etc. I can do that later on, if no-one else does first - if you have any preferences for formatting style on references or want to do it yourself please let me know.\\n\\nThere appears to be a backlog on articles for review so I guess there may be a delay until a reviewer turns up. It's listed in the relevant form eg Wikipedia:Good_article_nominations#Transport  \"</td>\n",
       "      <td>0</td>\n",
       "    </tr>\n",
       "    <tr>\n",
       "      <th>4</th>\n",
       "      <td>You, sir, are my hero. Any chance you remember what page that's on?</td>\n",
       "      <td>0</td>\n",
       "    </tr>\n",
       "    <tr>\n",
       "      <th>5</th>\n",
       "      <td>\"\\n\\nCongratulations from me as well, use the tools well.  · talk \"</td>\n",
       "      <td>0</td>\n",
       "    </tr>\n",
       "    <tr>\n",
       "      <th>6</th>\n",
       "      <td>COCKSUCKER BEFORE YOU PISS AROUND ON MY WORK</td>\n",
       "      <td>1</td>\n",
       "    </tr>\n",
       "    <tr>\n",
       "      <th>7</th>\n",
       "      <td>Your vandalism to the Matt Shirvington article has been reverted.  Please don't do it again, or you will be banned.</td>\n",
       "      <td>0</td>\n",
       "    </tr>\n",
       "    <tr>\n",
       "      <th>8</th>\n",
       "      <td>Sorry if the word 'nonsense' was offensive to you. Anyway, I'm not intending to write anything in the article(wow they would jump on me for vandalism), I'm merely requesting that it be more encyclopedic so one can use it for school as a reference. I have been to the selective breeding page but it's almost a stub. It points to 'animal breeding' which is a short messy article that gives you no info. There must be someone around with expertise in eugenics? 93.161.107.169</td>\n",
       "      <td>0</td>\n",
       "    </tr>\n",
       "    <tr>\n",
       "      <th>9</th>\n",
       "      <td>alignment on this subject and which are contrary to those of DuLithgow</td>\n",
       "      <td>0</td>\n",
       "    </tr>\n",
       "  </tbody>\n",
       "</table>\n",
       "</div>"
      ],
      "text/plain": [
       "                                                                                                                                                                                                                                                                                                                                                                                                                                                                                                                                                                                                                                                 text  \\\n",
       "0                                                                                                                                                                                                                                                                                                                                                                           Explanation\\nWhy the edits made under my username Hardcore Metallica Fan were reverted? They weren't vandalisms, just closure on some GAs after I voted at New York Dolls FAC. And please don't remove the template from the talk page since I'm retired now.89.205.38.27   \n",
       "1                                                                                                                                                                                                                                                                                                                                                                                                                                                                                                                                    D'aww! He matches this background colour I'm seemingly stuck with. Thanks.  (talk) 21:51, January 11, 2016 (UTC)   \n",
       "2                                                                                                                                                                                                                                                                                                                                                                                                           Hey man, I'm really not trying to edit war. It's just that this guy is constantly removing relevant information and talking to me through edits instead of my talk page. He seems to care more about the formatting than the actual info.   \n",
       "3  \"\\nMore\\nI can't make any real suggestions on improvement - I wondered if the section statistics should be later on, or a subsection of \"\"types of accidents\"\"  -I think the references may need tidying so that they are all in the exact same format ie date format etc. I can do that later on, if no-one else does first - if you have any preferences for formatting style on references or want to do it yourself please let me know.\\n\\nThere appears to be a backlog on articles for review so I guess there may be a delay until a reviewer turns up. It's listed in the relevant form eg Wikipedia:Good_article_nominations#Transport  \"   \n",
       "4                                                                                                                                                                                                                                                                                                                                                                                                                                                                                                                                                                                 You, sir, are my hero. Any chance you remember what page that's on?   \n",
       "5                                                                                                                                                                                                                                                                                                                                                                                                                                                                                                                                                                                 \"\\n\\nCongratulations from me as well, use the tools well.  · talk \"   \n",
       "6                                                                                                                                                                                                                                                                                                                                                                                                                                                                                                                                                                                                        COCKSUCKER BEFORE YOU PISS AROUND ON MY WORK   \n",
       "7                                                                                                                                                                                                                                                                                                                                                                                                                                                                                                                                 Your vandalism to the Matt Shirvington article has been reverted.  Please don't do it again, or you will be banned.   \n",
       "8                                                                                                                                                            Sorry if the word 'nonsense' was offensive to you. Anyway, I'm not intending to write anything in the article(wow they would jump on me for vandalism), I'm merely requesting that it be more encyclopedic so one can use it for school as a reference. I have been to the selective breeding page but it's almost a stub. It points to 'animal breeding' which is a short messy article that gives you no info. There must be someone around with expertise in eugenics? 93.161.107.169   \n",
       "9                                                                                                                                                                                                                                                                                                                                                                                                                                                                                                                                                                              alignment on this subject and which are contrary to those of DuLithgow   \n",
       "\n",
       "   toxic  \n",
       "0      0  \n",
       "1      0  \n",
       "2      0  \n",
       "3      0  \n",
       "4      0  \n",
       "5      0  \n",
       "6      1  \n",
       "7      0  \n",
       "8      0  \n",
       "9      0  "
      ]
     },
     "metadata": {},
     "output_type": "display_data"
    },
    {
     "name": "stdout",
     "output_type": "stream",
     "text": [
      "<class 'pandas.core.frame.DataFrame'>\n",
      "RangeIndex: 159571 entries, 0 to 159570\n",
      "Data columns (total 2 columns):\n",
      " #   Column  Non-Null Count   Dtype \n",
      "---  ------  --------------   ----- \n",
      " 0   text    159571 non-null  object\n",
      " 1   toxic   159571 non-null  int64 \n",
      "dtypes: int64(1), object(1)\n",
      "memory usage: 2.4+ MB\n"
     ]
    },
    {
     "data": {
      "text/plain": [
       "None"
      ]
     },
     "metadata": {},
     "output_type": "display_data"
    },
    {
     "data": {
      "text/plain": [
       "'СТАТИСТИКА'"
      ]
     },
     "metadata": {},
     "output_type": "display_data"
    },
    {
     "data": {
      "text/html": [
       "<div>\n",
       "<style scoped>\n",
       "    .dataframe tbody tr th:only-of-type {\n",
       "        vertical-align: middle;\n",
       "    }\n",
       "\n",
       "    .dataframe tbody tr th {\n",
       "        vertical-align: top;\n",
       "    }\n",
       "\n",
       "    .dataframe thead th {\n",
       "        text-align: right;\n",
       "    }\n",
       "</style>\n",
       "<table border=\"1\" class=\"dataframe\">\n",
       "  <thead>\n",
       "    <tr style=\"text-align: right;\">\n",
       "      <th></th>\n",
       "      <th>toxic</th>\n",
       "    </tr>\n",
       "  </thead>\n",
       "  <tbody>\n",
       "    <tr>\n",
       "      <th>count</th>\n",
       "      <td>159571.000000</td>\n",
       "    </tr>\n",
       "    <tr>\n",
       "      <th>mean</th>\n",
       "      <td>0.101679</td>\n",
       "    </tr>\n",
       "    <tr>\n",
       "      <th>std</th>\n",
       "      <td>0.302226</td>\n",
       "    </tr>\n",
       "    <tr>\n",
       "      <th>min</th>\n",
       "      <td>0.000000</td>\n",
       "    </tr>\n",
       "    <tr>\n",
       "      <th>25%</th>\n",
       "      <td>0.000000</td>\n",
       "    </tr>\n",
       "    <tr>\n",
       "      <th>50%</th>\n",
       "      <td>0.000000</td>\n",
       "    </tr>\n",
       "    <tr>\n",
       "      <th>75%</th>\n",
       "      <td>0.000000</td>\n",
       "    </tr>\n",
       "    <tr>\n",
       "      <th>max</th>\n",
       "      <td>1.000000</td>\n",
       "    </tr>\n",
       "  </tbody>\n",
       "</table>\n",
       "</div>"
      ],
      "text/plain": [
       "               toxic\n",
       "count  159571.000000\n",
       "mean        0.101679\n",
       "std         0.302226\n",
       "min         0.000000\n",
       "25%         0.000000\n",
       "50%         0.000000\n",
       "75%         0.000000\n",
       "max         1.000000"
      ]
     },
     "metadata": {},
     "output_type": "display_data"
    },
    {
     "data": {
      "text/html": [
       "<div>\n",
       "<style scoped>\n",
       "    .dataframe tbody tr th:only-of-type {\n",
       "        vertical-align: middle;\n",
       "    }\n",
       "\n",
       "    .dataframe tbody tr th {\n",
       "        vertical-align: top;\n",
       "    }\n",
       "\n",
       "    .dataframe thead th {\n",
       "        text-align: right;\n",
       "    }\n",
       "</style>\n",
       "<table border=\"1\" class=\"dataframe\">\n",
       "  <thead>\n",
       "    <tr style=\"text-align: right;\">\n",
       "      <th></th>\n",
       "      <th>text</th>\n",
       "    </tr>\n",
       "  </thead>\n",
       "  <tbody>\n",
       "    <tr>\n",
       "      <th>count</th>\n",
       "      <td>159571</td>\n",
       "    </tr>\n",
       "    <tr>\n",
       "      <th>unique</th>\n",
       "      <td>159571</td>\n",
       "    </tr>\n",
       "    <tr>\n",
       "      <th>top</th>\n",
       "      <td>Explanation\\nWhy the edits made under my username Hardcore Metallica Fan were reverted? They weren't vandalisms, just closure on some GAs after I voted at New York Dolls FAC. And please don't remove the template from the talk page since I'm retired now.89.205.38.27</td>\n",
       "    </tr>\n",
       "    <tr>\n",
       "      <th>freq</th>\n",
       "      <td>1</td>\n",
       "    </tr>\n",
       "  </tbody>\n",
       "</table>\n",
       "</div>"
      ],
      "text/plain": [
       "                                                                                                                                                                                                                                                                             text\n",
       "count                                                                                                                                                                                                                                                                      159571\n",
       "unique                                                                                                                                                                                                                                                                     159571\n",
       "top     Explanation\\nWhy the edits made under my username Hardcore Metallica Fan were reverted? They weren't vandalisms, just closure on some GAs after I voted at New York Dolls FAC. And please don't remove the template from the talk page since I'm retired now.89.205.38.27\n",
       "freq                                                                                                                                                                                                                                                                            1"
      ]
     },
     "metadata": {},
     "output_type": "display_data"
    },
    {
     "data": {
      "text/plain": [
       "'ЗАВИСИМОСТЬ ПРИЗНАКОВ'"
      ]
     },
     "metadata": {},
     "output_type": "display_data"
    },
    {
     "data": {
      "text/html": [
       "<div>\n",
       "<style scoped>\n",
       "    .dataframe tbody tr th:only-of-type {\n",
       "        vertical-align: middle;\n",
       "    }\n",
       "\n",
       "    .dataframe tbody tr th {\n",
       "        vertical-align: top;\n",
       "    }\n",
       "\n",
       "    .dataframe thead th {\n",
       "        text-align: right;\n",
       "    }\n",
       "</style>\n",
       "<table border=\"1\" class=\"dataframe\">\n",
       "  <thead>\n",
       "    <tr style=\"text-align: right;\">\n",
       "      <th></th>\n",
       "      <th>toxic</th>\n",
       "    </tr>\n",
       "  </thead>\n",
       "  <tbody>\n",
       "    <tr>\n",
       "      <th>toxic</th>\n",
       "      <td>1.0</td>\n",
       "    </tr>\n",
       "  </tbody>\n",
       "</table>\n",
       "</div>"
      ],
      "text/plain": [
       "       toxic\n",
       "toxic    1.0"
      ]
     },
     "metadata": {},
     "output_type": "display_data"
    },
    {
     "data": {
      "text/plain": [
       "'ПРОЦЕНТ ПРОПУЩЕННЫХ ЗНАЧЕНИЙ'"
      ]
     },
     "metadata": {},
     "output_type": "display_data"
    },
    {
     "data": {
      "text/plain": [
       "text     0.0\n",
       "toxic    0.0\n",
       "dtype: float64"
      ]
     },
     "metadata": {},
     "output_type": "display_data"
    },
    {
     "data": {
      "text/plain": [
       "'ДУБЛИКАТЫ'"
      ]
     },
     "metadata": {},
     "output_type": "display_data"
    },
    {
     "data": {
      "text/plain": [
       "0"
      ]
     },
     "metadata": {},
     "output_type": "display_data"
    },
    {
     "data": {
      "text/plain": [
       "'Пропуски удалены:'"
      ]
     },
     "metadata": {},
     "output_type": "display_data"
    },
    {
     "data": {
      "text/plain": [
       "text     0\n",
       "toxic    0\n",
       "dtype: int64"
      ]
     },
     "metadata": {},
     "output_type": "display_data"
    }
   ],
   "source": [
    "proect.evaluation()\n",
    "proect.processing()"
   ]
  },
  {
   "cell_type": "markdown",
   "id": "6610ba25",
   "metadata": {},
   "source": [
    "### Подготовка текста"
   ]
  },
  {
   "cell_type": "code",
   "execution_count": 6,
   "id": "a0ff1ef8",
   "metadata": {},
   "outputs": [],
   "source": [
    "corpus = data['text'].values"
   ]
  },
  {
   "cell_type": "markdown",
   "id": "f070c1df",
   "metadata": {},
   "source": [
    "#### Лемматизация с Post-тегами"
   ]
  },
  {
   "cell_type": "code",
   "execution_count": 7,
   "id": "fc8db530",
   "metadata": {
    "scrolled": false
   },
   "outputs": [
    {
     "name": "stderr",
     "output_type": "stream",
     "text": [
      "[nltk_data] Downloading package wordnet to\n",
      "[nltk_data]     C:\\Users\\AcerUser\\AppData\\Roaming\\nltk_data...\n",
      "[nltk_data]   Package wordnet is already up-to-date!\n",
      "[nltk_data] Downloading package punkt to\n",
      "[nltk_data]     C:\\Users\\AcerUser\\AppData\\Roaming\\nltk_data...\n",
      "[nltk_data]   Package punkt is already up-to-date!\n",
      "[nltk_data] Downloading package averaged_perceptron_tagger to\n",
      "[nltk_data]     C:\\Users\\AcerUser\\AppData\\Roaming\\nltk_data...\n",
      "[nltk_data]   Package averaged_perceptron_tagger is already up-to-\n",
      "[nltk_data]       date!\n"
     ]
    }
   ],
   "source": [
    "nltk.download('wordnet')\n",
    "nltk.download('punkt')\n",
    "nltk.download('averaged_perceptron_tagger')\n",
    "\n",
    "def wordnet (word):\n",
    "    tag=nltk.pos_tag([word])[0][1][0].upper()\n",
    "    tag_dict={\"J\": wordnet.ADJ,\n",
    "              \"N\": wordnet.NOUN,\n",
    "              \"v\": wordnet.VERB,\n",
    "              \"R\": wordnet.AVD}\n",
    "    return tag_dict.get(tag, wordnet.NOUN)"
   ]
  },
  {
   "cell_type": "markdown",
   "id": "b53f7a9b",
   "metadata": {},
   "source": [
    "#### Очистка текста и лемматизация"
   ]
  },
  {
   "cell_type": "code",
   "execution_count": 8,
   "id": "eb574f9d",
   "metadata": {},
   "outputs": [],
   "source": [
    "lemmatizer = WordNetLemmatizer()\n",
    "def clear_text(text):\n",
    "    pattern = re.sub(r'[^a-zA-Z]', ' ', text)\n",
    "    clear = pattern.split()\n",
    "    lemm = []\n",
    "    for i in range(len(clear)):\n",
    "        lemm.append(lemmatizer.lemmatize(clear[i].lower()))\n",
    "    return \" \".join(lemm)"
   ]
  },
  {
   "cell_type": "code",
   "execution_count": 9,
   "id": "813edc81",
   "metadata": {},
   "outputs": [
    {
     "name": "stderr",
     "output_type": "stream",
     "text": [
      "100%|████████████████████████████████████████████████████████████████████████| 159571/159571 [02:35<00:00, 1027.37it/s]\n"
     ]
    }
   ],
   "source": [
    "for i in tqdm(range(len(corpus))):\n",
    "    corpus[i] = clear_text(corpus[i])"
   ]
  },
  {
   "cell_type": "code",
   "execution_count": 10,
   "id": "cf146cdb",
   "metadata": {},
   "outputs": [
    {
     "data": {
      "text/html": [
       "<div>\n",
       "<style scoped>\n",
       "    .dataframe tbody tr th:only-of-type {\n",
       "        vertical-align: middle;\n",
       "    }\n",
       "\n",
       "    .dataframe tbody tr th {\n",
       "        vertical-align: top;\n",
       "    }\n",
       "\n",
       "    .dataframe thead th {\n",
       "        text-align: right;\n",
       "    }\n",
       "</style>\n",
       "<table border=\"1\" class=\"dataframe\">\n",
       "  <thead>\n",
       "    <tr style=\"text-align: right;\">\n",
       "      <th></th>\n",
       "      <th>text</th>\n",
       "      <th>toxic</th>\n",
       "      <th>clear_text</th>\n",
       "    </tr>\n",
       "  </thead>\n",
       "  <tbody>\n",
       "    <tr>\n",
       "      <th>0</th>\n",
       "      <td>explanation why the edits made under my username hardcore metallica fan were reverted they weren t vandalism just closure on some gas after i voted at new york doll fac and please don t remove the template from the talk page since i m retired now</td>\n",
       "      <td>0</td>\n",
       "      <td>explanation why the edits made under my username hardcore metallica fan were reverted they weren t vandalism just closure on some gas after i voted at new york doll fac and please don t remove the template from the talk page since i m retired now</td>\n",
       "    </tr>\n",
       "    <tr>\n",
       "      <th>1</th>\n",
       "      <td>d aww he match this background colour i m seemingly stuck with thanks talk january utc</td>\n",
       "      <td>0</td>\n",
       "      <td>d aww he match this background colour i m seemingly stuck with thanks talk january utc</td>\n",
       "    </tr>\n",
       "    <tr>\n",
       "      <th>2</th>\n",
       "      <td>hey man i m really not trying to edit war it s just that this guy is constantly removing relevant information and talking to me through edits instead of my talk page he seems to care more about the formatting than the actual info</td>\n",
       "      <td>0</td>\n",
       "      <td>hey man i m really not trying to edit war it s just that this guy is constantly removing relevant information and talking to me through edits instead of my talk page he seems to care more about the formatting than the actual info</td>\n",
       "    </tr>\n",
       "    <tr>\n",
       "      <th>3</th>\n",
       "      <td>more i can t make any real suggestion on improvement i wondered if the section statistic should be later on or a subsection of type of accident i think the reference may need tidying so that they are all in the exact same format ie date format etc i can do that later on if no one else doe first if you have any preference for formatting style on reference or want to do it yourself please let me know there appears to be a backlog on article for review so i guess there may be a delay until a reviewer turn up it s listed in the relevant form eg wikipedia good article nomination transport</td>\n",
       "      <td>0</td>\n",
       "      <td>more i can t make any real suggestion on improvement i wondered if the section statistic should be later on or a subsection of type of accident i think the reference may need tidying so that they are all in the exact same format ie date format etc i can do that later on if no one else doe first if you have any preference for formatting style on reference or want to do it yourself please let me know there appears to be a backlog on article for review so i guess there may be a delay until a reviewer turn up it s listed in the relevant form eg wikipedia good article nomination transport</td>\n",
       "    </tr>\n",
       "    <tr>\n",
       "      <th>4</th>\n",
       "      <td>you sir are my hero any chance you remember what page that s on</td>\n",
       "      <td>0</td>\n",
       "      <td>you sir are my hero any chance you remember what page that s on</td>\n",
       "    </tr>\n",
       "  </tbody>\n",
       "</table>\n",
       "</div>"
      ],
      "text/plain": [
       "                                                                                                                                                                                                                                                                                                                                                                                                                                                                                                                                                                                                             text  \\\n",
       "0                                                                                                                                                                                                                                                                                                                                                          explanation why the edits made under my username hardcore metallica fan were reverted they weren t vandalism just closure on some gas after i voted at new york doll fac and please don t remove the template from the talk page since i m retired now   \n",
       "1                                                                                                                                                                                                                                                                                                                                                                                                                                                                                                                          d aww he match this background colour i m seemingly stuck with thanks talk january utc   \n",
       "2                                                                                                                                                                                                                                                                                                                                                                           hey man i m really not trying to edit war it s just that this guy is constantly removing relevant information and talking to me through edits instead of my talk page he seems to care more about the formatting than the actual info   \n",
       "3  more i can t make any real suggestion on improvement i wondered if the section statistic should be later on or a subsection of type of accident i think the reference may need tidying so that they are all in the exact same format ie date format etc i can do that later on if no one else doe first if you have any preference for formatting style on reference or want to do it yourself please let me know there appears to be a backlog on article for review so i guess there may be a delay until a reviewer turn up it s listed in the relevant form eg wikipedia good article nomination transport   \n",
       "4                                                                                                                                                                                                                                                                                                                                                                                                                                                                                                                                                 you sir are my hero any chance you remember what page that s on   \n",
       "\n",
       "   toxic  \\\n",
       "0      0   \n",
       "1      0   \n",
       "2      0   \n",
       "3      0   \n",
       "4      0   \n",
       "\n",
       "                                                                                                                                                                                                                                                                                                                                                                                                                                                                                                                                                                                                       clear_text  \n",
       "0                                                                                                                                                                                                                                                                                                                                                          explanation why the edits made under my username hardcore metallica fan were reverted they weren t vandalism just closure on some gas after i voted at new york doll fac and please don t remove the template from the talk page since i m retired now  \n",
       "1                                                                                                                                                                                                                                                                                                                                                                                                                                                                                                                          d aww he match this background colour i m seemingly stuck with thanks talk january utc  \n",
       "2                                                                                                                                                                                                                                                                                                                                                                           hey man i m really not trying to edit war it s just that this guy is constantly removing relevant information and talking to me through edits instead of my talk page he seems to care more about the formatting than the actual info  \n",
       "3  more i can t make any real suggestion on improvement i wondered if the section statistic should be later on or a subsection of type of accident i think the reference may need tidying so that they are all in the exact same format ie date format etc i can do that later on if no one else doe first if you have any preference for formatting style on reference or want to do it yourself please let me know there appears to be a backlog on article for review so i guess there may be a delay until a reviewer turn up it s listed in the relevant form eg wikipedia good article nomination transport  \n",
       "4                                                                                                                                                                                                                                                                                                                                                                                                                                                                                                                                                 you sir are my hero any chance you remember what page that s on  "
      ]
     },
     "execution_count": 10,
     "metadata": {},
     "output_type": "execute_result"
    }
   ],
   "source": [
    "data_corpus = pd.DataFrame(corpus)\n",
    "data['clear_text'] = data_corpus[0]\n",
    "data.head()"
   ]
  },
  {
   "cell_type": "code",
   "execution_count": 11,
   "id": "7927aa7a",
   "metadata": {
    "scrolled": true
   },
   "outputs": [
    {
     "data": {
      "text/plain": [
       "Text(0, 0.5, 'Количество ответов')"
      ]
     },
     "execution_count": 11,
     "metadata": {},
     "output_type": "execute_result"
    },
    {
     "data": {
      "image/png": "[encoded data removed]",
      "text/plain": [
       "<Figure size 720x432 with 1 Axes>"
      ]
     },
     "metadata": {
      "needs_background": "light"
     },
     "output_type": "display_data"
    }
   ],
   "source": [
    "plt.figure(figsize=(10, 6))\n",
    "sb.countplot(x='toxic', data=data)\n",
    "plt.title('Распределение эмоциональности ответов', fontsize=15)\n",
    "plt.xlabel('Токсичность')\n",
    "plt.ylabel('Количество ответов')"
   ]
  },
  {
   "cell_type": "markdown",
   "id": "f37dc92f",
   "metadata": {},
   "source": [
    "### Выборки для моделей"
   ]
  },
  {
   "cell_type": "code",
   "execution_count": 12,
   "id": "71064c5d",
   "metadata": {},
   "outputs": [
    {
     "data": {
      "text/plain": [
       "('Размер признаков:', (159571,), 'размер целевого признака:', (159571,))"
      ]
     },
     "execution_count": 12,
     "metadata": {},
     "output_type": "execute_result"
    }
   ],
   "source": [
    "features = data['clear_text']\n",
    "target = data['toxic']\n",
    "\n",
    "'Размер признаков:', features.shape, 'размер целевого признака:', target.shape"
   ]
  },
  {
   "cell_type": "code",
   "execution_count": 13,
   "id": "ed114913",
   "metadata": {
    "scrolled": true
   },
   "outputs": [
    {
     "data": {
      "text/plain": [
       "('Размеры выборок: обучающие фичи-',\n",
       " (119678,),\n",
       " 'тестовые фичи -',\n",
       " (39893,),\n",
       " 'целевой признак обучающей выборки-',\n",
       " (119678,),\n",
       " 'целевой признак тестовой выборки-',\n",
       " (39893,))"
      ]
     },
     "execution_count": 13,
     "metadata": {},
     "output_type": "execute_result"
    }
   ],
   "source": [
    "features_train1, features_test1, target_train, target_test = train_test_split(features, target, test_size=0.25, random_state=12345, stratify = target)\n",
    "'Размеры выборок: обучающие фичи-', features_train1.shape, 'тестовые фичи -', features_test1.shape, 'целевой признак обучающей выборки-',target_train.shape, 'целевой признак тестовой выборки-',target_test.shape  "
   ]
  },
  {
   "cell_type": "markdown",
   "id": "9d77c741",
   "metadata": {},
   "source": [
    "### Векторизация"
   ]
  },
  {
   "cell_type": "code",
   "execution_count": 14,
   "id": "c3c43ea5",
   "metadata": {},
   "outputs": [
    {
     "name": "stderr",
     "output_type": "stream",
     "text": [
      "[nltk_data] Downloading package stopwords to\n",
      "[nltk_data]     C:\\Users\\AcerUser\\AppData\\Roaming\\nltk_data...\n",
      "[nltk_data]   Package stopwords is already up-to-date!\n"
     ]
    },
    {
     "data": {
      "text/plain": [
       "('Размеры выборок: обучающие фичи-',\n",
       " (119678, 133120),\n",
       " 'тестовые фичи -',\n",
       " (39893, 133120),\n",
       " 'целевой признак обучающей выборки-',\n",
       " (119678,),\n",
       " 'целевой признак тестовой выборки-',\n",
       " (39893,))"
      ]
     },
     "execution_count": 14,
     "metadata": {},
     "output_type": "execute_result"
    }
   ],
   "source": [
    "nltk.download('stopwords')\n",
    "stopwords = set(nltk_stopwords.words('english'))\n",
    "count_tf_idf = TfidfVectorizer(stop_words=stopwords) \n",
    "\n",
    "features_train = count_tf_idf.fit_transform(features_train1)\n",
    "features_test = count_tf_idf.transform(features_test1)\n",
    "\n",
    "\n",
    "'Размеры выборок: обучающие фичи-', features_train.shape, 'тестовые фичи -', features_test.shape, 'целевой признак обучающей выборки-',target_train.shape, 'целевой признак тестовой выборки-',target_test.shape  "
   ]
  },
  {
   "cell_type": "markdown",
   "id": "da69ac43",
   "metadata": {},
   "source": [
    "### Промежуточный вывод"
   ]
  },
  {
   "cell_type": "markdown",
   "id": "7d9acce2",
   "metadata": {},
   "source": [
    "Исходные данные с комментариями были лемматизированы, очищены от специальных символов, приведены к нижнему регистру.<br>\n",
    "Подготовленный текс был разбит на выбоки, кроме того из него были удалны стоп-слова и проведена векторизация (перевод текста в матрицу).<br>\n",
    "Отдельно оставлены категориальные признаки для работы CatBoost"
   ]
  },
  {
   "cell_type": "markdown",
   "id": "71942616",
   "metadata": {},
   "source": [
    "## Обучение моделей"
   ]
  },
  {
   "cell_type": "code",
   "execution_count": 15,
   "id": "8ede6262",
   "metadata": {},
   "outputs": [],
   "source": [
    "# функия для расчёта метрики\n",
    "def f_1 (target, prediction):\n",
    "    return f1_score(target, prediction)"
   ]
  },
  {
   "cell_type": "code",
   "execution_count": 16,
   "id": "1cf100aa",
   "metadata": {},
   "outputs": [],
   "source": [
    "# Для добавления метрик в таблицу c результатами работы моделей\n",
    "def metrics(result_train, result_test, model, data):\n",
    "    data.loc[model, 'F1_train'] = result_train\n",
    "    data.loc[model, 'F1_test'] = result_test\n",
    "    return data"
   ]
  },
  {
   "cell_type": "code",
   "execution_count": 17,
   "id": "b226476b",
   "metadata": {},
   "outputs": [],
   "source": [
    "# Таблица для сравнения результатов работы моделей\n",
    "compare_models = pd.DataFrame(columns=['F1_train', 'F1_test'])"
   ]
  },
  {
   "cell_type": "code",
   "execution_count": 18,
   "id": "974038da",
   "metadata": {},
   "outputs": [],
   "source": [
    "score = make_scorer(f_1,greater_is_better=False)"
   ]
  },
  {
   "cell_type": "markdown",
   "id": "3213c040",
   "metadata": {},
   "source": [
    "### LogisticRegression"
   ]
  },
  {
   "cell_type": "code",
   "execution_count": 19,
   "id": "6ef32418",
   "metadata": {},
   "outputs": [
    {
     "data": {
      "text/plain": [
       "('F1 на тренировочной выборке:',\n",
       " 0.8308346624136097,\n",
       " 'F1 на тестовой выборке:',\n",
       " 0.7583936800526663)"
      ]
     },
     "execution_count": 19,
     "metadata": {},
     "output_type": "execute_result"
    }
   ],
   "source": [
    "model_log=LogisticRegression(class_weight='balanced', random_state=12345)\n",
    "model_log.fit(features_train, target_train)\n",
    "predict_log_train=model_log.predict(features_train)\n",
    "predict_log_test=model_log.predict(features_test)\n",
    "\n",
    "result_log_train = f_1(target_train, predict_log_train)\n",
    "result_log_test = f_1(target_test, predict_log_test)\n",
    "\n",
    "'F1 на тренировочной выборке:', result_log_train, 'F1 на тестовой выборке:',  result_log_test\n"
   ]
  },
  {
   "cell_type": "code",
   "execution_count": 20,
   "id": "be36fd3e",
   "metadata": {
    "scrolled": true
   },
   "outputs": [
    {
     "data": {
      "text/html": [
       "<div>\n",
       "<style scoped>\n",
       "    .dataframe tbody tr th:only-of-type {\n",
       "        vertical-align: middle;\n",
       "    }\n",
       "\n",
       "    .dataframe tbody tr th {\n",
       "        vertical-align: top;\n",
       "    }\n",
       "\n",
       "    .dataframe thead th {\n",
       "        text-align: right;\n",
       "    }\n",
       "</style>\n",
       "<table border=\"1\" class=\"dataframe\">\n",
       "  <thead>\n",
       "    <tr style=\"text-align: right;\">\n",
       "      <th></th>\n",
       "      <th>F1_train</th>\n",
       "      <th>F1_test</th>\n",
       "    </tr>\n",
       "  </thead>\n",
       "  <tbody>\n",
       "    <tr>\n",
       "      <th>LogisticRegression</th>\n",
       "      <td>0.830835</td>\n",
       "      <td>0.758394</td>\n",
       "    </tr>\n",
       "  </tbody>\n",
       "</table>\n",
       "</div>"
      ],
      "text/plain": [
       "                    F1_train   F1_test\n",
       "LogisticRegression  0.830835  0.758394"
      ]
     },
     "execution_count": 20,
     "metadata": {},
     "output_type": "execute_result"
    }
   ],
   "source": [
    "metrics(result_log_train, result_log_test, 'LogisticRegression', compare_models)"
   ]
  },
  {
   "cell_type": "markdown",
   "id": "3ab468e9",
   "metadata": {},
   "source": [
    "### LogisticRegression+GridSearch"
   ]
  },
  {
   "cell_type": "code",
   "execution_count": 21,
   "id": "ac7d9553",
   "metadata": {},
   "outputs": [
    {
     "data": {
      "text/plain": [
       "('лучшие параметры:', {'C': 50})"
      ]
     },
     "execution_count": 21,
     "metadata": {},
     "output_type": "execute_result"
    }
   ],
   "source": [
    "regression = LogisticRegression(fit_intercept=True, \n",
    "                                class_weight='balanced', \n",
    "                                random_state=12345,\n",
    "                                solver='liblinear'\n",
    "                               )\n",
    "regression_parametrs = {'C': [-5, 7, 50]}\n",
    "\n",
    "model_log_grid = GridSearchCV(regression, regression_parametrs, scoring=score)\n",
    "model_log_grid.fit(features_train, target_train)\n",
    "\n",
    "\n",
    "'лучшие параметры:', model_log_grid.best_params_"
   ]
  },
  {
   "cell_type": "code",
   "execution_count": 22,
   "id": "57b78ae5",
   "metadata": {},
   "outputs": [
    {
     "data": {
      "text/plain": [
       "('F1 на тренировочной выборке:',\n",
       " 0.8994492408454898,\n",
       " 'F1 на тестовой выборке:',\n",
       " 0.7611964960992651)"
      ]
     },
     "execution_count": 22,
     "metadata": {},
     "output_type": "execute_result"
    }
   ],
   "source": [
    "# Обучение на лучших параметрах\n",
    "regression = LogisticRegression(fit_intercept=True, \n",
    "                                class_weight='balanced', \n",
    "                                random_state=12345,\n",
    "                                solver='liblinear'\n",
    "                               )\n",
    "\n",
    "regression_parametrs = {'C': [7]}\n",
    "model_log_grid = GridSearchCV(regression,regression_parametrs, scoring=score)\n",
    "model_log_grid.fit(features_train, target_train)\n",
    "\n",
    "predict_log_grid_train=model_log_grid.predict(features_train)\n",
    "predict_log_grid_test=model_log_grid.predict(features_test)\n",
    "\n",
    "result_log_grid_train = f_1(target_train, predict_log_grid_train)\n",
    "result_log_grid_test = model_log_grid.best_score_*-1\n",
    "\n",
    "'F1 на тренировочной выборке:', result_log_grid_train, 'F1 на тестовой выборке:',  result_log_grid_test"
   ]
  },
  {
   "cell_type": "code",
   "execution_count": 23,
   "id": "13d3eec0",
   "metadata": {
    "scrolled": true
   },
   "outputs": [
    {
     "data": {
      "text/html": [
       "<div>\n",
       "<style scoped>\n",
       "    .dataframe tbody tr th:only-of-type {\n",
       "        vertical-align: middle;\n",
       "    }\n",
       "\n",
       "    .dataframe tbody tr th {\n",
       "        vertical-align: top;\n",
       "    }\n",
       "\n",
       "    .dataframe thead th {\n",
       "        text-align: right;\n",
       "    }\n",
       "</style>\n",
       "<table border=\"1\" class=\"dataframe\">\n",
       "  <thead>\n",
       "    <tr style=\"text-align: right;\">\n",
       "      <th></th>\n",
       "      <th>F1_train</th>\n",
       "      <th>F1_test</th>\n",
       "    </tr>\n",
       "  </thead>\n",
       "  <tbody>\n",
       "    <tr>\n",
       "      <th>LogisticRegression</th>\n",
       "      <td>0.830835</td>\n",
       "      <td>0.758394</td>\n",
       "    </tr>\n",
       "    <tr>\n",
       "      <th>LogisticRegression+GridSearch</th>\n",
       "      <td>0.899449</td>\n",
       "      <td>0.761196</td>\n",
       "    </tr>\n",
       "  </tbody>\n",
       "</table>\n",
       "</div>"
      ],
      "text/plain": [
       "                               F1_train   F1_test\n",
       "LogisticRegression             0.830835  0.758394\n",
       "LogisticRegression+GridSearch  0.899449  0.761196"
      ]
     },
     "execution_count": 23,
     "metadata": {},
     "output_type": "execute_result"
    }
   ],
   "source": [
    "metrics(result_log_grid_train, result_log_grid_test, 'LogisticRegression+GridSearch', compare_models)"
   ]
  },
  {
   "cell_type": "markdown",
   "id": "b5bbd438",
   "metadata": {},
   "source": [
    "### RandomForest+Optuna"
   ]
  },
  {
   "cell_type": "code",
   "execution_count": 24,
   "id": "aa8fc6a7",
   "metadata": {
    "scrolled": true
   },
   "outputs": [],
   "source": [
    "def objective(trial):\n",
    "    \n",
    "    model_forest = RandomForestClassifier(\n",
    "                class_weight='balanced',\n",
    "                n_estimators = trial.suggest_int(\"n_estimators\", 10, 1000),\n",
    "                max_depth = trial.suggest_int(\"max_depth\", 1, 10),\n",
    "                n_jobs = 4,\n",
    "                random_state = 12345\n",
    "           )\n",
    "           \n",
    "    optuna_forest=model_forest.fit(features_train, target_train)\n",
    "    \n",
    "    predict_optuna_test=optuna_forest.predict(features_test)\n",
    "    score=f_1(target_test, predict_optuna_test)\n",
    "              \n",
    "    return score"
   ]
  },
  {
   "cell_type": "code",
   "execution_count": 25,
   "id": "37c9f1ef",
   "metadata": {
    "scrolled": true
   },
   "outputs": [
    {
     "name": "stderr",
     "output_type": "stream",
     "text": [
      "\u001b[32m[I 2022-05-29 21:37:43,845]\u001b[0m A new study created in memory with name: RandomForest\u001b[0m\n",
      "\u001b[32m[I 2022-05-29 21:38:19,713]\u001b[0m Trial 0 finished with value: 0.3846028557467832 and parameters: {'n_estimators': 703, 'max_depth': 7}. Best is trial 0 with value: 0.3846028557467832.\u001b[0m\n",
      "\u001b[32m[I 2022-05-29 21:38:54,714]\u001b[0m Trial 1 finished with value: 0.3642868094240302 and parameters: {'n_estimators': 941, 'max_depth': 4}. Best is trial 0 with value: 0.3846028557467832.\u001b[0m\n",
      "\u001b[32m[I 2022-05-29 21:39:22,863]\u001b[0m Trial 2 finished with value: 0.38185562540646 and parameters: {'n_estimators': 521, 'max_depth': 8}. Best is trial 0 with value: 0.3846028557467832.\u001b[0m\n",
      "\u001b[32m[I 2022-05-29 21:39:40,395]\u001b[0m Trial 3 finished with value: 0.3669354838709677 and parameters: {'n_estimators': 467, 'max_depth': 4}. Best is trial 0 with value: 0.3846028557467832.\u001b[0m\n",
      "\u001b[32m[I 2022-05-29 21:40:00,243]\u001b[0m Trial 4 finished with value: 0.38350921318825526 and parameters: {'n_estimators': 327, 'max_depth': 9}. Best is trial 0 with value: 0.3846028557467832.\u001b[0m\n",
      "\u001b[32m[I 2022-05-29 21:40:17,979]\u001b[0m Trial 5 finished with value: 0.3626384795202765 and parameters: {'n_estimators': 525, 'max_depth': 3}. Best is trial 0 with value: 0.3846028557467832.\u001b[0m\n",
      "\u001b[32m[I 2022-05-29 21:40:32,948]\u001b[0m Trial 6 finished with value: 0.36868608212635623 and parameters: {'n_estimators': 402, 'max_depth': 4}. Best is trial 0 with value: 0.3846028557467832.\u001b[0m\n",
      "\u001b[32m[I 2022-05-29 21:40:47,541]\u001b[0m Trial 7 finished with value: 0.3773463477421431 and parameters: {'n_estimators': 293, 'max_depth': 7}. Best is trial 0 with value: 0.3846028557467832.\u001b[0m\n",
      "\u001b[32m[I 2022-05-29 21:40:54,953]\u001b[0m Trial 8 finished with value: 0.39382457727761133 and parameters: {'n_estimators': 144, 'max_depth': 7}. Best is trial 8 with value: 0.39382457727761133.\u001b[0m\n",
      "\u001b[32m[I 2022-05-29 21:41:17,020]\u001b[0m Trial 9 finished with value: 0.36808036870177624 and parameters: {'n_estimators': 654, 'max_depth': 3}. Best is trial 8 with value: 0.39382457727761133.\u001b[0m\n",
      "\u001b[32m[I 2022-05-29 21:41:17,996]\u001b[0m Trial 10 finished with value: 0.20911247173037675 and parameters: {'n_estimators': 14, 'max_depth': 1}. Best is trial 8 with value: 0.39382457727761133.\u001b[0m\n",
      "\u001b[32m[I 2022-05-29 21:41:54,854]\u001b[0m Trial 11 finished with value: 0.38007300837449004 and parameters: {'n_estimators': 826, 'max_depth': 6}. Best is trial 8 with value: 0.39382457727761133.\u001b[0m\n",
      "\u001b[32m[I 2022-05-29 21:42:00,698]\u001b[0m Trial 12 finished with value: 0.4092181266003692 and parameters: {'n_estimators': 88, 'max_depth': 9}. Best is trial 12 with value: 0.4092181266003692.\u001b[0m\n",
      "\u001b[32m[I 2022-05-29 21:42:02,708]\u001b[0m Trial 13 finished with value: 0.3751056040551958 and parameters: {'n_estimators': 24, 'max_depth': 9}. Best is trial 12 with value: 0.4092181266003692.\u001b[0m\n",
      "\u001b[32m[I 2022-05-29 21:42:14,535]\u001b[0m Trial 14 finished with value: 0.41070369051857125 and parameters: {'n_estimators': 172, 'max_depth': 10}. Best is trial 14 with value: 0.41070369051857125.\u001b[0m\n",
      "\u001b[32m[I 2022-05-29 21:42:25,851]\u001b[0m Trial 15 finished with value: 0.4058633831720903 and parameters: {'n_estimators': 162, 'max_depth': 10}. Best is trial 14 with value: 0.41070369051857125.\u001b[0m\n",
      "\u001b[32m[I 2022-05-29 21:42:39,196]\u001b[0m Trial 16 finished with value: 0.4111982881597718 and parameters: {'n_estimators': 195, 'max_depth': 10}. Best is trial 16 with value: 0.4111982881597718.\u001b[0m\n",
      "\u001b[32m[I 2022-05-29 21:42:56,943]\u001b[0m Trial 17 finished with value: 0.3900234348844994 and parameters: {'n_estimators': 261, 'max_depth': 10}. Best is trial 16 with value: 0.4111982881597718.\u001b[0m\n",
      "\u001b[32m[I 2022-05-29 21:43:12,063]\u001b[0m Trial 18 finished with value: 0.40071494464944646 and parameters: {'n_estimators': 220, 'max_depth': 10}. Best is trial 16 with value: 0.4111982881597718.\u001b[0m\n",
      "\u001b[32m[I 2022-05-29 21:43:32,174]\u001b[0m Trial 19 finished with value: 0.3768580900438456 and parameters: {'n_estimators': 367, 'max_depth': 8}. Best is trial 16 with value: 0.4111982881597718.\u001b[0m\n",
      "\u001b[32m[I 2022-05-29 21:43:40,657]\u001b[0m Trial 20 finished with value: 0.38924068366489223 and parameters: {'n_estimators': 184, 'max_depth': 6}. Best is trial 16 with value: 0.4111982881597718.\u001b[0m\n",
      "\u001b[32m[I 2022-05-29 21:43:46,623]\u001b[0m Trial 21 finished with value: 0.41871588888207517 and parameters: {'n_estimators': 92, 'max_depth': 9}. Best is trial 21 with value: 0.41871588888207517.\u001b[0m\n",
      "\u001b[32m[I 2022-05-29 21:43:53,089]\u001b[0m Trial 22 finished with value: 0.418095585552718 and parameters: {'n_estimators': 89, 'max_depth': 10}. Best is trial 21 with value: 0.41871588888207517.\u001b[0m\n",
      "\u001b[32m[I 2022-05-29 21:43:58,281]\u001b[0m Trial 23 finished with value: 0.42236177810614456 and parameters: {'n_estimators': 90, 'max_depth': 8}. Best is trial 23 with value: 0.42236177810614456.\u001b[0m\n",
      "\u001b[32m[I 2022-05-29 21:44:03,299]\u001b[0m Trial 24 finished with value: 0.4220771220894419 and parameters: {'n_estimators': 87, 'max_depth': 8}. Best is trial 23 with value: 0.42236177810614456.\u001b[0m\n",
      "\u001b[32m[I 2022-05-29 21:44:08,159]\u001b[0m Trial 25 finished with value: 0.4322437321485243 and parameters: {'n_estimators': 84, 'max_depth': 8}. Best is trial 25 with value: 0.4322437321485243.\u001b[0m\n",
      "\u001b[32m[I 2022-05-29 21:44:10,821]\u001b[0m Trial 26 finished with value: 0.3793809740555303 and parameters: {'n_estimators': 42, 'max_depth': 8}. Best is trial 25 with value: 0.4322437321485243.\u001b[0m\n",
      "\u001b[32m[I 2022-05-29 21:44:21,185]\u001b[0m Trial 27 finished with value: 0.36893203883495146 and parameters: {'n_estimators': 246, 'max_depth': 5}. Best is trial 25 with value: 0.4322437321485243.\u001b[0m\n",
      "\u001b[32m[I 2022-05-29 21:44:27,934]\u001b[0m Trial 28 finished with value: 0.41449345030645357 and parameters: {'n_estimators': 117, 'max_depth': 8}. Best is trial 25 with value: 0.4322437321485243.\u001b[0m\n",
      "\u001b[32m[I 2022-05-29 21:44:49,644]\u001b[0m Trial 29 finished with value: 0.38147787514876125 and parameters: {'n_estimators': 435, 'max_depth': 7}. Best is trial 25 with value: 0.4322437321485243.\u001b[0m\n",
      "\u001b[32m[I 2022-05-29 21:45:20,428]\u001b[0m Trial 30 finished with value: 0.3806607574536664 and parameters: {'n_estimators': 684, 'max_depth': 6}. Best is trial 25 with value: 0.4322437321485243.\u001b[0m\n",
      "\u001b[32m[I 2022-05-29 21:45:25,833]\u001b[0m Trial 31 finished with value: 0.4174179699478688 and parameters: {'n_estimators': 81, 'max_depth': 9}. Best is trial 25 with value: 0.4322437321485243.\u001b[0m\n",
      "\u001b[32m[I 2022-05-29 21:45:32,145]\u001b[0m Trial 32 finished with value: 0.4120428562877836 and parameters: {'n_estimators': 112, 'max_depth': 7}. Best is trial 25 with value: 0.4322437321485243.\u001b[0m\n",
      "\u001b[32m[I 2022-05-29 21:45:34,140]\u001b[0m Trial 33 finished with value: 0.29424818036570216 and parameters: {'n_estimators': 12, 'max_depth': 8}. Best is trial 25 with value: 0.4322437321485243.\u001b[0m\n",
      "\u001b[32m[I 2022-05-29 21:46:36,376]\u001b[0m Trial 34 finished with value: 0.3855289803513765 and parameters: {'n_estimators': 986, 'max_depth': 9}. Best is trial 25 with value: 0.4322437321485243.\u001b[0m\n",
      "\u001b[32m[I 2022-05-29 21:47:07,404]\u001b[0m Trial 35 finished with value: 0.38275020341741256 and parameters: {'n_estimators': 561, 'max_depth': 8}. Best is trial 25 with value: 0.4322437321485243.\u001b[0m\n",
      "\u001b[32m[I 2022-05-29 21:47:23,304]\u001b[0m Trial 36 finished with value: 0.38056680161943324 and parameters: {'n_estimators': 321, 'max_depth': 7}. Best is trial 25 with value: 0.4322437321485243.\u001b[0m\n",
      "\u001b[32m[I 2022-05-29 21:48:16,788]\u001b[0m Trial 37 finished with value: 0.3937771830043493 and parameters: {'n_estimators': 848, 'max_depth': 9}. Best is trial 25 with value: 0.4322437321485243.\u001b[0m\n",
      "\u001b[32m[I 2022-05-29 21:48:27,443]\u001b[0m Trial 38 finished with value: 0.36660768189861564 and parameters: {'n_estimators': 256, 'max_depth': 5}. Best is trial 25 with value: 0.4322437321485243.\u001b[0m\n",
      "\u001b[32m[I 2022-05-29 21:48:31,543]\u001b[0m Trial 39 finished with value: 0.4176152267214032 and parameters: {'n_estimators': 67, 'max_depth': 8}. Best is trial 25 with value: 0.4322437321485243.\u001b[0m\n",
      "\u001b[32m[I 2022-05-29 21:48:40,795]\u001b[0m Trial 40 finished with value: 0.4003480278422274 and parameters: {'n_estimators': 144, 'max_depth': 9}. Best is trial 25 with value: 0.4322437321485243.\u001b[0m\n",
      "\u001b[32m[I 2022-05-29 21:48:46,477]\u001b[0m Trial 41 finished with value: 0.4189421894218942 and parameters: {'n_estimators': 75, 'max_depth': 10}. Best is trial 25 with value: 0.4322437321485243.\u001b[0m\n",
      "\u001b[32m[I 2022-05-29 21:48:55,466]\u001b[0m Trial 42 finished with value: 0.4144709074464878 and parameters: {'n_estimators': 123, 'max_depth': 9}. Best is trial 25 with value: 0.4322437321485243.\u001b[0m\n",
      "\u001b[32m[I 2022-05-29 21:48:59,445]\u001b[0m Trial 43 finished with value: 0.4124877089478859 and parameters: {'n_estimators': 64, 'max_depth': 8}. Best is trial 25 with value: 0.4322437321485243.\u001b[0m\n",
      "\u001b[32m[I 2022-05-29 21:49:12,165]\u001b[0m Trial 44 finished with value: 0.38414434117003826 and parameters: {'n_estimators': 223, 'max_depth': 7}. Best is trial 25 with value: 0.4322437321485243.\u001b[0m\n",
      "\u001b[32m[I 2022-05-29 21:49:30,154]\u001b[0m Trial 45 finished with value: 0.3797619694581816 and parameters: {'n_estimators': 283, 'max_depth': 9}. Best is trial 25 with value: 0.4322437321485243.\u001b[0m\n",
      "\u001b[32m[I 2022-05-29 21:49:38,116]\u001b[0m Trial 46 finished with value: 0.3980721785529864 and parameters: {'n_estimators': 139, 'max_depth': 8}. Best is trial 25 with value: 0.4322437321485243.\u001b[0m\n",
      "\u001b[32m[I 2022-05-29 21:50:00,953]\u001b[0m Trial 47 finished with value: 0.3893569844789357 and parameters: {'n_estimators': 335, 'max_depth': 10}. Best is trial 25 with value: 0.4322437321485243.\u001b[0m\n",
      "\u001b[32m[I 2022-05-29 21:50:03,395]\u001b[0m Trial 48 finished with value: 0.4156942330458312 and parameters: {'n_estimators': 54, 'max_depth': 1}. Best is trial 25 with value: 0.4322437321485243.\u001b[0m\n",
      "\u001b[32m[I 2022-05-29 21:50:16,500]\u001b[0m Trial 49 finished with value: 0.39636550660037717 and parameters: {'n_estimators': 206, 'max_depth': 9}. Best is trial 25 with value: 0.4322437321485243.\u001b[0m\n",
      "\u001b[32m[I 2022-05-29 21:50:22,169]\u001b[0m Trial 50 finished with value: 0.3740912095175149 and parameters: {'n_estimators': 169, 'max_depth': 2}. Best is trial 25 with value: 0.4322437321485243.\u001b[0m\n",
      "\u001b[32m[I 2022-05-29 21:50:28,895]\u001b[0m Trial 51 finished with value: 0.4270710334969859 and parameters: {'n_estimators': 93, 'max_depth': 10}. Best is trial 25 with value: 0.4322437321485243.\u001b[0m\n",
      "\u001b[32m[I 2022-05-29 21:50:36,122]\u001b[0m Trial 52 finished with value: 0.4192644909887969 and parameters: {'n_estimators': 98, 'max_depth': 10}. Best is trial 25 with value: 0.4322437321485243.\u001b[0m\n",
      "\u001b[32m[I 2022-05-29 21:50:40,027]\u001b[0m Trial 53 finished with value: 0.4006361173283073 and parameters: {'n_estimators': 48, 'max_depth': 10}. Best is trial 25 with value: 0.4322437321485243.\u001b[0m\n",
      "\u001b[32m[I 2022-05-29 21:50:41,605]\u001b[0m Trial 54 finished with value: 0.3377814845704754 and parameters: {'n_estimators': 15, 'max_depth': 10}. Best is trial 25 with value: 0.4322437321485243.\u001b[0m\n",
      "\u001b[32m[I 2022-05-29 21:51:23,405]\u001b[0m Trial 55 finished with value: 0.39573339353236636 and parameters: {'n_estimators': 617, 'max_depth': 10}. Best is trial 25 with value: 0.4322437321485243.\u001b[0m\n",
      "\u001b[32m[I 2022-05-29 21:51:34,874]\u001b[0m Trial 56 finished with value: 0.40717014399059653 and parameters: {'n_estimators': 160, 'max_depth': 10}. Best is trial 25 with value: 0.4322437321485243.\u001b[0m\n",
      "\u001b[32m[I 2022-05-29 21:51:39,839]\u001b[0m Trial 57 finished with value: 0.4255797962117897 and parameters: {'n_estimators': 101, 'max_depth': 6}. Best is trial 25 with value: 0.4322437321485243.\u001b[0m\n",
      "\u001b[32m[I 2022-05-29 21:51:44,120]\u001b[0m Trial 58 finished with value: 0.3973681118552461 and parameters: {'n_estimators': 103, 'max_depth': 4}. Best is trial 25 with value: 0.4322437321485243.\u001b[0m\n",
      "\u001b[32m[I 2022-05-29 21:51:52,983]\u001b[0m Trial 59 finished with value: 0.38967741935483874 and parameters: {'n_estimators': 187, 'max_depth': 6}. Best is trial 25 with value: 0.4322437321485243.\u001b[0m\n",
      "\u001b[32m[I 2022-05-29 21:52:02,644]\u001b[0m Trial 60 finished with value: 0.3707941840323343 and parameters: {'n_estimators': 230, 'max_depth': 5}. Best is trial 25 with value: 0.4322437321485243.\u001b[0m\n",
      "\u001b[32m[I 2022-05-29 21:52:07,723]\u001b[0m Trial 61 finished with value: 0.3682919022724848 and parameters: {'n_estimators': 135, 'max_depth': 3}. Best is trial 25 with value: 0.4322437321485243.\u001b[0m\n",
      "\u001b[32m[I 2022-05-29 21:52:10,641]\u001b[0m Trial 62 finished with value: 0.40573592401762987 and parameters: {'n_estimators': 50, 'max_depth': 7}. Best is trial 25 with value: 0.4322437321485243.\u001b[0m\n",
      "\u001b[32m[I 2022-05-29 21:52:16,073]\u001b[0m Trial 63 finished with value: 0.4190815324165029 and parameters: {'n_estimators': 84, 'max_depth': 9}. Best is trial 25 with value: 0.4322437321485243.\u001b[0m\n",
      "\u001b[32m[I 2022-05-29 21:52:58,008]\u001b[0m Trial 64 finished with value: 0.3872527472527472 and parameters: {'n_estimators': 776, 'max_depth': 8}. Best is trial 25 with value: 0.4322437321485243.\u001b[0m\n",
      "\u001b[32m[I 2022-05-29 21:53:04,215]\u001b[0m Trial 65 finished with value: 0.4197257578552543 and parameters: {'n_estimators': 93, 'max_depth': 9}. Best is trial 25 with value: 0.4322437321485243.\u001b[0m\n",
      "\u001b[32m[I 2022-05-29 21:53:10,655]\u001b[0m Trial 66 finished with value: 0.4057749867949997 and parameters: {'n_estimators': 120, 'max_depth': 7}. Best is trial 25 with value: 0.4322437321485243.\u001b[0m\n",
      "\u001b[32m[I 2022-05-29 21:53:12,941]\u001b[0m Trial 67 finished with value: 0.3762932973459289 and parameters: {'n_estimators': 30, 'max_depth': 9}. Best is trial 25 with value: 0.4322437321485243.\u001b[0m\n",
      "\u001b[32m[I 2022-05-29 21:53:23,739]\u001b[0m Trial 68 finished with value: 0.3989046097672295 and parameters: {'n_estimators': 197, 'max_depth': 8}. Best is trial 25 with value: 0.4322437321485243.\u001b[0m\n",
      "\u001b[32m[I 2022-05-29 21:53:52,464]\u001b[0m Trial 69 finished with value: 0.38733480176211454 and parameters: {'n_estimators': 468, 'max_depth': 9}. Best is trial 25 with value: 0.4322437321485243.\u001b[0m\n",
      "\u001b[32m[I 2022-05-29 21:53:59,962]\u001b[0m Trial 70 finished with value: 0.3846153846153846 and parameters: {'n_estimators': 159, 'max_depth': 6}. Best is trial 25 with value: 0.4322437321485243.\u001b[0m\n",
      "\u001b[32m[I 2022-05-29 21:54:06,019]\u001b[0m Trial 71 finished with value: 0.41871588888207517 and parameters: {'n_estimators': 92, 'max_depth': 9}. Best is trial 25 with value: 0.4322437321485243.\u001b[0m\n",
      "\u001b[32m[I 2022-05-29 21:54:13,128]\u001b[0m Trial 72 finished with value: 0.4243697478991597 and parameters: {'n_estimators': 100, 'max_depth': 10}. Best is trial 25 with value: 0.4322437321485243.\u001b[0m\n",
      "\u001b[32m[I 2022-05-29 21:54:20,737]\u001b[0m Trial 73 finished with value: 0.42857142857142855 and parameters: {'n_estimators': 108, 'max_depth': 10}. Best is trial 25 with value: 0.4322437321485243.\u001b[0m\n",
      "\u001b[32m[I 2022-05-29 21:54:29,252]\u001b[0m Trial 74 finished with value: 0.418848167539267 and parameters: {'n_estimators': 120, 'max_depth': 10}. Best is trial 25 with value: 0.4322437321485243.\u001b[0m\n",
      "\u001b[32m[I 2022-05-29 21:54:32,366]\u001b[0m Trial 75 finished with value: 0.38599477925320624 and parameters: {'n_estimators': 38, 'max_depth': 10}. Best is trial 25 with value: 0.4322437321485243.\u001b[0m\n",
      "\u001b[32m[I 2022-05-29 21:54:42,342]\u001b[0m Trial 76 finished with value: 0.3966866083755177 and parameters: {'n_estimators': 157, 'max_depth': 9}. Best is trial 25 with value: 0.4322437321485243.\u001b[0m\n",
      "\u001b[32m[I 2022-05-29 21:54:43,652]\u001b[0m Trial 77 finished with value: 0.3179622310057092 and parameters: {'n_estimators': 15, 'max_depth': 8}. Best is trial 25 with value: 0.4322437321485243.\u001b[0m\n",
      "\u001b[32m[I 2022-05-29 21:54:48,826]\u001b[0m Trial 78 finished with value: 0.4176152267214032 and parameters: {'n_estimators': 67, 'max_depth': 8}. Best is trial 25 with value: 0.4322437321485243.\u001b[0m\n",
      "\u001b[32m[I 2022-05-29 21:55:01,574]\u001b[0m Trial 79 finished with value: 0.4007911116281775 and parameters: {'n_estimators': 178, 'max_depth': 9}. Best is trial 25 with value: 0.4322437321485243.\u001b[0m\n",
      "\u001b[32m[I 2022-05-29 21:55:11,349]\u001b[0m Trial 80 finished with value: 0.4078014184397163 and parameters: {'n_estimators': 139, 'max_depth': 10}. Best is trial 25 with value: 0.4322437321485243.\u001b[0m\n",
      "\u001b[32m[I 2022-05-29 21:55:18,631]\u001b[0m Trial 81 finished with value: 0.4305242036619012 and parameters: {'n_estimators': 102, 'max_depth': 10}. Best is trial 25 with value: 0.4322437321485243.\u001b[0m\n",
      "\u001b[32m[I 2022-05-29 21:55:26,040]\u001b[0m Trial 82 finished with value: 0.4294547498594717 and parameters: {'n_estimators': 105, 'max_depth': 10}. Best is trial 25 with value: 0.4322437321485243.\u001b[0m\n",
      "\u001b[32m[I 2022-05-29 21:55:35,024]\u001b[0m Trial 83 finished with value: 0.42256799803969614 and parameters: {'n_estimators': 123, 'max_depth': 10}. Best is trial 25 with value: 0.4322437321485243.\u001b[0m\n",
      "\u001b[32m[I 2022-05-29 21:55:42,904]\u001b[0m Trial 84 finished with value: 0.4231666871391721 and parameters: {'n_estimators': 112, 'max_depth': 10}. Best is trial 25 with value: 0.4322437321485243.\u001b[0m\n",
      "\u001b[32m[I 2022-05-29 21:55:57,173]\u001b[0m Trial 85 finished with value: 0.40344646911567794 and parameters: {'n_estimators': 209, 'max_depth': 10}. Best is trial 25 with value: 0.4322437321485243.\u001b[0m\n",
      "\u001b[32m[I 2022-05-29 21:56:05,718]\u001b[0m Trial 86 finished with value: 0.41821268340002427 and parameters: {'n_estimators': 122, 'max_depth': 10}. Best is trial 25 with value: 0.4322437321485243.\u001b[0m\n",
      "\u001b[32m[I 2022-05-29 21:56:10,317]\u001b[0m Trial 87 finished with value: 0.41268483441280707 and parameters: {'n_estimators': 59, 'max_depth': 10}. Best is trial 25 with value: 0.4322437321485243.\u001b[0m\n",
      "\u001b[32m[I 2022-05-29 21:56:28,893]\u001b[0m Trial 88 finished with value: 0.39203623958391587 and parameters: {'n_estimators': 271, 'max_depth': 10}. Best is trial 25 with value: 0.4322437321485243.\u001b[0m\n",
      "\u001b[32m[I 2022-05-29 21:56:44,706]\u001b[0m Trial 89 finished with value: 0.39629292699567886 and parameters: {'n_estimators': 233, 'max_depth': 10}. Best is trial 25 with value: 0.4322437321485243.\u001b[0m\n",
      "\u001b[32m[I 2022-05-29 21:56:47,863]\u001b[0m Trial 90 finished with value: 0.387623451504253 and parameters: {'n_estimators': 37, 'max_depth': 10}. Best is trial 25 with value: 0.4322437321485243.\u001b[0m\n",
      "\u001b[32m[I 2022-05-29 21:56:55,602]\u001b[0m Trial 91 finished with value: 0.42857142857142855 and parameters: {'n_estimators': 108, 'max_depth': 10}. Best is trial 25 with value: 0.4322437321485243.\u001b[0m\n",
      "\u001b[32m[I 2022-05-29 21:57:03,539]\u001b[0m Trial 92 finished with value: 0.4260369660629289 and parameters: {'n_estimators': 111, 'max_depth': 10}. Best is trial 25 with value: 0.4322437321485243.\u001b[0m\n",
      "\u001b[32m[I 2022-05-29 21:57:11,099]\u001b[0m Trial 93 finished with value: 0.42817146767871583 and parameters: {'n_estimators': 107, 'max_depth': 10}. Best is trial 25 with value: 0.4322437321485243.\u001b[0m\n",
      "\u001b[32m[I 2022-05-29 21:57:16,437]\u001b[0m Trial 94 finished with value: 0.42358078602620086 and parameters: {'n_estimators': 73, 'max_depth': 10}. Best is trial 25 with value: 0.4322437321485243.\u001b[0m\n",
      "\u001b[32m[I 2022-05-29 21:57:27,058]\u001b[0m Trial 95 finished with value: 0.4117682020802377 and parameters: {'n_estimators': 154, 'max_depth': 10}. Best is trial 25 with value: 0.4322437321485243.\u001b[0m\n",
      "\u001b[32m[I 2022-05-29 21:57:39,741]\u001b[0m Trial 96 finished with value: 0.4087823880068465 and parameters: {'n_estimators': 181, 'max_depth': 10}. Best is trial 25 with value: 0.4322437321485243.\u001b[0m\n",
      "\u001b[32m[I 2022-05-29 21:57:48,660]\u001b[0m Trial 97 finished with value: 0.39738319921264403 and parameters: {'n_estimators': 138, 'max_depth': 9}. Best is trial 25 with value: 0.4322437321485243.\u001b[0m\n",
      "\u001b[32m[I 2022-05-29 21:57:56,203]\u001b[0m Trial 98 finished with value: 0.42817146767871583 and parameters: {'n_estimators': 107, 'max_depth': 10}. Best is trial 25 with value: 0.4322437321485243.\u001b[0m\n",
      "\u001b[32m[I 2022-05-29 21:57:58,820]\u001b[0m Trial 99 finished with value: 0.3626435487502815 and parameters: {'n_estimators': 58, 'max_depth': 4}. Best is trial 25 with value: 0.4322437321485243.\u001b[0m\n"
     ]
    },
    {
     "data": {
      "text/plain": [
       "{'n_estimators': 84, 'max_depth': 8}"
      ]
     },
     "execution_count": 25,
     "metadata": {},
     "output_type": "execute_result"
    }
   ],
   "source": [
    "study = optuna.create_study(study_name='RandomForest', direction=\"maximize\")\n",
    "study.optimize(objective, n_trials=100)\n",
    "\n",
    "study.best_params"
   ]
  },
  {
   "cell_type": "code",
   "execution_count": 26,
   "id": "1c27ec96",
   "metadata": {},
   "outputs": [],
   "source": [
    "optuna_params = study.best_params\n",
    "model_optuna = RandomForestClassifier(**optuna_params)\n",
    "forest=model_optuna.fit(features_train, target_train)\n",
    "predict_optuna_train=forest.predict(features_train)\n",
    "predict_optuna_test=forest.predict(features_test)"
   ]
  },
  {
   "cell_type": "code",
   "execution_count": 27,
   "id": "349b6cd3",
   "metadata": {},
   "outputs": [
    {
     "data": {
      "text/plain": [
       "('F1 на тренировочной выборке:',\n",
       " 0.0,\n",
       " 'F1 на тестовой выборке:',\n",
       " 0.4322437321485243)"
      ]
     },
     "execution_count": 27,
     "metadata": {},
     "output_type": "execute_result"
    }
   ],
   "source": [
    "result_forest=study.best_value\n",
    "result_forest_train=f_1(target_train, predict_optuna_train)\n",
    "\n",
    "'F1 на тренировочной выборке:', result_forest_train, 'F1 на тестовой выборке:',  result_forest"
   ]
  },
  {
   "cell_type": "code",
   "execution_count": 28,
   "id": "8f4b2489",
   "metadata": {},
   "outputs": [
    {
     "data": {
      "text/html": [
       "<div>\n",
       "<style scoped>\n",
       "    .dataframe tbody tr th:only-of-type {\n",
       "        vertical-align: middle;\n",
       "    }\n",
       "\n",
       "    .dataframe tbody tr th {\n",
       "        vertical-align: top;\n",
       "    }\n",
       "\n",
       "    .dataframe thead th {\n",
       "        text-align: right;\n",
       "    }\n",
       "</style>\n",
       "<table border=\"1\" class=\"dataframe\">\n",
       "  <thead>\n",
       "    <tr style=\"text-align: right;\">\n",
       "      <th></th>\n",
       "      <th>F1_train</th>\n",
       "      <th>F1_test</th>\n",
       "    </tr>\n",
       "  </thead>\n",
       "  <tbody>\n",
       "    <tr>\n",
       "      <th>LogisticRegression</th>\n",
       "      <td>0.830835</td>\n",
       "      <td>0.758394</td>\n",
       "    </tr>\n",
       "    <tr>\n",
       "      <th>LogisticRegression+GridSearch</th>\n",
       "      <td>0.899449</td>\n",
       "      <td>0.761196</td>\n",
       "    </tr>\n",
       "    <tr>\n",
       "      <th>RandomForest+Optuna</th>\n",
       "      <td>0.0</td>\n",
       "      <td>0.432244</td>\n",
       "    </tr>\n",
       "  </tbody>\n",
       "</table>\n",
       "</div>"
      ],
      "text/plain": [
       "                               F1_train   F1_test\n",
       "LogisticRegression             0.830835  0.758394\n",
       "LogisticRegression+GridSearch  0.899449  0.761196\n",
       "RandomForest+Optuna                 0.0  0.432244"
      ]
     },
     "execution_count": 28,
     "metadata": {},
     "output_type": "execute_result"
    }
   ],
   "source": [
    "metrics(result_forest_train, result_forest, 'RandomForest+Optuna',compare_models)"
   ]
  },
  {
   "cell_type": "markdown",
   "id": "1f6e6213",
   "metadata": {},
   "source": [
    "### CatBoost"
   ]
  },
  {
   "cell_type": "markdown",
   "id": "3bdef2c9",
   "metadata": {},
   "source": [
    "*Для работы CatBoost возму признаки до векторизации. Модели градиентного бустинга с перебором параметров работают очень долго (даже с optuna), поэтому немного поэксперементировав, решила исполтзовать модели на дефолтных настройках*"
   ]
  },
  {
   "cell_type": "code",
   "execution_count": 29,
   "id": "c5b04fe1",
   "metadata": {
    "scrolled": true
   },
   "outputs": [
    {
     "name": "stdout",
     "output_type": "stream",
     "text": [
      "Learning rate set to 0.079478\n",
      "0:\tlearn: 0.5904229\ttotal: 711ms\tremaining: 11m 50s\n",
      "100:\tlearn: 0.1255537\ttotal: 1m 4s\tremaining: 9m 32s\n",
      "200:\tlearn: 0.1153856\ttotal: 2m 7s\tremaining: 8m 26s\n",
      "300:\tlearn: 0.1094020\ttotal: 3m 9s\tremaining: 7m 19s\n",
      "400:\tlearn: 0.1050144\ttotal: 4m 10s\tremaining: 6m 13s\n",
      "500:\tlearn: 0.1013081\ttotal: 5m 11s\tremaining: 5m 10s\n",
      "600:\tlearn: 0.0981457\ttotal: 6m 13s\tremaining: 4m 7s\n",
      "700:\tlearn: 0.0954536\ttotal: 7m 14s\tremaining: 3m 5s\n",
      "800:\tlearn: 0.0932880\ttotal: 8m 13s\tremaining: 2m 2s\n",
      "900:\tlearn: 0.0911671\ttotal: 9m 14s\tremaining: 1m\n",
      "999:\tlearn: 0.0891729\ttotal: 10m 13s\tremaining: 0us\n"
     ]
    },
    {
     "data": {
      "text/plain": [
       "('F1 на тренировочной выборке:',\n",
       " 0.8512477718360071,\n",
       " 'F1 на тестовой выборке:',\n",
       " 0.7841421736158578)"
      ]
     },
     "execution_count": 29,
     "metadata": {},
     "output_type": "execute_result"
    }
   ],
   "source": [
    "cat = CatBoostClassifier(random_state = 12345)\n",
    "cat.fit(pd.DataFrame(features_train1), target_train, text_features=['clear_text'], verbose=100)\n",
    "pred_cat_train=cat.predict(pd.DataFrame(features_train1))\n",
    "pred_cat_test=cat.predict(pd.DataFrame(features_test1))\n",
    "\n",
    "result_cat_train=f_1(target_train, pred_cat_train)\n",
    "result_cat_test=f_1(target_test, pred_cat_test)\n",
    "\n",
    "'F1 на тренировочной выборке:', result_cat_train, 'F1 на тестовой выборке:',  result_cat_test"
   ]
  },
  {
   "cell_type": "code",
   "execution_count": 30,
   "id": "5ddb3492",
   "metadata": {
    "scrolled": true
   },
   "outputs": [
    {
     "data": {
      "text/html": [
       "<div>\n",
       "<style scoped>\n",
       "    .dataframe tbody tr th:only-of-type {\n",
       "        vertical-align: middle;\n",
       "    }\n",
       "\n",
       "    .dataframe tbody tr th {\n",
       "        vertical-align: top;\n",
       "    }\n",
       "\n",
       "    .dataframe thead th {\n",
       "        text-align: right;\n",
       "    }\n",
       "</style>\n",
       "<table border=\"1\" class=\"dataframe\">\n",
       "  <thead>\n",
       "    <tr style=\"text-align: right;\">\n",
       "      <th></th>\n",
       "      <th>F1_train</th>\n",
       "      <th>F1_test</th>\n",
       "    </tr>\n",
       "  </thead>\n",
       "  <tbody>\n",
       "    <tr>\n",
       "      <th>LogisticRegression</th>\n",
       "      <td>0.830835</td>\n",
       "      <td>0.758394</td>\n",
       "    </tr>\n",
       "    <tr>\n",
       "      <th>LogisticRegression+GridSearch</th>\n",
       "      <td>0.899449</td>\n",
       "      <td>0.761196</td>\n",
       "    </tr>\n",
       "    <tr>\n",
       "      <th>RandomForest+Optuna</th>\n",
       "      <td>0.0</td>\n",
       "      <td>0.432244</td>\n",
       "    </tr>\n",
       "    <tr>\n",
       "      <th>CatBoostClassifier</th>\n",
       "      <td>0.851248</td>\n",
       "      <td>0.784142</td>\n",
       "    </tr>\n",
       "  </tbody>\n",
       "</table>\n",
       "</div>"
      ],
      "text/plain": [
       "                               F1_train   F1_test\n",
       "LogisticRegression             0.830835  0.758394\n",
       "LogisticRegression+GridSearch  0.899449  0.761196\n",
       "RandomForest+Optuna                 0.0  0.432244\n",
       "CatBoostClassifier             0.851248  0.784142"
      ]
     },
     "execution_count": 30,
     "metadata": {},
     "output_type": "execute_result"
    }
   ],
   "source": [
    "metrics(result_cat_train, result_cat_test, 'CatBoostClassifier',compare_models)"
   ]
  },
  {
   "cell_type": "markdown",
   "id": "c30211fc",
   "metadata": {},
   "source": [
    "### LGBM"
   ]
  },
  {
   "cell_type": "code",
   "execution_count": 31,
   "id": "bbe0df35",
   "metadata": {},
   "outputs": [
    {
     "data": {
      "text/plain": [
       "('F1 на тренировочной выборке:',\n",
       " 0.7814727977415188,\n",
       " 'F1 на тестовой выборке:',\n",
       " 0.744927536231884)"
      ]
     },
     "execution_count": 31,
     "metadata": {},
     "output_type": "execute_result"
    }
   ],
   "source": [
    "lgbm = LGBMClassifier(random_state=12345)\n",
    "lgbm.fit(features_train, target_train, verbose=100)\n",
    "pred_lgbm_train=lgbm.predict(features_train)\n",
    "pred_lgbm_test=lgbm.predict(features_test)\n",
    "\n",
    "result_lgbm_train=f_1(target_train, pred_lgbm_train)\n",
    "result_lgbm_test=f_1(target_test, pred_lgbm_test)\n",
    "\n",
    "'F1 на тренировочной выборке:', result_lgbm_train, 'F1 на тестовой выборке:',  result_lgbm_test"
   ]
  },
  {
   "cell_type": "code",
   "execution_count": 32,
   "id": "97114540",
   "metadata": {
    "scrolled": true
   },
   "outputs": [
    {
     "data": {
      "text/html": [
       "<div>\n",
       "<style scoped>\n",
       "    .dataframe tbody tr th:only-of-type {\n",
       "        vertical-align: middle;\n",
       "    }\n",
       "\n",
       "    .dataframe tbody tr th {\n",
       "        vertical-align: top;\n",
       "    }\n",
       "\n",
       "    .dataframe thead th {\n",
       "        text-align: right;\n",
       "    }\n",
       "</style>\n",
       "<table border=\"1\" class=\"dataframe\">\n",
       "  <thead>\n",
       "    <tr style=\"text-align: right;\">\n",
       "      <th></th>\n",
       "      <th>F1_train</th>\n",
       "      <th>F1_test</th>\n",
       "    </tr>\n",
       "  </thead>\n",
       "  <tbody>\n",
       "    <tr>\n",
       "      <th>LogisticRegression</th>\n",
       "      <td>0.830835</td>\n",
       "      <td>0.758394</td>\n",
       "    </tr>\n",
       "    <tr>\n",
       "      <th>LogisticRegression+GridSearch</th>\n",
       "      <td>0.899449</td>\n",
       "      <td>0.761196</td>\n",
       "    </tr>\n",
       "    <tr>\n",
       "      <th>RandomForest+Optuna</th>\n",
       "      <td>0.0</td>\n",
       "      <td>0.432244</td>\n",
       "    </tr>\n",
       "    <tr>\n",
       "      <th>CatBoostClassifier</th>\n",
       "      <td>0.851248</td>\n",
       "      <td>0.784142</td>\n",
       "    </tr>\n",
       "    <tr>\n",
       "      <th>LGBMClassifier</th>\n",
       "      <td>0.781473</td>\n",
       "      <td>0.744928</td>\n",
       "    </tr>\n",
       "  </tbody>\n",
       "</table>\n",
       "</div>"
      ],
      "text/plain": [
       "                               F1_train   F1_test\n",
       "LogisticRegression             0.830835  0.758394\n",
       "LogisticRegression+GridSearch  0.899449  0.761196\n",
       "RandomForest+Optuna                 0.0  0.432244\n",
       "CatBoostClassifier             0.851248  0.784142\n",
       "LGBMClassifier                 0.781473  0.744928"
      ]
     },
     "execution_count": 32,
     "metadata": {},
     "output_type": "execute_result"
    }
   ],
   "source": [
    "metrics(result_lgbm_train, result_lgbm_test, 'LGBMClassifier',compare_models)"
   ]
  },
  {
   "cell_type": "markdown",
   "id": "a27c7cd2",
   "metadata": {},
   "source": [
    "### Проверка моделей на адекватность"
   ]
  },
  {
   "cell_type": "code",
   "execution_count": 33,
   "id": "3b2148e1",
   "metadata": {},
   "outputs": [
    {
     "data": {
      "text/plain": [
       "('F1 базовой модели для тренировочной выборки ',\n",
       " 0.18459274765447828,\n",
       " ',F1 базовой модели для тестовой выборки',\n",
       " 0.18457757855696372)"
      ]
     },
     "execution_count": 33,
     "metadata": {},
     "output_type": "execute_result"
    }
   ],
   "source": [
    "dummy = DummyClassifier(strategy='constant', random_state=None, constant=1)\n",
    "\n",
    "dummy.fit(features_train, target_train)\n",
    "\n",
    "\n",
    "predicted_dummy_train = dummy.predict(features_train)\n",
    "predicted_dummy = dummy.predict(features_test)\n",
    "\n",
    "\n",
    "result_dummy_train=f_1(target_train, predicted_dummy_train)\n",
    "result_dummy=f_1(target_test, predicted_dummy)\n",
    "\n",
    "'F1 базовой модели для тренировочной выборки ', result_dummy_train, ',F1 базовой модели для тестовой выборки', result_dummy"
   ]
  },
  {
   "cell_type": "code",
   "execution_count": 34,
   "id": "8722f874",
   "metadata": {},
   "outputs": [
    {
     "data": {
      "text/html": [
       "<div>\n",
       "<style scoped>\n",
       "    .dataframe tbody tr th:only-of-type {\n",
       "        vertical-align: middle;\n",
       "    }\n",
       "\n",
       "    .dataframe tbody tr th {\n",
       "        vertical-align: top;\n",
       "    }\n",
       "\n",
       "    .dataframe thead th {\n",
       "        text-align: right;\n",
       "    }\n",
       "</style>\n",
       "<table border=\"1\" class=\"dataframe\">\n",
       "  <thead>\n",
       "    <tr style=\"text-align: right;\">\n",
       "      <th></th>\n",
       "      <th>F1_train</th>\n",
       "      <th>F1_test</th>\n",
       "    </tr>\n",
       "  </thead>\n",
       "  <tbody>\n",
       "    <tr>\n",
       "      <th>LogisticRegression</th>\n",
       "      <td>0.830835</td>\n",
       "      <td>0.758394</td>\n",
       "    </tr>\n",
       "    <tr>\n",
       "      <th>LogisticRegression+GridSearch</th>\n",
       "      <td>0.899449</td>\n",
       "      <td>0.761196</td>\n",
       "    </tr>\n",
       "    <tr>\n",
       "      <th>RandomForest+Optuna</th>\n",
       "      <td>0.0</td>\n",
       "      <td>0.432244</td>\n",
       "    </tr>\n",
       "    <tr>\n",
       "      <th>CatBoostClassifier</th>\n",
       "      <td>0.851248</td>\n",
       "      <td>0.784142</td>\n",
       "    </tr>\n",
       "    <tr>\n",
       "      <th>LGBMClassifier</th>\n",
       "      <td>0.781473</td>\n",
       "      <td>0.744928</td>\n",
       "    </tr>\n",
       "    <tr>\n",
       "      <th>DummyClassifer</th>\n",
       "      <td>0.184593</td>\n",
       "      <td>0.184578</td>\n",
       "    </tr>\n",
       "  </tbody>\n",
       "</table>\n",
       "</div>"
      ],
      "text/plain": [
       "                               F1_train   F1_test\n",
       "LogisticRegression             0.830835  0.758394\n",
       "LogisticRegression+GridSearch  0.899449  0.761196\n",
       "RandomForest+Optuna                 0.0  0.432244\n",
       "CatBoostClassifier             0.851248  0.784142\n",
       "LGBMClassifier                 0.781473  0.744928\n",
       "DummyClassifer                 0.184593  0.184578"
      ]
     },
     "execution_count": 34,
     "metadata": {},
     "output_type": "execute_result"
    }
   ],
   "source": [
    "metrics(result_dummy_train, result_dummy, 'DummyClassifer',compare_models)"
   ]
  },
  {
   "cell_type": "markdown",
   "id": "f335cfb4",
   "metadata": {},
   "source": [
    "### Промежуточный вывод"
   ]
  },
  {
   "cell_type": "markdown",
   "id": "a95123f8",
   "metadata": {},
   "source": [
    " Для классификации комментариев на позитивные и негативные были обучены модели логистической регрессии, случайного леса, CatBoost и LGBM. Модели градиентного бустинга с перебором параметров работали очень долго, поэтому были обучены на настройках \"по умочанию\". CatBoost гораздо быстрее работает на категориальных даных без векторизации.<br>\n",
    " Поэксперементировав с разными моделями и подбором параметров, оставила только некоторые в модели и параметры в текущем виде.<br>\n",
    " Проверку на адекватность прошли все модели, значит они работаю корректно."
   ]
  },
  {
   "cell_type": "markdown",
   "id": "910efd1b",
   "metadata": {},
   "source": [
    "## Сравнение моделей"
   ]
  },
  {
   "cell_type": "code",
   "execution_count": 35,
   "id": "63dc706f",
   "metadata": {},
   "outputs": [
    {
     "data": {
      "text/html": [
       "<div>\n",
       "<style scoped>\n",
       "    .dataframe tbody tr th:only-of-type {\n",
       "        vertical-align: middle;\n",
       "    }\n",
       "\n",
       "    .dataframe tbody tr th {\n",
       "        vertical-align: top;\n",
       "    }\n",
       "\n",
       "    .dataframe thead th {\n",
       "        text-align: right;\n",
       "    }\n",
       "</style>\n",
       "<table border=\"1\" class=\"dataframe\">\n",
       "  <thead>\n",
       "    <tr style=\"text-align: right;\">\n",
       "      <th></th>\n",
       "      <th>index</th>\n",
       "      <th>F1_train</th>\n",
       "      <th>F1_test</th>\n",
       "    </tr>\n",
       "  </thead>\n",
       "  <tbody>\n",
       "    <tr>\n",
       "      <th>0</th>\n",
       "      <td>CatBoostClassifier</td>\n",
       "      <td>0.851248</td>\n",
       "      <td>0.784142</td>\n",
       "    </tr>\n",
       "    <tr>\n",
       "      <th>1</th>\n",
       "      <td>LogisticRegression+GridSearch</td>\n",
       "      <td>0.899449</td>\n",
       "      <td>0.761196</td>\n",
       "    </tr>\n",
       "    <tr>\n",
       "      <th>2</th>\n",
       "      <td>LogisticRegression</td>\n",
       "      <td>0.830835</td>\n",
       "      <td>0.758394</td>\n",
       "    </tr>\n",
       "    <tr>\n",
       "      <th>3</th>\n",
       "      <td>LGBMClassifier</td>\n",
       "      <td>0.781473</td>\n",
       "      <td>0.744928</td>\n",
       "    </tr>\n",
       "    <tr>\n",
       "      <th>4</th>\n",
       "      <td>RandomForest+Optuna</td>\n",
       "      <td>0.0</td>\n",
       "      <td>0.432244</td>\n",
       "    </tr>\n",
       "    <tr>\n",
       "      <th>5</th>\n",
       "      <td>DummyClassifer</td>\n",
       "      <td>0.184593</td>\n",
       "      <td>0.184578</td>\n",
       "    </tr>\n",
       "  </tbody>\n",
       "</table>\n",
       "</div>"
      ],
      "text/plain": [
       "                           index  F1_train   F1_test\n",
       "0             CatBoostClassifier  0.851248  0.784142\n",
       "1  LogisticRegression+GridSearch  0.899449  0.761196\n",
       "2             LogisticRegression  0.830835  0.758394\n",
       "3                 LGBMClassifier  0.781473  0.744928\n",
       "4            RandomForest+Optuna       0.0  0.432244\n",
       "5                 DummyClassifer  0.184593  0.184578"
      ]
     },
     "execution_count": 35,
     "metadata": {},
     "output_type": "execute_result"
    }
   ],
   "source": [
    "compare_models=compare_models.sort_values(by='F1_test', ascending=False).reset_index()\n",
    "compare_models"
   ]
  },
  {
   "cell_type": "code",
   "execution_count": 36,
   "id": "fbb00371",
   "metadata": {},
   "outputs": [
    {
     "data": {
      "text/plain": [
       "Text(0.5, 0.98, 'Сравнение качества моделей')"
      ]
     },
     "execution_count": 36,
     "metadata": {},
     "output_type": "execute_result"
    },
    {
     "data": {
      "image/png": "[encoded data removed]",
      "text/plain": [
       "<Figure size 864x576 with 2 Axes>"
      ]
     },
     "metadata": {
      "needs_background": "light"
     },
     "output_type": "display_data"
    }
   ],
   "source": [
    "fig, axs = plt.subplots(1,2)\n",
    "\n",
    "compare_models.plot(kind='bar', x='index', y= 'F1_train',color='green',figsize=(12, 8), label='Качество на тренировочной выборке',ax=axs[0])\n",
    "compare_models.plot(kind='bar', x='index', y= 'F1_test',color='blue',figsize=(12, 8),  label='Качество на тестовой выборке', ax=axs[1])\n",
    "\n",
    "\n",
    "fig.suptitle('Сравнение качества моделей',fontsize=20)"
   ]
  },
  {
   "cell_type": "markdown",
   "id": "0349d80e",
   "metadata": {},
   "source": [
    "## Вывод"
   ]
  },
  {
   "cell_type": "markdown",
   "id": "b270c7f9",
   "metadata": {},
   "source": [
    "После предварительной обработки комментариев из представленного заказчиком  набор данных с разметкой о токсичности правок, были обучены несколько моделей. <br>\n",
    "Худший результат у случайного леса. Наилучшим образом смогли классифицировать комментарии на позитивные и негативные модель логистичекой регресси (со стандартными параметрами и перебором параметров) и CatBost. Метрика кчества этих мелей превысила необходимый порог в 0.75. Указанные модели показали хороший результат несмотря на большой объём данных.<br>\n",
    "Отмечу что лучший результат по классификации комментариев показала модель CatBoost, но наименьший уровень переобученности у логистической регрессии с перебором параметров. Предположу, что наилучшей ммоделью для реализации данного проекта будет именно этот алгоритм.<br>\n"
   ]
  }
 ],
 "metadata": {
  "ExecuteTimeLog": [
   {
    "duration": 1660,
    "start_time": "2022-05-20T22:01:30.949Z"
   },
   {
    "duration": 0,
    "start_time": "2022-05-20T22:01:32.610Z"
   },
   {
    "duration": 187,
    "start_time": "2022-05-20T22:01:41.858Z"
   },
   {
    "duration": 821,
    "start_time": "2022-05-20T22:01:46.591Z"
   },
   {
    "duration": 50,
    "start_time": "2022-05-20T22:01:59.723Z"
   },
   {
    "duration": 35,
    "start_time": "2022-05-20T22:02:04.552Z"
   },
   {
    "duration": 35,
    "start_time": "2022-05-20T22:02:10.405Z"
   },
   {
    "duration": 27,
    "start_time": "2022-05-20T22:02:17.858Z"
   },
   {
    "duration": 26,
    "start_time": "2022-05-20T22:02:23.362Z"
   },
   {
    "duration": 1508,
    "start_time": "2022-05-20T22:09:48.124Z"
   },
   {
    "duration": 2503,
    "start_time": "2022-05-20T22:09:49.641Z"
   },
   {
    "duration": 180,
    "start_time": "2022-05-20T22:09:54.424Z"
   },
   {
    "duration": 812,
    "start_time": "2022-05-20T22:09:57.212Z"
   },
   {
    "duration": 3,
    "start_time": "2022-05-20T22:10:10.597Z"
   },
   {
    "duration": 1072,
    "start_time": "2022-05-20T22:10:15.446Z"
   },
   {
    "duration": 4,
    "start_time": "2022-05-20T22:10:19.076Z"
   },
   {
    "duration": 1315,
    "start_time": "2022-05-20T22:10:35.680Z"
   },
   {
    "duration": 4,
    "start_time": "2022-05-20T22:10:39.294Z"
   },
   {
    "duration": 4,
    "start_time": "2022-05-20T22:10:41.809Z"
   },
   {
    "duration": 4,
    "start_time": "2022-05-20T22:10:44.203Z"
   }
  ],
  "kernelspec": {
   "display_name": "Python 3 (ipykernel)",
   "language": "python",
   "name": "python3"
  },
  "language_info": {
   "codemirror_mode": {
    "name": "ipython",
    "version": 3
   },
   "file_extension": ".py",
   "mimetype": "text/x-python",
   "name": "python",
   "nbconvert_exporter": "python",
   "pygments_lexer": "ipython3",
   "version": "3.9.7"
  },
  "toc": {
   "base_numbering": 1,
   "nav_menu": {},
   "number_sections": true,
   "sideBar": true,
   "skip_h1_title": true,
   "title_cell": "Table of Contents",
   "title_sidebar": "Contents",
   "toc_cell": true,
   "toc_position": {
    "height": "calc(100% - 180px)",
    "left": "10px",
    "top": "150px",
    "width": "273.188px"
   },
   "toc_section_display": true,
   "toc_window_display": true
  }
 },
 "nbformat": 4,
 "nbformat_minor": 5
}
