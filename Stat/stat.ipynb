{
 "cells": [
  {
   "cell_type": "markdown",
   "metadata": {},
   "source": [
    "# Определение перспективного тарифа для телеком-компании"
   ]
  },
  {
   "cell_type": "markdown",
   "metadata": {},
   "source": [
    "## О проекте"
   ]
  },
  {
   "cell_type": "markdown",
   "metadata": {},
   "source": [
    "### Цель"
   ]
  },
  {
   "cell_type": "markdown",
   "metadata": {},
   "source": [
    "Мобильному оператору необходимо скорректировать рекламный бюджет, для определения доходности тарифных планов.<br>\n",
    "Для реализации задания необходимо провести предварительный анализ тарифов по выборке для 500 пользователей. Нужно проанализировать поведение клиентов и сделать вывод — какой тариф лучше.\n"
   ]
  },
  {
   "cell_type": "markdown",
   "metadata": {},
   "source": [
    "### План"
   ]
  },
  {
   "cell_type": "markdown",
   "metadata": {},
   "source": [
    "1. Открытие файлов с данными и изучение общей информации\n",
    "2. Подготовка данных:\n",
    "- Приведение данные к нужным типам;\n",
    "- Поиск и исправление ошибок;\n",
    "- Подсчёт для каждого пользователя количества сделанных звонков и израсходованных минут по месяцам, количества отправленных сообщений по месяцам, объема израсходованного интернет-трафика по месяцам, помесячную выручку с каждого пользователя.\n",
    "3. Анализ данных (сколько минут разговора, сколько сообщений и какой объём интернет-трафика требуется пользователям каждого тарифа в месяц; среднее количество, дисперсия и стандартное отклонение; описание распределения).\n",
    "4. Проверка гипотез (средняя выручка пользователей тарифов «Ультра» и «Смарт» различаются; средняя выручка пользователей из Москвы отличается от выручки пользователей из других регионов)\n",
    "5. Написание общего вывода"
   ]
  },
  {
   "cell_type": "markdown",
   "metadata": {},
   "source": [
    "### Сведения о данных"
   ]
  },
  {
   "cell_type": "markdown",
   "metadata": {},
   "source": [
    "Таблица users:\n",
    "- user_id — уникальный идентификатор пользователя\n",
    "- first_name — имя пользователя\n",
    "- last_name — фамилия пользователя\n",
    "- age — возраст пользователя (годы)\n",
    "- reg_date — дата подключения тарифа (день, месяц, год)\n",
    "- churn_date — дата прекращения пользования тарифом (если значение пропущено, то тариф ещё действовал на момент выгрузки данных)\n",
    "- city — город проживания пользователя\n",
    "- tarif — название тарифного плана\n",
    "Таблица calls:\n",
    "- id — уникальный номер звонка\n",
    "- call_date — дата звонка\n",
    "- duration — длительность звонка в минутах\n",
    "- user_id — идентификатор пользователя, сделавшего звонок\n",
    "Таблица messages:\n",
    "- id — уникальный номер сообщения\n",
    "- message_date — дата сообщения\n",
    "- user_id — идентификатор пользователя, отправившего сообщение\n",
    "Таблица internet:\n",
    "- id — уникальный номер сессии\n",
    "- mb_used — объём потраченного за сессию интернет-трафика (в мегабайтах)\n",
    "- session_date — дата интернет-сессии\n",
    "- user_id — идентификатор пользователя\n",
    "Таблица tariffs:\n",
    "- tariff_name — название тарифа\n",
    "- rub_monthly_fee — ежемесячная абонентская плата в рублях\n",
    "- minutes_included — количество минут разговора в месяц, включённых в абонентскую плату\n",
    "- messages_included — количество сообщений в месяц, включённых в абонентскую плату\n",
    "- mb_per_month_included — объём интернет-трафика, включённого в абонентскую плату (в мегабайтах)\n",
    "- rub_per_minute — стоимость минуты разговора сверх тарифного пакета (например, если в тарифе 100 минут разговора в месяц, то со 101 минуты будет взиматься плата)\n",
    "- rub_per_message — стоимость отправки сообщения сверх тарифного пакета\n",
    "- rub_per_gb — стоимость дополнительного гигабайта интернет-трафика сверх тарифного пакета (1 гигабайт = 1024 мегабайта)"
   ]
  },
  {
   "cell_type": "markdown",
   "metadata": {},
   "source": [
    "## Знакомство с данными"
   ]
  },
  {
   "cell_type": "markdown",
   "metadata": {},
   "source": [
    "### Просмотр информации из таблиц и о таблицах"
   ]
  },
  {
   "cell_type": "code",
   "execution_count": 1,
   "metadata": {},
   "outputs": [],
   "source": [
    "# Импорт необходимых библиотек\n",
    "import pandas as pd\n",
    "import matplotlib.pyplot as plt\n",
    "import seaborn as sb\n",
    "import numpy as np\n",
    "import math\n",
    "from scipy import stats as st"
   ]
  },
  {
   "cell_type": "markdown",
   "metadata": {},
   "source": [
    "*После иморта библиотек, пооберёдно открываю каждый файл, прослатриваю информацию о таблице а также данные, содержащиеся в ней*"
   ]
  },
  {
   "cell_type": "code",
   "execution_count": 2,
   "metadata": {},
   "outputs": [
    {
     "data": {
      "text/html": [
       "<div>\n",
       "<style scoped>\n",
       "    .dataframe tbody tr th:only-of-type {\n",
       "        vertical-align: middle;\n",
       "    }\n",
       "\n",
       "    .dataframe tbody tr th {\n",
       "        vertical-align: top;\n",
       "    }\n",
       "\n",
       "    .dataframe thead th {\n",
       "        text-align: right;\n",
       "    }\n",
       "</style>\n",
       "<table border=\"1\" class=\"dataframe\">\n",
       "  <thead>\n",
       "    <tr style=\"text-align: right;\">\n",
       "      <th></th>\n",
       "      <th>id</th>\n",
       "      <th>call_date</th>\n",
       "      <th>duration</th>\n",
       "      <th>user_id</th>\n",
       "    </tr>\n",
       "  </thead>\n",
       "  <tbody>\n",
       "    <tr>\n",
       "      <td>0</td>\n",
       "      <td>1000_0</td>\n",
       "      <td>2018-07-25</td>\n",
       "      <td>0.00</td>\n",
       "      <td>1000</td>\n",
       "    </tr>\n",
       "    <tr>\n",
       "      <td>1</td>\n",
       "      <td>1000_1</td>\n",
       "      <td>2018-08-17</td>\n",
       "      <td>0.00</td>\n",
       "      <td>1000</td>\n",
       "    </tr>\n",
       "    <tr>\n",
       "      <td>2</td>\n",
       "      <td>1000_2</td>\n",
       "      <td>2018-06-11</td>\n",
       "      <td>2.85</td>\n",
       "      <td>1000</td>\n",
       "    </tr>\n",
       "    <tr>\n",
       "      <td>3</td>\n",
       "      <td>1000_3</td>\n",
       "      <td>2018-09-21</td>\n",
       "      <td>13.80</td>\n",
       "      <td>1000</td>\n",
       "    </tr>\n",
       "    <tr>\n",
       "      <td>4</td>\n",
       "      <td>1000_4</td>\n",
       "      <td>2018-12-15</td>\n",
       "      <td>5.18</td>\n",
       "      <td>1000</td>\n",
       "    </tr>\n",
       "    <tr>\n",
       "      <td>5</td>\n",
       "      <td>1000_5</td>\n",
       "      <td>2018-11-02</td>\n",
       "      <td>0.00</td>\n",
       "      <td>1000</td>\n",
       "    </tr>\n",
       "    <tr>\n",
       "      <td>6</td>\n",
       "      <td>1000_6</td>\n",
       "      <td>2018-10-18</td>\n",
       "      <td>0.00</td>\n",
       "      <td>1000</td>\n",
       "    </tr>\n",
       "    <tr>\n",
       "      <td>7</td>\n",
       "      <td>1000_7</td>\n",
       "      <td>2018-08-22</td>\n",
       "      <td>18.31</td>\n",
       "      <td>1000</td>\n",
       "    </tr>\n",
       "    <tr>\n",
       "      <td>8</td>\n",
       "      <td>1000_8</td>\n",
       "      <td>2018-09-15</td>\n",
       "      <td>18.44</td>\n",
       "      <td>1000</td>\n",
       "    </tr>\n",
       "    <tr>\n",
       "      <td>9</td>\n",
       "      <td>1000_9</td>\n",
       "      <td>2018-08-15</td>\n",
       "      <td>0.00</td>\n",
       "      <td>1000</td>\n",
       "    </tr>\n",
       "  </tbody>\n",
       "</table>\n",
       "</div>"
      ],
      "text/plain": [
       "       id   call_date  duration  user_id\n",
       "0  1000_0  2018-07-25      0.00     1000\n",
       "1  1000_1  2018-08-17      0.00     1000\n",
       "2  1000_2  2018-06-11      2.85     1000\n",
       "3  1000_3  2018-09-21     13.80     1000\n",
       "4  1000_4  2018-12-15      5.18     1000\n",
       "5  1000_5  2018-11-02      0.00     1000\n",
       "6  1000_6  2018-10-18      0.00     1000\n",
       "7  1000_7  2018-08-22     18.31     1000\n",
       "8  1000_8  2018-09-15     18.44     1000\n",
       "9  1000_9  2018-08-15      0.00     1000"
      ]
     },
     "execution_count": 2,
     "metadata": {},
     "output_type": "execute_result"
    }
   ],
   "source": [
    "# Прсмотр таблицы с информацией о звонках\n",
    "calls=pd.read_csv('/datasets/calls.csv', sep=',')\n",
    "calls.head(10)"
   ]
  },
  {
   "cell_type": "code",
   "execution_count": 3,
   "metadata": {},
   "outputs": [
    {
     "name": "stdout",
     "output_type": "stream",
     "text": [
      "<class 'pandas.core.frame.DataFrame'>\n",
      "RangeIndex: 202607 entries, 0 to 202606\n",
      "Data columns (total 4 columns):\n",
      "id           202607 non-null object\n",
      "call_date    202607 non-null object\n",
      "duration     202607 non-null float64\n",
      "user_id      202607 non-null int64\n",
      "dtypes: float64(1), int64(1), object(2)\n",
      "memory usage: 6.2+ MB\n"
     ]
    }
   ],
   "source": [
    "calls.info() #оценка общей информации о таблице звонков"
   ]
  },
  {
   "cell_type": "code",
   "execution_count": 4,
   "metadata": {},
   "outputs": [
    {
     "data": {
      "text/html": [
       "<div>\n",
       "<style scoped>\n",
       "    .dataframe tbody tr th:only-of-type {\n",
       "        vertical-align: middle;\n",
       "    }\n",
       "\n",
       "    .dataframe tbody tr th {\n",
       "        vertical-align: top;\n",
       "    }\n",
       "\n",
       "    .dataframe thead th {\n",
       "        text-align: right;\n",
       "    }\n",
       "</style>\n",
       "<table border=\"1\" class=\"dataframe\">\n",
       "  <thead>\n",
       "    <tr style=\"text-align: right;\">\n",
       "      <th></th>\n",
       "      <th>Unnamed: 0</th>\n",
       "      <th>id</th>\n",
       "      <th>mb_used</th>\n",
       "      <th>session_date</th>\n",
       "      <th>user_id</th>\n",
       "    </tr>\n",
       "  </thead>\n",
       "  <tbody>\n",
       "    <tr>\n",
       "      <td>0</td>\n",
       "      <td>0</td>\n",
       "      <td>1000_0</td>\n",
       "      <td>112.95</td>\n",
       "      <td>2018-11-25</td>\n",
       "      <td>1000</td>\n",
       "    </tr>\n",
       "    <tr>\n",
       "      <td>1</td>\n",
       "      <td>1</td>\n",
       "      <td>1000_1</td>\n",
       "      <td>1052.81</td>\n",
       "      <td>2018-09-07</td>\n",
       "      <td>1000</td>\n",
       "    </tr>\n",
       "    <tr>\n",
       "      <td>2</td>\n",
       "      <td>2</td>\n",
       "      <td>1000_2</td>\n",
       "      <td>1197.26</td>\n",
       "      <td>2018-06-25</td>\n",
       "      <td>1000</td>\n",
       "    </tr>\n",
       "    <tr>\n",
       "      <td>3</td>\n",
       "      <td>3</td>\n",
       "      <td>1000_3</td>\n",
       "      <td>550.27</td>\n",
       "      <td>2018-08-22</td>\n",
       "      <td>1000</td>\n",
       "    </tr>\n",
       "    <tr>\n",
       "      <td>4</td>\n",
       "      <td>4</td>\n",
       "      <td>1000_4</td>\n",
       "      <td>302.56</td>\n",
       "      <td>2018-09-24</td>\n",
       "      <td>1000</td>\n",
       "    </tr>\n",
       "    <tr>\n",
       "      <td>5</td>\n",
       "      <td>5</td>\n",
       "      <td>1000_5</td>\n",
       "      <td>399.97</td>\n",
       "      <td>2018-10-02</td>\n",
       "      <td>1000</td>\n",
       "    </tr>\n",
       "    <tr>\n",
       "      <td>6</td>\n",
       "      <td>6</td>\n",
       "      <td>1000_6</td>\n",
       "      <td>540.08</td>\n",
       "      <td>2018-09-07</td>\n",
       "      <td>1000</td>\n",
       "    </tr>\n",
       "    <tr>\n",
       "      <td>7</td>\n",
       "      <td>7</td>\n",
       "      <td>1000_7</td>\n",
       "      <td>415.70</td>\n",
       "      <td>2018-07-11</td>\n",
       "      <td>1000</td>\n",
       "    </tr>\n",
       "    <tr>\n",
       "      <td>8</td>\n",
       "      <td>8</td>\n",
       "      <td>1000_8</td>\n",
       "      <td>505.40</td>\n",
       "      <td>2018-10-08</td>\n",
       "      <td>1000</td>\n",
       "    </tr>\n",
       "    <tr>\n",
       "      <td>9</td>\n",
       "      <td>9</td>\n",
       "      <td>1000_9</td>\n",
       "      <td>345.54</td>\n",
       "      <td>2018-09-03</td>\n",
       "      <td>1000</td>\n",
       "    </tr>\n",
       "  </tbody>\n",
       "</table>\n",
       "</div>"
      ],
      "text/plain": [
       "   Unnamed: 0      id  mb_used session_date  user_id\n",
       "0           0  1000_0   112.95   2018-11-25     1000\n",
       "1           1  1000_1  1052.81   2018-09-07     1000\n",
       "2           2  1000_2  1197.26   2018-06-25     1000\n",
       "3           3  1000_3   550.27   2018-08-22     1000\n",
       "4           4  1000_4   302.56   2018-09-24     1000\n",
       "5           5  1000_5   399.97   2018-10-02     1000\n",
       "6           6  1000_6   540.08   2018-09-07     1000\n",
       "7           7  1000_7   415.70   2018-07-11     1000\n",
       "8           8  1000_8   505.40   2018-10-08     1000\n",
       "9           9  1000_9   345.54   2018-09-03     1000"
      ]
     },
     "execution_count": 4,
     "metadata": {},
     "output_type": "execute_result"
    }
   ],
   "source": [
    "# Прсмотр таблицы с информацией об интернет-сессиях\n",
    "internet=pd.read_csv('/datasets/internet.csv', sep=',')\n",
    "internet.head(10)"
   ]
  },
  {
   "cell_type": "code",
   "execution_count": 5,
   "metadata": {
    "scrolled": true
   },
   "outputs": [
    {
     "name": "stdout",
     "output_type": "stream",
     "text": [
      "<class 'pandas.core.frame.DataFrame'>\n",
      "RangeIndex: 149396 entries, 0 to 149395\n",
      "Data columns (total 5 columns):\n",
      "Unnamed: 0      149396 non-null int64\n",
      "id              149396 non-null object\n",
      "mb_used         149396 non-null float64\n",
      "session_date    149396 non-null object\n",
      "user_id         149396 non-null int64\n",
      "dtypes: float64(1), int64(2), object(2)\n",
      "memory usage: 5.7+ MB\n"
     ]
    }
   ],
   "source": [
    "internet.info() #оценка общей информации о таблице интернет-сессий"
   ]
  },
  {
   "cell_type": "code",
   "execution_count": 6,
   "metadata": {},
   "outputs": [
    {
     "data": {
      "text/html": [
       "<div>\n",
       "<style scoped>\n",
       "    .dataframe tbody tr th:only-of-type {\n",
       "        vertical-align: middle;\n",
       "    }\n",
       "\n",
       "    .dataframe tbody tr th {\n",
       "        vertical-align: top;\n",
       "    }\n",
       "\n",
       "    .dataframe thead th {\n",
       "        text-align: right;\n",
       "    }\n",
       "</style>\n",
       "<table border=\"1\" class=\"dataframe\">\n",
       "  <thead>\n",
       "    <tr style=\"text-align: right;\">\n",
       "      <th></th>\n",
       "      <th>id</th>\n",
       "      <th>message_date</th>\n",
       "      <th>user_id</th>\n",
       "    </tr>\n",
       "  </thead>\n",
       "  <tbody>\n",
       "    <tr>\n",
       "      <td>0</td>\n",
       "      <td>1000_0</td>\n",
       "      <td>2018-06-27</td>\n",
       "      <td>1000</td>\n",
       "    </tr>\n",
       "    <tr>\n",
       "      <td>1</td>\n",
       "      <td>1000_1</td>\n",
       "      <td>2018-10-08</td>\n",
       "      <td>1000</td>\n",
       "    </tr>\n",
       "    <tr>\n",
       "      <td>2</td>\n",
       "      <td>1000_2</td>\n",
       "      <td>2018-08-04</td>\n",
       "      <td>1000</td>\n",
       "    </tr>\n",
       "    <tr>\n",
       "      <td>3</td>\n",
       "      <td>1000_3</td>\n",
       "      <td>2018-06-16</td>\n",
       "      <td>1000</td>\n",
       "    </tr>\n",
       "    <tr>\n",
       "      <td>4</td>\n",
       "      <td>1000_4</td>\n",
       "      <td>2018-12-05</td>\n",
       "      <td>1000</td>\n",
       "    </tr>\n",
       "    <tr>\n",
       "      <td>5</td>\n",
       "      <td>1000_5</td>\n",
       "      <td>2018-06-20</td>\n",
       "      <td>1000</td>\n",
       "    </tr>\n",
       "    <tr>\n",
       "      <td>6</td>\n",
       "      <td>1000_6</td>\n",
       "      <td>2018-11-19</td>\n",
       "      <td>1000</td>\n",
       "    </tr>\n",
       "    <tr>\n",
       "      <td>7</td>\n",
       "      <td>1000_7</td>\n",
       "      <td>2018-10-29</td>\n",
       "      <td>1000</td>\n",
       "    </tr>\n",
       "    <tr>\n",
       "      <td>8</td>\n",
       "      <td>1000_8</td>\n",
       "      <td>2018-06-25</td>\n",
       "      <td>1000</td>\n",
       "    </tr>\n",
       "    <tr>\n",
       "      <td>9</td>\n",
       "      <td>1000_9</td>\n",
       "      <td>2018-12-18</td>\n",
       "      <td>1000</td>\n",
       "    </tr>\n",
       "  </tbody>\n",
       "</table>\n",
       "</div>"
      ],
      "text/plain": [
       "       id message_date  user_id\n",
       "0  1000_0   2018-06-27     1000\n",
       "1  1000_1   2018-10-08     1000\n",
       "2  1000_2   2018-08-04     1000\n",
       "3  1000_3   2018-06-16     1000\n",
       "4  1000_4   2018-12-05     1000\n",
       "5  1000_5   2018-06-20     1000\n",
       "6  1000_6   2018-11-19     1000\n",
       "7  1000_7   2018-10-29     1000\n",
       "8  1000_8   2018-06-25     1000\n",
       "9  1000_9   2018-12-18     1000"
      ]
     },
     "execution_count": 6,
     "metadata": {},
     "output_type": "execute_result"
    }
   ],
   "source": [
    "# Прсмотр таблицы с информацией о сообщениях\n",
    "messages=pd.read_csv('/datasets/messages.csv', sep=',')\n",
    "messages.head(10)"
   ]
  },
  {
   "cell_type": "code",
   "execution_count": 7,
   "metadata": {},
   "outputs": [
    {
     "name": "stdout",
     "output_type": "stream",
     "text": [
      "<class 'pandas.core.frame.DataFrame'>\n",
      "RangeIndex: 123036 entries, 0 to 123035\n",
      "Data columns (total 3 columns):\n",
      "id              123036 non-null object\n",
      "message_date    123036 non-null object\n",
      "user_id         123036 non-null int64\n",
      "dtypes: int64(1), object(2)\n",
      "memory usage: 2.8+ MB\n"
     ]
    }
   ],
   "source": [
    "messages.info() #оценка общей информации о таблице сообщений"
   ]
  },
  {
   "cell_type": "code",
   "execution_count": 8,
   "metadata": {},
   "outputs": [
    {
     "data": {
      "text/html": [
       "<div>\n",
       "<style scoped>\n",
       "    .dataframe tbody tr th:only-of-type {\n",
       "        vertical-align: middle;\n",
       "    }\n",
       "\n",
       "    .dataframe tbody tr th {\n",
       "        vertical-align: top;\n",
       "    }\n",
       "\n",
       "    .dataframe thead th {\n",
       "        text-align: right;\n",
       "    }\n",
       "</style>\n",
       "<table border=\"1\" class=\"dataframe\">\n",
       "  <thead>\n",
       "    <tr style=\"text-align: right;\">\n",
       "      <th></th>\n",
       "      <th>messages_included</th>\n",
       "      <th>mb_per_month_included</th>\n",
       "      <th>minutes_included</th>\n",
       "      <th>rub_monthly_fee</th>\n",
       "      <th>rub_per_gb</th>\n",
       "      <th>rub_per_message</th>\n",
       "      <th>rub_per_minute</th>\n",
       "      <th>tariff_name</th>\n",
       "    </tr>\n",
       "  </thead>\n",
       "  <tbody>\n",
       "    <tr>\n",
       "      <td>0</td>\n",
       "      <td>50</td>\n",
       "      <td>15360</td>\n",
       "      <td>500</td>\n",
       "      <td>550</td>\n",
       "      <td>200</td>\n",
       "      <td>3</td>\n",
       "      <td>3</td>\n",
       "      <td>smart</td>\n",
       "    </tr>\n",
       "    <tr>\n",
       "      <td>1</td>\n",
       "      <td>1000</td>\n",
       "      <td>30720</td>\n",
       "      <td>3000</td>\n",
       "      <td>1950</td>\n",
       "      <td>150</td>\n",
       "      <td>1</td>\n",
       "      <td>1</td>\n",
       "      <td>ultra</td>\n",
       "    </tr>\n",
       "  </tbody>\n",
       "</table>\n",
       "</div>"
      ],
      "text/plain": [
       "   messages_included  mb_per_month_included  minutes_included  \\\n",
       "0                 50                  15360               500   \n",
       "1               1000                  30720              3000   \n",
       "\n",
       "   rub_monthly_fee  rub_per_gb  rub_per_message  rub_per_minute tariff_name  \n",
       "0              550         200                3               3       smart  \n",
       "1             1950         150                1               1       ultra  "
      ]
     },
     "execution_count": 8,
     "metadata": {},
     "output_type": "execute_result"
    }
   ],
   "source": [
    "# Прсмотр таблицы с информацией о тарифах\n",
    "tariffs=pd.read_csv('/datasets/tariffs.csv', sep=',')\n",
    "tariffs.head(10)"
   ]
  },
  {
   "cell_type": "code",
   "execution_count": 9,
   "metadata": {},
   "outputs": [
    {
     "name": "stdout",
     "output_type": "stream",
     "text": [
      "<class 'pandas.core.frame.DataFrame'>\n",
      "RangeIndex: 2 entries, 0 to 1\n",
      "Data columns (total 8 columns):\n",
      "messages_included        2 non-null int64\n",
      "mb_per_month_included    2 non-null int64\n",
      "minutes_included         2 non-null int64\n",
      "rub_monthly_fee          2 non-null int64\n",
      "rub_per_gb               2 non-null int64\n",
      "rub_per_message          2 non-null int64\n",
      "rub_per_minute           2 non-null int64\n",
      "tariff_name              2 non-null object\n",
      "dtypes: int64(7), object(1)\n",
      "memory usage: 256.0+ bytes\n"
     ]
    }
   ],
   "source": [
    "tariffs.info() #оценка общей информации о таблице тарифов"
   ]
  },
  {
   "cell_type": "code",
   "execution_count": 10,
   "metadata": {},
   "outputs": [
    {
     "data": {
      "text/html": [
       "<div>\n",
       "<style scoped>\n",
       "    .dataframe tbody tr th:only-of-type {\n",
       "        vertical-align: middle;\n",
       "    }\n",
       "\n",
       "    .dataframe tbody tr th {\n",
       "        vertical-align: top;\n",
       "    }\n",
       "\n",
       "    .dataframe thead th {\n",
       "        text-align: right;\n",
       "    }\n",
       "</style>\n",
       "<table border=\"1\" class=\"dataframe\">\n",
       "  <thead>\n",
       "    <tr style=\"text-align: right;\">\n",
       "      <th></th>\n",
       "      <th>user_id</th>\n",
       "      <th>age</th>\n",
       "      <th>churn_date</th>\n",
       "      <th>city</th>\n",
       "      <th>first_name</th>\n",
       "      <th>last_name</th>\n",
       "      <th>reg_date</th>\n",
       "      <th>tariff</th>\n",
       "    </tr>\n",
       "  </thead>\n",
       "  <tbody>\n",
       "    <tr>\n",
       "      <td>0</td>\n",
       "      <td>1000</td>\n",
       "      <td>52</td>\n",
       "      <td>NaN</td>\n",
       "      <td>Краснодар</td>\n",
       "      <td>Рафаил</td>\n",
       "      <td>Верещагин</td>\n",
       "      <td>2018-05-25</td>\n",
       "      <td>ultra</td>\n",
       "    </tr>\n",
       "    <tr>\n",
       "      <td>1</td>\n",
       "      <td>1001</td>\n",
       "      <td>41</td>\n",
       "      <td>NaN</td>\n",
       "      <td>Москва</td>\n",
       "      <td>Иван</td>\n",
       "      <td>Ежов</td>\n",
       "      <td>2018-11-01</td>\n",
       "      <td>smart</td>\n",
       "    </tr>\n",
       "    <tr>\n",
       "      <td>2</td>\n",
       "      <td>1002</td>\n",
       "      <td>59</td>\n",
       "      <td>NaN</td>\n",
       "      <td>Стерлитамак</td>\n",
       "      <td>Евгений</td>\n",
       "      <td>Абрамович</td>\n",
       "      <td>2018-06-17</td>\n",
       "      <td>smart</td>\n",
       "    </tr>\n",
       "    <tr>\n",
       "      <td>3</td>\n",
       "      <td>1003</td>\n",
       "      <td>23</td>\n",
       "      <td>NaN</td>\n",
       "      <td>Москва</td>\n",
       "      <td>Белла</td>\n",
       "      <td>Белякова</td>\n",
       "      <td>2018-08-17</td>\n",
       "      <td>ultra</td>\n",
       "    </tr>\n",
       "    <tr>\n",
       "      <td>4</td>\n",
       "      <td>1004</td>\n",
       "      <td>68</td>\n",
       "      <td>NaN</td>\n",
       "      <td>Новокузнецк</td>\n",
       "      <td>Татьяна</td>\n",
       "      <td>Авдеенко</td>\n",
       "      <td>2018-05-14</td>\n",
       "      <td>ultra</td>\n",
       "    </tr>\n",
       "    <tr>\n",
       "      <td>5</td>\n",
       "      <td>1005</td>\n",
       "      <td>67</td>\n",
       "      <td>NaN</td>\n",
       "      <td>Набережные Челны</td>\n",
       "      <td>Афанасий</td>\n",
       "      <td>Горлов</td>\n",
       "      <td>2018-01-25</td>\n",
       "      <td>smart</td>\n",
       "    </tr>\n",
       "    <tr>\n",
       "      <td>6</td>\n",
       "      <td>1006</td>\n",
       "      <td>21</td>\n",
       "      <td>NaN</td>\n",
       "      <td>Ульяновск</td>\n",
       "      <td>Леонид</td>\n",
       "      <td>Ермолаев</td>\n",
       "      <td>2018-02-26</td>\n",
       "      <td>smart</td>\n",
       "    </tr>\n",
       "    <tr>\n",
       "      <td>7</td>\n",
       "      <td>1007</td>\n",
       "      <td>65</td>\n",
       "      <td>NaN</td>\n",
       "      <td>Москва</td>\n",
       "      <td>Юна</td>\n",
       "      <td>Березина</td>\n",
       "      <td>2018-04-19</td>\n",
       "      <td>smart</td>\n",
       "    </tr>\n",
       "    <tr>\n",
       "      <td>8</td>\n",
       "      <td>1008</td>\n",
       "      <td>63</td>\n",
       "      <td>NaN</td>\n",
       "      <td>Челябинск</td>\n",
       "      <td>Рустэм</td>\n",
       "      <td>Пономарёв</td>\n",
       "      <td>2018-12-19</td>\n",
       "      <td>smart</td>\n",
       "    </tr>\n",
       "    <tr>\n",
       "      <td>9</td>\n",
       "      <td>1009</td>\n",
       "      <td>24</td>\n",
       "      <td>NaN</td>\n",
       "      <td>Пермь</td>\n",
       "      <td>Василиса</td>\n",
       "      <td>Блинова</td>\n",
       "      <td>2018-03-22</td>\n",
       "      <td>smart</td>\n",
       "    </tr>\n",
       "  </tbody>\n",
       "</table>\n",
       "</div>"
      ],
      "text/plain": [
       "   user_id  age churn_date              city first_name  last_name  \\\n",
       "0     1000   52        NaN         Краснодар     Рафаил  Верещагин   \n",
       "1     1001   41        NaN            Москва       Иван       Ежов   \n",
       "2     1002   59        NaN       Стерлитамак    Евгений  Абрамович   \n",
       "3     1003   23        NaN            Москва      Белла   Белякова   \n",
       "4     1004   68        NaN       Новокузнецк    Татьяна   Авдеенко   \n",
       "5     1005   67        NaN  Набережные Челны   Афанасий     Горлов   \n",
       "6     1006   21        NaN         Ульяновск     Леонид   Ермолаев   \n",
       "7     1007   65        NaN            Москва        Юна   Березина   \n",
       "8     1008   63        NaN         Челябинск     Рустэм  Пономарёв   \n",
       "9     1009   24        NaN             Пермь   Василиса    Блинова   \n",
       "\n",
       "     reg_date tariff  \n",
       "0  2018-05-25  ultra  \n",
       "1  2018-11-01  smart  \n",
       "2  2018-06-17  smart  \n",
       "3  2018-08-17  ultra  \n",
       "4  2018-05-14  ultra  \n",
       "5  2018-01-25  smart  \n",
       "6  2018-02-26  smart  \n",
       "7  2018-04-19  smart  \n",
       "8  2018-12-19  smart  \n",
       "9  2018-03-22  smart  "
      ]
     },
     "execution_count": 10,
     "metadata": {},
     "output_type": "execute_result"
    }
   ],
   "source": [
    "# Прсмотр таблицы с информацией о пользователях\n",
    "users=pd.read_csv('/datasets/users.csv', sep=',')\n",
    "users.head(10)"
   ]
  },
  {
   "cell_type": "code",
   "execution_count": 11,
   "metadata": {},
   "outputs": [
    {
     "name": "stdout",
     "output_type": "stream",
     "text": [
      "<class 'pandas.core.frame.DataFrame'>\n",
      "RangeIndex: 500 entries, 0 to 499\n",
      "Data columns (total 8 columns):\n",
      "user_id       500 non-null int64\n",
      "age           500 non-null int64\n",
      "churn_date    38 non-null object\n",
      "city          500 non-null object\n",
      "first_name    500 non-null object\n",
      "last_name     500 non-null object\n",
      "reg_date      500 non-null object\n",
      "tariff        500 non-null object\n",
      "dtypes: int64(2), object(6)\n",
      "memory usage: 31.4+ KB\n"
     ]
    }
   ],
   "source": [
    "users.info() #оценка общей информации о таблице пользователей"
   ]
  },
  {
   "cell_type": "markdown",
   "metadata": {},
   "source": [
    "### Поиск пропусков и дубликатов в каждой таблице"
   ]
  },
  {
   "cell_type": "code",
   "execution_count": 12,
   "metadata": {
    "scrolled": true
   },
   "outputs": [
    {
     "data": {
      "text/plain": [
       "id           0\n",
       "call_date    0\n",
       "duration     0\n",
       "user_id      0\n",
       "dtype: int64"
      ]
     },
     "execution_count": 12,
     "metadata": {},
     "output_type": "execute_result"
    }
   ],
   "source": [
    "# Поиск пропусков\n",
    "calls.isna().sum()"
   ]
  },
  {
   "cell_type": "code",
   "execution_count": 13,
   "metadata": {},
   "outputs": [
    {
     "data": {
      "text/plain": [
       "0"
      ]
     },
     "metadata": {},
     "output_type": "display_data"
    }
   ],
   "source": [
    "#Проверка присутствия дубликатов\n",
    "display(calls.duplicated().sum())"
   ]
  },
  {
   "cell_type": "code",
   "execution_count": 14,
   "metadata": {
    "scrolled": true
   },
   "outputs": [
    {
     "data": {
      "text/plain": [
       "Unnamed: 0      0\n",
       "id              0\n",
       "mb_used         0\n",
       "session_date    0\n",
       "user_id         0\n",
       "dtype: int64"
      ]
     },
     "execution_count": 14,
     "metadata": {},
     "output_type": "execute_result"
    }
   ],
   "source": [
    "# Поиск пропусков\n",
    "internet.isna().sum()"
   ]
  },
  {
   "cell_type": "code",
   "execution_count": 15,
   "metadata": {},
   "outputs": [
    {
     "data": {
      "text/plain": [
       "0"
      ]
     },
     "metadata": {},
     "output_type": "display_data"
    }
   ],
   "source": [
    "#Проверка присутствия дубликатов\n",
    "display(internet.duplicated().sum())"
   ]
  },
  {
   "cell_type": "code",
   "execution_count": 16,
   "metadata": {},
   "outputs": [
    {
     "data": {
      "text/plain": [
       "id              0\n",
       "message_date    0\n",
       "user_id         0\n",
       "dtype: int64"
      ]
     },
     "execution_count": 16,
     "metadata": {},
     "output_type": "execute_result"
    }
   ],
   "source": [
    "# Поиск пропусков\n",
    "messages.isna().sum()"
   ]
  },
  {
   "cell_type": "code",
   "execution_count": 17,
   "metadata": {},
   "outputs": [
    {
     "data": {
      "text/plain": [
       "0"
      ]
     },
     "metadata": {},
     "output_type": "display_data"
    }
   ],
   "source": [
    "#Проверка присутствия дубликатов\n",
    "display(messages.duplicated().sum())"
   ]
  },
  {
   "cell_type": "code",
   "execution_count": 18,
   "metadata": {},
   "outputs": [
    {
     "data": {
      "text/plain": [
       "messages_included        0\n",
       "mb_per_month_included    0\n",
       "minutes_included         0\n",
       "rub_monthly_fee          0\n",
       "rub_per_gb               0\n",
       "rub_per_message          0\n",
       "rub_per_minute           0\n",
       "tariff_name              0\n",
       "dtype: int64"
      ]
     },
     "execution_count": 18,
     "metadata": {},
     "output_type": "execute_result"
    }
   ],
   "source": [
    "# Поиск пропусков\n",
    "tariffs.isna().sum()"
   ]
  },
  {
   "cell_type": "code",
   "execution_count": 19,
   "metadata": {},
   "outputs": [
    {
     "data": {
      "text/plain": [
       "0"
      ]
     },
     "metadata": {},
     "output_type": "display_data"
    }
   ],
   "source": [
    "#Проверка присутствия дубликатов\n",
    "display(tariffs.duplicated().sum())"
   ]
  },
  {
   "cell_type": "code",
   "execution_count": 20,
   "metadata": {},
   "outputs": [
    {
     "data": {
      "text/plain": [
       "user_id         0\n",
       "age             0\n",
       "churn_date    462\n",
       "city            0\n",
       "first_name      0\n",
       "last_name       0\n",
       "reg_date        0\n",
       "tariff          0\n",
       "dtype: int64"
      ]
     },
     "execution_count": 20,
     "metadata": {},
     "output_type": "execute_result"
    }
   ],
   "source": [
    "# Поиск пропусков\n",
    "users.isna().sum()"
   ]
  },
  {
   "cell_type": "code",
   "execution_count": 21,
   "metadata": {
    "scrolled": true
   },
   "outputs": [
    {
     "data": {
      "text/plain": [
       "0"
      ]
     },
     "metadata": {},
     "output_type": "display_data"
    }
   ],
   "source": [
    "#Проверка присутствия дубликатов\n",
    "display(users.duplicated().sum())"
   ]
  },
  {
   "cell_type": "markdown",
   "metadata": {},
   "source": [
    "### Исправление ошибок"
   ]
  },
  {
   "cell_type": "code",
   "execution_count": 22,
   "metadata": {
    "scrolled": false
   },
   "outputs": [
    {
     "data": {
      "text/html": [
       "<div>\n",
       "<style scoped>\n",
       "    .dataframe tbody tr th:only-of-type {\n",
       "        vertical-align: middle;\n",
       "    }\n",
       "\n",
       "    .dataframe tbody tr th {\n",
       "        vertical-align: top;\n",
       "    }\n",
       "\n",
       "    .dataframe thead th {\n",
       "        text-align: right;\n",
       "    }\n",
       "</style>\n",
       "<table border=\"1\" class=\"dataframe\">\n",
       "  <thead>\n",
       "    <tr style=\"text-align: right;\">\n",
       "      <th></th>\n",
       "      <th>id</th>\n",
       "      <th>call_date</th>\n",
       "      <th>duration</th>\n",
       "      <th>user_id</th>\n",
       "      <th>duration_min</th>\n",
       "    </tr>\n",
       "  </thead>\n",
       "  <tbody>\n",
       "    <tr>\n",
       "      <td>0</td>\n",
       "      <td>1000_0</td>\n",
       "      <td>2018-07-25</td>\n",
       "      <td>0.00</td>\n",
       "      <td>1000</td>\n",
       "      <td>0</td>\n",
       "    </tr>\n",
       "    <tr>\n",
       "      <td>1</td>\n",
       "      <td>1000_1</td>\n",
       "      <td>2018-08-17</td>\n",
       "      <td>0.00</td>\n",
       "      <td>1000</td>\n",
       "      <td>0</td>\n",
       "    </tr>\n",
       "    <tr>\n",
       "      <td>2</td>\n",
       "      <td>1000_2</td>\n",
       "      <td>2018-06-11</td>\n",
       "      <td>2.85</td>\n",
       "      <td>1000</td>\n",
       "      <td>3</td>\n",
       "    </tr>\n",
       "    <tr>\n",
       "      <td>3</td>\n",
       "      <td>1000_3</td>\n",
       "      <td>2018-09-21</td>\n",
       "      <td>13.80</td>\n",
       "      <td>1000</td>\n",
       "      <td>14</td>\n",
       "    </tr>\n",
       "    <tr>\n",
       "      <td>4</td>\n",
       "      <td>1000_4</td>\n",
       "      <td>2018-12-15</td>\n",
       "      <td>5.18</td>\n",
       "      <td>1000</td>\n",
       "      <td>6</td>\n",
       "    </tr>\n",
       "  </tbody>\n",
       "</table>\n",
       "</div>"
      ],
      "text/plain": [
       "       id   call_date  duration  user_id  duration_min\n",
       "0  1000_0  2018-07-25      0.00     1000             0\n",
       "1  1000_1  2018-08-17      0.00     1000             0\n",
       "2  1000_2  2018-06-11      2.85     1000             3\n",
       "3  1000_3  2018-09-21     13.80     1000            14\n",
       "4  1000_4  2018-12-15      5.18     1000             6"
      ]
     },
     "execution_count": 22,
     "metadata": {},
     "output_type": "execute_result"
    }
   ],
   "source": [
    "# Перевела секунды в минуты и округлила их согласно примечанию к заданию: секунды округляются до минут\n",
    "# Столбец, содержащий округлённые в большую сторону минуты разговора, перевела в int\n",
    "calls['duration_min']=(calls['duration']).apply(np.ceil).astype(int) \n",
    "calls.head()"
   ]
  },
  {
   "cell_type": "code",
   "execution_count": 23,
   "metadata": {},
   "outputs": [
    {
     "data": {
      "text/html": [
       "<div>\n",
       "<style scoped>\n",
       "    .dataframe tbody tr th:only-of-type {\n",
       "        vertical-align: middle;\n",
       "    }\n",
       "\n",
       "    .dataframe tbody tr th {\n",
       "        vertical-align: top;\n",
       "    }\n",
       "\n",
       "    .dataframe thead th {\n",
       "        text-align: right;\n",
       "    }\n",
       "</style>\n",
       "<table border=\"1\" class=\"dataframe\">\n",
       "  <thead>\n",
       "    <tr style=\"text-align: right;\">\n",
       "      <th></th>\n",
       "      <th>mess</th>\n",
       "      <th>message_date</th>\n",
       "      <th>user_id</th>\n",
       "    </tr>\n",
       "  </thead>\n",
       "  <tbody>\n",
       "    <tr>\n",
       "      <td>0</td>\n",
       "      <td>1000_0</td>\n",
       "      <td>2018-06-27</td>\n",
       "      <td>1000</td>\n",
       "    </tr>\n",
       "    <tr>\n",
       "      <td>1</td>\n",
       "      <td>1000_1</td>\n",
       "      <td>2018-10-08</td>\n",
       "      <td>1000</td>\n",
       "    </tr>\n",
       "    <tr>\n",
       "      <td>2</td>\n",
       "      <td>1000_2</td>\n",
       "      <td>2018-08-04</td>\n",
       "      <td>1000</td>\n",
       "    </tr>\n",
       "    <tr>\n",
       "      <td>3</td>\n",
       "      <td>1000_3</td>\n",
       "      <td>2018-06-16</td>\n",
       "      <td>1000</td>\n",
       "    </tr>\n",
       "    <tr>\n",
       "      <td>4</td>\n",
       "      <td>1000_4</td>\n",
       "      <td>2018-12-05</td>\n",
       "      <td>1000</td>\n",
       "    </tr>\n",
       "  </tbody>\n",
       "</table>\n",
       "</div>"
      ],
      "text/plain": [
       "     mess message_date  user_id\n",
       "0  1000_0   2018-06-27     1000\n",
       "1  1000_1   2018-10-08     1000\n",
       "2  1000_2   2018-08-04     1000\n",
       "3  1000_3   2018-06-16     1000\n",
       "4  1000_4   2018-12-05     1000"
      ]
     },
     "execution_count": 23,
     "metadata": {},
     "output_type": "execute_result"
    }
   ],
   "source": [
    "#Изменение названия столбца для избежания путаницы в последующем анализе\n",
    "messages=messages.rename(columns={'id':'mess'})\n",
    "messages.head()"
   ]
  },
  {
   "cell_type": "markdown",
   "metadata": {},
   "source": [
    "### Выводы"
   ]
  },
  {
   "cell_type": "markdown",
   "metadata": {},
   "source": [
    "После оценки информации о данных можно сделать следующие выводы:\n",
    "- В таблицах представлены данные о ползователях, их тарифных платах, сообщениях, интернет-сессиях и звонках.\n",
    "- Пропуки обнаружены только в таблице со сведениями о пользователях. Однако в пояснении к заданию указно, что пропущенные знаения обозначают то, что тариф ещё действовал на момент выгрузки данных.\n",
    "- Явных дубликатов не выявлено.\n",
    "- Ошибок в названиях колонок не нашла.\n",
    "- Из замечаний: я округлила секунды до минут в таблице calls поскольку в поянении к заданию значится, что \"«Мегалайн» всегда округляет секунды до минут\"."
   ]
  },
  {
   "cell_type": "markdown",
   "metadata": {},
   "source": [
    "## Предварительные подсчёты"
   ]
  },
  {
   "cell_type": "markdown",
   "metadata": {},
   "source": [
    "### Количество сделанных звонков и израсходованных минут разговора по месяцам для каждого пользователя"
   ]
  },
  {
   "cell_type": "markdown",
   "metadata": {},
   "source": [
    "Проведу подсчёты, по звонкам, после чего объеденю таблицы  `calls` и `users`. Объединение необходимо так как размещены сведения длительности звонков и наличия того или иного тарифа у абонента."
   ]
  },
  {
   "cell_type": "markdown",
   "metadata": {},
   "source": [
    "*Так как оценку необходимо проводить по месяцам, создам отдельный столбец с данными о номерах меяцев*"
   ]
  },
  {
   "cell_type": "code",
   "execution_count": 24,
   "metadata": {
    "scrolled": true
   },
   "outputs": [
    {
     "data": {
      "text/html": [
       "<div>\n",
       "<style scoped>\n",
       "    .dataframe tbody tr th:only-of-type {\n",
       "        vertical-align: middle;\n",
       "    }\n",
       "\n",
       "    .dataframe tbody tr th {\n",
       "        vertical-align: top;\n",
       "    }\n",
       "\n",
       "    .dataframe thead th {\n",
       "        text-align: right;\n",
       "    }\n",
       "</style>\n",
       "<table border=\"1\" class=\"dataframe\">\n",
       "  <thead>\n",
       "    <tr style=\"text-align: right;\">\n",
       "      <th></th>\n",
       "      <th>id</th>\n",
       "      <th>call_date</th>\n",
       "      <th>duration</th>\n",
       "      <th>user_id</th>\n",
       "      <th>duration_min</th>\n",
       "      <th>month</th>\n",
       "    </tr>\n",
       "  </thead>\n",
       "  <tbody>\n",
       "    <tr>\n",
       "      <td>0</td>\n",
       "      <td>1000_0</td>\n",
       "      <td>2018-07-25</td>\n",
       "      <td>0.00</td>\n",
       "      <td>1000</td>\n",
       "      <td>0</td>\n",
       "      <td>7</td>\n",
       "    </tr>\n",
       "    <tr>\n",
       "      <td>1</td>\n",
       "      <td>1000_1</td>\n",
       "      <td>2018-08-17</td>\n",
       "      <td>0.00</td>\n",
       "      <td>1000</td>\n",
       "      <td>0</td>\n",
       "      <td>8</td>\n",
       "    </tr>\n",
       "    <tr>\n",
       "      <td>2</td>\n",
       "      <td>1000_2</td>\n",
       "      <td>2018-06-11</td>\n",
       "      <td>2.85</td>\n",
       "      <td>1000</td>\n",
       "      <td>3</td>\n",
       "      <td>6</td>\n",
       "    </tr>\n",
       "    <tr>\n",
       "      <td>3</td>\n",
       "      <td>1000_3</td>\n",
       "      <td>2018-09-21</td>\n",
       "      <td>13.80</td>\n",
       "      <td>1000</td>\n",
       "      <td>14</td>\n",
       "      <td>9</td>\n",
       "    </tr>\n",
       "    <tr>\n",
       "      <td>4</td>\n",
       "      <td>1000_4</td>\n",
       "      <td>2018-12-15</td>\n",
       "      <td>5.18</td>\n",
       "      <td>1000</td>\n",
       "      <td>6</td>\n",
       "      <td>12</td>\n",
       "    </tr>\n",
       "    <tr>\n",
       "      <td>5</td>\n",
       "      <td>1000_5</td>\n",
       "      <td>2018-11-02</td>\n",
       "      <td>0.00</td>\n",
       "      <td>1000</td>\n",
       "      <td>0</td>\n",
       "      <td>11</td>\n",
       "    </tr>\n",
       "    <tr>\n",
       "      <td>6</td>\n",
       "      <td>1000_6</td>\n",
       "      <td>2018-10-18</td>\n",
       "      <td>0.00</td>\n",
       "      <td>1000</td>\n",
       "      <td>0</td>\n",
       "      <td>10</td>\n",
       "    </tr>\n",
       "    <tr>\n",
       "      <td>7</td>\n",
       "      <td>1000_7</td>\n",
       "      <td>2018-08-22</td>\n",
       "      <td>18.31</td>\n",
       "      <td>1000</td>\n",
       "      <td>19</td>\n",
       "      <td>8</td>\n",
       "    </tr>\n",
       "    <tr>\n",
       "      <td>8</td>\n",
       "      <td>1000_8</td>\n",
       "      <td>2018-09-15</td>\n",
       "      <td>18.44</td>\n",
       "      <td>1000</td>\n",
       "      <td>19</td>\n",
       "      <td>9</td>\n",
       "    </tr>\n",
       "    <tr>\n",
       "      <td>9</td>\n",
       "      <td>1000_9</td>\n",
       "      <td>2018-08-15</td>\n",
       "      <td>0.00</td>\n",
       "      <td>1000</td>\n",
       "      <td>0</td>\n",
       "      <td>8</td>\n",
       "    </tr>\n",
       "  </tbody>\n",
       "</table>\n",
       "</div>"
      ],
      "text/plain": [
       "       id   call_date  duration  user_id  duration_min  month\n",
       "0  1000_0  2018-07-25      0.00     1000             0      7\n",
       "1  1000_1  2018-08-17      0.00     1000             0      8\n",
       "2  1000_2  2018-06-11      2.85     1000             3      6\n",
       "3  1000_3  2018-09-21     13.80     1000            14      9\n",
       "4  1000_4  2018-12-15      5.18     1000             6     12\n",
       "5  1000_5  2018-11-02      0.00     1000             0     11\n",
       "6  1000_6  2018-10-18      0.00     1000             0     10\n",
       "7  1000_7  2018-08-22     18.31     1000            19      8\n",
       "8  1000_8  2018-09-15     18.44     1000            19      9\n",
       "9  1000_9  2018-08-15      0.00     1000             0      8"
      ]
     },
     "execution_count": 24,
     "metadata": {},
     "output_type": "execute_result"
    }
   ],
   "source": [
    "calls['month']=pd.to_datetime(calls['call_date']).astype('datetime64[M]').dt.month\n",
    "calls.head(10)"
   ]
  },
  {
   "cell_type": "markdown",
   "metadata": {},
   "source": [
    "*Подсчёт использованных минут и количества звонков для каждого пользователя по месяцам выполню с помощью `pivot_table`*"
   ]
  },
  {
   "cell_type": "code",
   "execution_count": 25,
   "metadata": {},
   "outputs": [
    {
     "data": {
      "text/html": [
       "<div>\n",
       "<style scoped>\n",
       "    .dataframe tbody tr th:only-of-type {\n",
       "        vertical-align: middle;\n",
       "    }\n",
       "\n",
       "    .dataframe tbody tr th {\n",
       "        vertical-align: top;\n",
       "    }\n",
       "\n",
       "    .dataframe thead th {\n",
       "        text-align: right;\n",
       "    }\n",
       "</style>\n",
       "<table border=\"1\" class=\"dataframe\">\n",
       "  <thead>\n",
       "    <tr style=\"text-align: right;\">\n",
       "      <th></th>\n",
       "      <th>user_id</th>\n",
       "      <th>month</th>\n",
       "      <th>count</th>\n",
       "      <th>sum</th>\n",
       "    </tr>\n",
       "  </thead>\n",
       "  <tbody>\n",
       "    <tr>\n",
       "      <td>0</td>\n",
       "      <td>1000</td>\n",
       "      <td>5</td>\n",
       "      <td>22</td>\n",
       "      <td>159</td>\n",
       "    </tr>\n",
       "    <tr>\n",
       "      <td>1</td>\n",
       "      <td>1000</td>\n",
       "      <td>6</td>\n",
       "      <td>43</td>\n",
       "      <td>172</td>\n",
       "    </tr>\n",
       "    <tr>\n",
       "      <td>2</td>\n",
       "      <td>1000</td>\n",
       "      <td>7</td>\n",
       "      <td>47</td>\n",
       "      <td>340</td>\n",
       "    </tr>\n",
       "    <tr>\n",
       "      <td>3</td>\n",
       "      <td>1000</td>\n",
       "      <td>8</td>\n",
       "      <td>52</td>\n",
       "      <td>408</td>\n",
       "    </tr>\n",
       "    <tr>\n",
       "      <td>4</td>\n",
       "      <td>1000</td>\n",
       "      <td>9</td>\n",
       "      <td>58</td>\n",
       "      <td>466</td>\n",
       "    </tr>\n",
       "  </tbody>\n",
       "</table>\n",
       "</div>"
      ],
      "text/plain": [
       "   user_id  month  count  sum\n",
       "0     1000      5     22  159\n",
       "1     1000      6     43  172\n",
       "2     1000      7     47  340\n",
       "3     1000      8     52  408\n",
       "4     1000      9     58  466"
      ]
     },
     "execution_count": 25,
     "metadata": {},
     "output_type": "execute_result"
    }
   ],
   "source": [
    "calls_month=calls.pivot_table(index=['user_id','month'], values='duration_min', aggfunc=('count','sum')).reset_index()\n",
    "calls_month.head()"
   ]
  },
  {
   "cell_type": "code",
   "execution_count": 26,
   "metadata": {
    "scrolled": true
   },
   "outputs": [
    {
     "data": {
      "text/html": [
       "<div>\n",
       "<style scoped>\n",
       "    .dataframe tbody tr th:only-of-type {\n",
       "        vertical-align: middle;\n",
       "    }\n",
       "\n",
       "    .dataframe tbody tr th {\n",
       "        vertical-align: top;\n",
       "    }\n",
       "\n",
       "    .dataframe thead th {\n",
       "        text-align: right;\n",
       "    }\n",
       "</style>\n",
       "<table border=\"1\" class=\"dataframe\">\n",
       "  <thead>\n",
       "    <tr style=\"text-align: right;\">\n",
       "      <th></th>\n",
       "      <th>index</th>\n",
       "      <th>user_id</th>\n",
       "      <th>age</th>\n",
       "      <th>churn_date</th>\n",
       "      <th>city</th>\n",
       "      <th>first_name</th>\n",
       "      <th>last_name</th>\n",
       "      <th>reg_date</th>\n",
       "      <th>tariff</th>\n",
       "      <th>month</th>\n",
       "      <th>count</th>\n",
       "      <th>sum</th>\n",
       "    </tr>\n",
       "  </thead>\n",
       "  <tbody>\n",
       "    <tr>\n",
       "      <td>0</td>\n",
       "      <td>0</td>\n",
       "      <td>1000</td>\n",
       "      <td>52</td>\n",
       "      <td>NaN</td>\n",
       "      <td>Краснодар</td>\n",
       "      <td>Рафаил</td>\n",
       "      <td>Верещагин</td>\n",
       "      <td>2018-05-25</td>\n",
       "      <td>ultra</td>\n",
       "      <td>5.0</td>\n",
       "      <td>22.0</td>\n",
       "      <td>159.0</td>\n",
       "    </tr>\n",
       "    <tr>\n",
       "      <td>1</td>\n",
       "      <td>1</td>\n",
       "      <td>1000</td>\n",
       "      <td>52</td>\n",
       "      <td>NaN</td>\n",
       "      <td>Краснодар</td>\n",
       "      <td>Рафаил</td>\n",
       "      <td>Верещагин</td>\n",
       "      <td>2018-05-25</td>\n",
       "      <td>ultra</td>\n",
       "      <td>6.0</td>\n",
       "      <td>43.0</td>\n",
       "      <td>172.0</td>\n",
       "    </tr>\n",
       "    <tr>\n",
       "      <td>2</td>\n",
       "      <td>2</td>\n",
       "      <td>1000</td>\n",
       "      <td>52</td>\n",
       "      <td>NaN</td>\n",
       "      <td>Краснодар</td>\n",
       "      <td>Рафаил</td>\n",
       "      <td>Верещагин</td>\n",
       "      <td>2018-05-25</td>\n",
       "      <td>ultra</td>\n",
       "      <td>7.0</td>\n",
       "      <td>47.0</td>\n",
       "      <td>340.0</td>\n",
       "    </tr>\n",
       "    <tr>\n",
       "      <td>3</td>\n",
       "      <td>3</td>\n",
       "      <td>1000</td>\n",
       "      <td>52</td>\n",
       "      <td>NaN</td>\n",
       "      <td>Краснодар</td>\n",
       "      <td>Рафаил</td>\n",
       "      <td>Верещагин</td>\n",
       "      <td>2018-05-25</td>\n",
       "      <td>ultra</td>\n",
       "      <td>8.0</td>\n",
       "      <td>52.0</td>\n",
       "      <td>408.0</td>\n",
       "    </tr>\n",
       "    <tr>\n",
       "      <td>4</td>\n",
       "      <td>4</td>\n",
       "      <td>1000</td>\n",
       "      <td>52</td>\n",
       "      <td>NaN</td>\n",
       "      <td>Краснодар</td>\n",
       "      <td>Рафаил</td>\n",
       "      <td>Верещагин</td>\n",
       "      <td>2018-05-25</td>\n",
       "      <td>ultra</td>\n",
       "      <td>9.0</td>\n",
       "      <td>58.0</td>\n",
       "      <td>466.0</td>\n",
       "    </tr>\n",
       "  </tbody>\n",
       "</table>\n",
       "</div>"
      ],
      "text/plain": [
       "   index  user_id  age churn_date       city first_name  last_name  \\\n",
       "0      0     1000   52        NaN  Краснодар     Рафаил  Верещагин   \n",
       "1      1     1000   52        NaN  Краснодар     Рафаил  Верещагин   \n",
       "2      2     1000   52        NaN  Краснодар     Рафаил  Верещагин   \n",
       "3      3     1000   52        NaN  Краснодар     Рафаил  Верещагин   \n",
       "4      4     1000   52        NaN  Краснодар     Рафаил  Верещагин   \n",
       "\n",
       "     reg_date tariff  month  count    sum  \n",
       "0  2018-05-25  ultra    5.0   22.0  159.0  \n",
       "1  2018-05-25  ultra    6.0   43.0  172.0  \n",
       "2  2018-05-25  ultra    7.0   47.0  340.0  \n",
       "3  2018-05-25  ultra    8.0   52.0  408.0  \n",
       "4  2018-05-25  ultra    9.0   58.0  466.0  "
      ]
     },
     "execution_count": 26,
     "metadata": {},
     "output_type": "execute_result"
    }
   ],
   "source": [
    "# Объединяю полученную таблицу с данными по звонкам и клиентам\n",
    "calls_users=users.merge(calls_month, on='user_id', how='left').reset_index()\n",
    "calls_users.head()"
   ]
  },
  {
   "cell_type": "code",
   "execution_count": 27,
   "metadata": {
    "scrolled": true
   },
   "outputs": [
    {
     "data": {
      "text/plain": [
       "index            0\n",
       "user_id          0\n",
       "age              0\n",
       "churn_date    2993\n",
       "city             0\n",
       "first_name       0\n",
       "last_name        0\n",
       "reg_date         0\n",
       "tariff           0\n",
       "month            8\n",
       "count            8\n",
       "sum              8\n",
       "dtype: int64"
      ]
     },
     "execution_count": 27,
     "metadata": {},
     "output_type": "execute_result"
    }
   ],
   "source": [
    "#После объединения таблиц предположительно образовались пропуски данных\n",
    "calls_users.isna().sum()"
   ]
  },
  {
   "cell_type": "code",
   "execution_count": 28,
   "metadata": {},
   "outputs": [],
   "source": [
    "# Так как пропусков немного (всего 8), я удалю строки, содержащие их\n",
    "calls_users=calls_users.dropna(subset=['month'])"
   ]
  },
  {
   "cell_type": "code",
   "execution_count": 29,
   "metadata": {},
   "outputs": [
    {
     "data": {
      "text/plain": [
       "index            0\n",
       "user_id          0\n",
       "age              0\n",
       "churn_date    2987\n",
       "city             0\n",
       "first_name       0\n",
       "last_name        0\n",
       "reg_date         0\n",
       "tariff           0\n",
       "month            0\n",
       "count            0\n",
       "sum              0\n",
       "dtype: int64"
      ]
     },
     "execution_count": 29,
     "metadata": {},
     "output_type": "execute_result"
    }
   ],
   "source": [
    "calls_users.isna().sum()"
   ]
  },
  {
   "cell_type": "code",
   "execution_count": 30,
   "metadata": {
    "scrolled": true
   },
   "outputs": [
    {
     "data": {
      "text/html": [
       "<div>\n",
       "<style scoped>\n",
       "    .dataframe tbody tr th:only-of-type {\n",
       "        vertical-align: middle;\n",
       "    }\n",
       "\n",
       "    .dataframe tbody tr th {\n",
       "        vertical-align: top;\n",
       "    }\n",
       "\n",
       "    .dataframe thead th {\n",
       "        text-align: right;\n",
       "    }\n",
       "</style>\n",
       "<table border=\"1\" class=\"dataframe\">\n",
       "  <thead>\n",
       "    <tr style=\"text-align: right;\">\n",
       "      <th></th>\n",
       "      <th>index</th>\n",
       "      <th>user_id</th>\n",
       "      <th>age</th>\n",
       "      <th>churn_date</th>\n",
       "      <th>city</th>\n",
       "      <th>first_name</th>\n",
       "      <th>last_name</th>\n",
       "      <th>reg_date</th>\n",
       "      <th>tariff</th>\n",
       "      <th>month</th>\n",
       "      <th>count</th>\n",
       "      <th>sum</th>\n",
       "    </tr>\n",
       "  </thead>\n",
       "  <tbody>\n",
       "    <tr>\n",
       "      <td>0</td>\n",
       "      <td>0</td>\n",
       "      <td>1000</td>\n",
       "      <td>52</td>\n",
       "      <td>NaN</td>\n",
       "      <td>Краснодар</td>\n",
       "      <td>Рафаил</td>\n",
       "      <td>Верещагин</td>\n",
       "      <td>2018-05-25</td>\n",
       "      <td>ultra</td>\n",
       "      <td>5.0</td>\n",
       "      <td>22.0</td>\n",
       "      <td>159.0</td>\n",
       "    </tr>\n",
       "    <tr>\n",
       "      <td>1</td>\n",
       "      <td>1</td>\n",
       "      <td>1000</td>\n",
       "      <td>52</td>\n",
       "      <td>NaN</td>\n",
       "      <td>Краснодар</td>\n",
       "      <td>Рафаил</td>\n",
       "      <td>Верещагин</td>\n",
       "      <td>2018-05-25</td>\n",
       "      <td>ultra</td>\n",
       "      <td>6.0</td>\n",
       "      <td>43.0</td>\n",
       "      <td>172.0</td>\n",
       "    </tr>\n",
       "    <tr>\n",
       "      <td>2</td>\n",
       "      <td>2</td>\n",
       "      <td>1000</td>\n",
       "      <td>52</td>\n",
       "      <td>NaN</td>\n",
       "      <td>Краснодар</td>\n",
       "      <td>Рафаил</td>\n",
       "      <td>Верещагин</td>\n",
       "      <td>2018-05-25</td>\n",
       "      <td>ultra</td>\n",
       "      <td>7.0</td>\n",
       "      <td>47.0</td>\n",
       "      <td>340.0</td>\n",
       "    </tr>\n",
       "    <tr>\n",
       "      <td>3</td>\n",
       "      <td>3</td>\n",
       "      <td>1000</td>\n",
       "      <td>52</td>\n",
       "      <td>NaN</td>\n",
       "      <td>Краснодар</td>\n",
       "      <td>Рафаил</td>\n",
       "      <td>Верещагин</td>\n",
       "      <td>2018-05-25</td>\n",
       "      <td>ultra</td>\n",
       "      <td>8.0</td>\n",
       "      <td>52.0</td>\n",
       "      <td>408.0</td>\n",
       "    </tr>\n",
       "    <tr>\n",
       "      <td>4</td>\n",
       "      <td>4</td>\n",
       "      <td>1000</td>\n",
       "      <td>52</td>\n",
       "      <td>NaN</td>\n",
       "      <td>Краснодар</td>\n",
       "      <td>Рафаил</td>\n",
       "      <td>Верещагин</td>\n",
       "      <td>2018-05-25</td>\n",
       "      <td>ultra</td>\n",
       "      <td>9.0</td>\n",
       "      <td>58.0</td>\n",
       "      <td>466.0</td>\n",
       "    </tr>\n",
       "  </tbody>\n",
       "</table>\n",
       "</div>"
      ],
      "text/plain": [
       "   index  user_id  age churn_date       city first_name  last_name  \\\n",
       "0      0     1000   52        NaN  Краснодар     Рафаил  Верещагин   \n",
       "1      1     1000   52        NaN  Краснодар     Рафаил  Верещагин   \n",
       "2      2     1000   52        NaN  Краснодар     Рафаил  Верещагин   \n",
       "3      3     1000   52        NaN  Краснодар     Рафаил  Верещагин   \n",
       "4      4     1000   52        NaN  Краснодар     Рафаил  Верещагин   \n",
       "\n",
       "     reg_date tariff  month  count    sum  \n",
       "0  2018-05-25  ultra    5.0   22.0  159.0  \n",
       "1  2018-05-25  ultra    6.0   43.0  172.0  \n",
       "2  2018-05-25  ultra    7.0   47.0  340.0  \n",
       "3  2018-05-25  ultra    8.0   52.0  408.0  \n",
       "4  2018-05-25  ultra    9.0   58.0  466.0  "
      ]
     },
     "execution_count": 30,
     "metadata": {},
     "output_type": "execute_result"
    }
   ],
   "source": [
    "calls_users.head()"
   ]
  },
  {
   "cell_type": "code",
   "execution_count": 31,
   "metadata": {},
   "outputs": [
    {
     "data": {
      "text/html": [
       "<div>\n",
       "<style scoped>\n",
       "    .dataframe tbody tr th:only-of-type {\n",
       "        vertical-align: middle;\n",
       "    }\n",
       "\n",
       "    .dataframe tbody tr th {\n",
       "        vertical-align: top;\n",
       "    }\n",
       "\n",
       "    .dataframe thead th {\n",
       "        text-align: right;\n",
       "    }\n",
       "</style>\n",
       "<table border=\"1\" class=\"dataframe\">\n",
       "  <thead>\n",
       "    <tr style=\"text-align: right;\">\n",
       "      <th></th>\n",
       "      <th>index</th>\n",
       "      <th>user_id</th>\n",
       "      <th>age</th>\n",
       "      <th>churn_date</th>\n",
       "      <th>city</th>\n",
       "      <th>first_name</th>\n",
       "      <th>last_name</th>\n",
       "      <th>reg_date</th>\n",
       "      <th>tariff</th>\n",
       "      <th>month</th>\n",
       "      <th>count_calls</th>\n",
       "      <th>sum_calls</th>\n",
       "    </tr>\n",
       "  </thead>\n",
       "  <tbody>\n",
       "    <tr>\n",
       "      <td>0</td>\n",
       "      <td>0</td>\n",
       "      <td>1000</td>\n",
       "      <td>52</td>\n",
       "      <td>NaN</td>\n",
       "      <td>Краснодар</td>\n",
       "      <td>Рафаил</td>\n",
       "      <td>Верещагин</td>\n",
       "      <td>2018-05-25</td>\n",
       "      <td>ultra</td>\n",
       "      <td>5.0</td>\n",
       "      <td>22.0</td>\n",
       "      <td>159.0</td>\n",
       "    </tr>\n",
       "    <tr>\n",
       "      <td>1</td>\n",
       "      <td>1</td>\n",
       "      <td>1000</td>\n",
       "      <td>52</td>\n",
       "      <td>NaN</td>\n",
       "      <td>Краснодар</td>\n",
       "      <td>Рафаил</td>\n",
       "      <td>Верещагин</td>\n",
       "      <td>2018-05-25</td>\n",
       "      <td>ultra</td>\n",
       "      <td>6.0</td>\n",
       "      <td>43.0</td>\n",
       "      <td>172.0</td>\n",
       "    </tr>\n",
       "    <tr>\n",
       "      <td>2</td>\n",
       "      <td>2</td>\n",
       "      <td>1000</td>\n",
       "      <td>52</td>\n",
       "      <td>NaN</td>\n",
       "      <td>Краснодар</td>\n",
       "      <td>Рафаил</td>\n",
       "      <td>Верещагин</td>\n",
       "      <td>2018-05-25</td>\n",
       "      <td>ultra</td>\n",
       "      <td>7.0</td>\n",
       "      <td>47.0</td>\n",
       "      <td>340.0</td>\n",
       "    </tr>\n",
       "    <tr>\n",
       "      <td>3</td>\n",
       "      <td>3</td>\n",
       "      <td>1000</td>\n",
       "      <td>52</td>\n",
       "      <td>NaN</td>\n",
       "      <td>Краснодар</td>\n",
       "      <td>Рафаил</td>\n",
       "      <td>Верещагин</td>\n",
       "      <td>2018-05-25</td>\n",
       "      <td>ultra</td>\n",
       "      <td>8.0</td>\n",
       "      <td>52.0</td>\n",
       "      <td>408.0</td>\n",
       "    </tr>\n",
       "    <tr>\n",
       "      <td>4</td>\n",
       "      <td>4</td>\n",
       "      <td>1000</td>\n",
       "      <td>52</td>\n",
       "      <td>NaN</td>\n",
       "      <td>Краснодар</td>\n",
       "      <td>Рафаил</td>\n",
       "      <td>Верещагин</td>\n",
       "      <td>2018-05-25</td>\n",
       "      <td>ultra</td>\n",
       "      <td>9.0</td>\n",
       "      <td>58.0</td>\n",
       "      <td>466.0</td>\n",
       "    </tr>\n",
       "  </tbody>\n",
       "</table>\n",
       "</div>"
      ],
      "text/plain": [
       "   index  user_id  age churn_date       city first_name  last_name  \\\n",
       "0      0     1000   52        NaN  Краснодар     Рафаил  Верещагин   \n",
       "1      1     1000   52        NaN  Краснодар     Рафаил  Верещагин   \n",
       "2      2     1000   52        NaN  Краснодар     Рафаил  Верещагин   \n",
       "3      3     1000   52        NaN  Краснодар     Рафаил  Верещагин   \n",
       "4      4     1000   52        NaN  Краснодар     Рафаил  Верещагин   \n",
       "\n",
       "     reg_date tariff  month  count_calls  sum_calls  \n",
       "0  2018-05-25  ultra    5.0         22.0      159.0  \n",
       "1  2018-05-25  ultra    6.0         43.0      172.0  \n",
       "2  2018-05-25  ultra    7.0         47.0      340.0  \n",
       "3  2018-05-25  ultra    8.0         52.0      408.0  \n",
       "4  2018-05-25  ultra    9.0         58.0      466.0  "
      ]
     },
     "execution_count": 31,
     "metadata": {},
     "output_type": "execute_result"
    }
   ],
   "source": [
    "calls_users=calls_users.rename(columns={'count':'count_calls', 'sum':'sum_calls'})\n",
    "calls_users.head()"
   ]
  },
  {
   "cell_type": "markdown",
   "metadata": {},
   "source": [
    "### Количество отправленных сообщений по месяцам"
   ]
  },
  {
   "cell_type": "markdown",
   "metadata": {},
   "source": [
    "Здесь, как и впрошлом пункте, объеденю талицу по пользоваьтелям и сообщениям. Далее, измень формат месяца и посчитаю количество сообщений."
   ]
  },
  {
   "cell_type": "code",
   "execution_count": 32,
   "metadata": {
    "scrolled": false
   },
   "outputs": [
    {
     "data": {
      "text/html": [
       "<div>\n",
       "<style scoped>\n",
       "    .dataframe tbody tr th:only-of-type {\n",
       "        vertical-align: middle;\n",
       "    }\n",
       "\n",
       "    .dataframe tbody tr th {\n",
       "        vertical-align: top;\n",
       "    }\n",
       "\n",
       "    .dataframe thead th {\n",
       "        text-align: right;\n",
       "    }\n",
       "</style>\n",
       "<table border=\"1\" class=\"dataframe\">\n",
       "  <thead>\n",
       "    <tr style=\"text-align: right;\">\n",
       "      <th></th>\n",
       "      <th>index</th>\n",
       "      <th>user_id</th>\n",
       "      <th>age</th>\n",
       "      <th>churn_date</th>\n",
       "      <th>city</th>\n",
       "      <th>first_name</th>\n",
       "      <th>last_name</th>\n",
       "      <th>reg_date</th>\n",
       "      <th>tariff</th>\n",
       "      <th>mess</th>\n",
       "      <th>message_date</th>\n",
       "    </tr>\n",
       "  </thead>\n",
       "  <tbody>\n",
       "    <tr>\n",
       "      <td>0</td>\n",
       "      <td>0</td>\n",
       "      <td>1000</td>\n",
       "      <td>52</td>\n",
       "      <td>NaN</td>\n",
       "      <td>Краснодар</td>\n",
       "      <td>Рафаил</td>\n",
       "      <td>Верещагин</td>\n",
       "      <td>2018-05-25</td>\n",
       "      <td>ultra</td>\n",
       "      <td>1000_0</td>\n",
       "      <td>2018-06-27</td>\n",
       "    </tr>\n",
       "    <tr>\n",
       "      <td>1</td>\n",
       "      <td>1</td>\n",
       "      <td>1000</td>\n",
       "      <td>52</td>\n",
       "      <td>NaN</td>\n",
       "      <td>Краснодар</td>\n",
       "      <td>Рафаил</td>\n",
       "      <td>Верещагин</td>\n",
       "      <td>2018-05-25</td>\n",
       "      <td>ultra</td>\n",
       "      <td>1000_1</td>\n",
       "      <td>2018-10-08</td>\n",
       "    </tr>\n",
       "    <tr>\n",
       "      <td>2</td>\n",
       "      <td>2</td>\n",
       "      <td>1000</td>\n",
       "      <td>52</td>\n",
       "      <td>NaN</td>\n",
       "      <td>Краснодар</td>\n",
       "      <td>Рафаил</td>\n",
       "      <td>Верещагин</td>\n",
       "      <td>2018-05-25</td>\n",
       "      <td>ultra</td>\n",
       "      <td>1000_2</td>\n",
       "      <td>2018-08-04</td>\n",
       "    </tr>\n",
       "    <tr>\n",
       "      <td>3</td>\n",
       "      <td>3</td>\n",
       "      <td>1000</td>\n",
       "      <td>52</td>\n",
       "      <td>NaN</td>\n",
       "      <td>Краснодар</td>\n",
       "      <td>Рафаил</td>\n",
       "      <td>Верещагин</td>\n",
       "      <td>2018-05-25</td>\n",
       "      <td>ultra</td>\n",
       "      <td>1000_3</td>\n",
       "      <td>2018-06-16</td>\n",
       "    </tr>\n",
       "    <tr>\n",
       "      <td>4</td>\n",
       "      <td>4</td>\n",
       "      <td>1000</td>\n",
       "      <td>52</td>\n",
       "      <td>NaN</td>\n",
       "      <td>Краснодар</td>\n",
       "      <td>Рафаил</td>\n",
       "      <td>Верещагин</td>\n",
       "      <td>2018-05-25</td>\n",
       "      <td>ultra</td>\n",
       "      <td>1000_4</td>\n",
       "      <td>2018-12-05</td>\n",
       "    </tr>\n",
       "    <tr>\n",
       "      <td>5</td>\n",
       "      <td>5</td>\n",
       "      <td>1000</td>\n",
       "      <td>52</td>\n",
       "      <td>NaN</td>\n",
       "      <td>Краснодар</td>\n",
       "      <td>Рафаил</td>\n",
       "      <td>Верещагин</td>\n",
       "      <td>2018-05-25</td>\n",
       "      <td>ultra</td>\n",
       "      <td>1000_5</td>\n",
       "      <td>2018-06-20</td>\n",
       "    </tr>\n",
       "    <tr>\n",
       "      <td>6</td>\n",
       "      <td>6</td>\n",
       "      <td>1000</td>\n",
       "      <td>52</td>\n",
       "      <td>NaN</td>\n",
       "      <td>Краснодар</td>\n",
       "      <td>Рафаил</td>\n",
       "      <td>Верещагин</td>\n",
       "      <td>2018-05-25</td>\n",
       "      <td>ultra</td>\n",
       "      <td>1000_6</td>\n",
       "      <td>2018-11-19</td>\n",
       "    </tr>\n",
       "    <tr>\n",
       "      <td>7</td>\n",
       "      <td>7</td>\n",
       "      <td>1000</td>\n",
       "      <td>52</td>\n",
       "      <td>NaN</td>\n",
       "      <td>Краснодар</td>\n",
       "      <td>Рафаил</td>\n",
       "      <td>Верещагин</td>\n",
       "      <td>2018-05-25</td>\n",
       "      <td>ultra</td>\n",
       "      <td>1000_7</td>\n",
       "      <td>2018-10-29</td>\n",
       "    </tr>\n",
       "    <tr>\n",
       "      <td>8</td>\n",
       "      <td>8</td>\n",
       "      <td>1000</td>\n",
       "      <td>52</td>\n",
       "      <td>NaN</td>\n",
       "      <td>Краснодар</td>\n",
       "      <td>Рафаил</td>\n",
       "      <td>Верещагин</td>\n",
       "      <td>2018-05-25</td>\n",
       "      <td>ultra</td>\n",
       "      <td>1000_8</td>\n",
       "      <td>2018-06-25</td>\n",
       "    </tr>\n",
       "    <tr>\n",
       "      <td>9</td>\n",
       "      <td>9</td>\n",
       "      <td>1000</td>\n",
       "      <td>52</td>\n",
       "      <td>NaN</td>\n",
       "      <td>Краснодар</td>\n",
       "      <td>Рафаил</td>\n",
       "      <td>Верещагин</td>\n",
       "      <td>2018-05-25</td>\n",
       "      <td>ultra</td>\n",
       "      <td>1000_9</td>\n",
       "      <td>2018-12-18</td>\n",
       "    </tr>\n",
       "  </tbody>\n",
       "</table>\n",
       "</div>"
      ],
      "text/plain": [
       "   index  user_id  age churn_date       city first_name  last_name  \\\n",
       "0      0     1000   52        NaN  Краснодар     Рафаил  Верещагин   \n",
       "1      1     1000   52        NaN  Краснодар     Рафаил  Верещагин   \n",
       "2      2     1000   52        NaN  Краснодар     Рафаил  Верещагин   \n",
       "3      3     1000   52        NaN  Краснодар     Рафаил  Верещагин   \n",
       "4      4     1000   52        NaN  Краснодар     Рафаил  Верещагин   \n",
       "5      5     1000   52        NaN  Краснодар     Рафаил  Верещагин   \n",
       "6      6     1000   52        NaN  Краснодар     Рафаил  Верещагин   \n",
       "7      7     1000   52        NaN  Краснодар     Рафаил  Верещагин   \n",
       "8      8     1000   52        NaN  Краснодар     Рафаил  Верещагин   \n",
       "9      9     1000   52        NaN  Краснодар     Рафаил  Верещагин   \n",
       "\n",
       "     reg_date tariff    mess message_date  \n",
       "0  2018-05-25  ultra  1000_0   2018-06-27  \n",
       "1  2018-05-25  ultra  1000_1   2018-10-08  \n",
       "2  2018-05-25  ultra  1000_2   2018-08-04  \n",
       "3  2018-05-25  ultra  1000_3   2018-06-16  \n",
       "4  2018-05-25  ultra  1000_4   2018-12-05  \n",
       "5  2018-05-25  ultra  1000_5   2018-06-20  \n",
       "6  2018-05-25  ultra  1000_6   2018-11-19  \n",
       "7  2018-05-25  ultra  1000_7   2018-10-29  \n",
       "8  2018-05-25  ultra  1000_8   2018-06-25  \n",
       "9  2018-05-25  ultra  1000_9   2018-12-18  "
      ]
     },
     "execution_count": 32,
     "metadata": {},
     "output_type": "execute_result"
    }
   ],
   "source": [
    "# Объединение таблицы с данными о пользователях и сообщениях\n",
    "messages_users=users.merge(messages, on='user_id', how='left').reset_index()\n",
    "messages_users.head(10)"
   ]
  },
  {
   "cell_type": "code",
   "execution_count": 33,
   "metadata": {
    "scrolled": true
   },
   "outputs": [
    {
     "data": {
      "text/plain": [
       "index                0\n",
       "user_id              0\n",
       "age                  0\n",
       "churn_date      117762\n",
       "city                 0\n",
       "first_name           0\n",
       "last_name            0\n",
       "reg_date             0\n",
       "tariff               0\n",
       "mess                74\n",
       "message_date        74\n",
       "dtype: int64"
      ]
     },
     "execution_count": 33,
     "metadata": {},
     "output_type": "execute_result"
    }
   ],
   "source": [
    "#После объединения таблиц предположительно образовались пропуски данных\n",
    "messages_users.isna().sum()"
   ]
  },
  {
   "cell_type": "code",
   "execution_count": 34,
   "metadata": {},
   "outputs": [
    {
     "data": {
      "text/plain": [
       "index                0\n",
       "user_id              0\n",
       "age                  0\n",
       "churn_date      117697\n",
       "city                 0\n",
       "first_name           0\n",
       "last_name            0\n",
       "reg_date             0\n",
       "tariff               0\n",
       "mess                 0\n",
       "message_date         0\n",
       "dtype: int64"
      ]
     },
     "execution_count": 34,
     "metadata": {},
     "output_type": "execute_result"
    }
   ],
   "source": [
    "# Удалю строки, содержащие пропуски, поскольку подмтановка значений может изменить результат анализа\n",
    "messages_users=messages_users.dropna(subset=['mess'])\n",
    "messages_users.isna().sum()"
   ]
  },
  {
   "cell_type": "code",
   "execution_count": 35,
   "metadata": {},
   "outputs": [
    {
     "data": {
      "text/html": [
       "<div>\n",
       "<style scoped>\n",
       "    .dataframe tbody tr th:only-of-type {\n",
       "        vertical-align: middle;\n",
       "    }\n",
       "\n",
       "    .dataframe tbody tr th {\n",
       "        vertical-align: top;\n",
       "    }\n",
       "\n",
       "    .dataframe thead th {\n",
       "        text-align: right;\n",
       "    }\n",
       "</style>\n",
       "<table border=\"1\" class=\"dataframe\">\n",
       "  <thead>\n",
       "    <tr style=\"text-align: right;\">\n",
       "      <th></th>\n",
       "      <th>index</th>\n",
       "      <th>user_id</th>\n",
       "      <th>age</th>\n",
       "      <th>churn_date</th>\n",
       "      <th>city</th>\n",
       "      <th>first_name</th>\n",
       "      <th>last_name</th>\n",
       "      <th>reg_date</th>\n",
       "      <th>tariff</th>\n",
       "      <th>mess</th>\n",
       "      <th>message_date</th>\n",
       "      <th>month</th>\n",
       "    </tr>\n",
       "  </thead>\n",
       "  <tbody>\n",
       "    <tr>\n",
       "      <td>0</td>\n",
       "      <td>0</td>\n",
       "      <td>1000</td>\n",
       "      <td>52</td>\n",
       "      <td>NaN</td>\n",
       "      <td>Краснодар</td>\n",
       "      <td>Рафаил</td>\n",
       "      <td>Верещагин</td>\n",
       "      <td>2018-05-25</td>\n",
       "      <td>ultra</td>\n",
       "      <td>1000_0</td>\n",
       "      <td>2018-06-27</td>\n",
       "      <td>6</td>\n",
       "    </tr>\n",
       "    <tr>\n",
       "      <td>1</td>\n",
       "      <td>1</td>\n",
       "      <td>1000</td>\n",
       "      <td>52</td>\n",
       "      <td>NaN</td>\n",
       "      <td>Краснодар</td>\n",
       "      <td>Рафаил</td>\n",
       "      <td>Верещагин</td>\n",
       "      <td>2018-05-25</td>\n",
       "      <td>ultra</td>\n",
       "      <td>1000_1</td>\n",
       "      <td>2018-10-08</td>\n",
       "      <td>10</td>\n",
       "    </tr>\n",
       "    <tr>\n",
       "      <td>2</td>\n",
       "      <td>2</td>\n",
       "      <td>1000</td>\n",
       "      <td>52</td>\n",
       "      <td>NaN</td>\n",
       "      <td>Краснодар</td>\n",
       "      <td>Рафаил</td>\n",
       "      <td>Верещагин</td>\n",
       "      <td>2018-05-25</td>\n",
       "      <td>ultra</td>\n",
       "      <td>1000_2</td>\n",
       "      <td>2018-08-04</td>\n",
       "      <td>8</td>\n",
       "    </tr>\n",
       "    <tr>\n",
       "      <td>3</td>\n",
       "      <td>3</td>\n",
       "      <td>1000</td>\n",
       "      <td>52</td>\n",
       "      <td>NaN</td>\n",
       "      <td>Краснодар</td>\n",
       "      <td>Рафаил</td>\n",
       "      <td>Верещагин</td>\n",
       "      <td>2018-05-25</td>\n",
       "      <td>ultra</td>\n",
       "      <td>1000_3</td>\n",
       "      <td>2018-06-16</td>\n",
       "      <td>6</td>\n",
       "    </tr>\n",
       "    <tr>\n",
       "      <td>4</td>\n",
       "      <td>4</td>\n",
       "      <td>1000</td>\n",
       "      <td>52</td>\n",
       "      <td>NaN</td>\n",
       "      <td>Краснодар</td>\n",
       "      <td>Рафаил</td>\n",
       "      <td>Верещагин</td>\n",
       "      <td>2018-05-25</td>\n",
       "      <td>ultra</td>\n",
       "      <td>1000_4</td>\n",
       "      <td>2018-12-05</td>\n",
       "      <td>12</td>\n",
       "    </tr>\n",
       "    <tr>\n",
       "      <td>5</td>\n",
       "      <td>5</td>\n",
       "      <td>1000</td>\n",
       "      <td>52</td>\n",
       "      <td>NaN</td>\n",
       "      <td>Краснодар</td>\n",
       "      <td>Рафаил</td>\n",
       "      <td>Верещагин</td>\n",
       "      <td>2018-05-25</td>\n",
       "      <td>ultra</td>\n",
       "      <td>1000_5</td>\n",
       "      <td>2018-06-20</td>\n",
       "      <td>6</td>\n",
       "    </tr>\n",
       "    <tr>\n",
       "      <td>6</td>\n",
       "      <td>6</td>\n",
       "      <td>1000</td>\n",
       "      <td>52</td>\n",
       "      <td>NaN</td>\n",
       "      <td>Краснодар</td>\n",
       "      <td>Рафаил</td>\n",
       "      <td>Верещагин</td>\n",
       "      <td>2018-05-25</td>\n",
       "      <td>ultra</td>\n",
       "      <td>1000_6</td>\n",
       "      <td>2018-11-19</td>\n",
       "      <td>11</td>\n",
       "    </tr>\n",
       "    <tr>\n",
       "      <td>7</td>\n",
       "      <td>7</td>\n",
       "      <td>1000</td>\n",
       "      <td>52</td>\n",
       "      <td>NaN</td>\n",
       "      <td>Краснодар</td>\n",
       "      <td>Рафаил</td>\n",
       "      <td>Верещагин</td>\n",
       "      <td>2018-05-25</td>\n",
       "      <td>ultra</td>\n",
       "      <td>1000_7</td>\n",
       "      <td>2018-10-29</td>\n",
       "      <td>10</td>\n",
       "    </tr>\n",
       "    <tr>\n",
       "      <td>8</td>\n",
       "      <td>8</td>\n",
       "      <td>1000</td>\n",
       "      <td>52</td>\n",
       "      <td>NaN</td>\n",
       "      <td>Краснодар</td>\n",
       "      <td>Рафаил</td>\n",
       "      <td>Верещагин</td>\n",
       "      <td>2018-05-25</td>\n",
       "      <td>ultra</td>\n",
       "      <td>1000_8</td>\n",
       "      <td>2018-06-25</td>\n",
       "      <td>6</td>\n",
       "    </tr>\n",
       "    <tr>\n",
       "      <td>9</td>\n",
       "      <td>9</td>\n",
       "      <td>1000</td>\n",
       "      <td>52</td>\n",
       "      <td>NaN</td>\n",
       "      <td>Краснодар</td>\n",
       "      <td>Рафаил</td>\n",
       "      <td>Верещагин</td>\n",
       "      <td>2018-05-25</td>\n",
       "      <td>ultra</td>\n",
       "      <td>1000_9</td>\n",
       "      <td>2018-12-18</td>\n",
       "      <td>12</td>\n",
       "    </tr>\n",
       "  </tbody>\n",
       "</table>\n",
       "</div>"
      ],
      "text/plain": [
       "   index  user_id  age churn_date       city first_name  last_name  \\\n",
       "0      0     1000   52        NaN  Краснодар     Рафаил  Верещагин   \n",
       "1      1     1000   52        NaN  Краснодар     Рафаил  Верещагин   \n",
       "2      2     1000   52        NaN  Краснодар     Рафаил  Верещагин   \n",
       "3      3     1000   52        NaN  Краснодар     Рафаил  Верещагин   \n",
       "4      4     1000   52        NaN  Краснодар     Рафаил  Верещагин   \n",
       "5      5     1000   52        NaN  Краснодар     Рафаил  Верещагин   \n",
       "6      6     1000   52        NaN  Краснодар     Рафаил  Верещагин   \n",
       "7      7     1000   52        NaN  Краснодар     Рафаил  Верещагин   \n",
       "8      8     1000   52        NaN  Краснодар     Рафаил  Верещагин   \n",
       "9      9     1000   52        NaN  Краснодар     Рафаил  Верещагин   \n",
       "\n",
       "     reg_date tariff    mess message_date  month  \n",
       "0  2018-05-25  ultra  1000_0   2018-06-27      6  \n",
       "1  2018-05-25  ultra  1000_1   2018-10-08     10  \n",
       "2  2018-05-25  ultra  1000_2   2018-08-04      8  \n",
       "3  2018-05-25  ultra  1000_3   2018-06-16      6  \n",
       "4  2018-05-25  ultra  1000_4   2018-12-05     12  \n",
       "5  2018-05-25  ultra  1000_5   2018-06-20      6  \n",
       "6  2018-05-25  ultra  1000_6   2018-11-19     11  \n",
       "7  2018-05-25  ultra  1000_7   2018-10-29     10  \n",
       "8  2018-05-25  ultra  1000_8   2018-06-25      6  \n",
       "9  2018-05-25  ultra  1000_9   2018-12-18     12  "
      ]
     },
     "execution_count": 35,
     "metadata": {},
     "output_type": "execute_result"
    }
   ],
   "source": [
    "# Создание столбца с номером месяца\n",
    "messages_users['month']=pd.to_datetime(messages_users['message_date']).astype('datetime64[M]').dt.month\n",
    "messages_users.head(10)"
   ]
  },
  {
   "cell_type": "code",
   "execution_count": 36,
   "metadata": {},
   "outputs": [
    {
     "data": {
      "text/html": [
       "<div>\n",
       "<style scoped>\n",
       "    .dataframe tbody tr th:only-of-type {\n",
       "        vertical-align: middle;\n",
       "    }\n",
       "\n",
       "    .dataframe tbody tr th {\n",
       "        vertical-align: top;\n",
       "    }\n",
       "\n",
       "    .dataframe thead th {\n",
       "        text-align: right;\n",
       "    }\n",
       "</style>\n",
       "<table border=\"1\" class=\"dataframe\">\n",
       "  <thead>\n",
       "    <tr style=\"text-align: right;\">\n",
       "      <th></th>\n",
       "      <th>user_id</th>\n",
       "      <th>month</th>\n",
       "      <th>tariff</th>\n",
       "      <th>city</th>\n",
       "      <th>mess</th>\n",
       "    </tr>\n",
       "  </thead>\n",
       "  <tbody>\n",
       "    <tr>\n",
       "      <td>0</td>\n",
       "      <td>1000</td>\n",
       "      <td>5</td>\n",
       "      <td>ultra</td>\n",
       "      <td>Краснодар</td>\n",
       "      <td>22</td>\n",
       "    </tr>\n",
       "    <tr>\n",
       "      <td>1</td>\n",
       "      <td>1000</td>\n",
       "      <td>6</td>\n",
       "      <td>ultra</td>\n",
       "      <td>Краснодар</td>\n",
       "      <td>60</td>\n",
       "    </tr>\n",
       "    <tr>\n",
       "      <td>2</td>\n",
       "      <td>1000</td>\n",
       "      <td>7</td>\n",
       "      <td>ultra</td>\n",
       "      <td>Краснодар</td>\n",
       "      <td>75</td>\n",
       "    </tr>\n",
       "    <tr>\n",
       "      <td>3</td>\n",
       "      <td>1000</td>\n",
       "      <td>8</td>\n",
       "      <td>ultra</td>\n",
       "      <td>Краснодар</td>\n",
       "      <td>81</td>\n",
       "    </tr>\n",
       "    <tr>\n",
       "      <td>4</td>\n",
       "      <td>1000</td>\n",
       "      <td>9</td>\n",
       "      <td>ultra</td>\n",
       "      <td>Краснодар</td>\n",
       "      <td>57</td>\n",
       "    </tr>\n",
       "    <tr>\n",
       "      <td>5</td>\n",
       "      <td>1000</td>\n",
       "      <td>10</td>\n",
       "      <td>ultra</td>\n",
       "      <td>Краснодар</td>\n",
       "      <td>73</td>\n",
       "    </tr>\n",
       "    <tr>\n",
       "      <td>6</td>\n",
       "      <td>1000</td>\n",
       "      <td>11</td>\n",
       "      <td>ultra</td>\n",
       "      <td>Краснодар</td>\n",
       "      <td>58</td>\n",
       "    </tr>\n",
       "    <tr>\n",
       "      <td>7</td>\n",
       "      <td>1000</td>\n",
       "      <td>12</td>\n",
       "      <td>ultra</td>\n",
       "      <td>Краснодар</td>\n",
       "      <td>70</td>\n",
       "    </tr>\n",
       "    <tr>\n",
       "      <td>8</td>\n",
       "      <td>1002</td>\n",
       "      <td>6</td>\n",
       "      <td>smart</td>\n",
       "      <td>Стерлитамак</td>\n",
       "      <td>4</td>\n",
       "    </tr>\n",
       "    <tr>\n",
       "      <td>9</td>\n",
       "      <td>1002</td>\n",
       "      <td>7</td>\n",
       "      <td>smart</td>\n",
       "      <td>Стерлитамак</td>\n",
       "      <td>11</td>\n",
       "    </tr>\n",
       "    <tr>\n",
       "      <td>10</td>\n",
       "      <td>1002</td>\n",
       "      <td>8</td>\n",
       "      <td>smart</td>\n",
       "      <td>Стерлитамак</td>\n",
       "      <td>13</td>\n",
       "    </tr>\n",
       "    <tr>\n",
       "      <td>11</td>\n",
       "      <td>1002</td>\n",
       "      <td>9</td>\n",
       "      <td>smart</td>\n",
       "      <td>Стерлитамак</td>\n",
       "      <td>4</td>\n",
       "    </tr>\n",
       "    <tr>\n",
       "      <td>12</td>\n",
       "      <td>1002</td>\n",
       "      <td>10</td>\n",
       "      <td>smart</td>\n",
       "      <td>Стерлитамак</td>\n",
       "      <td>10</td>\n",
       "    </tr>\n",
       "    <tr>\n",
       "      <td>13</td>\n",
       "      <td>1002</td>\n",
       "      <td>11</td>\n",
       "      <td>smart</td>\n",
       "      <td>Стерлитамак</td>\n",
       "      <td>16</td>\n",
       "    </tr>\n",
       "    <tr>\n",
       "      <td>14</td>\n",
       "      <td>1002</td>\n",
       "      <td>12</td>\n",
       "      <td>smart</td>\n",
       "      <td>Стерлитамак</td>\n",
       "      <td>12</td>\n",
       "    </tr>\n",
       "  </tbody>\n",
       "</table>\n",
       "</div>"
      ],
      "text/plain": [
       "    user_id  month tariff         city  mess\n",
       "0      1000      5  ultra    Краснодар    22\n",
       "1      1000      6  ultra    Краснодар    60\n",
       "2      1000      7  ultra    Краснодар    75\n",
       "3      1000      8  ultra    Краснодар    81\n",
       "4      1000      9  ultra    Краснодар    57\n",
       "5      1000     10  ultra    Краснодар    73\n",
       "6      1000     11  ultra    Краснодар    58\n",
       "7      1000     12  ultra    Краснодар    70\n",
       "8      1002      6  smart  Стерлитамак     4\n",
       "9      1002      7  smart  Стерлитамак    11\n",
       "10     1002      8  smart  Стерлитамак    13\n",
       "11     1002      9  smart  Стерлитамак     4\n",
       "12     1002     10  smart  Стерлитамак    10\n",
       "13     1002     11  smart  Стерлитамак    16\n",
       "14     1002     12  smart  Стерлитамак    12"
      ]
     },
     "execution_count": 36,
     "metadata": {},
     "output_type": "execute_result"
    }
   ],
   "source": [
    "# Создание сводной таблицы для подсчёта количества сообщений от каждого пользователя по месяцам\n",
    "count_messages=messages_users.pivot_table(index=['user_id','month', 'tariff','city'], values='mess', aggfunc='count').reset_index()\n",
    "count_messages.head(15)"
   ]
  },
  {
   "cell_type": "markdown",
   "metadata": {},
   "source": [
    "### Объём израсходованного интрнет-трафика по месяцам"
   ]
  },
  {
   "cell_type": "markdown",
   "metadata": {},
   "source": [
    "По аналогии с предыдущими шагами, посчитаю количество использованных гигабайтов. Объединю таблицы с данными о пользователях и интренет-трафике по `user_id`. Добалю колонку с номером месяца. С помощью `pivot_table` оценю объём трафика каждого пользователя в месяц."
   ]
  },
  {
   "cell_type": "code",
   "execution_count": 37,
   "metadata": {
    "scrolled": true
   },
   "outputs": [
    {
     "data": {
      "text/html": [
       "<div>\n",
       "<style scoped>\n",
       "    .dataframe tbody tr th:only-of-type {\n",
       "        vertical-align: middle;\n",
       "    }\n",
       "\n",
       "    .dataframe tbody tr th {\n",
       "        vertical-align: top;\n",
       "    }\n",
       "\n",
       "    .dataframe thead th {\n",
       "        text-align: right;\n",
       "    }\n",
       "</style>\n",
       "<table border=\"1\" class=\"dataframe\">\n",
       "  <thead>\n",
       "    <tr style=\"text-align: right;\">\n",
       "      <th></th>\n",
       "      <th>index</th>\n",
       "      <th>user_id</th>\n",
       "      <th>age</th>\n",
       "      <th>churn_date</th>\n",
       "      <th>city</th>\n",
       "      <th>first_name</th>\n",
       "      <th>last_name</th>\n",
       "      <th>reg_date</th>\n",
       "      <th>tariff</th>\n",
       "      <th>Unnamed: 0</th>\n",
       "      <th>id</th>\n",
       "      <th>mb_used</th>\n",
       "      <th>session_date</th>\n",
       "    </tr>\n",
       "  </thead>\n",
       "  <tbody>\n",
       "    <tr>\n",
       "      <td>0</td>\n",
       "      <td>0</td>\n",
       "      <td>1000</td>\n",
       "      <td>52</td>\n",
       "      <td>NaN</td>\n",
       "      <td>Краснодар</td>\n",
       "      <td>Рафаил</td>\n",
       "      <td>Верещагин</td>\n",
       "      <td>2018-05-25</td>\n",
       "      <td>ultra</td>\n",
       "      <td>0.0</td>\n",
       "      <td>1000_0</td>\n",
       "      <td>112.95</td>\n",
       "      <td>2018-11-25</td>\n",
       "    </tr>\n",
       "    <tr>\n",
       "      <td>1</td>\n",
       "      <td>1</td>\n",
       "      <td>1000</td>\n",
       "      <td>52</td>\n",
       "      <td>NaN</td>\n",
       "      <td>Краснодар</td>\n",
       "      <td>Рафаил</td>\n",
       "      <td>Верещагин</td>\n",
       "      <td>2018-05-25</td>\n",
       "      <td>ultra</td>\n",
       "      <td>1.0</td>\n",
       "      <td>1000_1</td>\n",
       "      <td>1052.81</td>\n",
       "      <td>2018-09-07</td>\n",
       "    </tr>\n",
       "    <tr>\n",
       "      <td>2</td>\n",
       "      <td>2</td>\n",
       "      <td>1000</td>\n",
       "      <td>52</td>\n",
       "      <td>NaN</td>\n",
       "      <td>Краснодар</td>\n",
       "      <td>Рафаил</td>\n",
       "      <td>Верещагин</td>\n",
       "      <td>2018-05-25</td>\n",
       "      <td>ultra</td>\n",
       "      <td>2.0</td>\n",
       "      <td>1000_2</td>\n",
       "      <td>1197.26</td>\n",
       "      <td>2018-06-25</td>\n",
       "    </tr>\n",
       "    <tr>\n",
       "      <td>3</td>\n",
       "      <td>3</td>\n",
       "      <td>1000</td>\n",
       "      <td>52</td>\n",
       "      <td>NaN</td>\n",
       "      <td>Краснодар</td>\n",
       "      <td>Рафаил</td>\n",
       "      <td>Верещагин</td>\n",
       "      <td>2018-05-25</td>\n",
       "      <td>ultra</td>\n",
       "      <td>3.0</td>\n",
       "      <td>1000_3</td>\n",
       "      <td>550.27</td>\n",
       "      <td>2018-08-22</td>\n",
       "    </tr>\n",
       "    <tr>\n",
       "      <td>4</td>\n",
       "      <td>4</td>\n",
       "      <td>1000</td>\n",
       "      <td>52</td>\n",
       "      <td>NaN</td>\n",
       "      <td>Краснодар</td>\n",
       "      <td>Рафаил</td>\n",
       "      <td>Верещагин</td>\n",
       "      <td>2018-05-25</td>\n",
       "      <td>ultra</td>\n",
       "      <td>4.0</td>\n",
       "      <td>1000_4</td>\n",
       "      <td>302.56</td>\n",
       "      <td>2018-09-24</td>\n",
       "    </tr>\n",
       "    <tr>\n",
       "      <td>5</td>\n",
       "      <td>5</td>\n",
       "      <td>1000</td>\n",
       "      <td>52</td>\n",
       "      <td>NaN</td>\n",
       "      <td>Краснодар</td>\n",
       "      <td>Рафаил</td>\n",
       "      <td>Верещагин</td>\n",
       "      <td>2018-05-25</td>\n",
       "      <td>ultra</td>\n",
       "      <td>5.0</td>\n",
       "      <td>1000_5</td>\n",
       "      <td>399.97</td>\n",
       "      <td>2018-10-02</td>\n",
       "    </tr>\n",
       "    <tr>\n",
       "      <td>6</td>\n",
       "      <td>6</td>\n",
       "      <td>1000</td>\n",
       "      <td>52</td>\n",
       "      <td>NaN</td>\n",
       "      <td>Краснодар</td>\n",
       "      <td>Рафаил</td>\n",
       "      <td>Верещагин</td>\n",
       "      <td>2018-05-25</td>\n",
       "      <td>ultra</td>\n",
       "      <td>6.0</td>\n",
       "      <td>1000_6</td>\n",
       "      <td>540.08</td>\n",
       "      <td>2018-09-07</td>\n",
       "    </tr>\n",
       "    <tr>\n",
       "      <td>7</td>\n",
       "      <td>7</td>\n",
       "      <td>1000</td>\n",
       "      <td>52</td>\n",
       "      <td>NaN</td>\n",
       "      <td>Краснодар</td>\n",
       "      <td>Рафаил</td>\n",
       "      <td>Верещагин</td>\n",
       "      <td>2018-05-25</td>\n",
       "      <td>ultra</td>\n",
       "      <td>7.0</td>\n",
       "      <td>1000_7</td>\n",
       "      <td>415.70</td>\n",
       "      <td>2018-07-11</td>\n",
       "    </tr>\n",
       "    <tr>\n",
       "      <td>8</td>\n",
       "      <td>8</td>\n",
       "      <td>1000</td>\n",
       "      <td>52</td>\n",
       "      <td>NaN</td>\n",
       "      <td>Краснодар</td>\n",
       "      <td>Рафаил</td>\n",
       "      <td>Верещагин</td>\n",
       "      <td>2018-05-25</td>\n",
       "      <td>ultra</td>\n",
       "      <td>8.0</td>\n",
       "      <td>1000_8</td>\n",
       "      <td>505.40</td>\n",
       "      <td>2018-10-08</td>\n",
       "    </tr>\n",
       "    <tr>\n",
       "      <td>9</td>\n",
       "      <td>9</td>\n",
       "      <td>1000</td>\n",
       "      <td>52</td>\n",
       "      <td>NaN</td>\n",
       "      <td>Краснодар</td>\n",
       "      <td>Рафаил</td>\n",
       "      <td>Верещагин</td>\n",
       "      <td>2018-05-25</td>\n",
       "      <td>ultra</td>\n",
       "      <td>9.0</td>\n",
       "      <td>1000_9</td>\n",
       "      <td>345.54</td>\n",
       "      <td>2018-09-03</td>\n",
       "    </tr>\n",
       "  </tbody>\n",
       "</table>\n",
       "</div>"
      ],
      "text/plain": [
       "   index  user_id  age churn_date       city first_name  last_name  \\\n",
       "0      0     1000   52        NaN  Краснодар     Рафаил  Верещагин   \n",
       "1      1     1000   52        NaN  Краснодар     Рафаил  Верещагин   \n",
       "2      2     1000   52        NaN  Краснодар     Рафаил  Верещагин   \n",
       "3      3     1000   52        NaN  Краснодар     Рафаил  Верещагин   \n",
       "4      4     1000   52        NaN  Краснодар     Рафаил  Верещагин   \n",
       "5      5     1000   52        NaN  Краснодар     Рафаил  Верещагин   \n",
       "6      6     1000   52        NaN  Краснодар     Рафаил  Верещагин   \n",
       "7      7     1000   52        NaN  Краснодар     Рафаил  Верещагин   \n",
       "8      8     1000   52        NaN  Краснодар     Рафаил  Верещагин   \n",
       "9      9     1000   52        NaN  Краснодар     Рафаил  Верещагин   \n",
       "\n",
       "     reg_date tariff  Unnamed: 0      id  mb_used session_date  \n",
       "0  2018-05-25  ultra         0.0  1000_0   112.95   2018-11-25  \n",
       "1  2018-05-25  ultra         1.0  1000_1  1052.81   2018-09-07  \n",
       "2  2018-05-25  ultra         2.0  1000_2  1197.26   2018-06-25  \n",
       "3  2018-05-25  ultra         3.0  1000_3   550.27   2018-08-22  \n",
       "4  2018-05-25  ultra         4.0  1000_4   302.56   2018-09-24  \n",
       "5  2018-05-25  ultra         5.0  1000_5   399.97   2018-10-02  \n",
       "6  2018-05-25  ultra         6.0  1000_6   540.08   2018-09-07  \n",
       "7  2018-05-25  ultra         7.0  1000_7   415.70   2018-07-11  \n",
       "8  2018-05-25  ultra         8.0  1000_8   505.40   2018-10-08  \n",
       "9  2018-05-25  ultra         9.0  1000_9   345.54   2018-09-03  "
      ]
     },
     "execution_count": 37,
     "metadata": {},
     "output_type": "execute_result"
    }
   ],
   "source": [
    "# Объединение таблицы с данными о пользователях и интренет-трафике\n",
    "internet_users=users.merge(internet, on='user_id', how='left').reset_index()\n",
    "internet_users.head(10)"
   ]
  },
  {
   "cell_type": "code",
   "execution_count": 38,
   "metadata": {
    "scrolled": true
   },
   "outputs": [
    {
     "data": {
      "text/plain": [
       "index                0\n",
       "user_id              0\n",
       "age                  0\n",
       "churn_date      141649\n",
       "city                 0\n",
       "first_name           0\n",
       "last_name            0\n",
       "reg_date             0\n",
       "tariff               0\n",
       "Unnamed: 0           3\n",
       "id                   3\n",
       "mb_used              3\n",
       "session_date         3\n",
       "dtype: int64"
      ]
     },
     "execution_count": 38,
     "metadata": {},
     "output_type": "execute_result"
    }
   ],
   "source": [
    "# Проверка наличия пропусков после объединения таблиц\n",
    "internet_users.isna().sum()"
   ]
  },
  {
   "cell_type": "code",
   "execution_count": 39,
   "metadata": {},
   "outputs": [
    {
     "data": {
      "text/plain": [
       "index                0\n",
       "user_id              0\n",
       "age                  0\n",
       "churn_date      141648\n",
       "city                 0\n",
       "first_name           0\n",
       "last_name            0\n",
       "reg_date             0\n",
       "tariff               0\n",
       "Unnamed: 0           0\n",
       "id                   0\n",
       "mb_used              0\n",
       "session_date         0\n",
       "dtype: int64"
      ]
     },
     "execution_count": 39,
     "metadata": {},
     "output_type": "execute_result"
    }
   ],
   "source": [
    "# Пропусков мало, поэтому удалю строки с ними\n",
    "internet_users=internet_users.dropna(subset=['id'])\n",
    "internet_users.isna().sum()"
   ]
  },
  {
   "cell_type": "code",
   "execution_count": 40,
   "metadata": {},
   "outputs": [
    {
     "data": {
      "text/html": [
       "<div>\n",
       "<style scoped>\n",
       "    .dataframe tbody tr th:only-of-type {\n",
       "        vertical-align: middle;\n",
       "    }\n",
       "\n",
       "    .dataframe tbody tr th {\n",
       "        vertical-align: top;\n",
       "    }\n",
       "\n",
       "    .dataframe thead th {\n",
       "        text-align: right;\n",
       "    }\n",
       "</style>\n",
       "<table border=\"1\" class=\"dataframe\">\n",
       "  <thead>\n",
       "    <tr style=\"text-align: right;\">\n",
       "      <th></th>\n",
       "      <th>index</th>\n",
       "      <th>user_id</th>\n",
       "      <th>age</th>\n",
       "      <th>churn_date</th>\n",
       "      <th>city</th>\n",
       "      <th>first_name</th>\n",
       "      <th>last_name</th>\n",
       "      <th>reg_date</th>\n",
       "      <th>tariff</th>\n",
       "      <th>Unnamed: 0</th>\n",
       "      <th>id</th>\n",
       "      <th>mb_used</th>\n",
       "      <th>session_date</th>\n",
       "      <th>month</th>\n",
       "    </tr>\n",
       "  </thead>\n",
       "  <tbody>\n",
       "    <tr>\n",
       "      <td>0</td>\n",
       "      <td>0</td>\n",
       "      <td>1000</td>\n",
       "      <td>52</td>\n",
       "      <td>NaN</td>\n",
       "      <td>Краснодар</td>\n",
       "      <td>Рафаил</td>\n",
       "      <td>Верещагин</td>\n",
       "      <td>2018-05-25</td>\n",
       "      <td>ultra</td>\n",
       "      <td>0.0</td>\n",
       "      <td>1000_0</td>\n",
       "      <td>112.95</td>\n",
       "      <td>2018-11-25</td>\n",
       "      <td>11</td>\n",
       "    </tr>\n",
       "    <tr>\n",
       "      <td>1</td>\n",
       "      <td>1</td>\n",
       "      <td>1000</td>\n",
       "      <td>52</td>\n",
       "      <td>NaN</td>\n",
       "      <td>Краснодар</td>\n",
       "      <td>Рафаил</td>\n",
       "      <td>Верещагин</td>\n",
       "      <td>2018-05-25</td>\n",
       "      <td>ultra</td>\n",
       "      <td>1.0</td>\n",
       "      <td>1000_1</td>\n",
       "      <td>1052.81</td>\n",
       "      <td>2018-09-07</td>\n",
       "      <td>9</td>\n",
       "    </tr>\n",
       "    <tr>\n",
       "      <td>2</td>\n",
       "      <td>2</td>\n",
       "      <td>1000</td>\n",
       "      <td>52</td>\n",
       "      <td>NaN</td>\n",
       "      <td>Краснодар</td>\n",
       "      <td>Рафаил</td>\n",
       "      <td>Верещагин</td>\n",
       "      <td>2018-05-25</td>\n",
       "      <td>ultra</td>\n",
       "      <td>2.0</td>\n",
       "      <td>1000_2</td>\n",
       "      <td>1197.26</td>\n",
       "      <td>2018-06-25</td>\n",
       "      <td>6</td>\n",
       "    </tr>\n",
       "    <tr>\n",
       "      <td>3</td>\n",
       "      <td>3</td>\n",
       "      <td>1000</td>\n",
       "      <td>52</td>\n",
       "      <td>NaN</td>\n",
       "      <td>Краснодар</td>\n",
       "      <td>Рафаил</td>\n",
       "      <td>Верещагин</td>\n",
       "      <td>2018-05-25</td>\n",
       "      <td>ultra</td>\n",
       "      <td>3.0</td>\n",
       "      <td>1000_3</td>\n",
       "      <td>550.27</td>\n",
       "      <td>2018-08-22</td>\n",
       "      <td>8</td>\n",
       "    </tr>\n",
       "    <tr>\n",
       "      <td>4</td>\n",
       "      <td>4</td>\n",
       "      <td>1000</td>\n",
       "      <td>52</td>\n",
       "      <td>NaN</td>\n",
       "      <td>Краснодар</td>\n",
       "      <td>Рафаил</td>\n",
       "      <td>Верещагин</td>\n",
       "      <td>2018-05-25</td>\n",
       "      <td>ultra</td>\n",
       "      <td>4.0</td>\n",
       "      <td>1000_4</td>\n",
       "      <td>302.56</td>\n",
       "      <td>2018-09-24</td>\n",
       "      <td>9</td>\n",
       "    </tr>\n",
       "  </tbody>\n",
       "</table>\n",
       "</div>"
      ],
      "text/plain": [
       "   index  user_id  age churn_date       city first_name  last_name  \\\n",
       "0      0     1000   52        NaN  Краснодар     Рафаил  Верещагин   \n",
       "1      1     1000   52        NaN  Краснодар     Рафаил  Верещагин   \n",
       "2      2     1000   52        NaN  Краснодар     Рафаил  Верещагин   \n",
       "3      3     1000   52        NaN  Краснодар     Рафаил  Верещагин   \n",
       "4      4     1000   52        NaN  Краснодар     Рафаил  Верещагин   \n",
       "\n",
       "     reg_date tariff  Unnamed: 0      id  mb_used session_date  month  \n",
       "0  2018-05-25  ultra         0.0  1000_0   112.95   2018-11-25     11  \n",
       "1  2018-05-25  ultra         1.0  1000_1  1052.81   2018-09-07      9  \n",
       "2  2018-05-25  ultra         2.0  1000_2  1197.26   2018-06-25      6  \n",
       "3  2018-05-25  ultra         3.0  1000_3   550.27   2018-08-22      8  \n",
       "4  2018-05-25  ultra         4.0  1000_4   302.56   2018-09-24      9  "
      ]
     },
     "execution_count": 40,
     "metadata": {},
     "output_type": "execute_result"
    }
   ],
   "source": [
    "# Создание столбца с номером месяца\n",
    "internet_users['month']=pd.to_datetime(internet_users['session_date']).astype('datetime64[M]').dt.month\n",
    "internet_users.head()"
   ]
  },
  {
   "cell_type": "code",
   "execution_count": 41,
   "metadata": {},
   "outputs": [
    {
     "data": {
      "text/html": [
       "<div>\n",
       "<style scoped>\n",
       "    .dataframe tbody tr th:only-of-type {\n",
       "        vertical-align: middle;\n",
       "    }\n",
       "\n",
       "    .dataframe tbody tr th {\n",
       "        vertical-align: top;\n",
       "    }\n",
       "\n",
       "    .dataframe thead th {\n",
       "        text-align: right;\n",
       "    }\n",
       "</style>\n",
       "<table border=\"1\" class=\"dataframe\">\n",
       "  <thead>\n",
       "    <tr style=\"text-align: right;\">\n",
       "      <th></th>\n",
       "      <th>user_id</th>\n",
       "      <th>month</th>\n",
       "      <th>tariff</th>\n",
       "      <th>city</th>\n",
       "      <th>Unnamed: 0</th>\n",
       "      <th>age</th>\n",
       "      <th>index</th>\n",
       "      <th>mb_used</th>\n",
       "    </tr>\n",
       "  </thead>\n",
       "  <tbody>\n",
       "    <tr>\n",
       "      <td>0</td>\n",
       "      <td>1000</td>\n",
       "      <td>5</td>\n",
       "      <td>ultra</td>\n",
       "      <td>Краснодар</td>\n",
       "      <td>443.0</td>\n",
       "      <td>260</td>\n",
       "      <td>443</td>\n",
       "      <td>2253.49</td>\n",
       "    </tr>\n",
       "    <tr>\n",
       "      <td>1</td>\n",
       "      <td>1000</td>\n",
       "      <td>6</td>\n",
       "      <td>ultra</td>\n",
       "      <td>Краснодар</td>\n",
       "      <td>5536.0</td>\n",
       "      <td>2548</td>\n",
       "      <td>5536</td>\n",
       "      <td>23233.77</td>\n",
       "    </tr>\n",
       "    <tr>\n",
       "      <td>2</td>\n",
       "      <td>1000</td>\n",
       "      <td>7</td>\n",
       "      <td>ultra</td>\n",
       "      <td>Краснодар</td>\n",
       "      <td>3504.0</td>\n",
       "      <td>1508</td>\n",
       "      <td>3504</td>\n",
       "      <td>14003.64</td>\n",
       "    </tr>\n",
       "    <tr>\n",
       "      <td>3</td>\n",
       "      <td>1000</td>\n",
       "      <td>8</td>\n",
       "      <td>ultra</td>\n",
       "      <td>Краснодар</td>\n",
       "      <td>2977.0</td>\n",
       "      <td>1508</td>\n",
       "      <td>2977</td>\n",
       "      <td>14055.93</td>\n",
       "    </tr>\n",
       "    <tr>\n",
       "      <td>4</td>\n",
       "      <td>1000</td>\n",
       "      <td>9</td>\n",
       "      <td>ultra</td>\n",
       "      <td>Краснодар</td>\n",
       "      <td>2746.0</td>\n",
       "      <td>1404</td>\n",
       "      <td>2746</td>\n",
       "      <td>14568.91</td>\n",
       "    </tr>\n",
       "    <tr>\n",
       "      <td>5</td>\n",
       "      <td>1000</td>\n",
       "      <td>10</td>\n",
       "      <td>ultra</td>\n",
       "      <td>Краснодар</td>\n",
       "      <td>2475.0</td>\n",
       "      <td>1404</td>\n",
       "      <td>2475</td>\n",
       "      <td>14702.49</td>\n",
       "    </tr>\n",
       "    <tr>\n",
       "      <td>6</td>\n",
       "      <td>1000</td>\n",
       "      <td>11</td>\n",
       "      <td>ultra</td>\n",
       "      <td>Краснодар</td>\n",
       "      <td>1790.0</td>\n",
       "      <td>1248</td>\n",
       "      <td>1790</td>\n",
       "      <td>14756.47</td>\n",
       "    </tr>\n",
       "    <tr>\n",
       "      <td>7</td>\n",
       "      <td>1000</td>\n",
       "      <td>12</td>\n",
       "      <td>ultra</td>\n",
       "      <td>Краснодар</td>\n",
       "      <td>2684.0</td>\n",
       "      <td>1092</td>\n",
       "      <td>2684</td>\n",
       "      <td>9817.61</td>\n",
       "    </tr>\n",
       "    <tr>\n",
       "      <td>8</td>\n",
       "      <td>1001</td>\n",
       "      <td>11</td>\n",
       "      <td>smart</td>\n",
       "      <td>Москва</td>\n",
       "      <td>14291.0</td>\n",
       "      <td>2255</td>\n",
       "      <td>14291</td>\n",
       "      <td>18429.34</td>\n",
       "    </tr>\n",
       "    <tr>\n",
       "      <td>9</td>\n",
       "      <td>1001</td>\n",
       "      <td>12</td>\n",
       "      <td>smart</td>\n",
       "      <td>Москва</td>\n",
       "      <td>10525.0</td>\n",
       "      <td>1681</td>\n",
       "      <td>10525</td>\n",
       "      <td>14036.66</td>\n",
       "    </tr>\n",
       "    <tr>\n",
       "      <td>10</td>\n",
       "      <td>1002</td>\n",
       "      <td>6</td>\n",
       "      <td>smart</td>\n",
       "      <td>Стерлитамак</td>\n",
       "      <td>16604.0</td>\n",
       "      <td>2006</td>\n",
       "      <td>16604</td>\n",
       "      <td>10856.82</td>\n",
       "    </tr>\n",
       "    <tr>\n",
       "      <td>11</td>\n",
       "      <td>1002</td>\n",
       "      <td>7</td>\n",
       "      <td>smart</td>\n",
       "      <td>Стерлитамак</td>\n",
       "      <td>28988.0</td>\n",
       "      <td>3422</td>\n",
       "      <td>28988</td>\n",
       "      <td>17580.10</td>\n",
       "    </tr>\n",
       "    <tr>\n",
       "      <td>12</td>\n",
       "      <td>1002</td>\n",
       "      <td>8</td>\n",
       "      <td>smart</td>\n",
       "      <td>Стерлитамак</td>\n",
       "      <td>29116.0</td>\n",
       "      <td>3540</td>\n",
       "      <td>29116</td>\n",
       "      <td>20319.26</td>\n",
       "    </tr>\n",
       "    <tr>\n",
       "      <td>13</td>\n",
       "      <td>1002</td>\n",
       "      <td>9</td>\n",
       "      <td>smart</td>\n",
       "      <td>Стерлитамак</td>\n",
       "      <td>27004.0</td>\n",
       "      <td>3304</td>\n",
       "      <td>27004</td>\n",
       "      <td>16691.08</td>\n",
       "    </tr>\n",
       "    <tr>\n",
       "      <td>14</td>\n",
       "      <td>1002</td>\n",
       "      <td>10</td>\n",
       "      <td>smart</td>\n",
       "      <td>Стерлитамак</td>\n",
       "      <td>22386.0</td>\n",
       "      <td>2596</td>\n",
       "      <td>22386</td>\n",
       "      <td>13888.25</td>\n",
       "    </tr>\n",
       "  </tbody>\n",
       "</table>\n",
       "</div>"
      ],
      "text/plain": [
       "    user_id  month tariff         city  Unnamed: 0   age  index   mb_used\n",
       "0      1000      5  ultra    Краснодар       443.0   260    443   2253.49\n",
       "1      1000      6  ultra    Краснодар      5536.0  2548   5536  23233.77\n",
       "2      1000      7  ultra    Краснодар      3504.0  1508   3504  14003.64\n",
       "3      1000      8  ultra    Краснодар      2977.0  1508   2977  14055.93\n",
       "4      1000      9  ultra    Краснодар      2746.0  1404   2746  14568.91\n",
       "5      1000     10  ultra    Краснодар      2475.0  1404   2475  14702.49\n",
       "6      1000     11  ultra    Краснодар      1790.0  1248   1790  14756.47\n",
       "7      1000     12  ultra    Краснодар      2684.0  1092   2684   9817.61\n",
       "8      1001     11  smart       Москва     14291.0  2255  14291  18429.34\n",
       "9      1001     12  smart       Москва     10525.0  1681  10525  14036.66\n",
       "10     1002      6  smart  Стерлитамак     16604.0  2006  16604  10856.82\n",
       "11     1002      7  smart  Стерлитамак     28988.0  3422  28988  17580.10\n",
       "12     1002      8  smart  Стерлитамак     29116.0  3540  29116  20319.26\n",
       "13     1002      9  smart  Стерлитамак     27004.0  3304  27004  16691.08\n",
       "14     1002     10  smart  Стерлитамак     22386.0  2596  22386  13888.25"
      ]
     },
     "execution_count": 41,
     "metadata": {},
     "output_type": "execute_result"
    }
   ],
   "source": [
    "# Создание сводной таблицы для подсчёта объёма интернет-трафика каждого пользователя по месяцам\n",
    "sum_internet=internet_users.pivot_table(index=['user_id','month', 'tariff','city'], aggfunc='sum').reset_index()\n",
    "sum_internet.head(15)"
   ]
  },
  {
   "cell_type": "code",
   "execution_count": 42,
   "metadata": {},
   "outputs": [
    {
     "data": {
      "text/html": [
       "<div>\n",
       "<style scoped>\n",
       "    .dataframe tbody tr th:only-of-type {\n",
       "        vertical-align: middle;\n",
       "    }\n",
       "\n",
       "    .dataframe tbody tr th {\n",
       "        vertical-align: top;\n",
       "    }\n",
       "\n",
       "    .dataframe thead th {\n",
       "        text-align: right;\n",
       "    }\n",
       "</style>\n",
       "<table border=\"1\" class=\"dataframe\">\n",
       "  <thead>\n",
       "    <tr style=\"text-align: right;\">\n",
       "      <th></th>\n",
       "      <th>user_id</th>\n",
       "      <th>month</th>\n",
       "      <th>tariff</th>\n",
       "      <th>city</th>\n",
       "      <th>Unnamed: 0</th>\n",
       "      <th>age</th>\n",
       "      <th>index</th>\n",
       "      <th>mb_used</th>\n",
       "      <th>used_gb</th>\n",
       "    </tr>\n",
       "  </thead>\n",
       "  <tbody>\n",
       "    <tr>\n",
       "      <td>0</td>\n",
       "      <td>1000</td>\n",
       "      <td>5</td>\n",
       "      <td>ultra</td>\n",
       "      <td>Краснодар</td>\n",
       "      <td>443.0</td>\n",
       "      <td>260</td>\n",
       "      <td>443</td>\n",
       "      <td>2253.49</td>\n",
       "      <td>3</td>\n",
       "    </tr>\n",
       "    <tr>\n",
       "      <td>1</td>\n",
       "      <td>1000</td>\n",
       "      <td>6</td>\n",
       "      <td>ultra</td>\n",
       "      <td>Краснодар</td>\n",
       "      <td>5536.0</td>\n",
       "      <td>2548</td>\n",
       "      <td>5536</td>\n",
       "      <td>23233.77</td>\n",
       "      <td>23</td>\n",
       "    </tr>\n",
       "    <tr>\n",
       "      <td>2</td>\n",
       "      <td>1000</td>\n",
       "      <td>7</td>\n",
       "      <td>ultra</td>\n",
       "      <td>Краснодар</td>\n",
       "      <td>3504.0</td>\n",
       "      <td>1508</td>\n",
       "      <td>3504</td>\n",
       "      <td>14003.64</td>\n",
       "      <td>14</td>\n",
       "    </tr>\n",
       "    <tr>\n",
       "      <td>3</td>\n",
       "      <td>1000</td>\n",
       "      <td>8</td>\n",
       "      <td>ultra</td>\n",
       "      <td>Краснодар</td>\n",
       "      <td>2977.0</td>\n",
       "      <td>1508</td>\n",
       "      <td>2977</td>\n",
       "      <td>14055.93</td>\n",
       "      <td>14</td>\n",
       "    </tr>\n",
       "    <tr>\n",
       "      <td>4</td>\n",
       "      <td>1000</td>\n",
       "      <td>9</td>\n",
       "      <td>ultra</td>\n",
       "      <td>Краснодар</td>\n",
       "      <td>2746.0</td>\n",
       "      <td>1404</td>\n",
       "      <td>2746</td>\n",
       "      <td>14568.91</td>\n",
       "      <td>15</td>\n",
       "    </tr>\n",
       "  </tbody>\n",
       "</table>\n",
       "</div>"
      ],
      "text/plain": [
       "   user_id  month tariff       city  Unnamed: 0   age  index   mb_used  \\\n",
       "0     1000      5  ultra  Краснодар       443.0   260    443   2253.49   \n",
       "1     1000      6  ultra  Краснодар      5536.0  2548   5536  23233.77   \n",
       "2     1000      7  ultra  Краснодар      3504.0  1508   3504  14003.64   \n",
       "3     1000      8  ultra  Краснодар      2977.0  1508   2977  14055.93   \n",
       "4     1000      9  ultra  Краснодар      2746.0  1404   2746  14568.91   \n",
       "\n",
       "   used_gb  \n",
       "0        3  \n",
       "1       23  \n",
       "2       14  \n",
       "3       14  \n",
       "4       15  "
      ]
     },
     "execution_count": 42,
     "metadata": {},
     "output_type": "execute_result"
    }
   ],
   "source": [
    "# Перевела мегабайты в гигабайты и округлила их согласно примечанию к заданию: мегабайты округляются до гигабайт\n",
    "# Столбец, содержащий округлённые в большую сторону гигабайты, перевела в int\n",
    "sum_internet['used_gb']=(sum_internet['mb_used']/1024).apply(np.ceil).astype(int)\n",
    "sum_internet.head()"
   ]
  },
  {
   "cell_type": "markdown",
   "metadata": {},
   "source": [
    "### Помесячная выручка с каждого пользователя"
   ]
  },
  {
   "cell_type": "markdown",
   "metadata": {},
   "source": [
    "*Объединю таблицы для удобного расчёта выручки*"
   ]
  },
  {
   "cell_type": "code",
   "execution_count": 43,
   "metadata": {},
   "outputs": [
    {
     "data": {
      "text/html": [
       "<div>\n",
       "<style scoped>\n",
       "    .dataframe tbody tr th:only-of-type {\n",
       "        vertical-align: middle;\n",
       "    }\n",
       "\n",
       "    .dataframe tbody tr th {\n",
       "        vertical-align: top;\n",
       "    }\n",
       "\n",
       "    .dataframe thead th {\n",
       "        text-align: right;\n",
       "    }\n",
       "</style>\n",
       "<table border=\"1\" class=\"dataframe\">\n",
       "  <thead>\n",
       "    <tr style=\"text-align: right;\">\n",
       "      <th></th>\n",
       "      <th>messages_included</th>\n",
       "      <th>mb_per_month_included</th>\n",
       "      <th>minutes_included</th>\n",
       "      <th>rub_monthly_fee</th>\n",
       "      <th>rub_per_gb</th>\n",
       "      <th>rub_per_message</th>\n",
       "      <th>rub_per_minute</th>\n",
       "      <th>tariff</th>\n",
       "    </tr>\n",
       "  </thead>\n",
       "  <tbody>\n",
       "    <tr>\n",
       "      <td>0</td>\n",
       "      <td>50</td>\n",
       "      <td>15360</td>\n",
       "      <td>500</td>\n",
       "      <td>550</td>\n",
       "      <td>200</td>\n",
       "      <td>3</td>\n",
       "      <td>3</td>\n",
       "      <td>smart</td>\n",
       "    </tr>\n",
       "    <tr>\n",
       "      <td>1</td>\n",
       "      <td>1000</td>\n",
       "      <td>30720</td>\n",
       "      <td>3000</td>\n",
       "      <td>1950</td>\n",
       "      <td>150</td>\n",
       "      <td>1</td>\n",
       "      <td>1</td>\n",
       "      <td>ultra</td>\n",
       "    </tr>\n",
       "  </tbody>\n",
       "</table>\n",
       "</div>"
      ],
      "text/plain": [
       "   messages_included  mb_per_month_included  minutes_included  \\\n",
       "0                 50                  15360               500   \n",
       "1               1000                  30720              3000   \n",
       "\n",
       "   rub_monthly_fee  rub_per_gb  rub_per_message  rub_per_minute tariff  \n",
       "0              550         200                3               3  smart  \n",
       "1             1950         150                1               1  ultra  "
      ]
     },
     "execution_count": 43,
     "metadata": {},
     "output_type": "execute_result"
    }
   ],
   "source": [
    "#Изменение названия столбца для избежания путаницы в последующем анализе\n",
    "tariffs=tariffs.rename(columns={'tariff_name':'tariff'})\n",
    "tariffs.head()"
   ]
  },
  {
   "cell_type": "code",
   "execution_count": 44,
   "metadata": {},
   "outputs": [
    {
     "data": {
      "text/html": [
       "<div>\n",
       "<style scoped>\n",
       "    .dataframe tbody tr th:only-of-type {\n",
       "        vertical-align: middle;\n",
       "    }\n",
       "\n",
       "    .dataframe tbody tr th {\n",
       "        vertical-align: top;\n",
       "    }\n",
       "\n",
       "    .dataframe thead th {\n",
       "        text-align: right;\n",
       "    }\n",
       "</style>\n",
       "<table border=\"1\" class=\"dataframe\">\n",
       "  <thead>\n",
       "    <tr style=\"text-align: right;\">\n",
       "      <th></th>\n",
       "      <th>messages_included</th>\n",
       "      <th>mb_per_month_included</th>\n",
       "      <th>minutes_included</th>\n",
       "      <th>rub_monthly_fee</th>\n",
       "      <th>rub_per_gb</th>\n",
       "      <th>rub_per_message</th>\n",
       "      <th>rub_per_minute</th>\n",
       "      <th>tariff</th>\n",
       "      <th>gb_per_month_included</th>\n",
       "    </tr>\n",
       "  </thead>\n",
       "  <tbody>\n",
       "    <tr>\n",
       "      <td>0</td>\n",
       "      <td>50</td>\n",
       "      <td>15360</td>\n",
       "      <td>500</td>\n",
       "      <td>550</td>\n",
       "      <td>200</td>\n",
       "      <td>3</td>\n",
       "      <td>3</td>\n",
       "      <td>smart</td>\n",
       "      <td>15</td>\n",
       "    </tr>\n",
       "    <tr>\n",
       "      <td>1</td>\n",
       "      <td>1000</td>\n",
       "      <td>30720</td>\n",
       "      <td>3000</td>\n",
       "      <td>1950</td>\n",
       "      <td>150</td>\n",
       "      <td>1</td>\n",
       "      <td>1</td>\n",
       "      <td>ultra</td>\n",
       "      <td>30</td>\n",
       "    </tr>\n",
       "  </tbody>\n",
       "</table>\n",
       "</div>"
      ],
      "text/plain": [
       "   messages_included  mb_per_month_included  minutes_included  \\\n",
       "0                 50                  15360               500   \n",
       "1               1000                  30720              3000   \n",
       "\n",
       "   rub_monthly_fee  rub_per_gb  rub_per_message  rub_per_minute tariff  \\\n",
       "0              550         200                3               3  smart   \n",
       "1             1950         150                1               1  ultra   \n",
       "\n",
       "   gb_per_month_included  \n",
       "0                     15  \n",
       "1                     30  "
      ]
     },
     "execution_count": 44,
     "metadata": {},
     "output_type": "execute_result"
    }
   ],
   "source": [
    "# Перевела мегабайты в гигабайты и округлила их согласно примечанию к заданию: мегабайты округляются до гигабайт\n",
    "# Столбец, содержащий округлённые в большую сторону гигабайты, перевела в int\n",
    "tariffs['gb_per_month_included']=(tariffs['mb_per_month_included']/1024).apply(np.ceil).astype(int)\n",
    "tariffs.head()"
   ]
  },
  {
   "cell_type": "code",
   "execution_count": 45,
   "metadata": {
    "scrolled": true
   },
   "outputs": [
    {
     "data": {
      "text/html": [
       "<div>\n",
       "<style scoped>\n",
       "    .dataframe tbody tr th:only-of-type {\n",
       "        vertical-align: middle;\n",
       "    }\n",
       "\n",
       "    .dataframe tbody tr th {\n",
       "        vertical-align: top;\n",
       "    }\n",
       "\n",
       "    .dataframe thead th {\n",
       "        text-align: right;\n",
       "    }\n",
       "</style>\n",
       "<table border=\"1\" class=\"dataframe\">\n",
       "  <thead>\n",
       "    <tr style=\"text-align: right;\">\n",
       "      <th></th>\n",
       "      <th>index_x</th>\n",
       "      <th>user_id</th>\n",
       "      <th>age_x</th>\n",
       "      <th>churn_date</th>\n",
       "      <th>city</th>\n",
       "      <th>first_name</th>\n",
       "      <th>last_name</th>\n",
       "      <th>reg_date</th>\n",
       "      <th>tariff</th>\n",
       "      <th>month</th>\n",
       "      <th>count_calls</th>\n",
       "      <th>sum_calls</th>\n",
       "      <th>mess</th>\n",
       "      <th>Unnamed: 0</th>\n",
       "      <th>age_y</th>\n",
       "      <th>index_y</th>\n",
       "      <th>mb_used</th>\n",
       "      <th>used_gb</th>\n",
       "    </tr>\n",
       "  </thead>\n",
       "  <tbody>\n",
       "    <tr>\n",
       "      <td>0</td>\n",
       "      <td>0</td>\n",
       "      <td>1000</td>\n",
       "      <td>52</td>\n",
       "      <td>NaN</td>\n",
       "      <td>Краснодар</td>\n",
       "      <td>Рафаил</td>\n",
       "      <td>Верещагин</td>\n",
       "      <td>2018-05-25</td>\n",
       "      <td>ultra</td>\n",
       "      <td>5.0</td>\n",
       "      <td>22.0</td>\n",
       "      <td>159.0</td>\n",
       "      <td>22.0</td>\n",
       "      <td>443.0</td>\n",
       "      <td>260.0</td>\n",
       "      <td>443.0</td>\n",
       "      <td>2253.49</td>\n",
       "      <td>3.0</td>\n",
       "    </tr>\n",
       "    <tr>\n",
       "      <td>1</td>\n",
       "      <td>1</td>\n",
       "      <td>1000</td>\n",
       "      <td>52</td>\n",
       "      <td>NaN</td>\n",
       "      <td>Краснодар</td>\n",
       "      <td>Рафаил</td>\n",
       "      <td>Верещагин</td>\n",
       "      <td>2018-05-25</td>\n",
       "      <td>ultra</td>\n",
       "      <td>6.0</td>\n",
       "      <td>43.0</td>\n",
       "      <td>172.0</td>\n",
       "      <td>60.0</td>\n",
       "      <td>5536.0</td>\n",
       "      <td>2548.0</td>\n",
       "      <td>5536.0</td>\n",
       "      <td>23233.77</td>\n",
       "      <td>23.0</td>\n",
       "    </tr>\n",
       "    <tr>\n",
       "      <td>2</td>\n",
       "      <td>2</td>\n",
       "      <td>1000</td>\n",
       "      <td>52</td>\n",
       "      <td>NaN</td>\n",
       "      <td>Краснодар</td>\n",
       "      <td>Рафаил</td>\n",
       "      <td>Верещагин</td>\n",
       "      <td>2018-05-25</td>\n",
       "      <td>ultra</td>\n",
       "      <td>7.0</td>\n",
       "      <td>47.0</td>\n",
       "      <td>340.0</td>\n",
       "      <td>75.0</td>\n",
       "      <td>3504.0</td>\n",
       "      <td>1508.0</td>\n",
       "      <td>3504.0</td>\n",
       "      <td>14003.64</td>\n",
       "      <td>14.0</td>\n",
       "    </tr>\n",
       "    <tr>\n",
       "      <td>3</td>\n",
       "      <td>3</td>\n",
       "      <td>1000</td>\n",
       "      <td>52</td>\n",
       "      <td>NaN</td>\n",
       "      <td>Краснодар</td>\n",
       "      <td>Рафаил</td>\n",
       "      <td>Верещагин</td>\n",
       "      <td>2018-05-25</td>\n",
       "      <td>ultra</td>\n",
       "      <td>8.0</td>\n",
       "      <td>52.0</td>\n",
       "      <td>408.0</td>\n",
       "      <td>81.0</td>\n",
       "      <td>2977.0</td>\n",
       "      <td>1508.0</td>\n",
       "      <td>2977.0</td>\n",
       "      <td>14055.93</td>\n",
       "      <td>14.0</td>\n",
       "    </tr>\n",
       "    <tr>\n",
       "      <td>4</td>\n",
       "      <td>4</td>\n",
       "      <td>1000</td>\n",
       "      <td>52</td>\n",
       "      <td>NaN</td>\n",
       "      <td>Краснодар</td>\n",
       "      <td>Рафаил</td>\n",
       "      <td>Верещагин</td>\n",
       "      <td>2018-05-25</td>\n",
       "      <td>ultra</td>\n",
       "      <td>9.0</td>\n",
       "      <td>58.0</td>\n",
       "      <td>466.0</td>\n",
       "      <td>57.0</td>\n",
       "      <td>2746.0</td>\n",
       "      <td>1404.0</td>\n",
       "      <td>2746.0</td>\n",
       "      <td>14568.91</td>\n",
       "      <td>15.0</td>\n",
       "    </tr>\n",
       "  </tbody>\n",
       "</table>\n",
       "</div>"
      ],
      "text/plain": [
       "   index_x  user_id  age_x churn_date       city first_name  last_name  \\\n",
       "0        0     1000     52        NaN  Краснодар     Рафаил  Верещагин   \n",
       "1        1     1000     52        NaN  Краснодар     Рафаил  Верещагин   \n",
       "2        2     1000     52        NaN  Краснодар     Рафаил  Верещагин   \n",
       "3        3     1000     52        NaN  Краснодар     Рафаил  Верещагин   \n",
       "4        4     1000     52        NaN  Краснодар     Рафаил  Верещагин   \n",
       "\n",
       "     reg_date tariff  month  count_calls  sum_calls  mess  Unnamed: 0   age_y  \\\n",
       "0  2018-05-25  ultra    5.0         22.0      159.0  22.0       443.0   260.0   \n",
       "1  2018-05-25  ultra    6.0         43.0      172.0  60.0      5536.0  2548.0   \n",
       "2  2018-05-25  ultra    7.0         47.0      340.0  75.0      3504.0  1508.0   \n",
       "3  2018-05-25  ultra    8.0         52.0      408.0  81.0      2977.0  1508.0   \n",
       "4  2018-05-25  ultra    9.0         58.0      466.0  57.0      2746.0  1404.0   \n",
       "\n",
       "   index_y   mb_used  used_gb  \n",
       "0    443.0   2253.49      3.0  \n",
       "1   5536.0  23233.77     23.0  \n",
       "2   3504.0  14003.64     14.0  \n",
       "3   2977.0  14055.93     14.0  \n",
       "4   2746.0  14568.91     15.0  "
      ]
     },
     "execution_count": 45,
     "metadata": {},
     "output_type": "execute_result"
    }
   ],
   "source": [
    "#Объедтинение сводных таблиц в одну\n",
    "new_data=calls_users.merge(count_messages, how = 'left', on = ['user_id', 'tariff','month','city']).merge(sum_internet,  how = 'left', on = ['user_id', 'tariff','month','city'])\n",
    "new_data.head()"
   ]
  },
  {
   "cell_type": "code",
   "execution_count": 46,
   "metadata": {},
   "outputs": [
    {
     "data": {
      "text/html": [
       "<div>\n",
       "<style scoped>\n",
       "    .dataframe tbody tr th:only-of-type {\n",
       "        vertical-align: middle;\n",
       "    }\n",
       "\n",
       "    .dataframe tbody tr th {\n",
       "        vertical-align: top;\n",
       "    }\n",
       "\n",
       "    .dataframe thead th {\n",
       "        text-align: right;\n",
       "    }\n",
       "</style>\n",
       "<table border=\"1\" class=\"dataframe\">\n",
       "  <thead>\n",
       "    <tr style=\"text-align: right;\">\n",
       "      <th></th>\n",
       "      <th>index_x</th>\n",
       "      <th>user_id</th>\n",
       "      <th>age_x</th>\n",
       "      <th>churn_date</th>\n",
       "      <th>city</th>\n",
       "      <th>first_name</th>\n",
       "      <th>last_name</th>\n",
       "      <th>reg_date</th>\n",
       "      <th>tariff</th>\n",
       "      <th>month</th>\n",
       "      <th>...</th>\n",
       "      <th>mb_used</th>\n",
       "      <th>used_gb</th>\n",
       "      <th>messages_included</th>\n",
       "      <th>mb_per_month_included</th>\n",
       "      <th>minutes_included</th>\n",
       "      <th>rub_monthly_fee</th>\n",
       "      <th>rub_per_gb</th>\n",
       "      <th>rub_per_message</th>\n",
       "      <th>rub_per_minute</th>\n",
       "      <th>gb_per_month_included</th>\n",
       "    </tr>\n",
       "  </thead>\n",
       "  <tbody>\n",
       "    <tr>\n",
       "      <td>0</td>\n",
       "      <td>0</td>\n",
       "      <td>1000</td>\n",
       "      <td>52</td>\n",
       "      <td>NaN</td>\n",
       "      <td>Краснодар</td>\n",
       "      <td>Рафаил</td>\n",
       "      <td>Верещагин</td>\n",
       "      <td>2018-05-25</td>\n",
       "      <td>ultra</td>\n",
       "      <td>5.0</td>\n",
       "      <td>...</td>\n",
       "      <td>2253.49</td>\n",
       "      <td>3.0</td>\n",
       "      <td>1000</td>\n",
       "      <td>30720</td>\n",
       "      <td>3000</td>\n",
       "      <td>1950</td>\n",
       "      <td>150</td>\n",
       "      <td>1</td>\n",
       "      <td>1</td>\n",
       "      <td>30</td>\n",
       "    </tr>\n",
       "    <tr>\n",
       "      <td>1</td>\n",
       "      <td>1</td>\n",
       "      <td>1000</td>\n",
       "      <td>52</td>\n",
       "      <td>NaN</td>\n",
       "      <td>Краснодар</td>\n",
       "      <td>Рафаил</td>\n",
       "      <td>Верещагин</td>\n",
       "      <td>2018-05-25</td>\n",
       "      <td>ultra</td>\n",
       "      <td>6.0</td>\n",
       "      <td>...</td>\n",
       "      <td>23233.77</td>\n",
       "      <td>23.0</td>\n",
       "      <td>1000</td>\n",
       "      <td>30720</td>\n",
       "      <td>3000</td>\n",
       "      <td>1950</td>\n",
       "      <td>150</td>\n",
       "      <td>1</td>\n",
       "      <td>1</td>\n",
       "      <td>30</td>\n",
       "    </tr>\n",
       "    <tr>\n",
       "      <td>2</td>\n",
       "      <td>2</td>\n",
       "      <td>1000</td>\n",
       "      <td>52</td>\n",
       "      <td>NaN</td>\n",
       "      <td>Краснодар</td>\n",
       "      <td>Рафаил</td>\n",
       "      <td>Верещагин</td>\n",
       "      <td>2018-05-25</td>\n",
       "      <td>ultra</td>\n",
       "      <td>7.0</td>\n",
       "      <td>...</td>\n",
       "      <td>14003.64</td>\n",
       "      <td>14.0</td>\n",
       "      <td>1000</td>\n",
       "      <td>30720</td>\n",
       "      <td>3000</td>\n",
       "      <td>1950</td>\n",
       "      <td>150</td>\n",
       "      <td>1</td>\n",
       "      <td>1</td>\n",
       "      <td>30</td>\n",
       "    </tr>\n",
       "    <tr>\n",
       "      <td>3</td>\n",
       "      <td>3</td>\n",
       "      <td>1000</td>\n",
       "      <td>52</td>\n",
       "      <td>NaN</td>\n",
       "      <td>Краснодар</td>\n",
       "      <td>Рафаил</td>\n",
       "      <td>Верещагин</td>\n",
       "      <td>2018-05-25</td>\n",
       "      <td>ultra</td>\n",
       "      <td>8.0</td>\n",
       "      <td>...</td>\n",
       "      <td>14055.93</td>\n",
       "      <td>14.0</td>\n",
       "      <td>1000</td>\n",
       "      <td>30720</td>\n",
       "      <td>3000</td>\n",
       "      <td>1950</td>\n",
       "      <td>150</td>\n",
       "      <td>1</td>\n",
       "      <td>1</td>\n",
       "      <td>30</td>\n",
       "    </tr>\n",
       "    <tr>\n",
       "      <td>4</td>\n",
       "      <td>4</td>\n",
       "      <td>1000</td>\n",
       "      <td>52</td>\n",
       "      <td>NaN</td>\n",
       "      <td>Краснодар</td>\n",
       "      <td>Рафаил</td>\n",
       "      <td>Верещагин</td>\n",
       "      <td>2018-05-25</td>\n",
       "      <td>ultra</td>\n",
       "      <td>9.0</td>\n",
       "      <td>...</td>\n",
       "      <td>14568.91</td>\n",
       "      <td>15.0</td>\n",
       "      <td>1000</td>\n",
       "      <td>30720</td>\n",
       "      <td>3000</td>\n",
       "      <td>1950</td>\n",
       "      <td>150</td>\n",
       "      <td>1</td>\n",
       "      <td>1</td>\n",
       "      <td>30</td>\n",
       "    </tr>\n",
       "  </tbody>\n",
       "</table>\n",
       "<p>5 rows × 26 columns</p>\n",
       "</div>"
      ],
      "text/plain": [
       "   index_x  user_id  age_x churn_date       city first_name  last_name  \\\n",
       "0        0     1000     52        NaN  Краснодар     Рафаил  Верещагин   \n",
       "1        1     1000     52        NaN  Краснодар     Рафаил  Верещагин   \n",
       "2        2     1000     52        NaN  Краснодар     Рафаил  Верещагин   \n",
       "3        3     1000     52        NaN  Краснодар     Рафаил  Верещагин   \n",
       "4        4     1000     52        NaN  Краснодар     Рафаил  Верещагин   \n",
       "\n",
       "     reg_date tariff  month  ...   mb_used  used_gb  messages_included  \\\n",
       "0  2018-05-25  ultra    5.0  ...   2253.49      3.0               1000   \n",
       "1  2018-05-25  ultra    6.0  ...  23233.77     23.0               1000   \n",
       "2  2018-05-25  ultra    7.0  ...  14003.64     14.0               1000   \n",
       "3  2018-05-25  ultra    8.0  ...  14055.93     14.0               1000   \n",
       "4  2018-05-25  ultra    9.0  ...  14568.91     15.0               1000   \n",
       "\n",
       "   mb_per_month_included  minutes_included  rub_monthly_fee  rub_per_gb  \\\n",
       "0                  30720              3000             1950         150   \n",
       "1                  30720              3000             1950         150   \n",
       "2                  30720              3000             1950         150   \n",
       "3                  30720              3000             1950         150   \n",
       "4                  30720              3000             1950         150   \n",
       "\n",
       "   rub_per_message  rub_per_minute  gb_per_month_included  \n",
       "0                1               1                     30  \n",
       "1                1               1                     30  \n",
       "2                1               1                     30  \n",
       "3                1               1                     30  \n",
       "4                1               1                     30  \n",
       "\n",
       "[5 rows x 26 columns]"
      ]
     },
     "execution_count": 46,
     "metadata": {},
     "output_type": "execute_result"
    }
   ],
   "source": [
    "#Добавляю данные из таблиы по тарифам\n",
    "new_data=new_data.merge(tariffs, how = 'left', on=['tariff'])\n",
    "new_data.head()"
   ]
  },
  {
   "cell_type": "code",
   "execution_count": 47,
   "metadata": {},
   "outputs": [
    {
     "data": {
      "text/plain": [
       "index_x                     0\n",
       "user_id                     0\n",
       "age_x                       0\n",
       "churn_date               2987\n",
       "city                        0\n",
       "first_name                  0\n",
       "last_name                   0\n",
       "reg_date                    0\n",
       "tariff                      0\n",
       "month                       0\n",
       "count_calls                 0\n",
       "sum_calls                   0\n",
       "mess                      496\n",
       "Unnamed: 0                 11\n",
       "age_y                      11\n",
       "index_y                    11\n",
       "mb_used                    11\n",
       "used_gb                    11\n",
       "messages_included           0\n",
       "mb_per_month_included       0\n",
       "minutes_included            0\n",
       "rub_monthly_fee             0\n",
       "rub_per_gb                  0\n",
       "rub_per_message             0\n",
       "rub_per_minute              0\n",
       "gb_per_month_included       0\n",
       "dtype: int64"
      ]
     },
     "execution_count": 47,
     "metadata": {},
     "output_type": "execute_result"
    }
   ],
   "source": [
    "new_data.isna().sum()"
   ]
  },
  {
   "cell_type": "code",
   "execution_count": 48,
   "metadata": {
    "scrolled": true
   },
   "outputs": [
    {
     "data": {
      "text/plain": [
       "index_x                     0\n",
       "user_id                     0\n",
       "age_x                       0\n",
       "churn_date               2977\n",
       "city                        0\n",
       "first_name                  0\n",
       "last_name                   0\n",
       "reg_date                    0\n",
       "tariff                      0\n",
       "month                       0\n",
       "count_calls                 0\n",
       "sum_calls                   0\n",
       "mess                      496\n",
       "Unnamed: 0                  0\n",
       "age_y                       0\n",
       "index_y                     0\n",
       "mb_used                     0\n",
       "used_gb                     0\n",
       "messages_included           0\n",
       "mb_per_month_included       0\n",
       "minutes_included            0\n",
       "rub_monthly_fee             0\n",
       "rub_per_gb                  0\n",
       "rub_per_message             0\n",
       "rub_per_minute              0\n",
       "gb_per_month_included       0\n",
       "dtype: int64"
      ]
     },
     "execution_count": 48,
     "metadata": {},
     "output_type": "execute_result"
    }
   ],
   "source": [
    "# Пропуски по количеству гигабайтов удалю\n",
    "new_data=new_data.dropna(subset=['used_gb'])\n",
    "new_data.isna().sum()"
   ]
  },
  {
   "cell_type": "markdown",
   "metadata": {},
   "source": [
    "tariff_name — название тарифа\n",
    "rub_monthly_fee — ежемесячная абонентская плата в рублях\n",
    "minutes_included — количество минут разговора в месяц, включённых в абонентскую плату\n",
    "messages_included — количество сообщений в месяц, включённых в абонентскую плату\n",
    "mb_per_month_included — объём интернет-трафика, включённого в абонентскую плату (в мегабайтах)\n",
    "rub_per_minute — стоимость минуты разговора сверх тарифного пакета (например, если в тарифе 100 минут разговора в месяц, то со 101 минуты будет взиматься плата)\n",
    "rub_per_message — стоимость отправки сообщения сверх тарифного пакета\n",
    "rub_per_gb "
   ]
  },
  {
   "cell_type": "markdown",
   "metadata": {},
   "source": [
    "помесячную выручку с каждого пользователя (вычтите бесплатный лимит из суммарного количества звонков, сообщений и интернет-трафика; остаток умножьте на значение из тарифного плана; прибавьте абонентскую плату, соответствующую тарифному плану"
   ]
  },
  {
   "cell_type": "code",
   "execution_count": 49,
   "metadata": {},
   "outputs": [
    {
     "data": {
      "text/html": [
       "<div>\n",
       "<style scoped>\n",
       "    .dataframe tbody tr th:only-of-type {\n",
       "        vertical-align: middle;\n",
       "    }\n",
       "\n",
       "    .dataframe tbody tr th {\n",
       "        vertical-align: top;\n",
       "    }\n",
       "\n",
       "    .dataframe thead th {\n",
       "        text-align: right;\n",
       "    }\n",
       "</style>\n",
       "<table border=\"1\" class=\"dataframe\">\n",
       "  <thead>\n",
       "    <tr style=\"text-align: right;\">\n",
       "      <th></th>\n",
       "      <th>index_x</th>\n",
       "      <th>user_id</th>\n",
       "      <th>age_x</th>\n",
       "      <th>churn_date</th>\n",
       "      <th>city</th>\n",
       "      <th>first_name</th>\n",
       "      <th>last_name</th>\n",
       "      <th>reg_date</th>\n",
       "      <th>tariff</th>\n",
       "      <th>month</th>\n",
       "      <th>...</th>\n",
       "      <th>used_gb</th>\n",
       "      <th>messages_included</th>\n",
       "      <th>mb_per_month_included</th>\n",
       "      <th>minutes_included</th>\n",
       "      <th>rub_monthly_fee</th>\n",
       "      <th>rub_per_gb</th>\n",
       "      <th>rub_per_message</th>\n",
       "      <th>rub_per_minute</th>\n",
       "      <th>gb_per_month_included</th>\n",
       "      <th>revenue</th>\n",
       "    </tr>\n",
       "  </thead>\n",
       "  <tbody>\n",
       "    <tr>\n",
       "      <td>0</td>\n",
       "      <td>0</td>\n",
       "      <td>1000</td>\n",
       "      <td>52</td>\n",
       "      <td>NaN</td>\n",
       "      <td>Краснодар</td>\n",
       "      <td>Рафаил</td>\n",
       "      <td>Верещагин</td>\n",
       "      <td>2018-05-25</td>\n",
       "      <td>ultra</td>\n",
       "      <td>5.0</td>\n",
       "      <td>...</td>\n",
       "      <td>3.0</td>\n",
       "      <td>1000</td>\n",
       "      <td>30720</td>\n",
       "      <td>3000</td>\n",
       "      <td>1950</td>\n",
       "      <td>150</td>\n",
       "      <td>1</td>\n",
       "      <td>1</td>\n",
       "      <td>30</td>\n",
       "      <td>1950.0</td>\n",
       "    </tr>\n",
       "    <tr>\n",
       "      <td>1</td>\n",
       "      <td>1</td>\n",
       "      <td>1000</td>\n",
       "      <td>52</td>\n",
       "      <td>NaN</td>\n",
       "      <td>Краснодар</td>\n",
       "      <td>Рафаил</td>\n",
       "      <td>Верещагин</td>\n",
       "      <td>2018-05-25</td>\n",
       "      <td>ultra</td>\n",
       "      <td>6.0</td>\n",
       "      <td>...</td>\n",
       "      <td>23.0</td>\n",
       "      <td>1000</td>\n",
       "      <td>30720</td>\n",
       "      <td>3000</td>\n",
       "      <td>1950</td>\n",
       "      <td>150</td>\n",
       "      <td>1</td>\n",
       "      <td>1</td>\n",
       "      <td>30</td>\n",
       "      <td>1950.0</td>\n",
       "    </tr>\n",
       "    <tr>\n",
       "      <td>2</td>\n",
       "      <td>2</td>\n",
       "      <td>1000</td>\n",
       "      <td>52</td>\n",
       "      <td>NaN</td>\n",
       "      <td>Краснодар</td>\n",
       "      <td>Рафаил</td>\n",
       "      <td>Верещагин</td>\n",
       "      <td>2018-05-25</td>\n",
       "      <td>ultra</td>\n",
       "      <td>7.0</td>\n",
       "      <td>...</td>\n",
       "      <td>14.0</td>\n",
       "      <td>1000</td>\n",
       "      <td>30720</td>\n",
       "      <td>3000</td>\n",
       "      <td>1950</td>\n",
       "      <td>150</td>\n",
       "      <td>1</td>\n",
       "      <td>1</td>\n",
       "      <td>30</td>\n",
       "      <td>1950.0</td>\n",
       "    </tr>\n",
       "    <tr>\n",
       "      <td>3</td>\n",
       "      <td>3</td>\n",
       "      <td>1000</td>\n",
       "      <td>52</td>\n",
       "      <td>NaN</td>\n",
       "      <td>Краснодар</td>\n",
       "      <td>Рафаил</td>\n",
       "      <td>Верещагин</td>\n",
       "      <td>2018-05-25</td>\n",
       "      <td>ultra</td>\n",
       "      <td>8.0</td>\n",
       "      <td>...</td>\n",
       "      <td>14.0</td>\n",
       "      <td>1000</td>\n",
       "      <td>30720</td>\n",
       "      <td>3000</td>\n",
       "      <td>1950</td>\n",
       "      <td>150</td>\n",
       "      <td>1</td>\n",
       "      <td>1</td>\n",
       "      <td>30</td>\n",
       "      <td>1950.0</td>\n",
       "    </tr>\n",
       "    <tr>\n",
       "      <td>4</td>\n",
       "      <td>4</td>\n",
       "      <td>1000</td>\n",
       "      <td>52</td>\n",
       "      <td>NaN</td>\n",
       "      <td>Краснодар</td>\n",
       "      <td>Рафаил</td>\n",
       "      <td>Верещагин</td>\n",
       "      <td>2018-05-25</td>\n",
       "      <td>ultra</td>\n",
       "      <td>9.0</td>\n",
       "      <td>...</td>\n",
       "      <td>15.0</td>\n",
       "      <td>1000</td>\n",
       "      <td>30720</td>\n",
       "      <td>3000</td>\n",
       "      <td>1950</td>\n",
       "      <td>150</td>\n",
       "      <td>1</td>\n",
       "      <td>1</td>\n",
       "      <td>30</td>\n",
       "      <td>1950.0</td>\n",
       "    </tr>\n",
       "    <tr>\n",
       "      <td>5</td>\n",
       "      <td>5</td>\n",
       "      <td>1000</td>\n",
       "      <td>52</td>\n",
       "      <td>NaN</td>\n",
       "      <td>Краснодар</td>\n",
       "      <td>Рафаил</td>\n",
       "      <td>Верещагин</td>\n",
       "      <td>2018-05-25</td>\n",
       "      <td>ultra</td>\n",
       "      <td>10.0</td>\n",
       "      <td>...</td>\n",
       "      <td>15.0</td>\n",
       "      <td>1000</td>\n",
       "      <td>30720</td>\n",
       "      <td>3000</td>\n",
       "      <td>1950</td>\n",
       "      <td>150</td>\n",
       "      <td>1</td>\n",
       "      <td>1</td>\n",
       "      <td>30</td>\n",
       "      <td>1950.0</td>\n",
       "    </tr>\n",
       "    <tr>\n",
       "      <td>6</td>\n",
       "      <td>6</td>\n",
       "      <td>1000</td>\n",
       "      <td>52</td>\n",
       "      <td>NaN</td>\n",
       "      <td>Краснодар</td>\n",
       "      <td>Рафаил</td>\n",
       "      <td>Верещагин</td>\n",
       "      <td>2018-05-25</td>\n",
       "      <td>ultra</td>\n",
       "      <td>11.0</td>\n",
       "      <td>...</td>\n",
       "      <td>15.0</td>\n",
       "      <td>1000</td>\n",
       "      <td>30720</td>\n",
       "      <td>3000</td>\n",
       "      <td>1950</td>\n",
       "      <td>150</td>\n",
       "      <td>1</td>\n",
       "      <td>1</td>\n",
       "      <td>30</td>\n",
       "      <td>1950.0</td>\n",
       "    </tr>\n",
       "    <tr>\n",
       "      <td>7</td>\n",
       "      <td>7</td>\n",
       "      <td>1000</td>\n",
       "      <td>52</td>\n",
       "      <td>NaN</td>\n",
       "      <td>Краснодар</td>\n",
       "      <td>Рафаил</td>\n",
       "      <td>Верещагин</td>\n",
       "      <td>2018-05-25</td>\n",
       "      <td>ultra</td>\n",
       "      <td>12.0</td>\n",
       "      <td>...</td>\n",
       "      <td>10.0</td>\n",
       "      <td>1000</td>\n",
       "      <td>30720</td>\n",
       "      <td>3000</td>\n",
       "      <td>1950</td>\n",
       "      <td>150</td>\n",
       "      <td>1</td>\n",
       "      <td>1</td>\n",
       "      <td>30</td>\n",
       "      <td>1950.0</td>\n",
       "    </tr>\n",
       "    <tr>\n",
       "      <td>8</td>\n",
       "      <td>8</td>\n",
       "      <td>1001</td>\n",
       "      <td>41</td>\n",
       "      <td>NaN</td>\n",
       "      <td>Москва</td>\n",
       "      <td>Иван</td>\n",
       "      <td>Ежов</td>\n",
       "      <td>2018-11-01</td>\n",
       "      <td>smart</td>\n",
       "      <td>11.0</td>\n",
       "      <td>...</td>\n",
       "      <td>18.0</td>\n",
       "      <td>50</td>\n",
       "      <td>15360</td>\n",
       "      <td>500</td>\n",
       "      <td>550</td>\n",
       "      <td>200</td>\n",
       "      <td>3</td>\n",
       "      <td>3</td>\n",
       "      <td>15</td>\n",
       "      <td>1150.0</td>\n",
       "    </tr>\n",
       "    <tr>\n",
       "      <td>9</td>\n",
       "      <td>9</td>\n",
       "      <td>1001</td>\n",
       "      <td>41</td>\n",
       "      <td>NaN</td>\n",
       "      <td>Москва</td>\n",
       "      <td>Иван</td>\n",
       "      <td>Ежов</td>\n",
       "      <td>2018-11-01</td>\n",
       "      <td>smart</td>\n",
       "      <td>12.0</td>\n",
       "      <td>...</td>\n",
       "      <td>14.0</td>\n",
       "      <td>50</td>\n",
       "      <td>15360</td>\n",
       "      <td>500</td>\n",
       "      <td>550</td>\n",
       "      <td>200</td>\n",
       "      <td>3</td>\n",
       "      <td>3</td>\n",
       "      <td>15</td>\n",
       "      <td>550.0</td>\n",
       "    </tr>\n",
       "    <tr>\n",
       "      <td>10</td>\n",
       "      <td>10</td>\n",
       "      <td>1002</td>\n",
       "      <td>59</td>\n",
       "      <td>NaN</td>\n",
       "      <td>Стерлитамак</td>\n",
       "      <td>Евгений</td>\n",
       "      <td>Абрамович</td>\n",
       "      <td>2018-06-17</td>\n",
       "      <td>smart</td>\n",
       "      <td>6.0</td>\n",
       "      <td>...</td>\n",
       "      <td>11.0</td>\n",
       "      <td>50</td>\n",
       "      <td>15360</td>\n",
       "      <td>500</td>\n",
       "      <td>550</td>\n",
       "      <td>200</td>\n",
       "      <td>3</td>\n",
       "      <td>3</td>\n",
       "      <td>15</td>\n",
       "      <td>550.0</td>\n",
       "    </tr>\n",
       "    <tr>\n",
       "      <td>11</td>\n",
       "      <td>11</td>\n",
       "      <td>1002</td>\n",
       "      <td>59</td>\n",
       "      <td>NaN</td>\n",
       "      <td>Стерлитамак</td>\n",
       "      <td>Евгений</td>\n",
       "      <td>Абрамович</td>\n",
       "      <td>2018-06-17</td>\n",
       "      <td>smart</td>\n",
       "      <td>7.0</td>\n",
       "      <td>...</td>\n",
       "      <td>18.0</td>\n",
       "      <td>50</td>\n",
       "      <td>15360</td>\n",
       "      <td>500</td>\n",
       "      <td>550</td>\n",
       "      <td>200</td>\n",
       "      <td>3</td>\n",
       "      <td>3</td>\n",
       "      <td>15</td>\n",
       "      <td>1150.0</td>\n",
       "    </tr>\n",
       "    <tr>\n",
       "      <td>12</td>\n",
       "      <td>12</td>\n",
       "      <td>1002</td>\n",
       "      <td>59</td>\n",
       "      <td>NaN</td>\n",
       "      <td>Стерлитамак</td>\n",
       "      <td>Евгений</td>\n",
       "      <td>Абрамович</td>\n",
       "      <td>2018-06-17</td>\n",
       "      <td>smart</td>\n",
       "      <td>8.0</td>\n",
       "      <td>...</td>\n",
       "      <td>20.0</td>\n",
       "      <td>50</td>\n",
       "      <td>15360</td>\n",
       "      <td>500</td>\n",
       "      <td>550</td>\n",
       "      <td>200</td>\n",
       "      <td>3</td>\n",
       "      <td>3</td>\n",
       "      <td>15</td>\n",
       "      <td>1550.0</td>\n",
       "    </tr>\n",
       "    <tr>\n",
       "      <td>13</td>\n",
       "      <td>13</td>\n",
       "      <td>1002</td>\n",
       "      <td>59</td>\n",
       "      <td>NaN</td>\n",
       "      <td>Стерлитамак</td>\n",
       "      <td>Евгений</td>\n",
       "      <td>Абрамович</td>\n",
       "      <td>2018-06-17</td>\n",
       "      <td>smart</td>\n",
       "      <td>9.0</td>\n",
       "      <td>...</td>\n",
       "      <td>17.0</td>\n",
       "      <td>50</td>\n",
       "      <td>15360</td>\n",
       "      <td>500</td>\n",
       "      <td>550</td>\n",
       "      <td>200</td>\n",
       "      <td>3</td>\n",
       "      <td>3</td>\n",
       "      <td>15</td>\n",
       "      <td>950.0</td>\n",
       "    </tr>\n",
       "    <tr>\n",
       "      <td>14</td>\n",
       "      <td>14</td>\n",
       "      <td>1002</td>\n",
       "      <td>59</td>\n",
       "      <td>NaN</td>\n",
       "      <td>Стерлитамак</td>\n",
       "      <td>Евгений</td>\n",
       "      <td>Абрамович</td>\n",
       "      <td>2018-06-17</td>\n",
       "      <td>smart</td>\n",
       "      <td>10.0</td>\n",
       "      <td>...</td>\n",
       "      <td>14.0</td>\n",
       "      <td>50</td>\n",
       "      <td>15360</td>\n",
       "      <td>500</td>\n",
       "      <td>550</td>\n",
       "      <td>200</td>\n",
       "      <td>3</td>\n",
       "      <td>3</td>\n",
       "      <td>15</td>\n",
       "      <td>550.0</td>\n",
       "    </tr>\n",
       "    <tr>\n",
       "      <td>15</td>\n",
       "      <td>15</td>\n",
       "      <td>1002</td>\n",
       "      <td>59</td>\n",
       "      <td>NaN</td>\n",
       "      <td>Стерлитамак</td>\n",
       "      <td>Евгений</td>\n",
       "      <td>Абрамович</td>\n",
       "      <td>2018-06-17</td>\n",
       "      <td>smart</td>\n",
       "      <td>11.0</td>\n",
       "      <td>...</td>\n",
       "      <td>19.0</td>\n",
       "      <td>50</td>\n",
       "      <td>15360</td>\n",
       "      <td>500</td>\n",
       "      <td>550</td>\n",
       "      <td>200</td>\n",
       "      <td>3</td>\n",
       "      <td>3</td>\n",
       "      <td>15</td>\n",
       "      <td>1350.0</td>\n",
       "    </tr>\n",
       "    <tr>\n",
       "      <td>16</td>\n",
       "      <td>16</td>\n",
       "      <td>1002</td>\n",
       "      <td>59</td>\n",
       "      <td>NaN</td>\n",
       "      <td>Стерлитамак</td>\n",
       "      <td>Евгений</td>\n",
       "      <td>Абрамович</td>\n",
       "      <td>2018-06-17</td>\n",
       "      <td>smart</td>\n",
       "      <td>12.0</td>\n",
       "      <td>...</td>\n",
       "      <td>18.0</td>\n",
       "      <td>50</td>\n",
       "      <td>15360</td>\n",
       "      <td>500</td>\n",
       "      <td>550</td>\n",
       "      <td>200</td>\n",
       "      <td>3</td>\n",
       "      <td>3</td>\n",
       "      <td>15</td>\n",
       "      <td>1150.0</td>\n",
       "    </tr>\n",
       "    <tr>\n",
       "      <td>17</td>\n",
       "      <td>17</td>\n",
       "      <td>1003</td>\n",
       "      <td>23</td>\n",
       "      <td>NaN</td>\n",
       "      <td>Москва</td>\n",
       "      <td>Белла</td>\n",
       "      <td>Белякова</td>\n",
       "      <td>2018-08-17</td>\n",
       "      <td>ultra</td>\n",
       "      <td>8.0</td>\n",
       "      <td>...</td>\n",
       "      <td>9.0</td>\n",
       "      <td>1000</td>\n",
       "      <td>30720</td>\n",
       "      <td>3000</td>\n",
       "      <td>1950</td>\n",
       "      <td>150</td>\n",
       "      <td>1</td>\n",
       "      <td>1</td>\n",
       "      <td>30</td>\n",
       "      <td>1950.0</td>\n",
       "    </tr>\n",
       "    <tr>\n",
       "      <td>18</td>\n",
       "      <td>18</td>\n",
       "      <td>1003</td>\n",
       "      <td>23</td>\n",
       "      <td>NaN</td>\n",
       "      <td>Москва</td>\n",
       "      <td>Белла</td>\n",
       "      <td>Белякова</td>\n",
       "      <td>2018-08-17</td>\n",
       "      <td>ultra</td>\n",
       "      <td>9.0</td>\n",
       "      <td>...</td>\n",
       "      <td>13.0</td>\n",
       "      <td>1000</td>\n",
       "      <td>30720</td>\n",
       "      <td>3000</td>\n",
       "      <td>1950</td>\n",
       "      <td>150</td>\n",
       "      <td>1</td>\n",
       "      <td>1</td>\n",
       "      <td>30</td>\n",
       "      <td>1950.0</td>\n",
       "    </tr>\n",
       "    <tr>\n",
       "      <td>19</td>\n",
       "      <td>19</td>\n",
       "      <td>1003</td>\n",
       "      <td>23</td>\n",
       "      <td>NaN</td>\n",
       "      <td>Москва</td>\n",
       "      <td>Белла</td>\n",
       "      <td>Белякова</td>\n",
       "      <td>2018-08-17</td>\n",
       "      <td>ultra</td>\n",
       "      <td>10.0</td>\n",
       "      <td>...</td>\n",
       "      <td>15.0</td>\n",
       "      <td>1000</td>\n",
       "      <td>30720</td>\n",
       "      <td>3000</td>\n",
       "      <td>1950</td>\n",
       "      <td>150</td>\n",
       "      <td>1</td>\n",
       "      <td>1</td>\n",
       "      <td>30</td>\n",
       "      <td>1950.0</td>\n",
       "    </tr>\n",
       "    <tr>\n",
       "      <td>20</td>\n",
       "      <td>20</td>\n",
       "      <td>1003</td>\n",
       "      <td>23</td>\n",
       "      <td>NaN</td>\n",
       "      <td>Москва</td>\n",
       "      <td>Белла</td>\n",
       "      <td>Белякова</td>\n",
       "      <td>2018-08-17</td>\n",
       "      <td>ultra</td>\n",
       "      <td>11.0</td>\n",
       "      <td>...</td>\n",
       "      <td>12.0</td>\n",
       "      <td>1000</td>\n",
       "      <td>30720</td>\n",
       "      <td>3000</td>\n",
       "      <td>1950</td>\n",
       "      <td>150</td>\n",
       "      <td>1</td>\n",
       "      <td>1</td>\n",
       "      <td>30</td>\n",
       "      <td>1950.0</td>\n",
       "    </tr>\n",
       "    <tr>\n",
       "      <td>21</td>\n",
       "      <td>21</td>\n",
       "      <td>1003</td>\n",
       "      <td>23</td>\n",
       "      <td>NaN</td>\n",
       "      <td>Москва</td>\n",
       "      <td>Белла</td>\n",
       "      <td>Белякова</td>\n",
       "      <td>2018-08-17</td>\n",
       "      <td>ultra</td>\n",
       "      <td>12.0</td>\n",
       "      <td>...</td>\n",
       "      <td>10.0</td>\n",
       "      <td>1000</td>\n",
       "      <td>30720</td>\n",
       "      <td>3000</td>\n",
       "      <td>1950</td>\n",
       "      <td>150</td>\n",
       "      <td>1</td>\n",
       "      <td>1</td>\n",
       "      <td>30</td>\n",
       "      <td>1950.0</td>\n",
       "    </tr>\n",
       "    <tr>\n",
       "      <td>22</td>\n",
       "      <td>22</td>\n",
       "      <td>1004</td>\n",
       "      <td>68</td>\n",
       "      <td>NaN</td>\n",
       "      <td>Новокузнецк</td>\n",
       "      <td>Татьяна</td>\n",
       "      <td>Авдеенко</td>\n",
       "      <td>2018-05-14</td>\n",
       "      <td>ultra</td>\n",
       "      <td>5.0</td>\n",
       "      <td>...</td>\n",
       "      <td>14.0</td>\n",
       "      <td>1000</td>\n",
       "      <td>30720</td>\n",
       "      <td>3000</td>\n",
       "      <td>1950</td>\n",
       "      <td>150</td>\n",
       "      <td>1</td>\n",
       "      <td>1</td>\n",
       "      <td>30</td>\n",
       "      <td>1950.0</td>\n",
       "    </tr>\n",
       "    <tr>\n",
       "      <td>23</td>\n",
       "      <td>23</td>\n",
       "      <td>1004</td>\n",
       "      <td>68</td>\n",
       "      <td>NaN</td>\n",
       "      <td>Новокузнецк</td>\n",
       "      <td>Татьяна</td>\n",
       "      <td>Авдеенко</td>\n",
       "      <td>2018-05-14</td>\n",
       "      <td>ultra</td>\n",
       "      <td>6.0</td>\n",
       "      <td>...</td>\n",
       "      <td>18.0</td>\n",
       "      <td>1000</td>\n",
       "      <td>30720</td>\n",
       "      <td>3000</td>\n",
       "      <td>1950</td>\n",
       "      <td>150</td>\n",
       "      <td>1</td>\n",
       "      <td>1</td>\n",
       "      <td>30</td>\n",
       "      <td>1950.0</td>\n",
       "    </tr>\n",
       "    <tr>\n",
       "      <td>24</td>\n",
       "      <td>24</td>\n",
       "      <td>1004</td>\n",
       "      <td>68</td>\n",
       "      <td>NaN</td>\n",
       "      <td>Новокузнецк</td>\n",
       "      <td>Татьяна</td>\n",
       "      <td>Авдеенко</td>\n",
       "      <td>2018-05-14</td>\n",
       "      <td>ultra</td>\n",
       "      <td>7.0</td>\n",
       "      <td>...</td>\n",
       "      <td>22.0</td>\n",
       "      <td>1000</td>\n",
       "      <td>30720</td>\n",
       "      <td>3000</td>\n",
       "      <td>1950</td>\n",
       "      <td>150</td>\n",
       "      <td>1</td>\n",
       "      <td>1</td>\n",
       "      <td>30</td>\n",
       "      <td>1950.0</td>\n",
       "    </tr>\n",
       "    <tr>\n",
       "      <td>25</td>\n",
       "      <td>25</td>\n",
       "      <td>1004</td>\n",
       "      <td>68</td>\n",
       "      <td>NaN</td>\n",
       "      <td>Новокузнецк</td>\n",
       "      <td>Татьяна</td>\n",
       "      <td>Авдеенко</td>\n",
       "      <td>2018-05-14</td>\n",
       "      <td>ultra</td>\n",
       "      <td>8.0</td>\n",
       "      <td>...</td>\n",
       "      <td>28.0</td>\n",
       "      <td>1000</td>\n",
       "      <td>30720</td>\n",
       "      <td>3000</td>\n",
       "      <td>1950</td>\n",
       "      <td>150</td>\n",
       "      <td>1</td>\n",
       "      <td>1</td>\n",
       "      <td>30</td>\n",
       "      <td>1950.0</td>\n",
       "    </tr>\n",
       "    <tr>\n",
       "      <td>26</td>\n",
       "      <td>26</td>\n",
       "      <td>1004</td>\n",
       "      <td>68</td>\n",
       "      <td>NaN</td>\n",
       "      <td>Новокузнецк</td>\n",
       "      <td>Татьяна</td>\n",
       "      <td>Авдеенко</td>\n",
       "      <td>2018-05-14</td>\n",
       "      <td>ultra</td>\n",
       "      <td>9.0</td>\n",
       "      <td>...</td>\n",
       "      <td>15.0</td>\n",
       "      <td>1000</td>\n",
       "      <td>30720</td>\n",
       "      <td>3000</td>\n",
       "      <td>1950</td>\n",
       "      <td>150</td>\n",
       "      <td>1</td>\n",
       "      <td>1</td>\n",
       "      <td>30</td>\n",
       "      <td>1950.0</td>\n",
       "    </tr>\n",
       "    <tr>\n",
       "      <td>27</td>\n",
       "      <td>27</td>\n",
       "      <td>1004</td>\n",
       "      <td>68</td>\n",
       "      <td>NaN</td>\n",
       "      <td>Новокузнецк</td>\n",
       "      <td>Татьяна</td>\n",
       "      <td>Авдеенко</td>\n",
       "      <td>2018-05-14</td>\n",
       "      <td>ultra</td>\n",
       "      <td>10.0</td>\n",
       "      <td>...</td>\n",
       "      <td>19.0</td>\n",
       "      <td>1000</td>\n",
       "      <td>30720</td>\n",
       "      <td>3000</td>\n",
       "      <td>1950</td>\n",
       "      <td>150</td>\n",
       "      <td>1</td>\n",
       "      <td>1</td>\n",
       "      <td>30</td>\n",
       "      <td>1950.0</td>\n",
       "    </tr>\n",
       "    <tr>\n",
       "      <td>28</td>\n",
       "      <td>28</td>\n",
       "      <td>1004</td>\n",
       "      <td>68</td>\n",
       "      <td>NaN</td>\n",
       "      <td>Новокузнецк</td>\n",
       "      <td>Татьяна</td>\n",
       "      <td>Авдеенко</td>\n",
       "      <td>2018-05-14</td>\n",
       "      <td>ultra</td>\n",
       "      <td>11.0</td>\n",
       "      <td>...</td>\n",
       "      <td>16.0</td>\n",
       "      <td>1000</td>\n",
       "      <td>30720</td>\n",
       "      <td>3000</td>\n",
       "      <td>1950</td>\n",
       "      <td>150</td>\n",
       "      <td>1</td>\n",
       "      <td>1</td>\n",
       "      <td>30</td>\n",
       "      <td>1950.0</td>\n",
       "    </tr>\n",
       "    <tr>\n",
       "      <td>29</td>\n",
       "      <td>29</td>\n",
       "      <td>1004</td>\n",
       "      <td>68</td>\n",
       "      <td>NaN</td>\n",
       "      <td>Новокузнецк</td>\n",
       "      <td>Татьяна</td>\n",
       "      <td>Авдеенко</td>\n",
       "      <td>2018-05-14</td>\n",
       "      <td>ultra</td>\n",
       "      <td>12.0</td>\n",
       "      <td>...</td>\n",
       "      <td>18.0</td>\n",
       "      <td>1000</td>\n",
       "      <td>30720</td>\n",
       "      <td>3000</td>\n",
       "      <td>1950</td>\n",
       "      <td>150</td>\n",
       "      <td>1</td>\n",
       "      <td>1</td>\n",
       "      <td>30</td>\n",
       "      <td>1950.0</td>\n",
       "    </tr>\n",
       "    <tr>\n",
       "      <td>30</td>\n",
       "      <td>30</td>\n",
       "      <td>1005</td>\n",
       "      <td>67</td>\n",
       "      <td>NaN</td>\n",
       "      <td>Набережные Челны</td>\n",
       "      <td>Афанасий</td>\n",
       "      <td>Горлов</td>\n",
       "      <td>2018-01-25</td>\n",
       "      <td>smart</td>\n",
       "      <td>1.0</td>\n",
       "      <td>...</td>\n",
       "      <td>3.0</td>\n",
       "      <td>50</td>\n",
       "      <td>15360</td>\n",
       "      <td>500</td>\n",
       "      <td>550</td>\n",
       "      <td>200</td>\n",
       "      <td>3</td>\n",
       "      <td>3</td>\n",
       "      <td>15</td>\n",
       "      <td>550.0</td>\n",
       "    </tr>\n",
       "    <tr>\n",
       "      <td>31</td>\n",
       "      <td>31</td>\n",
       "      <td>1005</td>\n",
       "      <td>67</td>\n",
       "      <td>NaN</td>\n",
       "      <td>Набережные Челны</td>\n",
       "      <td>Афанасий</td>\n",
       "      <td>Горлов</td>\n",
       "      <td>2018-01-25</td>\n",
       "      <td>smart</td>\n",
       "      <td>2.0</td>\n",
       "      <td>...</td>\n",
       "      <td>8.0</td>\n",
       "      <td>50</td>\n",
       "      <td>15360</td>\n",
       "      <td>500</td>\n",
       "      <td>550</td>\n",
       "      <td>200</td>\n",
       "      <td>3</td>\n",
       "      <td>3</td>\n",
       "      <td>15</td>\n",
       "      <td>550.0</td>\n",
       "    </tr>\n",
       "    <tr>\n",
       "      <td>32</td>\n",
       "      <td>32</td>\n",
       "      <td>1005</td>\n",
       "      <td>67</td>\n",
       "      <td>NaN</td>\n",
       "      <td>Набережные Челны</td>\n",
       "      <td>Афанасий</td>\n",
       "      <td>Горлов</td>\n",
       "      <td>2018-01-25</td>\n",
       "      <td>smart</td>\n",
       "      <td>3.0</td>\n",
       "      <td>...</td>\n",
       "      <td>11.0</td>\n",
       "      <td>50</td>\n",
       "      <td>15360</td>\n",
       "      <td>500</td>\n",
       "      <td>550</td>\n",
       "      <td>200</td>\n",
       "      <td>3</td>\n",
       "      <td>3</td>\n",
       "      <td>15</td>\n",
       "      <td>886.0</td>\n",
       "    </tr>\n",
       "    <tr>\n",
       "      <td>33</td>\n",
       "      <td>33</td>\n",
       "      <td>1005</td>\n",
       "      <td>67</td>\n",
       "      <td>NaN</td>\n",
       "      <td>Набережные Челны</td>\n",
       "      <td>Афанасий</td>\n",
       "      <td>Горлов</td>\n",
       "      <td>2018-01-25</td>\n",
       "      <td>smart</td>\n",
       "      <td>4.0</td>\n",
       "      <td>...</td>\n",
       "      <td>10.0</td>\n",
       "      <td>50</td>\n",
       "      <td>15360</td>\n",
       "      <td>500</td>\n",
       "      <td>550</td>\n",
       "      <td>200</td>\n",
       "      <td>3</td>\n",
       "      <td>3</td>\n",
       "      <td>15</td>\n",
       "      <td>1186.0</td>\n",
       "    </tr>\n",
       "    <tr>\n",
       "      <td>34</td>\n",
       "      <td>34</td>\n",
       "      <td>1005</td>\n",
       "      <td>67</td>\n",
       "      <td>NaN</td>\n",
       "      <td>Набережные Челны</td>\n",
       "      <td>Афанасий</td>\n",
       "      <td>Горлов</td>\n",
       "      <td>2018-01-25</td>\n",
       "      <td>smart</td>\n",
       "      <td>5.0</td>\n",
       "      <td>...</td>\n",
       "      <td>8.0</td>\n",
       "      <td>50</td>\n",
       "      <td>15360</td>\n",
       "      <td>500</td>\n",
       "      <td>550</td>\n",
       "      <td>200</td>\n",
       "      <td>3</td>\n",
       "      <td>3</td>\n",
       "      <td>15</td>\n",
       "      <td>835.0</td>\n",
       "    </tr>\n",
       "    <tr>\n",
       "      <td>35</td>\n",
       "      <td>35</td>\n",
       "      <td>1005</td>\n",
       "      <td>67</td>\n",
       "      <td>NaN</td>\n",
       "      <td>Набережные Челны</td>\n",
       "      <td>Афанасий</td>\n",
       "      <td>Горлов</td>\n",
       "      <td>2018-01-25</td>\n",
       "      <td>smart</td>\n",
       "      <td>6.0</td>\n",
       "      <td>...</td>\n",
       "      <td>10.0</td>\n",
       "      <td>50</td>\n",
       "      <td>15360</td>\n",
       "      <td>500</td>\n",
       "      <td>550</td>\n",
       "      <td>200</td>\n",
       "      <td>3</td>\n",
       "      <td>3</td>\n",
       "      <td>15</td>\n",
       "      <td>886.0</td>\n",
       "    </tr>\n",
       "    <tr>\n",
       "      <td>36</td>\n",
       "      <td>36</td>\n",
       "      <td>1005</td>\n",
       "      <td>67</td>\n",
       "      <td>NaN</td>\n",
       "      <td>Набережные Челны</td>\n",
       "      <td>Афанасий</td>\n",
       "      <td>Горлов</td>\n",
       "      <td>2018-01-25</td>\n",
       "      <td>smart</td>\n",
       "      <td>7.0</td>\n",
       "      <td>...</td>\n",
       "      <td>8.0</td>\n",
       "      <td>50</td>\n",
       "      <td>15360</td>\n",
       "      <td>500</td>\n",
       "      <td>550</td>\n",
       "      <td>200</td>\n",
       "      <td>3</td>\n",
       "      <td>3</td>\n",
       "      <td>15</td>\n",
       "      <td>775.0</td>\n",
       "    </tr>\n",
       "    <tr>\n",
       "      <td>37</td>\n",
       "      <td>37</td>\n",
       "      <td>1005</td>\n",
       "      <td>67</td>\n",
       "      <td>NaN</td>\n",
       "      <td>Набережные Челны</td>\n",
       "      <td>Афанасий</td>\n",
       "      <td>Горлов</td>\n",
       "      <td>2018-01-25</td>\n",
       "      <td>smart</td>\n",
       "      <td>8.0</td>\n",
       "      <td>...</td>\n",
       "      <td>8.0</td>\n",
       "      <td>50</td>\n",
       "      <td>15360</td>\n",
       "      <td>500</td>\n",
       "      <td>550</td>\n",
       "      <td>200</td>\n",
       "      <td>3</td>\n",
       "      <td>3</td>\n",
       "      <td>15</td>\n",
       "      <td>949.0</td>\n",
       "    </tr>\n",
       "    <tr>\n",
       "      <td>38</td>\n",
       "      <td>38</td>\n",
       "      <td>1005</td>\n",
       "      <td>67</td>\n",
       "      <td>NaN</td>\n",
       "      <td>Набережные Челны</td>\n",
       "      <td>Афанасий</td>\n",
       "      <td>Горлов</td>\n",
       "      <td>2018-01-25</td>\n",
       "      <td>smart</td>\n",
       "      <td>9.0</td>\n",
       "      <td>...</td>\n",
       "      <td>7.0</td>\n",
       "      <td>50</td>\n",
       "      <td>15360</td>\n",
       "      <td>500</td>\n",
       "      <td>550</td>\n",
       "      <td>200</td>\n",
       "      <td>3</td>\n",
       "      <td>3</td>\n",
       "      <td>15</td>\n",
       "      <td>556.0</td>\n",
       "    </tr>\n",
       "    <tr>\n",
       "      <td>39</td>\n",
       "      <td>39</td>\n",
       "      <td>1005</td>\n",
       "      <td>67</td>\n",
       "      <td>NaN</td>\n",
       "      <td>Набережные Челны</td>\n",
       "      <td>Афанасий</td>\n",
       "      <td>Горлов</td>\n",
       "      <td>2018-01-25</td>\n",
       "      <td>smart</td>\n",
       "      <td>10.0</td>\n",
       "      <td>...</td>\n",
       "      <td>8.0</td>\n",
       "      <td>50</td>\n",
       "      <td>15360</td>\n",
       "      <td>500</td>\n",
       "      <td>550</td>\n",
       "      <td>200</td>\n",
       "      <td>3</td>\n",
       "      <td>3</td>\n",
       "      <td>15</td>\n",
       "      <td>1219.0</td>\n",
       "    </tr>\n",
       "  </tbody>\n",
       "</table>\n",
       "<p>40 rows × 27 columns</p>\n",
       "</div>"
      ],
      "text/plain": [
       "    index_x  user_id  age_x churn_date              city first_name  \\\n",
       "0         0     1000     52        NaN         Краснодар     Рафаил   \n",
       "1         1     1000     52        NaN         Краснодар     Рафаил   \n",
       "2         2     1000     52        NaN         Краснодар     Рафаил   \n",
       "3         3     1000     52        NaN         Краснодар     Рафаил   \n",
       "4         4     1000     52        NaN         Краснодар     Рафаил   \n",
       "5         5     1000     52        NaN         Краснодар     Рафаил   \n",
       "6         6     1000     52        NaN         Краснодар     Рафаил   \n",
       "7         7     1000     52        NaN         Краснодар     Рафаил   \n",
       "8         8     1001     41        NaN            Москва       Иван   \n",
       "9         9     1001     41        NaN            Москва       Иван   \n",
       "10       10     1002     59        NaN       Стерлитамак    Евгений   \n",
       "11       11     1002     59        NaN       Стерлитамак    Евгений   \n",
       "12       12     1002     59        NaN       Стерлитамак    Евгений   \n",
       "13       13     1002     59        NaN       Стерлитамак    Евгений   \n",
       "14       14     1002     59        NaN       Стерлитамак    Евгений   \n",
       "15       15     1002     59        NaN       Стерлитамак    Евгений   \n",
       "16       16     1002     59        NaN       Стерлитамак    Евгений   \n",
       "17       17     1003     23        NaN            Москва      Белла   \n",
       "18       18     1003     23        NaN            Москва      Белла   \n",
       "19       19     1003     23        NaN            Москва      Белла   \n",
       "20       20     1003     23        NaN            Москва      Белла   \n",
       "21       21     1003     23        NaN            Москва      Белла   \n",
       "22       22     1004     68        NaN       Новокузнецк    Татьяна   \n",
       "23       23     1004     68        NaN       Новокузнецк    Татьяна   \n",
       "24       24     1004     68        NaN       Новокузнецк    Татьяна   \n",
       "25       25     1004     68        NaN       Новокузнецк    Татьяна   \n",
       "26       26     1004     68        NaN       Новокузнецк    Татьяна   \n",
       "27       27     1004     68        NaN       Новокузнецк    Татьяна   \n",
       "28       28     1004     68        NaN       Новокузнецк    Татьяна   \n",
       "29       29     1004     68        NaN       Новокузнецк    Татьяна   \n",
       "30       30     1005     67        NaN  Набережные Челны   Афанасий   \n",
       "31       31     1005     67        NaN  Набережные Челны   Афанасий   \n",
       "32       32     1005     67        NaN  Набережные Челны   Афанасий   \n",
       "33       33     1005     67        NaN  Набережные Челны   Афанасий   \n",
       "34       34     1005     67        NaN  Набережные Челны   Афанасий   \n",
       "35       35     1005     67        NaN  Набережные Челны   Афанасий   \n",
       "36       36     1005     67        NaN  Набережные Челны   Афанасий   \n",
       "37       37     1005     67        NaN  Набережные Челны   Афанасий   \n",
       "38       38     1005     67        NaN  Набережные Челны   Афанасий   \n",
       "39       39     1005     67        NaN  Набережные Челны   Афанасий   \n",
       "\n",
       "    last_name    reg_date tariff  month  ...  used_gb  messages_included  \\\n",
       "0   Верещагин  2018-05-25  ultra    5.0  ...      3.0               1000   \n",
       "1   Верещагин  2018-05-25  ultra    6.0  ...     23.0               1000   \n",
       "2   Верещагин  2018-05-25  ultra    7.0  ...     14.0               1000   \n",
       "3   Верещагин  2018-05-25  ultra    8.0  ...     14.0               1000   \n",
       "4   Верещагин  2018-05-25  ultra    9.0  ...     15.0               1000   \n",
       "5   Верещагин  2018-05-25  ultra   10.0  ...     15.0               1000   \n",
       "6   Верещагин  2018-05-25  ultra   11.0  ...     15.0               1000   \n",
       "7   Верещагин  2018-05-25  ultra   12.0  ...     10.0               1000   \n",
       "8        Ежов  2018-11-01  smart   11.0  ...     18.0                 50   \n",
       "9        Ежов  2018-11-01  smart   12.0  ...     14.0                 50   \n",
       "10  Абрамович  2018-06-17  smart    6.0  ...     11.0                 50   \n",
       "11  Абрамович  2018-06-17  smart    7.0  ...     18.0                 50   \n",
       "12  Абрамович  2018-06-17  smart    8.0  ...     20.0                 50   \n",
       "13  Абрамович  2018-06-17  smart    9.0  ...     17.0                 50   \n",
       "14  Абрамович  2018-06-17  smart   10.0  ...     14.0                 50   \n",
       "15  Абрамович  2018-06-17  smart   11.0  ...     19.0                 50   \n",
       "16  Абрамович  2018-06-17  smart   12.0  ...     18.0                 50   \n",
       "17   Белякова  2018-08-17  ultra    8.0  ...      9.0               1000   \n",
       "18   Белякова  2018-08-17  ultra    9.0  ...     13.0               1000   \n",
       "19   Белякова  2018-08-17  ultra   10.0  ...     15.0               1000   \n",
       "20   Белякова  2018-08-17  ultra   11.0  ...     12.0               1000   \n",
       "21   Белякова  2018-08-17  ultra   12.0  ...     10.0               1000   \n",
       "22   Авдеенко  2018-05-14  ultra    5.0  ...     14.0               1000   \n",
       "23   Авдеенко  2018-05-14  ultra    6.0  ...     18.0               1000   \n",
       "24   Авдеенко  2018-05-14  ultra    7.0  ...     22.0               1000   \n",
       "25   Авдеенко  2018-05-14  ultra    8.0  ...     28.0               1000   \n",
       "26   Авдеенко  2018-05-14  ultra    9.0  ...     15.0               1000   \n",
       "27   Авдеенко  2018-05-14  ultra   10.0  ...     19.0               1000   \n",
       "28   Авдеенко  2018-05-14  ultra   11.0  ...     16.0               1000   \n",
       "29   Авдеенко  2018-05-14  ultra   12.0  ...     18.0               1000   \n",
       "30     Горлов  2018-01-25  smart    1.0  ...      3.0                 50   \n",
       "31     Горлов  2018-01-25  smart    2.0  ...      8.0                 50   \n",
       "32     Горлов  2018-01-25  smart    3.0  ...     11.0                 50   \n",
       "33     Горлов  2018-01-25  smart    4.0  ...     10.0                 50   \n",
       "34     Горлов  2018-01-25  smart    5.0  ...      8.0                 50   \n",
       "35     Горлов  2018-01-25  smart    6.0  ...     10.0                 50   \n",
       "36     Горлов  2018-01-25  smart    7.0  ...      8.0                 50   \n",
       "37     Горлов  2018-01-25  smart    8.0  ...      8.0                 50   \n",
       "38     Горлов  2018-01-25  smart    9.0  ...      7.0                 50   \n",
       "39     Горлов  2018-01-25  smart   10.0  ...      8.0                 50   \n",
       "\n",
       "    mb_per_month_included  minutes_included  rub_monthly_fee  rub_per_gb  \\\n",
       "0                   30720              3000             1950         150   \n",
       "1                   30720              3000             1950         150   \n",
       "2                   30720              3000             1950         150   \n",
       "3                   30720              3000             1950         150   \n",
       "4                   30720              3000             1950         150   \n",
       "5                   30720              3000             1950         150   \n",
       "6                   30720              3000             1950         150   \n",
       "7                   30720              3000             1950         150   \n",
       "8                   15360               500              550         200   \n",
       "9                   15360               500              550         200   \n",
       "10                  15360               500              550         200   \n",
       "11                  15360               500              550         200   \n",
       "12                  15360               500              550         200   \n",
       "13                  15360               500              550         200   \n",
       "14                  15360               500              550         200   \n",
       "15                  15360               500              550         200   \n",
       "16                  15360               500              550         200   \n",
       "17                  30720              3000             1950         150   \n",
       "18                  30720              3000             1950         150   \n",
       "19                  30720              3000             1950         150   \n",
       "20                  30720              3000             1950         150   \n",
       "21                  30720              3000             1950         150   \n",
       "22                  30720              3000             1950         150   \n",
       "23                  30720              3000             1950         150   \n",
       "24                  30720              3000             1950         150   \n",
       "25                  30720              3000             1950         150   \n",
       "26                  30720              3000             1950         150   \n",
       "27                  30720              3000             1950         150   \n",
       "28                  30720              3000             1950         150   \n",
       "29                  30720              3000             1950         150   \n",
       "30                  15360               500              550         200   \n",
       "31                  15360               500              550         200   \n",
       "32                  15360               500              550         200   \n",
       "33                  15360               500              550         200   \n",
       "34                  15360               500              550         200   \n",
       "35                  15360               500              550         200   \n",
       "36                  15360               500              550         200   \n",
       "37                  15360               500              550         200   \n",
       "38                  15360               500              550         200   \n",
       "39                  15360               500              550         200   \n",
       "\n",
       "    rub_per_message  rub_per_minute  gb_per_month_included  revenue  \n",
       "0                 1               1                     30   1950.0  \n",
       "1                 1               1                     30   1950.0  \n",
       "2                 1               1                     30   1950.0  \n",
       "3                 1               1                     30   1950.0  \n",
       "4                 1               1                     30   1950.0  \n",
       "5                 1               1                     30   1950.0  \n",
       "6                 1               1                     30   1950.0  \n",
       "7                 1               1                     30   1950.0  \n",
       "8                 3               3                     15   1150.0  \n",
       "9                 3               3                     15    550.0  \n",
       "10                3               3                     15    550.0  \n",
       "11                3               3                     15   1150.0  \n",
       "12                3               3                     15   1550.0  \n",
       "13                3               3                     15    950.0  \n",
       "14                3               3                     15    550.0  \n",
       "15                3               3                     15   1350.0  \n",
       "16                3               3                     15   1150.0  \n",
       "17                1               1                     30   1950.0  \n",
       "18                1               1                     30   1950.0  \n",
       "19                1               1                     30   1950.0  \n",
       "20                1               1                     30   1950.0  \n",
       "21                1               1                     30   1950.0  \n",
       "22                1               1                     30   1950.0  \n",
       "23                1               1                     30   1950.0  \n",
       "24                1               1                     30   1950.0  \n",
       "25                1               1                     30   1950.0  \n",
       "26                1               1                     30   1950.0  \n",
       "27                1               1                     30   1950.0  \n",
       "28                1               1                     30   1950.0  \n",
       "29                1               1                     30   1950.0  \n",
       "30                3               3                     15    550.0  \n",
       "31                3               3                     15    550.0  \n",
       "32                3               3                     15    886.0  \n",
       "33                3               3                     15   1186.0  \n",
       "34                3               3                     15    835.0  \n",
       "35                3               3                     15    886.0  \n",
       "36                3               3                     15    775.0  \n",
       "37                3               3                     15    949.0  \n",
       "38                3               3                     15    556.0  \n",
       "39                3               3                     15   1219.0  \n",
       "\n",
       "[40 rows x 27 columns]"
      ]
     },
     "execution_count": 49,
     "metadata": {},
     "output_type": "execute_result"
    }
   ],
   "source": [
    "# Функция для подсчёта выручки с каждого пользователя по месяцам (но в её правильности не уверена)\n",
    "def revenue (row):\n",
    "        \n",
    "    if row['tariff']=='ultra':\n",
    "        if row['sum_calls']>row['minutes_included']:\n",
    "            c=(row['sum_calls']-row['minutes_included'])*row['rub_per_minute']\n",
    "        else:\n",
    "            c=0\n",
    "        if row['mess']>row['messages_included']:\n",
    "            m=(row['mess']-row['messages_included'])*row['rub_per_message']\n",
    "        else:\n",
    "            m=0\n",
    "        if row['mb_used']>row['mb_per_month_included']:\n",
    "            g=(row['used_gb']-row['gb_per_month_included'])*row['rub_per_gb']\n",
    "        else:\n",
    "            g=0\n",
    "        return c+m+g+row['rub_monthly_fee']\n",
    "        \n",
    "    if row['tariff']=='smart':\n",
    "        if row['sum_calls']>row['minutes_included']:\n",
    "            c1=(row['sum_calls']-row['minutes_included'])*row['rub_per_minute']\n",
    "        else:\n",
    "            c1=0\n",
    "        if row['mess']>row['messages_included']:\n",
    "            m1=(row['mess']-row['messages_included'])*row['rub_per_message']\n",
    "        else:\n",
    "            m1=0\n",
    "        if row['mb_used']>row['mb_per_month_included']:\n",
    "            g1=(row['used_gb']-row['gb_per_month_included'])*row['rub_per_gb']\n",
    "        else:\n",
    "            g1=0\n",
    "        return c1+m1+g1+row['rub_monthly_fee']\n",
    "    \n",
    "new_data['revenue']=new_data.apply(revenue, axis=1)\n",
    "new_data.head(40)"
   ]
  },
  {
   "cell_type": "markdown",
   "metadata": {},
   "source": [
    "### Выводы"
   ]
  },
  {
   "cell_type": "markdown",
   "metadata": {},
   "source": [
    "Определить количество полученных услуг каждым пользователем помесячно получилось после объединения соответствующих таблиц по заданым признакам (`merge`) и создания сводных таблиц (`pivot_table`).\n",
    "- Количество звонков и израсходованных минут определено после объединения датафреймов со сведениями о пользователях и свершенных ими звонками. Исользовав `merge`, я удалила строки с появившимися пропусками, добавила колонку с номером месяца и создала сводную таблицу. В новом датафрейме отображены тариф, месяц, количество звонков и длительность каждого разговора.\n",
    "- Количество сообщений помесячно для каждого абонента, а также объёма интернет-трафика выделено аналогично: объеденины таблицы с анными пользователя и сведениями об смс или количестве израсходованных гигабайт, строки с пропущенными значениями удалены, добавлены колонки с номером месяца и созданны с водные таблицы с количеством сообщений и объёмом трафика.\n",
    "- Выручку посчитать было на порядок сложнее. В первую очередь, я объединила сводные таблицы с данными об услугах для каждого пользователя помесячно. Далее, удалила мешающие пропуски. Используя имеющиеся сведения о тарифных планах, применила  ко всей таблице функцию `revenue`, которая дла тарифов `smart` и `ultra` рассчитала выручку. В случаях, где услуг получено больше, чем предусмотрено тарифным планом, компания с каждого клиента получает стоимость абонентской платы и оплату услег вне пакета, по заявленным тарифам."
   ]
  },
  {
   "cell_type": "markdown",
   "metadata": {},
   "source": [
    "## Анализ данных"
   ]
  },
  {
   "cell_type": "markdown",
   "metadata": {},
   "source": [
    "### Потребность клиентов в минутах для разговора"
   ]
  },
  {
   "cell_type": "markdown",
   "metadata": {},
   "source": [
    "Чтобы оценить потребность пользователей `smart` и `ultra`, создам отдельную таблицу по каждому тарифу c помощью `query` на основании таблицы `new_data`. А уже после этого буду считать среднее, дисперсию и отклонение"
   ]
  },
  {
   "cell_type": "markdown",
   "metadata": {},
   "source": [
    "#### Смарт"
   ]
  },
  {
   "cell_type": "code",
   "execution_count": 50,
   "metadata": {
    "scrolled": true
   },
   "outputs": [
    {
     "data": {
      "text/html": [
       "<div>\n",
       "<style scoped>\n",
       "    .dataframe tbody tr th:only-of-type {\n",
       "        vertical-align: middle;\n",
       "    }\n",
       "\n",
       "    .dataframe tbody tr th {\n",
       "        vertical-align: top;\n",
       "    }\n",
       "\n",
       "    .dataframe thead th {\n",
       "        text-align: right;\n",
       "    }\n",
       "</style>\n",
       "<table border=\"1\" class=\"dataframe\">\n",
       "  <thead>\n",
       "    <tr style=\"text-align: right;\">\n",
       "      <th></th>\n",
       "      <th>index_x</th>\n",
       "      <th>user_id</th>\n",
       "      <th>age_x</th>\n",
       "      <th>churn_date</th>\n",
       "      <th>city</th>\n",
       "      <th>first_name</th>\n",
       "      <th>last_name</th>\n",
       "      <th>reg_date</th>\n",
       "      <th>tariff</th>\n",
       "      <th>month</th>\n",
       "      <th>...</th>\n",
       "      <th>used_gb</th>\n",
       "      <th>messages_included</th>\n",
       "      <th>mb_per_month_included</th>\n",
       "      <th>minutes_included</th>\n",
       "      <th>rub_monthly_fee</th>\n",
       "      <th>rub_per_gb</th>\n",
       "      <th>rub_per_message</th>\n",
       "      <th>rub_per_minute</th>\n",
       "      <th>gb_per_month_included</th>\n",
       "      <th>revenue</th>\n",
       "    </tr>\n",
       "  </thead>\n",
       "  <tbody>\n",
       "    <tr>\n",
       "      <td>8</td>\n",
       "      <td>8</td>\n",
       "      <td>1001</td>\n",
       "      <td>41</td>\n",
       "      <td>NaN</td>\n",
       "      <td>Москва</td>\n",
       "      <td>Иван</td>\n",
       "      <td>Ежов</td>\n",
       "      <td>2018-11-01</td>\n",
       "      <td>smart</td>\n",
       "      <td>11.0</td>\n",
       "      <td>...</td>\n",
       "      <td>18.0</td>\n",
       "      <td>50</td>\n",
       "      <td>15360</td>\n",
       "      <td>500</td>\n",
       "      <td>550</td>\n",
       "      <td>200</td>\n",
       "      <td>3</td>\n",
       "      <td>3</td>\n",
       "      <td>15</td>\n",
       "      <td>1150.0</td>\n",
       "    </tr>\n",
       "    <tr>\n",
       "      <td>9</td>\n",
       "      <td>9</td>\n",
       "      <td>1001</td>\n",
       "      <td>41</td>\n",
       "      <td>NaN</td>\n",
       "      <td>Москва</td>\n",
       "      <td>Иван</td>\n",
       "      <td>Ежов</td>\n",
       "      <td>2018-11-01</td>\n",
       "      <td>smart</td>\n",
       "      <td>12.0</td>\n",
       "      <td>...</td>\n",
       "      <td>14.0</td>\n",
       "      <td>50</td>\n",
       "      <td>15360</td>\n",
       "      <td>500</td>\n",
       "      <td>550</td>\n",
       "      <td>200</td>\n",
       "      <td>3</td>\n",
       "      <td>3</td>\n",
       "      <td>15</td>\n",
       "      <td>550.0</td>\n",
       "    </tr>\n",
       "    <tr>\n",
       "      <td>10</td>\n",
       "      <td>10</td>\n",
       "      <td>1002</td>\n",
       "      <td>59</td>\n",
       "      <td>NaN</td>\n",
       "      <td>Стерлитамак</td>\n",
       "      <td>Евгений</td>\n",
       "      <td>Абрамович</td>\n",
       "      <td>2018-06-17</td>\n",
       "      <td>smart</td>\n",
       "      <td>6.0</td>\n",
       "      <td>...</td>\n",
       "      <td>11.0</td>\n",
       "      <td>50</td>\n",
       "      <td>15360</td>\n",
       "      <td>500</td>\n",
       "      <td>550</td>\n",
       "      <td>200</td>\n",
       "      <td>3</td>\n",
       "      <td>3</td>\n",
       "      <td>15</td>\n",
       "      <td>550.0</td>\n",
       "    </tr>\n",
       "    <tr>\n",
       "      <td>11</td>\n",
       "      <td>11</td>\n",
       "      <td>1002</td>\n",
       "      <td>59</td>\n",
       "      <td>NaN</td>\n",
       "      <td>Стерлитамак</td>\n",
       "      <td>Евгений</td>\n",
       "      <td>Абрамович</td>\n",
       "      <td>2018-06-17</td>\n",
       "      <td>smart</td>\n",
       "      <td>7.0</td>\n",
       "      <td>...</td>\n",
       "      <td>18.0</td>\n",
       "      <td>50</td>\n",
       "      <td>15360</td>\n",
       "      <td>500</td>\n",
       "      <td>550</td>\n",
       "      <td>200</td>\n",
       "      <td>3</td>\n",
       "      <td>3</td>\n",
       "      <td>15</td>\n",
       "      <td>1150.0</td>\n",
       "    </tr>\n",
       "    <tr>\n",
       "      <td>12</td>\n",
       "      <td>12</td>\n",
       "      <td>1002</td>\n",
       "      <td>59</td>\n",
       "      <td>NaN</td>\n",
       "      <td>Стерлитамак</td>\n",
       "      <td>Евгений</td>\n",
       "      <td>Абрамович</td>\n",
       "      <td>2018-06-17</td>\n",
       "      <td>smart</td>\n",
       "      <td>8.0</td>\n",
       "      <td>...</td>\n",
       "      <td>20.0</td>\n",
       "      <td>50</td>\n",
       "      <td>15360</td>\n",
       "      <td>500</td>\n",
       "      <td>550</td>\n",
       "      <td>200</td>\n",
       "      <td>3</td>\n",
       "      <td>3</td>\n",
       "      <td>15</td>\n",
       "      <td>1550.0</td>\n",
       "    </tr>\n",
       "  </tbody>\n",
       "</table>\n",
       "<p>5 rows × 27 columns</p>\n",
       "</div>"
      ],
      "text/plain": [
       "    index_x  user_id  age_x churn_date         city first_name  last_name  \\\n",
       "8         8     1001     41        NaN       Москва       Иван       Ежов   \n",
       "9         9     1001     41        NaN       Москва       Иван       Ежов   \n",
       "10       10     1002     59        NaN  Стерлитамак    Евгений  Абрамович   \n",
       "11       11     1002     59        NaN  Стерлитамак    Евгений  Абрамович   \n",
       "12       12     1002     59        NaN  Стерлитамак    Евгений  Абрамович   \n",
       "\n",
       "      reg_date tariff  month  ...  used_gb  messages_included  \\\n",
       "8   2018-11-01  smart   11.0  ...     18.0                 50   \n",
       "9   2018-11-01  smart   12.0  ...     14.0                 50   \n",
       "10  2018-06-17  smart    6.0  ...     11.0                 50   \n",
       "11  2018-06-17  smart    7.0  ...     18.0                 50   \n",
       "12  2018-06-17  smart    8.0  ...     20.0                 50   \n",
       "\n",
       "    mb_per_month_included  minutes_included  rub_monthly_fee  rub_per_gb  \\\n",
       "8                   15360               500              550         200   \n",
       "9                   15360               500              550         200   \n",
       "10                  15360               500              550         200   \n",
       "11                  15360               500              550         200   \n",
       "12                  15360               500              550         200   \n",
       "\n",
       "    rub_per_message  rub_per_minute  gb_per_month_included  revenue  \n",
       "8                 3               3                     15   1150.0  \n",
       "9                 3               3                     15    550.0  \n",
       "10                3               3                     15    550.0  \n",
       "11                3               3                     15   1150.0  \n",
       "12                3               3                     15   1550.0  \n",
       "\n",
       "[5 rows x 27 columns]"
      ]
     },
     "execution_count": 50,
     "metadata": {},
     "output_type": "execute_result"
    }
   ],
   "source": [
    "# Услуги для пользователей тарифа smart\n",
    "smart_calls=new_data.query('tariff==\"smart\"')\n",
    "smart_calls.head()"
   ]
  },
  {
   "cell_type": "code",
   "execution_count": 51,
   "metadata": {},
   "outputs": [
    {
     "data": {
      "text/plain": [
       "419"
      ]
     },
     "execution_count": 51,
     "metadata": {},
     "output_type": "execute_result"
    }
   ],
   "source": [
    "# Среднее по длительности звонков пользователей тарифа smart\n",
    "c1_mean=smart_calls['sum_calls'].mean().astype(int)\n",
    "c1_mean"
   ]
  },
  {
   "cell_type": "code",
   "execution_count": 52,
   "metadata": {},
   "outputs": [
    {
     "data": {
      "text/plain": [
       "35798.97"
      ]
     },
     "execution_count": 52,
     "metadata": {},
     "output_type": "execute_result"
    }
   ],
   "source": [
    "# Дисперсия по выборке длительности звонков пользователей тарифа smart\n",
    "disp=np.var(smart_calls['sum_calls'], ddof=1).round(2)\n",
    "disp"
   ]
  },
  {
   "cell_type": "code",
   "execution_count": 53,
   "metadata": {},
   "outputs": [
    {
     "data": {
      "text/plain": [
       "189.21"
      ]
     },
     "execution_count": 53,
     "metadata": {},
     "output_type": "execute_result"
    }
   ],
   "source": [
    "# Стандартное отклонение по длительности звонков пользователей тарифа smart\n",
    "o_c1=np.std(smart_calls['sum_calls'], ddof=1).round(2)\n",
    "o_c1"
   ]
  },
  {
   "cell_type": "code",
   "execution_count": 54,
   "metadata": {},
   "outputs": [
    {
     "data": {
      "text/plain": [
       "189.21"
      ]
     },
     "execution_count": 54,
     "metadata": {},
     "output_type": "execute_result"
    }
   ],
   "source": [
    "#Стандартное отклонение при известной дисперсии\n",
    "np.sqrt(disp).round(2)"
   ]
  },
  {
   "cell_type": "code",
   "execution_count": 55,
   "metadata": {},
   "outputs": [
    {
     "data": {
      "text/plain": [
       "0.5"
      ]
     },
     "execution_count": 55,
     "metadata": {},
     "output_type": "execute_result"
    }
   ],
   "source": [
    "#Распределение\n",
    "distr1 = st.norm(c1_mean, o_c1) \n",
    "x = c1_mean\n",
    "distr1.cdf(x) "
   ]
  },
  {
   "cell_type": "code",
   "execution_count": 56,
   "metadata": {
    "scrolled": true
   },
   "outputs": [
    {
     "data": {
      "text/plain": [
       "Text(0, 0.5, 'Количество')"
      ]
     },
     "execution_count": 56,
     "metadata": {},
     "output_type": "execute_result"
    },
    {
     "data": {
      "image/png": "[encoded data removed]",
      "text/plain": [
       "<Figure size 432x288 with 1 Axes>"
      ]
     },
     "metadata": {
      "needs_background": "light"
     },
     "output_type": "display_data"
    }
   ],
   "source": [
    "# Гистограмма по длительности звонков пользователей тарифа smart\n",
    "smart_calls['sum_calls'].hist()\n",
    "plt.title('Продолжительность звонков пользователей с тарифом Smart')\n",
    "plt.xlabel(\"Минуты\")\n",
    "plt.ylabel(\"Количество\")"
   ]
  },
  {
   "cell_type": "markdown",
   "metadata": {},
   "source": [
    "#### Ультра"
   ]
  },
  {
   "cell_type": "code",
   "execution_count": 57,
   "metadata": {},
   "outputs": [
    {
     "data": {
      "text/html": [
       "<div>\n",
       "<style scoped>\n",
       "    .dataframe tbody tr th:only-of-type {\n",
       "        vertical-align: middle;\n",
       "    }\n",
       "\n",
       "    .dataframe tbody tr th {\n",
       "        vertical-align: top;\n",
       "    }\n",
       "\n",
       "    .dataframe thead th {\n",
       "        text-align: right;\n",
       "    }\n",
       "</style>\n",
       "<table border=\"1\" class=\"dataframe\">\n",
       "  <thead>\n",
       "    <tr style=\"text-align: right;\">\n",
       "      <th></th>\n",
       "      <th>index_x</th>\n",
       "      <th>user_id</th>\n",
       "      <th>age_x</th>\n",
       "      <th>churn_date</th>\n",
       "      <th>city</th>\n",
       "      <th>first_name</th>\n",
       "      <th>last_name</th>\n",
       "      <th>reg_date</th>\n",
       "      <th>tariff</th>\n",
       "      <th>month</th>\n",
       "      <th>...</th>\n",
       "      <th>used_gb</th>\n",
       "      <th>messages_included</th>\n",
       "      <th>mb_per_month_included</th>\n",
       "      <th>minutes_included</th>\n",
       "      <th>rub_monthly_fee</th>\n",
       "      <th>rub_per_gb</th>\n",
       "      <th>rub_per_message</th>\n",
       "      <th>rub_per_minute</th>\n",
       "      <th>gb_per_month_included</th>\n",
       "      <th>revenue</th>\n",
       "    </tr>\n",
       "  </thead>\n",
       "  <tbody>\n",
       "    <tr>\n",
       "      <td>0</td>\n",
       "      <td>0</td>\n",
       "      <td>1000</td>\n",
       "      <td>52</td>\n",
       "      <td>NaN</td>\n",
       "      <td>Краснодар</td>\n",
       "      <td>Рафаил</td>\n",
       "      <td>Верещагин</td>\n",
       "      <td>2018-05-25</td>\n",
       "      <td>ultra</td>\n",
       "      <td>5.0</td>\n",
       "      <td>...</td>\n",
       "      <td>3.0</td>\n",
       "      <td>1000</td>\n",
       "      <td>30720</td>\n",
       "      <td>3000</td>\n",
       "      <td>1950</td>\n",
       "      <td>150</td>\n",
       "      <td>1</td>\n",
       "      <td>1</td>\n",
       "      <td>30</td>\n",
       "      <td>1950.0</td>\n",
       "    </tr>\n",
       "    <tr>\n",
       "      <td>1</td>\n",
       "      <td>1</td>\n",
       "      <td>1000</td>\n",
       "      <td>52</td>\n",
       "      <td>NaN</td>\n",
       "      <td>Краснодар</td>\n",
       "      <td>Рафаил</td>\n",
       "      <td>Верещагин</td>\n",
       "      <td>2018-05-25</td>\n",
       "      <td>ultra</td>\n",
       "      <td>6.0</td>\n",
       "      <td>...</td>\n",
       "      <td>23.0</td>\n",
       "      <td>1000</td>\n",
       "      <td>30720</td>\n",
       "      <td>3000</td>\n",
       "      <td>1950</td>\n",
       "      <td>150</td>\n",
       "      <td>1</td>\n",
       "      <td>1</td>\n",
       "      <td>30</td>\n",
       "      <td>1950.0</td>\n",
       "    </tr>\n",
       "    <tr>\n",
       "      <td>2</td>\n",
       "      <td>2</td>\n",
       "      <td>1000</td>\n",
       "      <td>52</td>\n",
       "      <td>NaN</td>\n",
       "      <td>Краснодар</td>\n",
       "      <td>Рафаил</td>\n",
       "      <td>Верещагин</td>\n",
       "      <td>2018-05-25</td>\n",
       "      <td>ultra</td>\n",
       "      <td>7.0</td>\n",
       "      <td>...</td>\n",
       "      <td>14.0</td>\n",
       "      <td>1000</td>\n",
       "      <td>30720</td>\n",
       "      <td>3000</td>\n",
       "      <td>1950</td>\n",
       "      <td>150</td>\n",
       "      <td>1</td>\n",
       "      <td>1</td>\n",
       "      <td>30</td>\n",
       "      <td>1950.0</td>\n",
       "    </tr>\n",
       "    <tr>\n",
       "      <td>3</td>\n",
       "      <td>3</td>\n",
       "      <td>1000</td>\n",
       "      <td>52</td>\n",
       "      <td>NaN</td>\n",
       "      <td>Краснодар</td>\n",
       "      <td>Рафаил</td>\n",
       "      <td>Верещагин</td>\n",
       "      <td>2018-05-25</td>\n",
       "      <td>ultra</td>\n",
       "      <td>8.0</td>\n",
       "      <td>...</td>\n",
       "      <td>14.0</td>\n",
       "      <td>1000</td>\n",
       "      <td>30720</td>\n",
       "      <td>3000</td>\n",
       "      <td>1950</td>\n",
       "      <td>150</td>\n",
       "      <td>1</td>\n",
       "      <td>1</td>\n",
       "      <td>30</td>\n",
       "      <td>1950.0</td>\n",
       "    </tr>\n",
       "    <tr>\n",
       "      <td>4</td>\n",
       "      <td>4</td>\n",
       "      <td>1000</td>\n",
       "      <td>52</td>\n",
       "      <td>NaN</td>\n",
       "      <td>Краснодар</td>\n",
       "      <td>Рафаил</td>\n",
       "      <td>Верещагин</td>\n",
       "      <td>2018-05-25</td>\n",
       "      <td>ultra</td>\n",
       "      <td>9.0</td>\n",
       "      <td>...</td>\n",
       "      <td>15.0</td>\n",
       "      <td>1000</td>\n",
       "      <td>30720</td>\n",
       "      <td>3000</td>\n",
       "      <td>1950</td>\n",
       "      <td>150</td>\n",
       "      <td>1</td>\n",
       "      <td>1</td>\n",
       "      <td>30</td>\n",
       "      <td>1950.0</td>\n",
       "    </tr>\n",
       "  </tbody>\n",
       "</table>\n",
       "<p>5 rows × 27 columns</p>\n",
       "</div>"
      ],
      "text/plain": [
       "   index_x  user_id  age_x churn_date       city first_name  last_name  \\\n",
       "0        0     1000     52        NaN  Краснодар     Рафаил  Верещагин   \n",
       "1        1     1000     52        NaN  Краснодар     Рафаил  Верещагин   \n",
       "2        2     1000     52        NaN  Краснодар     Рафаил  Верещагин   \n",
       "3        3     1000     52        NaN  Краснодар     Рафаил  Верещагин   \n",
       "4        4     1000     52        NaN  Краснодар     Рафаил  Верещагин   \n",
       "\n",
       "     reg_date tariff  month  ...  used_gb  messages_included  \\\n",
       "0  2018-05-25  ultra    5.0  ...      3.0               1000   \n",
       "1  2018-05-25  ultra    6.0  ...     23.0               1000   \n",
       "2  2018-05-25  ultra    7.0  ...     14.0               1000   \n",
       "3  2018-05-25  ultra    8.0  ...     14.0               1000   \n",
       "4  2018-05-25  ultra    9.0  ...     15.0               1000   \n",
       "\n",
       "   mb_per_month_included  minutes_included  rub_monthly_fee  rub_per_gb  \\\n",
       "0                  30720              3000             1950         150   \n",
       "1                  30720              3000             1950         150   \n",
       "2                  30720              3000             1950         150   \n",
       "3                  30720              3000             1950         150   \n",
       "4                  30720              3000             1950         150   \n",
       "\n",
       "   rub_per_message  rub_per_minute  gb_per_month_included  revenue  \n",
       "0                1               1                     30   1950.0  \n",
       "1                1               1                     30   1950.0  \n",
       "2                1               1                     30   1950.0  \n",
       "3                1               1                     30   1950.0  \n",
       "4                1               1                     30   1950.0  \n",
       "\n",
       "[5 rows x 27 columns]"
      ]
     },
     "execution_count": 57,
     "metadata": {},
     "output_type": "execute_result"
    }
   ],
   "source": [
    "# Услуги для пользователей тарифа ultra\n",
    "ultra_calls=new_data.query('tariff==\"ultra\"')\n",
    "ultra_calls.head()"
   ]
  },
  {
   "cell_type": "code",
   "execution_count": 58,
   "metadata": {},
   "outputs": [
    {
     "data": {
      "text/plain": [
       "548"
      ]
     },
     "execution_count": 58,
     "metadata": {},
     "output_type": "execute_result"
    }
   ],
   "source": [
    "# Среднее по длительности звонков пользователей тарифа ultra\n",
    "c2_mean=ultra_calls['sum_calls'].mean().astype(int)\n",
    "c2_mean"
   ]
  },
  {
   "cell_type": "code",
   "execution_count": 59,
   "metadata": {},
   "outputs": [
    {
     "data": {
      "text/plain": [
       "94015.43"
      ]
     },
     "execution_count": 59,
     "metadata": {},
     "output_type": "execute_result"
    }
   ],
   "source": [
    "# Дисперсия по выборке длительности звонков пользователей тарифа ultra\n",
    "disp1=np.var(ultra_calls['sum_calls'], ddof=1).round(2)\n",
    "disp1"
   ]
  },
  {
   "cell_type": "code",
   "execution_count": 60,
   "metadata": {
    "scrolled": true
   },
   "outputs": [
    {
     "data": {
      "text/plain": [
       "306.62"
      ]
     },
     "execution_count": 60,
     "metadata": {},
     "output_type": "execute_result"
    }
   ],
   "source": [
    "# Стандартное отклонение по длительности звонков пользователей тарифа ultra\n",
    "o_c2=np.sqrt(disp1).round(2)\n",
    "o_c2"
   ]
  },
  {
   "cell_type": "code",
   "execution_count": 61,
   "metadata": {},
   "outputs": [
    {
     "data": {
      "text/plain": [
       "0.5"
      ]
     },
     "execution_count": 61,
     "metadata": {},
     "output_type": "execute_result"
    }
   ],
   "source": [
    "#Распределение\n",
    "distr2 = st.norm(c2_mean, o_c2) \n",
    "x = c2_mean\n",
    "distr2.cdf(x) "
   ]
  },
  {
   "cell_type": "code",
   "execution_count": 62,
   "metadata": {
    "scrolled": false
   },
   "outputs": [
    {
     "data": {
      "text/plain": [
       "Text(0, 0.5, 'Количество')"
      ]
     },
     "execution_count": 62,
     "metadata": {},
     "output_type": "execute_result"
    },
    {
     "data": {
      "image/png": "[encoded data removed]",
      "text/plain": [
       "<Figure size 432x288 with 1 Axes>"
      ]
     },
     "metadata": {
      "needs_background": "light"
     },
     "output_type": "display_data"
    }
   ],
   "source": [
    "# Гистограмма по длительности звонков пользователей тарифа ultra\n",
    "ultra_calls['sum_calls'].hist()\n",
    "plt.title('Продолжительность звонков пользователей с тарифом Ultra')\n",
    "plt.xlabel(\"Минуты\")\n",
    "plt.ylabel(\"Количество\")"
   ]
  },
  {
   "cell_type": "markdown",
   "metadata": {},
   "source": [
    "#### Сравнение тарифов"
   ]
  },
  {
   "cell_type": "code",
   "execution_count": 63,
   "metadata": {},
   "outputs": [
    {
     "data": {
      "text/html": [
       "<div>\n",
       "<style scoped>\n",
       "    .dataframe tbody tr th:only-of-type {\n",
       "        vertical-align: middle;\n",
       "    }\n",
       "\n",
       "    .dataframe tbody tr th {\n",
       "        vertical-align: top;\n",
       "    }\n",
       "\n",
       "    .dataframe thead th {\n",
       "        text-align: right;\n",
       "    }\n",
       "</style>\n",
       "<table border=\"1\" class=\"dataframe\">\n",
       "  <thead>\n",
       "    <tr style=\"text-align: right;\">\n",
       "      <th></th>\n",
       "      <th>tariff</th>\n",
       "      <th>sum_calls</th>\n",
       "    </tr>\n",
       "  </thead>\n",
       "  <tbody>\n",
       "    <tr>\n",
       "      <td>0</td>\n",
       "      <td>smart</td>\n",
       "      <td>419</td>\n",
       "    </tr>\n",
       "    <tr>\n",
       "      <td>1</td>\n",
       "      <td>ultra</td>\n",
       "      <td>548</td>\n",
       "    </tr>\n",
       "  </tbody>\n",
       "</table>\n",
       "</div>"
      ],
      "text/plain": [
       "  tariff  sum_calls\n",
       "0  smart        419\n",
       "1  ultra        548"
      ]
     },
     "execution_count": 63,
     "metadata": {},
     "output_type": "execute_result"
    }
   ],
   "source": [
    "#Сравнение длительности звонков клиентов с разными тарифными планами\n",
    "comparison_tariffs_calls=new_data.pivot_table(index =['tariff'], aggfunc = {'sum_calls':'mean'}).reset_index()\n",
    "comparison_tariffs_calls['sum_calls']=comparison_tariffs_calls['sum_calls'].astype(int)\n",
    "comparison_tariffs_calls.head()"
   ]
  },
  {
   "cell_type": "code",
   "execution_count": 64,
   "metadata": {},
   "outputs": [
    {
     "data": {
      "text/plain": [
       "Text(0, 0.5, 'Звонки')"
      ]
     },
     "execution_count": 64,
     "metadata": {},
     "output_type": "execute_result"
    },
    {
     "data": {
      "image/png": "[encoded data removed]",
      "text/plain": [
       "<Figure size 432x288 with 1 Axes>"
      ]
     },
     "metadata": {
      "needs_background": "light"
     },
     "output_type": "display_data"
    }
   ],
   "source": [
    "# Визуализация сравнения тарифов\n",
    "comparison_tariffs_calls.plot.bar(x='tariff', y='sum_calls', color='green')\n",
    "plt.title('Продолжительность звонков пользователей с тарифам Ultra и Smart')\n",
    "plt.xlabel(\"Тарифы\")\n",
    "plt.ylabel(\"Звонки\")"
   ]
  },
  {
   "cell_type": "markdown",
   "metadata": {},
   "source": [
    "### Потребность клиентов в ежемесячном количестве сообщений"
   ]
  },
  {
   "cell_type": "markdown",
   "metadata": {},
   "source": [
    "Для подстчёта значений буду использовать созданные таблицы `smart_calls` и `ultra_calls`"
   ]
  },
  {
   "cell_type": "markdown",
   "metadata": {},
   "source": [
    "#### Смарт"
   ]
  },
  {
   "cell_type": "code",
   "execution_count": 65,
   "metadata": {},
   "outputs": [
    {
     "data": {
      "text/html": [
       "<div>\n",
       "<style scoped>\n",
       "    .dataframe tbody tr th:only-of-type {\n",
       "        vertical-align: middle;\n",
       "    }\n",
       "\n",
       "    .dataframe tbody tr th {\n",
       "        vertical-align: top;\n",
       "    }\n",
       "\n",
       "    .dataframe thead th {\n",
       "        text-align: right;\n",
       "    }\n",
       "</style>\n",
       "<table border=\"1\" class=\"dataframe\">\n",
       "  <thead>\n",
       "    <tr style=\"text-align: right;\">\n",
       "      <th></th>\n",
       "      <th>index_x</th>\n",
       "      <th>user_id</th>\n",
       "      <th>age_x</th>\n",
       "      <th>churn_date</th>\n",
       "      <th>city</th>\n",
       "      <th>first_name</th>\n",
       "      <th>last_name</th>\n",
       "      <th>reg_date</th>\n",
       "      <th>tariff</th>\n",
       "      <th>month</th>\n",
       "      <th>...</th>\n",
       "      <th>used_gb</th>\n",
       "      <th>messages_included</th>\n",
       "      <th>mb_per_month_included</th>\n",
       "      <th>minutes_included</th>\n",
       "      <th>rub_monthly_fee</th>\n",
       "      <th>rub_per_gb</th>\n",
       "      <th>rub_per_message</th>\n",
       "      <th>rub_per_minute</th>\n",
       "      <th>gb_per_month_included</th>\n",
       "      <th>revenue</th>\n",
       "    </tr>\n",
       "  </thead>\n",
       "  <tbody>\n",
       "    <tr>\n",
       "      <td>8</td>\n",
       "      <td>8</td>\n",
       "      <td>1001</td>\n",
       "      <td>41</td>\n",
       "      <td>NaN</td>\n",
       "      <td>Москва</td>\n",
       "      <td>Иван</td>\n",
       "      <td>Ежов</td>\n",
       "      <td>2018-11-01</td>\n",
       "      <td>smart</td>\n",
       "      <td>11.0</td>\n",
       "      <td>...</td>\n",
       "      <td>18.0</td>\n",
       "      <td>50</td>\n",
       "      <td>15360</td>\n",
       "      <td>500</td>\n",
       "      <td>550</td>\n",
       "      <td>200</td>\n",
       "      <td>3</td>\n",
       "      <td>3</td>\n",
       "      <td>15</td>\n",
       "      <td>1150.0</td>\n",
       "    </tr>\n",
       "    <tr>\n",
       "      <td>9</td>\n",
       "      <td>9</td>\n",
       "      <td>1001</td>\n",
       "      <td>41</td>\n",
       "      <td>NaN</td>\n",
       "      <td>Москва</td>\n",
       "      <td>Иван</td>\n",
       "      <td>Ежов</td>\n",
       "      <td>2018-11-01</td>\n",
       "      <td>smart</td>\n",
       "      <td>12.0</td>\n",
       "      <td>...</td>\n",
       "      <td>14.0</td>\n",
       "      <td>50</td>\n",
       "      <td>15360</td>\n",
       "      <td>500</td>\n",
       "      <td>550</td>\n",
       "      <td>200</td>\n",
       "      <td>3</td>\n",
       "      <td>3</td>\n",
       "      <td>15</td>\n",
       "      <td>550.0</td>\n",
       "    </tr>\n",
       "    <tr>\n",
       "      <td>10</td>\n",
       "      <td>10</td>\n",
       "      <td>1002</td>\n",
       "      <td>59</td>\n",
       "      <td>NaN</td>\n",
       "      <td>Стерлитамак</td>\n",
       "      <td>Евгений</td>\n",
       "      <td>Абрамович</td>\n",
       "      <td>2018-06-17</td>\n",
       "      <td>smart</td>\n",
       "      <td>6.0</td>\n",
       "      <td>...</td>\n",
       "      <td>11.0</td>\n",
       "      <td>50</td>\n",
       "      <td>15360</td>\n",
       "      <td>500</td>\n",
       "      <td>550</td>\n",
       "      <td>200</td>\n",
       "      <td>3</td>\n",
       "      <td>3</td>\n",
       "      <td>15</td>\n",
       "      <td>550.0</td>\n",
       "    </tr>\n",
       "    <tr>\n",
       "      <td>11</td>\n",
       "      <td>11</td>\n",
       "      <td>1002</td>\n",
       "      <td>59</td>\n",
       "      <td>NaN</td>\n",
       "      <td>Стерлитамак</td>\n",
       "      <td>Евгений</td>\n",
       "      <td>Абрамович</td>\n",
       "      <td>2018-06-17</td>\n",
       "      <td>smart</td>\n",
       "      <td>7.0</td>\n",
       "      <td>...</td>\n",
       "      <td>18.0</td>\n",
       "      <td>50</td>\n",
       "      <td>15360</td>\n",
       "      <td>500</td>\n",
       "      <td>550</td>\n",
       "      <td>200</td>\n",
       "      <td>3</td>\n",
       "      <td>3</td>\n",
       "      <td>15</td>\n",
       "      <td>1150.0</td>\n",
       "    </tr>\n",
       "    <tr>\n",
       "      <td>12</td>\n",
       "      <td>12</td>\n",
       "      <td>1002</td>\n",
       "      <td>59</td>\n",
       "      <td>NaN</td>\n",
       "      <td>Стерлитамак</td>\n",
       "      <td>Евгений</td>\n",
       "      <td>Абрамович</td>\n",
       "      <td>2018-06-17</td>\n",
       "      <td>smart</td>\n",
       "      <td>8.0</td>\n",
       "      <td>...</td>\n",
       "      <td>20.0</td>\n",
       "      <td>50</td>\n",
       "      <td>15360</td>\n",
       "      <td>500</td>\n",
       "      <td>550</td>\n",
       "      <td>200</td>\n",
       "      <td>3</td>\n",
       "      <td>3</td>\n",
       "      <td>15</td>\n",
       "      <td>1550.0</td>\n",
       "    </tr>\n",
       "  </tbody>\n",
       "</table>\n",
       "<p>5 rows × 27 columns</p>\n",
       "</div>"
      ],
      "text/plain": [
       "    index_x  user_id  age_x churn_date         city first_name  last_name  \\\n",
       "8         8     1001     41        NaN       Москва       Иван       Ежов   \n",
       "9         9     1001     41        NaN       Москва       Иван       Ежов   \n",
       "10       10     1002     59        NaN  Стерлитамак    Евгений  Абрамович   \n",
       "11       11     1002     59        NaN  Стерлитамак    Евгений  Абрамович   \n",
       "12       12     1002     59        NaN  Стерлитамак    Евгений  Абрамович   \n",
       "\n",
       "      reg_date tariff  month  ...  used_gb  messages_included  \\\n",
       "8   2018-11-01  smart   11.0  ...     18.0                 50   \n",
       "9   2018-11-01  smart   12.0  ...     14.0                 50   \n",
       "10  2018-06-17  smart    6.0  ...     11.0                 50   \n",
       "11  2018-06-17  smart    7.0  ...     18.0                 50   \n",
       "12  2018-06-17  smart    8.0  ...     20.0                 50   \n",
       "\n",
       "    mb_per_month_included  minutes_included  rub_monthly_fee  rub_per_gb  \\\n",
       "8                   15360               500              550         200   \n",
       "9                   15360               500              550         200   \n",
       "10                  15360               500              550         200   \n",
       "11                  15360               500              550         200   \n",
       "12                  15360               500              550         200   \n",
       "\n",
       "    rub_per_message  rub_per_minute  gb_per_month_included  revenue  \n",
       "8                 3               3                     15   1150.0  \n",
       "9                 3               3                     15    550.0  \n",
       "10                3               3                     15    550.0  \n",
       "11                3               3                     15   1150.0  \n",
       "12                3               3                     15   1550.0  \n",
       "\n",
       "[5 rows x 27 columns]"
      ]
     },
     "execution_count": 65,
     "metadata": {},
     "output_type": "execute_result"
    }
   ],
   "source": [
    "smart_calls.head()"
   ]
  },
  {
   "cell_type": "code",
   "execution_count": 66,
   "metadata": {},
   "outputs": [
    {
     "data": {
      "text/plain": [
       "38"
      ]
     },
     "execution_count": 66,
     "metadata": {},
     "output_type": "execute_result"
    }
   ],
   "source": [
    "# Среднее количество сообщений у пользователей тарифа smart\n",
    "m1_mean=smart_calls['mess'].mean().astype(int)\n",
    "m1_mean"
   ]
  },
  {
   "cell_type": "code",
   "execution_count": 67,
   "metadata": {},
   "outputs": [
    {
     "data": {
      "text/plain": [
       "718.8"
      ]
     },
     "execution_count": 67,
     "metadata": {},
     "output_type": "execute_result"
    }
   ],
   "source": [
    "# Дисперсия по выборке количества сообщений пользователей тарифа smart\n",
    "disp3=np.var(smart_calls['mess'], ddof=1).round(2)\n",
    "disp3"
   ]
  },
  {
   "cell_type": "code",
   "execution_count": 68,
   "metadata": {},
   "outputs": [
    {
     "data": {
      "text/plain": [
       "26.81"
      ]
     },
     "execution_count": 68,
     "metadata": {},
     "output_type": "execute_result"
    }
   ],
   "source": [
    "# Стандартное отклонение по количеству сообщений пользователей тарифа smart\n",
    "o_m1=np.sqrt(disp3).round(2)\n",
    "o_m1"
   ]
  },
  {
   "cell_type": "code",
   "execution_count": 69,
   "metadata": {},
   "outputs": [
    {
     "data": {
      "text/plain": [
       "0.5"
      ]
     },
     "execution_count": 69,
     "metadata": {},
     "output_type": "execute_result"
    }
   ],
   "source": [
    "#Распределение\n",
    "distr3 = st.norm(m1_mean, o_m1) \n",
    "x = m1_mean\n",
    "distr3.cdf(x) "
   ]
  },
  {
   "cell_type": "code",
   "execution_count": 70,
   "metadata": {},
   "outputs": [
    {
     "data": {
      "text/plain": [
       "Text(0.5, 0, 'количество сообщений')"
      ]
     },
     "execution_count": 70,
     "metadata": {},
     "output_type": "execute_result"
    },
    {
     "data": {
      "image/png": "[encoded data removed]",
      "text/plain": [
       "<Figure size 432x288 with 1 Axes>"
      ]
     },
     "metadata": {
      "needs_background": "light"
     },
     "output_type": "display_data"
    }
   ],
   "source": [
    "# Гистограмма по количеству сообщений пользователей тарифа smart\n",
    "smart_calls['mess'].hist()\n",
    "plt.title('Количество сообщений пользователей с тарифом Smart')\n",
    "plt.xlabel(\"количество сообщений\")"
   ]
  },
  {
   "cell_type": "markdown",
   "metadata": {},
   "source": [
    "#### Ультра"
   ]
  },
  {
   "cell_type": "code",
   "execution_count": 71,
   "metadata": {},
   "outputs": [
    {
     "data": {
      "text/html": [
       "<div>\n",
       "<style scoped>\n",
       "    .dataframe tbody tr th:only-of-type {\n",
       "        vertical-align: middle;\n",
       "    }\n",
       "\n",
       "    .dataframe tbody tr th {\n",
       "        vertical-align: top;\n",
       "    }\n",
       "\n",
       "    .dataframe thead th {\n",
       "        text-align: right;\n",
       "    }\n",
       "</style>\n",
       "<table border=\"1\" class=\"dataframe\">\n",
       "  <thead>\n",
       "    <tr style=\"text-align: right;\">\n",
       "      <th></th>\n",
       "      <th>index_x</th>\n",
       "      <th>user_id</th>\n",
       "      <th>age_x</th>\n",
       "      <th>churn_date</th>\n",
       "      <th>city</th>\n",
       "      <th>first_name</th>\n",
       "      <th>last_name</th>\n",
       "      <th>reg_date</th>\n",
       "      <th>tariff</th>\n",
       "      <th>month</th>\n",
       "      <th>...</th>\n",
       "      <th>used_gb</th>\n",
       "      <th>messages_included</th>\n",
       "      <th>mb_per_month_included</th>\n",
       "      <th>minutes_included</th>\n",
       "      <th>rub_monthly_fee</th>\n",
       "      <th>rub_per_gb</th>\n",
       "      <th>rub_per_message</th>\n",
       "      <th>rub_per_minute</th>\n",
       "      <th>gb_per_month_included</th>\n",
       "      <th>revenue</th>\n",
       "    </tr>\n",
       "  </thead>\n",
       "  <tbody>\n",
       "    <tr>\n",
       "      <td>0</td>\n",
       "      <td>0</td>\n",
       "      <td>1000</td>\n",
       "      <td>52</td>\n",
       "      <td>NaN</td>\n",
       "      <td>Краснодар</td>\n",
       "      <td>Рафаил</td>\n",
       "      <td>Верещагин</td>\n",
       "      <td>2018-05-25</td>\n",
       "      <td>ultra</td>\n",
       "      <td>5.0</td>\n",
       "      <td>...</td>\n",
       "      <td>3.0</td>\n",
       "      <td>1000</td>\n",
       "      <td>30720</td>\n",
       "      <td>3000</td>\n",
       "      <td>1950</td>\n",
       "      <td>150</td>\n",
       "      <td>1</td>\n",
       "      <td>1</td>\n",
       "      <td>30</td>\n",
       "      <td>1950.0</td>\n",
       "    </tr>\n",
       "    <tr>\n",
       "      <td>1</td>\n",
       "      <td>1</td>\n",
       "      <td>1000</td>\n",
       "      <td>52</td>\n",
       "      <td>NaN</td>\n",
       "      <td>Краснодар</td>\n",
       "      <td>Рафаил</td>\n",
       "      <td>Верещагин</td>\n",
       "      <td>2018-05-25</td>\n",
       "      <td>ultra</td>\n",
       "      <td>6.0</td>\n",
       "      <td>...</td>\n",
       "      <td>23.0</td>\n",
       "      <td>1000</td>\n",
       "      <td>30720</td>\n",
       "      <td>3000</td>\n",
       "      <td>1950</td>\n",
       "      <td>150</td>\n",
       "      <td>1</td>\n",
       "      <td>1</td>\n",
       "      <td>30</td>\n",
       "      <td>1950.0</td>\n",
       "    </tr>\n",
       "    <tr>\n",
       "      <td>2</td>\n",
       "      <td>2</td>\n",
       "      <td>1000</td>\n",
       "      <td>52</td>\n",
       "      <td>NaN</td>\n",
       "      <td>Краснодар</td>\n",
       "      <td>Рафаил</td>\n",
       "      <td>Верещагин</td>\n",
       "      <td>2018-05-25</td>\n",
       "      <td>ultra</td>\n",
       "      <td>7.0</td>\n",
       "      <td>...</td>\n",
       "      <td>14.0</td>\n",
       "      <td>1000</td>\n",
       "      <td>30720</td>\n",
       "      <td>3000</td>\n",
       "      <td>1950</td>\n",
       "      <td>150</td>\n",
       "      <td>1</td>\n",
       "      <td>1</td>\n",
       "      <td>30</td>\n",
       "      <td>1950.0</td>\n",
       "    </tr>\n",
       "    <tr>\n",
       "      <td>3</td>\n",
       "      <td>3</td>\n",
       "      <td>1000</td>\n",
       "      <td>52</td>\n",
       "      <td>NaN</td>\n",
       "      <td>Краснодар</td>\n",
       "      <td>Рафаил</td>\n",
       "      <td>Верещагин</td>\n",
       "      <td>2018-05-25</td>\n",
       "      <td>ultra</td>\n",
       "      <td>8.0</td>\n",
       "      <td>...</td>\n",
       "      <td>14.0</td>\n",
       "      <td>1000</td>\n",
       "      <td>30720</td>\n",
       "      <td>3000</td>\n",
       "      <td>1950</td>\n",
       "      <td>150</td>\n",
       "      <td>1</td>\n",
       "      <td>1</td>\n",
       "      <td>30</td>\n",
       "      <td>1950.0</td>\n",
       "    </tr>\n",
       "    <tr>\n",
       "      <td>4</td>\n",
       "      <td>4</td>\n",
       "      <td>1000</td>\n",
       "      <td>52</td>\n",
       "      <td>NaN</td>\n",
       "      <td>Краснодар</td>\n",
       "      <td>Рафаил</td>\n",
       "      <td>Верещагин</td>\n",
       "      <td>2018-05-25</td>\n",
       "      <td>ultra</td>\n",
       "      <td>9.0</td>\n",
       "      <td>...</td>\n",
       "      <td>15.0</td>\n",
       "      <td>1000</td>\n",
       "      <td>30720</td>\n",
       "      <td>3000</td>\n",
       "      <td>1950</td>\n",
       "      <td>150</td>\n",
       "      <td>1</td>\n",
       "      <td>1</td>\n",
       "      <td>30</td>\n",
       "      <td>1950.0</td>\n",
       "    </tr>\n",
       "  </tbody>\n",
       "</table>\n",
       "<p>5 rows × 27 columns</p>\n",
       "</div>"
      ],
      "text/plain": [
       "   index_x  user_id  age_x churn_date       city first_name  last_name  \\\n",
       "0        0     1000     52        NaN  Краснодар     Рафаил  Верещагин   \n",
       "1        1     1000     52        NaN  Краснодар     Рафаил  Верещагин   \n",
       "2        2     1000     52        NaN  Краснодар     Рафаил  Верещагин   \n",
       "3        3     1000     52        NaN  Краснодар     Рафаил  Верещагин   \n",
       "4        4     1000     52        NaN  Краснодар     Рафаил  Верещагин   \n",
       "\n",
       "     reg_date tariff  month  ...  used_gb  messages_included  \\\n",
       "0  2018-05-25  ultra    5.0  ...      3.0               1000   \n",
       "1  2018-05-25  ultra    6.0  ...     23.0               1000   \n",
       "2  2018-05-25  ultra    7.0  ...     14.0               1000   \n",
       "3  2018-05-25  ultra    8.0  ...     14.0               1000   \n",
       "4  2018-05-25  ultra    9.0  ...     15.0               1000   \n",
       "\n",
       "   mb_per_month_included  minutes_included  rub_monthly_fee  rub_per_gb  \\\n",
       "0                  30720              3000             1950         150   \n",
       "1                  30720              3000             1950         150   \n",
       "2                  30720              3000             1950         150   \n",
       "3                  30720              3000             1950         150   \n",
       "4                  30720              3000             1950         150   \n",
       "\n",
       "   rub_per_message  rub_per_minute  gb_per_month_included  revenue  \n",
       "0                1               1                     30   1950.0  \n",
       "1                1               1                     30   1950.0  \n",
       "2                1               1                     30   1950.0  \n",
       "3                1               1                     30   1950.0  \n",
       "4                1               1                     30   1950.0  \n",
       "\n",
       "[5 rows x 27 columns]"
      ]
     },
     "execution_count": 71,
     "metadata": {},
     "output_type": "execute_result"
    }
   ],
   "source": [
    "ultra_calls.head()"
   ]
  },
  {
   "cell_type": "code",
   "execution_count": 72,
   "metadata": {},
   "outputs": [
    {
     "data": {
      "text/plain": [
       "61"
      ]
     },
     "execution_count": 72,
     "metadata": {},
     "output_type": "execute_result"
    }
   ],
   "source": [
    "# Среднее количество сообщений у пользователей тарифа ultra\n",
    "m2_mean=ultra_calls['mess'].mean().astype(int)\n",
    "m2_mean"
   ]
  },
  {
   "cell_type": "code",
   "execution_count": 73,
   "metadata": {},
   "outputs": [
    {
     "data": {
      "text/plain": [
       "2008.55"
      ]
     },
     "execution_count": 73,
     "metadata": {},
     "output_type": "execute_result"
    }
   ],
   "source": [
    "# Дисперсия по выборке количества сообщений пользователей тарифа ultra\n",
    "disp4=np.var(ultra_calls['mess'], ddof=1).round(2)\n",
    "disp4"
   ]
  },
  {
   "cell_type": "code",
   "execution_count": 74,
   "metadata": {
    "scrolled": true
   },
   "outputs": [
    {
     "data": {
      "text/plain": [
       "44.82"
      ]
     },
     "execution_count": 74,
     "metadata": {},
     "output_type": "execute_result"
    }
   ],
   "source": [
    "# Стандартное отклонение по количеству сообщений пользователей тарифа ultra\n",
    "o_m2=np.sqrt(disp4).round(2)\n",
    "o_m2"
   ]
  },
  {
   "cell_type": "code",
   "execution_count": 75,
   "metadata": {},
   "outputs": [
    {
     "data": {
      "text/plain": [
       "0.5"
      ]
     },
     "execution_count": 75,
     "metadata": {},
     "output_type": "execute_result"
    }
   ],
   "source": [
    "#Распределение\n",
    "distr4 = st.norm(m2_mean,o_m2) \n",
    "x = m2_mean\n",
    "distr4.cdf(x) "
   ]
  },
  {
   "cell_type": "code",
   "execution_count": 76,
   "metadata": {
    "scrolled": false
   },
   "outputs": [
    {
     "data": {
      "text/plain": [
       "Text(0.5, 0, 'количество сообщений')"
      ]
     },
     "execution_count": 76,
     "metadata": {},
     "output_type": "execute_result"
    },
    {
     "data": {
      "image/png": "[encoded data removed]",
      "text/plain": [
       "<Figure size 432x288 with 1 Axes>"
      ]
     },
     "metadata": {
      "needs_background": "light"
     },
     "output_type": "display_data"
    }
   ],
   "source": [
    "# Гистограмма по количеству сообщений пользователей тарифа ultra\n",
    "ultra_calls['mess'].hist()\n",
    "plt.title('Количество сообщений пользователей с тарифом Ultra')\n",
    "plt.xlabel(\"количество сообщений\")"
   ]
  },
  {
   "cell_type": "markdown",
   "metadata": {},
   "source": [
    "#### Сравнение тарифов"
   ]
  },
  {
   "cell_type": "code",
   "execution_count": 77,
   "metadata": {},
   "outputs": [
    {
     "data": {
      "text/html": [
       "<div>\n",
       "<style scoped>\n",
       "    .dataframe tbody tr th:only-of-type {\n",
       "        vertical-align: middle;\n",
       "    }\n",
       "\n",
       "    .dataframe tbody tr th {\n",
       "        vertical-align: top;\n",
       "    }\n",
       "\n",
       "    .dataframe thead th {\n",
       "        text-align: right;\n",
       "    }\n",
       "</style>\n",
       "<table border=\"1\" class=\"dataframe\">\n",
       "  <thead>\n",
       "    <tr style=\"text-align: right;\">\n",
       "      <th></th>\n",
       "      <th>tariff</th>\n",
       "      <th>mess</th>\n",
       "    </tr>\n",
       "  </thead>\n",
       "  <tbody>\n",
       "    <tr>\n",
       "      <td>0</td>\n",
       "      <td>smart</td>\n",
       "      <td>38</td>\n",
       "    </tr>\n",
       "    <tr>\n",
       "      <td>1</td>\n",
       "      <td>ultra</td>\n",
       "      <td>61</td>\n",
       "    </tr>\n",
       "  </tbody>\n",
       "</table>\n",
       "</div>"
      ],
      "text/plain": [
       "  tariff  mess\n",
       "0  smart    38\n",
       "1  ultra    61"
      ]
     },
     "execution_count": 77,
     "metadata": {},
     "output_type": "execute_result"
    }
   ],
   "source": [
    "#Сравнение потребности в сообщениях клиентов с разными тарифными планами\n",
    "comparison_tariffs_messages=new_data.pivot_table(index =['tariff'], aggfunc = {'mess':'mean'}).reset_index()\n",
    "comparison_tariffs_messages['mess']=comparison_tariffs_messages['mess'].astype(int)\n",
    "comparison_tariffs_messages.head()"
   ]
  },
  {
   "cell_type": "code",
   "execution_count": 78,
   "metadata": {},
   "outputs": [
    {
     "data": {
      "text/plain": [
       "Text(0, 0.5, 'Сообщения')"
      ]
     },
     "execution_count": 78,
     "metadata": {},
     "output_type": "execute_result"
    },
    {
     "data": {
      "image/png": "[encoded data removed]",
      "text/plain": [
       "<Figure size 432x288 with 1 Axes>"
      ]
     },
     "metadata": {
      "needs_background": "light"
     },
     "output_type": "display_data"
    }
   ],
   "source": [
    "# Визуализация сравнения тарифов\n",
    "comparison_tariffs_messages.plot.bar(x='tariff', y='mess', color='green')\n",
    "plt.title('Продолжительность звонков пользователей с тарифам Ultra и Smart')\n",
    "plt.xlabel(\"Тарифы\")\n",
    "plt.ylabel(\"Сообщения\")"
   ]
  },
  {
   "cell_type": "markdown",
   "metadata": {},
   "source": [
    "### Потребности клиентов в объёме интернет-трафика"
   ]
  },
  {
   "cell_type": "markdown",
   "metadata": {},
   "source": [
    "#### Смарт"
   ]
  },
  {
   "cell_type": "code",
   "execution_count": 79,
   "metadata": {},
   "outputs": [
    {
     "data": {
      "text/html": [
       "<div>\n",
       "<style scoped>\n",
       "    .dataframe tbody tr th:only-of-type {\n",
       "        vertical-align: middle;\n",
       "    }\n",
       "\n",
       "    .dataframe tbody tr th {\n",
       "        vertical-align: top;\n",
       "    }\n",
       "\n",
       "    .dataframe thead th {\n",
       "        text-align: right;\n",
       "    }\n",
       "</style>\n",
       "<table border=\"1\" class=\"dataframe\">\n",
       "  <thead>\n",
       "    <tr style=\"text-align: right;\">\n",
       "      <th></th>\n",
       "      <th>index_x</th>\n",
       "      <th>user_id</th>\n",
       "      <th>age_x</th>\n",
       "      <th>churn_date</th>\n",
       "      <th>city</th>\n",
       "      <th>first_name</th>\n",
       "      <th>last_name</th>\n",
       "      <th>reg_date</th>\n",
       "      <th>tariff</th>\n",
       "      <th>month</th>\n",
       "      <th>...</th>\n",
       "      <th>used_gb</th>\n",
       "      <th>messages_included</th>\n",
       "      <th>mb_per_month_included</th>\n",
       "      <th>minutes_included</th>\n",
       "      <th>rub_monthly_fee</th>\n",
       "      <th>rub_per_gb</th>\n",
       "      <th>rub_per_message</th>\n",
       "      <th>rub_per_minute</th>\n",
       "      <th>gb_per_month_included</th>\n",
       "      <th>revenue</th>\n",
       "    </tr>\n",
       "  </thead>\n",
       "  <tbody>\n",
       "    <tr>\n",
       "      <td>8</td>\n",
       "      <td>8</td>\n",
       "      <td>1001</td>\n",
       "      <td>41</td>\n",
       "      <td>NaN</td>\n",
       "      <td>Москва</td>\n",
       "      <td>Иван</td>\n",
       "      <td>Ежов</td>\n",
       "      <td>2018-11-01</td>\n",
       "      <td>smart</td>\n",
       "      <td>11.0</td>\n",
       "      <td>...</td>\n",
       "      <td>18.0</td>\n",
       "      <td>50</td>\n",
       "      <td>15360</td>\n",
       "      <td>500</td>\n",
       "      <td>550</td>\n",
       "      <td>200</td>\n",
       "      <td>3</td>\n",
       "      <td>3</td>\n",
       "      <td>15</td>\n",
       "      <td>1150.0</td>\n",
       "    </tr>\n",
       "    <tr>\n",
       "      <td>9</td>\n",
       "      <td>9</td>\n",
       "      <td>1001</td>\n",
       "      <td>41</td>\n",
       "      <td>NaN</td>\n",
       "      <td>Москва</td>\n",
       "      <td>Иван</td>\n",
       "      <td>Ежов</td>\n",
       "      <td>2018-11-01</td>\n",
       "      <td>smart</td>\n",
       "      <td>12.0</td>\n",
       "      <td>...</td>\n",
       "      <td>14.0</td>\n",
       "      <td>50</td>\n",
       "      <td>15360</td>\n",
       "      <td>500</td>\n",
       "      <td>550</td>\n",
       "      <td>200</td>\n",
       "      <td>3</td>\n",
       "      <td>3</td>\n",
       "      <td>15</td>\n",
       "      <td>550.0</td>\n",
       "    </tr>\n",
       "    <tr>\n",
       "      <td>10</td>\n",
       "      <td>10</td>\n",
       "      <td>1002</td>\n",
       "      <td>59</td>\n",
       "      <td>NaN</td>\n",
       "      <td>Стерлитамак</td>\n",
       "      <td>Евгений</td>\n",
       "      <td>Абрамович</td>\n",
       "      <td>2018-06-17</td>\n",
       "      <td>smart</td>\n",
       "      <td>6.0</td>\n",
       "      <td>...</td>\n",
       "      <td>11.0</td>\n",
       "      <td>50</td>\n",
       "      <td>15360</td>\n",
       "      <td>500</td>\n",
       "      <td>550</td>\n",
       "      <td>200</td>\n",
       "      <td>3</td>\n",
       "      <td>3</td>\n",
       "      <td>15</td>\n",
       "      <td>550.0</td>\n",
       "    </tr>\n",
       "    <tr>\n",
       "      <td>11</td>\n",
       "      <td>11</td>\n",
       "      <td>1002</td>\n",
       "      <td>59</td>\n",
       "      <td>NaN</td>\n",
       "      <td>Стерлитамак</td>\n",
       "      <td>Евгений</td>\n",
       "      <td>Абрамович</td>\n",
       "      <td>2018-06-17</td>\n",
       "      <td>smart</td>\n",
       "      <td>7.0</td>\n",
       "      <td>...</td>\n",
       "      <td>18.0</td>\n",
       "      <td>50</td>\n",
       "      <td>15360</td>\n",
       "      <td>500</td>\n",
       "      <td>550</td>\n",
       "      <td>200</td>\n",
       "      <td>3</td>\n",
       "      <td>3</td>\n",
       "      <td>15</td>\n",
       "      <td>1150.0</td>\n",
       "    </tr>\n",
       "    <tr>\n",
       "      <td>12</td>\n",
       "      <td>12</td>\n",
       "      <td>1002</td>\n",
       "      <td>59</td>\n",
       "      <td>NaN</td>\n",
       "      <td>Стерлитамак</td>\n",
       "      <td>Евгений</td>\n",
       "      <td>Абрамович</td>\n",
       "      <td>2018-06-17</td>\n",
       "      <td>smart</td>\n",
       "      <td>8.0</td>\n",
       "      <td>...</td>\n",
       "      <td>20.0</td>\n",
       "      <td>50</td>\n",
       "      <td>15360</td>\n",
       "      <td>500</td>\n",
       "      <td>550</td>\n",
       "      <td>200</td>\n",
       "      <td>3</td>\n",
       "      <td>3</td>\n",
       "      <td>15</td>\n",
       "      <td>1550.0</td>\n",
       "    </tr>\n",
       "  </tbody>\n",
       "</table>\n",
       "<p>5 rows × 27 columns</p>\n",
       "</div>"
      ],
      "text/plain": [
       "    index_x  user_id  age_x churn_date         city first_name  last_name  \\\n",
       "8         8     1001     41        NaN       Москва       Иван       Ежов   \n",
       "9         9     1001     41        NaN       Москва       Иван       Ежов   \n",
       "10       10     1002     59        NaN  Стерлитамак    Евгений  Абрамович   \n",
       "11       11     1002     59        NaN  Стерлитамак    Евгений  Абрамович   \n",
       "12       12     1002     59        NaN  Стерлитамак    Евгений  Абрамович   \n",
       "\n",
       "      reg_date tariff  month  ...  used_gb  messages_included  \\\n",
       "8   2018-11-01  smart   11.0  ...     18.0                 50   \n",
       "9   2018-11-01  smart   12.0  ...     14.0                 50   \n",
       "10  2018-06-17  smart    6.0  ...     11.0                 50   \n",
       "11  2018-06-17  smart    7.0  ...     18.0                 50   \n",
       "12  2018-06-17  smart    8.0  ...     20.0                 50   \n",
       "\n",
       "    mb_per_month_included  minutes_included  rub_monthly_fee  rub_per_gb  \\\n",
       "8                   15360               500              550         200   \n",
       "9                   15360               500              550         200   \n",
       "10                  15360               500              550         200   \n",
       "11                  15360               500              550         200   \n",
       "12                  15360               500              550         200   \n",
       "\n",
       "    rub_per_message  rub_per_minute  gb_per_month_included  revenue  \n",
       "8                 3               3                     15   1150.0  \n",
       "9                 3               3                     15    550.0  \n",
       "10                3               3                     15    550.0  \n",
       "11                3               3                     15   1150.0  \n",
       "12                3               3                     15   1550.0  \n",
       "\n",
       "[5 rows x 27 columns]"
      ]
     },
     "execution_count": 79,
     "metadata": {},
     "output_type": "execute_result"
    }
   ],
   "source": [
    "#Сначала рассматриваю и считаю данные для тарифа Smart\n",
    "smart_calls.head()"
   ]
  },
  {
   "cell_type": "code",
   "execution_count": 80,
   "metadata": {},
   "outputs": [
    {
     "data": {
      "text/plain": [
       "16"
      ]
     },
     "execution_count": 80,
     "metadata": {},
     "output_type": "execute_result"
    }
   ],
   "source": [
    "# Средний объём интернет-трафика у пользователей тарифа smart\n",
    "u1_mean=smart_calls['used_gb'].mean().astype(int)\n",
    "u1_mean"
   ]
  },
  {
   "cell_type": "code",
   "execution_count": 81,
   "metadata": {},
   "outputs": [
    {
     "data": {
      "text/plain": [
       "32.99"
      ]
     },
     "execution_count": 81,
     "metadata": {},
     "output_type": "execute_result"
    }
   ],
   "source": [
    "# Дисперсия по выборке объёма интернет-трафика пользователей тарифа smart\n",
    "disp5=np.var(smart_calls['used_gb'], ddof=1).round(2)\n",
    "disp5"
   ]
  },
  {
   "cell_type": "code",
   "execution_count": 82,
   "metadata": {},
   "outputs": [
    {
     "data": {
      "text/plain": [
       "5.74"
      ]
     },
     "execution_count": 82,
     "metadata": {},
     "output_type": "execute_result"
    }
   ],
   "source": [
    "# Стандартное отклонение по объёму интернет-трафика пользователей тарифа smart\n",
    "o_u1=np.sqrt(disp5).round(2)\n",
    "o_u1"
   ]
  },
  {
   "cell_type": "code",
   "execution_count": 83,
   "metadata": {},
   "outputs": [
    {
     "data": {
      "text/plain": [
       "0.5"
      ]
     },
     "execution_count": 83,
     "metadata": {},
     "output_type": "execute_result"
    }
   ],
   "source": [
    "#Распределение\n",
    "distr5 = st.norm(u1_mean, o_u1) \n",
    "x = u1_mean\n",
    "distr5.cdf(x) "
   ]
  },
  {
   "cell_type": "code",
   "execution_count": 84,
   "metadata": {},
   "outputs": [
    {
     "data": {
      "text/plain": [
       "Text(0.5, 0, 'количество гигабайт')"
      ]
     },
     "execution_count": 84,
     "metadata": {},
     "output_type": "execute_result"
    },
    {
     "data": {
      "image/png": "[encoded data removed]",
      "text/plain": [
       "<Figure size 432x288 with 1 Axes>"
      ]
     },
     "metadata": {
      "needs_background": "light"
     },
     "output_type": "display_data"
    }
   ],
   "source": [
    "# Гистограмма по объёму интренет-трафика пользователей тарифа smart\n",
    "smart_calls['used_gb'].hist()\n",
    "plt.title('Объём интренета у пользователей с тарифом Smart')\n",
    "plt.xlabel(\"количество гигабайт\")"
   ]
  },
  {
   "cell_type": "markdown",
   "metadata": {},
   "source": [
    "#### Ультра"
   ]
  },
  {
   "cell_type": "code",
   "execution_count": 85,
   "metadata": {},
   "outputs": [
    {
     "data": {
      "text/html": [
       "<div>\n",
       "<style scoped>\n",
       "    .dataframe tbody tr th:only-of-type {\n",
       "        vertical-align: middle;\n",
       "    }\n",
       "\n",
       "    .dataframe tbody tr th {\n",
       "        vertical-align: top;\n",
       "    }\n",
       "\n",
       "    .dataframe thead th {\n",
       "        text-align: right;\n",
       "    }\n",
       "</style>\n",
       "<table border=\"1\" class=\"dataframe\">\n",
       "  <thead>\n",
       "    <tr style=\"text-align: right;\">\n",
       "      <th></th>\n",
       "      <th>index_x</th>\n",
       "      <th>user_id</th>\n",
       "      <th>age_x</th>\n",
       "      <th>churn_date</th>\n",
       "      <th>city</th>\n",
       "      <th>first_name</th>\n",
       "      <th>last_name</th>\n",
       "      <th>reg_date</th>\n",
       "      <th>tariff</th>\n",
       "      <th>month</th>\n",
       "      <th>...</th>\n",
       "      <th>used_gb</th>\n",
       "      <th>messages_included</th>\n",
       "      <th>mb_per_month_included</th>\n",
       "      <th>minutes_included</th>\n",
       "      <th>rub_monthly_fee</th>\n",
       "      <th>rub_per_gb</th>\n",
       "      <th>rub_per_message</th>\n",
       "      <th>rub_per_minute</th>\n",
       "      <th>gb_per_month_included</th>\n",
       "      <th>revenue</th>\n",
       "    </tr>\n",
       "  </thead>\n",
       "  <tbody>\n",
       "    <tr>\n",
       "      <td>0</td>\n",
       "      <td>0</td>\n",
       "      <td>1000</td>\n",
       "      <td>52</td>\n",
       "      <td>NaN</td>\n",
       "      <td>Краснодар</td>\n",
       "      <td>Рафаил</td>\n",
       "      <td>Верещагин</td>\n",
       "      <td>2018-05-25</td>\n",
       "      <td>ultra</td>\n",
       "      <td>5.0</td>\n",
       "      <td>...</td>\n",
       "      <td>3.0</td>\n",
       "      <td>1000</td>\n",
       "      <td>30720</td>\n",
       "      <td>3000</td>\n",
       "      <td>1950</td>\n",
       "      <td>150</td>\n",
       "      <td>1</td>\n",
       "      <td>1</td>\n",
       "      <td>30</td>\n",
       "      <td>1950.0</td>\n",
       "    </tr>\n",
       "    <tr>\n",
       "      <td>1</td>\n",
       "      <td>1</td>\n",
       "      <td>1000</td>\n",
       "      <td>52</td>\n",
       "      <td>NaN</td>\n",
       "      <td>Краснодар</td>\n",
       "      <td>Рафаил</td>\n",
       "      <td>Верещагин</td>\n",
       "      <td>2018-05-25</td>\n",
       "      <td>ultra</td>\n",
       "      <td>6.0</td>\n",
       "      <td>...</td>\n",
       "      <td>23.0</td>\n",
       "      <td>1000</td>\n",
       "      <td>30720</td>\n",
       "      <td>3000</td>\n",
       "      <td>1950</td>\n",
       "      <td>150</td>\n",
       "      <td>1</td>\n",
       "      <td>1</td>\n",
       "      <td>30</td>\n",
       "      <td>1950.0</td>\n",
       "    </tr>\n",
       "    <tr>\n",
       "      <td>2</td>\n",
       "      <td>2</td>\n",
       "      <td>1000</td>\n",
       "      <td>52</td>\n",
       "      <td>NaN</td>\n",
       "      <td>Краснодар</td>\n",
       "      <td>Рафаил</td>\n",
       "      <td>Верещагин</td>\n",
       "      <td>2018-05-25</td>\n",
       "      <td>ultra</td>\n",
       "      <td>7.0</td>\n",
       "      <td>...</td>\n",
       "      <td>14.0</td>\n",
       "      <td>1000</td>\n",
       "      <td>30720</td>\n",
       "      <td>3000</td>\n",
       "      <td>1950</td>\n",
       "      <td>150</td>\n",
       "      <td>1</td>\n",
       "      <td>1</td>\n",
       "      <td>30</td>\n",
       "      <td>1950.0</td>\n",
       "    </tr>\n",
       "    <tr>\n",
       "      <td>3</td>\n",
       "      <td>3</td>\n",
       "      <td>1000</td>\n",
       "      <td>52</td>\n",
       "      <td>NaN</td>\n",
       "      <td>Краснодар</td>\n",
       "      <td>Рафаил</td>\n",
       "      <td>Верещагин</td>\n",
       "      <td>2018-05-25</td>\n",
       "      <td>ultra</td>\n",
       "      <td>8.0</td>\n",
       "      <td>...</td>\n",
       "      <td>14.0</td>\n",
       "      <td>1000</td>\n",
       "      <td>30720</td>\n",
       "      <td>3000</td>\n",
       "      <td>1950</td>\n",
       "      <td>150</td>\n",
       "      <td>1</td>\n",
       "      <td>1</td>\n",
       "      <td>30</td>\n",
       "      <td>1950.0</td>\n",
       "    </tr>\n",
       "    <tr>\n",
       "      <td>4</td>\n",
       "      <td>4</td>\n",
       "      <td>1000</td>\n",
       "      <td>52</td>\n",
       "      <td>NaN</td>\n",
       "      <td>Краснодар</td>\n",
       "      <td>Рафаил</td>\n",
       "      <td>Верещагин</td>\n",
       "      <td>2018-05-25</td>\n",
       "      <td>ultra</td>\n",
       "      <td>9.0</td>\n",
       "      <td>...</td>\n",
       "      <td>15.0</td>\n",
       "      <td>1000</td>\n",
       "      <td>30720</td>\n",
       "      <td>3000</td>\n",
       "      <td>1950</td>\n",
       "      <td>150</td>\n",
       "      <td>1</td>\n",
       "      <td>1</td>\n",
       "      <td>30</td>\n",
       "      <td>1950.0</td>\n",
       "    </tr>\n",
       "  </tbody>\n",
       "</table>\n",
       "<p>5 rows × 27 columns</p>\n",
       "</div>"
      ],
      "text/plain": [
       "   index_x  user_id  age_x churn_date       city first_name  last_name  \\\n",
       "0        0     1000     52        NaN  Краснодар     Рафаил  Верещагин   \n",
       "1        1     1000     52        NaN  Краснодар     Рафаил  Верещагин   \n",
       "2        2     1000     52        NaN  Краснодар     Рафаил  Верещагин   \n",
       "3        3     1000     52        NaN  Краснодар     Рафаил  Верещагин   \n",
       "4        4     1000     52        NaN  Краснодар     Рафаил  Верещагин   \n",
       "\n",
       "     reg_date tariff  month  ...  used_gb  messages_included  \\\n",
       "0  2018-05-25  ultra    5.0  ...      3.0               1000   \n",
       "1  2018-05-25  ultra    6.0  ...     23.0               1000   \n",
       "2  2018-05-25  ultra    7.0  ...     14.0               1000   \n",
       "3  2018-05-25  ultra    8.0  ...     14.0               1000   \n",
       "4  2018-05-25  ultra    9.0  ...     15.0               1000   \n",
       "\n",
       "   mb_per_month_included  minutes_included  rub_monthly_fee  rub_per_gb  \\\n",
       "0                  30720              3000             1950         150   \n",
       "1                  30720              3000             1950         150   \n",
       "2                  30720              3000             1950         150   \n",
       "3                  30720              3000             1950         150   \n",
       "4                  30720              3000             1950         150   \n",
       "\n",
       "   rub_per_message  rub_per_minute  gb_per_month_included  revenue  \n",
       "0                1               1                     30   1950.0  \n",
       "1                1               1                     30   1950.0  \n",
       "2                1               1                     30   1950.0  \n",
       "3                1               1                     30   1950.0  \n",
       "4                1               1                     30   1950.0  \n",
       "\n",
       "[5 rows x 27 columns]"
      ]
     },
     "execution_count": 85,
     "metadata": {},
     "output_type": "execute_result"
    }
   ],
   "source": [
    "#Данные для тарифа Ultra\n",
    "ultra_calls.head()"
   ]
  },
  {
   "cell_type": "code",
   "execution_count": 86,
   "metadata": {},
   "outputs": [
    {
     "data": {
      "text/plain": [
       "19"
      ]
     },
     "execution_count": 86,
     "metadata": {},
     "output_type": "execute_result"
    }
   ],
   "source": [
    "# Средний объём интернет-трафика у пользователей тарифа ultra\n",
    "u2_mean=ultra_calls['used_gb'].mean().astype(int)\n",
    "u2_mean"
   ]
  },
  {
   "cell_type": "code",
   "execution_count": 87,
   "metadata": {},
   "outputs": [
    {
     "data": {
      "text/plain": [
       "94.78"
      ]
     },
     "execution_count": 87,
     "metadata": {},
     "output_type": "execute_result"
    }
   ],
   "source": [
    "# Дисперсия по выборке объёма интернет-трафика пользователей тарифа Ultra\n",
    "disp6=np.var(ultra_calls['used_gb'], ddof=1).round(2)\n",
    "disp6"
   ]
  },
  {
   "cell_type": "code",
   "execution_count": 88,
   "metadata": {},
   "outputs": [
    {
     "data": {
      "text/plain": [
       "9.74"
      ]
     },
     "execution_count": 88,
     "metadata": {},
     "output_type": "execute_result"
    }
   ],
   "source": [
    "# Стандартное отклонение по объёму интернет-трафика пользователей тарифа Ultra\n",
    "o_u2=np.sqrt(disp6).round(2)\n",
    "o_u2"
   ]
  },
  {
   "cell_type": "code",
   "execution_count": 89,
   "metadata": {
    "scrolled": true
   },
   "outputs": [
    {
     "data": {
      "text/plain": [
       "0.5"
      ]
     },
     "execution_count": 89,
     "metadata": {},
     "output_type": "execute_result"
    }
   ],
   "source": [
    "#Распределение\n",
    "distr6 = st.norm(u2_mean, o_u2) \n",
    "x = u2_mean\n",
    "distr6.cdf(x) "
   ]
  },
  {
   "cell_type": "code",
   "execution_count": 90,
   "metadata": {
    "scrolled": true
   },
   "outputs": [
    {
     "data": {
      "text/plain": [
       "Text(0.5, 0, 'количество гигабайт')"
      ]
     },
     "execution_count": 90,
     "metadata": {},
     "output_type": "execute_result"
    },
    {
     "data": {
      "image/png": "[encoded data removed]",
      "text/plain": [
       "<Figure size 432x288 with 1 Axes>"
      ]
     },
     "metadata": {
      "needs_background": "light"
     },
     "output_type": "display_data"
    }
   ],
   "source": [
    "# Гистограмма по объёму интренет-трафика пользователей тарифа Ultra\n",
    "ultra_calls['used_gb'].hist()\n",
    "plt.title('Объём интренета у пользователей с тарифом Ultra')\n",
    "plt.xlabel(\"количество гигабайт\")"
   ]
  },
  {
   "cell_type": "markdown",
   "metadata": {},
   "source": [
    "#### Сравнение тарифов"
   ]
  },
  {
   "cell_type": "code",
   "execution_count": 91,
   "metadata": {},
   "outputs": [
    {
     "data": {
      "text/html": [
       "<div>\n",
       "<style scoped>\n",
       "    .dataframe tbody tr th:only-of-type {\n",
       "        vertical-align: middle;\n",
       "    }\n",
       "\n",
       "    .dataframe tbody tr th {\n",
       "        vertical-align: top;\n",
       "    }\n",
       "\n",
       "    .dataframe thead th {\n",
       "        text-align: right;\n",
       "    }\n",
       "</style>\n",
       "<table border=\"1\" class=\"dataframe\">\n",
       "  <thead>\n",
       "    <tr style=\"text-align: right;\">\n",
       "      <th></th>\n",
       "      <th>tariff</th>\n",
       "      <th>used_gb</th>\n",
       "    </tr>\n",
       "  </thead>\n",
       "  <tbody>\n",
       "    <tr>\n",
       "      <td>0</td>\n",
       "      <td>smart</td>\n",
       "      <td>16</td>\n",
       "    </tr>\n",
       "    <tr>\n",
       "      <td>1</td>\n",
       "      <td>ultra</td>\n",
       "      <td>19</td>\n",
       "    </tr>\n",
       "  </tbody>\n",
       "</table>\n",
       "</div>"
      ],
      "text/plain": [
       "  tariff  used_gb\n",
       "0  smart       16\n",
       "1  ultra       19"
      ]
     },
     "execution_count": 91,
     "metadata": {},
     "output_type": "execute_result"
    }
   ],
   "source": [
    "#Сравнение потребности в сообщениях клиентов с разными тарифными планами\n",
    "comparison_tariffs_internet=new_data.pivot_table(index =['tariff'], aggfunc = {'used_gb':'mean'}).reset_index()\n",
    "comparison_tariffs_internet['used_gb']=comparison_tariffs_internet['used_gb'].astype(int)\n",
    "comparison_tariffs_internet.head()"
   ]
  },
  {
   "cell_type": "code",
   "execution_count": 92,
   "metadata": {},
   "outputs": [
    {
     "data": {
      "text/plain": [
       "Text(0, 0.5, 'Звонки')"
      ]
     },
     "execution_count": 92,
     "metadata": {},
     "output_type": "execute_result"
    },
    {
     "data": {
      "image/png": "[encoded data removed]",
      "text/plain": [
       "<Figure size 432x288 with 1 Axes>"
      ]
     },
     "metadata": {
      "needs_background": "light"
     },
     "output_type": "display_data"
    }
   ],
   "source": [
    "# Визуализация сравнения тарифов\n",
    "comparison_tariffs_internet.plot.bar(x='tariff', y='used_gb', color='green')\n",
    "plt.title('Использование интернет-трафика пользователей с тарифам Ultra и Smart')\n",
    "plt.xlabel(\"Тарифы\")\n",
    "plt.ylabel(\"Звонки\")"
   ]
  },
  {
   "cell_type": "markdown",
   "metadata": {},
   "source": [
    "*Для наглядности, визуализирую данные по всем требуемым услугам в каждои тарифном плане*"
   ]
  },
  {
   "cell_type": "code",
   "execution_count": 93,
   "metadata": {},
   "outputs": [
    {
     "data": {
      "text/plain": [
       "Text(0.5, 0.98, 'Оценка потребности в услугах клиентов с тарифом Smart')"
      ]
     },
     "execution_count": 93,
     "metadata": {},
     "output_type": "execute_result"
    },
    {
     "data": {
      "image/png": "[encoded data removed]",
      "text/plain": [
       "<Figure size 540x540 with 12 Axes>"
      ]
     },
     "metadata": {
      "needs_background": "light"
     },
     "output_type": "display_data"
    }
   ],
   "source": [
    "#Тарифный план Smart\n",
    "sb_plot = sb.pairplot(smart_calls[['sum_calls', 'mess', 'used_gb']])\n",
    "sb_plot.savefig('pairplot.png')\n",
    "\n",
    "plt.suptitle('Оценка потребности в услугах клиентов с тарифом Smart')"
   ]
  },
  {
   "cell_type": "code",
   "execution_count": 94,
   "metadata": {},
   "outputs": [
    {
     "data": {
      "text/plain": [
       "Text(0.5, 0.98, 'Оценка потребности в услугах клиентов с тарифом Ultra')"
      ]
     },
     "execution_count": 94,
     "metadata": {},
     "output_type": "execute_result"
    },
    {
     "data": {
      "image/png": "[encoded data removed]",
      "text/plain": [
       "<Figure size 540x540 with 12 Axes>"
      ]
     },
     "metadata": {
      "needs_background": "light"
     },
     "output_type": "display_data"
    }
   ],
   "source": [
    "# Тарифный план Ultra\n",
    "sb_plot = sb.pairplot(ultra_calls[['sum_calls', 'mess', 'used_gb']])\n",
    "sb_plot.savefig('pairplot.png')\n",
    "\n",
    "plt.suptitle('Оценка потребности в услугах клиентов с тарифом Ultra')"
   ]
  },
  {
   "cell_type": "markdown",
   "metadata": {},
   "source": [
    "### Выводы"
   ]
  },
  {
   "cell_type": "markdown",
   "metadata": {},
   "source": [
    "Проанализировав данные выборки могу сказать следующие:\n",
    "- Потребности в услугах абонентов разных отличаются и в некоторых случаях не соответсвуют пакетным предложениям. Средняя продолжительность звонка в рамках Smart - 419 минут в месяц, а Ultra 548 при пакетных 500 и 3000 соответсвенно. Пользователи сообщений отправляют в рамках тарифных планов. 38 и 61 для Smart и Ultra, соответственно. А объём интернета, необходимого клиентам распределёе иначе: клиенты со Smart тарифпм расходуют в среднем 16 Гб в месяц (в пакете 15), в клиенты с Ultra - 19Гб (в пакете 30).\n",
    "- Визуально и согласно формуле, все проанализированные данные выборки распределены нормально. Это может свидетельствовать о нормальном распределении генеральной совокупности."
   ]
  },
  {
   "cell_type": "markdown",
   "metadata": {},
   "source": [
    "## Проверка гипотез"
   ]
  },
  {
   "cell_type": "markdown",
   "metadata": {},
   "source": [
    "### Средняя выручка пользователей тарифов «Ультра» и «Смарт» различаются"
   ]
  },
  {
   "cell_type": "markdown",
   "metadata": {},
   "source": [
    "*Чтобы проверить данну. гипотезу, надо определить среднее необходимого значению по каждому тарифу отдельно. И после этого сравнить среднее пбеих выборок.*\n",
    "У нас уже есть две таблицы с данными по услугам клиентов с тарифами `Smart`  `Ultra`. Посчитаю по каждой среднее."
   ]
  },
  {
   "cell_type": "code",
   "execution_count": 95,
   "metadata": {
    "scrolled": true
   },
   "outputs": [
    {
     "data": {
      "text/html": [
       "<div>\n",
       "<style scoped>\n",
       "    .dataframe tbody tr th:only-of-type {\n",
       "        vertical-align: middle;\n",
       "    }\n",
       "\n",
       "    .dataframe tbody tr th {\n",
       "        vertical-align: top;\n",
       "    }\n",
       "\n",
       "    .dataframe thead th {\n",
       "        text-align: right;\n",
       "    }\n",
       "</style>\n",
       "<table border=\"1\" class=\"dataframe\">\n",
       "  <thead>\n",
       "    <tr style=\"text-align: right;\">\n",
       "      <th></th>\n",
       "      <th>index_x</th>\n",
       "      <th>user_id</th>\n",
       "      <th>age_x</th>\n",
       "      <th>churn_date</th>\n",
       "      <th>city</th>\n",
       "      <th>first_name</th>\n",
       "      <th>last_name</th>\n",
       "      <th>reg_date</th>\n",
       "      <th>tariff</th>\n",
       "      <th>month</th>\n",
       "      <th>...</th>\n",
       "      <th>used_gb</th>\n",
       "      <th>messages_included</th>\n",
       "      <th>mb_per_month_included</th>\n",
       "      <th>minutes_included</th>\n",
       "      <th>rub_monthly_fee</th>\n",
       "      <th>rub_per_gb</th>\n",
       "      <th>rub_per_message</th>\n",
       "      <th>rub_per_minute</th>\n",
       "      <th>gb_per_month_included</th>\n",
       "      <th>revenue</th>\n",
       "    </tr>\n",
       "  </thead>\n",
       "  <tbody>\n",
       "    <tr>\n",
       "      <td>8</td>\n",
       "      <td>8</td>\n",
       "      <td>1001</td>\n",
       "      <td>41</td>\n",
       "      <td>NaN</td>\n",
       "      <td>Москва</td>\n",
       "      <td>Иван</td>\n",
       "      <td>Ежов</td>\n",
       "      <td>2018-11-01</td>\n",
       "      <td>smart</td>\n",
       "      <td>11.0</td>\n",
       "      <td>...</td>\n",
       "      <td>18.0</td>\n",
       "      <td>50</td>\n",
       "      <td>15360</td>\n",
       "      <td>500</td>\n",
       "      <td>550</td>\n",
       "      <td>200</td>\n",
       "      <td>3</td>\n",
       "      <td>3</td>\n",
       "      <td>15</td>\n",
       "      <td>1150.0</td>\n",
       "    </tr>\n",
       "    <tr>\n",
       "      <td>9</td>\n",
       "      <td>9</td>\n",
       "      <td>1001</td>\n",
       "      <td>41</td>\n",
       "      <td>NaN</td>\n",
       "      <td>Москва</td>\n",
       "      <td>Иван</td>\n",
       "      <td>Ежов</td>\n",
       "      <td>2018-11-01</td>\n",
       "      <td>smart</td>\n",
       "      <td>12.0</td>\n",
       "      <td>...</td>\n",
       "      <td>14.0</td>\n",
       "      <td>50</td>\n",
       "      <td>15360</td>\n",
       "      <td>500</td>\n",
       "      <td>550</td>\n",
       "      <td>200</td>\n",
       "      <td>3</td>\n",
       "      <td>3</td>\n",
       "      <td>15</td>\n",
       "      <td>550.0</td>\n",
       "    </tr>\n",
       "    <tr>\n",
       "      <td>10</td>\n",
       "      <td>10</td>\n",
       "      <td>1002</td>\n",
       "      <td>59</td>\n",
       "      <td>NaN</td>\n",
       "      <td>Стерлитамак</td>\n",
       "      <td>Евгений</td>\n",
       "      <td>Абрамович</td>\n",
       "      <td>2018-06-17</td>\n",
       "      <td>smart</td>\n",
       "      <td>6.0</td>\n",
       "      <td>...</td>\n",
       "      <td>11.0</td>\n",
       "      <td>50</td>\n",
       "      <td>15360</td>\n",
       "      <td>500</td>\n",
       "      <td>550</td>\n",
       "      <td>200</td>\n",
       "      <td>3</td>\n",
       "      <td>3</td>\n",
       "      <td>15</td>\n",
       "      <td>550.0</td>\n",
       "    </tr>\n",
       "    <tr>\n",
       "      <td>11</td>\n",
       "      <td>11</td>\n",
       "      <td>1002</td>\n",
       "      <td>59</td>\n",
       "      <td>NaN</td>\n",
       "      <td>Стерлитамак</td>\n",
       "      <td>Евгений</td>\n",
       "      <td>Абрамович</td>\n",
       "      <td>2018-06-17</td>\n",
       "      <td>smart</td>\n",
       "      <td>7.0</td>\n",
       "      <td>...</td>\n",
       "      <td>18.0</td>\n",
       "      <td>50</td>\n",
       "      <td>15360</td>\n",
       "      <td>500</td>\n",
       "      <td>550</td>\n",
       "      <td>200</td>\n",
       "      <td>3</td>\n",
       "      <td>3</td>\n",
       "      <td>15</td>\n",
       "      <td>1150.0</td>\n",
       "    </tr>\n",
       "    <tr>\n",
       "      <td>12</td>\n",
       "      <td>12</td>\n",
       "      <td>1002</td>\n",
       "      <td>59</td>\n",
       "      <td>NaN</td>\n",
       "      <td>Стерлитамак</td>\n",
       "      <td>Евгений</td>\n",
       "      <td>Абрамович</td>\n",
       "      <td>2018-06-17</td>\n",
       "      <td>smart</td>\n",
       "      <td>8.0</td>\n",
       "      <td>...</td>\n",
       "      <td>20.0</td>\n",
       "      <td>50</td>\n",
       "      <td>15360</td>\n",
       "      <td>500</td>\n",
       "      <td>550</td>\n",
       "      <td>200</td>\n",
       "      <td>3</td>\n",
       "      <td>3</td>\n",
       "      <td>15</td>\n",
       "      <td>1550.0</td>\n",
       "    </tr>\n",
       "  </tbody>\n",
       "</table>\n",
       "<p>5 rows × 27 columns</p>\n",
       "</div>"
      ],
      "text/plain": [
       "    index_x  user_id  age_x churn_date         city first_name  last_name  \\\n",
       "8         8     1001     41        NaN       Москва       Иван       Ежов   \n",
       "9         9     1001     41        NaN       Москва       Иван       Ежов   \n",
       "10       10     1002     59        NaN  Стерлитамак    Евгений  Абрамович   \n",
       "11       11     1002     59        NaN  Стерлитамак    Евгений  Абрамович   \n",
       "12       12     1002     59        NaN  Стерлитамак    Евгений  Абрамович   \n",
       "\n",
       "      reg_date tariff  month  ...  used_gb  messages_included  \\\n",
       "8   2018-11-01  smart   11.0  ...     18.0                 50   \n",
       "9   2018-11-01  smart   12.0  ...     14.0                 50   \n",
       "10  2018-06-17  smart    6.0  ...     11.0                 50   \n",
       "11  2018-06-17  smart    7.0  ...     18.0                 50   \n",
       "12  2018-06-17  smart    8.0  ...     20.0                 50   \n",
       "\n",
       "    mb_per_month_included  minutes_included  rub_monthly_fee  rub_per_gb  \\\n",
       "8                   15360               500              550         200   \n",
       "9                   15360               500              550         200   \n",
       "10                  15360               500              550         200   \n",
       "11                  15360               500              550         200   \n",
       "12                  15360               500              550         200   \n",
       "\n",
       "    rub_per_message  rub_per_minute  gb_per_month_included  revenue  \n",
       "8                 3               3                     15   1150.0  \n",
       "9                 3               3                     15    550.0  \n",
       "10                3               3                     15    550.0  \n",
       "11                3               3                     15   1150.0  \n",
       "12                3               3                     15   1550.0  \n",
       "\n",
       "[5 rows x 27 columns]"
      ]
     },
     "execution_count": 95,
     "metadata": {},
     "output_type": "execute_result"
    }
   ],
   "source": [
    "# Данные по тарифу Smart\n",
    "smart_calls.head()"
   ]
  },
  {
   "cell_type": "code",
   "execution_count": 96,
   "metadata": {},
   "outputs": [
    {
     "data": {
      "text/html": [
       "<div>\n",
       "<style scoped>\n",
       "    .dataframe tbody tr th:only-of-type {\n",
       "        vertical-align: middle;\n",
       "    }\n",
       "\n",
       "    .dataframe tbody tr th {\n",
       "        vertical-align: top;\n",
       "    }\n",
       "\n",
       "    .dataframe thead th {\n",
       "        text-align: right;\n",
       "    }\n",
       "</style>\n",
       "<table border=\"1\" class=\"dataframe\">\n",
       "  <thead>\n",
       "    <tr style=\"text-align: right;\">\n",
       "      <th></th>\n",
       "      <th>index_x</th>\n",
       "      <th>user_id</th>\n",
       "      <th>age_x</th>\n",
       "      <th>churn_date</th>\n",
       "      <th>city</th>\n",
       "      <th>first_name</th>\n",
       "      <th>last_name</th>\n",
       "      <th>reg_date</th>\n",
       "      <th>tariff</th>\n",
       "      <th>month</th>\n",
       "      <th>...</th>\n",
       "      <th>used_gb</th>\n",
       "      <th>messages_included</th>\n",
       "      <th>mb_per_month_included</th>\n",
       "      <th>minutes_included</th>\n",
       "      <th>rub_monthly_fee</th>\n",
       "      <th>rub_per_gb</th>\n",
       "      <th>rub_per_message</th>\n",
       "      <th>rub_per_minute</th>\n",
       "      <th>gb_per_month_included</th>\n",
       "      <th>revenue</th>\n",
       "    </tr>\n",
       "  </thead>\n",
       "  <tbody>\n",
       "    <tr>\n",
       "      <td>0</td>\n",
       "      <td>0</td>\n",
       "      <td>1000</td>\n",
       "      <td>52</td>\n",
       "      <td>NaN</td>\n",
       "      <td>Краснодар</td>\n",
       "      <td>Рафаил</td>\n",
       "      <td>Верещагин</td>\n",
       "      <td>2018-05-25</td>\n",
       "      <td>ultra</td>\n",
       "      <td>5.0</td>\n",
       "      <td>...</td>\n",
       "      <td>3.0</td>\n",
       "      <td>1000</td>\n",
       "      <td>30720</td>\n",
       "      <td>3000</td>\n",
       "      <td>1950</td>\n",
       "      <td>150</td>\n",
       "      <td>1</td>\n",
       "      <td>1</td>\n",
       "      <td>30</td>\n",
       "      <td>1950.0</td>\n",
       "    </tr>\n",
       "    <tr>\n",
       "      <td>1</td>\n",
       "      <td>1</td>\n",
       "      <td>1000</td>\n",
       "      <td>52</td>\n",
       "      <td>NaN</td>\n",
       "      <td>Краснодар</td>\n",
       "      <td>Рафаил</td>\n",
       "      <td>Верещагин</td>\n",
       "      <td>2018-05-25</td>\n",
       "      <td>ultra</td>\n",
       "      <td>6.0</td>\n",
       "      <td>...</td>\n",
       "      <td>23.0</td>\n",
       "      <td>1000</td>\n",
       "      <td>30720</td>\n",
       "      <td>3000</td>\n",
       "      <td>1950</td>\n",
       "      <td>150</td>\n",
       "      <td>1</td>\n",
       "      <td>1</td>\n",
       "      <td>30</td>\n",
       "      <td>1950.0</td>\n",
       "    </tr>\n",
       "    <tr>\n",
       "      <td>2</td>\n",
       "      <td>2</td>\n",
       "      <td>1000</td>\n",
       "      <td>52</td>\n",
       "      <td>NaN</td>\n",
       "      <td>Краснодар</td>\n",
       "      <td>Рафаил</td>\n",
       "      <td>Верещагин</td>\n",
       "      <td>2018-05-25</td>\n",
       "      <td>ultra</td>\n",
       "      <td>7.0</td>\n",
       "      <td>...</td>\n",
       "      <td>14.0</td>\n",
       "      <td>1000</td>\n",
       "      <td>30720</td>\n",
       "      <td>3000</td>\n",
       "      <td>1950</td>\n",
       "      <td>150</td>\n",
       "      <td>1</td>\n",
       "      <td>1</td>\n",
       "      <td>30</td>\n",
       "      <td>1950.0</td>\n",
       "    </tr>\n",
       "    <tr>\n",
       "      <td>3</td>\n",
       "      <td>3</td>\n",
       "      <td>1000</td>\n",
       "      <td>52</td>\n",
       "      <td>NaN</td>\n",
       "      <td>Краснодар</td>\n",
       "      <td>Рафаил</td>\n",
       "      <td>Верещагин</td>\n",
       "      <td>2018-05-25</td>\n",
       "      <td>ultra</td>\n",
       "      <td>8.0</td>\n",
       "      <td>...</td>\n",
       "      <td>14.0</td>\n",
       "      <td>1000</td>\n",
       "      <td>30720</td>\n",
       "      <td>3000</td>\n",
       "      <td>1950</td>\n",
       "      <td>150</td>\n",
       "      <td>1</td>\n",
       "      <td>1</td>\n",
       "      <td>30</td>\n",
       "      <td>1950.0</td>\n",
       "    </tr>\n",
       "    <tr>\n",
       "      <td>4</td>\n",
       "      <td>4</td>\n",
       "      <td>1000</td>\n",
       "      <td>52</td>\n",
       "      <td>NaN</td>\n",
       "      <td>Краснодар</td>\n",
       "      <td>Рафаил</td>\n",
       "      <td>Верещагин</td>\n",
       "      <td>2018-05-25</td>\n",
       "      <td>ultra</td>\n",
       "      <td>9.0</td>\n",
       "      <td>...</td>\n",
       "      <td>15.0</td>\n",
       "      <td>1000</td>\n",
       "      <td>30720</td>\n",
       "      <td>3000</td>\n",
       "      <td>1950</td>\n",
       "      <td>150</td>\n",
       "      <td>1</td>\n",
       "      <td>1</td>\n",
       "      <td>30</td>\n",
       "      <td>1950.0</td>\n",
       "    </tr>\n",
       "  </tbody>\n",
       "</table>\n",
       "<p>5 rows × 27 columns</p>\n",
       "</div>"
      ],
      "text/plain": [
       "   index_x  user_id  age_x churn_date       city first_name  last_name  \\\n",
       "0        0     1000     52        NaN  Краснодар     Рафаил  Верещагин   \n",
       "1        1     1000     52        NaN  Краснодар     Рафаил  Верещагин   \n",
       "2        2     1000     52        NaN  Краснодар     Рафаил  Верещагин   \n",
       "3        3     1000     52        NaN  Краснодар     Рафаил  Верещагин   \n",
       "4        4     1000     52        NaN  Краснодар     Рафаил  Верещагин   \n",
       "\n",
       "     reg_date tariff  month  ...  used_gb  messages_included  \\\n",
       "0  2018-05-25  ultra    5.0  ...      3.0               1000   \n",
       "1  2018-05-25  ultra    6.0  ...     23.0               1000   \n",
       "2  2018-05-25  ultra    7.0  ...     14.0               1000   \n",
       "3  2018-05-25  ultra    8.0  ...     14.0               1000   \n",
       "4  2018-05-25  ultra    9.0  ...     15.0               1000   \n",
       "\n",
       "   mb_per_month_included  minutes_included  rub_monthly_fee  rub_per_gb  \\\n",
       "0                  30720              3000             1950         150   \n",
       "1                  30720              3000             1950         150   \n",
       "2                  30720              3000             1950         150   \n",
       "3                  30720              3000             1950         150   \n",
       "4                  30720              3000             1950         150   \n",
       "\n",
       "   rub_per_message  rub_per_minute  gb_per_month_included  revenue  \n",
       "0                1               1                     30   1950.0  \n",
       "1                1               1                     30   1950.0  \n",
       "2                1               1                     30   1950.0  \n",
       "3                1               1                     30   1950.0  \n",
       "4                1               1                     30   1950.0  \n",
       "\n",
       "[5 rows x 27 columns]"
      ]
     },
     "execution_count": 96,
     "metadata": {},
     "output_type": "execute_result"
    }
   ],
   "source": [
    "# Данные по тарифу Ultra\n",
    "ultra_calls.head()"
   ]
  },
  {
   "cell_type": "markdown",
   "metadata": {},
   "source": [
    "#### Анализ выборки"
   ]
  },
  {
   "cell_type": "code",
   "execution_count": 97,
   "metadata": {},
   "outputs": [
    {
     "data": {
      "text/plain": [
       "1291"
      ]
     },
     "execution_count": 97,
     "metadata": {},
     "output_type": "execute_result"
    }
   ],
   "source": [
    "#Среднее значение выручки дл пользователей с тарифом Smart\n",
    "r1_mean=smart_calls['revenue'].mean().astype(int)\n",
    "r1_mean"
   ]
  },
  {
   "cell_type": "code",
   "execution_count": 98,
   "metadata": {},
   "outputs": [
    {
     "data": {
      "text/plain": [
       "2072"
      ]
     },
     "execution_count": 98,
     "metadata": {},
     "output_type": "execute_result"
    }
   ],
   "source": [
    "#Среднее значение выручки дл пользователей с тарифом Ultra\n",
    "r2_mean=ultra_calls['revenue'].mean().astype(int)\n",
    "r2_mean"
   ]
  },
  {
   "cell_type": "code",
   "execution_count": 99,
   "metadata": {},
   "outputs": [
    {
     "name": "stdout",
     "output_type": "stream",
     "text": [
      "<class 'pandas.core.frame.DataFrame'>\n",
      "Int64Index: 2222 entries, 8 to 3173\n",
      "Data columns (total 27 columns):\n",
      "index_x                  2222 non-null int64\n",
      "user_id                  2222 non-null int64\n",
      "age_x                    2222 non-null int64\n",
      "churn_date               111 non-null object\n",
      "city                     2222 non-null object\n",
      "first_name               2222 non-null object\n",
      "last_name                2222 non-null object\n",
      "reg_date                 2222 non-null object\n",
      "tariff                   2222 non-null object\n",
      "month                    2222 non-null float64\n",
      "count_calls              2222 non-null float64\n",
      "sum_calls                2222 non-null float64\n",
      "mess                     1915 non-null float64\n",
      "Unnamed: 0               2222 non-null float64\n",
      "age_y                    2222 non-null float64\n",
      "index_y                  2222 non-null float64\n",
      "mb_used                  2222 non-null float64\n",
      "used_gb                  2222 non-null float64\n",
      "messages_included        2222 non-null int64\n",
      "mb_per_month_included    2222 non-null int64\n",
      "minutes_included         2222 non-null int64\n",
      "rub_monthly_fee          2222 non-null int64\n",
      "rub_per_gb               2222 non-null int64\n",
      "rub_per_message          2222 non-null int64\n",
      "rub_per_minute           2222 non-null int64\n",
      "gb_per_month_included    2222 non-null int64\n",
      "revenue                  2222 non-null float64\n",
      "dtypes: float64(10), int64(11), object(6)\n",
      "memory usage: 566.1+ KB\n"
     ]
    }
   ],
   "source": [
    "# Информаци о таблице, в т.ч. о количестве строк и размере\n",
    "smart_calls.info()"
   ]
  },
  {
   "cell_type": "code",
   "execution_count": 100,
   "metadata": {},
   "outputs": [
    {
     "name": "stdout",
     "output_type": "stream",
     "text": [
      "<class 'pandas.core.frame.DataFrame'>\n",
      "Int64Index: 941 entries, 0 to 3150\n",
      "Data columns (total 27 columns):\n",
      "index_x                  941 non-null int64\n",
      "user_id                  941 non-null int64\n",
      "age_x                    941 non-null int64\n",
      "churn_date               75 non-null object\n",
      "city                     941 non-null object\n",
      "first_name               941 non-null object\n",
      "last_name                941 non-null object\n",
      "reg_date                 941 non-null object\n",
      "tariff                   941 non-null object\n",
      "month                    941 non-null float64\n",
      "count_calls              941 non-null float64\n",
      "sum_calls                941 non-null float64\n",
      "mess                     752 non-null float64\n",
      "Unnamed: 0               941 non-null float64\n",
      "age_y                    941 non-null float64\n",
      "index_y                  941 non-null float64\n",
      "mb_used                  941 non-null float64\n",
      "used_gb                  941 non-null float64\n",
      "messages_included        941 non-null int64\n",
      "mb_per_month_included    941 non-null int64\n",
      "minutes_included         941 non-null int64\n",
      "rub_monthly_fee          941 non-null int64\n",
      "rub_per_gb               941 non-null int64\n",
      "rub_per_message          941 non-null int64\n",
      "rub_per_minute           941 non-null int64\n",
      "gb_per_month_included    941 non-null int64\n",
      "revenue                  941 non-null float64\n",
      "dtypes: float64(10), int64(11), object(6)\n",
      "memory usage: 245.8+ KB\n"
     ]
    }
   ],
   "source": [
    "# Информаци о таблице, в т.ч. о количестве строк и размере\n",
    "ultra_calls.info()"
   ]
  },
  {
   "cell_type": "markdown",
   "metadata": {},
   "source": [
    "*Средние значения выборок, как и размер датасентов отличаются. Далее, проверю распределение чтобы окончательно определиться с методом сравнения гипотез.*"
   ]
  },
  {
   "cell_type": "code",
   "execution_count": 101,
   "metadata": {},
   "outputs": [
    {
     "data": {
      "text/plain": [
       "35.93"
      ]
     },
     "execution_count": 101,
     "metadata": {},
     "output_type": "execute_result"
    }
   ],
   "source": [
    "# Стандартное отклонение по выручке от пользователей тарифа Smart\n",
    "o_r1=np.sqrt(r1_mean).round(2)\n",
    "o_r1"
   ]
  },
  {
   "cell_type": "code",
   "execution_count": 102,
   "metadata": {},
   "outputs": [
    {
     "data": {
      "text/plain": [
       "0.5"
      ]
     },
     "execution_count": 102,
     "metadata": {},
     "output_type": "execute_result"
    }
   ],
   "source": [
    "# Распределение по значению выручки для Smart\n",
    "distr7 = st.norm(r1_mean,o_r1) \n",
    "\n",
    "x = r1_mean\n",
    "\n",
    "distr7.cdf(x)"
   ]
  },
  {
   "cell_type": "code",
   "execution_count": 103,
   "metadata": {},
   "outputs": [
    {
     "data": {
      "text/plain": [
       "45.52"
      ]
     },
     "execution_count": 103,
     "metadata": {},
     "output_type": "execute_result"
    }
   ],
   "source": [
    "# Стандартное отклонение по выручке от пользователей тарифа Ultra\n",
    "o_r2=np.sqrt(r2_mean).round(2)\n",
    "o_r2"
   ]
  },
  {
   "cell_type": "code",
   "execution_count": 104,
   "metadata": {},
   "outputs": [
    {
     "data": {
      "text/plain": [
       "0.5"
      ]
     },
     "execution_count": 104,
     "metadata": {},
     "output_type": "execute_result"
    }
   ],
   "source": [
    "# Распределение по значению выручки для Ultra\n",
    "distr8 = st.norm(r2_mean,o_r2) \n",
    "\n",
    "x = r2_mean\n",
    "\n",
    "distr8.cdf(x)"
   ]
  },
  {
   "cell_type": "markdown",
   "metadata": {},
   "source": [
    "*Несмотря на то, что распределение нормальное у каждой выборки, они отличаются средним и размером. Для сравнения датасентов использую метод `scipy.stats.ttest_ind ()` без применения t-теста.*"
   ]
  },
  {
   "cell_type": "markdown",
   "metadata": {},
   "source": [
    "#### Формирование и сравнение гипотез"
   ]
  },
  {
   "cell_type": "markdown",
   "metadata": {},
   "source": [
    "**Нулевоя гипотеза гласит: `средняя выручка пользователей тарифов «Ультра» и «Смарт» не различается`. Я сформулирую альтернативную для выборок и сравнения: `средняя выручка пользователей тарифов «Ультра» и «Смарт» различается`.**<br>\n",
    "Если значение p-value будет, боьше критического уровня статистической значимости, то отвергнуть нулевую гипотезу не получится, если меньше - отвергнуть альтернативную гипотезу не получится."
   ]
  },
  {
   "cell_type": "code",
   "execution_count": 105,
   "metadata": {},
   "outputs": [
    {
     "data": {
      "text/plain": [
       "4.722558075302507e-244"
      ]
     },
     "metadata": {},
     "output_type": "display_data"
    },
    {
     "data": {
      "text/plain": [
       "'Отвергнуть альтернативную гипотезу не получится'"
      ]
     },
     "metadata": {},
     "output_type": "display_data"
    }
   ],
   "source": [
    "alpha=0.01 #критический уровень статистической значимости\n",
    "\n",
    "result = st.ttest_ind (ultra_calls['revenue'],smart_calls['revenue'], equal_var = False) #equal_var = False потому что выборки не равны и имеют разное среднее\n",
    "\n",
    "display(result.pvalue)\n",
    "\n",
    "if result.pvalue > alpha:\n",
    "    display('Отвергнуть нулевую гипотезу не получится')\n",
    "else:\n",
    "    display('Отвергнуть альтернативную гипотезу не получится')"
   ]
  },
  {
   "cell_type": "markdown",
   "metadata": {},
   "source": [
    "#### Промежуточный вывод"
   ]
  },
  {
   "cell_type": "markdown",
   "metadata": {},
   "source": [
    "Проанализировав различные критерии выручки с клиентов разных тарифов, я сравнила выбоки. Для этого была сформулирована нулевая гипотеза: `средняя выручка пользователей тарифов «Ультра» и «Смарт» не различается` и альтернативная `средняя выручка пользователей тарифов «Ультра» и «Смарт» различается`.<br>\n",
    "Сравнение средних разных выборок дало возможность утверждать, что альтернативную гипотезу отклонить не удасться, а значит, `средняя выручка пользователей тарифов «Ультра» и «Смарт» различается`.<br>\n",
    "Критический уроветь статистической значимости выбран таким образом, чтобы оценить минимальные отличия."
   ]
  },
  {
   "cell_type": "markdown",
   "metadata": {},
   "source": [
    "### Средняя выручка пользователей из Москвы отличается от выручки пользователей из других регионов."
   ]
  },
  {
   "cell_type": "markdown",
   "metadata": {},
   "source": [
    "Чтобы оценить выручку от москвижей и жителей других регионов, создам таблицы, соответсвующие требованиям. Применю `query`."
   ]
  },
  {
   "cell_type": "code",
   "execution_count": 106,
   "metadata": {},
   "outputs": [
    {
     "data": {
      "text/html": [
       "<div>\n",
       "<style scoped>\n",
       "    .dataframe tbody tr th:only-of-type {\n",
       "        vertical-align: middle;\n",
       "    }\n",
       "\n",
       "    .dataframe tbody tr th {\n",
       "        vertical-align: top;\n",
       "    }\n",
       "\n",
       "    .dataframe thead th {\n",
       "        text-align: right;\n",
       "    }\n",
       "</style>\n",
       "<table border=\"1\" class=\"dataframe\">\n",
       "  <thead>\n",
       "    <tr style=\"text-align: right;\">\n",
       "      <th></th>\n",
       "      <th>index_x</th>\n",
       "      <th>user_id</th>\n",
       "      <th>age_x</th>\n",
       "      <th>churn_date</th>\n",
       "      <th>city</th>\n",
       "      <th>first_name</th>\n",
       "      <th>last_name</th>\n",
       "      <th>reg_date</th>\n",
       "      <th>tariff</th>\n",
       "      <th>month</th>\n",
       "      <th>...</th>\n",
       "      <th>used_gb</th>\n",
       "      <th>messages_included</th>\n",
       "      <th>mb_per_month_included</th>\n",
       "      <th>minutes_included</th>\n",
       "      <th>rub_monthly_fee</th>\n",
       "      <th>rub_per_gb</th>\n",
       "      <th>rub_per_message</th>\n",
       "      <th>rub_per_minute</th>\n",
       "      <th>gb_per_month_included</th>\n",
       "      <th>revenue</th>\n",
       "    </tr>\n",
       "  </thead>\n",
       "  <tbody>\n",
       "    <tr>\n",
       "      <td>0</td>\n",
       "      <td>0</td>\n",
       "      <td>1000</td>\n",
       "      <td>52</td>\n",
       "      <td>NaN</td>\n",
       "      <td>Краснодар</td>\n",
       "      <td>Рафаил</td>\n",
       "      <td>Верещагин</td>\n",
       "      <td>2018-05-25</td>\n",
       "      <td>ultra</td>\n",
       "      <td>5.0</td>\n",
       "      <td>...</td>\n",
       "      <td>3.0</td>\n",
       "      <td>1000</td>\n",
       "      <td>30720</td>\n",
       "      <td>3000</td>\n",
       "      <td>1950</td>\n",
       "      <td>150</td>\n",
       "      <td>1</td>\n",
       "      <td>1</td>\n",
       "      <td>30</td>\n",
       "      <td>1950.0</td>\n",
       "    </tr>\n",
       "    <tr>\n",
       "      <td>1</td>\n",
       "      <td>1</td>\n",
       "      <td>1000</td>\n",
       "      <td>52</td>\n",
       "      <td>NaN</td>\n",
       "      <td>Краснодар</td>\n",
       "      <td>Рафаил</td>\n",
       "      <td>Верещагин</td>\n",
       "      <td>2018-05-25</td>\n",
       "      <td>ultra</td>\n",
       "      <td>6.0</td>\n",
       "      <td>...</td>\n",
       "      <td>23.0</td>\n",
       "      <td>1000</td>\n",
       "      <td>30720</td>\n",
       "      <td>3000</td>\n",
       "      <td>1950</td>\n",
       "      <td>150</td>\n",
       "      <td>1</td>\n",
       "      <td>1</td>\n",
       "      <td>30</td>\n",
       "      <td>1950.0</td>\n",
       "    </tr>\n",
       "    <tr>\n",
       "      <td>2</td>\n",
       "      <td>2</td>\n",
       "      <td>1000</td>\n",
       "      <td>52</td>\n",
       "      <td>NaN</td>\n",
       "      <td>Краснодар</td>\n",
       "      <td>Рафаил</td>\n",
       "      <td>Верещагин</td>\n",
       "      <td>2018-05-25</td>\n",
       "      <td>ultra</td>\n",
       "      <td>7.0</td>\n",
       "      <td>...</td>\n",
       "      <td>14.0</td>\n",
       "      <td>1000</td>\n",
       "      <td>30720</td>\n",
       "      <td>3000</td>\n",
       "      <td>1950</td>\n",
       "      <td>150</td>\n",
       "      <td>1</td>\n",
       "      <td>1</td>\n",
       "      <td>30</td>\n",
       "      <td>1950.0</td>\n",
       "    </tr>\n",
       "    <tr>\n",
       "      <td>3</td>\n",
       "      <td>3</td>\n",
       "      <td>1000</td>\n",
       "      <td>52</td>\n",
       "      <td>NaN</td>\n",
       "      <td>Краснодар</td>\n",
       "      <td>Рафаил</td>\n",
       "      <td>Верещагин</td>\n",
       "      <td>2018-05-25</td>\n",
       "      <td>ultra</td>\n",
       "      <td>8.0</td>\n",
       "      <td>...</td>\n",
       "      <td>14.0</td>\n",
       "      <td>1000</td>\n",
       "      <td>30720</td>\n",
       "      <td>3000</td>\n",
       "      <td>1950</td>\n",
       "      <td>150</td>\n",
       "      <td>1</td>\n",
       "      <td>1</td>\n",
       "      <td>30</td>\n",
       "      <td>1950.0</td>\n",
       "    </tr>\n",
       "    <tr>\n",
       "      <td>4</td>\n",
       "      <td>4</td>\n",
       "      <td>1000</td>\n",
       "      <td>52</td>\n",
       "      <td>NaN</td>\n",
       "      <td>Краснодар</td>\n",
       "      <td>Рафаил</td>\n",
       "      <td>Верещагин</td>\n",
       "      <td>2018-05-25</td>\n",
       "      <td>ultra</td>\n",
       "      <td>9.0</td>\n",
       "      <td>...</td>\n",
       "      <td>15.0</td>\n",
       "      <td>1000</td>\n",
       "      <td>30720</td>\n",
       "      <td>3000</td>\n",
       "      <td>1950</td>\n",
       "      <td>150</td>\n",
       "      <td>1</td>\n",
       "      <td>1</td>\n",
       "      <td>30</td>\n",
       "      <td>1950.0</td>\n",
       "    </tr>\n",
       "  </tbody>\n",
       "</table>\n",
       "<p>5 rows × 27 columns</p>\n",
       "</div>"
      ],
      "text/plain": [
       "   index_x  user_id  age_x churn_date       city first_name  last_name  \\\n",
       "0        0     1000     52        NaN  Краснодар     Рафаил  Верещагин   \n",
       "1        1     1000     52        NaN  Краснодар     Рафаил  Верещагин   \n",
       "2        2     1000     52        NaN  Краснодар     Рафаил  Верещагин   \n",
       "3        3     1000     52        NaN  Краснодар     Рафаил  Верещагин   \n",
       "4        4     1000     52        NaN  Краснодар     Рафаил  Верещагин   \n",
       "\n",
       "     reg_date tariff  month  ...  used_gb  messages_included  \\\n",
       "0  2018-05-25  ultra    5.0  ...      3.0               1000   \n",
       "1  2018-05-25  ultra    6.0  ...     23.0               1000   \n",
       "2  2018-05-25  ultra    7.0  ...     14.0               1000   \n",
       "3  2018-05-25  ultra    8.0  ...     14.0               1000   \n",
       "4  2018-05-25  ultra    9.0  ...     15.0               1000   \n",
       "\n",
       "   mb_per_month_included  minutes_included  rub_monthly_fee  rub_per_gb  \\\n",
       "0                  30720              3000             1950         150   \n",
       "1                  30720              3000             1950         150   \n",
       "2                  30720              3000             1950         150   \n",
       "3                  30720              3000             1950         150   \n",
       "4                  30720              3000             1950         150   \n",
       "\n",
       "   rub_per_message  rub_per_minute  gb_per_month_included  revenue  \n",
       "0                1               1                     30   1950.0  \n",
       "1                1               1                     30   1950.0  \n",
       "2                1               1                     30   1950.0  \n",
       "3                1               1                     30   1950.0  \n",
       "4                1               1                     30   1950.0  \n",
       "\n",
       "[5 rows x 27 columns]"
      ]
     },
     "execution_count": 106,
     "metadata": {},
     "output_type": "execute_result"
    }
   ],
   "source": [
    "# Для срезов берём общую таблицу с выручкой\n",
    "new_data.head()"
   ]
  },
  {
   "cell_type": "code",
   "execution_count": 107,
   "metadata": {},
   "outputs": [
    {
     "data": {
      "text/html": [
       "<div>\n",
       "<style scoped>\n",
       "    .dataframe tbody tr th:only-of-type {\n",
       "        vertical-align: middle;\n",
       "    }\n",
       "\n",
       "    .dataframe tbody tr th {\n",
       "        vertical-align: top;\n",
       "    }\n",
       "\n",
       "    .dataframe thead th {\n",
       "        text-align: right;\n",
       "    }\n",
       "</style>\n",
       "<table border=\"1\" class=\"dataframe\">\n",
       "  <thead>\n",
       "    <tr style=\"text-align: right;\">\n",
       "      <th></th>\n",
       "      <th>index_x</th>\n",
       "      <th>user_id</th>\n",
       "      <th>age_x</th>\n",
       "      <th>churn_date</th>\n",
       "      <th>city</th>\n",
       "      <th>first_name</th>\n",
       "      <th>last_name</th>\n",
       "      <th>reg_date</th>\n",
       "      <th>tariff</th>\n",
       "      <th>month</th>\n",
       "      <th>...</th>\n",
       "      <th>used_gb</th>\n",
       "      <th>messages_included</th>\n",
       "      <th>mb_per_month_included</th>\n",
       "      <th>minutes_included</th>\n",
       "      <th>rub_monthly_fee</th>\n",
       "      <th>rub_per_gb</th>\n",
       "      <th>rub_per_message</th>\n",
       "      <th>rub_per_minute</th>\n",
       "      <th>gb_per_month_included</th>\n",
       "      <th>revenue</th>\n",
       "    </tr>\n",
       "  </thead>\n",
       "  <tbody>\n",
       "    <tr>\n",
       "      <td>8</td>\n",
       "      <td>8</td>\n",
       "      <td>1001</td>\n",
       "      <td>41</td>\n",
       "      <td>NaN</td>\n",
       "      <td>Москва</td>\n",
       "      <td>Иван</td>\n",
       "      <td>Ежов</td>\n",
       "      <td>2018-11-01</td>\n",
       "      <td>smart</td>\n",
       "      <td>11.0</td>\n",
       "      <td>...</td>\n",
       "      <td>18.0</td>\n",
       "      <td>50</td>\n",
       "      <td>15360</td>\n",
       "      <td>500</td>\n",
       "      <td>550</td>\n",
       "      <td>200</td>\n",
       "      <td>3</td>\n",
       "      <td>3</td>\n",
       "      <td>15</td>\n",
       "      <td>1150.0</td>\n",
       "    </tr>\n",
       "    <tr>\n",
       "      <td>9</td>\n",
       "      <td>9</td>\n",
       "      <td>1001</td>\n",
       "      <td>41</td>\n",
       "      <td>NaN</td>\n",
       "      <td>Москва</td>\n",
       "      <td>Иван</td>\n",
       "      <td>Ежов</td>\n",
       "      <td>2018-11-01</td>\n",
       "      <td>smart</td>\n",
       "      <td>12.0</td>\n",
       "      <td>...</td>\n",
       "      <td>14.0</td>\n",
       "      <td>50</td>\n",
       "      <td>15360</td>\n",
       "      <td>500</td>\n",
       "      <td>550</td>\n",
       "      <td>200</td>\n",
       "      <td>3</td>\n",
       "      <td>3</td>\n",
       "      <td>15</td>\n",
       "      <td>550.0</td>\n",
       "    </tr>\n",
       "    <tr>\n",
       "      <td>17</td>\n",
       "      <td>17</td>\n",
       "      <td>1003</td>\n",
       "      <td>23</td>\n",
       "      <td>NaN</td>\n",
       "      <td>Москва</td>\n",
       "      <td>Белла</td>\n",
       "      <td>Белякова</td>\n",
       "      <td>2018-08-17</td>\n",
       "      <td>ultra</td>\n",
       "      <td>8.0</td>\n",
       "      <td>...</td>\n",
       "      <td>9.0</td>\n",
       "      <td>1000</td>\n",
       "      <td>30720</td>\n",
       "      <td>3000</td>\n",
       "      <td>1950</td>\n",
       "      <td>150</td>\n",
       "      <td>1</td>\n",
       "      <td>1</td>\n",
       "      <td>30</td>\n",
       "      <td>1950.0</td>\n",
       "    </tr>\n",
       "    <tr>\n",
       "      <td>18</td>\n",
       "      <td>18</td>\n",
       "      <td>1003</td>\n",
       "      <td>23</td>\n",
       "      <td>NaN</td>\n",
       "      <td>Москва</td>\n",
       "      <td>Белла</td>\n",
       "      <td>Белякова</td>\n",
       "      <td>2018-08-17</td>\n",
       "      <td>ultra</td>\n",
       "      <td>9.0</td>\n",
       "      <td>...</td>\n",
       "      <td>13.0</td>\n",
       "      <td>1000</td>\n",
       "      <td>30720</td>\n",
       "      <td>3000</td>\n",
       "      <td>1950</td>\n",
       "      <td>150</td>\n",
       "      <td>1</td>\n",
       "      <td>1</td>\n",
       "      <td>30</td>\n",
       "      <td>1950.0</td>\n",
       "    </tr>\n",
       "    <tr>\n",
       "      <td>19</td>\n",
       "      <td>19</td>\n",
       "      <td>1003</td>\n",
       "      <td>23</td>\n",
       "      <td>NaN</td>\n",
       "      <td>Москва</td>\n",
       "      <td>Белла</td>\n",
       "      <td>Белякова</td>\n",
       "      <td>2018-08-17</td>\n",
       "      <td>ultra</td>\n",
       "      <td>10.0</td>\n",
       "      <td>...</td>\n",
       "      <td>15.0</td>\n",
       "      <td>1000</td>\n",
       "      <td>30720</td>\n",
       "      <td>3000</td>\n",
       "      <td>1950</td>\n",
       "      <td>150</td>\n",
       "      <td>1</td>\n",
       "      <td>1</td>\n",
       "      <td>30</td>\n",
       "      <td>1950.0</td>\n",
       "    </tr>\n",
       "  </tbody>\n",
       "</table>\n",
       "<p>5 rows × 27 columns</p>\n",
       "</div>"
      ],
      "text/plain": [
       "    index_x  user_id  age_x churn_date    city first_name last_name  \\\n",
       "8         8     1001     41        NaN  Москва       Иван      Ежов   \n",
       "9         9     1001     41        NaN  Москва       Иван      Ежов   \n",
       "17       17     1003     23        NaN  Москва      Белла  Белякова   \n",
       "18       18     1003     23        NaN  Москва      Белла  Белякова   \n",
       "19       19     1003     23        NaN  Москва      Белла  Белякова   \n",
       "\n",
       "      reg_date tariff  month  ...  used_gb  messages_included  \\\n",
       "8   2018-11-01  smart   11.0  ...     18.0                 50   \n",
       "9   2018-11-01  smart   12.0  ...     14.0                 50   \n",
       "17  2018-08-17  ultra    8.0  ...      9.0               1000   \n",
       "18  2018-08-17  ultra    9.0  ...     13.0               1000   \n",
       "19  2018-08-17  ultra   10.0  ...     15.0               1000   \n",
       "\n",
       "    mb_per_month_included  minutes_included  rub_monthly_fee  rub_per_gb  \\\n",
       "8                   15360               500              550         200   \n",
       "9                   15360               500              550         200   \n",
       "17                  30720              3000             1950         150   \n",
       "18                  30720              3000             1950         150   \n",
       "19                  30720              3000             1950         150   \n",
       "\n",
       "    rub_per_message  rub_per_minute  gb_per_month_included  revenue  \n",
       "8                 3               3                     15   1150.0  \n",
       "9                 3               3                     15    550.0  \n",
       "17                1               1                     30   1950.0  \n",
       "18                1               1                     30   1950.0  \n",
       "19                1               1                     30   1950.0  \n",
       "\n",
       "[5 rows x 27 columns]"
      ]
     },
     "execution_count": 107,
     "metadata": {},
     "output_type": "execute_result"
    }
   ],
   "source": [
    "# Таблица выручки по клиентам из Москвы\n",
    "moscow_revenue=new_data.query('city==\"Москва\"')\n",
    "moscow_revenue.head()"
   ]
  },
  {
   "cell_type": "code",
   "execution_count": 108,
   "metadata": {
    "scrolled": true
   },
   "outputs": [
    {
     "data": {
      "text/html": [
       "<div>\n",
       "<style scoped>\n",
       "    .dataframe tbody tr th:only-of-type {\n",
       "        vertical-align: middle;\n",
       "    }\n",
       "\n",
       "    .dataframe tbody tr th {\n",
       "        vertical-align: top;\n",
       "    }\n",
       "\n",
       "    .dataframe thead th {\n",
       "        text-align: right;\n",
       "    }\n",
       "</style>\n",
       "<table border=\"1\" class=\"dataframe\">\n",
       "  <thead>\n",
       "    <tr style=\"text-align: right;\">\n",
       "      <th></th>\n",
       "      <th>index_x</th>\n",
       "      <th>user_id</th>\n",
       "      <th>age_x</th>\n",
       "      <th>churn_date</th>\n",
       "      <th>city</th>\n",
       "      <th>first_name</th>\n",
       "      <th>last_name</th>\n",
       "      <th>reg_date</th>\n",
       "      <th>tariff</th>\n",
       "      <th>month</th>\n",
       "      <th>...</th>\n",
       "      <th>used_gb</th>\n",
       "      <th>messages_included</th>\n",
       "      <th>mb_per_month_included</th>\n",
       "      <th>minutes_included</th>\n",
       "      <th>rub_monthly_fee</th>\n",
       "      <th>rub_per_gb</th>\n",
       "      <th>rub_per_message</th>\n",
       "      <th>rub_per_minute</th>\n",
       "      <th>gb_per_month_included</th>\n",
       "      <th>revenue</th>\n",
       "    </tr>\n",
       "  </thead>\n",
       "  <tbody>\n",
       "    <tr>\n",
       "      <td>0</td>\n",
       "      <td>0</td>\n",
       "      <td>1000</td>\n",
       "      <td>52</td>\n",
       "      <td>NaN</td>\n",
       "      <td>Краснодар</td>\n",
       "      <td>Рафаил</td>\n",
       "      <td>Верещагин</td>\n",
       "      <td>2018-05-25</td>\n",
       "      <td>ultra</td>\n",
       "      <td>5.0</td>\n",
       "      <td>...</td>\n",
       "      <td>3.0</td>\n",
       "      <td>1000</td>\n",
       "      <td>30720</td>\n",
       "      <td>3000</td>\n",
       "      <td>1950</td>\n",
       "      <td>150</td>\n",
       "      <td>1</td>\n",
       "      <td>1</td>\n",
       "      <td>30</td>\n",
       "      <td>1950.0</td>\n",
       "    </tr>\n",
       "    <tr>\n",
       "      <td>1</td>\n",
       "      <td>1</td>\n",
       "      <td>1000</td>\n",
       "      <td>52</td>\n",
       "      <td>NaN</td>\n",
       "      <td>Краснодар</td>\n",
       "      <td>Рафаил</td>\n",
       "      <td>Верещагин</td>\n",
       "      <td>2018-05-25</td>\n",
       "      <td>ultra</td>\n",
       "      <td>6.0</td>\n",
       "      <td>...</td>\n",
       "      <td>23.0</td>\n",
       "      <td>1000</td>\n",
       "      <td>30720</td>\n",
       "      <td>3000</td>\n",
       "      <td>1950</td>\n",
       "      <td>150</td>\n",
       "      <td>1</td>\n",
       "      <td>1</td>\n",
       "      <td>30</td>\n",
       "      <td>1950.0</td>\n",
       "    </tr>\n",
       "    <tr>\n",
       "      <td>2</td>\n",
       "      <td>2</td>\n",
       "      <td>1000</td>\n",
       "      <td>52</td>\n",
       "      <td>NaN</td>\n",
       "      <td>Краснодар</td>\n",
       "      <td>Рафаил</td>\n",
       "      <td>Верещагин</td>\n",
       "      <td>2018-05-25</td>\n",
       "      <td>ultra</td>\n",
       "      <td>7.0</td>\n",
       "      <td>...</td>\n",
       "      <td>14.0</td>\n",
       "      <td>1000</td>\n",
       "      <td>30720</td>\n",
       "      <td>3000</td>\n",
       "      <td>1950</td>\n",
       "      <td>150</td>\n",
       "      <td>1</td>\n",
       "      <td>1</td>\n",
       "      <td>30</td>\n",
       "      <td>1950.0</td>\n",
       "    </tr>\n",
       "    <tr>\n",
       "      <td>3</td>\n",
       "      <td>3</td>\n",
       "      <td>1000</td>\n",
       "      <td>52</td>\n",
       "      <td>NaN</td>\n",
       "      <td>Краснодар</td>\n",
       "      <td>Рафаил</td>\n",
       "      <td>Верещагин</td>\n",
       "      <td>2018-05-25</td>\n",
       "      <td>ultra</td>\n",
       "      <td>8.0</td>\n",
       "      <td>...</td>\n",
       "      <td>14.0</td>\n",
       "      <td>1000</td>\n",
       "      <td>30720</td>\n",
       "      <td>3000</td>\n",
       "      <td>1950</td>\n",
       "      <td>150</td>\n",
       "      <td>1</td>\n",
       "      <td>1</td>\n",
       "      <td>30</td>\n",
       "      <td>1950.0</td>\n",
       "    </tr>\n",
       "    <tr>\n",
       "      <td>4</td>\n",
       "      <td>4</td>\n",
       "      <td>1000</td>\n",
       "      <td>52</td>\n",
       "      <td>NaN</td>\n",
       "      <td>Краснодар</td>\n",
       "      <td>Рафаил</td>\n",
       "      <td>Верещагин</td>\n",
       "      <td>2018-05-25</td>\n",
       "      <td>ultra</td>\n",
       "      <td>9.0</td>\n",
       "      <td>...</td>\n",
       "      <td>15.0</td>\n",
       "      <td>1000</td>\n",
       "      <td>30720</td>\n",
       "      <td>3000</td>\n",
       "      <td>1950</td>\n",
       "      <td>150</td>\n",
       "      <td>1</td>\n",
       "      <td>1</td>\n",
       "      <td>30</td>\n",
       "      <td>1950.0</td>\n",
       "    </tr>\n",
       "  </tbody>\n",
       "</table>\n",
       "<p>5 rows × 27 columns</p>\n",
       "</div>"
      ],
      "text/plain": [
       "   index_x  user_id  age_x churn_date       city first_name  last_name  \\\n",
       "0        0     1000     52        NaN  Краснодар     Рафаил  Верещагин   \n",
       "1        1     1000     52        NaN  Краснодар     Рафаил  Верещагин   \n",
       "2        2     1000     52        NaN  Краснодар     Рафаил  Верещагин   \n",
       "3        3     1000     52        NaN  Краснодар     Рафаил  Верещагин   \n",
       "4        4     1000     52        NaN  Краснодар     Рафаил  Верещагин   \n",
       "\n",
       "     reg_date tariff  month  ...  used_gb  messages_included  \\\n",
       "0  2018-05-25  ultra    5.0  ...      3.0               1000   \n",
       "1  2018-05-25  ultra    6.0  ...     23.0               1000   \n",
       "2  2018-05-25  ultra    7.0  ...     14.0               1000   \n",
       "3  2018-05-25  ultra    8.0  ...     14.0               1000   \n",
       "4  2018-05-25  ultra    9.0  ...     15.0               1000   \n",
       "\n",
       "   mb_per_month_included  minutes_included  rub_monthly_fee  rub_per_gb  \\\n",
       "0                  30720              3000             1950         150   \n",
       "1                  30720              3000             1950         150   \n",
       "2                  30720              3000             1950         150   \n",
       "3                  30720              3000             1950         150   \n",
       "4                  30720              3000             1950         150   \n",
       "\n",
       "   rub_per_message  rub_per_minute  gb_per_month_included  revenue  \n",
       "0                1               1                     30   1950.0  \n",
       "1                1               1                     30   1950.0  \n",
       "2                1               1                     30   1950.0  \n",
       "3                1               1                     30   1950.0  \n",
       "4                1               1                     30   1950.0  \n",
       "\n",
       "[5 rows x 27 columns]"
      ]
     },
     "execution_count": 108,
     "metadata": {},
     "output_type": "execute_result"
    }
   ],
   "source": [
    "# Таблица выручки по клиентам не из Москвы\n",
    "all_regions_revenue=new_data.query('city!=\"Москва\"')\n",
    "all_regions_revenue.head()"
   ]
  },
  {
   "cell_type": "markdown",
   "metadata": {},
   "source": [
    "#### Анализ выборки"
   ]
  },
  {
   "cell_type": "code",
   "execution_count": 109,
   "metadata": {},
   "outputs": [
    {
     "data": {
      "text/plain": [
       "1546"
      ]
     },
     "execution_count": 109,
     "metadata": {},
     "output_type": "execute_result"
    }
   ],
   "source": [
    "# Средняя выручка по Москве\n",
    "m_mean=moscow_revenue['revenue'].mean().astype(int)\n",
    "m_mean"
   ]
  },
  {
   "cell_type": "code",
   "execution_count": 110,
   "metadata": {},
   "outputs": [
    {
     "data": {
      "text/plain": [
       "1518"
      ]
     },
     "execution_count": 110,
     "metadata": {},
     "output_type": "execute_result"
    }
   ],
   "source": [
    "# Средняя выручка по регионам исключая Моску\n",
    "all_mean=all_regions_revenue['revenue'].mean().astype(int)\n",
    "all_mean"
   ]
  },
  {
   "cell_type": "markdown",
   "metadata": {},
   "source": [
    "*Чтобы сравнить средную выручку разных выручек, сформировать альтернативную гипотезу и сравнить гипотезы, надо определить  распределение и узнать размер выборок*"
   ]
  },
  {
   "cell_type": "code",
   "execution_count": 111,
   "metadata": {},
   "outputs": [
    {
     "name": "stdout",
     "output_type": "stream",
     "text": [
      "<class 'pandas.core.frame.DataFrame'>\n",
      "Int64Index: 610 entries, 8 to 3122\n",
      "Data columns (total 27 columns):\n",
      "index_x                  610 non-null int64\n",
      "user_id                  610 non-null int64\n",
      "age_x                    610 non-null int64\n",
      "churn_date               41 non-null object\n",
      "city                     610 non-null object\n",
      "first_name               610 non-null object\n",
      "last_name                610 non-null object\n",
      "reg_date                 610 non-null object\n",
      "tariff                   610 non-null object\n",
      "month                    610 non-null float64\n",
      "count_calls              610 non-null float64\n",
      "sum_calls                610 non-null float64\n",
      "mess                     491 non-null float64\n",
      "Unnamed: 0               610 non-null float64\n",
      "age_y                    610 non-null float64\n",
      "index_y                  610 non-null float64\n",
      "mb_used                  610 non-null float64\n",
      "used_gb                  610 non-null float64\n",
      "messages_included        610 non-null int64\n",
      "mb_per_month_included    610 non-null int64\n",
      "minutes_included         610 non-null int64\n",
      "rub_monthly_fee          610 non-null int64\n",
      "rub_per_gb               610 non-null int64\n",
      "rub_per_message          610 non-null int64\n",
      "rub_per_minute           610 non-null int64\n",
      "gb_per_month_included    610 non-null int64\n",
      "revenue                  610 non-null float64\n",
      "dtypes: float64(10), int64(11), object(6)\n",
      "memory usage: 133.4+ KB\n"
     ]
    }
   ],
   "source": [
    "moscow_revenue.info()"
   ]
  },
  {
   "cell_type": "code",
   "execution_count": 112,
   "metadata": {},
   "outputs": [
    {
     "name": "stdout",
     "output_type": "stream",
     "text": [
      "<class 'pandas.core.frame.DataFrame'>\n",
      "Int64Index: 2553 entries, 0 to 3173\n",
      "Data columns (total 27 columns):\n",
      "index_x                  2553 non-null int64\n",
      "user_id                  2553 non-null int64\n",
      "age_x                    2553 non-null int64\n",
      "churn_date               145 non-null object\n",
      "city                     2553 non-null object\n",
      "first_name               2553 non-null object\n",
      "last_name                2553 non-null object\n",
      "reg_date                 2553 non-null object\n",
      "tariff                   2553 non-null object\n",
      "month                    2553 non-null float64\n",
      "count_calls              2553 non-null float64\n",
      "sum_calls                2553 non-null float64\n",
      "mess                     2176 non-null float64\n",
      "Unnamed: 0               2553 non-null float64\n",
      "age_y                    2553 non-null float64\n",
      "index_y                  2553 non-null float64\n",
      "mb_used                  2553 non-null float64\n",
      "used_gb                  2553 non-null float64\n",
      "messages_included        2553 non-null int64\n",
      "mb_per_month_included    2553 non-null int64\n",
      "minutes_included         2553 non-null int64\n",
      "rub_monthly_fee          2553 non-null int64\n",
      "rub_per_gb               2553 non-null int64\n",
      "rub_per_message          2553 non-null int64\n",
      "rub_per_minute           2553 non-null int64\n",
      "gb_per_month_included    2553 non-null int64\n",
      "revenue                  2553 non-null float64\n",
      "dtypes: float64(10), int64(11), object(6)\n",
      "memory usage: 558.5+ KB\n"
     ]
    }
   ],
   "source": [
    "all_regions_revenue.info()"
   ]
  },
  {
   "cell_type": "code",
   "execution_count": 113,
   "metadata": {},
   "outputs": [
    {
     "data": {
      "text/plain": [
       "39.32"
      ]
     },
     "execution_count": 113,
     "metadata": {},
     "output_type": "execute_result"
    }
   ],
   "source": [
    "# Стандартное отклонение по выручке для Москвы\n",
    "o_m=np.sqrt(m_mean).round(2)\n",
    "o_m"
   ]
  },
  {
   "cell_type": "code",
   "execution_count": 114,
   "metadata": {},
   "outputs": [
    {
     "data": {
      "text/plain": [
       "0.5"
      ]
     },
     "execution_count": 114,
     "metadata": {},
     "output_type": "execute_result"
    }
   ],
   "source": [
    "# Распределение по значению выручки для Москвы\n",
    "distr9 = st.norm(m_mean,o_m) \n",
    "\n",
    "x = m_mean\n",
    "\n",
    "distr9.cdf(x)"
   ]
  },
  {
   "cell_type": "code",
   "execution_count": 115,
   "metadata": {},
   "outputs": [
    {
     "data": {
      "text/plain": [
       "38.96"
      ]
     },
     "execution_count": 115,
     "metadata": {},
     "output_type": "execute_result"
    }
   ],
   "source": [
    "# Стандартное отклонение по выручке не для Москвы\n",
    "o_all=np.sqrt(all_mean).round(2)\n",
    "o_all"
   ]
  },
  {
   "cell_type": "code",
   "execution_count": 116,
   "metadata": {},
   "outputs": [
    {
     "data": {
      "text/plain": [
       "0.5"
      ]
     },
     "execution_count": 116,
     "metadata": {},
     "output_type": "execute_result"
    }
   ],
   "source": [
    "# Распределение по значению выручки не для Москвы\n",
    "distr0 = st.norm(all_mean,o_all) \n",
    "\n",
    "x = all_mean\n",
    "\n",
    "distr0.cdf(x)"
   ]
  },
  {
   "cell_type": "markdown",
   "metadata": {},
   "source": [
    "*Несмотря на то, что распределение в выборке нормальное, её размер и среднее значение по выручке отличаются. Для сравнения датасентов использую метод `scipy.stats.ttest_ind ()` без применения t-теста.*"
   ]
  },
  {
   "cell_type": "markdown",
   "metadata": {},
   "source": [
    "#### Формирование и сравнение гипотиз"
   ]
  },
  {
   "cell_type": "markdown",
   "metadata": {},
   "source": [
    "**Нулевоя гипотеза гласит: `средняя выручка пользователей из Москвы не отличается от выручки пользователей из других регионов`. Я сформулирую альтернативную для выборок и сравнения: `средняя выручка пользователей из Москвы отличается от выручки пользователей из других регионов`.**<br>\n",
    "Если значение p-value будет больше критического уровня статистической значимости, то Отвергнуть нулевую гипотезу не получится, если меньше -Отвергнуть альтернативную гипотезу не получится."
   ]
  },
  {
   "cell_type": "code",
   "execution_count": 117,
   "metadata": {},
   "outputs": [
    {
     "data": {
      "text/plain": [
       "0.4193289449516847"
      ]
     },
     "metadata": {},
     "output_type": "display_data"
    },
    {
     "data": {
      "text/plain": [
       "'Отвергнуть нулевую гипотезу не получится'"
      ]
     },
     "metadata": {},
     "output_type": "display_data"
    }
   ],
   "source": [
    "alpha=0.01 #критический уровень статистической значимости\n",
    "\n",
    "result = st.ttest_ind (moscow_revenue['revenue'], all_regions_revenue['revenue'], equal_var = False) #equal_var = False потому что выборки не равны и имеют разное среднее\n",
    "\n",
    "display(result.pvalue)\n",
    "\n",
    "if result.pvalue > alpha:\n",
    "    display('Отвергнуть нулевую гипотезу не получится')\n",
    "else:\n",
    "    display('Отвергнуть альтернативную гипотезу не получится')"
   ]
  },
  {
   "cell_type": "markdown",
   "metadata": {},
   "source": [
    "#### Промежуточный вывод"
   ]
  },
  {
   "cell_type": "markdown",
   "metadata": {},
   "source": [
    "Проанализировав различные критерии выручки с клиентов разных Москвы и других регионов, я сравнила выбоки. Для этого была сформулирована нулевая гипотеза: `средняя выручка пользователей из Москвы не отличается от выручки пользователей из других регионов` и альтернативная `средняя выручка пользователей из Москвы отличается от выручки пользователей из других регионов`.<br>\n",
    "Сравнение средних разных выборок дало возможность утверждать, что нулевую гипотезу отклонить не удасться, а значит, `средняя выручка пользователей из Москвы не отличается от выручки пользователей из других регионов`.<br>\n",
    "Критический уроветь статистической значимости выбран таким образом, чтобы оценить минимальные отличия."
   ]
  },
  {
   "cell_type": "markdown",
   "metadata": {},
   "source": [
    "### Вывод"
   ]
  },
  {
   "cell_type": "markdown",
   "metadata": {},
   "source": [
    "Проанализировав данные, могу сказать следующее:\n",
    "- В выборках, а значит и в генеральной совокупности, значения распределены нормально.\n",
    "- Первую альтернативную гипотезу после сравнения двух средних без применения t-теста отвергнуть не удалось, а значит выручка от пользователей разных тарифных планом отличается.\n",
    "- К каждой нулевой гипотезе была сформулирована альтернативная. Если в первом случае альтернативная гипотеза не блы отвергнута, то во втором, после сравнения средних по выруке в разных регионах, нулевую гипотизу не удалось отвергнуть. Это значит, что выручка от пользователей в Москве не отличается, от той, которую приносят клиенты из других регионов. "
   ]
  },
  {
   "cell_type": "markdown",
   "metadata": {},
   "source": [
    "## Общий вывод"
   ]
  },
  {
   "cell_type": "markdown",
   "metadata": {},
   "source": [
    "1. Для работы было представлены выборки с различными данными мобильного оператора `\"Мегалайн\"` (данные пользователей, сведения о звонках, сообщениях, интренет-трафике и тарифах). Все таблицы были проверены на наличие ошибок: пропусков, дубликатов, неверного типа данных. Ошибок как таковых не выявила, но для удобства изменила название столбцов, а также округлила данные согласно правилам мобильного оператора, который секунду разговора округляет до минуты, а мегадайты до гигабайт.  Применены матоды: `info(), isna(), duplicated(), np.ceil, rename()`.\n",
    "2. Для проведения предварительных подсчётов объединила с помощью `merge()` несколько таблиц: сведения о пользователях и звонках, сведения о пользователях и сообщениях, сведения о пользователях и интернет-трафике. После объединения удалила строки снемногочисленными пропусками, которые могли повлиять на результат анализа данных. Для этого применила метод `dropna()`. В каждую полученную таблицу добавила колонку с номером месяца (`to_datetime()` ), после чего создала сводные таблицы (`pivot_table`) по интересующим меня признакам: количество звонков и сумма использованных минут для каждого клиента по месяцам, количество отправленных сообщений от каждого пользователя в месяц, объём интрнет-трафика клинетов по месяцам. <br>\n",
    "Для расчёта выручки в первую очередь, я объединила сводные таблицы (`merge()`) с данными об услугах для каждого пользователя помесячно. Далее, удалила мешающие пропуски ( `dropna()`) . Используя имеющиеся сведения о тарифных планах, применила  ко всей таблице функцию `revenue`, которая дла тарифов `smart` и `ultra` рассчитала выручку (вычла бесплатный лимит из суммарного количества звонков, сообщений и интернет-трафика, остаток умножила на значение из тарифного плана и прибавила абонентскую плату). В случаях, где услуг получено больше, чем предусмотрено тарифным планом, компания с каждого клиента получает стоимость абонентской платы и оплату услег вне пакета, по заявленным тарифам.\n",
    "3. Для работы создала таблицы по срезам (`query()`) для каждого траифного плана. Анализирую данные для разговоров, сообщений и интрнет-трафика по каждому тарифу, я рассчитывала среднее, дисерсию, стандартное отклонение и распределение значений нужных признаков, Для визуализации каждого параметра построена гистограмма. Использованы методы: `mean(),np.var(),   \n",
    "4. Прежде чем проверять заявленные гипотезы, я проверила среднее, отклонение и распределение по требуемым значениям, Только после этого проверяла равество средних. Первую нулевую гипотезу `\"средняя выручка пользователей тарифов «Ультра» и «Смарт» не различаются\"` подтвердить н еудалось, поскольку альтернативную гипотезу `\"средняя выручка пользователей тарифов «Ультра» и «Смарт» различается\"` не удалось отклонить. Для работы над второй гипотизой я создала таблицы с данными по Москве и другим регионам (`query()`). Изначальную нулевую гипотезу `средняя выручка пользователей из Москвы не отличается от выручки пользователей из других регионов` отклонить не удалось.<br>\n",
    "Отмечу, что изначально при работе с таблицами в них были оставлены сведения о регионах, для того чтобы применить их в работе с гипотизами.\n",
    "5. Отдельно хочу отметить, что остаются сомнения в отношении первой гипотизы из-за сомнительной (по моему мнению) размеру p-значения.\n",
    "6. Предположу, что на проверку гипотезы мог повлиять характер выборки, работа функции, удаление пропусков и другие факторы."
   ]
  },
  {
   "cell_type": "code",
   "execution_count": null,
   "metadata": {},
   "outputs": [],
   "source": []
  }
 ],
 "metadata": {
  "ExecuteTimeLog": [
   {
    "duration": 1063,
    "start_time": "2022-01-20T16:03:45.192Z"
   },
   {
    "duration": 1582,
    "start_time": "2022-01-20T16:08:40.608Z"
   },
   {
    "duration": 149,
    "start_time": "2022-01-20T16:08:51.847Z"
   },
   {
    "duration": 144,
    "start_time": "2022-01-20T16:09:06.589Z"
   },
   {
    "duration": 20,
    "start_time": "2022-01-20T16:10:13.446Z"
   },
   {
    "duration": 122,
    "start_time": "2022-01-20T16:12:28.166Z"
   },
   {
    "duration": 216,
    "start_time": "2022-01-20T16:13:19.477Z"
   },
   {
    "duration": 17,
    "start_time": "2022-01-20T16:13:24.070Z"
   },
   {
    "duration": 80,
    "start_time": "2022-01-20T16:16:46.693Z"
   },
   {
    "duration": 16,
    "start_time": "2022-01-20T16:17:39.734Z"
   },
   {
    "duration": 20,
    "start_time": "2022-01-20T16:19:23.861Z"
   },
   {
    "duration": 20,
    "start_time": "2022-01-20T16:19:30.918Z"
   },
   {
    "duration": 84,
    "start_time": "2022-01-20T16:19:36.709Z"
   },
   {
    "duration": 118,
    "start_time": "2022-01-20T16:19:45.845Z"
   },
   {
    "duration": 142,
    "start_time": "2022-01-20T16:20:09.350Z"
   },
   {
    "duration": 6,
    "start_time": "2022-01-20T16:21:17.685Z"
   },
   {
    "duration": 30,
    "start_time": "2022-01-20T16:22:45.252Z"
   },
   {
    "duration": 6,
    "start_time": "2022-01-20T16:23:08.677Z"
   },
   {
    "duration": 18,
    "start_time": "2022-01-20T16:25:08.397Z"
   },
   {
    "duration": 16,
    "start_time": "2022-01-20T16:25:26.387Z"
   },
   {
    "duration": 200,
    "start_time": "2022-01-20T16:25:53.013Z"
   },
   {
    "duration": 188,
    "start_time": "2022-01-20T16:25:58.906Z"
   },
   {
    "duration": 13,
    "start_time": "2022-01-20T16:26:12.132Z"
   },
   {
    "duration": 5,
    "start_time": "2022-01-20T16:29:42.275Z"
   },
   {
    "duration": 7,
    "start_time": "2022-01-20T16:30:15.139Z"
   },
   {
    "duration": 84,
    "start_time": "2022-01-20T16:50:30.353Z"
   },
   {
    "duration": 47,
    "start_time": "2022-01-20T16:50:43.777Z"
   },
   {
    "duration": 34,
    "start_time": "2022-01-20T16:50:56.000Z"
   },
   {
    "duration": 5,
    "start_time": "2022-01-20T16:51:08.320Z"
   },
   {
    "duration": 6,
    "start_time": "2022-01-20T16:51:21.056Z"
   },
   {
    "duration": 5,
    "start_time": "2022-01-20T17:50:42.162Z"
   },
   {
    "duration": 6,
    "start_time": "2022-01-20T17:51:16.240Z"
   },
   {
    "duration": 60,
    "start_time": "2022-01-20T18:01:39.741Z"
   },
   {
    "duration": 13,
    "start_time": "2022-01-20T18:01:49.070Z"
   },
   {
    "duration": 10,
    "start_time": "2022-01-20T18:02:00.477Z"
   },
   {
    "duration": 13,
    "start_time": "2022-01-20T18:02:08.663Z"
   },
   {
    "duration": 12,
    "start_time": "2022-01-20T18:03:22.791Z"
   },
   {
    "duration": 3,
    "start_time": "2022-01-20T18:12:50.795Z"
   },
   {
    "duration": 157,
    "start_time": "2022-01-20T18:12:51.685Z"
   },
   {
    "duration": 21,
    "start_time": "2022-01-20T18:12:52.216Z"
   },
   {
    "duration": 121,
    "start_time": "2022-01-20T18:12:52.616Z"
   },
   {
    "duration": 18,
    "start_time": "2022-01-20T18:12:52.968Z"
   },
   {
    "duration": 83,
    "start_time": "2022-01-20T18:12:53.273Z"
   },
   {
    "duration": 14,
    "start_time": "2022-01-20T18:12:53.560Z"
   },
   {
    "duration": 20,
    "start_time": "2022-01-20T18:12:53.881Z"
   },
   {
    "duration": 6,
    "start_time": "2022-01-20T18:12:54.280Z"
   },
   {
    "duration": 32,
    "start_time": "2022-01-20T18:12:54.857Z"
   },
   {
    "duration": 6,
    "start_time": "2022-01-20T18:12:55.292Z"
   },
   {
    "duration": 19,
    "start_time": "2022-01-20T18:12:57.320Z"
   },
   {
    "duration": 90,
    "start_time": "2022-01-20T18:12:57.688Z"
   },
   {
    "duration": 17,
    "start_time": "2022-01-20T18:12:58.041Z"
   },
   {
    "duration": 52,
    "start_time": "2022-01-20T18:12:58.360Z"
   },
   {
    "duration": 14,
    "start_time": "2022-01-20T18:12:58.696Z"
   },
   {
    "duration": 37,
    "start_time": "2022-01-20T18:12:59.016Z"
   },
   {
    "duration": 6,
    "start_time": "2022-01-20T18:12:59.367Z"
   },
   {
    "duration": 5,
    "start_time": "2022-01-20T18:12:59.768Z"
   },
   {
    "duration": 6,
    "start_time": "2022-01-20T18:13:00.136Z"
   },
   {
    "duration": 7,
    "start_time": "2022-01-20T18:13:00.632Z"
   },
   {
    "duration": 4802,
    "start_time": "2022-01-20T18:14:04.041Z"
   },
   {
    "duration": 12,
    "start_time": "2022-01-20T18:15:38.824Z"
   },
   {
    "duration": 236,
    "start_time": "2022-01-20T18:15:47.816Z"
   },
   {
    "duration": 13,
    "start_time": "2022-01-20T18:15:54.327Z"
   },
   {
    "duration": 11,
    "start_time": "2022-01-20T18:15:58.072Z"
   },
   {
    "duration": 12,
    "start_time": "2022-01-20T18:16:01.575Z"
   },
   {
    "duration": 73,
    "start_time": "2022-01-20T18:16:06.295Z"
   },
   {
    "duration": 11,
    "start_time": "2022-01-20T18:16:09.543Z"
   },
   {
    "duration": 262,
    "start_time": "2022-01-20T18:18:48.999Z"
   },
   {
    "duration": 11,
    "start_time": "2022-01-20T18:18:54.215Z"
   },
   {
    "duration": 12,
    "start_time": "2022-01-20T18:18:58.442Z"
   },
   {
    "duration": 12,
    "start_time": "2022-01-20T18:19:09.175Z"
   },
   {
    "duration": 364,
    "start_time": "2022-01-20T18:21:34.983Z"
   },
   {
    "duration": 200,
    "start_time": "2022-01-20T18:21:57.607Z"
   },
   {
    "duration": 191,
    "start_time": "2022-01-20T18:22:16.711Z"
   },
   {
    "duration": 9,
    "start_time": "2022-01-20T18:23:21.142Z"
   },
   {
    "duration": 10,
    "start_time": "2022-01-20T18:23:38.246Z"
   },
   {
    "duration": 195,
    "start_time": "2022-01-20T18:23:44.598Z"
   },
   {
    "duration": 28,
    "start_time": "2022-01-20T18:24:11.382Z"
   },
   {
    "duration": 31,
    "start_time": "2022-01-20T18:24:32.982Z"
   },
   {
    "duration": 31,
    "start_time": "2022-01-20T18:24:48.455Z"
   },
   {
    "duration": 12,
    "start_time": "2022-01-20T18:28:37.333Z"
   },
   {
    "duration": 11,
    "start_time": "2022-01-20T18:28:53.126Z"
   },
   {
    "duration": 11,
    "start_time": "2022-01-20T18:29:57.397Z"
   },
   {
    "duration": 11,
    "start_time": "2022-01-20T18:31:25.797Z"
   },
   {
    "duration": 11,
    "start_time": "2022-01-20T18:32:04.005Z"
   },
   {
    "duration": 77,
    "start_time": "2022-01-20T18:34:38.918Z"
   },
   {
    "duration": 33,
    "start_time": "2022-01-20T18:34:47.204Z"
   },
   {
    "duration": 22,
    "start_time": "2022-01-20T18:34:57.188Z"
   },
   {
    "duration": 34,
    "start_time": "2022-01-20T18:37:44.020Z"
   },
   {
    "duration": 24,
    "start_time": "2022-01-20T18:40:04.676Z"
   },
   {
    "duration": 8,
    "start_time": "2022-01-20T18:45:11.540Z"
   },
   {
    "duration": 130,
    "start_time": "2022-01-20T19:59:34.548Z"
   },
   {
    "duration": 195,
    "start_time": "2022-01-20T20:01:22.835Z"
   },
   {
    "duration": 67,
    "start_time": "2022-01-20T20:04:41.794Z"
   },
   {
    "duration": 10,
    "start_time": "2022-01-20T20:04:54.802Z"
   },
   {
    "duration": 192,
    "start_time": "2022-01-20T20:05:02.979Z"
   },
   {
    "duration": 122,
    "start_time": "2022-01-20T20:05:29.779Z"
   },
   {
    "duration": 8,
    "start_time": "2022-01-20T20:05:31.074Z"
   },
   {
    "duration": 213,
    "start_time": "2022-01-20T20:05:32.658Z"
   },
   {
    "duration": 105,
    "start_time": "2022-01-20T20:08:03.938Z"
   },
   {
    "duration": 1566,
    "start_time": "2022-01-21T15:14:17.125Z"
   },
   {
    "duration": 219,
    "start_time": "2022-01-21T15:14:18.694Z"
   },
   {
    "duration": 29,
    "start_time": "2022-01-21T15:14:18.916Z"
   },
   {
    "duration": 178,
    "start_time": "2022-01-21T15:14:18.968Z"
   },
   {
    "duration": 32,
    "start_time": "2022-01-21T15:14:19.149Z"
   },
   {
    "duration": 181,
    "start_time": "2022-01-21T15:14:19.184Z"
   },
   {
    "duration": 29,
    "start_time": "2022-01-21T15:14:19.370Z"
   },
   {
    "duration": 30,
    "start_time": "2022-01-21T15:14:19.405Z"
   },
   {
    "duration": 31,
    "start_time": "2022-01-21T15:14:19.439Z"
   },
   {
    "duration": 47,
    "start_time": "2022-01-21T15:14:19.473Z"
   },
   {
    "duration": 20,
    "start_time": "2022-01-21T15:14:19.523Z"
   },
   {
    "duration": 33,
    "start_time": "2022-01-21T15:14:19.545Z"
   },
   {
    "duration": 157,
    "start_time": "2022-01-21T15:14:19.580Z"
   },
   {
    "duration": 31,
    "start_time": "2022-01-21T15:14:19.740Z"
   },
   {
    "duration": 130,
    "start_time": "2022-01-21T15:14:19.774Z"
   },
   {
    "duration": 21,
    "start_time": "2022-01-21T15:14:19.907Z"
   },
   {
    "duration": 93,
    "start_time": "2022-01-21T15:14:19.931Z"
   },
   {
    "duration": 9,
    "start_time": "2022-01-21T15:14:20.027Z"
   },
   {
    "duration": 30,
    "start_time": "2022-01-21T15:14:20.039Z"
   },
   {
    "duration": 14,
    "start_time": "2022-01-21T15:14:20.073Z"
   },
   {
    "duration": 15,
    "start_time": "2022-01-21T15:14:20.089Z"
   },
   {
    "duration": 23,
    "start_time": "2022-01-21T15:14:20.106Z"
   },
   {
    "duration": 47,
    "start_time": "2022-01-21T15:14:20.134Z"
   },
   {
    "duration": 85,
    "start_time": "2022-01-21T15:14:20.184Z"
   },
   {
    "duration": 47,
    "start_time": "2022-01-21T15:14:20.272Z"
   },
   {
    "duration": 55,
    "start_time": "2022-01-21T15:14:20.321Z"
   },
   {
    "duration": 11,
    "start_time": "2022-01-21T15:14:20.379Z"
   },
   {
    "duration": 222,
    "start_time": "2022-01-21T15:14:20.393Z"
   },
   {
    "duration": 398,
    "start_time": "2022-01-21T15:27:02.746Z"
   },
   {
    "duration": 194,
    "start_time": "2022-01-21T15:27:05.845Z"
   },
   {
    "duration": 346,
    "start_time": "2022-01-21T15:27:52.388Z"
   },
   {
    "duration": 278,
    "start_time": "2022-01-21T15:28:06.741Z"
   },
   {
    "duration": 1620,
    "start_time": "2022-01-21T15:28:28.437Z"
   },
   {
    "duration": 229,
    "start_time": "2022-01-21T15:28:30.060Z"
   },
   {
    "duration": 27,
    "start_time": "2022-01-21T15:28:30.292Z"
   },
   {
    "duration": 207,
    "start_time": "2022-01-21T15:28:30.322Z"
   },
   {
    "duration": 38,
    "start_time": "2022-01-21T15:28:30.531Z"
   },
   {
    "duration": 134,
    "start_time": "2022-01-21T15:28:30.572Z"
   },
   {
    "duration": 21,
    "start_time": "2022-01-21T15:28:30.709Z"
   },
   {
    "duration": 44,
    "start_time": "2022-01-21T15:28:30.735Z"
   },
   {
    "duration": 32,
    "start_time": "2022-01-21T15:28:30.782Z"
   },
   {
    "duration": 81,
    "start_time": "2022-01-21T15:28:30.817Z"
   },
   {
    "duration": 25,
    "start_time": "2022-01-21T15:28:30.900Z"
   },
   {
    "duration": 35,
    "start_time": "2022-01-21T15:28:30.928Z"
   },
   {
    "duration": 177,
    "start_time": "2022-01-21T15:28:30.965Z"
   },
   {
    "duration": 30,
    "start_time": "2022-01-21T15:28:31.145Z"
   },
   {
    "duration": 131,
    "start_time": "2022-01-21T15:28:31.178Z"
   },
   {
    "duration": 24,
    "start_time": "2022-01-21T15:28:31.314Z"
   },
   {
    "duration": 93,
    "start_time": "2022-01-21T15:28:31.341Z"
   },
   {
    "duration": 8,
    "start_time": "2022-01-21T15:28:31.437Z"
   },
   {
    "duration": 8,
    "start_time": "2022-01-21T15:28:31.470Z"
   },
   {
    "duration": 15,
    "start_time": "2022-01-21T15:28:31.480Z"
   },
   {
    "duration": 16,
    "start_time": "2022-01-21T15:28:31.497Z"
   },
   {
    "duration": 36,
    "start_time": "2022-01-21T15:28:31.515Z"
   },
   {
    "duration": 25,
    "start_time": "2022-01-21T15:28:31.555Z"
   },
   {
    "duration": 62,
    "start_time": "2022-01-21T15:28:31.583Z"
   },
   {
    "duration": 71,
    "start_time": "2022-01-21T15:28:31.647Z"
   },
   {
    "duration": 63,
    "start_time": "2022-01-21T15:28:31.721Z"
   },
   {
    "duration": 11,
    "start_time": "2022-01-21T15:28:31.787Z"
   },
   {
    "duration": 237,
    "start_time": "2022-01-21T15:28:31.801Z"
   },
   {
    "duration": 1798,
    "start_time": "2022-01-21T15:29:44.818Z"
   },
   {
    "duration": 229,
    "start_time": "2022-01-21T15:29:46.618Z"
   },
   {
    "duration": 27,
    "start_time": "2022-01-21T15:29:48.675Z"
   },
   {
    "duration": 185,
    "start_time": "2022-01-21T15:29:49.477Z"
   },
   {
    "duration": 22,
    "start_time": "2022-01-21T15:29:50.163Z"
   },
   {
    "duration": 162,
    "start_time": "2022-01-21T15:29:50.841Z"
   },
   {
    "duration": 20,
    "start_time": "2022-01-21T15:29:51.588Z"
   },
   {
    "duration": 24,
    "start_time": "2022-01-21T15:29:52.260Z"
   },
   {
    "duration": 9,
    "start_time": "2022-01-21T15:29:52.997Z"
   },
   {
    "duration": 47,
    "start_time": "2022-01-21T15:29:53.811Z"
   },
   {
    "duration": 9,
    "start_time": "2022-01-21T15:29:54.642Z"
   },
   {
    "duration": 26,
    "start_time": "2022-01-21T15:29:55.987Z"
   },
   {
    "duration": 141,
    "start_time": "2022-01-21T15:29:56.691Z"
   },
   {
    "duration": 22,
    "start_time": "2022-01-21T15:29:57.351Z"
   },
   {
    "duration": 111,
    "start_time": "2022-01-21T15:29:58.066Z"
   },
   {
    "duration": 18,
    "start_time": "2022-01-21T15:29:59.026Z"
   },
   {
    "duration": 60,
    "start_time": "2022-01-21T15:29:59.745Z"
   },
   {
    "duration": 10,
    "start_time": "2022-01-21T15:30:00.548Z"
   },
   {
    "duration": 9,
    "start_time": "2022-01-21T15:30:04.226Z"
   },
   {
    "duration": 8,
    "start_time": "2022-01-21T15:30:04.978Z"
   },
   {
    "duration": 8,
    "start_time": "2022-01-21T15:30:05.523Z"
   },
   {
    "duration": 21,
    "start_time": "2022-01-21T15:30:06.994Z"
   },
   {
    "duration": 16,
    "start_time": "2022-01-21T15:30:08.004Z"
   },
   {
    "duration": 63,
    "start_time": "2022-01-21T15:30:09.522Z"
   },
   {
    "duration": 48,
    "start_time": "2022-01-21T15:30:10.466Z"
   },
   {
    "duration": 35,
    "start_time": "2022-01-21T15:30:12.354Z"
   },
   {
    "duration": 12,
    "start_time": "2022-01-21T15:30:13.186Z"
   },
   {
    "duration": 212,
    "start_time": "2022-01-21T15:30:17.363Z"
   },
   {
    "duration": 456,
    "start_time": "2022-01-21T15:30:20.034Z"
   },
   {
    "duration": 113,
    "start_time": "2022-01-21T15:32:15.267Z"
   },
   {
    "duration": 61,
    "start_time": "2022-01-21T16:47:18.895Z"
   },
   {
    "duration": 81,
    "start_time": "2022-01-21T16:47:39.543Z"
   },
   {
    "duration": 369,
    "start_time": "2022-01-21T16:48:26.199Z"
   },
   {
    "duration": 81,
    "start_time": "2022-01-21T16:48:48.552Z"
   },
   {
    "duration": 323,
    "start_time": "2022-01-21T16:49:11.464Z"
   },
   {
    "duration": 81,
    "start_time": "2022-01-21T16:49:39.736Z"
   },
   {
    "duration": 264,
    "start_time": "2022-01-21T16:50:04.343Z"
   },
   {
    "duration": 355,
    "start_time": "2022-01-21T16:51:16.023Z"
   },
   {
    "duration": 80,
    "start_time": "2022-01-21T16:51:29.795Z"
   },
   {
    "duration": 332,
    "start_time": "2022-01-21T16:51:39.959Z"
   },
   {
    "duration": 80,
    "start_time": "2022-01-21T16:52:49.512Z"
   },
   {
    "duration": 132,
    "start_time": "2022-01-21T16:52:56.392Z"
   },
   {
    "duration": 90,
    "start_time": "2022-01-21T16:54:59.751Z"
   },
   {
    "duration": 79,
    "start_time": "2022-01-21T16:55:07.607Z"
   },
   {
    "duration": 80,
    "start_time": "2022-01-21T16:55:14.344Z"
   },
   {
    "duration": 491,
    "start_time": "2022-01-21T16:57:10.631Z"
   },
   {
    "duration": 81,
    "start_time": "2022-01-21T16:58:08.150Z"
   },
   {
    "duration": 126,
    "start_time": "2022-01-21T17:02:17.255Z"
   },
   {
    "duration": 1483,
    "start_time": "2022-01-21T17:04:21.685Z"
   },
   {
    "duration": 1216,
    "start_time": "2022-01-21T17:04:49.061Z"
   },
   {
    "duration": 384,
    "start_time": "2022-01-21T17:05:29.902Z"
   },
   {
    "duration": 79,
    "start_time": "2022-01-21T17:05:50.278Z"
   },
   {
    "duration": 371,
    "start_time": "2022-01-21T17:06:10.741Z"
   },
   {
    "duration": 77,
    "start_time": "2022-01-21T17:06:18.006Z"
   },
   {
    "duration": 81,
    "start_time": "2022-01-21T18:09:50.253Z"
   },
   {
    "duration": 74,
    "start_time": "2022-01-21T18:52:37.513Z"
   },
   {
    "duration": 43,
    "start_time": "2022-01-21T18:53:39.188Z"
   },
   {
    "duration": 67,
    "start_time": "2022-01-21T18:56:00.308Z"
   },
   {
    "duration": 37,
    "start_time": "2022-01-21T18:56:18.933Z"
   },
   {
    "duration": 41,
    "start_time": "2022-01-21T18:56:28.563Z"
   },
   {
    "duration": 41,
    "start_time": "2022-01-21T18:56:45.300Z"
   },
   {
    "duration": 58,
    "start_time": "2022-01-21T18:57:21.971Z"
   },
   {
    "duration": 103,
    "start_time": "2022-01-21T18:59:52.132Z"
   },
   {
    "duration": 120,
    "start_time": "2022-01-21T19:02:56.099Z"
   },
   {
    "duration": 6622,
    "start_time": "2022-01-21T19:05:50.821Z"
   },
   {
    "duration": 59,
    "start_time": "2022-01-21T19:06:00.643Z"
   },
   {
    "duration": 59,
    "start_time": "2022-01-21T19:06:48.578Z"
   },
   {
    "duration": 79,
    "start_time": "2022-01-21T19:07:25.970Z"
   },
   {
    "duration": 58,
    "start_time": "2022-01-21T19:41:25.857Z"
   },
   {
    "duration": 135,
    "start_time": "2022-01-21T19:56:12.638Z"
   },
   {
    "duration": 70,
    "start_time": "2022-01-21T19:58:25.115Z"
   },
   {
    "duration": 62,
    "start_time": "2022-01-21T20:06:34.666Z"
   },
   {
    "duration": 1612,
    "start_time": "2022-01-21T20:17:04.987Z"
   },
   {
    "duration": 224,
    "start_time": "2022-01-21T20:17:06.602Z"
   },
   {
    "duration": 40,
    "start_time": "2022-01-21T20:17:06.829Z"
   },
   {
    "duration": 184,
    "start_time": "2022-01-21T20:17:06.872Z"
   },
   {
    "duration": 31,
    "start_time": "2022-01-21T20:17:07.059Z"
   },
   {
    "duration": 136,
    "start_time": "2022-01-21T20:17:07.093Z"
   },
   {
    "duration": 41,
    "start_time": "2022-01-21T20:17:07.232Z"
   },
   {
    "duration": 25,
    "start_time": "2022-01-21T20:17:07.279Z"
   },
   {
    "duration": 12,
    "start_time": "2022-01-21T20:17:07.308Z"
   },
   {
    "duration": 56,
    "start_time": "2022-01-21T20:17:07.323Z"
   },
   {
    "duration": 8,
    "start_time": "2022-01-21T20:17:07.381Z"
   },
   {
    "duration": 32,
    "start_time": "2022-01-21T20:17:07.392Z"
   },
   {
    "duration": 163,
    "start_time": "2022-01-21T20:17:07.427Z"
   },
   {
    "duration": 21,
    "start_time": "2022-01-21T20:17:07.593Z"
   },
   {
    "duration": 129,
    "start_time": "2022-01-21T20:17:07.617Z"
   },
   {
    "duration": 28,
    "start_time": "2022-01-21T20:17:07.749Z"
   },
   {
    "duration": 61,
    "start_time": "2022-01-21T20:17:07.779Z"
   },
   {
    "duration": 29,
    "start_time": "2022-01-21T20:17:07.842Z"
   },
   {
    "duration": 13,
    "start_time": "2022-01-21T20:17:07.874Z"
   },
   {
    "duration": 9,
    "start_time": "2022-01-21T20:17:07.890Z"
   },
   {
    "duration": 11,
    "start_time": "2022-01-21T20:17:07.901Z"
   },
   {
    "duration": 21,
    "start_time": "2022-01-21T20:17:07.914Z"
   },
   {
    "duration": 46,
    "start_time": "2022-01-21T20:17:07.939Z"
   },
   {
    "duration": 95,
    "start_time": "2022-01-21T20:17:07.989Z"
   },
   {
    "duration": 46,
    "start_time": "2022-01-21T20:17:08.087Z"
   },
   {
    "duration": 57,
    "start_time": "2022-01-21T20:17:08.135Z"
   },
   {
    "duration": 11,
    "start_time": "2022-01-21T20:17:08.195Z"
   },
   {
    "duration": 245,
    "start_time": "2022-01-21T20:17:08.209Z"
   },
   {
    "duration": 90,
    "start_time": "2022-01-21T20:17:08.456Z"
   },
   {
    "duration": 140,
    "start_time": "2022-01-21T20:17:08.548Z"
   },
   {
    "duration": 117,
    "start_time": "2022-01-21T20:17:08.691Z"
   },
   {
    "duration": 69,
    "start_time": "2022-01-21T20:17:08.810Z"
   },
   {
    "duration": 58,
    "start_time": "2022-01-21T20:17:08.882Z"
   },
   {
    "duration": 170,
    "start_time": "2022-01-21T20:17:08.942Z"
   },
   {
    "duration": 81,
    "start_time": "2022-01-21T20:17:09.115Z"
   },
   {
    "duration": 53,
    "start_time": "2022-01-21T20:17:09.199Z"
   },
   {
    "duration": 127,
    "start_time": "2022-01-21T20:17:09.270Z"
   },
   {
    "duration": 81,
    "start_time": "2022-01-21T20:17:28.850Z"
   },
   {
    "duration": 89,
    "start_time": "2022-01-21T20:18:20.482Z"
   },
   {
    "duration": 394,
    "start_time": "2022-01-21T20:18:58.594Z"
   },
   {
    "duration": 283,
    "start_time": "2022-01-21T20:19:24.274Z"
   },
   {
    "duration": 104,
    "start_time": "2022-01-21T20:20:00.321Z"
   },
   {
    "duration": 118,
    "start_time": "2022-01-21T20:21:07.361Z"
   },
   {
    "duration": 480,
    "start_time": "2022-01-21T20:21:38.644Z"
   },
   {
    "duration": 270,
    "start_time": "2022-01-21T20:21:59.345Z"
   },
   {
    "duration": 1068,
    "start_time": "2022-01-22T11:01:23.878Z"
   },
   {
    "duration": 154,
    "start_time": "2022-01-22T11:01:24.948Z"
   },
   {
    "duration": 21,
    "start_time": "2022-01-22T11:01:25.104Z"
   },
   {
    "duration": 132,
    "start_time": "2022-01-22T11:01:25.126Z"
   },
   {
    "duration": 15,
    "start_time": "2022-01-22T11:01:25.260Z"
   },
   {
    "duration": 105,
    "start_time": "2022-01-22T11:01:25.277Z"
   },
   {
    "duration": 15,
    "start_time": "2022-01-22T11:01:25.383Z"
   },
   {
    "duration": 32,
    "start_time": "2022-01-22T11:01:25.400Z"
   },
   {
    "duration": 29,
    "start_time": "2022-01-22T11:01:25.435Z"
   },
   {
    "duration": 72,
    "start_time": "2022-01-22T11:01:25.466Z"
   },
   {
    "duration": 19,
    "start_time": "2022-01-22T11:01:25.540Z"
   },
   {
    "duration": 62,
    "start_time": "2022-01-22T11:01:25.561Z"
   },
   {
    "duration": 111,
    "start_time": "2022-01-22T11:01:25.625Z"
   },
   {
    "duration": 16,
    "start_time": "2022-01-22T11:01:25.737Z"
   },
   {
    "duration": 83,
    "start_time": "2022-01-22T11:01:25.755Z"
   },
   {
    "duration": 14,
    "start_time": "2022-01-22T11:01:25.840Z"
   },
   {
    "duration": 63,
    "start_time": "2022-01-22T11:01:25.856Z"
   },
   {
    "duration": 5,
    "start_time": "2022-01-22T11:01:25.921Z"
   },
   {
    "duration": 24,
    "start_time": "2022-01-22T11:01:25.927Z"
   },
   {
    "duration": 35,
    "start_time": "2022-01-22T11:01:25.953Z"
   },
   {
    "duration": 34,
    "start_time": "2022-01-22T11:01:25.990Z"
   },
   {
    "duration": 37,
    "start_time": "2022-01-22T11:01:26.026Z"
   },
   {
    "duration": 24,
    "start_time": "2022-01-22T11:01:26.067Z"
   },
   {
    "duration": 26,
    "start_time": "2022-01-22T11:01:26.093Z"
   },
   {
    "duration": 63,
    "start_time": "2022-01-22T11:01:26.121Z"
   },
   {
    "duration": 29,
    "start_time": "2022-01-22T11:01:26.186Z"
   },
   {
    "duration": 8,
    "start_time": "2022-01-22T11:01:26.217Z"
   },
   {
    "duration": 165,
    "start_time": "2022-01-22T11:01:26.227Z"
   },
   {
    "duration": 76,
    "start_time": "2022-01-22T11:01:26.397Z"
   },
   {
    "duration": 92,
    "start_time": "2022-01-22T11:01:26.475Z"
   },
   {
    "duration": 68,
    "start_time": "2022-01-22T11:01:26.569Z"
   },
   {
    "duration": 38,
    "start_time": "2022-01-22T11:01:26.639Z"
   },
   {
    "duration": 49,
    "start_time": "2022-01-22T11:01:26.678Z"
   },
   {
    "duration": 109,
    "start_time": "2022-01-22T11:01:26.729Z"
   },
   {
    "duration": 45,
    "start_time": "2022-01-22T11:01:26.840Z"
   },
   {
    "duration": 37,
    "start_time": "2022-01-22T11:01:26.897Z"
   },
   {
    "duration": 276,
    "start_time": "2022-01-22T11:01:26.935Z"
   },
   {
    "duration": 21,
    "start_time": "2022-01-22T11:02:27.622Z"
   },
   {
    "duration": 52,
    "start_time": "2022-01-22T11:02:58.453Z"
   },
   {
    "duration": 73,
    "start_time": "2022-01-22T11:05:06.646Z"
   },
   {
    "duration": 250,
    "start_time": "2022-01-22T11:05:24.664Z"
   },
   {
    "duration": 52,
    "start_time": "2022-01-22T11:06:51.666Z"
   },
   {
    "duration": 127,
    "start_time": "2022-01-22T11:07:10.888Z"
   },
   {
    "duration": 54,
    "start_time": "2022-01-22T11:07:12.528Z"
   },
   {
    "duration": 75,
    "start_time": "2022-01-22T11:07:16.207Z"
   },
   {
    "duration": 55,
    "start_time": "2022-01-22T11:07:18.672Z"
   },
   {
    "duration": 57,
    "start_time": "2022-01-22T11:08:15.376Z"
   },
   {
    "duration": 6,
    "start_time": "2022-01-22T11:08:45.248Z"
   },
   {
    "duration": 18,
    "start_time": "2022-01-22T11:08:57.951Z"
   },
   {
    "duration": 18,
    "start_time": "2022-01-22T11:09:17.377Z"
   },
   {
    "duration": 19,
    "start_time": "2022-01-22T11:09:30.289Z"
   },
   {
    "duration": 22,
    "start_time": "2022-01-22T11:10:40.112Z"
   },
   {
    "duration": 56,
    "start_time": "2022-01-22T11:13:17.175Z"
   },
   {
    "duration": 1164,
    "start_time": "2022-01-22T11:13:25.912Z"
   },
   {
    "duration": 169,
    "start_time": "2022-01-22T11:13:27.078Z"
   },
   {
    "duration": 21,
    "start_time": "2022-01-22T11:13:27.249Z"
   },
   {
    "duration": 143,
    "start_time": "2022-01-22T11:13:27.272Z"
   },
   {
    "duration": 17,
    "start_time": "2022-01-22T11:13:27.417Z"
   },
   {
    "duration": 102,
    "start_time": "2022-01-22T11:13:27.436Z"
   },
   {
    "duration": 14,
    "start_time": "2022-01-22T11:13:27.540Z"
   },
   {
    "duration": 23,
    "start_time": "2022-01-22T11:13:27.557Z"
   },
   {
    "duration": 16,
    "start_time": "2022-01-22T11:13:27.582Z"
   },
   {
    "duration": 47,
    "start_time": "2022-01-22T11:13:27.600Z"
   },
   {
    "duration": 7,
    "start_time": "2022-01-22T11:13:27.648Z"
   },
   {
    "duration": 27,
    "start_time": "2022-01-22T11:13:27.657Z"
   },
   {
    "duration": 112,
    "start_time": "2022-01-22T11:13:27.685Z"
   },
   {
    "duration": 18,
    "start_time": "2022-01-22T11:13:27.799Z"
   },
   {
    "duration": 88,
    "start_time": "2022-01-22T11:13:27.819Z"
   },
   {
    "duration": 16,
    "start_time": "2022-01-22T11:13:27.908Z"
   },
   {
    "duration": 74,
    "start_time": "2022-01-22T11:13:27.926Z"
   },
   {
    "duration": 6,
    "start_time": "2022-01-22T11:13:28.002Z"
   },
   {
    "duration": 11,
    "start_time": "2022-01-22T11:13:28.010Z"
   },
   {
    "duration": 8,
    "start_time": "2022-01-22T11:13:28.023Z"
   },
   {
    "duration": 10,
    "start_time": "2022-01-22T11:13:28.033Z"
   },
   {
    "duration": 15,
    "start_time": "2022-01-22T11:13:28.045Z"
   },
   {
    "duration": 39,
    "start_time": "2022-01-22T11:13:28.063Z"
   },
   {
    "duration": 25,
    "start_time": "2022-01-22T11:13:28.104Z"
   },
   {
    "duration": 33,
    "start_time": "2022-01-22T11:13:28.130Z"
   },
   {
    "duration": 46,
    "start_time": "2022-01-22T11:13:28.164Z"
   },
   {
    "duration": 8,
    "start_time": "2022-01-22T11:13:28.212Z"
   },
   {
    "duration": 160,
    "start_time": "2022-01-22T11:13:28.222Z"
   },
   {
    "duration": 79,
    "start_time": "2022-01-22T11:13:28.383Z"
   },
   {
    "duration": 73,
    "start_time": "2022-01-22T11:13:28.464Z"
   },
   {
    "duration": 68,
    "start_time": "2022-01-22T11:13:28.539Z"
   },
   {
    "duration": 22,
    "start_time": "2022-01-22T11:13:28.608Z"
   },
   {
    "duration": 88,
    "start_time": "2022-01-22T11:13:28.632Z"
   },
   {
    "duration": 83,
    "start_time": "2022-01-22T11:13:28.722Z"
   },
   {
    "duration": 39,
    "start_time": "2022-01-22T11:13:28.807Z"
   },
   {
    "duration": 54,
    "start_time": "2022-01-22T11:13:28.847Z"
   },
   {
    "duration": 117,
    "start_time": "2022-01-22T11:13:28.902Z"
   },
   {
    "duration": 48,
    "start_time": "2022-01-22T11:13:29.021Z"
   },
   {
    "duration": 55,
    "start_time": "2022-01-22T11:13:29.071Z"
   },
   {
    "duration": 292,
    "start_time": "2022-01-22T11:13:29.128Z"
   },
   {
    "duration": 38,
    "start_time": "2022-01-22T11:20:35.556Z"
   },
   {
    "duration": 18,
    "start_time": "2022-01-22T11:20:37.139Z"
   },
   {
    "duration": 15,
    "start_time": "2022-01-22T11:20:37.619Z"
   },
   {
    "duration": 8,
    "start_time": "2022-01-22T11:20:38.340Z"
   },
   {
    "duration": 129,
    "start_time": "2022-01-22T11:20:47.298Z"
   },
   {
    "duration": 57,
    "start_time": "2022-01-22T11:20:50.611Z"
   },
   {
    "duration": 51,
    "start_time": "2022-01-22T11:20:53.491Z"
   },
   {
    "duration": 220,
    "start_time": "2022-01-22T11:24:54.034Z"
   },
   {
    "duration": 69,
    "start_time": "2022-01-22T11:25:01.250Z"
   },
   {
    "duration": 47,
    "start_time": "2022-01-22T11:25:06.336Z"
   },
   {
    "duration": 62,
    "start_time": "2022-01-22T11:25:21.651Z"
   },
   {
    "duration": 48,
    "start_time": "2022-01-22T11:25:22.913Z"
   },
   {
    "duration": 197,
    "start_time": "2022-01-22T11:25:34.225Z"
   },
   {
    "duration": 1131,
    "start_time": "2022-01-22T11:25:53.811Z"
   },
   {
    "duration": 170,
    "start_time": "2022-01-22T11:25:54.944Z"
   },
   {
    "duration": 21,
    "start_time": "2022-01-22T11:25:55.116Z"
   },
   {
    "duration": 146,
    "start_time": "2022-01-22T11:25:55.139Z"
   },
   {
    "duration": 24,
    "start_time": "2022-01-22T11:25:55.287Z"
   },
   {
    "duration": 100,
    "start_time": "2022-01-22T11:25:55.313Z"
   },
   {
    "duration": 15,
    "start_time": "2022-01-22T11:25:55.415Z"
   },
   {
    "duration": 24,
    "start_time": "2022-01-22T11:25:55.433Z"
   },
   {
    "duration": 18,
    "start_time": "2022-01-22T11:25:55.460Z"
   },
   {
    "duration": 67,
    "start_time": "2022-01-22T11:25:55.480Z"
   },
   {
    "duration": 8,
    "start_time": "2022-01-22T11:25:55.549Z"
   },
   {
    "duration": 26,
    "start_time": "2022-01-22T11:25:55.560Z"
   },
   {
    "duration": 116,
    "start_time": "2022-01-22T11:25:55.588Z"
   },
   {
    "duration": 17,
    "start_time": "2022-01-22T11:25:55.705Z"
   },
   {
    "duration": 86,
    "start_time": "2022-01-22T11:25:55.723Z"
   },
   {
    "duration": 15,
    "start_time": "2022-01-22T11:25:55.811Z"
   },
   {
    "duration": 69,
    "start_time": "2022-01-22T11:25:55.828Z"
   },
   {
    "duration": 6,
    "start_time": "2022-01-22T11:25:55.899Z"
   },
   {
    "duration": 12,
    "start_time": "2022-01-22T11:25:55.906Z"
   },
   {
    "duration": 13,
    "start_time": "2022-01-22T11:25:55.920Z"
   },
   {
    "duration": 27,
    "start_time": "2022-01-22T11:25:55.935Z"
   },
   {
    "duration": 25,
    "start_time": "2022-01-22T11:25:55.964Z"
   },
   {
    "duration": 21,
    "start_time": "2022-01-22T11:25:55.993Z"
   },
   {
    "duration": 54,
    "start_time": "2022-01-22T11:25:56.017Z"
   },
   {
    "duration": 42,
    "start_time": "2022-01-22T11:25:56.073Z"
   },
   {
    "duration": 26,
    "start_time": "2022-01-22T11:25:56.117Z"
   },
   {
    "duration": 9,
    "start_time": "2022-01-22T11:25:56.145Z"
   },
   {
    "duration": 178,
    "start_time": "2022-01-22T11:25:56.156Z"
   },
   {
    "duration": 70,
    "start_time": "2022-01-22T11:25:56.335Z"
   },
   {
    "duration": 63,
    "start_time": "2022-01-22T11:25:56.407Z"
   },
   {
    "duration": 60,
    "start_time": "2022-01-22T11:25:56.472Z"
   },
   {
    "duration": 2,
    "start_time": "2022-01-22T11:25:56.534Z"
   },
   {
    "duration": 96,
    "start_time": "2022-01-22T11:25:56.537Z"
   },
   {
    "duration": 79,
    "start_time": "2022-01-22T11:25:56.635Z"
   },
   {
    "duration": 40,
    "start_time": "2022-01-22T11:25:56.716Z"
   },
   {
    "duration": 60,
    "start_time": "2022-01-22T11:25:56.758Z"
   },
   {
    "duration": 118,
    "start_time": "2022-01-22T11:25:56.820Z"
   },
   {
    "duration": 58,
    "start_time": "2022-01-22T11:25:56.940Z"
   },
   {
    "duration": 40,
    "start_time": "2022-01-22T11:25:57.000Z"
   },
   {
    "duration": 271,
    "start_time": "2022-01-22T11:25:57.042Z"
   },
   {
    "duration": 42,
    "start_time": "2022-01-22T11:35:11.677Z"
   },
   {
    "duration": 46,
    "start_time": "2022-01-22T11:35:14.330Z"
   },
   {
    "duration": 5,
    "start_time": "2022-01-22T11:36:47.627Z"
   },
   {
    "duration": 49,
    "start_time": "2022-01-22T11:36:49.290Z"
   },
   {
    "duration": 49,
    "start_time": "2022-01-22T11:36:52.364Z"
   },
   {
    "duration": 28,
    "start_time": "2022-01-22T13:07:27.989Z"
   },
   {
    "duration": 47,
    "start_time": "2022-01-22T13:07:32.019Z"
   },
   {
    "duration": 2,
    "start_time": "2022-01-22T13:07:44.787Z"
   },
   {
    "duration": 36,
    "start_time": "2022-01-22T13:07:45.122Z"
   },
   {
    "duration": 52,
    "start_time": "2022-01-22T13:07:46.839Z"
   },
   {
    "duration": 1099,
    "start_time": "2022-01-22T13:08:06.450Z"
   },
   {
    "duration": 168,
    "start_time": "2022-01-22T13:08:07.552Z"
   },
   {
    "duration": 21,
    "start_time": "2022-01-22T13:08:07.723Z"
   },
   {
    "duration": 150,
    "start_time": "2022-01-22T13:08:07.745Z"
   },
   {
    "duration": 18,
    "start_time": "2022-01-22T13:08:07.898Z"
   },
   {
    "duration": 116,
    "start_time": "2022-01-22T13:08:07.918Z"
   },
   {
    "duration": 16,
    "start_time": "2022-01-22T13:08:08.036Z"
   },
   {
    "duration": 34,
    "start_time": "2022-01-22T13:08:08.055Z"
   },
   {
    "duration": 16,
    "start_time": "2022-01-22T13:08:08.092Z"
   },
   {
    "duration": 55,
    "start_time": "2022-01-22T13:08:08.110Z"
   },
   {
    "duration": 22,
    "start_time": "2022-01-22T13:08:08.167Z"
   },
   {
    "duration": 45,
    "start_time": "2022-01-22T13:08:08.191Z"
   },
   {
    "duration": 133,
    "start_time": "2022-01-22T13:08:08.238Z"
   },
   {
    "duration": 24,
    "start_time": "2022-01-22T13:08:08.373Z"
   },
   {
    "duration": 82,
    "start_time": "2022-01-22T13:08:08.399Z"
   },
   {
    "duration": 15,
    "start_time": "2022-01-22T13:08:08.482Z"
   },
   {
    "duration": 74,
    "start_time": "2022-01-22T13:08:08.499Z"
   },
   {
    "duration": 6,
    "start_time": "2022-01-22T13:08:08.575Z"
   },
   {
    "duration": 29,
    "start_time": "2022-01-22T13:08:08.582Z"
   },
   {
    "duration": 34,
    "start_time": "2022-01-22T13:08:08.612Z"
   },
   {
    "duration": 47,
    "start_time": "2022-01-22T13:08:08.648Z"
   },
   {
    "duration": 32,
    "start_time": "2022-01-22T13:08:08.697Z"
   },
   {
    "duration": 17,
    "start_time": "2022-01-22T13:08:08.732Z"
   },
   {
    "duration": 68,
    "start_time": "2022-01-22T13:08:08.752Z"
   },
   {
    "duration": 33,
    "start_time": "2022-01-22T13:08:08.822Z"
   },
   {
    "duration": 40,
    "start_time": "2022-01-22T13:08:08.857Z"
   },
   {
    "duration": 9,
    "start_time": "2022-01-22T13:08:08.899Z"
   },
   {
    "duration": 180,
    "start_time": "2022-01-22T13:08:08.910Z"
   },
   {
    "duration": 58,
    "start_time": "2022-01-22T13:08:09.091Z"
   },
   {
    "duration": 3,
    "start_time": "2022-01-22T13:08:09.152Z"
   },
   {
    "duration": 89,
    "start_time": "2022-01-22T13:08:09.156Z"
   },
   {
    "duration": 64,
    "start_time": "2022-01-22T13:08:09.247Z"
   },
   {
    "duration": 2,
    "start_time": "2022-01-22T13:08:09.313Z"
   },
   {
    "duration": 101,
    "start_time": "2022-01-22T13:08:09.316Z"
   },
   {
    "duration": 83,
    "start_time": "2022-01-22T13:08:09.418Z"
   },
   {
    "duration": 39,
    "start_time": "2022-01-22T13:08:09.503Z"
   },
   {
    "duration": 57,
    "start_time": "2022-01-22T13:08:09.543Z"
   },
   {
    "duration": 111,
    "start_time": "2022-01-22T13:08:09.601Z"
   },
   {
    "duration": 46,
    "start_time": "2022-01-22T13:08:09.714Z"
   },
   {
    "duration": 54,
    "start_time": "2022-01-22T13:08:09.762Z"
   },
   {
    "duration": 286,
    "start_time": "2022-01-22T13:08:09.818Z"
   },
   {
    "duration": 46,
    "start_time": "2022-01-22T14:00:38.008Z"
   },
   {
    "duration": 45,
    "start_time": "2022-01-22T14:01:12.232Z"
   },
   {
    "duration": 30,
    "start_time": "2022-01-22T14:01:49.529Z"
   },
   {
    "duration": 46,
    "start_time": "2022-01-22T14:01:51.160Z"
   },
   {
    "duration": 22,
    "start_time": "2022-01-22T14:02:10.855Z"
   },
   {
    "duration": 21,
    "start_time": "2022-01-22T14:02:57.666Z"
   },
   {
    "duration": 71,
    "start_time": "2022-01-22T14:03:06.151Z"
   },
   {
    "duration": 196,
    "start_time": "2022-01-22T14:13:51.448Z"
   },
   {
    "duration": 24,
    "start_time": "2022-01-22T14:14:02.022Z"
   },
   {
    "duration": 68,
    "start_time": "2022-01-22T14:14:17.556Z"
   },
   {
    "duration": 33,
    "start_time": "2022-01-22T14:15:11.077Z"
   },
   {
    "duration": 12,
    "start_time": "2022-01-22T14:16:40.214Z"
   },
   {
    "duration": 12,
    "start_time": "2022-01-22T14:17:24.150Z"
   },
   {
    "duration": 1150,
    "start_time": "2022-01-22T14:18:29.624Z"
   },
   {
    "duration": 176,
    "start_time": "2022-01-22T14:18:30.776Z"
   },
   {
    "duration": 22,
    "start_time": "2022-01-22T14:18:30.954Z"
   },
   {
    "duration": 162,
    "start_time": "2022-01-22T14:18:30.979Z"
   },
   {
    "duration": 18,
    "start_time": "2022-01-22T14:18:31.143Z"
   },
   {
    "duration": 117,
    "start_time": "2022-01-22T14:18:31.163Z"
   },
   {
    "duration": 20,
    "start_time": "2022-01-22T14:18:31.282Z"
   },
   {
    "duration": 51,
    "start_time": "2022-01-22T14:18:31.305Z"
   },
   {
    "duration": 24,
    "start_time": "2022-01-22T14:18:31.358Z"
   },
   {
    "duration": 56,
    "start_time": "2022-01-22T14:18:31.384Z"
   },
   {
    "duration": 24,
    "start_time": "2022-01-22T14:18:31.442Z"
   },
   {
    "duration": 29,
    "start_time": "2022-01-22T14:18:31.468Z"
   },
   {
    "duration": 126,
    "start_time": "2022-01-22T14:18:31.500Z"
   },
   {
    "duration": 18,
    "start_time": "2022-01-22T14:18:31.627Z"
   },
   {
    "duration": 89,
    "start_time": "2022-01-22T14:18:31.647Z"
   },
   {
    "duration": 15,
    "start_time": "2022-01-22T14:18:31.738Z"
   },
   {
    "duration": 61,
    "start_time": "2022-01-22T14:18:31.755Z"
   },
   {
    "duration": 6,
    "start_time": "2022-01-22T14:18:31.817Z"
   },
   {
    "duration": 16,
    "start_time": "2022-01-22T14:18:31.824Z"
   },
   {
    "duration": 24,
    "start_time": "2022-01-22T14:18:31.841Z"
   },
   {
    "duration": 19,
    "start_time": "2022-01-22T14:18:31.867Z"
   },
   {
    "duration": 20,
    "start_time": "2022-01-22T14:18:31.888Z"
   },
   {
    "duration": 24,
    "start_time": "2022-01-22T14:18:31.912Z"
   },
   {
    "duration": 39,
    "start_time": "2022-01-22T14:18:31.939Z"
   },
   {
    "duration": 21,
    "start_time": "2022-01-22T14:18:31.979Z"
   },
   {
    "duration": 24,
    "start_time": "2022-01-22T14:18:32.002Z"
   },
   {
    "duration": 19,
    "start_time": "2022-01-22T14:18:32.028Z"
   },
   {
    "duration": 160,
    "start_time": "2022-01-22T14:18:32.048Z"
   },
   {
    "duration": 73,
    "start_time": "2022-01-22T14:18:32.210Z"
   },
   {
    "duration": 66,
    "start_time": "2022-01-22T14:18:32.297Z"
   },
   {
    "duration": 45,
    "start_time": "2022-01-22T14:18:32.364Z"
   },
   {
    "duration": 57,
    "start_time": "2022-01-22T14:18:32.411Z"
   },
   {
    "duration": 3,
    "start_time": "2022-01-22T14:18:32.469Z"
   },
   {
    "duration": 88,
    "start_time": "2022-01-22T14:18:32.473Z"
   },
   {
    "duration": 72,
    "start_time": "2022-01-22T14:18:32.562Z"
   },
   {
    "duration": 38,
    "start_time": "2022-01-22T14:18:32.636Z"
   },
   {
    "duration": 60,
    "start_time": "2022-01-22T14:18:32.676Z"
   },
   {
    "duration": 39,
    "start_time": "2022-01-22T14:18:32.738Z"
   },
   {
    "duration": 127,
    "start_time": "2022-01-22T14:18:32.779Z"
   },
   {
    "duration": 57,
    "start_time": "2022-01-22T14:18:32.908Z"
   },
   {
    "duration": 56,
    "start_time": "2022-01-22T14:18:32.967Z"
   },
   {
    "duration": 249,
    "start_time": "2022-01-22T14:18:33.025Z"
   },
   {
    "duration": 5,
    "start_time": "2022-01-22T14:20:35.813Z"
   },
   {
    "duration": 11,
    "start_time": "2022-01-22T14:21:10.724Z"
   },
   {
    "duration": 15,
    "start_time": "2022-01-22T14:21:51.445Z"
   },
   {
    "duration": 15,
    "start_time": "2022-01-22T14:21:55.205Z"
   },
   {
    "duration": 15,
    "start_time": "2022-01-22T14:21:59.957Z"
   },
   {
    "duration": 84,
    "start_time": "2022-01-22T14:22:43.877Z"
   },
   {
    "duration": 22,
    "start_time": "2022-01-22T14:23:05.268Z"
   },
   {
    "duration": 5,
    "start_time": "2022-01-22T14:23:14.118Z"
   },
   {
    "duration": 70,
    "start_time": "2022-01-22T14:23:19.636Z"
   },
   {
    "duration": 20,
    "start_time": "2022-01-22T14:23:24.918Z"
   },
   {
    "duration": 70,
    "start_time": "2022-01-22T14:23:53.044Z"
   },
   {
    "duration": 38,
    "start_time": "2022-01-22T14:23:54.404Z"
   },
   {
    "duration": 48,
    "start_time": "2022-01-22T14:24:11.861Z"
   },
   {
    "duration": 37,
    "start_time": "2022-01-22T14:24:16.884Z"
   },
   {
    "duration": 45,
    "start_time": "2022-01-22T14:25:36.198Z"
   },
   {
    "duration": 23,
    "start_time": "2022-01-22T14:26:33.365Z"
   },
   {
    "duration": 59,
    "start_time": "2022-01-22T14:26:41.988Z"
   },
   {
    "duration": 58,
    "start_time": "2022-01-22T14:27:38.292Z"
   },
   {
    "duration": 177,
    "start_time": "2022-01-22T14:27:54.515Z"
   },
   {
    "duration": 38,
    "start_time": "2022-01-22T14:27:59.114Z"
   },
   {
    "duration": 39,
    "start_time": "2022-01-22T14:28:20.517Z"
   },
   {
    "duration": 58,
    "start_time": "2022-01-22T14:28:25.381Z"
   },
   {
    "duration": 49,
    "start_time": "2022-01-22T14:28:25.716Z"
   },
   {
    "duration": 57,
    "start_time": "2022-01-22T14:28:53.715Z"
   },
   {
    "duration": 28,
    "start_time": "2022-01-22T14:29:23.254Z"
   },
   {
    "duration": 60,
    "start_time": "2022-01-22T14:29:44.114Z"
   },
   {
    "duration": 71,
    "start_time": "2022-01-22T14:29:52.291Z"
   },
   {
    "duration": 1131,
    "start_time": "2022-01-22T14:30:11.318Z"
   },
   {
    "duration": 165,
    "start_time": "2022-01-22T14:30:12.451Z"
   },
   {
    "duration": 20,
    "start_time": "2022-01-22T14:30:12.618Z"
   },
   {
    "duration": 138,
    "start_time": "2022-01-22T14:30:12.640Z"
   },
   {
    "duration": 25,
    "start_time": "2022-01-22T14:30:12.779Z"
   },
   {
    "duration": 107,
    "start_time": "2022-01-22T14:30:12.806Z"
   },
   {
    "duration": 14,
    "start_time": "2022-01-22T14:30:12.915Z"
   },
   {
    "duration": 36,
    "start_time": "2022-01-22T14:30:12.931Z"
   },
   {
    "duration": 16,
    "start_time": "2022-01-22T14:30:12.970Z"
   },
   {
    "duration": 43,
    "start_time": "2022-01-22T14:30:12.988Z"
   },
   {
    "duration": 7,
    "start_time": "2022-01-22T14:30:13.033Z"
   },
   {
    "duration": 63,
    "start_time": "2022-01-22T14:30:13.042Z"
   },
   {
    "duration": 127,
    "start_time": "2022-01-22T14:30:13.107Z"
   },
   {
    "duration": 19,
    "start_time": "2022-01-22T14:30:13.236Z"
   },
   {
    "duration": 90,
    "start_time": "2022-01-22T14:30:13.257Z"
   },
   {
    "duration": 16,
    "start_time": "2022-01-22T14:30:13.349Z"
   },
   {
    "duration": 106,
    "start_time": "2022-01-22T14:30:13.367Z"
   },
   {
    "duration": 6,
    "start_time": "2022-01-22T14:30:13.475Z"
   },
   {
    "duration": 33,
    "start_time": "2022-01-22T14:30:13.483Z"
   },
   {
    "duration": 40,
    "start_time": "2022-01-22T14:30:13.518Z"
   },
   {
    "duration": 38,
    "start_time": "2022-01-22T14:30:13.559Z"
   },
   {
    "duration": 32,
    "start_time": "2022-01-22T14:30:13.599Z"
   },
   {
    "duration": 57,
    "start_time": "2022-01-22T14:30:13.634Z"
   },
   {
    "duration": 169,
    "start_time": "2022-01-22T14:30:13.693Z"
   },
   {
    "duration": 67,
    "start_time": "2022-01-22T14:30:13.864Z"
   },
   {
    "duration": 29,
    "start_time": "2022-01-22T14:30:13.932Z"
   },
   {
    "duration": 69,
    "start_time": "2022-01-22T14:30:13.963Z"
   },
   {
    "duration": 82,
    "start_time": "2022-01-22T14:30:14.034Z"
   },
   {
    "duration": 81,
    "start_time": "2022-01-22T14:30:14.118Z"
   },
   {
    "duration": 67,
    "start_time": "2022-01-22T14:30:14.200Z"
   },
   {
    "duration": 55,
    "start_time": "2022-01-22T14:30:14.268Z"
   },
   {
    "duration": 57,
    "start_time": "2022-01-22T14:30:14.325Z"
   },
   {
    "duration": 59,
    "start_time": "2022-01-22T14:30:14.384Z"
   },
   {
    "duration": 53,
    "start_time": "2022-01-22T14:30:14.445Z"
   },
   {
    "duration": 122,
    "start_time": "2022-01-22T14:30:14.500Z"
   },
   {
    "duration": 45,
    "start_time": "2022-01-22T14:30:14.624Z"
   },
   {
    "duration": 75,
    "start_time": "2022-01-22T14:30:14.671Z"
   },
   {
    "duration": 50,
    "start_time": "2022-01-22T14:30:14.748Z"
   },
   {
    "duration": 288,
    "start_time": "2022-01-22T14:30:14.800Z"
   },
   {
    "duration": 68,
    "start_time": "2022-01-22T14:36:29.125Z"
   },
   {
    "duration": 75,
    "start_time": "2022-01-22T14:37:41.445Z"
   },
   {
    "duration": 58,
    "start_time": "2022-01-22T14:37:41.877Z"
   },
   {
    "duration": 72,
    "start_time": "2022-01-22T14:37:51.190Z"
   },
   {
    "duration": 56,
    "start_time": "2022-01-22T14:37:51.877Z"
   },
   {
    "duration": 49,
    "start_time": "2022-01-22T14:38:01.322Z"
   },
   {
    "duration": 45,
    "start_time": "2022-01-22T14:51:20.532Z"
   },
   {
    "duration": 45,
    "start_time": "2022-01-22T14:51:51.829Z"
   },
   {
    "duration": 32,
    "start_time": "2022-01-22T14:52:44.997Z"
   },
   {
    "duration": 50,
    "start_time": "2022-01-22T14:53:17.445Z"
   },
   {
    "duration": 31,
    "start_time": "2022-01-22T14:53:42.212Z"
   },
   {
    "duration": 10,
    "start_time": "2022-01-22T14:54:54.867Z"
   },
   {
    "duration": 191,
    "start_time": "2022-01-22T14:55:34.276Z"
   },
   {
    "duration": 30,
    "start_time": "2022-01-22T14:55:46.262Z"
   },
   {
    "duration": 58,
    "start_time": "2022-01-22T14:55:55.044Z"
   },
   {
    "duration": 30,
    "start_time": "2022-01-22T14:55:58.755Z"
   },
   {
    "duration": 57,
    "start_time": "2022-01-22T14:56:09.892Z"
   },
   {
    "duration": 30,
    "start_time": "2022-01-22T14:56:18.867Z"
   },
   {
    "duration": 23,
    "start_time": "2022-01-22T14:56:56.596Z"
   },
   {
    "duration": 181,
    "start_time": "2022-01-22T14:57:11.956Z"
   },
   {
    "duration": 57,
    "start_time": "2022-01-22T14:57:16.614Z"
   },
   {
    "duration": 31,
    "start_time": "2022-01-22T14:57:21.236Z"
   },
   {
    "duration": 8,
    "start_time": "2022-01-22T14:58:15.396Z"
   },
   {
    "duration": 227,
    "start_time": "2022-01-22T14:59:44.596Z"
   },
   {
    "duration": 10,
    "start_time": "2022-01-22T14:59:58.803Z"
   },
   {
    "duration": 29,
    "start_time": "2022-01-22T15:04:08.210Z"
   },
   {
    "duration": 7,
    "start_time": "2022-01-22T15:04:12.116Z"
   },
   {
    "duration": 28,
    "start_time": "2022-01-22T15:04:18.515Z"
   },
   {
    "duration": 7,
    "start_time": "2022-01-22T15:04:19.972Z"
   },
   {
    "duration": 104,
    "start_time": "2022-01-22T15:04:40.028Z"
   },
   {
    "duration": 45,
    "start_time": "2022-01-22T15:04:42.386Z"
   },
   {
    "duration": 65,
    "start_time": "2022-01-22T15:04:51.539Z"
   },
   {
    "duration": 58,
    "start_time": "2022-01-22T15:04:52.676Z"
   },
   {
    "duration": 76,
    "start_time": "2022-01-22T15:05:02.131Z"
   },
   {
    "duration": 41,
    "start_time": "2022-01-22T15:05:03.986Z"
   },
   {
    "duration": 57,
    "start_time": "2022-01-22T15:05:07.859Z"
   },
   {
    "duration": 130,
    "start_time": "2022-01-22T15:05:20.851Z"
   },
   {
    "duration": 59,
    "start_time": "2022-01-22T15:05:22.803Z"
   },
   {
    "duration": 29,
    "start_time": "2022-01-22T15:05:25.426Z"
   },
   {
    "duration": 56,
    "start_time": "2022-01-22T15:05:25.970Z"
   },
   {
    "duration": 10,
    "start_time": "2022-01-22T15:06:19.476Z"
   },
   {
    "duration": 12,
    "start_time": "2022-01-22T15:06:32.643Z"
   },
   {
    "duration": 211,
    "start_time": "2022-01-22T15:07:06.627Z"
   },
   {
    "duration": 13,
    "start_time": "2022-01-22T15:07:27.987Z"
   },
   {
    "duration": 11,
    "start_time": "2022-01-22T15:07:59.155Z"
   },
   {
    "duration": 11,
    "start_time": "2022-01-22T15:08:02.067Z"
   },
   {
    "duration": 1082,
    "start_time": "2022-01-22T15:08:16.461Z"
   },
   {
    "duration": 166,
    "start_time": "2022-01-22T15:08:17.545Z"
   },
   {
    "duration": 20,
    "start_time": "2022-01-22T15:08:17.713Z"
   },
   {
    "duration": 136,
    "start_time": "2022-01-22T15:08:17.735Z"
   },
   {
    "duration": 24,
    "start_time": "2022-01-22T15:08:17.873Z"
   },
   {
    "duration": 92,
    "start_time": "2022-01-22T15:08:17.898Z"
   },
   {
    "duration": 18,
    "start_time": "2022-01-22T15:08:17.991Z"
   },
   {
    "duration": 29,
    "start_time": "2022-01-22T15:08:18.012Z"
   },
   {
    "duration": 30,
    "start_time": "2022-01-22T15:08:18.043Z"
   },
   {
    "duration": 42,
    "start_time": "2022-01-22T15:08:18.075Z"
   },
   {
    "duration": 11,
    "start_time": "2022-01-22T15:08:18.119Z"
   },
   {
    "duration": 54,
    "start_time": "2022-01-22T15:08:18.132Z"
   },
   {
    "duration": 100,
    "start_time": "2022-01-22T15:08:18.188Z"
   },
   {
    "duration": 17,
    "start_time": "2022-01-22T15:08:18.297Z"
   },
   {
    "duration": 70,
    "start_time": "2022-01-22T15:08:18.315Z"
   },
   {
    "duration": 22,
    "start_time": "2022-01-22T15:08:18.387Z"
   },
   {
    "duration": 48,
    "start_time": "2022-01-22T15:08:18.410Z"
   },
   {
    "duration": 6,
    "start_time": "2022-01-22T15:08:18.459Z"
   },
   {
    "duration": 10,
    "start_time": "2022-01-22T15:08:18.466Z"
   },
   {
    "duration": 5,
    "start_time": "2022-01-22T15:08:18.497Z"
   },
   {
    "duration": 14,
    "start_time": "2022-01-22T15:08:18.504Z"
   },
   {
    "duration": 16,
    "start_time": "2022-01-22T15:08:18.519Z"
   },
   {
    "duration": 9,
    "start_time": "2022-01-22T15:08:18.538Z"
   },
   {
    "duration": 166,
    "start_time": "2022-01-22T15:08:18.548Z"
   },
   {
    "duration": 62,
    "start_time": "2022-01-22T15:08:18.716Z"
   },
   {
    "duration": 42,
    "start_time": "2022-01-22T15:08:18.779Z"
   },
   {
    "duration": 59,
    "start_time": "2022-01-22T15:08:18.822Z"
   },
   {
    "duration": 99,
    "start_time": "2022-01-22T15:08:18.884Z"
   },
   {
    "duration": 75,
    "start_time": "2022-01-22T15:08:18.985Z"
   },
   {
    "duration": 77,
    "start_time": "2022-01-22T15:08:19.062Z"
   },
   {
    "duration": 40,
    "start_time": "2022-01-22T15:08:19.141Z"
   },
   {
    "duration": 69,
    "start_time": "2022-01-22T15:08:19.182Z"
   },
   {
    "duration": 61,
    "start_time": "2022-01-22T15:08:19.252Z"
   },
   {
    "duration": 39,
    "start_time": "2022-01-22T15:08:19.315Z"
   },
   {
    "duration": 128,
    "start_time": "2022-01-22T15:08:19.356Z"
   },
   {
    "duration": 54,
    "start_time": "2022-01-22T15:08:19.485Z"
   },
   {
    "duration": 75,
    "start_time": "2022-01-22T15:08:19.540Z"
   },
   {
    "duration": 56,
    "start_time": "2022-01-22T15:08:19.617Z"
   },
   {
    "duration": 289,
    "start_time": "2022-01-22T15:08:19.675Z"
   },
   {
    "duration": -241,
    "start_time": "2022-01-22T15:08:20.206Z"
   },
   {
    "duration": -243,
    "start_time": "2022-01-22T15:08:20.209Z"
   },
   {
    "duration": -260,
    "start_time": "2022-01-22T15:08:20.227Z"
   },
   {
    "duration": 36,
    "start_time": "2022-01-22T15:08:29.697Z"
   },
   {
    "duration": 28,
    "start_time": "2022-01-22T15:08:39.647Z"
   },
   {
    "duration": 7,
    "start_time": "2022-01-22T15:08:44.015Z"
   },
   {
    "duration": 27,
    "start_time": "2022-01-22T15:09:01.409Z"
   },
   {
    "duration": 8,
    "start_time": "2022-01-22T15:09:05.119Z"
   },
   {
    "duration": 9,
    "start_time": "2022-01-22T15:09:14.160Z"
   },
   {
    "duration": 15,
    "start_time": "2022-01-22T15:22:02.659Z"
   },
   {
    "duration": 8,
    "start_time": "2022-01-22T15:22:24.802Z"
   },
   {
    "duration": 52,
    "start_time": "2022-01-22T15:23:55.299Z"
   },
   {
    "duration": 62,
    "start_time": "2022-01-22T15:23:58.610Z"
   },
   {
    "duration": 56,
    "start_time": "2022-01-22T15:24:03.714Z"
   },
   {
    "duration": 1107,
    "start_time": "2022-01-22T15:24:33.835Z"
   },
   {
    "duration": 175,
    "start_time": "2022-01-22T15:24:34.944Z"
   },
   {
    "duration": 22,
    "start_time": "2022-01-22T15:24:35.121Z"
   },
   {
    "duration": 153,
    "start_time": "2022-01-22T15:24:35.145Z"
   },
   {
    "duration": 16,
    "start_time": "2022-01-22T15:24:35.299Z"
   },
   {
    "duration": 112,
    "start_time": "2022-01-22T15:24:35.317Z"
   },
   {
    "duration": 14,
    "start_time": "2022-01-22T15:24:35.430Z"
   },
   {
    "duration": 33,
    "start_time": "2022-01-22T15:24:35.446Z"
   },
   {
    "duration": 8,
    "start_time": "2022-01-22T15:24:35.481Z"
   },
   {
    "duration": 55,
    "start_time": "2022-01-22T15:24:35.491Z"
   },
   {
    "duration": 24,
    "start_time": "2022-01-22T15:24:35.548Z"
   },
   {
    "duration": 38,
    "start_time": "2022-01-22T15:24:35.573Z"
   },
   {
    "duration": 123,
    "start_time": "2022-01-22T15:24:35.613Z"
   },
   {
    "duration": 18,
    "start_time": "2022-01-22T15:24:35.738Z"
   },
   {
    "duration": 91,
    "start_time": "2022-01-22T15:24:35.758Z"
   },
   {
    "duration": 14,
    "start_time": "2022-01-22T15:24:35.851Z"
   },
   {
    "duration": 64,
    "start_time": "2022-01-22T15:24:35.866Z"
   },
   {
    "duration": 6,
    "start_time": "2022-01-22T15:24:35.932Z"
   },
   {
    "duration": 19,
    "start_time": "2022-01-22T15:24:35.939Z"
   },
   {
    "duration": 17,
    "start_time": "2022-01-22T15:24:35.959Z"
   },
   {
    "duration": 21,
    "start_time": "2022-01-22T15:24:35.978Z"
   },
   {
    "duration": 32,
    "start_time": "2022-01-22T15:24:36.001Z"
   },
   {
    "duration": 14,
    "start_time": "2022-01-22T15:24:36.034Z"
   },
   {
    "duration": 169,
    "start_time": "2022-01-22T15:24:36.049Z"
   },
   {
    "duration": 62,
    "start_time": "2022-01-22T15:24:36.219Z"
   },
   {
    "duration": 42,
    "start_time": "2022-01-22T15:24:36.283Z"
   },
   {
    "duration": 72,
    "start_time": "2022-01-22T15:24:36.329Z"
   },
   {
    "duration": 69,
    "start_time": "2022-01-22T15:24:36.403Z"
   },
   {
    "duration": 79,
    "start_time": "2022-01-22T15:24:36.474Z"
   },
   {
    "duration": 71,
    "start_time": "2022-01-22T15:24:36.555Z"
   },
   {
    "duration": 38,
    "start_time": "2022-01-22T15:24:36.628Z"
   },
   {
    "duration": 74,
    "start_time": "2022-01-22T15:24:36.667Z"
   },
   {
    "duration": 50,
    "start_time": "2022-01-22T15:24:36.743Z"
   },
   {
    "duration": 38,
    "start_time": "2022-01-22T15:24:36.797Z"
   },
   {
    "duration": 125,
    "start_time": "2022-01-22T15:24:36.837Z"
   },
   {
    "duration": 52,
    "start_time": "2022-01-22T15:24:36.963Z"
   },
   {
    "duration": 81,
    "start_time": "2022-01-22T15:24:37.017Z"
   },
   {
    "duration": 59,
    "start_time": "2022-01-22T15:24:37.100Z"
   },
   {
    "duration": 54,
    "start_time": "2022-01-22T15:24:37.161Z"
   },
   {
    "duration": 24,
    "start_time": "2022-01-22T15:24:37.217Z"
   },
   {
    "duration": 6,
    "start_time": "2022-01-22T15:24:37.243Z"
   },
   {
    "duration": 38,
    "start_time": "2022-01-22T15:24:37.251Z"
   },
   {
    "duration": 10,
    "start_time": "2022-01-22T15:48:53.389Z"
   },
   {
    "duration": 1125,
    "start_time": "2022-01-22T15:49:05.245Z"
   },
   {
    "duration": 168,
    "start_time": "2022-01-22T15:49:06.371Z"
   },
   {
    "duration": 20,
    "start_time": "2022-01-22T15:49:06.541Z"
   },
   {
    "duration": 141,
    "start_time": "2022-01-22T15:49:06.563Z"
   },
   {
    "duration": 17,
    "start_time": "2022-01-22T15:49:06.706Z"
   },
   {
    "duration": 98,
    "start_time": "2022-01-22T15:49:06.724Z"
   },
   {
    "duration": 14,
    "start_time": "2022-01-22T15:49:06.824Z"
   },
   {
    "duration": 22,
    "start_time": "2022-01-22T15:49:06.840Z"
   },
   {
    "duration": 11,
    "start_time": "2022-01-22T15:49:06.864Z"
   },
   {
    "duration": 40,
    "start_time": "2022-01-22T15:49:06.877Z"
   },
   {
    "duration": 6,
    "start_time": "2022-01-22T15:49:06.919Z"
   },
   {
    "duration": 43,
    "start_time": "2022-01-22T15:49:06.927Z"
   },
   {
    "duration": 119,
    "start_time": "2022-01-22T15:49:06.972Z"
   },
   {
    "duration": 18,
    "start_time": "2022-01-22T15:49:07.093Z"
   },
   {
    "duration": 91,
    "start_time": "2022-01-22T15:49:07.113Z"
   },
   {
    "duration": 24,
    "start_time": "2022-01-22T15:49:07.206Z"
   },
   {
    "duration": 71,
    "start_time": "2022-01-22T15:49:07.232Z"
   },
   {
    "duration": 6,
    "start_time": "2022-01-22T15:49:07.305Z"
   },
   {
    "duration": 8,
    "start_time": "2022-01-22T15:49:07.312Z"
   },
   {
    "duration": 8,
    "start_time": "2022-01-22T15:49:07.321Z"
   },
   {
    "duration": 8,
    "start_time": "2022-01-22T15:49:07.330Z"
   },
   {
    "duration": 14,
    "start_time": "2022-01-22T15:49:07.339Z"
   },
   {
    "duration": 43,
    "start_time": "2022-01-22T15:49:07.355Z"
   },
   {
    "duration": 175,
    "start_time": "2022-01-22T15:49:07.400Z"
   },
   {
    "duration": 68,
    "start_time": "2022-01-22T15:49:07.577Z"
   },
   {
    "duration": 29,
    "start_time": "2022-01-22T15:49:07.647Z"
   },
   {
    "duration": 68,
    "start_time": "2022-01-22T15:49:07.679Z"
   },
   {
    "duration": 80,
    "start_time": "2022-01-22T15:49:07.750Z"
   },
   {
    "duration": 75,
    "start_time": "2022-01-22T15:49:07.831Z"
   },
   {
    "duration": 10,
    "start_time": "2022-01-22T15:49:07.908Z"
   },
   {
    "duration": 57,
    "start_time": "2022-01-22T15:49:07.919Z"
   },
   {
    "duration": 54,
    "start_time": "2022-01-22T15:49:07.977Z"
   },
   {
    "duration": 66,
    "start_time": "2022-01-22T15:49:08.033Z"
   },
   {
    "duration": 47,
    "start_time": "2022-01-22T15:49:08.101Z"
   },
   {
    "duration": 57,
    "start_time": "2022-01-22T15:49:08.149Z"
   },
   {
    "duration": 118,
    "start_time": "2022-01-22T15:49:08.208Z"
   },
   {
    "duration": 46,
    "start_time": "2022-01-22T15:49:08.328Z"
   },
   {
    "duration": 79,
    "start_time": "2022-01-22T15:49:08.376Z"
   },
   {
    "duration": 72,
    "start_time": "2022-01-22T15:49:08.457Z"
   },
   {
    "duration": 34,
    "start_time": "2022-01-22T15:49:08.531Z"
   },
   {
    "duration": 36,
    "start_time": "2022-01-22T15:49:08.567Z"
   },
   {
    "duration": 7,
    "start_time": "2022-01-22T15:49:08.605Z"
   },
   {
    "duration": 8,
    "start_time": "2022-01-22T15:49:08.614Z"
   },
   {
    "duration": 15,
    "start_time": "2022-01-22T15:49:08.623Z"
   },
   {
    "duration": 59,
    "start_time": "2022-01-22T16:25:05.693Z"
   },
   {
    "duration": 56,
    "start_time": "2022-01-22T16:26:09.978Z"
   },
   {
    "duration": 430,
    "start_time": "2022-01-22T16:26:51.226Z"
   },
   {
    "duration": 5217,
    "start_time": "2022-01-22T16:27:05.403Z"
   },
   {
    "duration": 23,
    "start_time": "2022-01-22T16:27:33.661Z"
   },
   {
    "duration": 2480,
    "start_time": "2022-01-22T16:28:32.794Z"
   },
   {
    "duration": 7,
    "start_time": "2022-01-22T16:29:04.697Z"
   },
   {
    "duration": 1939,
    "start_time": "2022-01-22T19:44:53.619Z"
   },
   {
    "duration": 299,
    "start_time": "2022-01-22T19:44:55.561Z"
   },
   {
    "duration": 44,
    "start_time": "2022-01-22T19:44:55.866Z"
   },
   {
    "duration": 195,
    "start_time": "2022-01-22T19:44:55.913Z"
   },
   {
    "duration": 22,
    "start_time": "2022-01-22T19:44:56.110Z"
   },
   {
    "duration": 155,
    "start_time": "2022-01-22T19:44:56.135Z"
   },
   {
    "duration": 19,
    "start_time": "2022-01-22T19:44:56.294Z"
   },
   {
    "duration": 28,
    "start_time": "2022-01-22T19:44:56.316Z"
   },
   {
    "duration": 9,
    "start_time": "2022-01-22T19:44:56.349Z"
   },
   {
    "duration": 49,
    "start_time": "2022-01-22T19:44:56.360Z"
   },
   {
    "duration": 11,
    "start_time": "2022-01-22T19:44:56.412Z"
   },
   {
    "duration": 32,
    "start_time": "2022-01-22T19:44:56.425Z"
   },
   {
    "duration": 149,
    "start_time": "2022-01-22T19:44:56.459Z"
   },
   {
    "duration": 22,
    "start_time": "2022-01-22T19:44:56.611Z"
   },
   {
    "duration": 110,
    "start_time": "2022-01-22T19:44:56.635Z"
   },
   {
    "duration": 25,
    "start_time": "2022-01-22T19:44:56.747Z"
   },
   {
    "duration": 57,
    "start_time": "2022-01-22T19:44:56.775Z"
   },
   {
    "duration": 7,
    "start_time": "2022-01-22T19:44:56.834Z"
   },
   {
    "duration": 11,
    "start_time": "2022-01-22T19:44:56.843Z"
   },
   {
    "duration": 19,
    "start_time": "2022-01-22T19:44:56.856Z"
   },
   {
    "duration": 16,
    "start_time": "2022-01-22T19:44:56.878Z"
   },
   {
    "duration": 23,
    "start_time": "2022-01-22T19:44:56.897Z"
   },
   {
    "duration": 15,
    "start_time": "2022-01-22T19:44:56.923Z"
   },
   {
    "duration": 205,
    "start_time": "2022-01-22T19:44:56.940Z"
   },
   {
    "duration": 91,
    "start_time": "2022-01-22T19:44:57.147Z"
   },
   {
    "duration": 48,
    "start_time": "2022-01-22T19:44:57.241Z"
   },
   {
    "duration": 97,
    "start_time": "2022-01-22T19:44:57.295Z"
   },
   {
    "duration": 212,
    "start_time": "2022-01-22T19:44:57.396Z"
   },
   {
    "duration": 124,
    "start_time": "2022-01-22T19:44:57.611Z"
   },
   {
    "duration": 17,
    "start_time": "2022-01-22T19:44:57.738Z"
   },
   {
    "duration": 161,
    "start_time": "2022-01-22T19:44:57.757Z"
   },
   {
    "duration": 174,
    "start_time": "2022-01-22T19:44:57.921Z"
   },
   {
    "duration": 216,
    "start_time": "2022-01-22T19:44:58.098Z"
   },
   {
    "duration": 209,
    "start_time": "2022-01-22T19:44:58.317Z"
   },
   {
    "duration": 66,
    "start_time": "2022-01-22T19:44:58.528Z"
   },
   {
    "duration": 163,
    "start_time": "2022-01-22T19:44:58.597Z"
   },
   {
    "duration": 73,
    "start_time": "2022-01-22T19:44:58.763Z"
   },
   {
    "duration": 144,
    "start_time": "2022-01-22T19:44:58.838Z"
   },
   {
    "duration": 124,
    "start_time": "2022-01-22T19:44:58.984Z"
   },
   {
    "duration": 81,
    "start_time": "2022-01-22T19:44:59.111Z"
   },
   {
    "duration": 35,
    "start_time": "2022-01-22T19:44:59.195Z"
   },
   {
    "duration": 37,
    "start_time": "2022-01-22T19:44:59.233Z"
   },
   {
    "duration": 24,
    "start_time": "2022-01-22T19:44:59.273Z"
   },
   {
    "duration": 108,
    "start_time": "2022-01-22T19:44:59.300Z"
   },
   {
    "duration": -1989,
    "start_time": "2022-01-22T19:45:01.400Z"
   },
   {
    "duration": 274,
    "start_time": "2022-01-22T20:29:28.192Z"
   },
   {
    "duration": 191,
    "start_time": "2022-01-22T20:32:51.537Z"
   },
   {
    "duration": 95,
    "start_time": "2022-01-22T20:33:34.147Z"
   },
   {
    "duration": 122,
    "start_time": "2022-01-22T20:33:53.346Z"
   },
   {
    "duration": 276,
    "start_time": "2022-01-22T20:34:26.418Z"
   },
   {
    "duration": 626,
    "start_time": "2022-01-22T20:34:39.586Z"
   },
   {
    "duration": 470,
    "start_time": "2022-01-22T20:34:48.578Z"
   },
   {
    "duration": 377,
    "start_time": "2022-01-22T20:35:05.187Z"
   },
   {
    "duration": 285,
    "start_time": "2022-01-22T20:35:18.835Z"
   },
   {
    "duration": 238,
    "start_time": "2022-01-22T20:36:55.603Z"
   },
   {
    "duration": 95,
    "start_time": "2022-01-22T20:38:12.243Z"
   },
   {
    "duration": 282,
    "start_time": "2022-01-22T20:38:20.387Z"
   },
   {
    "duration": 214,
    "start_time": "2022-01-22T20:39:32.052Z"
   },
   {
    "duration": 167,
    "start_time": "2022-01-22T20:49:56.342Z"
   },
   {
    "duration": 495,
    "start_time": "2022-01-22T20:50:19.071Z"
   },
   {
    "duration": 293,
    "start_time": "2022-01-22T20:50:53.294Z"
   },
   {
    "duration": 10,
    "start_time": "2022-01-22T20:50:59.759Z"
   },
   {
    "duration": 128,
    "start_time": "2022-01-22T20:53:40.174Z"
   },
   {
    "duration": 495,
    "start_time": "2022-01-22T20:53:52.735Z"
   },
   {
    "duration": 467,
    "start_time": "2022-01-22T20:55:52.542Z"
   },
   {
    "duration": 489,
    "start_time": "2022-01-22T20:56:48.334Z"
   },
   {
    "duration": 482,
    "start_time": "2022-01-22T20:57:14.318Z"
   },
   {
    "duration": 503,
    "start_time": "2022-01-22T20:57:41.614Z"
   },
   {
    "duration": 1165,
    "start_time": "2022-01-22T20:57:55.630Z"
   },
   {
    "duration": 3945,
    "start_time": "2022-01-22T20:58:19.437Z"
   },
   {
    "duration": 477,
    "start_time": "2022-01-22T20:58:36.943Z"
   },
   {
    "duration": 480,
    "start_time": "2022-01-22T20:59:27.854Z"
   },
   {
    "duration": 506,
    "start_time": "2022-01-22T21:00:04.142Z"
   },
   {
    "duration": 1722,
    "start_time": "2022-01-22T21:03:38.052Z"
   },
   {
    "duration": 211,
    "start_time": "2022-01-22T21:03:39.777Z"
   },
   {
    "duration": 28,
    "start_time": "2022-01-22T21:03:39.991Z"
   },
   {
    "duration": 185,
    "start_time": "2022-01-22T21:03:40.022Z"
   },
   {
    "duration": 24,
    "start_time": "2022-01-22T21:03:40.210Z"
   },
   {
    "duration": 140,
    "start_time": "2022-01-22T21:03:40.238Z"
   },
   {
    "duration": 24,
    "start_time": "2022-01-22T21:03:40.381Z"
   },
   {
    "duration": 27,
    "start_time": "2022-01-22T21:03:40.409Z"
   },
   {
    "duration": 26,
    "start_time": "2022-01-22T21:03:40.441Z"
   },
   {
    "duration": 56,
    "start_time": "2022-01-22T21:03:40.470Z"
   },
   {
    "duration": 9,
    "start_time": "2022-01-22T21:03:40.529Z"
   },
   {
    "duration": 26,
    "start_time": "2022-01-22T21:03:40.540Z"
   },
   {
    "duration": 141,
    "start_time": "2022-01-22T21:03:40.568Z"
   },
   {
    "duration": 22,
    "start_time": "2022-01-22T21:03:40.711Z"
   },
   {
    "duration": 114,
    "start_time": "2022-01-22T21:03:40.735Z"
   },
   {
    "duration": 27,
    "start_time": "2022-01-22T21:03:40.853Z"
   },
   {
    "duration": 84,
    "start_time": "2022-01-22T21:03:40.883Z"
   },
   {
    "duration": 8,
    "start_time": "2022-01-22T21:03:40.970Z"
   },
   {
    "duration": 11,
    "start_time": "2022-01-22T21:03:40.981Z"
   },
   {
    "duration": 10,
    "start_time": "2022-01-22T21:03:40.995Z"
   },
   {
    "duration": 12,
    "start_time": "2022-01-22T21:03:41.008Z"
   },
   {
    "duration": 76,
    "start_time": "2022-01-22T21:03:41.022Z"
   },
   {
    "duration": 14,
    "start_time": "2022-01-22T21:03:41.103Z"
   },
   {
    "duration": 212,
    "start_time": "2022-01-22T21:03:41.120Z"
   },
   {
    "duration": 92,
    "start_time": "2022-01-22T21:03:41.335Z"
   },
   {
    "duration": 55,
    "start_time": "2022-01-22T21:03:41.429Z"
   },
   {
    "duration": 88,
    "start_time": "2022-01-22T21:03:41.487Z"
   },
   {
    "duration": 120,
    "start_time": "2022-01-22T21:03:41.577Z"
   },
   {
    "duration": 95,
    "start_time": "2022-01-22T21:03:41.700Z"
   },
   {
    "duration": 13,
    "start_time": "2022-01-22T21:03:41.798Z"
   },
   {
    "duration": 111,
    "start_time": "2022-01-22T21:03:41.813Z"
   },
   {
    "duration": 65,
    "start_time": "2022-01-22T21:03:41.926Z"
   },
   {
    "duration": 83,
    "start_time": "2022-01-22T21:03:41.993Z"
   },
   {
    "duration": 71,
    "start_time": "2022-01-22T21:03:42.078Z"
   },
   {
    "duration": 54,
    "start_time": "2022-01-22T21:03:42.166Z"
   },
   {
    "duration": 169,
    "start_time": "2022-01-22T21:03:42.223Z"
   },
   {
    "duration": 71,
    "start_time": "2022-01-22T21:03:42.395Z"
   },
   {
    "duration": 99,
    "start_time": "2022-01-22T21:03:42.468Z"
   },
   {
    "duration": 99,
    "start_time": "2022-01-22T21:03:42.570Z"
   },
   {
    "duration": 50,
    "start_time": "2022-01-22T21:03:42.672Z"
   },
   {
    "duration": 61,
    "start_time": "2022-01-22T21:03:42.725Z"
   },
   {
    "duration": 8,
    "start_time": "2022-01-22T21:03:42.788Z"
   },
   {
    "duration": 12,
    "start_time": "2022-01-22T21:03:42.798Z"
   },
   {
    "duration": 599,
    "start_time": "2022-01-22T21:03:42.812Z"
   },
   {
    "duration": -1202,
    "start_time": "2022-01-22T21:03:44.615Z"
   },
   {
    "duration": 30,
    "start_time": "2022-01-22T21:09:58.475Z"
   },
   {
    "duration": 345,
    "start_time": "2022-01-22T21:17:18.586Z"
   },
   {
    "duration": 9357,
    "start_time": "2022-01-22T21:19:01.674Z"
   },
   {
    "duration": 7386,
    "start_time": "2022-01-22T21:19:46.347Z"
   },
   {
    "duration": 508,
    "start_time": "2022-01-22T21:21:23.245Z"
   },
   {
    "duration": 494,
    "start_time": "2022-01-22T21:21:50.941Z"
   },
   {
    "duration": 1047,
    "start_time": "2022-01-23T07:13:13.168Z"
   },
   {
    "duration": 143,
    "start_time": "2022-01-23T07:13:14.216Z"
   },
   {
    "duration": 18,
    "start_time": "2022-01-23T07:13:14.361Z"
   },
   {
    "duration": 120,
    "start_time": "2022-01-23T07:13:14.381Z"
   },
   {
    "duration": 15,
    "start_time": "2022-01-23T07:13:14.502Z"
   },
   {
    "duration": 85,
    "start_time": "2022-01-23T07:13:14.519Z"
   },
   {
    "duration": 12,
    "start_time": "2022-01-23T07:13:14.606Z"
   },
   {
    "duration": 21,
    "start_time": "2022-01-23T07:13:14.621Z"
   },
   {
    "duration": 5,
    "start_time": "2022-01-23T07:13:14.644Z"
   },
   {
    "duration": 36,
    "start_time": "2022-01-23T07:13:14.650Z"
   },
   {
    "duration": 5,
    "start_time": "2022-01-23T07:13:14.687Z"
   },
   {
    "duration": 19,
    "start_time": "2022-01-23T07:13:14.694Z"
   },
   {
    "duration": 91,
    "start_time": "2022-01-23T07:13:14.715Z"
   },
   {
    "duration": 15,
    "start_time": "2022-01-23T07:13:14.807Z"
   },
   {
    "duration": 64,
    "start_time": "2022-01-23T07:13:14.823Z"
   },
   {
    "duration": 13,
    "start_time": "2022-01-23T07:13:14.888Z"
   },
   {
    "duration": 48,
    "start_time": "2022-01-23T07:13:14.903Z"
   },
   {
    "duration": 4,
    "start_time": "2022-01-23T07:13:14.953Z"
   },
   {
    "duration": 9,
    "start_time": "2022-01-23T07:13:14.958Z"
   },
   {
    "duration": 8,
    "start_time": "2022-01-23T07:13:14.968Z"
   },
   {
    "duration": 9,
    "start_time": "2022-01-23T07:13:14.977Z"
   },
   {
    "duration": 10,
    "start_time": "2022-01-23T07:13:14.988Z"
   },
   {
    "duration": 8,
    "start_time": "2022-01-23T07:13:15.001Z"
   },
   {
    "duration": 151,
    "start_time": "2022-01-23T07:13:15.011Z"
   },
   {
    "duration": 55,
    "start_time": "2022-01-23T07:13:15.163Z"
   },
   {
    "duration": 38,
    "start_time": "2022-01-23T07:13:15.220Z"
   },
   {
    "duration": 53,
    "start_time": "2022-01-23T07:13:15.259Z"
   },
   {
    "duration": 78,
    "start_time": "2022-01-23T07:13:15.313Z"
   },
   {
    "duration": 63,
    "start_time": "2022-01-23T07:13:15.393Z"
   },
   {
    "duration": 8,
    "start_time": "2022-01-23T07:13:15.458Z"
   },
   {
    "duration": 53,
    "start_time": "2022-01-23T07:13:15.467Z"
   },
   {
    "duration": 52,
    "start_time": "2022-01-23T07:13:15.522Z"
   },
   {
    "duration": 51,
    "start_time": "2022-01-23T07:13:15.576Z"
   },
   {
    "duration": 44,
    "start_time": "2022-01-23T07:13:15.641Z"
   },
   {
    "duration": 36,
    "start_time": "2022-01-23T07:13:15.687Z"
   },
   {
    "duration": 117,
    "start_time": "2022-01-23T07:13:15.725Z"
   },
   {
    "duration": 44,
    "start_time": "2022-01-23T07:13:15.844Z"
   },
   {
    "duration": 81,
    "start_time": "2022-01-23T07:13:15.889Z"
   },
   {
    "duration": 56,
    "start_time": "2022-01-23T07:13:15.971Z"
   },
   {
    "duration": 42,
    "start_time": "2022-01-23T07:13:16.029Z"
   },
   {
    "duration": 17,
    "start_time": "2022-01-23T07:13:16.072Z"
   },
   {
    "duration": 6,
    "start_time": "2022-01-23T07:13:16.090Z"
   },
   {
    "duration": 8,
    "start_time": "2022-01-23T07:13:16.097Z"
   },
   {
    "duration": 555,
    "start_time": "2022-01-23T07:13:16.107Z"
   },
   {
    "duration": -1244,
    "start_time": "2022-01-23T07:13:17.908Z"
   },
   {
    "duration": 84,
    "start_time": "2022-01-23T07:20:15.355Z"
   },
   {
    "duration": 78,
    "start_time": "2022-01-23T07:21:09.188Z"
   },
   {
    "duration": 215,
    "start_time": "2022-01-23T07:21:21.011Z"
   },
   {
    "duration": 96,
    "start_time": "2022-01-23T07:36:41.241Z"
   },
   {
    "duration": 84,
    "start_time": "2022-01-23T07:36:52.449Z"
   },
   {
    "duration": 79,
    "start_time": "2022-01-23T07:37:20.241Z"
   },
   {
    "duration": 79,
    "start_time": "2022-01-23T07:42:09.937Z"
   },
   {
    "duration": 376,
    "start_time": "2022-01-23T07:44:50.576Z"
   },
   {
    "duration": 86,
    "start_time": "2022-01-23T07:45:45.056Z"
   },
   {
    "duration": 112,
    "start_time": "2022-01-23T07:45:54.848Z"
   },
   {
    "duration": 80,
    "start_time": "2022-01-23T07:46:06.943Z"
   },
   {
    "duration": 85,
    "start_time": "2022-01-23T07:49:45.935Z"
   },
   {
    "duration": 76,
    "start_time": "2022-01-23T07:49:54.634Z"
   },
   {
    "duration": 78,
    "start_time": "2022-01-23T08:01:45.492Z"
   },
   {
    "duration": 257,
    "start_time": "2022-01-23T08:02:05.411Z"
   },
   {
    "duration": 79,
    "start_time": "2022-01-23T08:03:04.285Z"
   },
   {
    "duration": 117,
    "start_time": "2022-01-23T08:03:16.027Z"
   },
   {
    "duration": 78,
    "start_time": "2022-01-23T08:03:23.564Z"
   },
   {
    "duration": 81,
    "start_time": "2022-01-23T08:03:32.396Z"
   },
   {
    "duration": 87,
    "start_time": "2022-01-23T08:05:02.573Z"
   },
   {
    "duration": 84,
    "start_time": "2022-01-23T08:19:22.370Z"
   },
   {
    "duration": 82,
    "start_time": "2022-01-23T08:19:32.955Z"
   },
   {
    "duration": 117,
    "start_time": "2022-01-23T08:19:44.378Z"
   },
   {
    "duration": 166,
    "start_time": "2022-01-23T08:19:58.603Z"
   },
   {
    "duration": 143,
    "start_time": "2022-01-23T08:20:08.059Z"
   },
   {
    "duration": 182,
    "start_time": "2022-01-23T08:20:25.547Z"
   },
   {
    "duration": 114,
    "start_time": "2022-01-23T08:20:42.443Z"
   },
   {
    "duration": 178,
    "start_time": "2022-01-23T08:21:31.915Z"
   },
   {
    "duration": 240,
    "start_time": "2022-01-23T08:24:12.138Z"
   },
   {
    "duration": 15,
    "start_time": "2022-01-23T08:24:32.202Z"
   },
   {
    "duration": 15,
    "start_time": "2022-01-23T08:24:42.970Z"
   },
   {
    "duration": 177,
    "start_time": "2022-01-23T08:25:01.114Z"
   },
   {
    "duration": 113,
    "start_time": "2022-01-23T08:25:14.282Z"
   },
   {
    "duration": 3110,
    "start_time": "2022-01-23T08:25:38.890Z"
   },
   {
    "duration": 118,
    "start_time": "2022-01-23T08:25:47.258Z"
   },
   {
    "duration": 403,
    "start_time": "2022-01-23T08:26:20.538Z"
   },
   {
    "duration": 476,
    "start_time": "2022-01-23T08:26:54.697Z"
   },
   {
    "duration": 128,
    "start_time": "2022-01-23T08:27:04.217Z"
   },
   {
    "duration": 404,
    "start_time": "2022-01-23T08:28:22.315Z"
   },
   {
    "duration": 122,
    "start_time": "2022-01-23T08:28:47.290Z"
   },
   {
    "duration": 117,
    "start_time": "2022-01-23T08:29:51.658Z"
   },
   {
    "duration": 117,
    "start_time": "2022-01-23T08:30:10.058Z"
   },
   {
    "duration": 121,
    "start_time": "2022-01-23T08:30:34.297Z"
   },
   {
    "duration": 177,
    "start_time": "2022-01-23T08:32:36.842Z"
   },
   {
    "duration": 175,
    "start_time": "2022-01-23T08:34:49.915Z"
   },
   {
    "duration": 173,
    "start_time": "2022-01-23T08:36:07.080Z"
   },
   {
    "duration": 173,
    "start_time": "2022-01-23T08:36:40.041Z"
   },
   {
    "duration": 129,
    "start_time": "2022-01-23T08:36:59.624Z"
   },
   {
    "duration": 171,
    "start_time": "2022-01-23T08:37:09.080Z"
   },
   {
    "duration": 392,
    "start_time": "2022-01-23T08:57:49.061Z"
   },
   {
    "duration": 179,
    "start_time": "2022-01-23T08:57:53.893Z"
   },
   {
    "duration": 177,
    "start_time": "2022-01-23T08:58:38.197Z"
   },
   {
    "duration": 171,
    "start_time": "2022-01-23T09:00:43.848Z"
   },
   {
    "duration": 172,
    "start_time": "2022-01-23T09:01:38.020Z"
   },
   {
    "duration": 133,
    "start_time": "2022-01-23T09:02:05.850Z"
   },
   {
    "duration": 94,
    "start_time": "2022-01-23T09:05:58.179Z"
   },
   {
    "duration": 127,
    "start_time": "2022-01-23T09:06:28.004Z"
   },
   {
    "duration": 206,
    "start_time": "2022-01-23T09:06:46.772Z"
   },
   {
    "duration": 81,
    "start_time": "2022-01-23T09:07:15.924Z"
   },
   {
    "duration": 258,
    "start_time": "2022-01-23T09:07:28.531Z"
   },
   {
    "duration": 207,
    "start_time": "2022-01-23T09:07:50.035Z"
   },
   {
    "duration": 252,
    "start_time": "2022-01-23T09:08:01.955Z"
   },
   {
    "duration": 204,
    "start_time": "2022-01-23T09:08:05.859Z"
   },
   {
    "duration": 205,
    "start_time": "2022-01-23T09:08:13.763Z"
   },
   {
    "duration": 217,
    "start_time": "2022-01-23T09:08:28.564Z"
   },
   {
    "duration": 198,
    "start_time": "2022-01-23T09:08:44.146Z"
   },
   {
    "duration": 92,
    "start_time": "2022-01-23T09:08:53.443Z"
   },
   {
    "duration": 203,
    "start_time": "2022-01-23T09:08:58.867Z"
   },
   {
    "duration": 202,
    "start_time": "2022-01-23T09:09:29.316Z"
   },
   {
    "duration": 298,
    "start_time": "2022-01-23T09:10:43.875Z"
   },
   {
    "duration": 201,
    "start_time": "2022-01-23T09:11:09.427Z"
   },
   {
    "duration": 190,
    "start_time": "2022-01-23T09:12:55.490Z"
   },
   {
    "duration": 198,
    "start_time": "2022-01-23T09:13:54.899Z"
   },
   {
    "duration": 133,
    "start_time": "2022-01-23T09:14:30.914Z"
   },
   {
    "duration": 212,
    "start_time": "2022-01-23T09:14:44.834Z"
   },
   {
    "duration": 205,
    "start_time": "2022-01-23T09:14:56.466Z"
   },
   {
    "duration": 203,
    "start_time": "2022-01-23T09:15:05.409Z"
   },
   {
    "duration": 211,
    "start_time": "2022-01-23T09:15:31.074Z"
   },
   {
    "duration": 192,
    "start_time": "2022-01-23T09:16:05.756Z"
   },
   {
    "duration": 83,
    "start_time": "2022-01-23T09:16:14.594Z"
   },
   {
    "duration": 213,
    "start_time": "2022-01-23T09:16:22.113Z"
   },
   {
    "duration": 203,
    "start_time": "2022-01-23T09:16:48.993Z"
   },
   {
    "duration": 208,
    "start_time": "2022-01-23T09:16:52.947Z"
   },
   {
    "duration": 209,
    "start_time": "2022-01-23T09:17:44.881Z"
   },
   {
    "duration": 213,
    "start_time": "2022-01-23T09:18:50.305Z"
   },
   {
    "duration": 205,
    "start_time": "2022-01-23T09:19:09.889Z"
   },
   {
    "duration": 196,
    "start_time": "2022-01-23T09:19:49.042Z"
   },
   {
    "duration": 208,
    "start_time": "2022-01-23T09:20:01.473Z"
   },
   {
    "duration": 119,
    "start_time": "2022-01-23T09:20:07.603Z"
   },
   {
    "duration": 218,
    "start_time": "2022-01-23T09:20:13.714Z"
   },
   {
    "duration": 811,
    "start_time": "2022-01-23T09:21:14.642Z"
   },
   {
    "duration": 204,
    "start_time": "2022-01-23T09:21:29.266Z"
   },
   {
    "duration": 203,
    "start_time": "2022-01-23T09:23:39.730Z"
   },
   {
    "duration": 118,
    "start_time": "2022-01-23T09:24:16.931Z"
   },
   {
    "duration": 60,
    "start_time": "2022-01-23T09:24:33.121Z"
   },
   {
    "duration": 120,
    "start_time": "2022-01-23T09:24:42.242Z"
   },
   {
    "duration": 104,
    "start_time": "2022-01-23T09:25:04.209Z"
   },
   {
    "duration": 70,
    "start_time": "2022-01-23T09:25:12.449Z"
   },
   {
    "duration": 77,
    "start_time": "2022-01-23T09:25:19.378Z"
   },
   {
    "duration": 88,
    "start_time": "2022-01-23T09:27:22.754Z"
   },
   {
    "duration": 107,
    "start_time": "2022-01-23T09:27:28.113Z"
   },
   {
    "duration": 82,
    "start_time": "2022-01-23T09:27:55.666Z"
   },
   {
    "duration": 84,
    "start_time": "2022-01-23T09:34:52.849Z"
   },
   {
    "duration": 90,
    "start_time": "2022-01-23T09:35:23.183Z"
   },
   {
    "duration": 75,
    "start_time": "2022-01-23T09:35:37.263Z"
   },
   {
    "duration": 73,
    "start_time": "2022-01-23T09:36:16.896Z"
   },
   {
    "duration": 69,
    "start_time": "2022-01-23T09:37:50.927Z"
   },
   {
    "duration": 78,
    "start_time": "2022-01-23T09:40:34.415Z"
   },
   {
    "duration": 88,
    "start_time": "2022-01-23T09:40:52.735Z"
   },
   {
    "duration": 77,
    "start_time": "2022-01-23T09:41:02.670Z"
   },
   {
    "duration": 75,
    "start_time": "2022-01-23T09:42:07.951Z"
   },
   {
    "duration": 51,
    "start_time": "2022-01-23T09:43:15.198Z"
   },
   {
    "duration": 55,
    "start_time": "2022-01-23T09:46:03.519Z"
   },
   {
    "duration": 68,
    "start_time": "2022-01-23T09:46:13.934Z"
   },
   {
    "duration": 54,
    "start_time": "2022-01-23T09:46:40.061Z"
   },
   {
    "duration": 74,
    "start_time": "2022-01-23T09:47:20.670Z"
   },
   {
    "duration": 81,
    "start_time": "2022-01-23T09:50:23.853Z"
   },
   {
    "duration": 74,
    "start_time": "2022-01-23T09:50:33.933Z"
   },
   {
    "duration": 85,
    "start_time": "2022-01-23T09:50:40.748Z"
   },
   {
    "duration": 81,
    "start_time": "2022-01-23T09:51:14.350Z"
   },
   {
    "duration": 77,
    "start_time": "2022-01-23T09:51:50.349Z"
   },
   {
    "duration": 88,
    "start_time": "2022-01-23T09:53:13.564Z"
   },
   {
    "duration": 96,
    "start_time": "2022-01-23T09:53:58.508Z"
   },
   {
    "duration": 103,
    "start_time": "2022-01-23T09:54:34.892Z"
   },
   {
    "duration": 441,
    "start_time": "2022-01-23T09:54:54.748Z"
   },
   {
    "duration": 262,
    "start_time": "2022-01-23T09:55:05.933Z"
   },
   {
    "duration": 66,
    "start_time": "2022-01-23T09:55:51.500Z"
   },
   {
    "duration": 59,
    "start_time": "2022-01-23T09:56:39.596Z"
   },
   {
    "duration": 245,
    "start_time": "2022-01-23T10:14:19.098Z"
   },
   {
    "duration": 18,
    "start_time": "2022-01-23T10:14:38.075Z"
   },
   {
    "duration": 87,
    "start_time": "2022-01-23T10:30:45.785Z"
   },
   {
    "duration": 77,
    "start_time": "2022-01-23T10:31:06.680Z"
   },
   {
    "duration": 86,
    "start_time": "2022-01-23T10:31:55.816Z"
   },
   {
    "duration": 243,
    "start_time": "2022-01-23T10:32:03.959Z"
   },
   {
    "duration": 295,
    "start_time": "2022-01-23T10:32:28.776Z"
   },
   {
    "duration": 89,
    "start_time": "2022-01-23T10:33:06.904Z"
   },
   {
    "duration": 57,
    "start_time": "2022-01-23T10:33:27.766Z"
   },
   {
    "duration": 3838,
    "start_time": "2022-01-23T10:34:14.071Z"
   },
   {
    "duration": 32,
    "start_time": "2022-01-23T10:34:40.759Z"
   },
   {
    "duration": 237,
    "start_time": "2022-01-23T10:34:55.399Z"
   },
   {
    "duration": 247,
    "start_time": "2022-01-23T10:35:19.638Z"
   },
   {
    "duration": 272,
    "start_time": "2022-01-23T10:35:39.926Z"
   },
   {
    "duration": 60,
    "start_time": "2022-01-23T10:36:54.118Z"
   },
   {
    "duration": 106,
    "start_time": "2022-01-23T10:37:46.486Z"
   },
   {
    "duration": 70,
    "start_time": "2022-01-23T10:42:23.317Z"
   },
   {
    "duration": 612,
    "start_time": "2022-01-23T10:43:11.428Z"
   },
   {
    "duration": 185,
    "start_time": "2022-01-23T10:43:20.692Z"
   },
   {
    "duration": 74,
    "start_time": "2022-01-23T10:43:59.700Z"
   },
   {
    "duration": 123,
    "start_time": "2022-01-23T10:44:11.396Z"
   },
   {
    "duration": 401,
    "start_time": "2022-01-23T10:46:33.556Z"
   },
   {
    "duration": 396,
    "start_time": "2022-01-23T10:46:52.388Z"
   },
   {
    "duration": 31,
    "start_time": "2022-01-23T10:47:02.196Z"
   },
   {
    "duration": 32,
    "start_time": "2022-01-23T10:47:10.770Z"
   },
   {
    "duration": 85,
    "start_time": "2022-01-23T10:47:19.620Z"
   },
   {
    "duration": 76,
    "start_time": "2022-01-23T10:48:07.125Z"
   },
   {
    "duration": 79,
    "start_time": "2022-01-23T10:48:19.060Z"
   },
   {
    "duration": 399,
    "start_time": "2022-01-23T10:49:02.324Z"
   },
   {
    "duration": 88,
    "start_time": "2022-01-23T10:49:15.540Z"
   },
   {
    "duration": 247,
    "start_time": "2022-01-23T10:49:41.445Z"
   },
   {
    "duration": 399,
    "start_time": "2022-01-23T10:49:51.939Z"
   },
   {
    "duration": 80,
    "start_time": "2022-01-23T10:50:41.316Z"
   },
   {
    "duration": 136,
    "start_time": "2022-01-23T10:50:49.738Z"
   },
   {
    "duration": 120,
    "start_time": "2022-01-23T10:51:01.700Z"
   },
   {
    "duration": 399,
    "start_time": "2022-01-23T10:51:10.884Z"
   },
   {
    "duration": 600,
    "start_time": "2022-01-23T10:51:24.613Z"
   },
   {
    "duration": 146,
    "start_time": "2022-01-23T10:51:40.084Z"
   },
   {
    "duration": 133,
    "start_time": "2022-01-23T10:51:48.949Z"
   },
   {
    "duration": 146,
    "start_time": "2022-01-23T10:51:59.492Z"
   },
   {
    "duration": 399,
    "start_time": "2022-01-23T10:52:29.541Z"
   },
   {
    "duration": 418,
    "start_time": "2022-01-23T10:53:24.964Z"
   },
   {
    "duration": 146,
    "start_time": "2022-01-23T10:53:45.463Z"
   },
   {
    "duration": 39813,
    "start_time": "2022-01-23T10:53:56.035Z"
   },
   {
    "duration": 61,
    "start_time": "2022-01-23T10:59:54.355Z"
   },
   {
    "duration": 63,
    "start_time": "2022-01-23T11:00:25.923Z"
   },
   {
    "duration": 63,
    "start_time": "2022-01-23T11:00:45.203Z"
   },
   {
    "duration": 76,
    "start_time": "2022-01-23T11:06:13.796Z"
   },
   {
    "duration": 717,
    "start_time": "2022-01-23T11:06:19.720Z"
   },
   {
    "duration": 75,
    "start_time": "2022-01-23T11:06:45.431Z"
   },
   {
    "duration": 76,
    "start_time": "2022-01-23T11:07:02.200Z"
   },
   {
    "duration": 77,
    "start_time": "2022-01-23T11:07:20.536Z"
   },
   {
    "duration": 73,
    "start_time": "2022-01-23T11:07:35.800Z"
   },
   {
    "duration": 64,
    "start_time": "2022-01-23T11:07:48.697Z"
   },
   {
    "duration": 84,
    "start_time": "2022-01-23T11:08:35.127Z"
   },
   {
    "duration": 82,
    "start_time": "2022-01-23T11:09:45.223Z"
   },
   {
    "duration": 76,
    "start_time": "2022-01-23T11:09:53.288Z"
   },
   {
    "duration": 214,
    "start_time": "2022-01-23T11:10:28.391Z"
   },
   {
    "duration": 205,
    "start_time": "2022-01-23T11:11:19.080Z"
   },
   {
    "duration": 127,
    "start_time": "2022-01-23T11:12:15.222Z"
   },
   {
    "duration": 210,
    "start_time": "2022-01-23T11:12:25.848Z"
   },
   {
    "duration": 207,
    "start_time": "2022-01-23T11:12:49.768Z"
   },
   {
    "duration": 215,
    "start_time": "2022-01-23T11:14:11.143Z"
   },
   {
    "duration": 653,
    "start_time": "2022-01-23T11:14:54.119Z"
   },
   {
    "duration": 219,
    "start_time": "2022-01-23T11:16:29.479Z"
   },
   {
    "duration": 528,
    "start_time": "2022-01-23T11:16:42.615Z"
   },
   {
    "duration": 95,
    "start_time": "2022-01-23T11:18:48.374Z"
   },
   {
    "duration": 202,
    "start_time": "2022-01-23T11:19:08.437Z"
   },
   {
    "duration": 178,
    "start_time": "2022-01-23T11:19:21.446Z"
   },
   {
    "duration": 182,
    "start_time": "2022-01-23T11:19:33.302Z"
   },
   {
    "duration": 255,
    "start_time": "2022-01-23T11:19:48.278Z"
   },
   {
    "duration": 174,
    "start_time": "2022-01-23T11:20:02.357Z"
   },
   {
    "duration": 169,
    "start_time": "2022-01-23T11:20:22.070Z"
   },
   {
    "duration": 86,
    "start_time": "2022-01-23T11:21:11.398Z"
   },
   {
    "duration": 113,
    "start_time": "2022-01-23T11:22:40.213Z"
   },
   {
    "duration": 178,
    "start_time": "2022-01-23T11:22:54.550Z"
   },
   {
    "duration": 185,
    "start_time": "2022-01-23T11:23:33.445Z"
   },
   {
    "duration": 197,
    "start_time": "2022-01-23T11:24:27.846Z"
   },
   {
    "duration": 192,
    "start_time": "2022-01-23T11:25:18.437Z"
   },
   {
    "duration": 192,
    "start_time": "2022-01-23T11:25:29.989Z"
   },
   {
    "duration": 414,
    "start_time": "2022-01-23T11:25:54.485Z"
   },
   {
    "duration": 77,
    "start_time": "2022-01-23T11:37:58.659Z"
   },
   {
    "duration": 80,
    "start_time": "2022-01-23T11:38:38.948Z"
   },
   {
    "duration": 99,
    "start_time": "2022-01-23T11:40:20.227Z"
   },
   {
    "duration": 179,
    "start_time": "2022-01-23T11:43:56.033Z"
   },
   {
    "duration": 188,
    "start_time": "2022-01-23T11:44:10.514Z"
   },
   {
    "duration": 183,
    "start_time": "2022-01-23T11:44:41.011Z"
   },
   {
    "duration": 193,
    "start_time": "2022-01-23T11:47:10.514Z"
   },
   {
    "duration": 191,
    "start_time": "2022-01-23T11:48:22.930Z"
   },
   {
    "duration": 74,
    "start_time": "2022-01-23T11:57:09.361Z"
   },
   {
    "duration": 74,
    "start_time": "2022-01-23T11:57:41.824Z"
   },
   {
    "duration": 75,
    "start_time": "2022-01-23T11:58:12.448Z"
   },
   {
    "duration": 76,
    "start_time": "2022-01-23T11:58:21.157Z"
   },
   {
    "duration": 78,
    "start_time": "2022-01-23T11:59:03.616Z"
   },
   {
    "duration": 75,
    "start_time": "2022-01-23T12:00:12.895Z"
   },
   {
    "duration": 641,
    "start_time": "2022-01-23T12:00:21.296Z"
   },
   {
    "duration": 75,
    "start_time": "2022-01-23T12:00:55.664Z"
   },
   {
    "duration": 123,
    "start_time": "2022-01-23T12:01:04.575Z"
   },
   {
    "duration": 373,
    "start_time": "2022-01-23T12:01:10.080Z"
   },
   {
    "duration": 114,
    "start_time": "2022-01-23T12:01:20.641Z"
   },
   {
    "duration": 109,
    "start_time": "2022-01-23T12:01:55.504Z"
   },
   {
    "duration": 109,
    "start_time": "2022-01-23T12:02:10.399Z"
   },
   {
    "duration": 106,
    "start_time": "2022-01-23T12:02:23.999Z"
   },
   {
    "duration": 110,
    "start_time": "2022-01-23T12:02:42.895Z"
   },
   {
    "duration": 118,
    "start_time": "2022-01-23T12:02:53.637Z"
   },
   {
    "duration": 120,
    "start_time": "2022-01-23T12:04:23.679Z"
   },
   {
    "duration": 127,
    "start_time": "2022-01-23T12:04:30.335Z"
   },
   {
    "duration": 161,
    "start_time": "2022-01-23T12:08:58.783Z"
   },
   {
    "duration": 162,
    "start_time": "2022-01-23T12:09:32.366Z"
   },
   {
    "duration": 176,
    "start_time": "2022-01-23T12:13:32.718Z"
   },
   {
    "duration": 177,
    "start_time": "2022-01-23T12:14:20.797Z"
   },
   {
    "duration": 177,
    "start_time": "2022-01-23T12:14:32.414Z"
   },
   {
    "duration": 156,
    "start_time": "2022-01-23T12:15:12.862Z"
   },
   {
    "duration": 161,
    "start_time": "2022-01-23T12:15:40.462Z"
   },
   {
    "duration": 163,
    "start_time": "2022-01-23T12:15:55.566Z"
   },
   {
    "duration": 5,
    "start_time": "2022-01-23T12:16:09.534Z"
   },
   {
    "duration": 155,
    "start_time": "2022-01-23T12:16:15.805Z"
   },
   {
    "duration": 161,
    "start_time": "2022-01-23T12:16:39.246Z"
   },
   {
    "duration": 161,
    "start_time": "2022-01-23T12:17:08.894Z"
   },
   {
    "duration": 158,
    "start_time": "2022-01-23T12:32:39.291Z"
   },
   {
    "duration": 422,
    "start_time": "2022-01-23T12:34:06.940Z"
   },
   {
    "duration": 165,
    "start_time": "2022-01-23T12:34:21.146Z"
   },
   {
    "duration": 161,
    "start_time": "2022-01-23T12:35:12.459Z"
   },
   {
    "duration": 158,
    "start_time": "2022-01-23T12:35:26.555Z"
   },
   {
    "duration": 167,
    "start_time": "2022-01-23T12:35:39.309Z"
   },
   {
    "duration": 155,
    "start_time": "2022-01-23T12:35:51.707Z"
   },
   {
    "duration": 212,
    "start_time": "2022-01-23T12:36:08.266Z"
   },
   {
    "duration": 160,
    "start_time": "2022-01-23T12:36:35.883Z"
   },
   {
    "duration": 160,
    "start_time": "2022-01-23T12:37:27.851Z"
   },
   {
    "duration": 160,
    "start_time": "2022-01-23T12:38:24.139Z"
   },
   {
    "duration": 164,
    "start_time": "2022-01-23T12:38:43.227Z"
   },
   {
    "duration": 247,
    "start_time": "2022-01-23T12:39:50.507Z"
   },
   {
    "duration": 155,
    "start_time": "2022-01-23T12:40:33.066Z"
   },
   {
    "duration": 152,
    "start_time": "2022-01-23T12:40:47.722Z"
   },
   {
    "duration": 434,
    "start_time": "2022-01-23T12:41:31.131Z"
   },
   {
    "duration": 160,
    "start_time": "2022-01-23T12:41:47.386Z"
   },
   {
    "duration": 157,
    "start_time": "2022-01-23T12:43:40.011Z"
   },
   {
    "duration": 83,
    "start_time": "2022-01-23T12:43:52.269Z"
   },
   {
    "duration": 166,
    "start_time": "2022-01-23T12:43:58.281Z"
   },
   {
    "duration": 159,
    "start_time": "2022-01-23T12:44:44.521Z"
   },
   {
    "duration": 167,
    "start_time": "2022-01-23T12:45:04.090Z"
   },
   {
    "duration": 166,
    "start_time": "2022-01-23T12:45:20.681Z"
   },
   {
    "duration": 151,
    "start_time": "2022-01-23T12:46:31.161Z"
   },
   {
    "duration": 156,
    "start_time": "2022-01-23T12:46:45.961Z"
   },
   {
    "duration": 154,
    "start_time": "2022-01-23T12:46:59.434Z"
   },
   {
    "duration": 155,
    "start_time": "2022-01-23T12:47:09.819Z"
   },
   {
    "duration": 153,
    "start_time": "2022-01-23T12:47:17.369Z"
   },
   {
    "duration": 146,
    "start_time": "2022-01-23T12:49:10.297Z"
   },
   {
    "duration": 149,
    "start_time": "2022-01-23T12:49:15.817Z"
   },
   {
    "duration": 147,
    "start_time": "2022-01-23T12:49:59.609Z"
   },
   {
    "duration": 153,
    "start_time": "2022-01-23T12:50:28.249Z"
   },
   {
    "duration": 151,
    "start_time": "2022-01-23T12:53:21.465Z"
   },
   {
    "duration": 152,
    "start_time": "2022-01-23T12:55:12.217Z"
   },
   {
    "duration": 78,
    "start_time": "2022-01-23T12:55:48.167Z"
   },
   {
    "duration": 148,
    "start_time": "2022-01-23T12:56:17.800Z"
   },
   {
    "duration": 151,
    "start_time": "2022-01-23T12:57:13.224Z"
   },
   {
    "duration": 189,
    "start_time": "2022-01-23T12:58:04.595Z"
   },
   {
    "duration": 190,
    "start_time": "2022-01-23T12:58:29.463Z"
   },
   {
    "duration": 197,
    "start_time": "2022-01-23T12:59:47.047Z"
   },
   {
    "duration": 203,
    "start_time": "2022-01-23T13:00:23.255Z"
   },
   {
    "duration": 493,
    "start_time": "2022-01-23T13:01:02.968Z"
   },
   {
    "duration": 164,
    "start_time": "2022-01-23T13:02:14.022Z"
   },
   {
    "duration": 158,
    "start_time": "2022-01-23T13:05:17.447Z"
   },
   {
    "duration": 154,
    "start_time": "2022-01-23T13:07:20.778Z"
   },
   {
    "duration": 150,
    "start_time": "2022-01-23T13:08:12.694Z"
   },
   {
    "duration": 191,
    "start_time": "2022-01-23T13:08:22.006Z"
   },
   {
    "duration": 151,
    "start_time": "2022-01-23T13:09:56.135Z"
   },
   {
    "duration": 150,
    "start_time": "2022-01-23T13:10:17.862Z"
   },
   {
    "duration": 163,
    "start_time": "2022-01-23T13:11:02.070Z"
   },
   {
    "duration": 152,
    "start_time": "2022-01-23T13:11:23.703Z"
   },
   {
    "duration": 153,
    "start_time": "2022-01-23T13:11:39.029Z"
   },
   {
    "duration": 149,
    "start_time": "2022-01-23T13:12:16.646Z"
   },
   {
    "duration": 156,
    "start_time": "2022-01-23T13:12:25.302Z"
   },
   {
    "duration": 149,
    "start_time": "2022-01-23T14:07:48.769Z"
   },
   {
    "duration": 12,
    "start_time": "2022-01-23T14:29:29.789Z"
   },
   {
    "duration": 14,
    "start_time": "2022-01-23T14:29:38.717Z"
   },
   {
    "duration": 10,
    "start_time": "2022-01-23T14:29:46.558Z"
   },
   {
    "duration": 11,
    "start_time": "2022-01-23T14:30:19.965Z"
   },
   {
    "duration": 155,
    "start_time": "2022-01-23T14:39:30.751Z"
   },
   {
    "duration": 148,
    "start_time": "2022-01-23T14:39:37.647Z"
   },
   {
    "duration": 149,
    "start_time": "2022-01-23T14:39:59.327Z"
   },
   {
    "duration": 161,
    "start_time": "2022-01-23T14:40:49.279Z"
   },
   {
    "duration": 151,
    "start_time": "2022-01-23T14:41:40.111Z"
   },
   {
    "duration": 151,
    "start_time": "2022-01-23T14:41:51.758Z"
   },
   {
    "duration": 101,
    "start_time": "2022-01-23T14:46:29.263Z"
   },
   {
    "duration": 145,
    "start_time": "2022-01-23T14:46:42.222Z"
   },
   {
    "duration": 229,
    "start_time": "2022-01-23T14:47:38.287Z"
   },
   {
    "duration": 89,
    "start_time": "2022-01-23T14:48:05.434Z"
   },
   {
    "duration": 151,
    "start_time": "2022-01-23T14:48:30.414Z"
   },
   {
    "duration": 166,
    "start_time": "2022-01-23T14:48:59.006Z"
   },
   {
    "duration": 143,
    "start_time": "2022-01-23T14:49:18.206Z"
   },
   {
    "duration": 146,
    "start_time": "2022-01-23T14:51:44.846Z"
   },
   {
    "duration": 152,
    "start_time": "2022-01-23T14:53:20.076Z"
   },
   {
    "duration": 153,
    "start_time": "2022-01-23T14:55:44.748Z"
   },
   {
    "duration": 154,
    "start_time": "2022-01-23T14:56:21.756Z"
   },
   {
    "duration": 149,
    "start_time": "2022-01-23T14:56:36.300Z"
   },
   {
    "duration": 511,
    "start_time": "2022-01-23T14:57:13.083Z"
   },
   {
    "duration": 114,
    "start_time": "2022-01-23T14:59:16.635Z"
   },
   {
    "duration": 159,
    "start_time": "2022-01-23T15:00:13.483Z"
   },
   {
    "duration": 78,
    "start_time": "2022-01-23T15:06:42.554Z"
   },
   {
    "duration": 84,
    "start_time": "2022-01-23T15:13:41.288Z"
   },
   {
    "duration": 670,
    "start_time": "2022-01-23T15:14:01.305Z"
   },
   {
    "duration": 112,
    "start_time": "2022-01-23T15:14:10.232Z"
   },
   {
    "duration": 109,
    "start_time": "2022-01-23T15:14:41.528Z"
   },
   {
    "duration": 121,
    "start_time": "2022-01-23T15:15:15.145Z"
   },
   {
    "duration": 246,
    "start_time": "2022-01-23T15:15:25.736Z"
   },
   {
    "duration": 76,
    "start_time": "2022-01-23T15:17:24.103Z"
   },
   {
    "duration": 470,
    "start_time": "2022-01-23T15:17:37.831Z"
   },
   {
    "duration": 164,
    "start_time": "2022-01-23T15:17:53.910Z"
   },
   {
    "duration": 84,
    "start_time": "2022-01-23T15:18:23.991Z"
   },
   {
    "duration": 131,
    "start_time": "2022-01-23T15:18:48.598Z"
   },
   {
    "duration": 169,
    "start_time": "2022-01-23T15:19:22.760Z"
   },
   {
    "duration": 149,
    "start_time": "2022-01-23T15:25:57.186Z"
   },
   {
    "duration": 154,
    "start_time": "2022-01-23T15:26:24.306Z"
   },
   {
    "duration": 146,
    "start_time": "2022-01-23T15:26:43.057Z"
   },
   {
    "duration": 398,
    "start_time": "2022-01-23T15:31:54.609Z"
   },
   {
    "duration": 440,
    "start_time": "2022-01-23T15:32:08.257Z"
   },
   {
    "duration": 466,
    "start_time": "2022-01-23T15:33:04.962Z"
   },
   {
    "duration": 165,
    "start_time": "2022-01-23T15:34:01.952Z"
   },
   {
    "duration": 137,
    "start_time": "2022-01-23T15:35:41.409Z"
   },
   {
    "duration": 138,
    "start_time": "2022-01-23T15:36:31.533Z"
   },
   {
    "duration": 144,
    "start_time": "2022-01-23T15:36:37.967Z"
   },
   {
    "duration": 163,
    "start_time": "2022-01-23T15:36:53.392Z"
   },
   {
    "duration": 6,
    "start_time": "2022-01-23T15:40:10.495Z"
   },
   {
    "duration": 5,
    "start_time": "2022-01-23T15:40:41.518Z"
   },
   {
    "duration": 6,
    "start_time": "2022-01-23T15:41:03.375Z"
   },
   {
    "duration": 6,
    "start_time": "2022-01-23T15:42:28.798Z"
   },
   {
    "duration": 6,
    "start_time": "2022-01-23T15:42:43.934Z"
   },
   {
    "duration": 5,
    "start_time": "2022-01-23T15:44:07.845Z"
   },
   {
    "duration": 5,
    "start_time": "2022-01-23T15:44:24.638Z"
   },
   {
    "duration": 13,
    "start_time": "2022-01-23T16:16:46.398Z"
   },
   {
    "duration": 5,
    "start_time": "2022-01-23T16:16:51.389Z"
   },
   {
    "duration": 5,
    "start_time": "2022-01-23T16:16:55.821Z"
   },
   {
    "duration": 5,
    "start_time": "2022-01-23T16:17:47.965Z"
   },
   {
    "duration": 4,
    "start_time": "2022-01-23T16:17:49.869Z"
   },
   {
    "duration": 178,
    "start_time": "2022-01-23T16:20:22.412Z"
   },
   {
    "duration": 175,
    "start_time": "2022-01-23T16:21:07.900Z"
   },
   {
    "duration": 176,
    "start_time": "2022-01-23T16:21:12.652Z"
   },
   {
    "duration": 12,
    "start_time": "2022-01-23T16:29:10.565Z"
   },
   {
    "duration": 4,
    "start_time": "2022-01-23T16:29:43.852Z"
   },
   {
    "duration": 5,
    "start_time": "2022-01-23T16:30:07.125Z"
   },
   {
    "duration": 244,
    "start_time": "2022-01-23T16:30:34.075Z"
   },
   {
    "duration": 5,
    "start_time": "2022-01-23T16:30:40.923Z"
   },
   {
    "duration": 187,
    "start_time": "2022-01-23T16:31:06.908Z"
   },
   {
    "duration": 13,
    "start_time": "2022-01-23T16:34:24.059Z"
   },
   {
    "duration": 10,
    "start_time": "2022-01-23T16:34:54.218Z"
   },
   {
    "duration": 4,
    "start_time": "2022-01-23T16:35:41.435Z"
   },
   {
    "duration": 5,
    "start_time": "2022-01-23T16:36:09.287Z"
   },
   {
    "duration": 5,
    "start_time": "2022-01-23T16:36:20.711Z"
   },
   {
    "duration": 5,
    "start_time": "2022-01-23T16:51:10.294Z"
   },
   {
    "duration": 5,
    "start_time": "2022-01-23T16:52:01.653Z"
   },
   {
    "duration": 187,
    "start_time": "2022-01-23T17:15:08.833Z"
   },
   {
    "duration": 9,
    "start_time": "2022-01-23T17:20:06.065Z"
   },
   {
    "duration": 5,
    "start_time": "2022-01-23T17:20:38.784Z"
   },
   {
    "duration": 5,
    "start_time": "2022-01-23T17:21:17.008Z"
   },
   {
    "duration": 4,
    "start_time": "2022-01-23T17:21:48.528Z"
   },
   {
    "duration": 252,
    "start_time": "2022-01-23T17:22:41.760Z"
   },
   {
    "duration": 177,
    "start_time": "2022-01-23T17:23:11.169Z"
   },
   {
    "duration": 10,
    "start_time": "2022-01-23T17:24:20.017Z"
   },
   {
    "duration": 10,
    "start_time": "2022-01-23T17:24:52.209Z"
   },
   {
    "duration": 5,
    "start_time": "2022-01-23T17:28:52.639Z"
   },
   {
    "duration": 4,
    "start_time": "2022-01-23T18:13:39.466Z"
   },
   {
    "duration": 11,
    "start_time": "2022-01-23T19:01:08.934Z"
   },
   {
    "duration": 27,
    "start_time": "2022-01-23T19:26:32.505Z"
   },
   {
    "duration": 211,
    "start_time": "2022-01-23T19:39:14.550Z"
   },
   {
    "duration": 12,
    "start_time": "2022-01-23T19:39:57.238Z"
   },
   {
    "duration": 5,
    "start_time": "2022-01-23T19:40:40.742Z"
   },
   {
    "duration": 5,
    "start_time": "2022-01-23T19:43:20.758Z"
   },
   {
    "duration": 5,
    "start_time": "2022-01-23T19:43:37.477Z"
   },
   {
    "duration": 5,
    "start_time": "2022-01-23T19:44:25.607Z"
   },
   {
    "duration": 5,
    "start_time": "2022-01-23T19:44:46.325Z"
   },
   {
    "duration": 5,
    "start_time": "2022-01-23T19:44:55.846Z"
   },
   {
    "duration": 4,
    "start_time": "2022-01-23T19:45:00.966Z"
   },
   {
    "duration": 4,
    "start_time": "2022-01-23T19:45:23.414Z"
   },
   {
    "duration": 5,
    "start_time": "2022-01-23T19:45:45.046Z"
   },
   {
    "duration": 6,
    "start_time": "2022-01-23T19:46:31.574Z"
   },
   {
    "duration": 6,
    "start_time": "2022-01-23T19:46:43.109Z"
   },
   {
    "duration": 4,
    "start_time": "2022-01-23T19:47:04.917Z"
   },
   {
    "duration": 4285,
    "start_time": "2022-01-23T19:55:52.102Z"
   },
   {
    "duration": 4861,
    "start_time": "2022-01-23T19:56:01.764Z"
   },
   {
    "duration": 22,
    "start_time": "2022-01-23T19:59:27.300Z"
   },
   {
    "duration": 16,
    "start_time": "2022-01-23T19:59:42.455Z"
   },
   {
    "duration": 1224,
    "start_time": "2022-01-23T20:02:20.460Z"
   },
   {
    "duration": 179,
    "start_time": "2022-01-23T20:02:21.686Z"
   },
   {
    "duration": 22,
    "start_time": "2022-01-23T20:02:21.867Z"
   },
   {
    "duration": 151,
    "start_time": "2022-01-23T20:02:21.891Z"
   },
   {
    "duration": 18,
    "start_time": "2022-01-23T20:02:22.044Z"
   },
   {
    "duration": 105,
    "start_time": "2022-01-23T20:02:22.064Z"
   },
   {
    "duration": 17,
    "start_time": "2022-01-23T20:02:22.171Z"
   },
   {
    "duration": 38,
    "start_time": "2022-01-23T20:02:22.192Z"
   },
   {
    "duration": 12,
    "start_time": "2022-01-23T20:02:22.233Z"
   },
   {
    "duration": 43,
    "start_time": "2022-01-23T20:02:22.247Z"
   },
   {
    "duration": 9,
    "start_time": "2022-01-23T20:02:22.292Z"
   },
   {
    "duration": 27,
    "start_time": "2022-01-23T20:02:22.303Z"
   },
   {
    "duration": 125,
    "start_time": "2022-01-23T20:02:22.332Z"
   },
   {
    "duration": 20,
    "start_time": "2022-01-23T20:02:22.459Z"
   },
   {
    "duration": 90,
    "start_time": "2022-01-23T20:02:22.481Z"
   },
   {
    "duration": 17,
    "start_time": "2022-01-23T20:02:22.574Z"
   },
   {
    "duration": 66,
    "start_time": "2022-01-23T20:02:22.594Z"
   },
   {
    "duration": 6,
    "start_time": "2022-01-23T20:02:22.662Z"
   },
   {
    "duration": 28,
    "start_time": "2022-01-23T20:02:22.670Z"
   },
   {
    "duration": 21,
    "start_time": "2022-01-23T20:02:22.700Z"
   },
   {
    "duration": 23,
    "start_time": "2022-01-23T20:02:22.723Z"
   },
   {
    "duration": 33,
    "start_time": "2022-01-23T20:02:22.748Z"
   },
   {
    "duration": 13,
    "start_time": "2022-01-23T20:02:22.786Z"
   },
   {
    "duration": 33,
    "start_time": "2022-01-23T20:02:22.802Z"
   },
   {
    "duration": 153,
    "start_time": "2022-01-23T20:02:22.838Z"
   },
   {
    "duration": 66,
    "start_time": "2022-01-23T20:02:22.993Z"
   },
   {
    "duration": 30,
    "start_time": "2022-01-23T20:02:23.061Z"
   },
   {
    "duration": 69,
    "start_time": "2022-01-23T20:02:23.093Z"
   },
   {
    "duration": 93,
    "start_time": "2022-01-23T20:02:23.164Z"
   },
   {
    "duration": 77,
    "start_time": "2022-01-23T20:02:23.259Z"
   },
   {
    "duration": 10,
    "start_time": "2022-01-23T20:02:23.338Z"
   },
   {
    "duration": 85,
    "start_time": "2022-01-23T20:02:23.351Z"
   },
   {
    "duration": 45,
    "start_time": "2022-01-23T20:02:23.439Z"
   },
   {
    "duration": 82,
    "start_time": "2022-01-23T20:02:23.486Z"
   },
   {
    "duration": 63,
    "start_time": "2022-01-23T20:02:23.570Z"
   },
   {
    "duration": 40,
    "start_time": "2022-01-23T20:02:23.636Z"
   },
   {
    "duration": 129,
    "start_time": "2022-01-23T20:02:23.678Z"
   },
   {
    "duration": 49,
    "start_time": "2022-01-23T20:02:23.809Z"
   },
   {
    "duration": 328,
    "start_time": "2022-01-23T20:02:23.860Z"
   },
   {
    "duration": -878,
    "start_time": "2022-01-23T20:02:25.068Z"
   },
   {
    "duration": -953,
    "start_time": "2022-01-23T20:02:25.144Z"
   },
   {
    "duration": -955,
    "start_time": "2022-01-23T20:02:25.148Z"
   },
   {
    "duration": -958,
    "start_time": "2022-01-23T20:02:25.152Z"
   },
   {
    "duration": -959,
    "start_time": "2022-01-23T20:02:25.154Z"
   },
   {
    "duration": -961,
    "start_time": "2022-01-23T20:02:25.157Z"
   },
   {
    "duration": -963,
    "start_time": "2022-01-23T20:02:25.160Z"
   },
   {
    "duration": -965,
    "start_time": "2022-01-23T20:02:25.163Z"
   },
   {
    "duration": -968,
    "start_time": "2022-01-23T20:02:25.167Z"
   },
   {
    "duration": -970,
    "start_time": "2022-01-23T20:02:25.170Z"
   },
   {
    "duration": -972,
    "start_time": "2022-01-23T20:02:25.173Z"
   },
   {
    "duration": -974,
    "start_time": "2022-01-23T20:02:25.176Z"
   },
   {
    "duration": -976,
    "start_time": "2022-01-23T20:02:25.179Z"
   },
   {
    "duration": -978,
    "start_time": "2022-01-23T20:02:25.182Z"
   },
   {
    "duration": -981,
    "start_time": "2022-01-23T20:02:25.186Z"
   },
   {
    "duration": -983,
    "start_time": "2022-01-23T20:02:25.189Z"
   },
   {
    "duration": -984,
    "start_time": "2022-01-23T20:02:25.191Z"
   },
   {
    "duration": -987,
    "start_time": "2022-01-23T20:02:25.195Z"
   },
   {
    "duration": -987,
    "start_time": "2022-01-23T20:02:25.197Z"
   },
   {
    "duration": -989,
    "start_time": "2022-01-23T20:02:25.200Z"
   },
   {
    "duration": -991,
    "start_time": "2022-01-23T20:02:25.203Z"
   },
   {
    "duration": -994,
    "start_time": "2022-01-23T20:02:25.207Z"
   },
   {
    "duration": -995,
    "start_time": "2022-01-23T20:02:25.210Z"
   },
   {
    "duration": -1029,
    "start_time": "2022-01-23T20:02:25.245Z"
   },
   {
    "duration": -1031,
    "start_time": "2022-01-23T20:02:25.248Z"
   },
   {
    "duration": -1032,
    "start_time": "2022-01-23T20:02:25.250Z"
   },
   {
    "duration": -1034,
    "start_time": "2022-01-23T20:02:25.253Z"
   },
   {
    "duration": -1081,
    "start_time": "2022-01-23T20:02:25.301Z"
   },
   {
    "duration": -1083,
    "start_time": "2022-01-23T20:02:25.304Z"
   },
   {
    "duration": -1087,
    "start_time": "2022-01-23T20:02:25.309Z"
   },
   {
    "duration": -1090,
    "start_time": "2022-01-23T20:02:25.313Z"
   },
   {
    "duration": -1093,
    "start_time": "2022-01-23T20:02:25.317Z"
   },
   {
    "duration": -1095,
    "start_time": "2022-01-23T20:02:25.320Z"
   },
   {
    "duration": -1099,
    "start_time": "2022-01-23T20:02:25.326Z"
   },
   {
    "duration": -1102,
    "start_time": "2022-01-23T20:02:25.330Z"
   },
   {
    "duration": -1144,
    "start_time": "2022-01-23T20:02:25.372Z"
   },
   {
    "duration": -1149,
    "start_time": "2022-01-23T20:02:25.378Z"
   },
   {
    "duration": 71,
    "start_time": "2022-01-23T20:05:02.457Z"
   },
   {
    "duration": 63,
    "start_time": "2022-01-23T20:05:03.832Z"
   },
   {
    "duration": 37,
    "start_time": "2022-01-23T20:05:09.848Z"
   },
   {
    "duration": 21,
    "start_time": "2022-01-23T20:05:13.928Z"
   },
   {
    "duration": 8,
    "start_time": "2022-01-23T20:05:15.511Z"
   },
   {
    "duration": 10,
    "start_time": "2022-01-23T20:05:16.984Z"
   },
   {
    "duration": 147,
    "start_time": "2022-01-23T20:05:19.512Z"
   },
   {
    "duration": 14,
    "start_time": "2022-01-23T20:05:26.695Z"
   },
   {
    "duration": 5,
    "start_time": "2022-01-23T20:05:27.688Z"
   },
   {
    "duration": 5,
    "start_time": "2022-01-23T20:05:28.776Z"
   },
   {
    "duration": 5,
    "start_time": "2022-01-23T20:05:29.128Z"
   },
   {
    "duration": 4,
    "start_time": "2022-01-23T20:05:29.447Z"
   },
   {
    "duration": 204,
    "start_time": "2022-01-23T20:05:29.752Z"
   },
   {
    "duration": 15,
    "start_time": "2022-01-23T20:05:30.087Z"
   },
   {
    "duration": 5,
    "start_time": "2022-01-23T20:05:30.503Z"
   },
   {
    "duration": 5,
    "start_time": "2022-01-23T20:05:31.352Z"
   },
   {
    "duration": 4,
    "start_time": "2022-01-23T20:05:32.376Z"
   },
   {
    "duration": 218,
    "start_time": "2022-01-23T20:05:33.207Z"
   },
   {
    "duration": 11,
    "start_time": "2022-01-23T20:05:35.655Z"
   },
   {
    "duration": 5,
    "start_time": "2022-01-23T20:05:36.199Z"
   },
   {
    "duration": 4,
    "start_time": "2022-01-23T20:05:36.936Z"
   },
   {
    "duration": 5,
    "start_time": "2022-01-23T20:05:37.623Z"
   },
   {
    "duration": 298,
    "start_time": "2022-01-23T20:05:38.423Z"
   },
   {
    "duration": 11,
    "start_time": "2022-01-23T20:05:39.047Z"
   },
   {
    "duration": 5,
    "start_time": "2022-01-23T20:05:40.024Z"
   },
   {
    "duration": 6,
    "start_time": "2022-01-23T20:05:41.095Z"
   },
   {
    "duration": 4,
    "start_time": "2022-01-23T20:05:41.863Z"
   },
   {
    "duration": 193,
    "start_time": "2022-01-23T20:05:42.536Z"
   },
   {
    "duration": 11,
    "start_time": "2022-01-23T20:05:44.024Z"
   },
   {
    "duration": 5,
    "start_time": "2022-01-23T20:05:44.824Z"
   },
   {
    "duration": 4,
    "start_time": "2022-01-23T20:05:45.544Z"
   },
   {
    "duration": 5,
    "start_time": "2022-01-23T20:05:46.311Z"
   },
   {
    "duration": 196,
    "start_time": "2022-01-23T20:05:47.064Z"
   },
   {
    "duration": 12,
    "start_time": "2022-01-23T20:05:47.782Z"
   },
   {
    "duration": 6,
    "start_time": "2022-01-23T20:05:48.743Z"
   },
   {
    "duration": 7,
    "start_time": "2022-01-23T20:05:49.463Z"
   },
   {
    "duration": 5,
    "start_time": "2022-01-23T20:05:50.183Z"
   },
   {
    "duration": 4245,
    "start_time": "2022-01-23T20:05:53.655Z"
   },
   {
    "duration": 1252,
    "start_time": "2022-01-23T20:06:21.947Z"
   },
   {
    "duration": 262,
    "start_time": "2022-01-23T20:06:23.202Z"
   },
   {
    "duration": 49,
    "start_time": "2022-01-23T20:06:23.467Z"
   },
   {
    "duration": 197,
    "start_time": "2022-01-23T20:06:23.519Z"
   },
   {
    "duration": 19,
    "start_time": "2022-01-23T20:06:23.718Z"
   },
   {
    "duration": 111,
    "start_time": "2022-01-23T20:06:23.739Z"
   },
   {
    "duration": 17,
    "start_time": "2022-01-23T20:06:23.853Z"
   },
   {
    "duration": 30,
    "start_time": "2022-01-23T20:06:23.873Z"
   },
   {
    "duration": 8,
    "start_time": "2022-01-23T20:06:23.909Z"
   },
   {
    "duration": 43,
    "start_time": "2022-01-23T20:06:23.920Z"
   },
   {
    "duration": 10,
    "start_time": "2022-01-23T20:06:23.965Z"
   },
   {
    "duration": 31,
    "start_time": "2022-01-23T20:06:23.977Z"
   },
   {
    "duration": 126,
    "start_time": "2022-01-23T20:06:24.010Z"
   },
   {
    "duration": 18,
    "start_time": "2022-01-23T20:06:24.138Z"
   },
   {
    "duration": 90,
    "start_time": "2022-01-23T20:06:24.157Z"
   },
   {
    "duration": 17,
    "start_time": "2022-01-23T20:06:24.249Z"
   },
   {
    "duration": 71,
    "start_time": "2022-01-23T20:06:24.268Z"
   },
   {
    "duration": 8,
    "start_time": "2022-01-23T20:06:24.342Z"
   },
   {
    "duration": 15,
    "start_time": "2022-01-23T20:06:24.352Z"
   },
   {
    "duration": 11,
    "start_time": "2022-01-23T20:06:24.369Z"
   },
   {
    "duration": 25,
    "start_time": "2022-01-23T20:06:24.382Z"
   },
   {
    "duration": 17,
    "start_time": "2022-01-23T20:06:24.409Z"
   },
   {
    "duration": 11,
    "start_time": "2022-01-23T20:06:24.428Z"
   },
   {
    "duration": 16,
    "start_time": "2022-01-23T20:06:24.440Z"
   },
   {
    "duration": 174,
    "start_time": "2022-01-23T20:06:24.458Z"
   },
   {
    "duration": 74,
    "start_time": "2022-01-23T20:06:24.634Z"
   },
   {
    "duration": 38,
    "start_time": "2022-01-23T20:06:24.716Z"
   },
   {
    "duration": 117,
    "start_time": "2022-01-23T20:06:24.757Z"
   },
   {
    "duration": 87,
    "start_time": "2022-01-23T20:06:24.876Z"
   },
   {
    "duration": 75,
    "start_time": "2022-01-23T20:06:24.965Z"
   },
   {
    "duration": 10,
    "start_time": "2022-01-23T20:06:25.042Z"
   },
   {
    "duration": 86,
    "start_time": "2022-01-23T20:06:25.054Z"
   },
   {
    "duration": 41,
    "start_time": "2022-01-23T20:06:25.142Z"
   },
   {
    "duration": 71,
    "start_time": "2022-01-23T20:06:25.185Z"
   },
   {
    "duration": 62,
    "start_time": "2022-01-23T20:06:25.258Z"
   },
   {
    "duration": 39,
    "start_time": "2022-01-23T20:06:25.323Z"
   },
   {
    "duration": 132,
    "start_time": "2022-01-23T20:06:25.365Z"
   },
   {
    "duration": 51,
    "start_time": "2022-01-23T20:06:25.499Z"
   },
   {
    "duration": 83,
    "start_time": "2022-01-23T20:06:25.552Z"
   },
   {
    "duration": 71,
    "start_time": "2022-01-23T20:06:25.637Z"
   },
   {
    "duration": 37,
    "start_time": "2022-01-23T20:06:25.710Z"
   },
   {
    "duration": 22,
    "start_time": "2022-01-23T20:06:25.748Z"
   },
   {
    "duration": 37,
    "start_time": "2022-01-23T20:06:25.772Z"
   },
   {
    "duration": 9,
    "start_time": "2022-01-23T20:06:25.811Z"
   },
   {
    "duration": 166,
    "start_time": "2022-01-23T20:06:25.822Z"
   },
   {
    "duration": 22,
    "start_time": "2022-01-23T20:06:25.990Z"
   },
   {
    "duration": 5,
    "start_time": "2022-01-23T20:06:26.014Z"
   },
   {
    "duration": 11,
    "start_time": "2022-01-23T20:06:26.020Z"
   },
   {
    "duration": 13,
    "start_time": "2022-01-23T20:06:26.033Z"
   },
   {
    "duration": 9,
    "start_time": "2022-01-23T20:06:26.048Z"
   },
   {
    "duration": 232,
    "start_time": "2022-01-23T20:06:26.059Z"
   },
   {
    "duration": 18,
    "start_time": "2022-01-23T20:06:26.293Z"
   },
   {
    "duration": 27,
    "start_time": "2022-01-23T20:06:26.313Z"
   },
   {
    "duration": 31,
    "start_time": "2022-01-23T20:06:26.343Z"
   },
   {
    "duration": 24,
    "start_time": "2022-01-23T20:06:26.377Z"
   },
   {
    "duration": 237,
    "start_time": "2022-01-23T20:06:26.403Z"
   },
   {
    "duration": 12,
    "start_time": "2022-01-23T20:06:26.642Z"
   },
   {
    "duration": 34,
    "start_time": "2022-01-23T20:06:26.656Z"
   },
   {
    "duration": 23,
    "start_time": "2022-01-23T20:06:26.692Z"
   },
   {
    "duration": 17,
    "start_time": "2022-01-23T20:06:26.717Z"
   },
   {
    "duration": 207,
    "start_time": "2022-01-23T20:06:26.736Z"
   },
   {
    "duration": 12,
    "start_time": "2022-01-23T20:06:26.946Z"
   },
   {
    "duration": 15,
    "start_time": "2022-01-23T20:06:26.960Z"
   },
   {
    "duration": 39,
    "start_time": "2022-01-23T20:06:26.977Z"
   },
   {
    "duration": 23,
    "start_time": "2022-01-23T20:06:27.018Z"
   },
   {
    "duration": 224,
    "start_time": "2022-01-23T20:06:27.043Z"
   },
   {
    "duration": 12,
    "start_time": "2022-01-23T20:06:27.269Z"
   },
   {
    "duration": 23,
    "start_time": "2022-01-23T20:06:27.283Z"
   },
   {
    "duration": 35,
    "start_time": "2022-01-23T20:06:27.308Z"
   },
   {
    "duration": 22,
    "start_time": "2022-01-23T20:06:27.344Z"
   },
   {
    "duration": 227,
    "start_time": "2022-01-23T20:06:27.368Z"
   },
   {
    "duration": 15,
    "start_time": "2022-01-23T20:06:27.597Z"
   },
   {
    "duration": 8,
    "start_time": "2022-01-23T20:06:27.615Z"
   },
   {
    "duration": 14,
    "start_time": "2022-01-23T20:06:27.625Z"
   },
   {
    "duration": 26,
    "start_time": "2022-01-23T20:06:27.641Z"
   },
   {
    "duration": 4152,
    "start_time": "2022-01-23T20:06:27.669Z"
   },
   {
    "duration": 6,
    "start_time": "2022-01-23T20:12:03.370Z"
   },
   {
    "duration": 5,
    "start_time": "2022-01-23T20:14:40.475Z"
   },
   {
    "duration": 6,
    "start_time": "2022-01-23T20:14:45.721Z"
   },
   {
    "duration": 5,
    "start_time": "2022-01-23T20:15:08.137Z"
   },
   {
    "duration": 6,
    "start_time": "2022-01-23T20:15:19.736Z"
   },
   {
    "duration": 352,
    "start_time": "2022-01-23T20:16:33.673Z"
   },
   {
    "duration": 6,
    "start_time": "2022-01-23T20:16:41.017Z"
   },
   {
    "duration": 6,
    "start_time": "2022-01-23T20:17:52.552Z"
   },
   {
    "duration": 6,
    "start_time": "2022-01-23T20:18:36.136Z"
   },
   {
    "duration": 7,
    "start_time": "2022-01-23T20:19:51.752Z"
   },
   {
    "duration": 200,
    "start_time": "2022-01-23T20:20:25.416Z"
   },
   {
    "duration": 4249,
    "start_time": "2022-01-23T20:22:53.258Z"
   },
   {
    "duration": 348,
    "start_time": "2022-01-24T16:53:46.089Z"
   },
   {
    "duration": 355,
    "start_time": "2022-01-24T16:53:54.728Z"
   },
   {
    "duration": 1114,
    "start_time": "2022-01-24T16:54:09.023Z"
   },
   {
    "duration": 162,
    "start_time": "2022-01-24T16:54:10.139Z"
   },
   {
    "duration": 20,
    "start_time": "2022-01-24T16:54:10.303Z"
   },
   {
    "duration": 134,
    "start_time": "2022-01-24T16:54:10.325Z"
   },
   {
    "duration": 25,
    "start_time": "2022-01-24T16:54:10.460Z"
   },
   {
    "duration": 81,
    "start_time": "2022-01-24T16:54:10.487Z"
   },
   {
    "duration": 17,
    "start_time": "2022-01-24T16:54:10.571Z"
   },
   {
    "duration": 26,
    "start_time": "2022-01-24T16:54:10.591Z"
   },
   {
    "duration": 6,
    "start_time": "2022-01-24T16:54:10.620Z"
   },
   {
    "duration": 50,
    "start_time": "2022-01-24T16:54:10.627Z"
   },
   {
    "duration": 9,
    "start_time": "2022-01-24T16:54:10.680Z"
   },
   {
    "duration": 19,
    "start_time": "2022-01-24T16:54:10.690Z"
   },
   {
    "duration": 117,
    "start_time": "2022-01-24T16:54:10.711Z"
   },
   {
    "duration": 15,
    "start_time": "2022-01-24T16:54:10.830Z"
   },
   {
    "duration": 79,
    "start_time": "2022-01-24T16:54:10.847Z"
   },
   {
    "duration": 13,
    "start_time": "2022-01-24T16:54:10.928Z"
   },
   {
    "duration": 50,
    "start_time": "2022-01-24T16:54:10.943Z"
   },
   {
    "duration": 5,
    "start_time": "2022-01-24T16:54:10.995Z"
   },
   {
    "duration": 6,
    "start_time": "2022-01-24T16:54:11.002Z"
   },
   {
    "duration": 5,
    "start_time": "2022-01-24T16:54:11.010Z"
   },
   {
    "duration": 7,
    "start_time": "2022-01-24T16:54:11.016Z"
   },
   {
    "duration": 11,
    "start_time": "2022-01-24T16:54:11.024Z"
   },
   {
    "duration": 42,
    "start_time": "2022-01-24T16:54:11.038Z"
   },
   {
    "duration": 11,
    "start_time": "2022-01-24T16:54:11.082Z"
   },
   {
    "duration": 148,
    "start_time": "2022-01-24T16:54:11.094Z"
   },
   {
    "duration": 68,
    "start_time": "2022-01-24T16:54:11.244Z"
   },
   {
    "duration": 27,
    "start_time": "2022-01-24T16:54:11.314Z"
   },
   {
    "duration": 70,
    "start_time": "2022-01-24T16:54:11.343Z"
   },
   {
    "duration": 76,
    "start_time": "2022-01-24T16:54:11.415Z"
   },
   {
    "duration": 54,
    "start_time": "2022-01-24T16:54:11.493Z"
   },
   {
    "duration": 26,
    "start_time": "2022-01-24T16:54:11.549Z"
   },
   {
    "duration": 57,
    "start_time": "2022-01-24T16:54:11.576Z"
   },
   {
    "duration": 57,
    "start_time": "2022-01-24T16:54:11.636Z"
   },
   {
    "duration": 54,
    "start_time": "2022-01-24T16:54:11.695Z"
   },
   {
    "duration": 68,
    "start_time": "2022-01-24T16:54:11.750Z"
   },
   {
    "duration": 35,
    "start_time": "2022-01-24T16:54:11.820Z"
   },
   {
    "duration": 107,
    "start_time": "2022-01-24T16:54:11.856Z"
   },
   {
    "duration": 51,
    "start_time": "2022-01-24T16:54:11.972Z"
   },
   {
    "duration": 82,
    "start_time": "2022-01-24T16:54:12.024Z"
   },
   {
    "duration": 68,
    "start_time": "2022-01-24T16:54:12.107Z"
   },
   {
    "duration": 39,
    "start_time": "2022-01-24T16:54:12.178Z"
   },
   {
    "duration": 17,
    "start_time": "2022-01-24T16:54:12.218Z"
   },
   {
    "duration": 6,
    "start_time": "2022-01-24T16:54:12.236Z"
   },
   {
    "duration": 34,
    "start_time": "2022-01-24T16:54:12.244Z"
   },
   {
    "duration": 152,
    "start_time": "2022-01-24T16:54:12.279Z"
   },
   {
    "duration": 10,
    "start_time": "2022-01-24T16:54:12.433Z"
   },
   {
    "duration": 12,
    "start_time": "2022-01-24T16:54:12.444Z"
   },
   {
    "duration": 25,
    "start_time": "2022-01-24T16:54:12.458Z"
   },
   {
    "duration": 4,
    "start_time": "2022-01-24T16:54:12.486Z"
   },
   {
    "duration": 13,
    "start_time": "2022-01-24T16:54:12.492Z"
   },
   {
    "duration": 13,
    "start_time": "2022-01-24T16:54:12.506Z"
   },
   {
    "duration": 229,
    "start_time": "2022-01-24T16:54:12.520Z"
   },
   {
    "duration": 15,
    "start_time": "2022-01-24T16:54:12.751Z"
   },
   {
    "duration": 4,
    "start_time": "2022-01-24T16:54:12.768Z"
   },
   {
    "duration": 4,
    "start_time": "2022-01-24T16:54:12.774Z"
   },
   {
    "duration": 3,
    "start_time": "2022-01-24T16:54:12.780Z"
   },
   {
    "duration": 5,
    "start_time": "2022-01-24T16:54:12.785Z"
   },
   {
    "duration": 225,
    "start_time": "2022-01-24T16:54:12.792Z"
   },
   {
    "duration": 10,
    "start_time": "2022-01-24T16:54:13.018Z"
   },
   {
    "duration": 33,
    "start_time": "2022-01-24T16:54:13.030Z"
   },
   {
    "duration": 22,
    "start_time": "2022-01-24T16:54:13.065Z"
   },
   {
    "duration": 23,
    "start_time": "2022-01-24T16:54:13.089Z"
   },
   {
    "duration": 20,
    "start_time": "2022-01-24T16:54:13.113Z"
   },
   {
    "duration": 210,
    "start_time": "2022-01-24T16:54:13.134Z"
   },
   {
    "duration": 9,
    "start_time": "2022-01-24T16:54:13.346Z"
   },
   {
    "duration": 20,
    "start_time": "2022-01-24T16:54:13.357Z"
   },
   {
    "duration": 12,
    "start_time": "2022-01-24T16:54:13.379Z"
   },
   {
    "duration": 19,
    "start_time": "2022-01-24T16:54:13.396Z"
   },
   {
    "duration": 15,
    "start_time": "2022-01-24T16:54:13.417Z"
   },
   {
    "duration": 203,
    "start_time": "2022-01-24T16:54:13.434Z"
   },
   {
    "duration": 10,
    "start_time": "2022-01-24T16:54:13.638Z"
   },
   {
    "duration": 12,
    "start_time": "2022-01-24T16:54:13.649Z"
   },
   {
    "duration": 4,
    "start_time": "2022-01-24T16:54:13.671Z"
   },
   {
    "duration": 14,
    "start_time": "2022-01-24T16:54:13.677Z"
   },
   {
    "duration": 23,
    "start_time": "2022-01-24T16:54:13.693Z"
   },
   {
    "duration": 195,
    "start_time": "2022-01-24T16:54:13.718Z"
   },
   {
    "duration": 9,
    "start_time": "2022-01-24T16:54:13.915Z"
   },
   {
    "duration": 18,
    "start_time": "2022-01-24T16:54:13.926Z"
   },
   {
    "duration": 11,
    "start_time": "2022-01-24T16:54:13.946Z"
   },
   {
    "duration": 16,
    "start_time": "2022-01-24T16:54:13.958Z"
   },
   {
    "duration": 9,
    "start_time": "2022-01-24T16:54:13.975Z"
   },
   {
    "duration": 222,
    "start_time": "2022-01-24T16:54:13.986Z"
   },
   {
    "duration": 4171,
    "start_time": "2022-01-24T16:54:14.210Z"
   },
   {
    "duration": 3814,
    "start_time": "2022-01-24T16:54:18.383Z"
   },
   {
    "duration": 4,
    "start_time": "2022-01-24T16:54:22.199Z"
   },
   {
    "duration": 4,
    "start_time": "2022-01-24T16:57:03.925Z"
   },
   {
    "duration": 5,
    "start_time": "2022-01-24T16:57:21.126Z"
   },
   {
    "duration": 5,
    "start_time": "2022-01-24T16:57:47.623Z"
   },
   {
    "duration": 4,
    "start_time": "2022-01-24T16:57:52.583Z"
   },
   {
    "duration": 9,
    "start_time": "2022-01-24T16:58:15.879Z"
   },
   {
    "duration": 6,
    "start_time": "2022-01-24T16:58:35.463Z"
   },
   {
    "duration": 3,
    "start_time": "2022-01-24T17:00:05.208Z"
   },
   {
    "duration": 5,
    "start_time": "2022-01-24T17:00:11.095Z"
   },
   {
    "duration": 6,
    "start_time": "2022-01-24T17:02:58.985Z"
   },
   {
    "duration": 4,
    "start_time": "2022-01-24T17:08:55.740Z"
   },
   {
    "duration": 2,
    "start_time": "2022-01-24T17:09:57.005Z"
   },
   {
    "duration": 391,
    "start_time": "2022-01-24T17:10:04.988Z"
   },
   {
    "duration": 5,
    "start_time": "2022-01-24T17:10:09.196Z"
   },
   {
    "duration": 5,
    "start_time": "2022-01-24T17:10:17.980Z"
   },
   {
    "duration": 125,
    "start_time": "2022-01-24T17:10:29.580Z"
   },
   {
    "duration": 4,
    "start_time": "2022-01-24T17:10:51.729Z"
   },
   {
    "duration": 299,
    "start_time": "2022-01-24T17:11:47.812Z"
   },
   {
    "duration": 317,
    "start_time": "2022-01-24T17:11:54.000Z"
   },
   {
    "duration": 5,
    "start_time": "2022-01-24T17:12:02.239Z"
   },
   {
    "duration": 5,
    "start_time": "2022-01-24T17:12:03.055Z"
   },
   {
    "duration": 5,
    "start_time": "2022-01-24T17:13:43.552Z"
   },
   {
    "duration": 5,
    "start_time": "2022-01-24T17:14:19.072Z"
   },
   {
    "duration": 3,
    "start_time": "2022-01-24T17:15:12.640Z"
   },
   {
    "duration": 6,
    "start_time": "2022-01-24T17:15:17.103Z"
   },
   {
    "duration": 5,
    "start_time": "2022-01-24T17:15:26.031Z"
   },
   {
    "duration": 4,
    "start_time": "2022-01-24T17:15:35.744Z"
   },
   {
    "duration": 5,
    "start_time": "2022-01-24T17:16:15.295Z"
   },
   {
    "duration": 4,
    "start_time": "2022-01-24T17:16:40.497Z"
   },
   {
    "duration": 4,
    "start_time": "2022-01-24T17:17:15.807Z"
   },
   {
    "duration": 6,
    "start_time": "2022-01-24T17:17:23.343Z"
   },
   {
    "duration": 4,
    "start_time": "2022-01-24T17:17:54.271Z"
   },
   {
    "duration": 5,
    "start_time": "2022-01-24T17:18:12.751Z"
   },
   {
    "duration": 4,
    "start_time": "2022-01-24T17:18:23.039Z"
   },
   {
    "duration": 4,
    "start_time": "2022-01-24T17:18:43.150Z"
   },
   {
    "duration": 5,
    "start_time": "2022-01-24T17:19:24.160Z"
   },
   {
    "duration": 4,
    "start_time": "2022-01-24T17:20:02.528Z"
   },
   {
    "duration": 6,
    "start_time": "2022-01-24T17:20:24.945Z"
   },
   {
    "duration": 286,
    "start_time": "2022-01-24T17:20:47.937Z"
   },
   {
    "duration": 4,
    "start_time": "2022-01-24T17:20:52.463Z"
   },
   {
    "duration": 5,
    "start_time": "2022-01-24T17:21:05.104Z"
   },
   {
    "duration": 5,
    "start_time": "2022-01-24T17:21:27.519Z"
   },
   {
    "duration": 301,
    "start_time": "2022-01-24T17:21:49.488Z"
   },
   {
    "duration": 5,
    "start_time": "2022-01-24T17:21:55.407Z"
   },
   {
    "duration": 298,
    "start_time": "2022-01-24T17:22:15.887Z"
   },
   {
    "duration": 4,
    "start_time": "2022-01-24T17:22:23.024Z"
   },
   {
    "duration": 5,
    "start_time": "2022-01-24T17:22:32.127Z"
   },
   {
    "duration": 4,
    "start_time": "2022-01-24T17:22:54.016Z"
   },
   {
    "duration": 4,
    "start_time": "2022-01-24T17:23:19.456Z"
   },
   {
    "duration": 4,
    "start_time": "2022-01-24T17:23:37.264Z"
   },
   {
    "duration": 5,
    "start_time": "2022-01-24T17:23:41.455Z"
   },
   {
    "duration": 5,
    "start_time": "2022-01-24T17:23:55.439Z"
   },
   {
    "duration": 4,
    "start_time": "2022-01-24T17:59:17.924Z"
   },
   {
    "duration": 5,
    "start_time": "2022-01-24T17:59:49.621Z"
   },
   {
    "duration": 557,
    "start_time": "2022-01-24T18:23:02.226Z"
   },
   {
    "duration": 1679,
    "start_time": "2022-01-24T18:23:21.195Z"
   },
   {
    "duration": 168,
    "start_time": "2022-01-24T18:23:22.877Z"
   },
   {
    "duration": 148,
    "start_time": "2022-01-24T18:23:23.047Z"
   },
   {
    "duration": 526,
    "start_time": "2022-01-24T18:23:23.197Z"
   },
   {
    "duration": 490,
    "start_time": "2022-01-24T18:23:23.725Z"
   },
   {
    "duration": 494,
    "start_time": "2022-01-24T18:23:24.217Z"
   },
   {
    "duration": 331,
    "start_time": "2022-01-24T18:23:24.713Z"
   },
   {
    "duration": 501,
    "start_time": "2022-01-24T18:23:25.046Z"
   },
   {
    "duration": 298,
    "start_time": "2022-01-24T18:23:25.549Z"
   },
   {
    "duration": 397,
    "start_time": "2022-01-24T18:23:25.849Z"
   },
   {
    "duration": 236,
    "start_time": "2022-01-24T18:23:26.248Z"
   },
   {
    "duration": 288,
    "start_time": "2022-01-24T18:23:26.485Z"
   },
   {
    "duration": 395,
    "start_time": "2022-01-24T18:23:26.775Z"
   },
   {
    "duration": 196,
    "start_time": "2022-01-24T18:23:27.172Z"
   },
   {
    "duration": 258,
    "start_time": "2022-01-24T18:23:27.370Z"
   },
   {
    "duration": 208,
    "start_time": "2022-01-24T18:23:27.630Z"
   },
   {
    "duration": 309,
    "start_time": "2022-01-24T18:23:27.840Z"
   },
   {
    "duration": 245,
    "start_time": "2022-01-24T18:23:28.151Z"
   },
   {
    "duration": 257,
    "start_time": "2022-01-24T18:23:28.398Z"
   },
   {
    "duration": 256,
    "start_time": "2022-01-24T18:23:28.657Z"
   },
   {
    "duration": 220,
    "start_time": "2022-01-24T18:23:28.915Z"
   },
   {
    "duration": 138,
    "start_time": "2022-01-24T18:23:29.136Z"
   },
   {
    "duration": 156,
    "start_time": "2022-01-24T18:23:29.279Z"
   },
   {
    "duration": 284,
    "start_time": "2022-01-24T18:23:29.437Z"
   },
   {
    "duration": 272,
    "start_time": "2022-01-24T18:23:29.723Z"
   },
   {
    "duration": 203,
    "start_time": "2022-01-24T18:23:29.996Z"
   },
   {
    "duration": 260,
    "start_time": "2022-01-24T18:23:30.201Z"
   },
   {
    "duration": 172,
    "start_time": "2022-01-24T18:23:30.463Z"
   },
   {
    "duration": 114,
    "start_time": "2022-01-24T18:23:30.637Z"
   },
   {
    "duration": 145,
    "start_time": "2022-01-24T18:23:30.753Z"
   },
   {
    "duration": 198,
    "start_time": "2022-01-24T18:23:30.900Z"
   },
   {
    "duration": 319,
    "start_time": "2022-01-24T18:23:31.100Z"
   },
   {
    "duration": 284,
    "start_time": "2022-01-24T18:23:31.421Z"
   },
   {
    "duration": 198,
    "start_time": "2022-01-24T18:23:31.707Z"
   },
   {
    "duration": 201,
    "start_time": "2022-01-24T18:23:31.907Z"
   },
   {
    "duration": 198,
    "start_time": "2022-01-24T18:23:32.110Z"
   },
   {
    "duration": 325,
    "start_time": "2022-01-24T18:23:32.309Z"
   },
   {
    "duration": 301,
    "start_time": "2022-01-24T18:23:32.636Z"
   },
   {
    "duration": 349,
    "start_time": "2022-01-24T18:23:32.939Z"
   },
   {
    "duration": 144,
    "start_time": "2022-01-24T18:23:33.290Z"
   },
   {
    "duration": 87,
    "start_time": "2022-01-24T18:23:33.436Z"
   },
   {
    "duration": 282,
    "start_time": "2022-01-24T18:23:33.524Z"
   },
   {
    "duration": 230,
    "start_time": "2022-01-24T18:23:33.808Z"
   },
   {
    "duration": 125,
    "start_time": "2022-01-24T18:23:34.040Z"
   },
   {
    "duration": 430,
    "start_time": "2022-01-24T18:23:34.167Z"
   },
   {
    "duration": 11,
    "start_time": "2022-01-24T18:23:34.599Z"
   },
   {
    "duration": 183,
    "start_time": "2022-01-24T18:23:34.611Z"
   },
   {
    "duration": 259,
    "start_time": "2022-01-24T18:23:34.795Z"
   },
   {
    "duration": 86,
    "start_time": "2022-01-24T18:23:35.056Z"
   },
   {
    "duration": 175,
    "start_time": "2022-01-24T18:23:35.144Z"
   },
   {
    "duration": 142,
    "start_time": "2022-01-24T18:23:35.321Z"
   },
   {
    "duration": 429,
    "start_time": "2022-01-24T18:23:35.465Z"
   },
   {
    "duration": 174,
    "start_time": "2022-01-24T18:23:35.896Z"
   },
   {
    "duration": 234,
    "start_time": "2022-01-24T18:23:36.072Z"
   },
   {
    "duration": 293,
    "start_time": "2022-01-24T18:23:36.308Z"
   },
   {
    "duration": 397,
    "start_time": "2022-01-24T18:23:36.603Z"
   },
   {
    "duration": 96,
    "start_time": "2022-01-24T18:23:37.002Z"
   },
   {
    "duration": 357,
    "start_time": "2022-01-24T18:23:37.100Z"
   },
   {
    "duration": 14,
    "start_time": "2022-01-24T18:23:37.459Z"
   },
   {
    "duration": 196,
    "start_time": "2022-01-24T18:23:37.474Z"
   },
   {
    "duration": 236,
    "start_time": "2022-01-24T18:23:37.671Z"
   },
   {
    "duration": 251,
    "start_time": "2022-01-24T18:23:37.909Z"
   },
   {
    "duration": 207,
    "start_time": "2022-01-24T18:23:38.161Z"
   },
   {
    "duration": 534,
    "start_time": "2022-01-24T18:23:38.370Z"
   },
   {
    "duration": 43,
    "start_time": "2022-01-24T18:23:38.906Z"
   },
   {
    "duration": 289,
    "start_time": "2022-01-24T18:23:38.951Z"
   },
   {
    "duration": 133,
    "start_time": "2022-01-24T18:23:39.241Z"
   },
   {
    "duration": 463,
    "start_time": "2022-01-24T18:23:39.388Z"
   },
   {
    "duration": 632,
    "start_time": "2022-01-24T18:23:39.853Z"
   },
   {
    "duration": 393,
    "start_time": "2022-01-24T18:23:40.487Z"
   },
   {
    "duration": 140,
    "start_time": "2022-01-24T18:23:40.882Z"
   },
   {
    "duration": 244,
    "start_time": "2022-01-24T18:23:41.024Z"
   },
   {
    "duration": 324,
    "start_time": "2022-01-24T18:23:41.270Z"
   },
   {
    "duration": 200,
    "start_time": "2022-01-24T18:23:41.596Z"
   },
   {
    "duration": 209,
    "start_time": "2022-01-24T18:23:41.798Z"
   },
   {
    "duration": 543,
    "start_time": "2022-01-24T18:23:42.008Z"
   },
   {
    "duration": 22,
    "start_time": "2022-01-24T18:23:42.553Z"
   },
   {
    "duration": 107,
    "start_time": "2022-01-24T18:23:42.577Z"
   },
   {
    "duration": 279,
    "start_time": "2022-01-24T18:23:42.686Z"
   },
   {
    "duration": 253,
    "start_time": "2022-01-24T18:23:42.967Z"
   },
   {
    "duration": 205,
    "start_time": "2022-01-24T18:23:43.221Z"
   },
   {
    "duration": 407,
    "start_time": "2022-01-24T18:23:43.428Z"
   },
   {
    "duration": 4280,
    "start_time": "2022-01-24T18:23:43.837Z"
   },
   {
    "duration": 3973,
    "start_time": "2022-01-24T18:23:48.118Z"
   },
   {
    "duration": 4,
    "start_time": "2022-01-24T18:23:52.092Z"
   },
   {
    "duration": 389,
    "start_time": "2022-01-24T18:23:52.097Z"
   },
   {
    "duration": 211,
    "start_time": "2022-01-24T18:23:52.488Z"
   },
   {
    "duration": 277,
    "start_time": "2022-01-24T18:23:52.701Z"
   },
   {
    "duration": 239,
    "start_time": "2022-01-24T18:23:52.979Z"
   },
   {
    "duration": 122,
    "start_time": "2022-01-24T18:23:53.222Z"
   },
   {
    "duration": 156,
    "start_time": "2022-01-24T18:23:53.346Z"
   },
   {
    "duration": 96,
    "start_time": "2022-01-24T18:23:53.504Z"
   },
   {
    "duration": 792,
    "start_time": "2022-01-24T18:23:53.602Z"
   },
   {
    "duration": 304,
    "start_time": "2022-01-24T18:24:41.354Z"
   },
   {
    "duration": 309,
    "start_time": "2022-01-24T18:24:47.362Z"
   },
   {
    "duration": 8,
    "start_time": "2022-01-24T18:25:04.582Z"
   },
   {
    "duration": 10,
    "start_time": "2022-01-24T18:25:33.188Z"
   },
   {
    "duration": 7,
    "start_time": "2022-01-24T18:25:50.497Z"
   },
   {
    "duration": 7,
    "start_time": "2022-01-24T18:26:00.707Z"
   },
   {
    "duration": 8,
    "start_time": "2022-01-24T18:36:35.568Z"
   },
   {
    "duration": 6,
    "start_time": "2022-01-24T18:37:03.759Z"
   },
   {
    "duration": 6,
    "start_time": "2022-01-24T18:37:11.120Z"
   },
   {
    "duration": 8,
    "start_time": "2022-01-24T18:37:24.191Z"
   },
   {
    "duration": 330,
    "start_time": "2022-01-24T18:38:31.646Z"
   },
   {
    "duration": 324,
    "start_time": "2022-01-24T18:38:52.127Z"
   },
   {
    "duration": 7,
    "start_time": "2022-01-24T18:39:19.806Z"
   },
   {
    "duration": 6,
    "start_time": "2022-01-24T18:40:14.543Z"
   },
   {
    "duration": 7,
    "start_time": "2022-01-24T18:45:50.462Z"
   },
   {
    "duration": 13,
    "start_time": "2022-01-24T19:01:36.051Z"
   },
   {
    "duration": 13,
    "start_time": "2022-01-24T19:01:41.404Z"
   },
   {
    "duration": 14,
    "start_time": "2022-01-24T19:02:36.092Z"
   },
   {
    "duration": 317,
    "start_time": "2022-01-24T19:05:33.943Z"
   },
   {
    "duration": 20,
    "start_time": "2022-01-24T19:05:48.234Z"
   },
   {
    "duration": 66,
    "start_time": "2022-01-24T19:07:06.393Z"
   },
   {
    "duration": 47,
    "start_time": "2022-01-24T19:07:37.368Z"
   },
   {
    "duration": 40,
    "start_time": "2022-01-24T19:07:57.304Z"
   },
   {
    "duration": 1194,
    "start_time": "2022-01-24T19:08:33.637Z"
   },
   {
    "duration": 152,
    "start_time": "2022-01-24T19:08:34.832Z"
   },
   {
    "duration": 560,
    "start_time": "2022-01-24T19:08:34.986Z"
   },
   {
    "duration": 511,
    "start_time": "2022-01-24T19:08:35.548Z"
   },
   {
    "duration": 653,
    "start_time": "2022-01-24T19:08:36.060Z"
   },
   {
    "duration": 441,
    "start_time": "2022-01-24T19:08:36.714Z"
   },
   {
    "duration": 1047,
    "start_time": "2022-01-24T19:08:37.157Z"
   },
   {
    "duration": 351,
    "start_time": "2022-01-24T19:08:38.206Z"
   },
   {
    "duration": 599,
    "start_time": "2022-01-24T19:08:38.559Z"
   },
   {
    "duration": 1274,
    "start_time": "2022-01-24T19:08:39.160Z"
   },
   {
    "duration": 246,
    "start_time": "2022-01-24T19:08:40.436Z"
   },
   {
    "duration": 979,
    "start_time": "2022-01-24T19:08:40.684Z"
   },
   {
    "duration": 676,
    "start_time": "2022-01-24T19:08:41.664Z"
   },
   {
    "duration": 426,
    "start_time": "2022-01-24T19:08:42.342Z"
   },
   {
    "duration": 517,
    "start_time": "2022-01-24T19:08:42.770Z"
   },
   {
    "duration": 224,
    "start_time": "2022-01-24T19:08:43.289Z"
   },
   {
    "duration": 561,
    "start_time": "2022-01-24T19:08:43.514Z"
   },
   {
    "duration": 679,
    "start_time": "2022-01-24T19:08:44.078Z"
   },
   {
    "duration": 633,
    "start_time": "2022-01-24T19:08:44.758Z"
   },
   {
    "duration": 790,
    "start_time": "2022-01-24T19:08:45.393Z"
   },
   {
    "duration": 669,
    "start_time": "2022-01-24T19:08:46.185Z"
   },
   {
    "duration": 1091,
    "start_time": "2022-01-24T19:08:46.856Z"
   },
   {
    "duration": 593,
    "start_time": "2022-01-24T19:08:47.951Z"
   },
   {
    "duration": 1257,
    "start_time": "2022-01-24T19:08:48.546Z"
   },
   {
    "duration": 754,
    "start_time": "2022-01-24T19:08:49.805Z"
   },
   {
    "duration": 1096,
    "start_time": "2022-01-24T19:08:50.560Z"
   },
   {
    "duration": 245,
    "start_time": "2022-01-24T19:08:51.657Z"
   },
   {
    "duration": 850,
    "start_time": "2022-01-24T19:08:51.904Z"
   },
   {
    "duration": 709,
    "start_time": "2022-01-24T19:08:52.755Z"
   },
   {
    "duration": 1323,
    "start_time": "2022-01-24T19:08:53.466Z"
   },
   {
    "duration": 1114,
    "start_time": "2022-01-24T19:08:54.791Z"
   },
   {
    "duration": 828,
    "start_time": "2022-01-24T19:08:55.907Z"
   },
   {
    "duration": 763,
    "start_time": "2022-01-24T19:08:56.736Z"
   },
   {
    "duration": 663,
    "start_time": "2022-01-24T19:08:57.501Z"
   },
   {
    "duration": 1715,
    "start_time": "2022-01-24T19:08:58.165Z"
   },
   {
    "duration": 957,
    "start_time": "2022-01-24T19:08:59.883Z"
   },
   {
    "duration": 1148,
    "start_time": "2022-01-24T19:09:00.842Z"
   },
   {
    "duration": 1494,
    "start_time": "2022-01-24T19:09:01.992Z"
   },
   {
    "duration": 1037,
    "start_time": "2022-01-24T19:09:03.488Z"
   },
   {
    "duration": 781,
    "start_time": "2022-01-24T19:09:04.526Z"
   },
   {
    "duration": 660,
    "start_time": "2022-01-24T19:09:05.309Z"
   },
   {
    "duration": 1162,
    "start_time": "2022-01-24T19:09:05.970Z"
   },
   {
    "duration": 204,
    "start_time": "2022-01-24T19:09:07.133Z"
   },
   {
    "duration": 1049,
    "start_time": "2022-01-24T19:09:07.339Z"
   },
   {
    "duration": 831,
    "start_time": "2022-01-24T19:09:08.390Z"
   },
   {
    "duration": 95,
    "start_time": "2022-01-24T19:09:09.223Z"
   },
   {
    "duration": 866,
    "start_time": "2022-01-24T19:09:09.320Z"
   },
   {
    "duration": 812,
    "start_time": "2022-01-24T19:09:10.188Z"
   },
   {
    "duration": 375,
    "start_time": "2022-01-24T19:09:11.002Z"
   },
   {
    "duration": 1078,
    "start_time": "2022-01-24T19:09:11.379Z"
   },
   {
    "duration": 548,
    "start_time": "2022-01-24T19:09:12.458Z"
   },
   {
    "duration": 1566,
    "start_time": "2022-01-24T19:09:13.007Z"
   },
   {
    "duration": 1107,
    "start_time": "2022-01-24T19:09:14.575Z"
   },
   {
    "duration": 1134,
    "start_time": "2022-01-24T19:09:15.684Z"
   },
   {
    "duration": 1123,
    "start_time": "2022-01-24T19:09:16.819Z"
   },
   {
    "duration": 974,
    "start_time": "2022-01-24T19:09:17.944Z"
   },
   {
    "duration": 1606,
    "start_time": "2022-01-24T19:09:18.920Z"
   },
   {
    "duration": 892,
    "start_time": "2022-01-24T19:09:20.528Z"
   },
   {
    "duration": 1193,
    "start_time": "2022-01-24T19:09:21.422Z"
   },
   {
    "duration": 2517,
    "start_time": "2022-01-24T19:09:22.616Z"
   },
   {
    "duration": 2112,
    "start_time": "2022-01-24T19:09:25.134Z"
   },
   {
    "duration": 883,
    "start_time": "2022-01-24T19:09:27.247Z"
   },
   {
    "duration": 1208,
    "start_time": "2022-01-24T19:09:28.132Z"
   },
   {
    "duration": 1767,
    "start_time": "2022-01-24T19:09:29.342Z"
   },
   {
    "duration": 177,
    "start_time": "2022-01-24T19:09:31.110Z"
   },
   {
    "duration": 491,
    "start_time": "2022-01-24T19:09:31.289Z"
   },
   {
    "duration": 384,
    "start_time": "2022-01-24T19:09:31.782Z"
   },
   {
    "duration": 775,
    "start_time": "2022-01-24T19:09:32.171Z"
   },
   {
    "duration": 375,
    "start_time": "2022-01-24T19:09:32.948Z"
   },
   {
    "duration": 723,
    "start_time": "2022-01-24T19:09:33.325Z"
   },
   {
    "duration": 414,
    "start_time": "2022-01-24T19:09:34.049Z"
   },
   {
    "duration": 549,
    "start_time": "2022-01-24T19:09:34.465Z"
   },
   {
    "duration": 1346,
    "start_time": "2022-01-24T19:09:35.015Z"
   },
   {
    "duration": 1417,
    "start_time": "2022-01-24T19:09:36.363Z"
   },
   {
    "duration": 1504,
    "start_time": "2022-01-24T19:09:37.782Z"
   },
   {
    "duration": 962,
    "start_time": "2022-01-24T19:09:39.288Z"
   },
   {
    "duration": 421,
    "start_time": "2022-01-24T19:09:40.251Z"
   },
   {
    "duration": 1234,
    "start_time": "2022-01-24T19:09:40.674Z"
   },
   {
    "duration": 945,
    "start_time": "2022-01-24T19:09:41.910Z"
   },
   {
    "duration": 531,
    "start_time": "2022-01-24T19:09:42.856Z"
   },
   {
    "duration": 567,
    "start_time": "2022-01-24T19:09:43.388Z"
   },
   {
    "duration": 1065,
    "start_time": "2022-01-24T19:09:43.957Z"
   },
   {
    "duration": 4931,
    "start_time": "2022-01-24T19:09:45.024Z"
   },
   {
    "duration": 4143,
    "start_time": "2022-01-24T19:09:49.957Z"
   },
   {
    "duration": 4,
    "start_time": "2022-01-24T19:09:54.102Z"
   },
   {
    "duration": 434,
    "start_time": "2022-01-24T19:09:54.107Z"
   },
   {
    "duration": 603,
    "start_time": "2022-01-24T19:09:54.543Z"
   },
   {
    "duration": 817,
    "start_time": "2022-01-24T19:09:55.148Z"
   },
   {
    "duration": 1840,
    "start_time": "2022-01-24T19:09:55.967Z"
   },
   {
    "duration": 845,
    "start_time": "2022-01-24T19:09:57.808Z"
   },
   {
    "duration": 514,
    "start_time": "2022-01-24T19:09:58.655Z"
   },
   {
    "duration": 1516,
    "start_time": "2022-01-24T19:09:59.170Z"
   },
   {
    "duration": 756,
    "start_time": "2022-01-24T19:10:00.687Z"
   },
   {
    "duration": 19,
    "start_time": "2022-01-24T19:10:09.434Z"
   },
   {
    "duration": 526,
    "start_time": "2022-01-24T19:10:25.995Z"
   },
   {
    "duration": 18,
    "start_time": "2022-01-24T19:10:38.699Z"
   },
   {
    "duration": 7,
    "start_time": "2022-01-24T19:10:46.202Z"
   },
   {
    "duration": 4424,
    "start_time": "2022-01-24T19:10:46.601Z"
   },
   {
    "duration": 2428,
    "start_time": "2022-01-24T19:10:51.027Z"
   },
   {
    "duration": 20,
    "start_time": "2022-01-24T19:11:06.203Z"
   },
   {
    "duration": 6,
    "start_time": "2022-01-24T19:11:08.761Z"
   },
   {
    "duration": 4,
    "start_time": "2022-01-24T19:11:10.281Z"
   },
   {
    "duration": 2627,
    "start_time": "2022-01-24T19:11:10.617Z"
   },
   {
    "duration": 2792,
    "start_time": "2022-01-24T19:11:13.246Z"
   },
   {
    "duration": 371,
    "start_time": "2022-01-24T19:11:16.040Z"
   },
   {
    "duration": 192,
    "start_time": "2022-01-24T19:11:17.865Z"
   },
   {
    "duration": 12,
    "start_time": "2022-01-24T19:11:20.852Z"
   },
   {
    "duration": 2792,
    "start_time": "2022-01-24T19:11:22.069Z"
   },
   {
    "duration": 3350,
    "start_time": "2022-01-24T19:11:25.797Z"
   },
   {
    "duration": 5335,
    "start_time": "2022-01-24T19:11:29.149Z"
   },
   {
    "duration": 4449,
    "start_time": "2022-01-24T19:11:34.486Z"
   },
   {
    "duration": 5862,
    "start_time": "2022-01-24T19:11:39.909Z"
   },
   {
    "duration": 5827,
    "start_time": "2022-01-24T19:11:45.773Z"
   },
   {
    "duration": 4436,
    "start_time": "2022-01-24T19:11:51.602Z"
   },
   {
    "duration": 6794,
    "start_time": "2022-01-24T19:11:56.039Z"
   },
   {
    "duration": 5350,
    "start_time": "2022-01-24T19:12:02.835Z"
   },
   {
    "duration": 5941,
    "start_time": "2022-01-24T19:12:08.187Z"
   },
   {
    "duration": 8439,
    "start_time": "2022-01-24T19:12:14.129Z"
   },
   {
    "duration": 6598,
    "start_time": "2022-01-24T19:12:22.571Z"
   },
   {
    "duration": 6572,
    "start_time": "2022-01-24T19:12:29.170Z"
   },
   {
    "duration": 7315,
    "start_time": "2022-01-24T19:12:35.744Z"
   },
   {
    "duration": 7875,
    "start_time": "2022-01-24T19:12:43.061Z"
   },
   {
    "duration": 8874,
    "start_time": "2022-01-24T19:12:50.937Z"
   },
   {
    "duration": 5340,
    "start_time": "2022-01-24T19:12:59.813Z"
   },
   {
    "duration": 394,
    "start_time": "2022-01-24T19:13:07.860Z"
   },
   {
    "duration": 2673,
    "start_time": "2022-01-24T19:13:08.257Z"
   },
   {
    "duration": 3264,
    "start_time": "2022-01-24T19:13:10.932Z"
   },
   {
    "duration": 2402,
    "start_time": "2022-01-24T19:13:14.199Z"
   },
   {
    "duration": 907,
    "start_time": "2022-01-24T19:13:16.603Z"
   },
   {
    "duration": 2064,
    "start_time": "2022-01-24T19:13:17.512Z"
   },
   {
    "duration": 14,
    "start_time": "2022-01-24T19:14:02.681Z"
   },
   {
    "duration": 2716,
    "start_time": "2022-01-24T19:14:02.696Z"
   },
   {
    "duration": 1129,
    "start_time": "2022-01-24T19:14:05.414Z"
   },
   {
    "duration": 3006,
    "start_time": "2022-01-24T19:14:06.546Z"
   },
   {
    "duration": 2742,
    "start_time": "2022-01-24T19:14:09.554Z"
   },
   {
    "duration": 3153,
    "start_time": "2022-01-24T19:14:12.299Z"
   },
   {
    "duration": 8578,
    "start_time": "2022-01-24T19:14:15.454Z"
   },
   {
    "duration": 7643,
    "start_time": "2022-01-24T19:14:24.034Z"
   },
   {
    "duration": 5,
    "start_time": "2022-01-24T19:14:37.746Z"
   },
   {
    "duration": 13362,
    "start_time": "2022-01-24T19:14:38.035Z"
   },
   {
    "duration": 7135,
    "start_time": "2022-01-24T19:14:51.399Z"
   },
   {
    "duration": 9056,
    "start_time": "2022-01-24T19:14:58.536Z"
   },
   {
    "duration": 8072,
    "start_time": "2022-01-24T19:15:07.594Z"
   },
   {
    "duration": 2718,
    "start_time": "2022-01-24T19:15:15.668Z"
   },
   {
    "duration": 1690,
    "start_time": "2022-01-24T19:15:18.387Z"
   },
   {
    "duration": 7165,
    "start_time": "2022-01-24T19:15:20.079Z"
   },
   {
    "duration": 14000,
    "start_time": "2022-01-24T19:15:27.246Z"
   },
   {
    "duration": 11,
    "start_time": "2022-01-24T19:18:43.858Z"
   },
   {
    "duration": 312,
    "start_time": "2022-01-24T19:18:48.642Z"
   },
   {
    "duration": 16,
    "start_time": "2022-01-24T19:19:49.043Z"
   },
   {
    "duration": 13111,
    "start_time": "2022-01-24T19:19:57.763Z"
   },
   {
    "duration": 16,
    "start_time": "2022-01-24T19:20:54.644Z"
   },
   {
    "duration": 14,
    "start_time": "2022-01-24T19:21:49.106Z"
   },
   {
    "duration": 4,
    "start_time": "2022-01-24T19:23:14.369Z"
   },
   {
    "duration": 5,
    "start_time": "2022-01-24T19:23:24.513Z"
   },
   {
    "duration": 5,
    "start_time": "2022-01-24T19:23:50.116Z"
   },
   {
    "duration": 5,
    "start_time": "2022-01-24T19:24:53.041Z"
   },
   {
    "duration": 6,
    "start_time": "2022-01-24T19:27:15.057Z"
   },
   {
    "duration": 9,
    "start_time": "2022-01-24T19:27:31.329Z"
   },
   {
    "duration": 4,
    "start_time": "2022-01-24T19:28:57.687Z"
   },
   {
    "duration": 5,
    "start_time": "2022-01-24T19:29:53.840Z"
   },
   {
    "duration": 4,
    "start_time": "2022-01-24T19:30:09.632Z"
   },
   {
    "duration": 4,
    "start_time": "2022-01-24T19:30:19.744Z"
   },
   {
    "duration": 4,
    "start_time": "2022-01-24T19:30:48.352Z"
   },
   {
    "duration": 6,
    "start_time": "2022-01-24T19:31:54.863Z"
   },
   {
    "duration": 5,
    "start_time": "2022-01-24T19:32:21.168Z"
   },
   {
    "duration": 12,
    "start_time": "2022-01-24T19:32:30.976Z"
   },
   {
    "duration": 4,
    "start_time": "2022-01-24T19:32:40.032Z"
   },
   {
    "duration": 4,
    "start_time": "2022-01-24T19:32:49.346Z"
   },
   {
    "duration": 1834,
    "start_time": "2022-01-24T19:32:57.231Z"
   },
   {
    "duration": 5,
    "start_time": "2022-01-24T19:33:06.304Z"
   },
   {
    "duration": 5,
    "start_time": "2022-01-24T19:33:19.055Z"
   },
   {
    "duration": 5,
    "start_time": "2022-01-24T19:33:40.125Z"
   },
   {
    "duration": 5,
    "start_time": "2022-01-24T19:33:48.783Z"
   },
   {
    "duration": 5,
    "start_time": "2022-01-24T19:33:58.271Z"
   },
   {
    "duration": 5,
    "start_time": "2022-01-24T19:34:43.711Z"
   },
   {
    "duration": 12,
    "start_time": "2022-01-24T19:39:07.086Z"
   },
   {
    "duration": 11,
    "start_time": "2022-01-24T19:39:29.502Z"
   },
   {
    "duration": 7,
    "start_time": "2022-01-24T19:42:01.423Z"
   },
   {
    "duration": 6,
    "start_time": "2022-01-24T19:43:34.365Z"
   },
   {
    "duration": 1087,
    "start_time": "2022-01-24T20:46:05.421Z"
   },
   {
    "duration": 1761,
    "start_time": "2022-01-24T20:46:06.510Z"
   },
   {
    "duration": 222,
    "start_time": "2022-01-24T20:46:08.273Z"
   },
   {
    "duration": 2411,
    "start_time": "2022-01-24T20:46:08.497Z"
   },
   {
    "duration": 15,
    "start_time": "2022-01-24T20:46:10.910Z"
   },
   {
    "duration": 1721,
    "start_time": "2022-01-24T20:46:10.927Z"
   },
   {
    "duration": 574,
    "start_time": "2022-01-24T20:46:12.649Z"
   },
   {
    "duration": 477,
    "start_time": "2022-01-24T20:46:13.225Z"
   },
   {
    "duration": 993,
    "start_time": "2022-01-24T20:46:13.704Z"
   },
   {
    "duration": 711,
    "start_time": "2022-01-24T20:46:14.698Z"
   },
   {
    "duration": 1033,
    "start_time": "2022-01-24T20:46:15.410Z"
   },
   {
    "duration": 1668,
    "start_time": "2022-01-24T20:46:16.444Z"
   },
   {
    "duration": 2719,
    "start_time": "2022-01-24T20:46:18.114Z"
   },
   {
    "duration": 1185,
    "start_time": "2022-01-24T20:46:20.835Z"
   },
   {
    "duration": 914,
    "start_time": "2022-01-24T20:46:22.022Z"
   },
   {
    "duration": 1690,
    "start_time": "2022-01-24T20:46:22.938Z"
   },
   {
    "duration": 1195,
    "start_time": "2022-01-24T20:46:24.629Z"
   },
   {
    "duration": 457,
    "start_time": "2022-01-24T20:46:25.826Z"
   },
   {
    "duration": 533,
    "start_time": "2022-01-24T20:46:26.284Z"
   },
   {
    "duration": 503,
    "start_time": "2022-01-24T20:46:26.819Z"
   },
   {
    "duration": 943,
    "start_time": "2022-01-24T20:46:27.324Z"
   },
   {
    "duration": 820,
    "start_time": "2022-01-24T20:46:28.269Z"
   },
   {
    "duration": 882,
    "start_time": "2022-01-24T20:46:29.093Z"
   },
   {
    "duration": 549,
    "start_time": "2022-01-24T20:46:29.977Z"
   },
   {
    "duration": 992,
    "start_time": "2022-01-24T20:46:30.527Z"
   },
   {
    "duration": 746,
    "start_time": "2022-01-24T20:46:31.521Z"
   },
   {
    "duration": 501,
    "start_time": "2022-01-24T20:46:32.268Z"
   },
   {
    "duration": 605,
    "start_time": "2022-01-24T20:46:32.771Z"
   },
   {
    "duration": 636,
    "start_time": "2022-01-24T20:46:33.377Z"
   },
   {
    "duration": 9937,
    "start_time": "2022-01-24T20:46:34.014Z"
   },
   {
    "duration": 408,
    "start_time": "2022-01-24T20:46:43.952Z"
   },
   {
    "duration": 970,
    "start_time": "2022-01-24T20:46:44.362Z"
   },
   {
    "duration": 2148,
    "start_time": "2022-01-24T20:46:45.334Z"
   },
   {
    "duration": 1423,
    "start_time": "2022-01-24T20:46:47.484Z"
   },
   {
    "duration": 453,
    "start_time": "2022-01-24T20:46:48.908Z"
   },
   {
    "duration": 1299,
    "start_time": "2022-01-24T20:46:49.362Z"
   },
   {
    "duration": 1022,
    "start_time": "2022-01-24T20:46:50.663Z"
   },
   {
    "duration": 888,
    "start_time": "2022-01-24T20:46:51.687Z"
   },
   {
    "duration": 902,
    "start_time": "2022-01-24T20:46:52.577Z"
   },
   {
    "duration": 601,
    "start_time": "2022-01-24T20:46:53.481Z"
   },
   {
    "duration": 714,
    "start_time": "2022-01-24T20:46:54.083Z"
   },
   {
    "duration": 327,
    "start_time": "2022-01-24T20:46:54.798Z"
   },
   {
    "duration": 1012,
    "start_time": "2022-01-24T20:46:55.127Z"
   },
   {
    "duration": 1957,
    "start_time": "2022-01-24T20:46:56.141Z"
   },
   {
    "duration": 1528,
    "start_time": "2022-01-24T20:46:58.099Z"
   },
   {
    "duration": 1475,
    "start_time": "2022-01-24T20:46:59.628Z"
   },
   {
    "duration": 669,
    "start_time": "2022-01-24T20:47:01.104Z"
   },
   {
    "duration": 637,
    "start_time": "2022-01-24T20:47:01.775Z"
   },
   {
    "duration": 910,
    "start_time": "2022-01-24T20:47:02.413Z"
   },
   {
    "duration": 1070,
    "start_time": "2022-01-24T20:47:03.325Z"
   },
   {
    "duration": 1035,
    "start_time": "2022-01-24T20:47:04.396Z"
   },
   {
    "duration": 1058,
    "start_time": "2022-01-24T20:47:05.433Z"
   },
   {
    "duration": 1780,
    "start_time": "2022-01-24T20:47:06.492Z"
   },
   {
    "duration": 1376,
    "start_time": "2022-01-24T20:47:08.274Z"
   },
   {
    "duration": 1022,
    "start_time": "2022-01-24T20:47:09.652Z"
   },
   {
    "duration": 464,
    "start_time": "2022-01-24T20:47:10.676Z"
   },
   {
    "duration": 1833,
    "start_time": "2022-01-24T20:47:11.142Z"
   },
   {
    "duration": 1667,
    "start_time": "2022-01-24T20:47:12.977Z"
   },
   {
    "duration": 1597,
    "start_time": "2022-01-24T20:47:14.646Z"
   },
   {
    "duration": 849,
    "start_time": "2022-01-24T20:47:16.245Z"
   },
   {
    "duration": 839,
    "start_time": "2022-01-24T20:47:17.095Z"
   },
   {
    "duration": 312,
    "start_time": "2022-01-24T20:47:17.935Z"
   },
   {
    "duration": 1261,
    "start_time": "2022-01-24T20:47:18.249Z"
   },
   {
    "duration": 4217,
    "start_time": "2022-01-24T20:47:19.512Z"
   },
   {
    "duration": 1222,
    "start_time": "2022-01-24T20:47:23.731Z"
   },
   {
    "duration": 970,
    "start_time": "2022-01-24T20:47:24.955Z"
   },
   {
    "duration": 1232,
    "start_time": "2022-01-24T20:47:25.927Z"
   },
   {
    "duration": 254,
    "start_time": "2022-01-24T20:47:27.165Z"
   },
   {
    "duration": 2153,
    "start_time": "2022-01-24T20:47:27.421Z"
   },
   {
    "duration": 1427,
    "start_time": "2022-01-24T20:47:29.576Z"
   },
   {
    "duration": 532,
    "start_time": "2022-01-24T20:47:31.005Z"
   },
   {
    "duration": 1692,
    "start_time": "2022-01-24T20:47:31.538Z"
   },
   {
    "duration": 897,
    "start_time": "2022-01-24T20:47:33.232Z"
   },
   {
    "duration": 264,
    "start_time": "2022-01-24T20:47:34.131Z"
   },
   {
    "duration": 414,
    "start_time": "2022-01-24T20:47:34.396Z"
   },
   {
    "duration": 1721,
    "start_time": "2022-01-24T20:47:34.812Z"
   },
   {
    "duration": 337,
    "start_time": "2022-01-24T20:47:36.535Z"
   },
   {
    "duration": 734,
    "start_time": "2022-01-24T20:47:36.873Z"
   },
   {
    "duration": 940,
    "start_time": "2022-01-24T20:47:37.609Z"
   },
   {
    "duration": 1631,
    "start_time": "2022-01-24T20:47:38.551Z"
   },
   {
    "duration": 621,
    "start_time": "2022-01-24T20:47:40.184Z"
   },
   {
    "duration": 619,
    "start_time": "2022-01-24T20:47:40.807Z"
   },
   {
    "duration": 5044,
    "start_time": "2022-01-24T20:47:41.428Z"
   },
   {
    "duration": 3700,
    "start_time": "2022-01-24T20:47:46.474Z"
   },
   {
    "duration": 13,
    "start_time": "2022-01-24T20:47:50.176Z"
   },
   {
    "duration": 901,
    "start_time": "2022-01-24T20:47:50.190Z"
   },
   {
    "duration": 1655,
    "start_time": "2022-01-24T20:47:51.092Z"
   },
   {
    "duration": 782,
    "start_time": "2022-01-24T20:47:52.749Z"
   },
   {
    "duration": 430,
    "start_time": "2022-01-24T20:47:53.533Z"
   },
   {
    "duration": 501,
    "start_time": "2022-01-24T20:47:53.965Z"
   },
   {
    "duration": 1426,
    "start_time": "2022-01-24T20:47:54.468Z"
   },
   {
    "duration": 234,
    "start_time": "2022-01-24T20:47:55.896Z"
   },
   {
    "duration": 555,
    "start_time": "2022-01-24T20:47:56.132Z"
   },
   {
    "duration": 356,
    "start_time": "2022-01-24T20:47:56.688Z"
   },
   {
    "duration": 430,
    "start_time": "2022-01-24T20:47:57.046Z"
   },
   {
    "duration": 144,
    "start_time": "2022-01-24T20:47:57.478Z"
   },
   {
    "duration": 496,
    "start_time": "2022-01-24T20:47:57.623Z"
   },
   {
    "duration": 426,
    "start_time": "2022-01-24T20:47:58.120Z"
   },
   {
    "duration": 363,
    "start_time": "2022-01-24T20:47:58.548Z"
   },
   {
    "duration": 351,
    "start_time": "2022-01-24T20:47:58.913Z"
   },
   {
    "duration": 1998,
    "start_time": "2022-01-24T20:47:59.265Z"
   },
   {
    "duration": 903,
    "start_time": "2022-01-24T20:48:01.264Z"
   },
   {
    "duration": 1882,
    "start_time": "2022-01-24T20:48:02.168Z"
   },
   {
    "duration": 1302,
    "start_time": "2022-01-24T20:48:04.051Z"
   },
   {
    "duration": 1878,
    "start_time": "2022-01-24T20:48:05.354Z"
   },
   {
    "duration": 633,
    "start_time": "2022-01-24T20:48:07.233Z"
   },
   {
    "duration": 687,
    "start_time": "2022-01-24T20:48:07.868Z"
   },
   {
    "duration": 1111,
    "start_time": "2022-02-25T07:26:43.102Z"
   },
   {
    "duration": 157,
    "start_time": "2022-02-25T07:26:44.215Z"
   },
   {
    "duration": 18,
    "start_time": "2022-02-25T07:26:44.374Z"
   },
   {
    "duration": 128,
    "start_time": "2022-02-25T07:26:44.394Z"
   },
   {
    "duration": 24,
    "start_time": "2022-02-25T07:26:44.523Z"
   },
   {
    "duration": 84,
    "start_time": "2022-02-25T07:26:44.548Z"
   },
   {
    "duration": 16,
    "start_time": "2022-02-25T07:26:44.634Z"
   },
   {
    "duration": 20,
    "start_time": "2022-02-25T07:26:44.653Z"
   },
   {
    "duration": 6,
    "start_time": "2022-02-25T07:26:44.674Z"
   },
   {
    "duration": 42,
    "start_time": "2022-02-25T07:26:44.682Z"
   },
   {
    "duration": 5,
    "start_time": "2022-02-25T07:26:44.726Z"
   },
   {
    "duration": 20,
    "start_time": "2022-02-25T07:26:44.732Z"
   },
   {
    "duration": 89,
    "start_time": "2022-02-25T07:26:44.753Z"
   },
   {
    "duration": 15,
    "start_time": "2022-02-25T07:26:44.846Z"
   },
   {
    "duration": 58,
    "start_time": "2022-02-25T07:26:44.862Z"
   },
   {
    "duration": 25,
    "start_time": "2022-02-25T07:26:44.927Z"
   },
   {
    "duration": 39,
    "start_time": "2022-02-25T07:26:44.953Z"
   },
   {
    "duration": 5,
    "start_time": "2022-02-25T07:26:44.994Z"
   },
   {
    "duration": 14,
    "start_time": "2022-02-25T07:26:45.000Z"
   },
   {
    "duration": 11,
    "start_time": "2022-02-25T07:26:45.015Z"
   },
   {
    "duration": 19,
    "start_time": "2022-02-25T07:26:45.028Z"
   },
   {
    "duration": 15,
    "start_time": "2022-02-25T07:26:45.048Z"
   },
   {
    "duration": 8,
    "start_time": "2022-02-25T07:26:45.067Z"
   },
   {
    "duration": 15,
    "start_time": "2022-02-25T07:26:45.078Z"
   },
   {
    "duration": 152,
    "start_time": "2022-02-25T07:26:45.095Z"
   },
   {
    "duration": 57,
    "start_time": "2022-02-25T07:26:45.248Z"
   },
   {
    "duration": 41,
    "start_time": "2022-02-25T07:26:45.307Z"
   },
   {
    "duration": 54,
    "start_time": "2022-02-25T07:26:45.350Z"
   },
   {
    "duration": 78,
    "start_time": "2022-02-25T07:26:45.406Z"
   },
   {
    "duration": 77,
    "start_time": "2022-02-25T07:26:45.486Z"
   },
   {
    "duration": 9,
    "start_time": "2022-02-25T07:26:45.564Z"
   },
   {
    "duration": 72,
    "start_time": "2022-02-25T07:26:45.575Z"
   },
   {
    "duration": 36,
    "start_time": "2022-02-25T07:26:45.649Z"
   },
   {
    "duration": 69,
    "start_time": "2022-02-25T07:26:45.687Z"
   },
   {
    "duration": 44,
    "start_time": "2022-02-25T07:26:45.758Z"
   },
   {
    "duration": 58,
    "start_time": "2022-02-25T07:26:45.804Z"
   },
   {
    "duration": 109,
    "start_time": "2022-02-25T07:26:45.864Z"
   },
   {
    "duration": 43,
    "start_time": "2022-02-25T07:26:45.974Z"
   },
   {
    "duration": 76,
    "start_time": "2022-02-25T07:26:46.018Z"
   },
   {
    "duration": 59,
    "start_time": "2022-02-25T07:26:46.096Z"
   },
   {
    "duration": 40,
    "start_time": "2022-02-25T07:26:46.157Z"
   },
   {
    "duration": 18,
    "start_time": "2022-02-25T07:26:46.199Z"
   },
   {
    "duration": 5,
    "start_time": "2022-02-25T07:26:46.218Z"
   },
   {
    "duration": 27,
    "start_time": "2022-02-25T07:26:46.225Z"
   },
   {
    "duration": 138,
    "start_time": "2022-02-25T07:26:46.253Z"
   },
   {
    "duration": 11,
    "start_time": "2022-02-25T07:26:46.393Z"
   },
   {
    "duration": 3,
    "start_time": "2022-02-25T07:26:46.406Z"
   },
   {
    "duration": 9,
    "start_time": "2022-02-25T07:26:46.411Z"
   },
   {
    "duration": 25,
    "start_time": "2022-02-25T07:26:46.421Z"
   },
   {
    "duration": 3,
    "start_time": "2022-02-25T07:26:46.448Z"
   },
   {
    "duration": 19,
    "start_time": "2022-02-25T07:26:46.453Z"
   },
   {
    "duration": 201,
    "start_time": "2022-02-25T07:26:46.474Z"
   },
   {
    "duration": 14,
    "start_time": "2022-02-25T07:26:46.677Z"
   },
   {
    "duration": 7,
    "start_time": "2022-02-25T07:26:46.692Z"
   },
   {
    "duration": 6,
    "start_time": "2022-02-25T07:26:46.700Z"
   },
   {
    "duration": 4,
    "start_time": "2022-02-25T07:26:46.707Z"
   },
   {
    "duration": 5,
    "start_time": "2022-02-25T07:26:46.712Z"
   },
   {
    "duration": 203,
    "start_time": "2022-02-25T07:26:46.718Z"
   },
   {
    "duration": 10,
    "start_time": "2022-02-25T07:26:46.922Z"
   },
   {
    "duration": 14,
    "start_time": "2022-02-25T07:26:46.934Z"
   },
   {
    "duration": 8,
    "start_time": "2022-02-25T07:26:46.950Z"
   },
   {
    "duration": 5,
    "start_time": "2022-02-25T07:26:46.960Z"
   },
   {
    "duration": 10,
    "start_time": "2022-02-25T07:26:46.966Z"
   },
   {
    "duration": 187,
    "start_time": "2022-02-25T07:26:46.978Z"
   },
   {
    "duration": 9,
    "start_time": "2022-02-25T07:26:47.167Z"
   },
   {
    "duration": 6,
    "start_time": "2022-02-25T07:26:47.178Z"
   },
   {
    "duration": 6,
    "start_time": "2022-02-25T07:26:47.185Z"
   },
   {
    "duration": 3,
    "start_time": "2022-02-25T07:26:47.195Z"
   },
   {
    "duration": 5,
    "start_time": "2022-02-25T07:26:47.200Z"
   },
   {
    "duration": 169,
    "start_time": "2022-02-25T07:26:48.879Z"
   },
   {
    "duration": 11,
    "start_time": "2022-02-25T07:26:49.275Z"
   },
   {
    "duration": 4,
    "start_time": "2022-02-25T07:26:49.343Z"
   },
   {
    "duration": 5,
    "start_time": "2022-02-25T07:26:50.127Z"
   },
   {
    "duration": 4,
    "start_time": "2022-02-25T07:26:50.158Z"
   },
   {
    "duration": 5,
    "start_time": "2022-02-25T07:26:50.945Z"
   },
   {
    "duration": 170,
    "start_time": "2022-02-25T07:26:52.195Z"
   },
   {
    "duration": 10,
    "start_time": "2022-02-25T07:26:52.367Z"
   },
   {
    "duration": 4,
    "start_time": "2022-02-25T07:26:52.813Z"
   },
   {
    "duration": 5,
    "start_time": "2022-02-25T07:26:57.574Z"
   },
   {
    "duration": 4,
    "start_time": "2022-02-25T07:26:57.586Z"
   },
   {
    "duration": 6,
    "start_time": "2022-02-25T07:26:58.884Z"
   },
   {
    "duration": 174,
    "start_time": "2022-02-25T07:26:58.904Z"
   },
   {
    "duration": 3962,
    "start_time": "2022-02-25T07:26:59.978Z"
   },
   {
    "duration": 3567,
    "start_time": "2022-02-25T07:27:03.946Z"
   },
   {
    "duration": 11,
    "start_time": "2022-02-25T07:27:07.515Z"
   },
   {
    "duration": 24,
    "start_time": "2022-02-25T07:27:07.528Z"
   },
   {
    "duration": 4,
    "start_time": "2022-02-25T07:27:07.554Z"
   },
   {
    "duration": 5,
    "start_time": "2022-02-25T07:27:07.560Z"
   },
   {
    "duration": 7,
    "start_time": "2022-02-25T07:27:07.567Z"
   },
   {
    "duration": 7,
    "start_time": "2022-02-25T07:27:07.577Z"
   },
   {
    "duration": 3,
    "start_time": "2022-02-25T07:27:07.586Z"
   },
   {
    "duration": 6,
    "start_time": "2022-02-25T07:27:07.591Z"
   },
   {
    "duration": 6,
    "start_time": "2022-02-25T07:27:07.599Z"
   },
   {
    "duration": 41,
    "start_time": "2022-02-25T07:27:07.607Z"
   },
   {
    "duration": 7,
    "start_time": "2022-02-25T07:27:07.650Z"
   },
   {
    "duration": 12,
    "start_time": "2022-02-25T07:27:07.658Z"
   },
   {
    "duration": 13,
    "start_time": "2022-02-25T07:27:07.672Z"
   },
   {
    "duration": 11,
    "start_time": "2022-02-25T07:27:07.687Z"
   },
   {
    "duration": 4,
    "start_time": "2022-02-25T07:27:07.700Z"
   },
   {
    "duration": 6,
    "start_time": "2022-02-25T07:27:07.705Z"
   },
   {
    "duration": 40,
    "start_time": "2022-02-25T07:27:07.712Z"
   },
   {
    "duration": 9,
    "start_time": "2022-02-25T07:27:07.753Z"
   },
   {
    "duration": 6,
    "start_time": "2022-02-25T07:27:07.764Z"
   },
   {
    "duration": 6,
    "start_time": "2022-02-25T07:27:07.772Z"
   },
   {
    "duration": 5,
    "start_time": "2022-02-25T07:27:07.781Z"
   },
   {
    "duration": 7,
    "start_time": "2022-02-25T07:27:07.787Z"
   },
   {
    "duration": 9,
    "start_time": "2022-02-25T07:27:07.796Z"
   },
   {
    "duration": 1164,
    "start_time": "2022-02-25T14:01:49.448Z"
   },
   {
    "duration": 153,
    "start_time": "2022-02-25T14:01:50.614Z"
   },
   {
    "duration": 20,
    "start_time": "2022-02-25T14:01:50.769Z"
   },
   {
    "duration": 131,
    "start_time": "2022-02-25T14:01:50.791Z"
   },
   {
    "duration": 20,
    "start_time": "2022-02-25T14:01:50.924Z"
   },
   {
    "duration": 95,
    "start_time": "2022-02-25T14:01:50.946Z"
   },
   {
    "duration": 13,
    "start_time": "2022-02-25T14:01:51.043Z"
   },
   {
    "duration": 16,
    "start_time": "2022-02-25T14:01:51.059Z"
   },
   {
    "duration": 9,
    "start_time": "2022-02-25T14:01:51.077Z"
   },
   {
    "duration": 39,
    "start_time": "2022-02-25T14:01:51.087Z"
   },
   {
    "duration": 6,
    "start_time": "2022-02-25T14:01:51.127Z"
   },
   {
    "duration": 29,
    "start_time": "2022-02-25T14:01:51.135Z"
   },
   {
    "duration": 101,
    "start_time": "2022-02-25T14:01:51.165Z"
   },
   {
    "duration": 15,
    "start_time": "2022-02-25T14:01:51.268Z"
   },
   {
    "duration": 76,
    "start_time": "2022-02-25T14:01:51.285Z"
   },
   {
    "duration": 14,
    "start_time": "2022-02-25T14:01:51.363Z"
   },
   {
    "duration": 58,
    "start_time": "2022-02-25T14:01:51.378Z"
   },
   {
    "duration": 6,
    "start_time": "2022-02-25T14:01:51.437Z"
   },
   {
    "duration": 10,
    "start_time": "2022-02-25T14:01:51.444Z"
   },
   {
    "duration": 7,
    "start_time": "2022-02-25T14:01:51.455Z"
   },
   {
    "duration": 7,
    "start_time": "2022-02-25T14:01:51.463Z"
   },
   {
    "duration": 9,
    "start_time": "2022-02-25T14:01:51.472Z"
   },
   {
    "duration": 12,
    "start_time": "2022-02-25T14:01:51.485Z"
   },
   {
    "duration": 147,
    "start_time": "2022-02-25T14:01:51.533Z"
   },
   {
    "duration": 66,
    "start_time": "2022-02-25T14:01:51.682Z"
   },
   {
    "duration": 27,
    "start_time": "2022-02-25T14:01:51.750Z"
   },
   {
    "duration": 69,
    "start_time": "2022-02-25T14:01:51.778Z"
   },
   {
    "duration": 71,
    "start_time": "2022-02-25T14:01:51.849Z"
   },
   {
    "duration": 81,
    "start_time": "2022-02-25T14:01:51.921Z"
   },
   {
    "duration": 28,
    "start_time": "2022-02-25T14:01:52.004Z"
   },
   {
    "duration": 56,
    "start_time": "2022-02-25T14:01:52.034Z"
   },
   {
    "duration": 56,
    "start_time": "2022-02-25T14:01:52.093Z"
   },
   {
    "duration": 55,
    "start_time": "2022-02-25T14:01:52.151Z"
   },
   {
    "duration": 58,
    "start_time": "2022-02-25T14:01:52.208Z"
   },
   {
    "duration": 45,
    "start_time": "2022-02-25T14:01:52.268Z"
   },
   {
    "duration": 110,
    "start_time": "2022-02-25T14:01:52.315Z"
   },
   {
    "duration": 44,
    "start_time": "2022-02-25T14:01:52.433Z"
   },
   {
    "duration": 76,
    "start_time": "2022-02-25T14:01:52.478Z"
   },
   {
    "duration": 55,
    "start_time": "2022-02-25T14:01:52.556Z"
   },
   {
    "duration": 262,
    "start_time": "2022-02-25T14:01:52.612Z"
   },
   {
    "duration": -2580,
    "start_time": "2022-02-25T14:01:55.457Z"
   },
   {
    "duration": -3217,
    "start_time": "2022-02-25T14:01:56.095Z"
   },
   {
    "duration": -3227,
    "start_time": "2022-02-25T14:01:56.106Z"
   },
   {
    "duration": -3240,
    "start_time": "2022-02-25T14:01:56.120Z"
   },
   {
    "duration": -3251,
    "start_time": "2022-02-25T14:01:56.132Z"
   },
   {
    "duration": -3265,
    "start_time": "2022-02-25T14:01:56.147Z"
   },
   {
    "duration": -3275,
    "start_time": "2022-02-25T14:01:56.158Z"
   },
   {
    "duration": -3287,
    "start_time": "2022-02-25T14:01:56.171Z"
   },
   {
    "duration": -3298,
    "start_time": "2022-02-25T14:01:56.183Z"
   },
   {
    "duration": -3331,
    "start_time": "2022-02-25T14:01:56.216Z"
   },
   {
    "duration": -3349,
    "start_time": "2022-02-25T14:01:56.235Z"
   },
   {
    "duration": -3359,
    "start_time": "2022-02-25T14:01:56.247Z"
   },
   {
    "duration": -3841,
    "start_time": "2022-02-25T14:01:56.730Z"
   },
   {
    "duration": -3852,
    "start_time": "2022-02-25T14:01:56.742Z"
   },
   {
    "duration": -3864,
    "start_time": "2022-02-25T14:01:56.755Z"
   },
   {
    "duration": -3875,
    "start_time": "2022-02-25T14:01:56.767Z"
   },
   {
    "duration": -3886,
    "start_time": "2022-02-25T14:01:56.780Z"
   },
   {
    "duration": -3897,
    "start_time": "2022-02-25T14:01:56.792Z"
   },
   {
    "duration": -3909,
    "start_time": "2022-02-25T14:01:56.805Z"
   },
   {
    "duration": -3920,
    "start_time": "2022-02-25T14:01:56.817Z"
   },
   {
    "duration": -3952,
    "start_time": "2022-02-25T14:01:56.850Z"
   },
   {
    "duration": -3963,
    "start_time": "2022-02-25T14:01:56.861Z"
   },
   {
    "duration": -3976,
    "start_time": "2022-02-25T14:01:56.875Z"
   },
   {
    "duration": -3987,
    "start_time": "2022-02-25T14:01:56.887Z"
   },
   {
    "duration": -4000,
    "start_time": "2022-02-25T14:01:56.900Z"
   },
   {
    "duration": -4011,
    "start_time": "2022-02-25T14:01:56.912Z"
   },
   {
    "duration": -4022,
    "start_time": "2022-02-25T14:01:56.924Z"
   },
   {
    "duration": -4033,
    "start_time": "2022-02-25T14:01:56.936Z"
   },
   {
    "duration": -4065,
    "start_time": "2022-02-25T14:01:56.969Z"
   },
   {
    "duration": -4077,
    "start_time": "2022-02-25T14:01:56.982Z"
   },
   {
    "duration": -4089,
    "start_time": "2022-02-25T14:01:56.995Z"
   },
   {
    "duration": -4100,
    "start_time": "2022-02-25T14:01:57.007Z"
   },
   {
    "duration": -4112,
    "start_time": "2022-02-25T14:01:57.020Z"
   },
   {
    "duration": -4123,
    "start_time": "2022-02-25T14:01:57.032Z"
   },
   {
    "duration": -4135,
    "start_time": "2022-02-25T14:01:57.045Z"
   },
   {
    "duration": -4147,
    "start_time": "2022-02-25T14:01:57.058Z"
   },
   {
    "duration": -4178,
    "start_time": "2022-02-25T14:01:57.090Z"
   },
   {
    "duration": -4170,
    "start_time": "2022-02-25T14:01:57.102Z"
   },
   {
    "duration": -4231,
    "start_time": "2022-02-25T14:01:57.164Z"
   },
   {
    "duration": -4246,
    "start_time": "2022-02-25T14:01:57.180Z"
   },
   {
    "duration": -4279,
    "start_time": "2022-02-25T14:01:57.214Z"
   },
   {
    "duration": -4294,
    "start_time": "2022-02-25T14:01:57.229Z"
   },
   {
    "duration": -4309,
    "start_time": "2022-02-25T14:01:57.245Z"
   },
   {
    "duration": -4323,
    "start_time": "2022-02-25T14:01:57.260Z"
   },
   {
    "duration": -4338,
    "start_time": "2022-02-25T14:01:57.276Z"
   },
   {
    "duration": -4351,
    "start_time": "2022-02-25T14:01:57.290Z"
   },
   {
    "duration": -4365,
    "start_time": "2022-02-25T14:01:57.305Z"
   },
   {
    "duration": -4399,
    "start_time": "2022-02-25T14:01:57.340Z"
   },
   {
    "duration": -4415,
    "start_time": "2022-02-25T14:01:57.357Z"
   },
   {
    "duration": -4432,
    "start_time": "2022-02-25T14:01:57.375Z"
   },
   {
    "duration": -4447,
    "start_time": "2022-02-25T14:01:57.391Z"
   },
   {
    "duration": -4478,
    "start_time": "2022-02-25T14:01:57.422Z"
   },
   {
    "duration": -4513,
    "start_time": "2022-02-25T14:01:57.458Z"
   },
   {
    "duration": -4524,
    "start_time": "2022-02-25T14:01:57.470Z"
   },
   {
    "duration": -4536,
    "start_time": "2022-02-25T14:01:57.483Z"
   },
   {
    "duration": -4547,
    "start_time": "2022-02-25T14:01:57.494Z"
   },
   {
    "duration": -4559,
    "start_time": "2022-02-25T14:01:57.507Z"
   },
   {
    "duration": -4569,
    "start_time": "2022-02-25T14:01:57.519Z"
   },
   {
    "duration": -4581,
    "start_time": "2022-02-25T14:01:57.532Z"
   },
   {
    "duration": -4592,
    "start_time": "2022-02-25T14:01:57.544Z"
   },
   {
    "duration": -4623,
    "start_time": "2022-02-25T14:01:57.576Z"
   },
   {
    "duration": -4637,
    "start_time": "2022-02-25T14:01:57.591Z"
   },
   {
    "duration": -4650,
    "start_time": "2022-02-25T14:01:57.604Z"
   },
   {
    "duration": -4661,
    "start_time": "2022-02-25T14:01:57.616Z"
   },
   {
    "duration": -4672,
    "start_time": "2022-02-25T14:01:57.628Z"
   },
   {
    "duration": -4683,
    "start_time": "2022-02-25T14:01:57.640Z"
   },
   {
    "duration": -4695,
    "start_time": "2022-02-25T14:01:57.653Z"
   },
   {
    "duration": 58,
    "start_time": "2022-02-25T14:03:27.402Z"
   },
   {
    "duration": 13,
    "start_time": "2022-02-25T14:04:21.787Z"
   },
   {
    "duration": 65,
    "start_time": "2022-02-25T14:41:09.946Z"
   },
   {
    "duration": 67,
    "start_time": "2022-02-25T14:43:49.897Z"
   },
   {
    "duration": 32,
    "start_time": "2022-02-25T14:45:48.800Z"
   },
   {
    "duration": 18,
    "start_time": "2022-02-25T14:46:57.051Z"
   },
   {
    "duration": 16,
    "start_time": "2022-02-25T14:47:05.296Z"
   },
   {
    "duration": 8,
    "start_time": "2022-02-25T14:47:25.488Z"
   },
   {
    "duration": 290,
    "start_time": "2022-02-25T14:47:38.415Z"
   },
   {
    "duration": 8,
    "start_time": "2022-02-25T14:47:53.739Z"
   },
   {
    "duration": 7,
    "start_time": "2022-02-25T14:48:05.480Z"
   },
   {
    "duration": 93,
    "start_time": "2022-02-25T14:49:17.623Z"
   },
   {
    "duration": 70,
    "start_time": "2022-02-25T14:49:30.890Z"
   },
   {
    "duration": 40,
    "start_time": "2022-02-25T14:49:40.775Z"
   },
   {
    "duration": 18,
    "start_time": "2022-02-25T14:49:47.738Z"
   },
   {
    "duration": 37,
    "start_time": "2022-02-25T14:49:50.946Z"
   },
   {
    "duration": 45,
    "start_time": "2022-02-25T14:50:42.746Z"
   },
   {
    "duration": 18,
    "start_time": "2022-02-25T14:50:47.297Z"
   },
   {
    "duration": 7,
    "start_time": "2022-02-25T14:50:48.344Z"
   },
   {
    "duration": 6,
    "start_time": "2022-02-25T14:50:51.830Z"
   },
   {
    "duration": 6,
    "start_time": "2022-02-25T14:50:52.864Z"
   },
   {
    "duration": 14,
    "start_time": "2022-02-25T14:52:00.413Z"
   },
   {
    "duration": 12,
    "start_time": "2022-02-25T14:52:26.706Z"
   },
   {
    "duration": 13,
    "start_time": "2022-02-25T14:52:47.810Z"
   },
   {
    "duration": 54,
    "start_time": "2022-02-25T14:56:01.025Z"
   },
   {
    "duration": 37,
    "start_time": "2022-02-25T14:56:11.375Z"
   },
   {
    "duration": 54,
    "start_time": "2022-02-25T14:56:30.966Z"
   },
   {
    "duration": 47,
    "start_time": "2022-02-25T14:56:47.481Z"
   },
   {
    "duration": 45,
    "start_time": "2022-02-25T14:57:39.947Z"
   },
   {
    "duration": 88,
    "start_time": "2022-02-25T14:58:32.820Z"
   },
   {
    "duration": 45,
    "start_time": "2022-02-25T14:58:39.121Z"
   },
   {
    "duration": 67,
    "start_time": "2022-02-25T14:58:53.344Z"
   },
   {
    "duration": 56,
    "start_time": "2022-02-25T15:00:17.949Z"
   },
   {
    "duration": 61,
    "start_time": "2022-02-25T15:00:23.149Z"
   },
   {
    "duration": 58,
    "start_time": "2022-02-25T15:00:59.054Z"
   },
   {
    "duration": 14,
    "start_time": "2022-02-25T15:01:29.851Z"
   },
   {
    "duration": 29,
    "start_time": "2022-02-25T15:17:14.526Z"
   },
   {
    "duration": 7,
    "start_time": "2022-02-25T15:17:24.227Z"
   },
   {
    "duration": 11,
    "start_time": "2022-02-25T15:17:38.771Z"
   },
   {
    "duration": 27,
    "start_time": "2022-02-25T15:18:52.896Z"
   },
   {
    "duration": 9,
    "start_time": "2022-02-25T16:32:50.029Z"
   },
   {
    "duration": 26,
    "start_time": "2022-02-25T16:33:13.689Z"
   },
   {
    "duration": 177,
    "start_time": "2022-02-25T16:36:37.976Z"
   },
   {
    "duration": 20,
    "start_time": "2022-02-25T16:37:42.634Z"
   },
   {
    "duration": 22,
    "start_time": "2022-02-25T16:38:05.826Z"
   },
   {
    "duration": 9,
    "start_time": "2022-02-25T16:38:33.586Z"
   },
   {
    "duration": 10,
    "start_time": "2022-02-25T16:38:41.021Z"
   },
   {
    "duration": 20,
    "start_time": "2022-02-25T16:39:18.722Z"
   },
   {
    "duration": 7,
    "start_time": "2022-02-25T16:39:19.535Z"
   },
   {
    "duration": 20,
    "start_time": "2022-02-25T16:39:34.786Z"
   },
   {
    "duration": 6,
    "start_time": "2022-02-25T16:39:40.939Z"
   },
   {
    "duration": 1761,
    "start_time": "2022-02-25T16:40:11.032Z"
   },
   {
    "duration": 841,
    "start_time": "2022-02-25T16:40:12.795Z"
   },
   {
    "duration": 23,
    "start_time": "2022-02-25T16:40:13.639Z"
   },
   {
    "duration": 134,
    "start_time": "2022-02-25T16:40:13.664Z"
   },
   {
    "duration": 17,
    "start_time": "2022-02-25T16:40:13.799Z"
   },
   {
    "duration": 88,
    "start_time": "2022-02-25T16:40:13.817Z"
   },
   {
    "duration": 27,
    "start_time": "2022-02-25T16:40:13.906Z"
   },
   {
    "duration": 18,
    "start_time": "2022-02-25T16:40:13.936Z"
   },
   {
    "duration": 7,
    "start_time": "2022-02-25T16:40:13.956Z"
   },
   {
    "duration": 58,
    "start_time": "2022-02-25T16:40:13.965Z"
   },
   {
    "duration": 6,
    "start_time": "2022-02-25T16:40:14.025Z"
   },
   {
    "duration": 23,
    "start_time": "2022-02-25T16:40:14.033Z"
   },
   {
    "duration": 103,
    "start_time": "2022-02-25T16:40:14.058Z"
   },
   {
    "duration": 16,
    "start_time": "2022-02-25T16:40:14.162Z"
   },
   {
    "duration": 74,
    "start_time": "2022-02-25T16:40:14.179Z"
   },
   {
    "duration": 15,
    "start_time": "2022-02-25T16:40:14.255Z"
   },
   {
    "duration": 43,
    "start_time": "2022-02-25T16:40:14.271Z"
   },
   {
    "duration": 21,
    "start_time": "2022-02-25T16:40:14.315Z"
   },
   {
    "duration": 8,
    "start_time": "2022-02-25T16:40:14.338Z"
   },
   {
    "duration": 7,
    "start_time": "2022-02-25T16:40:14.348Z"
   },
   {
    "duration": 6,
    "start_time": "2022-02-25T16:40:14.357Z"
   },
   {
    "duration": 10,
    "start_time": "2022-02-25T16:40:14.364Z"
   },
   {
    "duration": 11,
    "start_time": "2022-02-25T16:40:14.378Z"
   },
   {
    "duration": 102,
    "start_time": "2022-02-25T16:40:14.392Z"
   },
   {
    "duration": 55,
    "start_time": "2022-02-25T16:40:14.496Z"
   },
   {
    "duration": 17,
    "start_time": "2022-02-25T16:40:14.553Z"
   },
   {
    "duration": 7,
    "start_time": "2022-02-25T16:40:14.571Z"
   },
   {
    "duration": 10,
    "start_time": "2022-02-25T16:40:14.579Z"
   },
   {
    "duration": 6,
    "start_time": "2022-02-25T16:40:14.591Z"
   },
   {
    "duration": 37,
    "start_time": "2022-02-25T16:40:14.599Z"
   },
   {
    "duration": 14,
    "start_time": "2022-02-25T16:40:14.638Z"
   },
   {
    "duration": 103,
    "start_time": "2022-02-25T16:40:14.654Z"
   },
   {
    "duration": 38,
    "start_time": "2022-02-25T16:40:14.759Z"
   },
   {
    "duration": 76,
    "start_time": "2022-02-25T16:40:14.798Z"
   },
   {
    "duration": 48,
    "start_time": "2022-02-25T16:40:14.875Z"
   },
   {
    "duration": 58,
    "start_time": "2022-02-25T16:40:14.924Z"
   },
   {
    "duration": 118,
    "start_time": "2022-02-25T16:40:14.984Z"
   },
   {
    "duration": 59,
    "start_time": "2022-02-25T16:40:15.104Z"
   },
   {
    "duration": 75,
    "start_time": "2022-02-25T16:40:15.165Z"
   },
   {
    "duration": 54,
    "start_time": "2022-02-25T16:40:15.242Z"
   },
   {
    "duration": 76,
    "start_time": "2022-02-25T16:40:15.297Z"
   },
   {
    "duration": 12,
    "start_time": "2022-02-25T16:40:15.375Z"
   },
   {
    "duration": 8,
    "start_time": "2022-02-25T16:40:15.389Z"
   },
   {
    "duration": 47,
    "start_time": "2022-02-25T16:40:15.399Z"
   },
   {
    "duration": 19,
    "start_time": "2022-02-25T16:40:15.447Z"
   },
   {
    "duration": 6,
    "start_time": "2022-02-25T16:40:15.468Z"
   },
   {
    "duration": 9,
    "start_time": "2022-02-25T16:40:15.476Z"
   },
   {
    "duration": 168,
    "start_time": "2022-02-25T16:40:15.487Z"
   },
   {
    "duration": 18,
    "start_time": "2022-02-25T16:40:15.657Z"
   },
   {
    "duration": 4,
    "start_time": "2022-02-25T16:40:15.676Z"
   },
   {
    "duration": 7,
    "start_time": "2022-02-25T16:40:15.682Z"
   },
   {
    "duration": 8,
    "start_time": "2022-02-25T16:40:15.690Z"
   },
   {
    "duration": 5,
    "start_time": "2022-02-25T16:40:15.699Z"
   },
   {
    "duration": 28,
    "start_time": "2022-02-25T16:40:15.706Z"
   },
   {
    "duration": 203,
    "start_time": "2022-02-25T16:40:15.736Z"
   },
   {
    "duration": 19,
    "start_time": "2022-02-25T16:40:15.940Z"
   },
   {
    "duration": 4,
    "start_time": "2022-02-25T16:40:15.960Z"
   },
   {
    "duration": 7,
    "start_time": "2022-02-25T16:40:15.966Z"
   },
   {
    "duration": 6,
    "start_time": "2022-02-25T16:40:15.974Z"
   },
   {
    "duration": 9,
    "start_time": "2022-02-25T16:40:15.981Z"
   },
   {
    "duration": 225,
    "start_time": "2022-02-25T16:40:15.991Z"
   },
   {
    "duration": 24,
    "start_time": "2022-02-25T16:40:16.218Z"
   },
   {
    "duration": 7,
    "start_time": "2022-02-25T16:40:16.243Z"
   },
   {
    "duration": 6,
    "start_time": "2022-02-25T16:40:16.252Z"
   },
   {
    "duration": 8,
    "start_time": "2022-02-25T16:40:16.259Z"
   },
   {
    "duration": 11,
    "start_time": "2022-02-25T16:40:16.268Z"
   },
   {
    "duration": 205,
    "start_time": "2022-02-25T16:40:16.280Z"
   },
   {
    "duration": 17,
    "start_time": "2022-02-25T16:40:16.490Z"
   },
   {
    "duration": 7,
    "start_time": "2022-02-25T16:40:16.509Z"
   },
   {
    "duration": 5,
    "start_time": "2022-02-25T16:40:16.533Z"
   },
   {
    "duration": 6,
    "start_time": "2022-02-25T16:40:16.539Z"
   },
   {
    "duration": 7,
    "start_time": "2022-02-25T16:40:16.547Z"
   },
   {
    "duration": 196,
    "start_time": "2022-02-25T16:40:16.556Z"
   },
   {
    "duration": 15,
    "start_time": "2022-02-25T16:40:16.754Z"
   },
   {
    "duration": 10,
    "start_time": "2022-02-25T16:40:16.771Z"
   },
   {
    "duration": 7,
    "start_time": "2022-02-25T16:40:16.782Z"
   },
   {
    "duration": 8,
    "start_time": "2022-02-25T16:40:16.790Z"
   },
   {
    "duration": 11,
    "start_time": "2022-02-25T16:40:16.800Z"
   },
   {
    "duration": 196,
    "start_time": "2022-02-25T16:40:16.812Z"
   },
   {
    "duration": 16,
    "start_time": "2022-02-25T16:40:17.009Z"
   },
   {
    "duration": 4,
    "start_time": "2022-02-25T16:40:17.033Z"
   },
   {
    "duration": 5,
    "start_time": "2022-02-25T16:40:17.038Z"
   },
   {
    "duration": 6,
    "start_time": "2022-02-25T16:40:17.045Z"
   },
   {
    "duration": 9,
    "start_time": "2022-02-25T16:40:17.053Z"
   },
   {
    "duration": 209,
    "start_time": "2022-02-25T16:40:17.064Z"
   },
   {
    "duration": 4011,
    "start_time": "2022-02-25T16:40:17.274Z"
   },
   {
    "duration": 3746,
    "start_time": "2022-02-25T16:40:21.287Z"
   },
   {
    "duration": 17,
    "start_time": "2022-02-25T16:40:25.035Z"
   },
   {
    "duration": 22,
    "start_time": "2022-02-25T16:40:25.054Z"
   },
   {
    "duration": 8,
    "start_time": "2022-02-25T16:40:25.077Z"
   },
   {
    "duration": 7,
    "start_time": "2022-02-25T16:40:25.087Z"
   },
   {
    "duration": 13,
    "start_time": "2022-02-25T16:40:25.095Z"
   },
   {
    "duration": 28,
    "start_time": "2022-02-25T16:40:25.109Z"
   },
   {
    "duration": 4,
    "start_time": "2022-02-25T16:40:25.139Z"
   },
   {
    "duration": 5,
    "start_time": "2022-02-25T16:40:25.145Z"
   },
   {
    "duration": 4,
    "start_time": "2022-02-25T16:40:25.152Z"
   },
   {
    "duration": 7,
    "start_time": "2022-02-25T16:40:25.157Z"
   },
   {
    "duration": 7,
    "start_time": "2022-02-25T16:40:25.165Z"
   },
   {
    "duration": 20,
    "start_time": "2022-02-25T16:40:25.173Z"
   },
   {
    "duration": 55,
    "start_time": "2022-02-25T16:40:25.194Z"
   },
   {
    "duration": 24,
    "start_time": "2022-02-25T16:40:25.251Z"
   },
   {
    "duration": 4,
    "start_time": "2022-02-25T16:40:25.277Z"
   },
   {
    "duration": 5,
    "start_time": "2022-02-25T16:40:25.283Z"
   },
   {
    "duration": 11,
    "start_time": "2022-02-25T16:40:25.290Z"
   },
   {
    "duration": 34,
    "start_time": "2022-02-25T16:40:25.302Z"
   },
   {
    "duration": 4,
    "start_time": "2022-02-25T16:40:25.337Z"
   },
   {
    "duration": 9,
    "start_time": "2022-02-25T16:40:25.343Z"
   },
   {
    "duration": 6,
    "start_time": "2022-02-25T16:40:25.354Z"
   },
   {
    "duration": 6,
    "start_time": "2022-02-25T16:40:25.361Z"
   },
   {
    "duration": 7,
    "start_time": "2022-02-25T16:40:25.369Z"
   },
   {
    "duration": 22,
    "start_time": "2022-02-25T16:41:18.778Z"
   },
   {
    "duration": 7,
    "start_time": "2022-02-25T16:41:22.467Z"
   },
   {
    "duration": 10,
    "start_time": "2022-02-25T16:41:29.036Z"
   },
   {
    "duration": 9,
    "start_time": "2022-02-25T17:23:25.261Z"
   },
   {
    "duration": 11,
    "start_time": "2022-02-25T18:16:56.575Z"
   },
   {
    "duration": 6679,
    "start_time": "2022-02-25T18:22:59.966Z"
   },
   {
    "duration": 1202,
    "start_time": "2022-02-25T18:24:32.472Z"
   },
   {
    "duration": 225,
    "start_time": "2022-02-25T18:24:46.536Z"
   },
   {
    "duration": 2034,
    "start_time": "2022-02-25T18:25:27.746Z"
   },
   {
    "duration": 163,
    "start_time": "2022-02-25T18:25:29.782Z"
   },
   {
    "duration": 32,
    "start_time": "2022-02-25T18:25:29.949Z"
   },
   {
    "duration": 150,
    "start_time": "2022-02-25T18:25:29.984Z"
   },
   {
    "duration": 18,
    "start_time": "2022-02-25T18:25:30.136Z"
   },
   {
    "duration": 133,
    "start_time": "2022-02-25T18:25:30.156Z"
   },
   {
    "duration": 21,
    "start_time": "2022-02-25T18:25:30.291Z"
   },
   {
    "duration": 35,
    "start_time": "2022-02-25T18:25:30.315Z"
   },
   {
    "duration": 16,
    "start_time": "2022-02-25T18:25:30.352Z"
   },
   {
    "duration": 49,
    "start_time": "2022-02-25T18:25:30.369Z"
   },
   {
    "duration": 6,
    "start_time": "2022-02-25T18:25:30.420Z"
   },
   {
    "duration": 40,
    "start_time": "2022-02-25T18:25:30.428Z"
   },
   {
    "duration": 104,
    "start_time": "2022-02-25T18:25:30.470Z"
   },
   {
    "duration": 16,
    "start_time": "2022-02-25T18:25:30.576Z"
   },
   {
    "duration": 85,
    "start_time": "2022-02-25T18:25:30.593Z"
   },
   {
    "duration": 14,
    "start_time": "2022-02-25T18:25:30.679Z"
   },
   {
    "duration": 60,
    "start_time": "2022-02-25T18:25:30.695Z"
   },
   {
    "duration": 5,
    "start_time": "2022-02-25T18:25:30.756Z"
   },
   {
    "duration": 22,
    "start_time": "2022-02-25T18:25:30.763Z"
   },
   {
    "duration": 9,
    "start_time": "2022-02-25T18:25:30.786Z"
   },
   {
    "duration": 18,
    "start_time": "2022-02-25T18:25:30.796Z"
   },
   {
    "duration": 21,
    "start_time": "2022-02-25T18:25:30.816Z"
   },
   {
    "duration": 23,
    "start_time": "2022-02-25T18:25:30.841Z"
   },
   {
    "duration": 73,
    "start_time": "2022-02-25T18:25:30.867Z"
   },
   {
    "duration": 45,
    "start_time": "2022-02-25T18:25:30.941Z"
   },
   {
    "duration": 15,
    "start_time": "2022-02-25T18:25:30.987Z"
   },
   {
    "duration": 34,
    "start_time": "2022-02-25T18:25:31.004Z"
   },
   {
    "duration": 16,
    "start_time": "2022-02-25T18:25:31.040Z"
   },
   {
    "duration": 19,
    "start_time": "2022-02-25T18:25:31.058Z"
   },
   {
    "duration": 25,
    "start_time": "2022-02-25T18:25:31.079Z"
   },
   {
    "duration": 14,
    "start_time": "2022-02-25T18:25:31.107Z"
   },
   {
    "duration": 89,
    "start_time": "2022-02-25T18:25:31.123Z"
   },
   {
    "duration": 49,
    "start_time": "2022-02-25T18:25:31.214Z"
   },
   {
    "duration": 70,
    "start_time": "2022-02-25T18:25:31.264Z"
   },
   {
    "duration": 47,
    "start_time": "2022-02-25T18:25:31.336Z"
   },
   {
    "duration": 66,
    "start_time": "2022-02-25T18:25:31.384Z"
   },
   {
    "duration": 113,
    "start_time": "2022-02-25T18:25:31.452Z"
   },
   {
    "duration": 45,
    "start_time": "2022-02-25T18:25:31.566Z"
   },
   {
    "duration": 79,
    "start_time": "2022-02-25T18:25:31.612Z"
   },
   {
    "duration": 67,
    "start_time": "2022-02-25T18:25:31.694Z"
   },
   {
    "duration": 71,
    "start_time": "2022-02-25T18:25:31.763Z"
   },
   {
    "duration": 12,
    "start_time": "2022-02-25T18:25:31.836Z"
   },
   {
    "duration": 9,
    "start_time": "2022-02-25T18:25:31.850Z"
   },
   {
    "duration": 37,
    "start_time": "2022-02-25T18:25:31.860Z"
   },
   {
    "duration": 37,
    "start_time": "2022-02-25T18:25:31.899Z"
   },
   {
    "duration": 7,
    "start_time": "2022-02-25T18:25:31.938Z"
   },
   {
    "duration": 10,
    "start_time": "2022-02-25T18:25:31.947Z"
   },
   {
    "duration": 16,
    "start_time": "2022-02-25T18:25:31.959Z"
   },
   {
    "duration": 12,
    "start_time": "2022-02-25T18:25:31.977Z"
   },
   {
    "duration": 257,
    "start_time": "2022-02-25T18:25:31.990Z"
   },
   {
    "duration": 148,
    "start_time": "2022-02-25T18:25:32.249Z"
   },
   {
    "duration": 20,
    "start_time": "2022-02-25T18:25:32.399Z"
   },
   {
    "duration": 4,
    "start_time": "2022-02-25T18:25:32.433Z"
   },
   {
    "duration": 8,
    "start_time": "2022-02-25T18:25:32.439Z"
   },
   {
    "duration": 8,
    "start_time": "2022-02-25T18:25:32.449Z"
   },
   {
    "duration": 17,
    "start_time": "2022-02-25T18:25:32.458Z"
   },
   {
    "duration": 7,
    "start_time": "2022-02-25T18:25:32.476Z"
   },
   {
    "duration": 215,
    "start_time": "2022-02-25T18:25:32.485Z"
   },
   {
    "duration": 34,
    "start_time": "2022-02-25T18:25:32.702Z"
   },
   {
    "duration": 5,
    "start_time": "2022-02-25T18:25:32.737Z"
   },
   {
    "duration": 13,
    "start_time": "2022-02-25T18:25:32.745Z"
   },
   {
    "duration": 5,
    "start_time": "2022-02-25T18:25:32.760Z"
   },
   {
    "duration": 8,
    "start_time": "2022-02-25T18:25:32.767Z"
   },
   {
    "duration": 219,
    "start_time": "2022-02-25T18:25:32.776Z"
   },
   {
    "duration": 19,
    "start_time": "2022-02-25T18:25:32.997Z"
   },
   {
    "duration": 19,
    "start_time": "2022-02-25T18:25:33.017Z"
   },
   {
    "duration": 10,
    "start_time": "2022-02-25T18:25:33.037Z"
   },
   {
    "duration": 6,
    "start_time": "2022-02-25T18:25:33.052Z"
   },
   {
    "duration": 7,
    "start_time": "2022-02-25T18:25:33.060Z"
   },
   {
    "duration": 225,
    "start_time": "2022-02-25T18:25:33.069Z"
   },
   {
    "duration": 18,
    "start_time": "2022-02-25T18:25:33.295Z"
   },
   {
    "duration": 19,
    "start_time": "2022-02-25T18:25:33.315Z"
   },
   {
    "duration": 7,
    "start_time": "2022-02-25T18:25:33.336Z"
   },
   {
    "duration": 4,
    "start_time": "2022-02-25T18:25:33.346Z"
   },
   {
    "duration": 9,
    "start_time": "2022-02-25T18:25:33.352Z"
   },
   {
    "duration": 213,
    "start_time": "2022-02-25T18:25:33.363Z"
   },
   {
    "duration": 18,
    "start_time": "2022-02-25T18:25:33.578Z"
   },
   {
    "duration": 4,
    "start_time": "2022-02-25T18:25:33.598Z"
   },
   {
    "duration": 7,
    "start_time": "2022-02-25T18:25:33.604Z"
   },
   {
    "duration": 4,
    "start_time": "2022-02-25T18:25:33.633Z"
   },
   {
    "duration": 7,
    "start_time": "2022-02-25T18:25:33.639Z"
   },
   {
    "duration": 216,
    "start_time": "2022-02-25T18:25:33.647Z"
   },
   {
    "duration": 17,
    "start_time": "2022-02-25T18:25:33.865Z"
   },
   {
    "duration": 4,
    "start_time": "2022-02-25T18:25:33.883Z"
   },
   {
    "duration": 9,
    "start_time": "2022-02-25T18:25:33.889Z"
   },
   {
    "duration": 5,
    "start_time": "2022-02-25T18:25:33.899Z"
   },
   {
    "duration": 29,
    "start_time": "2022-02-25T18:25:33.905Z"
   },
   {
    "duration": 191,
    "start_time": "2022-02-25T18:25:33.936Z"
   },
   {
    "duration": 3895,
    "start_time": "2022-02-25T18:25:34.129Z"
   },
   {
    "duration": 3711,
    "start_time": "2022-02-25T18:25:38.025Z"
   },
   {
    "duration": 19,
    "start_time": "2022-02-25T18:25:41.738Z"
   },
   {
    "duration": 18,
    "start_time": "2022-02-25T18:25:41.758Z"
   },
   {
    "duration": 6,
    "start_time": "2022-02-25T18:25:41.777Z"
   },
   {
    "duration": 4,
    "start_time": "2022-02-25T18:25:41.785Z"
   },
   {
    "duration": 8,
    "start_time": "2022-02-25T18:25:41.790Z"
   },
   {
    "duration": 39,
    "start_time": "2022-02-25T18:25:41.800Z"
   },
   {
    "duration": 3,
    "start_time": "2022-02-25T18:25:41.841Z"
   },
   {
    "duration": 6,
    "start_time": "2022-02-25T18:25:41.846Z"
   },
   {
    "duration": 4,
    "start_time": "2022-02-25T18:25:41.854Z"
   },
   {
    "duration": 6,
    "start_time": "2022-02-25T18:25:41.860Z"
   },
   {
    "duration": 9,
    "start_time": "2022-02-25T18:25:41.867Z"
   },
   {
    "duration": 17,
    "start_time": "2022-02-25T18:25:41.877Z"
   },
   {
    "duration": 54,
    "start_time": "2022-02-25T18:25:41.896Z"
   },
   {
    "duration": 19,
    "start_time": "2022-02-25T18:25:41.952Z"
   },
   {
    "duration": 4,
    "start_time": "2022-02-25T18:25:41.974Z"
   },
   {
    "duration": 5,
    "start_time": "2022-02-25T18:25:41.981Z"
   },
   {
    "duration": 8,
    "start_time": "2022-02-25T18:25:41.988Z"
   },
   {
    "duration": 11,
    "start_time": "2022-02-25T18:25:42.033Z"
   },
   {
    "duration": 8,
    "start_time": "2022-02-25T18:25:42.046Z"
   },
   {
    "duration": 6,
    "start_time": "2022-02-25T18:25:42.056Z"
   },
   {
    "duration": 5,
    "start_time": "2022-02-25T18:25:42.064Z"
   },
   {
    "duration": 6,
    "start_time": "2022-02-25T18:25:42.071Z"
   },
   {
    "duration": 9,
    "start_time": "2022-02-25T18:25:42.079Z"
   },
   {
    "duration": 249,
    "start_time": "2022-02-25T18:26:13.550Z"
   },
   {
    "duration": 5430,
    "start_time": "2022-02-25T18:27:11.363Z"
   },
   {
    "duration": 10,
    "start_time": "2022-02-25T18:28:10.323Z"
   },
   {
    "duration": 31,
    "start_time": "2022-02-25T18:28:20.024Z"
   },
   {
    "duration": 25,
    "start_time": "2022-02-25T18:28:21.053Z"
   },
   {
    "duration": 7,
    "start_time": "2022-02-25T18:28:22.099Z"
   },
   {
    "duration": 11,
    "start_time": "2022-02-25T18:28:22.993Z"
   },
   {
    "duration": 10,
    "start_time": "2022-02-25T18:28:23.761Z"
   },
   {
    "duration": 261,
    "start_time": "2022-02-25T18:28:38.080Z"
   },
   {
    "duration": 394,
    "start_time": "2022-02-25T18:29:03.059Z"
   },
   {
    "duration": 259,
    "start_time": "2022-02-25T18:29:09.916Z"
   },
   {
    "duration": 59,
    "start_time": "2022-02-25T18:31:50.055Z"
   },
   {
    "duration": 57,
    "start_time": "2022-02-25T18:32:06.261Z"
   },
   {
    "duration": 24,
    "start_time": "2022-02-25T18:32:15.091Z"
   },
   {
    "duration": 1116,
    "start_time": "2022-02-25T18:33:04.577Z"
   },
   {
    "duration": 173,
    "start_time": "2022-02-25T18:33:05.695Z"
   },
   {
    "duration": 22,
    "start_time": "2022-02-25T18:33:05.871Z"
   },
   {
    "duration": 154,
    "start_time": "2022-02-25T18:33:05.894Z"
   },
   {
    "duration": 18,
    "start_time": "2022-02-25T18:33:06.049Z"
   },
   {
    "duration": 100,
    "start_time": "2022-02-25T18:33:06.069Z"
   },
   {
    "duration": 14,
    "start_time": "2022-02-25T18:33:06.170Z"
   },
   {
    "duration": 16,
    "start_time": "2022-02-25T18:33:06.187Z"
   },
   {
    "duration": 6,
    "start_time": "2022-02-25T18:33:06.205Z"
   },
   {
    "duration": 46,
    "start_time": "2022-02-25T18:33:06.232Z"
   },
   {
    "duration": 5,
    "start_time": "2022-02-25T18:33:06.280Z"
   },
   {
    "duration": 20,
    "start_time": "2022-02-25T18:33:06.287Z"
   },
   {
    "duration": 94,
    "start_time": "2022-02-25T18:33:06.309Z"
   },
   {
    "duration": 15,
    "start_time": "2022-02-25T18:33:06.405Z"
   },
   {
    "duration": 69,
    "start_time": "2022-02-25T18:33:06.422Z"
   },
   {
    "duration": 15,
    "start_time": "2022-02-25T18:33:06.493Z"
   },
   {
    "duration": 64,
    "start_time": "2022-02-25T18:33:06.510Z"
   },
   {
    "duration": 5,
    "start_time": "2022-02-25T18:33:06.576Z"
   },
   {
    "duration": 11,
    "start_time": "2022-02-25T18:33:06.583Z"
   },
   {
    "duration": 8,
    "start_time": "2022-02-25T18:33:06.596Z"
   },
   {
    "duration": 28,
    "start_time": "2022-02-25T18:33:06.605Z"
   },
   {
    "duration": 10,
    "start_time": "2022-02-25T18:33:06.635Z"
   },
   {
    "duration": 11,
    "start_time": "2022-02-25T18:33:06.649Z"
   },
   {
    "duration": 89,
    "start_time": "2022-02-25T18:33:06.662Z"
   },
   {
    "duration": 43,
    "start_time": "2022-02-25T18:33:06.753Z"
   },
   {
    "duration": 16,
    "start_time": "2022-02-25T18:33:06.798Z"
   },
   {
    "duration": 21,
    "start_time": "2022-02-25T18:33:06.816Z"
   },
   {
    "duration": 6,
    "start_time": "2022-02-25T18:33:06.839Z"
   },
   {
    "duration": 11,
    "start_time": "2022-02-25T18:33:06.847Z"
   },
   {
    "duration": 14,
    "start_time": "2022-02-25T18:33:06.860Z"
   },
   {
    "duration": 16,
    "start_time": "2022-02-25T18:33:06.876Z"
   },
   {
    "duration": 108,
    "start_time": "2022-02-25T18:33:06.893Z"
   },
   {
    "duration": 43,
    "start_time": "2022-02-25T18:33:07.003Z"
   },
   {
    "duration": 59,
    "start_time": "2022-02-25T18:33:07.048Z"
   },
   {
    "duration": 65,
    "start_time": "2022-02-25T18:33:07.109Z"
   },
   {
    "duration": 62,
    "start_time": "2022-02-25T18:33:07.176Z"
   },
   {
    "duration": 106,
    "start_time": "2022-02-25T18:33:07.240Z"
   },
   {
    "duration": 45,
    "start_time": "2022-02-25T18:33:07.348Z"
   },
   {
    "duration": 82,
    "start_time": "2022-02-25T18:33:07.395Z"
   },
   {
    "duration": 62,
    "start_time": "2022-02-25T18:33:07.479Z"
   },
   {
    "duration": 61,
    "start_time": "2022-02-25T18:33:07.543Z"
   },
   {
    "duration": 30,
    "start_time": "2022-02-25T18:33:07.606Z"
   },
   {
    "duration": 9,
    "start_time": "2022-02-25T18:33:07.637Z"
   },
   {
    "duration": 10,
    "start_time": "2022-02-25T18:33:07.648Z"
   },
   {
    "duration": 26,
    "start_time": "2022-02-25T18:33:07.659Z"
   },
   {
    "duration": 47,
    "start_time": "2022-02-25T18:33:07.687Z"
   },
   {
    "duration": 7,
    "start_time": "2022-02-25T18:33:07.735Z"
   },
   {
    "duration": 14,
    "start_time": "2022-02-25T18:33:07.743Z"
   },
   {
    "duration": 253,
    "start_time": "2022-02-25T18:33:07.759Z"
   },
   {
    "duration": 23,
    "start_time": "2022-02-25T18:33:08.014Z"
   },
   {
    "duration": 4,
    "start_time": "2022-02-25T18:33:08.039Z"
   },
   {
    "duration": 8,
    "start_time": "2022-02-25T18:33:08.044Z"
   },
   {
    "duration": 7,
    "start_time": "2022-02-25T18:33:08.054Z"
   },
   {
    "duration": 12,
    "start_time": "2022-02-25T18:33:08.063Z"
   },
   {
    "duration": 9,
    "start_time": "2022-02-25T18:33:08.076Z"
   },
   {
    "duration": 222,
    "start_time": "2022-02-25T18:33:08.086Z"
   },
   {
    "duration": 28,
    "start_time": "2022-02-25T18:33:08.310Z"
   },
   {
    "duration": 4,
    "start_time": "2022-02-25T18:33:08.340Z"
   },
   {
    "duration": 6,
    "start_time": "2022-02-25T18:33:08.345Z"
   },
   {
    "duration": 4,
    "start_time": "2022-02-25T18:33:08.353Z"
   },
   {
    "duration": 12,
    "start_time": "2022-02-25T18:33:08.358Z"
   },
   {
    "duration": 208,
    "start_time": "2022-02-25T18:33:08.371Z"
   },
   {
    "duration": 23,
    "start_time": "2022-02-25T18:33:08.580Z"
   },
   {
    "duration": 32,
    "start_time": "2022-02-25T18:33:08.605Z"
   },
   {
    "duration": 5,
    "start_time": "2022-02-25T18:33:08.638Z"
   },
   {
    "duration": 6,
    "start_time": "2022-02-25T18:33:08.645Z"
   },
   {
    "duration": 5,
    "start_time": "2022-02-25T18:33:08.652Z"
   },
   {
    "duration": 5,
    "start_time": "2022-02-25T18:33:08.664Z"
   },
   {
    "duration": 260,
    "start_time": "2022-02-25T18:33:08.672Z"
   },
   {
    "duration": 19,
    "start_time": "2022-02-25T18:33:08.933Z"
   },
   {
    "duration": 5,
    "start_time": "2022-02-25T18:33:08.954Z"
   },
   {
    "duration": 9,
    "start_time": "2022-02-25T18:33:08.960Z"
   },
   {
    "duration": 6,
    "start_time": "2022-02-25T18:33:08.970Z"
   },
   {
    "duration": 8,
    "start_time": "2022-02-25T18:33:08.978Z"
   },
   {
    "duration": 224,
    "start_time": "2022-02-25T18:33:08.988Z"
   },
   {
    "duration": 26,
    "start_time": "2022-02-25T18:33:09.214Z"
   },
   {
    "duration": 5,
    "start_time": "2022-02-25T18:33:09.242Z"
   },
   {
    "duration": 6,
    "start_time": "2022-02-25T18:33:09.249Z"
   },
   {
    "duration": 7,
    "start_time": "2022-02-25T18:33:09.257Z"
   },
   {
    "duration": 6,
    "start_time": "2022-02-25T18:33:09.266Z"
   },
   {
    "duration": 210,
    "start_time": "2022-02-25T18:33:09.274Z"
   },
   {
    "duration": 16,
    "start_time": "2022-02-25T18:33:09.486Z"
   },
   {
    "duration": 5,
    "start_time": "2022-02-25T18:33:09.504Z"
   },
   {
    "duration": 23,
    "start_time": "2022-02-25T18:33:09.511Z"
   },
   {
    "duration": 4,
    "start_time": "2022-02-25T18:33:09.536Z"
   },
   {
    "duration": 8,
    "start_time": "2022-02-25T18:33:09.542Z"
   },
   {
    "duration": 219,
    "start_time": "2022-02-25T18:33:09.551Z"
   },
   {
    "duration": 4101,
    "start_time": "2022-02-25T18:33:09.772Z"
   },
   {
    "duration": 3924,
    "start_time": "2022-02-25T18:33:13.874Z"
   },
   {
    "duration": 18,
    "start_time": "2022-02-25T18:33:17.800Z"
   },
   {
    "duration": 34,
    "start_time": "2022-02-25T18:33:17.820Z"
   },
   {
    "duration": 6,
    "start_time": "2022-02-25T18:33:17.856Z"
   },
   {
    "duration": 7,
    "start_time": "2022-02-25T18:33:17.864Z"
   },
   {
    "duration": 13,
    "start_time": "2022-02-25T18:33:17.873Z"
   },
   {
    "duration": 9,
    "start_time": "2022-02-25T18:33:17.889Z"
   },
   {
    "duration": 35,
    "start_time": "2022-02-25T18:33:17.900Z"
   },
   {
    "duration": 6,
    "start_time": "2022-02-25T18:33:17.937Z"
   },
   {
    "duration": 9,
    "start_time": "2022-02-25T18:33:17.945Z"
   },
   {
    "duration": 6,
    "start_time": "2022-02-25T18:33:17.956Z"
   },
   {
    "duration": 8,
    "start_time": "2022-02-25T18:33:17.964Z"
   },
   {
    "duration": 32,
    "start_time": "2022-02-25T18:33:17.974Z"
   },
   {
    "duration": 27,
    "start_time": "2022-02-25T18:33:18.033Z"
   },
   {
    "duration": 20,
    "start_time": "2022-02-25T18:33:18.062Z"
   },
   {
    "duration": 4,
    "start_time": "2022-02-25T18:33:18.083Z"
   },
   {
    "duration": 6,
    "start_time": "2022-02-25T18:33:18.089Z"
   },
   {
    "duration": 39,
    "start_time": "2022-02-25T18:33:18.097Z"
   },
   {
    "duration": 10,
    "start_time": "2022-02-25T18:33:18.138Z"
   },
   {
    "duration": 5,
    "start_time": "2022-02-25T18:33:18.149Z"
   },
   {
    "duration": 6,
    "start_time": "2022-02-25T18:33:18.155Z"
   },
   {
    "duration": 7,
    "start_time": "2022-02-25T18:33:18.163Z"
   },
   {
    "duration": 6,
    "start_time": "2022-02-25T18:33:18.172Z"
   },
   {
    "duration": 8,
    "start_time": "2022-02-25T18:33:18.180Z"
   },
   {
    "duration": 14,
    "start_time": "2022-02-25T18:38:57.933Z"
   },
   {
    "duration": 14,
    "start_time": "2022-02-25T18:41:44.036Z"
   },
   {
    "duration": 15,
    "start_time": "2022-02-25T18:41:58.724Z"
   },
   {
    "duration": 178,
    "start_time": "2022-02-25T18:47:28.462Z"
   },
   {
    "duration": 1970,
    "start_time": "2022-02-25T18:59:16.932Z"
   },
   {
    "duration": 65,
    "start_time": "2022-02-25T19:02:13.013Z"
   },
   {
    "duration": 182,
    "start_time": "2022-02-25T19:02:26.454Z"
   },
   {
    "duration": 157,
    "start_time": "2022-02-25T19:02:44.293Z"
   },
   {
    "duration": 183,
    "start_time": "2022-02-25T19:02:58.324Z"
   },
   {
    "duration": 226,
    "start_time": "2022-02-25T19:12:16.740Z"
   },
   {
    "duration": 384,
    "start_time": "2022-02-25T19:12:52.670Z"
   },
   {
    "duration": 191,
    "start_time": "2022-02-25T19:13:11.722Z"
   },
   {
    "duration": 381,
    "start_time": "2022-02-25T19:13:32.085Z"
   },
   {
    "duration": 352,
    "start_time": "2022-02-26T08:21:33.913Z"
   },
   {
    "duration": 1180,
    "start_time": "2022-02-26T08:21:46.733Z"
   },
   {
    "duration": 145,
    "start_time": "2022-02-26T08:21:47.915Z"
   },
   {
    "duration": 20,
    "start_time": "2022-02-26T08:21:48.062Z"
   },
   {
    "duration": 123,
    "start_time": "2022-02-26T08:21:48.083Z"
   },
   {
    "duration": 16,
    "start_time": "2022-02-26T08:21:48.208Z"
   },
   {
    "duration": 93,
    "start_time": "2022-02-26T08:21:48.226Z"
   },
   {
    "duration": 14,
    "start_time": "2022-02-26T08:21:48.321Z"
   },
   {
    "duration": 21,
    "start_time": "2022-02-26T08:21:48.346Z"
   },
   {
    "duration": 5,
    "start_time": "2022-02-26T08:21:48.369Z"
   },
   {
    "duration": 37,
    "start_time": "2022-02-26T08:21:48.375Z"
   },
   {
    "duration": 6,
    "start_time": "2022-02-26T08:21:48.414Z"
   },
   {
    "duration": 23,
    "start_time": "2022-02-26T08:21:48.421Z"
   },
   {
    "duration": 91,
    "start_time": "2022-02-26T08:21:48.446Z"
   },
   {
    "duration": 20,
    "start_time": "2022-02-26T08:21:48.538Z"
   },
   {
    "duration": 64,
    "start_time": "2022-02-26T08:21:48.560Z"
   },
   {
    "duration": 24,
    "start_time": "2022-02-26T08:21:48.626Z"
   },
   {
    "duration": 38,
    "start_time": "2022-02-26T08:21:48.652Z"
   },
   {
    "duration": 5,
    "start_time": "2022-02-26T08:21:48.691Z"
   },
   {
    "duration": 9,
    "start_time": "2022-02-26T08:21:48.697Z"
   },
   {
    "duration": 5,
    "start_time": "2022-02-26T08:21:48.708Z"
   },
   {
    "duration": 34,
    "start_time": "2022-02-26T08:21:48.715Z"
   },
   {
    "duration": 9,
    "start_time": "2022-02-26T08:21:48.750Z"
   },
   {
    "duration": 10,
    "start_time": "2022-02-26T08:21:48.763Z"
   },
   {
    "duration": 87,
    "start_time": "2022-02-26T08:21:48.775Z"
   },
   {
    "duration": 40,
    "start_time": "2022-02-26T08:21:48.864Z"
   },
   {
    "duration": 15,
    "start_time": "2022-02-26T08:21:48.905Z"
   },
   {
    "duration": 25,
    "start_time": "2022-02-26T08:21:48.922Z"
   },
   {
    "duration": 5,
    "start_time": "2022-02-26T08:21:48.948Z"
   },
   {
    "duration": 10,
    "start_time": "2022-02-26T08:21:48.955Z"
   },
   {
    "duration": 17,
    "start_time": "2022-02-26T08:21:48.966Z"
   },
   {
    "duration": 15,
    "start_time": "2022-02-26T08:21:48.985Z"
   },
   {
    "duration": 99,
    "start_time": "2022-02-26T08:21:49.002Z"
   },
   {
    "duration": 49,
    "start_time": "2022-02-26T08:21:49.103Z"
   },
   {
    "duration": 60,
    "start_time": "2022-02-26T08:21:49.154Z"
   },
   {
    "duration": 68,
    "start_time": "2022-02-26T08:21:49.215Z"
   },
   {
    "duration": 45,
    "start_time": "2022-02-26T08:21:49.284Z"
   },
   {
    "duration": 95,
    "start_time": "2022-02-26T08:21:49.331Z"
   },
   {
    "duration": 53,
    "start_time": "2022-02-26T08:21:49.428Z"
   },
   {
    "duration": 78,
    "start_time": "2022-02-26T08:21:49.482Z"
   },
   {
    "duration": 52,
    "start_time": "2022-02-26T08:21:49.562Z"
   },
   {
    "duration": 69,
    "start_time": "2022-02-26T08:21:49.616Z"
   },
   {
    "duration": 16,
    "start_time": "2022-02-26T08:21:49.686Z"
   },
   {
    "duration": 8,
    "start_time": "2022-02-26T08:21:49.703Z"
   },
   {
    "duration": 12,
    "start_time": "2022-02-26T08:21:49.712Z"
   },
   {
    "duration": 43,
    "start_time": "2022-02-26T08:21:49.726Z"
   },
   {
    "duration": 20,
    "start_time": "2022-02-26T08:21:49.770Z"
   },
   {
    "duration": 8,
    "start_time": "2022-02-26T08:21:49.791Z"
   },
   {
    "duration": 9,
    "start_time": "2022-02-26T08:21:49.800Z"
   },
   {
    "duration": 292,
    "start_time": "2022-02-26T08:21:49.811Z"
   },
   {
    "duration": 18,
    "start_time": "2022-02-26T08:21:50.105Z"
   },
   {
    "duration": 3,
    "start_time": "2022-02-26T08:21:50.125Z"
   },
   {
    "duration": 18,
    "start_time": "2022-02-26T08:21:50.130Z"
   },
   {
    "duration": 7,
    "start_time": "2022-02-26T08:21:50.150Z"
   },
   {
    "duration": 6,
    "start_time": "2022-02-26T08:21:50.159Z"
   },
   {
    "duration": 6,
    "start_time": "2022-02-26T08:21:50.166Z"
   },
   {
    "duration": 228,
    "start_time": "2022-02-26T08:21:50.174Z"
   },
   {
    "duration": 20,
    "start_time": "2022-02-26T08:21:50.404Z"
   },
   {
    "duration": 4,
    "start_time": "2022-02-26T08:21:50.425Z"
   },
   {
    "duration": 4,
    "start_time": "2022-02-26T08:21:50.446Z"
   },
   {
    "duration": 7,
    "start_time": "2022-02-26T08:21:50.452Z"
   },
   {
    "duration": 8,
    "start_time": "2022-02-26T08:21:50.460Z"
   },
   {
    "duration": 201,
    "start_time": "2022-02-26T08:21:50.469Z"
   },
   {
    "duration": 14,
    "start_time": "2022-02-26T08:21:50.672Z"
   },
   {
    "duration": 192,
    "start_time": "2022-02-26T08:21:50.687Z"
   },
   {
    "duration": 17,
    "start_time": "2022-02-26T08:21:50.881Z"
   },
   {
    "duration": 6,
    "start_time": "2022-02-26T08:21:50.900Z"
   },
   {
    "duration": 5,
    "start_time": "2022-02-26T08:21:50.907Z"
   },
   {
    "duration": 3,
    "start_time": "2022-02-26T08:21:50.917Z"
   },
   {
    "duration": 30,
    "start_time": "2022-02-26T08:21:50.922Z"
   },
   {
    "duration": 195,
    "start_time": "2022-02-26T08:21:50.953Z"
   },
   {
    "duration": 17,
    "start_time": "2022-02-26T08:21:51.150Z"
   },
   {
    "duration": 34,
    "start_time": "2022-02-26T08:21:51.169Z"
   },
   {
    "duration": 18,
    "start_time": "2022-02-26T08:21:51.205Z"
   },
   {
    "duration": 37,
    "start_time": "2022-02-26T08:21:51.225Z"
   },
   {
    "duration": 35,
    "start_time": "2022-02-26T08:21:51.263Z"
   },
   {
    "duration": 176,
    "start_time": "2022-02-26T08:21:51.300Z"
   },
   {
    "duration": 16,
    "start_time": "2022-02-26T08:21:51.478Z"
   },
   {
    "duration": 6,
    "start_time": "2022-02-26T08:21:51.495Z"
   },
   {
    "duration": 5,
    "start_time": "2022-02-26T08:21:51.503Z"
   },
   {
    "duration": 4,
    "start_time": "2022-02-26T08:21:51.509Z"
   },
   {
    "duration": 5,
    "start_time": "2022-02-26T08:21:51.515Z"
   },
   {
    "duration": 194,
    "start_time": "2022-02-26T08:21:51.522Z"
   },
   {
    "duration": 15,
    "start_time": "2022-02-26T08:21:51.717Z"
   },
   {
    "duration": 14,
    "start_time": "2022-02-26T08:21:51.733Z"
   },
   {
    "duration": 5,
    "start_time": "2022-02-26T08:21:51.748Z"
   },
   {
    "duration": 5,
    "start_time": "2022-02-26T08:21:51.754Z"
   },
   {
    "duration": 7,
    "start_time": "2022-02-26T08:21:51.761Z"
   },
   {
    "duration": 254,
    "start_time": "2022-02-26T08:21:51.770Z"
   },
   {
    "duration": 3529,
    "start_time": "2022-02-26T08:21:52.025Z"
   },
   {
    "duration": 3536,
    "start_time": "2022-02-26T08:21:55.557Z"
   },
   {
    "duration": 17,
    "start_time": "2022-02-26T08:21:59.094Z"
   },
   {
    "duration": 35,
    "start_time": "2022-02-26T08:21:59.112Z"
   },
   {
    "duration": 6,
    "start_time": "2022-02-26T08:21:59.148Z"
   },
   {
    "duration": 7,
    "start_time": "2022-02-26T08:21:59.156Z"
   },
   {
    "duration": 8,
    "start_time": "2022-02-26T08:21:59.165Z"
   },
   {
    "duration": 8,
    "start_time": "2022-02-26T08:21:59.174Z"
   },
   {
    "duration": 3,
    "start_time": "2022-02-26T08:21:59.184Z"
   },
   {
    "duration": 13,
    "start_time": "2022-02-26T08:21:59.189Z"
   },
   {
    "duration": 8,
    "start_time": "2022-02-26T08:21:59.204Z"
   },
   {
    "duration": 7,
    "start_time": "2022-02-26T08:21:59.213Z"
   },
   {
    "duration": 6,
    "start_time": "2022-02-26T08:21:59.246Z"
   },
   {
    "duration": 17,
    "start_time": "2022-02-26T08:21:59.254Z"
   },
   {
    "duration": 24,
    "start_time": "2022-02-26T08:21:59.272Z"
   },
   {
    "duration": 18,
    "start_time": "2022-02-26T08:21:59.298Z"
   },
   {
    "duration": 28,
    "start_time": "2022-02-26T08:21:59.318Z"
   },
   {
    "duration": 5,
    "start_time": "2022-02-26T08:21:59.348Z"
   },
   {
    "duration": 12,
    "start_time": "2022-02-26T08:21:59.355Z"
   },
   {
    "duration": 9,
    "start_time": "2022-02-26T08:21:59.369Z"
   },
   {
    "duration": 4,
    "start_time": "2022-02-26T08:21:59.380Z"
   },
   {
    "duration": 6,
    "start_time": "2022-02-26T08:21:59.385Z"
   },
   {
    "duration": 6,
    "start_time": "2022-02-26T08:21:59.392Z"
   },
   {
    "duration": 6,
    "start_time": "2022-02-26T08:21:59.400Z"
   },
   {
    "duration": 41,
    "start_time": "2022-02-26T08:21:59.407Z"
   },
   {
    "duration": 543,
    "start_time": "2022-02-26T08:34:38.501Z"
   },
   {
    "duration": 172,
    "start_time": "2022-02-26T08:35:58.731Z"
   },
   {
    "duration": 2782,
    "start_time": "2022-02-26T08:36:13.987Z"
   },
   {
    "duration": 194,
    "start_time": "2022-02-26T08:40:38.246Z"
   },
   {
    "duration": 249,
    "start_time": "2022-02-26T08:45:09.781Z"
   },
   {
    "duration": 244,
    "start_time": "2022-02-26T08:46:55.479Z"
   },
   {
    "duration": 330,
    "start_time": "2022-02-26T08:47:04.650Z"
   },
   {
    "duration": 244,
    "start_time": "2022-02-26T08:47:12.295Z"
   },
   {
    "duration": 244,
    "start_time": "2022-02-26T08:47:48.429Z"
   },
   {
    "duration": 340,
    "start_time": "2022-02-26T09:02:32.904Z"
   },
   {
    "duration": 328,
    "start_time": "2022-02-26T09:02:47.443Z"
   },
   {
    "duration": 489,
    "start_time": "2022-02-26T09:02:58.755Z"
   },
   {
    "duration": 229,
    "start_time": "2022-02-26T09:03:23.175Z"
   },
   {
    "duration": 574,
    "start_time": "2022-02-26T09:05:26.334Z"
   },
   {
    "duration": 121,
    "start_time": "2022-02-26T09:05:52.466Z"
   },
   {
    "duration": 1193,
    "start_time": "2022-02-26T09:26:17.412Z"
   },
   {
    "duration": 152,
    "start_time": "2022-02-26T09:26:18.607Z"
   },
   {
    "duration": 19,
    "start_time": "2022-02-26T09:26:18.761Z"
   },
   {
    "duration": 121,
    "start_time": "2022-02-26T09:26:18.782Z"
   },
   {
    "duration": 14,
    "start_time": "2022-02-26T09:26:18.905Z"
   },
   {
    "duration": 84,
    "start_time": "2022-02-26T09:26:18.921Z"
   },
   {
    "duration": 14,
    "start_time": "2022-02-26T09:26:19.006Z"
   },
   {
    "duration": 26,
    "start_time": "2022-02-26T09:26:19.023Z"
   },
   {
    "duration": 11,
    "start_time": "2022-02-26T09:26:19.051Z"
   },
   {
    "duration": 34,
    "start_time": "2022-02-26T09:26:19.064Z"
   },
   {
    "duration": 6,
    "start_time": "2022-02-26T09:26:19.099Z"
   },
   {
    "duration": 23,
    "start_time": "2022-02-26T09:26:19.106Z"
   },
   {
    "duration": 82,
    "start_time": "2022-02-26T09:26:19.131Z"
   },
   {
    "duration": 16,
    "start_time": "2022-02-26T09:26:19.215Z"
   },
   {
    "duration": 62,
    "start_time": "2022-02-26T09:26:19.233Z"
   },
   {
    "duration": 21,
    "start_time": "2022-02-26T09:26:19.297Z"
   },
   {
    "duration": 55,
    "start_time": "2022-02-26T09:26:19.319Z"
   },
   {
    "duration": 5,
    "start_time": "2022-02-26T09:26:19.375Z"
   },
   {
    "duration": 11,
    "start_time": "2022-02-26T09:26:19.381Z"
   },
   {
    "duration": 8,
    "start_time": "2022-02-26T09:26:19.393Z"
   },
   {
    "duration": 10,
    "start_time": "2022-02-26T09:26:19.402Z"
   },
   {
    "duration": 11,
    "start_time": "2022-02-26T09:26:19.414Z"
   },
   {
    "duration": 26,
    "start_time": "2022-02-26T09:26:19.429Z"
   },
   {
    "duration": 65,
    "start_time": "2022-02-26T09:26:19.458Z"
   },
   {
    "duration": 55,
    "start_time": "2022-02-26T09:26:19.524Z"
   },
   {
    "duration": 15,
    "start_time": "2022-02-26T09:26:19.581Z"
   },
   {
    "duration": 5,
    "start_time": "2022-02-26T09:26:19.598Z"
   },
   {
    "duration": 7,
    "start_time": "2022-02-26T09:26:19.604Z"
   },
   {
    "duration": 11,
    "start_time": "2022-02-26T09:26:19.612Z"
   },
   {
    "duration": 28,
    "start_time": "2022-02-26T09:26:19.624Z"
   },
   {
    "duration": 23,
    "start_time": "2022-02-26T09:26:19.653Z"
   },
   {
    "duration": 107,
    "start_time": "2022-02-26T09:26:19.678Z"
   },
   {
    "duration": 66,
    "start_time": "2022-02-26T09:26:19.787Z"
   },
   {
    "duration": 94,
    "start_time": "2022-02-26T09:26:19.855Z"
   },
   {
    "duration": 63,
    "start_time": "2022-02-26T09:26:19.951Z"
   },
   {
    "duration": 78,
    "start_time": "2022-02-26T09:26:20.015Z"
   },
   {
    "duration": 96,
    "start_time": "2022-02-26T09:26:20.095Z"
   },
   {
    "duration": 42,
    "start_time": "2022-02-26T09:26:20.192Z"
   },
   {
    "duration": 71,
    "start_time": "2022-02-26T09:26:20.235Z"
   },
   {
    "duration": 60,
    "start_time": "2022-02-26T09:26:20.308Z"
   },
   {
    "duration": 53,
    "start_time": "2022-02-26T09:26:20.370Z"
   },
   {
    "duration": 23,
    "start_time": "2022-02-26T09:26:20.424Z"
   },
   {
    "duration": 8,
    "start_time": "2022-02-26T09:26:20.449Z"
   },
   {
    "duration": 15,
    "start_time": "2022-02-26T09:26:20.458Z"
   },
   {
    "duration": 27,
    "start_time": "2022-02-26T09:26:20.475Z"
   },
   {
    "duration": 45,
    "start_time": "2022-02-26T09:26:20.504Z"
   },
   {
    "duration": 7,
    "start_time": "2022-02-26T09:26:20.551Z"
   },
   {
    "duration": 10,
    "start_time": "2022-02-26T09:26:20.560Z"
   },
   {
    "duration": 394,
    "start_time": "2022-02-26T09:26:20.572Z"
   },
   {
    "duration": 26,
    "start_time": "2022-02-26T09:26:20.968Z"
   },
   {
    "duration": 4,
    "start_time": "2022-02-26T09:26:20.996Z"
   },
   {
    "duration": 5,
    "start_time": "2022-02-26T09:26:21.001Z"
   },
   {
    "duration": 6,
    "start_time": "2022-02-26T09:26:21.008Z"
   },
   {
    "duration": 33,
    "start_time": "2022-02-26T09:26:21.015Z"
   },
   {
    "duration": 7,
    "start_time": "2022-02-26T09:26:21.050Z"
   },
   {
    "duration": 194,
    "start_time": "2022-02-26T09:26:21.059Z"
   },
   {
    "duration": 19,
    "start_time": "2022-02-26T09:26:21.255Z"
   },
   {
    "duration": 3,
    "start_time": "2022-02-26T09:26:21.276Z"
   },
   {
    "duration": 5,
    "start_time": "2022-02-26T09:26:21.281Z"
   },
   {
    "duration": 5,
    "start_time": "2022-02-26T09:26:21.287Z"
   },
   {
    "duration": 6,
    "start_time": "2022-02-26T09:26:21.293Z"
   },
   {
    "duration": 209,
    "start_time": "2022-02-26T09:26:21.300Z"
   },
   {
    "duration": 13,
    "start_time": "2022-02-26T09:26:21.511Z"
   },
   {
    "duration": 154,
    "start_time": "2022-02-26T09:26:21.526Z"
   },
   {
    "duration": 16,
    "start_time": "2022-02-26T09:26:21.682Z"
   },
   {
    "duration": 4,
    "start_time": "2022-02-26T09:26:21.699Z"
   },
   {
    "duration": 4,
    "start_time": "2022-02-26T09:26:21.704Z"
   },
   {
    "duration": 4,
    "start_time": "2022-02-26T09:26:21.714Z"
   },
   {
    "duration": 29,
    "start_time": "2022-02-26T09:26:21.720Z"
   },
   {
    "duration": 190,
    "start_time": "2022-02-26T09:26:21.750Z"
   },
   {
    "duration": 15,
    "start_time": "2022-02-26T09:26:21.941Z"
   },
   {
    "duration": 5,
    "start_time": "2022-02-26T09:26:21.958Z"
   },
   {
    "duration": 4,
    "start_time": "2022-02-26T09:26:21.964Z"
   },
   {
    "duration": 4,
    "start_time": "2022-02-26T09:26:21.970Z"
   },
   {
    "duration": 6,
    "start_time": "2022-02-26T09:26:21.975Z"
   },
   {
    "duration": 204,
    "start_time": "2022-02-26T09:26:21.982Z"
   },
   {
    "duration": 16,
    "start_time": "2022-02-26T09:26:22.188Z"
   },
   {
    "duration": 6,
    "start_time": "2022-02-26T09:26:22.205Z"
   },
   {
    "duration": 6,
    "start_time": "2022-02-26T09:26:22.212Z"
   },
   {
    "duration": 30,
    "start_time": "2022-02-26T09:26:22.219Z"
   },
   {
    "duration": 9,
    "start_time": "2022-02-26T09:26:22.251Z"
   },
   {
    "duration": 196,
    "start_time": "2022-02-26T09:26:22.262Z"
   },
   {
    "duration": 17,
    "start_time": "2022-02-26T09:26:22.460Z"
   },
   {
    "duration": 19,
    "start_time": "2022-02-26T09:26:22.480Z"
   },
   {
    "duration": 4,
    "start_time": "2022-02-26T09:26:22.501Z"
   },
   {
    "duration": 9,
    "start_time": "2022-02-26T09:26:22.507Z"
   },
   {
    "duration": 9,
    "start_time": "2022-02-26T09:26:22.518Z"
   },
   {
    "duration": 256,
    "start_time": "2022-02-26T09:26:22.529Z"
   },
   {
    "duration": 3668,
    "start_time": "2022-02-26T09:26:22.786Z"
   },
   {
    "duration": 3533,
    "start_time": "2022-02-26T09:26:26.456Z"
   },
   {
    "duration": 16,
    "start_time": "2022-02-26T09:26:29.990Z"
   },
   {
    "duration": 30,
    "start_time": "2022-02-26T09:26:30.008Z"
   },
   {
    "duration": 9,
    "start_time": "2022-02-26T09:26:30.039Z"
   },
   {
    "duration": 7,
    "start_time": "2022-02-26T09:26:30.050Z"
   },
   {
    "duration": 15,
    "start_time": "2022-02-26T09:26:30.058Z"
   },
   {
    "duration": 8,
    "start_time": "2022-02-26T09:26:30.075Z"
   },
   {
    "duration": 5,
    "start_time": "2022-02-26T09:26:30.085Z"
   },
   {
    "duration": 7,
    "start_time": "2022-02-26T09:26:30.091Z"
   },
   {
    "duration": 16,
    "start_time": "2022-02-26T09:26:30.099Z"
   },
   {
    "duration": 30,
    "start_time": "2022-02-26T09:26:30.117Z"
   },
   {
    "duration": 6,
    "start_time": "2022-02-26T09:26:30.148Z"
   },
   {
    "duration": 31,
    "start_time": "2022-02-26T09:26:30.155Z"
   },
   {
    "duration": 22,
    "start_time": "2022-02-26T09:26:30.187Z"
   },
   {
    "duration": 36,
    "start_time": "2022-02-26T09:26:30.211Z"
   },
   {
    "duration": 4,
    "start_time": "2022-02-26T09:26:30.249Z"
   },
   {
    "duration": 10,
    "start_time": "2022-02-26T09:26:30.255Z"
   },
   {
    "duration": 16,
    "start_time": "2022-02-26T09:26:30.267Z"
   },
   {
    "duration": 10,
    "start_time": "2022-02-26T09:26:30.285Z"
   },
   {
    "duration": 6,
    "start_time": "2022-02-26T09:26:30.297Z"
   },
   {
    "duration": 6,
    "start_time": "2022-02-26T09:26:30.305Z"
   },
   {
    "duration": 13,
    "start_time": "2022-02-26T09:26:30.312Z"
   },
   {
    "duration": 22,
    "start_time": "2022-02-26T09:26:30.326Z"
   },
   {
    "duration": 8,
    "start_time": "2022-02-26T09:26:30.350Z"
   },
   {
    "duration": 143,
    "start_time": "2022-02-26T09:30:41.832Z"
   },
   {
    "duration": 17,
    "start_time": "2022-02-26T09:36:18.626Z"
   },
   {
    "duration": 8,
    "start_time": "2022-02-26T09:36:44.453Z"
   },
   {
    "duration": 14,
    "start_time": "2022-02-26T09:37:31.621Z"
   },
   {
    "duration": 1385,
    "start_time": "2022-02-26T09:38:24.402Z"
   },
   {
    "duration": 1319,
    "start_time": "2022-02-26T09:38:30.343Z"
   },
   {
    "duration": 13,
    "start_time": "2022-02-26T09:38:51.878Z"
   },
   {
    "duration": 8847,
    "start_time": "2022-02-26T09:39:53.965Z"
   },
   {
    "duration": 13,
    "start_time": "2022-02-26T09:40:12.772Z"
   },
   {
    "duration": 13,
    "start_time": "2022-02-26T09:42:11.922Z"
   },
   {
    "duration": 13,
    "start_time": "2022-02-26T09:43:41.876Z"
   },
   {
    "duration": 139,
    "start_time": "2022-02-26T09:44:33.435Z"
   },
   {
    "duration": 13,
    "start_time": "2022-02-26T09:52:46.513Z"
   },
   {
    "duration": 15,
    "start_time": "2022-02-26T09:53:29.790Z"
   },
   {
    "duration": 13,
    "start_time": "2022-02-26T09:54:26.537Z"
   },
   {
    "duration": 380,
    "start_time": "2022-02-26T09:54:51.164Z"
   },
   {
    "duration": 14,
    "start_time": "2022-02-26T09:54:57.052Z"
   },
   {
    "duration": 14,
    "start_time": "2022-02-26T09:55:03.699Z"
   },
   {
    "duration": 13,
    "start_time": "2022-02-26T09:55:16.545Z"
   },
   {
    "duration": 13,
    "start_time": "2022-02-26T09:55:23.066Z"
   },
   {
    "duration": 12,
    "start_time": "2022-02-26T09:55:35.600Z"
   },
   {
    "duration": 17,
    "start_time": "2022-02-26T09:55:59.428Z"
   },
   {
    "duration": 16,
    "start_time": "2022-02-26T09:56:07.749Z"
   },
   {
    "duration": 205,
    "start_time": "2022-02-26T09:56:18.087Z"
   },
   {
    "duration": 14,
    "start_time": "2022-02-26T09:56:40.688Z"
   },
   {
    "duration": 13,
    "start_time": "2022-02-26T09:56:46.688Z"
   },
   {
    "duration": 13,
    "start_time": "2022-02-26T09:56:53.487Z"
   },
   {
    "duration": 12,
    "start_time": "2022-02-26T09:56:58.330Z"
   },
   {
    "duration": 13,
    "start_time": "2022-02-26T09:57:06.404Z"
   },
   {
    "duration": 12,
    "start_time": "2022-02-26T09:57:12.572Z"
   },
   {
    "duration": 12,
    "start_time": "2022-02-26T10:12:33.037Z"
   },
   {
    "duration": 13,
    "start_time": "2022-02-26T10:12:47.007Z"
   },
   {
    "duration": 11,
    "start_time": "2022-02-26T10:14:02.777Z"
   },
   {
    "duration": 8377,
    "start_time": "2022-02-26T10:14:36.207Z"
   },
   {
    "duration": 13,
    "start_time": "2022-02-26T10:15:03.286Z"
   },
   {
    "duration": 143,
    "start_time": "2022-02-26T10:15:06.628Z"
   },
   {
    "duration": 140,
    "start_time": "2022-02-26T10:15:36.070Z"
   },
   {
    "duration": 147,
    "start_time": "2022-02-26T10:16:32.617Z"
   },
   {
    "duration": 13,
    "start_time": "2022-02-26T10:17:36.646Z"
   },
   {
    "duration": 13,
    "start_time": "2022-02-26T10:17:49.104Z"
   },
   {
    "duration": 1150,
    "start_time": "2022-02-26T11:03:19.934Z"
   },
   {
    "duration": 161,
    "start_time": "2022-02-26T11:03:21.086Z"
   },
   {
    "duration": 18,
    "start_time": "2022-02-26T11:03:21.249Z"
   },
   {
    "duration": 129,
    "start_time": "2022-02-26T11:03:21.269Z"
   },
   {
    "duration": 14,
    "start_time": "2022-02-26T11:03:21.400Z"
   },
   {
    "duration": 80,
    "start_time": "2022-02-26T11:03:21.416Z"
   },
   {
    "duration": 14,
    "start_time": "2022-02-26T11:03:21.497Z"
   },
   {
    "duration": 19,
    "start_time": "2022-02-26T11:03:21.514Z"
   },
   {
    "duration": 15,
    "start_time": "2022-02-26T11:03:21.535Z"
   },
   {
    "duration": 49,
    "start_time": "2022-02-26T11:03:21.552Z"
   },
   {
    "duration": 6,
    "start_time": "2022-02-26T11:03:21.603Z"
   },
   {
    "duration": 19,
    "start_time": "2022-02-26T11:03:21.610Z"
   },
   {
    "duration": 83,
    "start_time": "2022-02-26T11:03:21.631Z"
   },
   {
    "duration": 14,
    "start_time": "2022-02-26T11:03:21.716Z"
   },
   {
    "duration": 63,
    "start_time": "2022-02-26T11:03:21.731Z"
   },
   {
    "duration": 13,
    "start_time": "2022-02-26T11:03:21.795Z"
   },
   {
    "duration": 51,
    "start_time": "2022-02-26T11:03:21.809Z"
   },
   {
    "duration": 5,
    "start_time": "2022-02-26T11:03:21.861Z"
   },
   {
    "duration": 7,
    "start_time": "2022-02-26T11:03:21.867Z"
   },
   {
    "duration": 7,
    "start_time": "2022-02-26T11:03:21.876Z"
   },
   {
    "duration": 7,
    "start_time": "2022-02-26T11:03:21.885Z"
   },
   {
    "duration": 12,
    "start_time": "2022-02-26T11:03:21.893Z"
   },
   {
    "duration": 11,
    "start_time": "2022-02-26T11:03:21.909Z"
   },
   {
    "duration": 63,
    "start_time": "2022-02-26T11:03:21.948Z"
   },
   {
    "duration": 58,
    "start_time": "2022-02-26T11:03:22.013Z"
   },
   {
    "duration": 14,
    "start_time": "2022-02-26T11:03:22.073Z"
   },
   {
    "duration": 6,
    "start_time": "2022-02-26T11:03:22.089Z"
   },
   {
    "duration": 5,
    "start_time": "2022-02-26T11:03:22.097Z"
   },
   {
    "duration": 6,
    "start_time": "2022-02-26T11:03:22.104Z"
   },
   {
    "duration": 40,
    "start_time": "2022-02-26T11:03:22.112Z"
   },
   {
    "duration": 13,
    "start_time": "2022-02-26T11:03:22.153Z"
   },
   {
    "duration": 93,
    "start_time": "2022-02-26T11:03:22.167Z"
   },
   {
    "duration": 34,
    "start_time": "2022-02-26T11:03:22.261Z"
   },
   {
    "duration": 63,
    "start_time": "2022-02-26T11:03:22.296Z"
   },
   {
    "duration": 42,
    "start_time": "2022-02-26T11:03:22.361Z"
   },
   {
    "duration": 62,
    "start_time": "2022-02-26T11:03:22.405Z"
   },
   {
    "duration": 113,
    "start_time": "2022-02-26T11:03:22.469Z"
   },
   {
    "duration": 41,
    "start_time": "2022-02-26T11:03:22.584Z"
   },
   {
    "duration": 74,
    "start_time": "2022-02-26T11:03:22.626Z"
   },
   {
    "duration": 59,
    "start_time": "2022-02-26T11:03:22.701Z"
   },
   {
    "duration": 55,
    "start_time": "2022-02-26T11:03:22.761Z"
   },
   {
    "duration": 14,
    "start_time": "2022-02-26T11:03:22.817Z"
   },
   {
    "duration": 7,
    "start_time": "2022-02-26T11:03:22.846Z"
   },
   {
    "duration": 12,
    "start_time": "2022-02-26T11:03:22.854Z"
   },
   {
    "duration": 28,
    "start_time": "2022-02-26T11:03:22.867Z"
   },
   {
    "duration": 19,
    "start_time": "2022-02-26T11:03:22.897Z"
   },
   {
    "duration": 5,
    "start_time": "2022-02-26T11:03:22.918Z"
   },
   {
    "duration": 27,
    "start_time": "2022-02-26T11:03:22.925Z"
   },
   {
    "duration": 246,
    "start_time": "2022-02-26T11:03:22.953Z"
   },
   {
    "duration": 20,
    "start_time": "2022-02-26T11:03:23.201Z"
   },
   {
    "duration": 5,
    "start_time": "2022-02-26T11:03:23.222Z"
   },
   {
    "duration": 20,
    "start_time": "2022-02-26T11:03:23.229Z"
   },
   {
    "duration": 5,
    "start_time": "2022-02-26T11:03:23.250Z"
   },
   {
    "duration": 6,
    "start_time": "2022-02-26T11:03:23.256Z"
   },
   {
    "duration": 5,
    "start_time": "2022-02-26T11:03:23.264Z"
   },
   {
    "duration": 196,
    "start_time": "2022-02-26T11:03:23.270Z"
   },
   {
    "duration": 18,
    "start_time": "2022-02-26T11:03:23.468Z"
   },
   {
    "duration": 4,
    "start_time": "2022-02-26T11:03:23.488Z"
   },
   {
    "duration": 6,
    "start_time": "2022-02-26T11:03:23.493Z"
   },
   {
    "duration": 5,
    "start_time": "2022-02-26T11:03:23.500Z"
   },
   {
    "duration": 6,
    "start_time": "2022-02-26T11:03:23.506Z"
   },
   {
    "duration": 211,
    "start_time": "2022-02-26T11:03:23.514Z"
   },
   {
    "duration": 19,
    "start_time": "2022-02-26T11:03:23.727Z"
   },
   {
    "duration": 143,
    "start_time": "2022-02-26T11:03:23.748Z"
   },
   {
    "duration": 16,
    "start_time": "2022-02-26T11:03:23.893Z"
   },
   {
    "duration": 8,
    "start_time": "2022-02-26T11:03:23.910Z"
   },
   {
    "duration": 6,
    "start_time": "2022-02-26T11:03:23.919Z"
   },
   {
    "duration": 3,
    "start_time": "2022-02-26T11:03:23.947Z"
   },
   {
    "duration": 9,
    "start_time": "2022-02-26T11:03:23.952Z"
   },
   {
    "duration": 191,
    "start_time": "2022-02-26T11:03:23.962Z"
   },
   {
    "duration": 15,
    "start_time": "2022-02-26T11:03:24.155Z"
   },
   {
    "duration": 5,
    "start_time": "2022-02-26T11:03:24.172Z"
   },
   {
    "duration": 6,
    "start_time": "2022-02-26T11:03:24.178Z"
   },
   {
    "duration": 7,
    "start_time": "2022-02-26T11:03:24.185Z"
   },
   {
    "duration": 8,
    "start_time": "2022-02-26T11:03:24.193Z"
   },
   {
    "duration": 195,
    "start_time": "2022-02-26T11:03:24.202Z"
   },
   {
    "duration": 12,
    "start_time": "2022-02-26T11:03:24.399Z"
   },
   {
    "duration": 147,
    "start_time": "2022-02-26T11:03:24.412Z"
   },
   {
    "duration": 15,
    "start_time": "2022-02-26T11:03:24.561Z"
   },
   {
    "duration": 5,
    "start_time": "2022-02-26T11:03:24.578Z"
   },
   {
    "duration": 7,
    "start_time": "2022-02-26T11:03:24.585Z"
   },
   {
    "duration": 7,
    "start_time": "2022-02-26T11:03:24.594Z"
   },
   {
    "duration": 8,
    "start_time": "2022-02-26T11:03:24.602Z"
   },
   {
    "duration": 273,
    "start_time": "2022-02-26T11:03:24.611Z"
   },
   {
    "duration": 17,
    "start_time": "2022-02-26T11:03:24.886Z"
   },
   {
    "duration": 4,
    "start_time": "2022-02-26T11:03:24.905Z"
   },
   {
    "duration": 12,
    "start_time": "2022-02-26T11:03:24.910Z"
   },
   {
    "duration": 23,
    "start_time": "2022-02-26T11:03:24.923Z"
   },
   {
    "duration": 5,
    "start_time": "2022-02-26T11:03:24.947Z"
   },
   {
    "duration": 197,
    "start_time": "2022-02-26T11:03:24.953Z"
   },
   {
    "duration": 12,
    "start_time": "2022-02-26T11:03:25.152Z"
   },
   {
    "duration": 159,
    "start_time": "2022-02-26T11:03:25.166Z"
   },
   {
    "duration": 3829,
    "start_time": "2022-02-26T11:03:25.326Z"
   },
   {
    "duration": 3514,
    "start_time": "2022-02-26T11:03:29.157Z"
   },
   {
    "duration": 16,
    "start_time": "2022-02-26T11:03:32.673Z"
   },
   {
    "duration": 17,
    "start_time": "2022-02-26T11:03:32.690Z"
   },
   {
    "duration": 4,
    "start_time": "2022-02-26T11:03:32.709Z"
   },
   {
    "duration": 31,
    "start_time": "2022-02-26T11:03:32.715Z"
   },
   {
    "duration": 9,
    "start_time": "2022-02-26T11:03:32.747Z"
   },
   {
    "duration": 8,
    "start_time": "2022-02-26T11:03:32.757Z"
   },
   {
    "duration": 8,
    "start_time": "2022-02-26T11:03:32.766Z"
   },
   {
    "duration": 6,
    "start_time": "2022-02-26T11:03:32.776Z"
   },
   {
    "duration": 5,
    "start_time": "2022-02-26T11:03:32.784Z"
   },
   {
    "duration": 6,
    "start_time": "2022-02-26T11:03:32.791Z"
   },
   {
    "duration": 7,
    "start_time": "2022-02-26T11:03:32.798Z"
   },
   {
    "duration": 48,
    "start_time": "2022-02-26T11:03:32.807Z"
   },
   {
    "duration": 17,
    "start_time": "2022-02-26T11:03:32.857Z"
   },
   {
    "duration": 17,
    "start_time": "2022-02-26T11:03:32.876Z"
   },
   {
    "duration": 4,
    "start_time": "2022-02-26T11:03:32.895Z"
   },
   {
    "duration": 5,
    "start_time": "2022-02-26T11:03:32.901Z"
   },
   {
    "duration": 45,
    "start_time": "2022-02-26T11:03:32.907Z"
   },
   {
    "duration": 7,
    "start_time": "2022-02-26T11:03:32.953Z"
   },
   {
    "duration": 4,
    "start_time": "2022-02-26T11:03:32.962Z"
   },
   {
    "duration": 5,
    "start_time": "2022-02-26T11:03:32.967Z"
   },
   {
    "duration": 4,
    "start_time": "2022-02-26T11:03:32.974Z"
   },
   {
    "duration": 6,
    "start_time": "2022-02-26T11:03:32.979Z"
   },
   {
    "duration": 7,
    "start_time": "2022-02-26T11:03:32.986Z"
   },
   {
    "duration": 6,
    "start_time": "2022-02-26T11:04:00.847Z"
   },
   {
    "duration": 6,
    "start_time": "2022-02-26T11:04:09.627Z"
   },
   {
    "duration": 6,
    "start_time": "2022-02-26T11:05:57.504Z"
   },
   {
    "duration": 6,
    "start_time": "2022-02-26T11:07:50.271Z"
   },
   {
    "duration": 7,
    "start_time": "2022-02-26T11:08:01.230Z"
   },
   {
    "duration": 6,
    "start_time": "2022-02-26T11:08:10.222Z"
   },
   {
    "duration": 1190,
    "start_time": "2022-02-26T11:31:16.773Z"
   },
   {
    "duration": 176,
    "start_time": "2022-02-26T11:31:17.965Z"
   },
   {
    "duration": 20,
    "start_time": "2022-02-26T11:31:18.144Z"
   },
   {
    "duration": 141,
    "start_time": "2022-02-26T11:31:18.166Z"
   },
   {
    "duration": 16,
    "start_time": "2022-02-26T11:31:18.312Z"
   },
   {
    "duration": 100,
    "start_time": "2022-02-26T11:31:18.330Z"
   },
   {
    "duration": 13,
    "start_time": "2022-02-26T11:31:18.432Z"
   },
   {
    "duration": 26,
    "start_time": "2022-02-26T11:31:18.448Z"
   },
   {
    "duration": 13,
    "start_time": "2022-02-26T11:31:18.476Z"
   },
   {
    "duration": 64,
    "start_time": "2022-02-26T11:31:18.491Z"
   },
   {
    "duration": 8,
    "start_time": "2022-02-26T11:31:18.557Z"
   },
   {
    "duration": 25,
    "start_time": "2022-02-26T11:31:18.567Z"
   },
   {
    "duration": 119,
    "start_time": "2022-02-26T11:31:18.593Z"
   },
   {
    "duration": 17,
    "start_time": "2022-02-26T11:31:18.714Z"
   },
   {
    "duration": 81,
    "start_time": "2022-02-26T11:31:18.732Z"
   },
   {
    "duration": 16,
    "start_time": "2022-02-26T11:31:18.814Z"
   },
   {
    "duration": 53,
    "start_time": "2022-02-26T11:31:18.832Z"
   },
   {
    "duration": 27,
    "start_time": "2022-02-26T11:31:18.886Z"
   },
   {
    "duration": 9,
    "start_time": "2022-02-26T11:31:18.915Z"
   },
   {
    "duration": 7,
    "start_time": "2022-02-26T11:31:18.926Z"
   },
   {
    "duration": 10,
    "start_time": "2022-02-26T11:31:18.935Z"
   },
   {
    "duration": 12,
    "start_time": "2022-02-26T11:31:18.947Z"
   },
   {
    "duration": 13,
    "start_time": "2022-02-26T11:31:18.964Z"
   },
   {
    "duration": 100,
    "start_time": "2022-02-26T11:31:18.980Z"
   },
   {
    "duration": 63,
    "start_time": "2022-02-26T11:31:19.082Z"
   },
   {
    "duration": 17,
    "start_time": "2022-02-26T11:31:19.147Z"
   },
   {
    "duration": 8,
    "start_time": "2022-02-26T11:31:19.166Z"
   },
   {
    "duration": 6,
    "start_time": "2022-02-26T11:31:19.176Z"
   },
   {
    "duration": 33,
    "start_time": "2022-02-26T11:31:19.184Z"
   },
   {
    "duration": 13,
    "start_time": "2022-02-26T11:31:19.219Z"
   },
   {
    "duration": 15,
    "start_time": "2022-02-26T11:31:19.234Z"
   },
   {
    "duration": 116,
    "start_time": "2022-02-26T11:31:19.251Z"
   },
   {
    "duration": 51,
    "start_time": "2022-02-26T11:31:19.369Z"
   },
   {
    "duration": 61,
    "start_time": "2022-02-26T11:31:19.422Z"
   },
   {
    "duration": 65,
    "start_time": "2022-02-26T11:31:19.485Z"
   },
   {
    "duration": 69,
    "start_time": "2022-02-26T11:31:19.552Z"
   },
   {
    "duration": 120,
    "start_time": "2022-02-26T11:31:19.623Z"
   },
   {
    "duration": 47,
    "start_time": "2022-02-26T11:31:19.745Z"
   },
   {
    "duration": 91,
    "start_time": "2022-02-26T11:31:19.794Z"
   },
   {
    "duration": 68,
    "start_time": "2022-02-26T11:31:19.887Z"
   },
   {
    "duration": 86,
    "start_time": "2022-02-26T11:31:19.957Z"
   },
   {
    "duration": 16,
    "start_time": "2022-02-26T11:31:20.045Z"
   },
   {
    "duration": 10,
    "start_time": "2022-02-26T11:31:20.064Z"
   },
   {
    "duration": 38,
    "start_time": "2022-02-26T11:31:20.075Z"
   },
   {
    "duration": 29,
    "start_time": "2022-02-26T11:31:20.115Z"
   },
   {
    "duration": 24,
    "start_time": "2022-02-26T11:31:20.146Z"
   },
   {
    "duration": 8,
    "start_time": "2022-02-26T11:31:20.172Z"
   },
   {
    "duration": 41,
    "start_time": "2022-02-26T11:31:20.182Z"
   },
   {
    "duration": 267,
    "start_time": "2022-02-26T11:31:20.225Z"
   },
   {
    "duration": 31,
    "start_time": "2022-02-26T11:31:20.494Z"
   },
   {
    "duration": 5,
    "start_time": "2022-02-26T11:31:20.527Z"
   },
   {
    "duration": 9,
    "start_time": "2022-02-26T11:31:20.534Z"
   },
   {
    "duration": 7,
    "start_time": "2022-02-26T11:31:20.545Z"
   },
   {
    "duration": 7,
    "start_time": "2022-02-26T11:31:20.554Z"
   },
   {
    "duration": 7,
    "start_time": "2022-02-26T11:31:20.562Z"
   },
   {
    "duration": 247,
    "start_time": "2022-02-26T11:31:20.570Z"
   },
   {
    "duration": 21,
    "start_time": "2022-02-26T11:31:20.819Z"
   },
   {
    "duration": 5,
    "start_time": "2022-02-26T11:31:20.842Z"
   },
   {
    "duration": 7,
    "start_time": "2022-02-26T11:31:20.849Z"
   },
   {
    "duration": 4,
    "start_time": "2022-02-26T11:31:20.858Z"
   },
   {
    "duration": 12,
    "start_time": "2022-02-26T11:31:20.864Z"
   },
   {
    "duration": 253,
    "start_time": "2022-02-26T11:31:20.878Z"
   },
   {
    "duration": 14,
    "start_time": "2022-02-26T11:31:21.133Z"
   },
   {
    "duration": 188,
    "start_time": "2022-02-26T11:31:21.149Z"
   },
   {
    "duration": 20,
    "start_time": "2022-02-26T11:31:21.339Z"
   },
   {
    "duration": 7,
    "start_time": "2022-02-26T11:31:21.361Z"
   },
   {
    "duration": 9,
    "start_time": "2022-02-26T11:31:21.370Z"
   },
   {
    "duration": 27,
    "start_time": "2022-02-26T11:31:21.386Z"
   },
   {
    "duration": 5,
    "start_time": "2022-02-26T11:31:21.415Z"
   },
   {
    "duration": 243,
    "start_time": "2022-02-26T11:31:21.422Z"
   },
   {
    "duration": 18,
    "start_time": "2022-02-26T11:31:21.667Z"
   },
   {
    "duration": 24,
    "start_time": "2022-02-26T11:31:21.687Z"
   },
   {
    "duration": 36,
    "start_time": "2022-02-26T11:31:21.713Z"
   },
   {
    "duration": 25,
    "start_time": "2022-02-26T11:31:21.750Z"
   },
   {
    "duration": 33,
    "start_time": "2022-02-26T11:31:21.776Z"
   },
   {
    "duration": 212,
    "start_time": "2022-02-26T11:31:21.811Z"
   },
   {
    "duration": 15,
    "start_time": "2022-02-26T11:31:22.025Z"
   },
   {
    "duration": 194,
    "start_time": "2022-02-26T11:31:22.042Z"
   },
   {
    "duration": 19,
    "start_time": "2022-02-26T11:31:22.238Z"
   },
   {
    "duration": 5,
    "start_time": "2022-02-26T11:31:22.259Z"
   },
   {
    "duration": 6,
    "start_time": "2022-02-26T11:31:22.266Z"
   },
   {
    "duration": 10,
    "start_time": "2022-02-26T11:31:22.274Z"
   },
   {
    "duration": 32,
    "start_time": "2022-02-26T11:31:22.286Z"
   },
   {
    "duration": 295,
    "start_time": "2022-02-26T11:31:22.319Z"
   },
   {
    "duration": 21,
    "start_time": "2022-02-26T11:31:22.616Z"
   },
   {
    "duration": 7,
    "start_time": "2022-02-26T11:31:22.639Z"
   },
   {
    "duration": 11,
    "start_time": "2022-02-26T11:31:22.647Z"
   },
   {
    "duration": 6,
    "start_time": "2022-02-26T11:31:22.660Z"
   },
   {
    "duration": 7,
    "start_time": "2022-02-26T11:31:22.667Z"
   },
   {
    "duration": 235,
    "start_time": "2022-02-26T11:31:22.676Z"
   },
   {
    "duration": 14,
    "start_time": "2022-02-26T11:31:22.913Z"
   },
   {
    "duration": 189,
    "start_time": "2022-02-26T11:31:22.929Z"
   },
   {
    "duration": 4296,
    "start_time": "2022-02-26T11:31:23.120Z"
   },
   {
    "duration": 4067,
    "start_time": "2022-02-26T11:31:27.418Z"
   },
   {
    "duration": 29,
    "start_time": "2022-02-26T11:31:31.486Z"
   },
   {
    "duration": 50,
    "start_time": "2022-02-26T11:31:31.518Z"
   },
   {
    "duration": 13,
    "start_time": "2022-02-26T11:31:31.570Z"
   },
   {
    "duration": 27,
    "start_time": "2022-02-26T11:31:31.584Z"
   },
   {
    "duration": 17,
    "start_time": "2022-02-26T11:31:31.613Z"
   },
   {
    "duration": 22,
    "start_time": "2022-02-26T11:31:31.632Z"
   },
   {
    "duration": 16,
    "start_time": "2022-02-26T11:31:31.656Z"
   },
   {
    "duration": 17,
    "start_time": "2022-02-26T11:31:31.674Z"
   },
   {
    "duration": 13,
    "start_time": "2022-02-26T11:31:31.693Z"
   },
   {
    "duration": 23,
    "start_time": "2022-02-26T11:31:31.708Z"
   },
   {
    "duration": 12,
    "start_time": "2022-02-26T11:31:31.733Z"
   },
   {
    "duration": 25,
    "start_time": "2022-02-26T11:31:31.747Z"
   },
   {
    "duration": 37,
    "start_time": "2022-02-26T11:31:31.774Z"
   },
   {
    "duration": 27,
    "start_time": "2022-02-26T11:31:31.813Z"
   },
   {
    "duration": 5,
    "start_time": "2022-02-26T11:31:31.841Z"
   },
   {
    "duration": 20,
    "start_time": "2022-02-26T11:31:31.848Z"
   },
   {
    "duration": 25,
    "start_time": "2022-02-26T11:31:31.870Z"
   },
   {
    "duration": 20,
    "start_time": "2022-02-26T11:31:31.897Z"
   },
   {
    "duration": 38,
    "start_time": "2022-02-26T11:31:31.919Z"
   },
   {
    "duration": 12,
    "start_time": "2022-02-26T11:31:31.959Z"
   },
   {
    "duration": 14,
    "start_time": "2022-02-26T11:31:31.973Z"
   },
   {
    "duration": 12,
    "start_time": "2022-02-26T11:31:31.989Z"
   },
   {
    "duration": 15,
    "start_time": "2022-02-26T11:31:32.003Z"
   }
  ],
  "kernelspec": {
   "display_name": "Python 3 (ipykernel)",
   "language": "python",
   "name": "python3"
  },
  "language_info": {
   "codemirror_mode": {
    "name": "ipython",
    "version": 3
   },
   "file_extension": ".py",
   "mimetype": "text/x-python",
   "name": "python",
   "nbconvert_exporter": "python",
   "pygments_lexer": "ipython3",
   "version": "3.9.7"
  },
  "toc": {
   "base_numbering": "1",
   "nav_menu": {},
   "number_sections": true,
   "sideBar": true,
   "skip_h1_title": true,
   "title_cell": "Table of Contents",
   "title_sidebar": "Contents",
   "toc_cell": false,
   "toc_position": {
    "height": "calc(100% - 180px)",
    "left": "10px",
    "top": "150px",
    "width": "318.391px"
   },
   "toc_section_display": true,
   "toc_window_display": true
  }
 },
 "nbformat": 4,
 "nbformat_minor": 2
}
